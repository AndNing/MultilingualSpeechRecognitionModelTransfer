{
 "nbformat": 4,
 "nbformat_minor": 0,
 "metadata": {
  "kernelspec": {
   "display_name": "Python 3",
   "language": "python",
   "name": "python3"
  },
  "language_info": {
   "codemirror_mode": {
    "name": "ipython",
    "version": 2
   },
   "file_extension": ".py",
   "mimetype": "text/x-python",
   "name": "python",
   "nbconvert_exporter": "python",
   "pygments_lexer": "ipython2",
   "version": "2.7.6"
  },
  "colab": {
   "name": "model5.ipynb",
   "provenance": [],
   "collapsed_sections": [],
   "machine_shape": "hm"
  },
  "accelerator": "GPU"
 },
 "cells": [
  {
   "cell_type": "code",
   "metadata": {
    "id": "FBGMX2iE87o7",
    "executionInfo": {
     "status": "ok",
     "timestamp": 1638887726622,
     "user_tz": 300,
     "elapsed": 145,
     "user": {
      "displayName": "Andrew Ning",
      "photoUrl": "https://lh3.googleusercontent.com/a-/AOh14GgyUiXynCeybWnGTpfHnOSTarAoJjvj-8rK8oxkzQ=s64",
      "userId": "04097743773373129918"
     }
    }
   },
   "source": [
    "# from google.colab import drive\n",
    "# drive.mount('/content/drive', force_remount=True)"
   ],
   "execution_count": 89,
   "outputs": []
  },
  {
   "cell_type": "code",
   "metadata": {
    "id": "QjBzZQLO9A6b",
    "executionInfo": {
     "status": "ok",
     "timestamp": 1638887726942,
     "user_tz": 300,
     "elapsed": 155,
     "user": {
      "displayName": "Andrew Ning",
      "photoUrl": "https://lh3.googleusercontent.com/a-/AOh14GgyUiXynCeybWnGTpfHnOSTarAoJjvj-8rK8oxkzQ=s64",
      "userId": "04097743773373129918"
     }
    }
   },
   "source": [
    "# !cp '/content/drive/MyDrive/spectrograms.zip' ."
   ],
   "execution_count": 90,
   "outputs": []
  },
  {
   "cell_type": "code",
   "metadata": {
    "id": "1Gm_dvHm-c-t",
    "executionInfo": {
     "status": "ok",
     "timestamp": 1638887726943,
     "user_tz": 300,
     "elapsed": 7,
     "user": {
      "displayName": "Andrew Ning",
      "photoUrl": "https://lh3.googleusercontent.com/a-/AOh14GgyUiXynCeybWnGTpfHnOSTarAoJjvj-8rK8oxkzQ=s64",
      "userId": "04097743773373129918"
     }
    }
   },
   "source": [
    "# !unzip -q spectrograms.zip"
   ],
   "execution_count": 91,
   "outputs": []
  },
  {
   "cell_type": "code",
   "metadata": {
    "id": "uRg8Jcd4d0uU",
    "executionInfo": {
     "status": "ok",
     "timestamp": 1638887726943,
     "user_tz": 300,
     "elapsed": 6,
     "user": {
      "displayName": "Andrew Ning",
      "photoUrl": "https://lh3.googleusercontent.com/a-/AOh14GgyUiXynCeybWnGTpfHnOSTarAoJjvj-8rK8oxkzQ=s64",
      "userId": "04097743773373129918"
     }
    }
   },
   "source": [
    "# !pip list"
   ],
   "execution_count": 92,
   "outputs": []
  },
  {
   "cell_type": "code",
   "metadata": {
    "id": "tJaFtYtmK2QN",
    "executionInfo": {
     "status": "ok",
     "timestamp": 1638887727125,
     "user_tz": 300,
     "elapsed": 188,
     "user": {
      "displayName": "Andrew Ning",
      "photoUrl": "https://lh3.googleusercontent.com/a-/AOh14GgyUiXynCeybWnGTpfHnOSTarAoJjvj-8rK8oxkzQ=s64",
      "userId": "04097743773373129918"
     }
    }
   },
   "source": [
    "# !rm -r /content/logs"
   ],
   "execution_count": 93,
   "outputs": []
  },
  {
   "cell_type": "code",
   "metadata": {
    "pycharm": {
     "name": "#%%\n"
    },
    "id": "y6UkqZY085Tn",
    "executionInfo": {
     "status": "ok",
     "timestamp": 1638887727126,
     "user_tz": 300,
     "elapsed": 8,
     "user": {
      "displayName": "Andrew Ning",
      "photoUrl": "https://lh3.googleusercontent.com/a-/AOh14GgyUiXynCeybWnGTpfHnOSTarAoJjvj-8rK8oxkzQ=s64",
      "userId": "04097743773373129918"
     }
    }
   },
   "source": [
    "import keras.callbacks\n",
    "import tensorflow as tf\n",
    "import numpy as np\n",
    "from sklearn.preprocessing import StandardScaler\n",
    "import matplotlib.pyplot as plt\n",
    "from tensorflow.keras.utils import Sequence\n",
    "import math\n",
    "import pandas as pd\n",
    "import random\n",
    "from tensorflow.keras import models, layers, callbacks, activations\n",
    "\n",
    "import librosa\n",
    "import librosa.display\n",
    "\n",
    "import warnings\n",
    "\n",
    "import pickle\n",
    "\n",
    "AUTOTUNE = tf.data.AUTOTUNE\n",
    "\n",
    "# tf.config.run_functions_eagerly(True)"
   ],
   "execution_count": 94,
   "outputs": []
  },
  {
   "cell_type": "code",
   "metadata": {
    "collapsed": true,
    "id": "SmkFFn7Q85Tr",
    "executionInfo": {
     "status": "ok",
     "timestamp": 1638887727127,
     "user_tz": 300,
     "elapsed": 8,
     "user": {
      "displayName": "Andrew Ning",
      "photoUrl": "https://lh3.googleusercontent.com/a-/AOh14GgyUiXynCeybWnGTpfHnOSTarAoJjvj-8rK8oxkzQ=s64",
      "userId": "04097743773373129918"
     }
    }
   },
   "source": [
    "SAMPLE_RATE = 24000\n",
    "FREQ_SIZE = 188\n",
    "SECONDS = 4\n",
    "\n",
    "N_MFCC = 100\n",
    "\n",
    "BATCH_SIZE_TRAIN = 25\n",
    "BATCH_SIZE_TEST = 1\n",
    "BATCH_SIZE_VAL = 50\n",
    "EPOCHS = 75\n",
    "\n",
    "NUM_TRAIN = 900\n",
    "NUM_VAL = 500\n",
    "NUM_TEST = 250\n",
    "\n",
    "STEPS_PER_EPOCH = NUM_TRAIN // BATCH_SIZE_TRAIN\n",
    "\n",
    "NUM_LANGUAGES = 1\n",
    "LANGUAGES = ['EN','ES','FR','DE','CA']\n",
    "\n",
    "LOG_DIR = \"/content/logs/model\" + str(NUM_LANGUAGES) + \"-\"\n",
    "\n",
    "SEED = 0\n",
    "tf.random.set_seed(SEED)\n",
    "np.random.seed(SEED)\n",
    "\n",
    "LEARNING_RATE = 0.0001"
   ],
   "execution_count": 95,
   "outputs": []
  },
  {
   "cell_type": "code",
   "metadata": {
    "id": "3i2so4138Y8K",
    "executionInfo": {
     "status": "ok",
     "timestamp": 1638887727127,
     "user_tz": 300,
     "elapsed": 8,
     "user": {
      "displayName": "Andrew Ning",
      "photoUrl": "https://lh3.googleusercontent.com/a-/AOh14GgyUiXynCeybWnGTpfHnOSTarAoJjvj-8rK8oxkzQ=s64",
      "userId": "04097743773373129918"
     }
    }
   },
   "source": [
    "BASE_DIR_EN = '/content/spectrograms/en/clips/'\n",
    "TRAIN_PATH_EN = '/content/spectrograms/en/train.tsv'\n",
    "TEST_PATH_EN = '/content/spectrograms/en/test.tsv'\n",
    "VAL_PATH_EN = '/content/spectrograms/en/val.tsv'\n",
    "\n",
    "NUM_TRAIN_EN = NUM_TRAIN\n",
    "NUM_VAL_EN = NUM_VAL\n",
    "NUM_TEST_EN = NUM_TEST\n",
    "\n",
    "LABELS_EN = ['zero','one','two','three','four','five','six','seven','eight','nine','ten','Hey','yes','no','Firefox']\n",
    "NUM_LABELS_EN = len(LABELS_EN)"
   ],
   "execution_count": 96,
   "outputs": []
  },
  {
   "cell_type": "code",
   "metadata": {
    "id": "Ff44tQaq90MK",
    "executionInfo": {
     "status": "ok",
     "timestamp": 1638887727128,
     "user_tz": 300,
     "elapsed": 9,
     "user": {
      "displayName": "Andrew Ning",
      "photoUrl": "https://lh3.googleusercontent.com/a-/AOh14GgyUiXynCeybWnGTpfHnOSTarAoJjvj-8rK8oxkzQ=s64",
      "userId": "04097743773373129918"
     }
    }
   },
   "source": [
    "BASE_DIR_ES = '/content/spectrograms/es/clips/'\n",
    "TRAIN_PATH_ES = '/content/spectrograms/es/train.tsv'\n",
    "TEST_PATH_ES = '/content/spectrograms/es/test.tsv'\n",
    "VAL_PATH_ES = '/content/spectrograms/es/val.tsv'\n",
    "\n",
    "NUM_TRAIN_ES = NUM_TRAIN\n",
    "NUM_VAL_ES = NUM_VAL\n",
    "NUM_TEST_ES = NUM_TEST\n",
    "\n",
    "LABELS_ES = ['cero','cinco','cuatro','dos','Firefox','Hey','no','neuve','ocho','seis','siete','tres','uno','sí']\n",
    "NUM_LABELS_ES = len(LABELS_ES)"
   ],
   "execution_count": 97,
   "outputs": []
  },
  {
   "cell_type": "code",
   "metadata": {
    "id": "i2habfC7v2d1",
    "executionInfo": {
     "status": "ok",
     "timestamp": 1638887727128,
     "user_tz": 300,
     "elapsed": 8,
     "user": {
      "displayName": "Andrew Ning",
      "photoUrl": "https://lh3.googleusercontent.com/a-/AOh14GgyUiXynCeybWnGTpfHnOSTarAoJjvj-8rK8oxkzQ=s64",
      "userId": "04097743773373129918"
     }
    }
   },
   "source": [
    "BASE_DIR_FR = '/content/spectrograms/fr/clips/'\n",
    "TRAIN_PATH_FR = '/content/spectrograms/fr/train.tsv'\n",
    "TEST_PATH_FR = '/content/spectrograms/fr/test.tsv'\n",
    "VAL_PATH_FR = '/content/spectrograms/fr/val.tsv'\n",
    "\n",
    "NUM_TRAIN_FR = NUM_TRAIN\n",
    "NUM_VAL_FR = NUM_VAL\n",
    "NUM_TEST_FR = NUM_TEST\n",
    "\n",
    "LABELS_FR = ['zéro','un','deux','trois','quatre','cinq','six','sept','huit','neuf','dix','Hey','oui','non','Firefox']\n",
    "NUM_LABELS_FR = len(LABELS_FR)"
   ],
   "execution_count": 98,
   "outputs": []
  },
  {
   "cell_type": "code",
   "metadata": {
    "id": "3J-nqAq-Ha9g",
    "executionInfo": {
     "status": "ok",
     "timestamp": 1638887727129,
     "user_tz": 300,
     "elapsed": 9,
     "user": {
      "displayName": "Andrew Ning",
      "photoUrl": "https://lh3.googleusercontent.com/a-/AOh14GgyUiXynCeybWnGTpfHnOSTarAoJjvj-8rK8oxkzQ=s64",
      "userId": "04097743773373129918"
     }
    }
   },
   "source": [
    "BASE_DIR_DE = '/content/spectrograms/de/clips/'\n",
    "TRAIN_PATH_DE = '/content/spectrograms/de/train.tsv'\n",
    "TEST_PATH_DE = '/content/spectrograms/de/test.tsv'\n",
    "VAL_PATH_DE = '/content/spectrograms/de/val.tsv'\n",
    "\n",
    "NUM_TRAIN_DE = NUM_TRAIN\n",
    "NUM_VAL_DE = NUM_VAL\n",
    "NUM_TEST_DE = NUM_TEST\n",
    "\n",
    "LABELS_DE = ['zwei','vier','sieben','sechs','neun','nein','nan','ja','fünf','eins','drei','acht','Hey','Hei','Firefox']\n",
    "NUM_LABELS_DE = len(LABELS_DE)"
   ],
   "execution_count": 99,
   "outputs": []
  },
  {
   "cell_type": "code",
   "metadata": {
    "id": "34bwTJl3Q7hs",
    "executionInfo": {
     "status": "ok",
     "timestamp": 1638887727129,
     "user_tz": 300,
     "elapsed": 9,
     "user": {
      "displayName": "Andrew Ning",
      "photoUrl": "https://lh3.googleusercontent.com/a-/AOh14GgyUiXynCeybWnGTpfHnOSTarAoJjvj-8rK8oxkzQ=s64",
      "userId": "04097743773373129918"
     }
    }
   },
   "source": [
    "BASE_DIR_CA = '/content/spectrograms/ca/clips/'\n",
    "TRAIN_PATH_CA = '/content/spectrograms/ca/train.tsv'\n",
    "TEST_PATH_CA = '/content/spectrograms/ca/test.tsv'\n",
    "VAL_PATH_CA = '/content/spectrograms/ca/val.tsv'\n",
    "\n",
    "NUM_TRAIN_CA = NUM_TRAIN\n",
    "NUM_VAL_CA = NUM_VAL\n",
    "NUM_TEST_CA = NUM_TEST\n",
    "\n",
    "LABELS_CA = ['Ei','Firefox','cinc','dos','no','nou','quatre','set','sis','sí','tres','u','vuit','zero']\n",
    "NUM_LABELS_CA = len(LABELS_CA)"
   ],
   "execution_count": 100,
   "outputs": []
  },
  {
   "cell_type": "code",
   "metadata": {
    "pycharm": {
     "name": "#%%\n"
    },
    "id": "UAgyKnOC85Ts",
    "executionInfo": {
     "status": "ok",
     "timestamp": 1638887727306,
     "user_tz": 300,
     "elapsed": 186,
     "user": {
      "displayName": "Andrew Ning",
      "photoUrl": "https://lh3.googleusercontent.com/a-/AOh14GgyUiXynCeybWnGTpfHnOSTarAoJjvj-8rK8oxkzQ=s64",
      "userId": "04097743773373129918"
     }
    }
   },
   "source": [
    "def padaudio(waveform):\n",
    "    if (len(waveform) >= SAMPLE_RATE * SECONDS):\n",
    "        return waveform\n",
    "    else:\n",
    "        return np.pad(waveform,(0,SAMPLE_RATE * SECONDS - len(waveform)),mode='constant', constant_values=(0,0))\n",
    "\n",
    "# def processdata(file):\n",
    "#     waveform,sample_rate = librosa.load(file, SAMPLE_RATE)\n",
    "#     waveform = padaudio(waveform)\n",
    "#     mfccs = librosa.feature.mfcc(waveform,sr=sample_rate,n_mfcc=N_MFCC)\n",
    "#     mfccs = np.moveaxis(mfccs,1,0)\n",
    "#     scaler = StandardScaler()\n",
    "#     mfccs_scaled = scaler.fit_transform(mfccs)\n",
    "#     return mfccs_scaled.reshape(mfccs_scaled.shape[0], mfccs_scaled.shape[1],1)\n",
    "\n",
    "def processdata(file):\n",
    "  filename = file.split(\".\")[0] + '.pkl'\n",
    "  with open(filename,'rb') as f:\n",
    "    spectrogram = pickle.load(f)\n",
    "\n",
    "  return spectrogram"
   ],
   "execution_count": 101,
   "outputs": []
  },
  {
   "cell_type": "code",
   "metadata": {
    "pycharm": {
     "name": "#%%\n"
    },
    "id": "Wd1vyGP585Tt",
    "executionInfo": {
     "status": "ok",
     "timestamp": 1638887727307,
     "user_tz": 300,
     "elapsed": 12,
     "user": {
      "displayName": "Andrew Ning",
      "photoUrl": "https://lh3.googleusercontent.com/a-/AOh14GgyUiXynCeybWnGTpfHnOSTarAoJjvj-8rK8oxkzQ=s64",
      "userId": "04097743773373129918"
     }
    }
   },
   "source": [
    "def getlabel(onehot,labels):\n",
    "    index = np.argmax(onehot)\n",
    "    label = labels[index]\n",
    "    return label\n",
    "\n",
    "def getonehot(label,labels):\n",
    "    onehot = np.array([1 if x == label else 0 for x in labels])\n",
    "    return onehot"
   ],
   "execution_count": 102,
   "outputs": []
  },
  {
   "cell_type": "code",
   "metadata": {
    "pycharm": {
     "name": "#%%\n"
    },
    "id": "CvKOaLpA85Tt",
    "executionInfo": {
     "status": "ok",
     "timestamp": 1638887727308,
     "user_tz": 300,
     "elapsed": 13,
     "user": {
      "displayName": "Andrew Ning",
      "photoUrl": "https://lh3.googleusercontent.com/a-/AOh14GgyUiXynCeybWnGTpfHnOSTarAoJjvj-8rK8oxkzQ=s64",
      "userId": "04097743773373129918"
     }
    }
   },
   "source": [
    "def getdata(df,base_dir):\n",
    "    df['fullpath'] = base_dir + df['path']\n",
    "    inputs = df['fullpath'].tolist()\n",
    "    labels = df['sentence'].tolist()\n",
    "    x = np.array(inputs)\n",
    "    y = np.array(labels)\n",
    "    return x,y"
   ],
   "execution_count": 103,
   "outputs": []
  },
  {
   "cell_type": "code",
   "metadata": {
    "pycharm": {
     "name": "#%%\n"
    },
    "id": "vdTuxSsg85Tu",
    "colab": {
     "base_uri": "https://localhost:8080/"
    },
    "executionInfo": {
     "status": "ok",
     "timestamp": 1638887727308,
     "user_tz": 300,
     "elapsed": 13,
     "user": {
      "displayName": "Andrew Ning",
      "photoUrl": "https://lh3.googleusercontent.com/a-/AOh14GgyUiXynCeybWnGTpfHnOSTarAoJjvj-8rK8oxkzQ=s64",
      "userId": "04097743773373129918"
     }
    },
    "outputId": "bc0635f7-aa75-4d71-e871-91e532f7d290"
   },
   "source": [
    "dftrainEN = pd.read_csv(TRAIN_PATH_EN, sep='\\t', header=0)\n",
    "dftrainEN.sort_values(by='length',ascending=False,inplace=True)\n",
    "trainxEN,trainyEN, = getdata(dftrainEN.head(NUM_TRAIN_EN), BASE_DIR_EN)\n",
    "\n",
    "dfvalEN = pd.read_csv(VAL_PATH_EN, sep='\\t', header=0)\n",
    "dfvalEN.sort_values(by='length',ascending=False,inplace=True)\n",
    "valxEN,valyEN, = getdata(dfvalEN.head(NUM_VAL_EN), BASE_DIR_EN)\n",
    "\n",
    "dftestEN = pd.read_csv(TEST_PATH_EN, sep='\\t', header=0)\n",
    "dftestEN.sort_values(by='length',ascending=False,inplace=True)\n",
    "testxEN,testyEN, = getdata(dftestEN.head(NUM_TEST_EN), BASE_DIR_EN)"
   ],
   "execution_count": 104,
   "outputs": [
    {
     "output_type": "stream",
     "name": "stderr",
     "text": [
      "/usr/local/lib/python3.7/dist-packages/ipykernel_launcher.py:2: SettingWithCopyWarning: \n",
      "A value is trying to be set on a copy of a slice from a DataFrame.\n",
      "Try using .loc[row_indexer,col_indexer] = value instead\n",
      "\n",
      "See the caveats in the documentation: https://pandas.pydata.org/pandas-docs/stable/user_guide/indexing.html#returning-a-view-versus-a-copy\n",
      "  \n"
     ]
    }
   ]
  },
  {
   "cell_type": "code",
   "metadata": {
    "colab": {
     "base_uri": "https://localhost:8080/"
    },
    "id": "PegcKx9pA_Ps",
    "executionInfo": {
     "status": "ok",
     "timestamp": 1638887727309,
     "user_tz": 300,
     "elapsed": 11,
     "user": {
      "displayName": "Andrew Ning",
      "photoUrl": "https://lh3.googleusercontent.com/a-/AOh14GgyUiXynCeybWnGTpfHnOSTarAoJjvj-8rK8oxkzQ=s64",
      "userId": "04097743773373129918"
     }
    },
    "outputId": "c6ab638a-a9ca-4a76-95c2-0bd95a56b873"
   },
   "source": [
    "dftrainES = pd.read_csv(TRAIN_PATH_ES, sep='\\t', header=0)\n",
    "dftrainES.sort_values(by='length',ascending=False,inplace=True)\n",
    "trainxES,trainyES, = getdata(dftrainES.head(NUM_TRAIN_ES), BASE_DIR_ES)\n",
    "\n",
    "dfvalES = pd.read_csv(VAL_PATH_ES, sep='\\t', header=0)\n",
    "dfvalES.sort_values(by='length',ascending=False,inplace=True)\n",
    "valxES,valyES, = getdata(dfvalES.head(NUM_VAL_ES), BASE_DIR_ES)\n",
    "\n",
    "dftestES = pd.read_csv(TEST_PATH_ES, sep='\\t', header=0)\n",
    "dftestES.sort_values(by='length',ascending=False,inplace=True)\n",
    "testxES,testyES, = getdata(dftestES.head(NUM_TEST_ES), BASE_DIR_ES)"
   ],
   "execution_count": 105,
   "outputs": [
    {
     "output_type": "stream",
     "name": "stderr",
     "text": [
      "/usr/local/lib/python3.7/dist-packages/ipykernel_launcher.py:2: SettingWithCopyWarning: \n",
      "A value is trying to be set on a copy of a slice from a DataFrame.\n",
      "Try using .loc[row_indexer,col_indexer] = value instead\n",
      "\n",
      "See the caveats in the documentation: https://pandas.pydata.org/pandas-docs/stable/user_guide/indexing.html#returning-a-view-versus-a-copy\n",
      "  \n"
     ]
    }
   ]
  },
  {
   "cell_type": "code",
   "metadata": {
    "colab": {
     "base_uri": "https://localhost:8080/"
    },
    "id": "Admk-a7W9hUr",
    "executionInfo": {
     "status": "ok",
     "timestamp": 1638887727503,
     "user_tz": 300,
     "elapsed": 200,
     "user": {
      "displayName": "Andrew Ning",
      "photoUrl": "https://lh3.googleusercontent.com/a-/AOh14GgyUiXynCeybWnGTpfHnOSTarAoJjvj-8rK8oxkzQ=s64",
      "userId": "04097743773373129918"
     }
    },
    "outputId": "d5fefda4-1c27-4990-b117-14698a80c9b4"
   },
   "source": [
    "dftrainFR = pd.read_csv(TRAIN_PATH_FR, sep='\\t', header=0)\n",
    "dftrainFR.sort_values(by='length',ascending=False,inplace=True)\n",
    "trainxFR,trainyFR, = getdata(dftrainFR.head(NUM_TRAIN_FR), BASE_DIR_FR)\n",
    "\n",
    "dfvalFR = pd.read_csv(VAL_PATH_FR, sep='\\t', header=0)\n",
    "dfvalFR.sort_values(by='length',ascending=False,inplace=True)\n",
    "valxFR,valyFR, = getdata(dfvalFR.head(NUM_VAL_FR), BASE_DIR_FR)\n",
    "\n",
    "dftestFR = pd.read_csv(TEST_PATH_FR, sep='\\t', header=0)\n",
    "dftestFR.sort_values(by='length',ascending=False,inplace=True)\n",
    "testxFR,testyFR, = getdata(dftestFR.head(NUM_TEST_FR), BASE_DIR_FR)"
   ],
   "execution_count": 106,
   "outputs": [
    {
     "output_type": "stream",
     "name": "stderr",
     "text": [
      "/usr/local/lib/python3.7/dist-packages/ipykernel_launcher.py:2: SettingWithCopyWarning: \n",
      "A value is trying to be set on a copy of a slice from a DataFrame.\n",
      "Try using .loc[row_indexer,col_indexer] = value instead\n",
      "\n",
      "See the caveats in the documentation: https://pandas.pydata.org/pandas-docs/stable/user_guide/indexing.html#returning-a-view-versus-a-copy\n",
      "  \n"
     ]
    }
   ]
  },
  {
   "cell_type": "code",
   "metadata": {
    "colab": {
     "base_uri": "https://localhost:8080/"
    },
    "id": "tMWCMC-SHo0m",
    "executionInfo": {
     "status": "ok",
     "timestamp": 1638887727504,
     "user_tz": 300,
     "elapsed": 20,
     "user": {
      "displayName": "Andrew Ning",
      "photoUrl": "https://lh3.googleusercontent.com/a-/AOh14GgyUiXynCeybWnGTpfHnOSTarAoJjvj-8rK8oxkzQ=s64",
      "userId": "04097743773373129918"
     }
    },
    "outputId": "31c82d6c-20de-44d2-9c8d-77963ddeddf0"
   },
   "source": [
    "dftrainDE = pd.read_csv(TRAIN_PATH_DE, sep='\\t', header=0)\n",
    "dftrainDE.sort_values(by='length',ascending=False,inplace=True)\n",
    "trainxDE,trainyDE, = getdata(dftrainDE.head(NUM_TRAIN_DE), BASE_DIR_DE)\n",
    "\n",
    "dfvalDE = pd.read_csv(VAL_PATH_DE, sep='\\t', header=0)\n",
    "dfvalDE.sort_values(by='length',ascending=False,inplace=True)\n",
    "valxDE,valyDE, = getdata(dfvalDE.head(NUM_VAL_DE), BASE_DIR_DE)\n",
    "\n",
    "dftestDE = pd.read_csv(TEST_PATH_DE, sep='\\t', header=0)\n",
    "dftestDE.sort_values(by='length',ascending=False,inplace=True)\n",
    "testxDE,testyDE, = getdata(dftestDE.head(NUM_TEST_DE), BASE_DIR_DE)"
   ],
   "execution_count": 107,
   "outputs": [
    {
     "output_type": "stream",
     "name": "stderr",
     "text": [
      "/usr/local/lib/python3.7/dist-packages/ipykernel_launcher.py:2: SettingWithCopyWarning: \n",
      "A value is trying to be set on a copy of a slice from a DataFrame.\n",
      "Try using .loc[row_indexer,col_indexer] = value instead\n",
      "\n",
      "See the caveats in the documentation: https://pandas.pydata.org/pandas-docs/stable/user_guide/indexing.html#returning-a-view-versus-a-copy\n",
      "  \n"
     ]
    }
   ]
  },
  {
   "cell_type": "code",
   "metadata": {
    "colab": {
     "base_uri": "https://localhost:8080/"
    },
    "id": "7b5DEQJ2R6O7",
    "executionInfo": {
     "status": "ok",
     "timestamp": 1638887727505,
     "user_tz": 300,
     "elapsed": 15,
     "user": {
      "displayName": "Andrew Ning",
      "photoUrl": "https://lh3.googleusercontent.com/a-/AOh14GgyUiXynCeybWnGTpfHnOSTarAoJjvj-8rK8oxkzQ=s64",
      "userId": "04097743773373129918"
     }
    },
    "outputId": "d4a04d76-b220-4818-83b5-8346016bd5a3"
   },
   "source": [
    "dftrainCA = pd.read_csv(TRAIN_PATH_CA, sep='\\t', header=0)\n",
    "dftrainCA.sort_values(by='length',ascending=False,inplace=True)\n",
    "trainxCA,trainyCA, = getdata(dftrainCA.head(NUM_TRAIN_CA), BASE_DIR_CA)\n",
    "\n",
    "dfvalCA = pd.read_csv(VAL_PATH_CA, sep='\\t', header=0)\n",
    "dfvalCA.sort_values(by='length',ascending=False,inplace=True)\n",
    "valxCA,valyCA, = getdata(dfvalCA.head(NUM_VAL_CA), BASE_DIR_CA)\n",
    "\n",
    "dftestCA = pd.read_csv(TEST_PATH_CA, sep='\\t', header=0)\n",
    "dftestCA.sort_values(by='length',ascending=False,inplace=True)\n",
    "testxCA,testyCA, = getdata(dftestCA.head(NUM_TEST_CA), BASE_DIR_CA)"
   ],
   "execution_count": 108,
   "outputs": [
    {
     "output_type": "stream",
     "name": "stderr",
     "text": [
      "/usr/local/lib/python3.7/dist-packages/ipykernel_launcher.py:2: SettingWithCopyWarning: \n",
      "A value is trying to be set on a copy of a slice from a DataFrame.\n",
      "Try using .loc[row_indexer,col_indexer] = value instead\n",
      "\n",
      "See the caveats in the documentation: https://pandas.pydata.org/pandas-docs/stable/user_guide/indexing.html#returning-a-view-versus-a-copy\n",
      "  \n"
     ]
    }
   ]
  },
  {
   "cell_type": "code",
   "metadata": {
    "pycharm": {
     "name": "#%%\n"
    },
    "id": "IXRZtWYf85Tv",
    "executionInfo": {
     "status": "ok",
     "timestamp": 1638887727505,
     "user_tz": 300,
     "elapsed": 10,
     "user": {
      "displayName": "Andrew Ning",
      "photoUrl": "https://lh3.googleusercontent.com/a-/AOh14GgyUiXynCeybWnGTpfHnOSTarAoJjvj-8rK8oxkzQ=s64",
      "userId": "04097743773373129918"
     }
    }
   },
   "source": [
    "def maketraingenerator(trainxs, trainys):\n",
    "    def traingenerator():\n",
    "        for i in range(len(trainxEN)):\n",
    "            xs = []\n",
    "            ys = []\n",
    "\n",
    "            for trainx,trainy in zip(trainxs,trainys):\n",
    "                with warnings.catch_warnings():\n",
    "                    warnings.simplefilter(\"ignore\")\n",
    "                    xs.append(processdata(trainx[i]))\n",
    "                ys.append(getonehot(trainy[0][i],trainy[1]))\n",
    "\n",
    "            xst = tuple(xs)\n",
    "            yst = tuple(ys)\n",
    "            yield xst,yst\n",
    "    return traingenerator\n",
    "\n",
    "\n",
    "xtypes = tuple([tf.float32]*NUM_LANGUAGES)\n",
    "ytypes = tuple([tf.int32]*NUM_LANGUAGES)\n",
    "traingentypes = (xtypes,ytypes)\n",
    "\n",
    "xshapes = tuple([[FREQ_SIZE,N_MFCC,1] for i in range(NUM_LANGUAGES)])\n",
    "yshapes = tuple([[15]])\n",
    "traingenshapes = (xshapes,yshapes)"
   ],
   "execution_count": 109,
   "outputs": []
  },
  {
   "cell_type": "code",
   "metadata": {
    "id": "40szilg8_TG6",
    "executionInfo": {
     "status": "ok",
     "timestamp": 1638887727506,
     "user_tz": 300,
     "elapsed": 10,
     "user": {
      "displayName": "Andrew Ning",
      "photoUrl": "https://lh3.googleusercontent.com/a-/AOh14GgyUiXynCeybWnGTpfHnOSTarAoJjvj-8rK8oxkzQ=s64",
      "userId": "04097743773373129918"
     }
    }
   },
   "source": [
    "def makevalgenerator(trainxs, trainys):\n",
    "    def traingenerator():\n",
    "        for i in range(len(valxEN)):\n",
    "            xs = []\n",
    "            ys = []\n",
    "\n",
    "            for trainx,trainy in zip(trainxs,trainys):\n",
    "                with warnings.catch_warnings():\n",
    "                    warnings.simplefilter(\"ignore\")\n",
    "                    xs.append(processdata(trainx[i]))\n",
    "                ys.append(getonehot(trainy[0][i],trainy[1]))\n",
    "\n",
    "            xst = tuple(xs)\n",
    "            yst = tuple(ys)\n",
    "            yield xst,yst\n",
    "    return traingenerator"
   ],
   "execution_count": 110,
   "outputs": []
  },
  {
   "cell_type": "code",
   "metadata": {
    "pycharm": {
     "name": "#%%\n"
    },
    "id": "gb0sxUFY85Tw",
    "executionInfo": {
     "status": "ok",
     "timestamp": 1638887727506,
     "user_tz": 300,
     "elapsed": 10,
     "user": {
      "displayName": "Andrew Ning",
      "photoUrl": "https://lh3.googleusercontent.com/a-/AOh14GgyUiXynCeybWnGTpfHnOSTarAoJjvj-8rK8oxkzQ=s64",
      "userId": "04097743773373129918"
     }
    }
   },
   "source": [
    "trainxsEN = [trainxEN]\n",
    "trainysEN = [[trainyEN,LABELS_EN]]\n",
    "\n",
    "trainxsES = [trainxES]\n",
    "trainysES = [[trainyES,LABELS_ES]]\n",
    "\n",
    "trainxsFR = [trainxFR]\n",
    "trainysFR = [[trainyFR,LABELS_FR]]\n",
    "\n",
    "trainxsDE = [trainxDE]\n",
    "trainysDE = [[trainyDE,LABELS_DE]]\n",
    "\n",
    "trainxsCA = [trainxCA]\n",
    "trainysCA = [[trainyCA,LABELS_CA]]\n",
    "\n",
    "valxsEN = [valxEN]\n",
    "valysEN = [[valyEN,LABELS_EN]]\n",
    "\n",
    "valxsES = [valxES]\n",
    "valysES = [[valyES,LABELS_ES]]\n",
    "\n",
    "valxsFR = [valxFR]\n",
    "valysFR = [[valyFR,LABELS_FR]]\n",
    "\n",
    "valxsDE = [valxDE]\n",
    "valysDE = [[valyDE,LABELS_DE]]\n",
    "\n",
    "valxsCA = [valxCA]\n",
    "valysCA = [[valyCA,LABELS_CA]]"
   ],
   "execution_count": 111,
   "outputs": []
  },
  {
   "cell_type": "code",
   "metadata": {
    "id": "SuvKKqKMs0kK",
    "executionInfo": {
     "status": "ok",
     "timestamp": 1638887727507,
     "user_tz": 300,
     "elapsed": 11,
     "user": {
      "displayName": "Andrew Ning",
      "photoUrl": "https://lh3.googleusercontent.com/a-/AOh14GgyUiXynCeybWnGTpfHnOSTarAoJjvj-8rK8oxkzQ=s64",
      "userId": "04097743773373129918"
     }
    }
   },
   "source": [
    "# print(trainxEN[100])"
   ],
   "execution_count": 112,
   "outputs": []
  },
  {
   "cell_type": "code",
   "metadata": {
    "pycharm": {
     "name": "#%%\n"
    },
    "id": "k0QV3oAw85Tx",
    "executionInfo": {
     "status": "ok",
     "timestamp": 1638887727507,
     "user_tz": 300,
     "elapsed": 11,
     "user": {
      "displayName": "Andrew Ning",
      "photoUrl": "https://lh3.googleusercontent.com/a-/AOh14GgyUiXynCeybWnGTpfHnOSTarAoJjvj-8rK8oxkzQ=s64",
      "userId": "04097743773373129918"
     }
    }
   },
   "source": [
    "def maketestgenerator(testx,testy,labels):\n",
    "    def testgenerator():\n",
    "        for i in range(len(testx)):\n",
    "            x = processdata(testx[i])\n",
    "            y = getonehot(testy[i],labels)\n",
    "            yield x,y\n",
    "    return testgenerator\n",
    "\n",
    "testgentypes = (tf.float32,tf.int32)\n",
    "testgenshapes = ([FREQ_SIZE,N_MFCC,1],[15])"
   ],
   "execution_count": 113,
   "outputs": []
  },
  {
   "cell_type": "code",
   "metadata": {
    "pycharm": {
     "name": "#%%\n"
    },
    "id": "5sgBUQOu85Tx",
    "executionInfo": {
     "status": "ok",
     "timestamp": 1638887727673,
     "user_tz": 300,
     "elapsed": 177,
     "user": {
      "displayName": "Andrew Ning",
      "photoUrl": "https://lh3.googleusercontent.com/a-/AOh14GgyUiXynCeybWnGTpfHnOSTarAoJjvj-8rK8oxkzQ=s64",
      "userId": "04097743773373129918"
     }
    }
   },
   "source": [
    "traindatasetEN = tf.data.Dataset.from_generator(maketraingenerator(trainxsEN,trainysEN),output_types=traingentypes,output_shapes=traingenshapes)\n",
    "traindatasetEN = traindatasetEN.shuffle(NUM_TRAIN_EN)\n",
    "traindatasetEN = traindatasetEN.batch(BATCH_SIZE_TRAIN)\n",
    "traindatasetEN = traindatasetEN.repeat(-1)\n",
    "traindatasetEN = traindatasetEN.cache().prefetch(AUTOTUNE)\n",
    "\n",
    "valdatasetEN = tf.data.Dataset.from_generator(makevalgenerator(valxsEN,valysEN),output_types=traingentypes,output_shapes=traingenshapes)\n",
    "valdatasetEN = valdatasetEN.batch(BATCH_SIZE_VAL)\n",
    "valdatasetEN = valdatasetEN.cache().prefetch(AUTOTUNE)\n",
    "\n",
    "testdatasetEN = tf.data.Dataset.from_generator(maketestgenerator(testxEN,testyEN,LABELS_EN),output_types=testgentypes,output_shapes=testgenshapes)\n",
    "testdatasetEN = testdatasetEN.batch(BATCH_SIZE_TEST)"
   ],
   "execution_count": 114,
   "outputs": []
  },
  {
   "cell_type": "code",
   "metadata": {
    "id": "ya1v-ubLzxE5",
    "executionInfo": {
     "status": "ok",
     "timestamp": 1638887727674,
     "user_tz": 300,
     "elapsed": 6,
     "user": {
      "displayName": "Andrew Ning",
      "photoUrl": "https://lh3.googleusercontent.com/a-/AOh14GgyUiXynCeybWnGTpfHnOSTarAoJjvj-8rK8oxkzQ=s64",
      "userId": "04097743773373129918"
     }
    }
   },
   "source": [
    "traindatasetES = tf.data.Dataset.from_generator(maketraingenerator(trainxsES,trainysES),output_types=traingentypes,output_shapes=(xshapes,tuple([[14]])))\n",
    "traindatasetES = traindatasetES.shuffle(NUM_TRAIN_ES)\n",
    "traindatasetES = traindatasetES.batch(BATCH_SIZE_TRAIN)\n",
    "traindatasetES = traindatasetES.repeat(-1)\n",
    "traindatasetES = traindatasetES.cache().prefetch(AUTOTUNE)\n",
    "\n",
    "valdatasetES = tf.data.Dataset.from_generator(makevalgenerator(valxsES,valysES),output_types=traingentypes,output_shapes=(xshapes,tuple([[14]])))\n",
    "valdatasetES = valdatasetES.batch(BATCH_SIZE_VAL)\n",
    "valdatasetES = valdatasetES.cache().prefetch(AUTOTUNE)\n",
    "\n",
    "testdatasetES = tf.data.Dataset.from_generator(maketestgenerator(testxES,testyES,LABELS_ES),output_types=testgentypes,output_shapes=([FREQ_SIZE,N_MFCC,1],[14]))\n",
    "testdatasetES = testdatasetES.batch(BATCH_SIZE_TEST)"
   ],
   "execution_count": 115,
   "outputs": []
  },
  {
   "cell_type": "code",
   "metadata": {
    "id": "STNOB6Gh91ML",
    "executionInfo": {
     "status": "ok",
     "timestamp": 1638887727674,
     "user_tz": 300,
     "elapsed": 5,
     "user": {
      "displayName": "Andrew Ning",
      "photoUrl": "https://lh3.googleusercontent.com/a-/AOh14GgyUiXynCeybWnGTpfHnOSTarAoJjvj-8rK8oxkzQ=s64",
      "userId": "04097743773373129918"
     }
    }
   },
   "source": [
    "traindatasetFR = tf.data.Dataset.from_generator(maketraingenerator(trainxsFR,trainysFR),output_types=traingentypes,output_shapes=(xshapes,tuple([[15]])))\n",
    "traindatasetFR = traindatasetFR.shuffle(NUM_TRAIN_FR)\n",
    "traindatasetFR = traindatasetFR.batch(BATCH_SIZE_TRAIN)\n",
    "traindatasetFR = traindatasetFR.repeat(-1)\n",
    "traindatasetFR = traindatasetFR.cache().prefetch(AUTOTUNE)\n",
    "\n",
    "valdatasetFR = tf.data.Dataset.from_generator(makevalgenerator(valxsFR,valysFR),output_types=traingentypes,output_shapes=(xshapes,tuple([[15]])))\n",
    "valdatasetFR = valdatasetFR.batch(BATCH_SIZE_VAL)\n",
    "valdatasetFR = valdatasetFR.cache().prefetch(AUTOTUNE)\n",
    "\n",
    "testdatasetFR = tf.data.Dataset.from_generator(maketestgenerator(testxFR,testyFR,LABELS_FR),output_types=testgentypes,output_shapes=([FREQ_SIZE,N_MFCC,1],[15]))\n",
    "testdatasetFR = testdatasetFR.batch(BATCH_SIZE_TEST)"
   ],
   "execution_count": 116,
   "outputs": []
  },
  {
   "cell_type": "code",
   "metadata": {
    "id": "gTi90gqJIHKj",
    "executionInfo": {
     "status": "ok",
     "timestamp": 1638887727855,
     "user_tz": 300,
     "elapsed": 186,
     "user": {
      "displayName": "Andrew Ning",
      "photoUrl": "https://lh3.googleusercontent.com/a-/AOh14GgyUiXynCeybWnGTpfHnOSTarAoJjvj-8rK8oxkzQ=s64",
      "userId": "04097743773373129918"
     }
    }
   },
   "source": [
    "traindatasetDE = tf.data.Dataset.from_generator(maketraingenerator(trainxsDE,trainysDE),output_types=traingentypes,output_shapes=(xshapes,tuple([[15]])))\n",
    "traindatasetDE = traindatasetDE.shuffle(NUM_TRAIN_DE)\n",
    "traindatasetDE = traindatasetDE.batch(BATCH_SIZE_TRAIN)\n",
    "traindatasetDE = traindatasetDE.repeat(-1)\n",
    "traindatasetDE = traindatasetDE.cache().prefetch(AUTOTUNE)\n",
    "\n",
    "valdatasetDE = tf.data.Dataset.from_generator(makevalgenerator(valxsDE,valysDE),output_types=traingentypes,output_shapes=(xshapes,tuple([[15]])))\n",
    "valdatasetDE = valdatasetDE.batch(BATCH_SIZE_VAL)\n",
    "valdatasetDE = valdatasetDE.cache().prefetch(AUTOTUNE)\n",
    "\n",
    "testdatasetDE = tf.data.Dataset.from_generator(maketestgenerator(testxDE,testyDE,LABELS_DE),output_types=testgentypes,output_shapes=([FREQ_SIZE,N_MFCC,1],[15]))\n",
    "testdatasetDE = testdatasetDE.batch(BATCH_SIZE_TEST)"
   ],
   "execution_count": 117,
   "outputs": []
  },
  {
   "cell_type": "code",
   "metadata": {
    "id": "rfkXJcMiSTln",
    "executionInfo": {
     "status": "ok",
     "timestamp": 1638887727856,
     "user_tz": 300,
     "elapsed": 6,
     "user": {
      "displayName": "Andrew Ning",
      "photoUrl": "https://lh3.googleusercontent.com/a-/AOh14GgyUiXynCeybWnGTpfHnOSTarAoJjvj-8rK8oxkzQ=s64",
      "userId": "04097743773373129918"
     }
    }
   },
   "source": [
    "traindatasetCA = tf.data.Dataset.from_generator(maketraingenerator(trainxsCA,trainysCA),output_types=traingentypes,output_shapes=(xshapes,tuple([[14]])))\n",
    "traindatasetCA = traindatasetCA.shuffle(NUM_TRAIN_CA)\n",
    "traindatasetCA = traindatasetCA.batch(BATCH_SIZE_TRAIN)\n",
    "traindatasetCA = traindatasetCA.repeat(-1)\n",
    "traindatasetCA = traindatasetCA.cache().prefetch(AUTOTUNE)\n",
    "\n",
    "valdatasetCA = tf.data.Dataset.from_generator(makevalgenerator(valxsCA,valysCA),output_types=traingentypes,output_shapes=(xshapes,tuple([[14]])))\n",
    "valdatasetCA = valdatasetCA.batch(BATCH_SIZE_VAL)\n",
    "valdatasetCA = valdatasetCA.cache().prefetch(AUTOTUNE)\n",
    "\n",
    "testdatasetCA = tf.data.Dataset.from_generator(maketestgenerator(testxCA,testyCA,LABELS_CA),output_types=testgentypes,output_shapes=([FREQ_SIZE,N_MFCC,1],[14]))\n",
    "testdatasetCA = testdatasetCA.batch(BATCH_SIZE_TEST)"
   ],
   "execution_count": 118,
   "outputs": []
  },
  {
   "cell_type": "code",
   "metadata": {
    "id": "zXLxNEpWJeqc",
    "executionInfo": {
     "status": "ok",
     "timestamp": 1638887727856,
     "user_tz": 300,
     "elapsed": 5,
     "user": {
      "displayName": "Andrew Ning",
      "photoUrl": "https://lh3.googleusercontent.com/a-/AOh14GgyUiXynCeybWnGTpfHnOSTarAoJjvj-8rK8oxkzQ=s64",
      "userId": "04097743773373129918"
     }
    }
   },
   "source": [
    "# print(trainxs)"
   ],
   "execution_count": 119,
   "outputs": []
  },
  {
   "cell_type": "code",
   "metadata": {
    "pycharm": {
     "name": "#%%\n"
    },
    "id": "2BeWG7Df85Ty",
    "executionInfo": {
     "status": "ok",
     "timestamp": 1638887727857,
     "user_tz": 300,
     "elapsed": 6,
     "user": {
      "displayName": "Andrew Ning",
      "photoUrl": "https://lh3.googleusercontent.com/a-/AOh14GgyUiXynCeybWnGTpfHnOSTarAoJjvj-8rK8oxkzQ=s64",
      "userId": "04097743773373129918"
     }
    }
   },
   "source": [
    "# traingen = maketraingenerator(trainxs,trainys)\n",
    "# print(next(traingen()))\n",
    "\n",
    "# print(traingentypes)\n",
    "# print(traingenshapes)"
   ],
   "execution_count": 120,
   "outputs": []
  },
  {
   "cell_type": "code",
   "metadata": {
    "pycharm": {
     "name": "#%%\n"
    },
    "id": "9KmIBbT285Ty",
    "executionInfo": {
     "status": "ok",
     "timestamp": 1638887727857,
     "user_tz": 300,
     "elapsed": 6,
     "user": {
      "displayName": "Andrew Ning",
      "photoUrl": "https://lh3.googleusercontent.com/a-/AOh14GgyUiXynCeybWnGTpfHnOSTarAoJjvj-8rK8oxkzQ=s64",
      "userId": "04097743773373129918"
     }
    }
   },
   "source": [
    "def languagelayers(num_labels,language):\n",
    "        lang = keras.Sequential([\n",
    "        layers.Conv2D(filters=128, kernel_size=(3,3), strides=(1,1), padding='same', activation=activations.relu, name=language+'_Conv2D1'),\n",
    "        layers.MaxPooling2D(pool_size=(2,2), strides=(2,2), name=language+'_MaxPool2D1'),\n",
    "        # layers.Conv2D(filters=512, kernel_size=(3,3), padding='same', activation=activations.relu, name=language+'_Conv2D2'),\n",
    "        # layers.MaxPooling2D(pool_size=(3,3), strides=(2,2), name=language+'_MaxPool2D2'),\n",
    "        layers.Flatten(),\n",
    "        layers.Dropout(0.5),\n",
    "        layers.Dense(128, activation=activations.relu, name=language+'_DenseLayer1'),\n",
    "        layers.Dropout(0.5),\n",
    "        layers.Dense(128, activation=activations.relu, name=language+'_DenseLayer2'),\n",
    "        layers.Dropout(0.5),\n",
    "        layers.Dense(num_labels, activation=activations.softmax, name=language+'_Output')\n",
    "        ],\n",
    "        name=language)\n",
    "\n",
    "        return lang"
   ],
   "execution_count": 121,
   "outputs": []
  },
  {
   "cell_type": "code",
   "metadata": {
    "pycharm": {
     "name": "#%%\n"
    },
    "id": "kSoyQRYb85Ty",
    "colab": {
     "base_uri": "https://localhost:8080/",
     "height": 1000
    },
    "executionInfo": {
     "status": "ok",
     "timestamp": 1638887728610,
     "user_tz": 300,
     "elapsed": 758,
     "user": {
      "displayName": "Andrew Ning",
      "photoUrl": "https://lh3.googleusercontent.com/a-/AOh14GgyUiXynCeybWnGTpfHnOSTarAoJjvj-8rK8oxkzQ=s64",
      "userId": "04097743773373129918"
     }
    },
    "outputId": "87e939e9-a678-4b7e-9164-18ef7ac9df06"
   },
   "source": [
    "inputEN = tf.keras.Input(shape=(FREQ_SIZE,N_MFCC,1),name='EN_Input')\n",
    "inputES = tf.keras.Input(shape=(FREQ_SIZE,N_MFCC,1),name='ES_Input')\n",
    "inputFR = tf.keras.Input(shape=(FREQ_SIZE,N_MFCC,1),name='FR_Input')\n",
    "inputDE = tf.keras.Input(shape=(FREQ_SIZE,N_MFCC,1),name='DE_Input')\n",
    "inputCA = tf.keras.Input(shape=(FREQ_SIZE,N_MFCC,1),name='CA_Input')\n",
    "\n",
    "shared = keras.Sequential([\n",
    "    layers.Conv2D(filters=32, kernel_size=(9,9), strides=(2,2), padding='same', activation=activations.relu, name='Shared_Conv2D1'),\n",
    "    layers.MaxPooling2D(pool_size=(3,3), strides=(2,2), name='Shared_MaxPool2D1'),\n",
    "    layers.Conv2D(filters=64, kernel_size=(5,5), strides=(1,1), padding='same', activation=activations.relu, name='Shared_Conv2D2'),\n",
    "    layers.MaxPooling2D(pool_size=(3,3), strides=(2,2), name='Shared_MaxPool2D2'),\n",
    "    layers.Conv2D(filters=128, kernel_size=(3,3), strides=(1,1), padding='same', activation=activations.relu, name='Shared_Conv2D3'),\n",
    "    layers.MaxPooling2D(pool_size=(3,3), strides=(2,2), name='Shared_MaxPool2D3')\n",
    "    ],\n",
    "    name='Shared_Layers'\n",
    ")\n",
    "\n",
    "sharedLayersEN = shared(inputEN)\n",
    "sharedLayersES = shared(inputES)\n",
    "sharedLayersFR = shared(inputFR)\n",
    "sharedLayersDE = shared(inputDE)\n",
    "sharedLayersCA = shared(inputCA)\n",
    "\n",
    "layersEN = languagelayers(NUM_LABELS_EN,'EN')(sharedLayersEN)\n",
    "layersES = languagelayers(NUM_LABELS_ES,'ES')(sharedLayersES)\n",
    "layersFR = languagelayers(NUM_LABELS_FR,'FR')(sharedLayersFR)\n",
    "layersDE = languagelayers(NUM_LABELS_DE,'DE')(sharedLayersDE)\n",
    "layersCA = languagelayers(NUM_LABELS_CA,'CA')(sharedLayersCA)\n",
    "\n",
    "\n",
    "modelFullEN = tf.keras.Model(\n",
    "    inputs=[inputEN],\n",
    "    outputs=[layersEN],\n",
    "    name='Full_Model_EN'\n",
    ")\n",
    "\n",
    "\n",
    "modelFullEN.summary(expand_nested=True)\n",
    "tf.keras.utils.plot_model(modelFullEN, expand_nested=True)"
   ],
   "execution_count": 122,
   "outputs": [
    {
     "output_type": "stream",
     "name": "stdout",
     "text": [
      "Model: \"Full_Model_EN\"\n",
      "_________________________________________________________________\n",
      " Layer (type)                Output Shape              Param #   \n",
      "=================================================================\n",
      " EN_Input (InputLayer)       [(None, 188, 100, 1)]     0         \n",
      "                                                                 \n",
      " Shared_Layers (Sequential)  (None, 10, 5, 128)        127744    \n",
      "|¯¯¯¯¯¯¯¯¯¯¯¯¯¯¯¯¯¯¯¯¯¯¯¯¯¯¯¯¯¯¯¯¯¯¯¯¯¯¯¯¯¯¯¯¯¯¯¯¯¯¯¯¯¯¯¯¯¯¯¯¯¯¯|\n",
      "| Shared_Conv2D1 (Conv2D)   (None, 94, 50, 32)        2624      |\n",
      "|                                                               |\n",
      "| Shared_MaxPool2D1 (MaxPooli  (None, 46, 24, 32)     0         |\n",
      "| ng2D)                                                         |\n",
      "|                                                               |\n",
      "| Shared_Conv2D2 (Conv2D)   (None, 46, 24, 64)        51264     |\n",
      "|                                                               |\n",
      "| Shared_MaxPool2D2 (MaxPooli  (None, 22, 11, 64)     0         |\n",
      "| ng2D)                                                         |\n",
      "|                                                               |\n",
      "| Shared_Conv2D3 (Conv2D)   (None, 22, 11, 128)       73856     |\n",
      "|                                                               |\n",
      "| Shared_MaxPool2D3 (MaxPooli  (None, 10, 5, 128)     0         |\n",
      "| ng2D)                                                         |\n",
      "¯¯¯¯¯¯¯¯¯¯¯¯¯¯¯¯¯¯¯¯¯¯¯¯¯¯¯¯¯¯¯¯¯¯¯¯¯¯¯¯¯¯¯¯¯¯¯¯¯¯¯¯¯¯¯¯¯¯¯¯¯¯¯¯¯\n",
      " EN (Sequential)             (None, 15)                329999    \n",
      "|¯¯¯¯¯¯¯¯¯¯¯¯¯¯¯¯¯¯¯¯¯¯¯¯¯¯¯¯¯¯¯¯¯¯¯¯¯¯¯¯¯¯¯¯¯¯¯¯¯¯¯¯¯¯¯¯¯¯¯¯¯¯¯|\n",
      "| EN_Conv2D1 (Conv2D)       (None, 10, 5, 128)        147584    |\n",
      "|                                                               |\n",
      "| EN_MaxPool2D1 (MaxPooling2D  (None, 5, 2, 128)      0         |\n",
      "| )                                                             |\n",
      "|                                                               |\n",
      "| flatten_12 (Flatten)      (None, 1280)              0         |\n",
      "|                                                               |\n",
      "| dropout_36 (Dropout)      (None, 1280)              0         |\n",
      "|                                                               |\n",
      "| EN_DenseLayer1 (Dense)    (None, 128)               163968    |\n",
      "|                                                               |\n",
      "| dropout_37 (Dropout)      (None, 128)               0         |\n",
      "|                                                               |\n",
      "| EN_DenseLayer2 (Dense)    (None, 128)               16512     |\n",
      "|                                                               |\n",
      "| dropout_38 (Dropout)      (None, 128)               0         |\n",
      "|                                                               |\n",
      "| EN_Output (Dense)         (None, 15)                1935      |\n",
      "¯¯¯¯¯¯¯¯¯¯¯¯¯¯¯¯¯¯¯¯¯¯¯¯¯¯¯¯¯¯¯¯¯¯¯¯¯¯¯¯¯¯¯¯¯¯¯¯¯¯¯¯¯¯¯¯¯¯¯¯¯¯¯¯¯\n",
      "=================================================================\n",
      "Total params: 457,743\n",
      "Trainable params: 457,743\n",
      "Non-trainable params: 0\n",
      "_________________________________________________________________\n"
     ]
    },
    {
     "output_type": "execute_result",
     "data": {
      "image/png": "[encoded data removed]",
      "text/plain": [
       "<IPython.core.display.Image object>"
      ]
     },
     "metadata": {},
     "execution_count": 122
    }
   ]
  },
  {
   "cell_type": "code",
   "metadata": {
    "pycharm": {
     "name": "#%%\n"
    },
    "id": "uvjPm55685Tz",
    "executionInfo": {
     "status": "ok",
     "timestamp": 1638887728611,
     "user_tz": 300,
     "elapsed": 8,
     "user": {
      "displayName": "Andrew Ning",
      "photoUrl": "https://lh3.googleusercontent.com/a-/AOh14GgyUiXynCeybWnGTpfHnOSTarAoJjvj-8rK8oxkzQ=s64",
      "userId": "04097743773373129918"
     }
    }
   },
   "source": [
    "modelFullEN.compile(\n",
    "    optimizer = tf.keras.optimizers.Adam(learning_rate=LEARNING_RATE),\n",
    "    loss=[tf.keras.losses.CategoricalCrossentropy()],\n",
    "    metrics=[tf.keras.metrics.CategoricalAccuracy(name='Categorical_Accuracy'), tf.keras.metrics.AUC(name='AUC')]\n",
    ")"
   ],
   "execution_count": 123,
   "outputs": []
  },
  {
   "cell_type": "code",
   "metadata": {
    "pycharm": {
     "name": "#%%\n"
    },
    "id": "5YAH8cIR85Tz",
    "executionInfo": {
     "status": "ok",
     "timestamp": 1638887728612,
     "user_tz": 300,
     "elapsed": 8,
     "user": {
      "displayName": "Andrew Ning",
      "photoUrl": "https://lh3.googleusercontent.com/a-/AOh14GgyUiXynCeybWnGTpfHnOSTarAoJjvj-8rK8oxkzQ=s64",
      "userId": "04097743773373129918"
     }
    }
   },
   "source": [
    "RUN = '1'\n",
    "\n",
    "ext = '-FULL-EN'\n",
    "\n",
    "training_callbackFULLEN = callbacks.TensorBoard(log_dir=LOG_DIR + RUN + ext)\n",
    "reduce_lr_callback = callbacks.ReduceLROnPlateau(monitor='val_loss', factor=0.2, patience=3,min_lr=1e-5,verbose=1)\n",
    "earlystopping_callback = tf.keras.callbacks.EarlyStopping(monitor='val_loss', patience=5)"
   ],
   "execution_count": 124,
   "outputs": []
  },
  {
   "cell_type": "code",
   "metadata": {
    "id": "qm15HqLnLXFH",
    "executionInfo": {
     "status": "ok",
     "timestamp": 1638887728612,
     "user_tz": 300,
     "elapsed": 7,
     "user": {
      "displayName": "Andrew Ning",
      "photoUrl": "https://lh3.googleusercontent.com/a-/AOh14GgyUiXynCeybWnGTpfHnOSTarAoJjvj-8rK8oxkzQ=s64",
      "userId": "04097743773373129918"
     }
    }
   },
   "source": [
    "# model.predict(testdatasetEN)"
   ],
   "execution_count": 125,
   "outputs": []
  },
  {
   "cell_type": "code",
   "metadata": {
    "pycharm": {
     "name": "#%%\n",
     "is_executing": true
    },
    "id": "Zjfl1oxd85Tz",
    "colab": {
     "base_uri": "https://localhost:8080/"
    },
    "executionInfo": {
     "status": "ok",
     "timestamp": 1638887750071,
     "user_tz": 300,
     "elapsed": 21466,
     "user": {
      "displayName": "Andrew Ning",
      "photoUrl": "https://lh3.googleusercontent.com/a-/AOh14GgyUiXynCeybWnGTpfHnOSTarAoJjvj-8rK8oxkzQ=s64",
      "userId": "04097743773373129918"
     }
    },
    "outputId": "206ca1af-c541-4583-bfaf-3f9858970c97"
   },
   "source": [
    "historyEN = modelFullEN.fit(\n",
    "    x = traindatasetEN,\n",
    "    validation_data = valdatasetEN,\n",
    "    epochs=EPOCHS,\n",
    "    steps_per_epoch=STEPS_PER_EPOCH,\n",
    "    callbacks=[training_callbackFULLEN,earlystopping_callback,reduce_lr_callback],\n",
    "    verbose=1\n",
    ")\n"
   ],
   "execution_count": 126,
   "outputs": [
    {
     "output_type": "stream",
     "name": "stdout",
     "text": [
      "Epoch 1/75\n",
      "36/36 [==============================] - 2s 29ms/step - loss: 2.7474 - Categorical_Accuracy: 0.0778 - AUC: 0.5021 - val_loss: 2.6983 - val_Categorical_Accuracy: 0.1120 - val_AUC: 0.5496 - lr: 1.0000e-04\n",
      "Epoch 2/75\n",
      "36/36 [==============================] - 0s 10ms/step - loss: 2.7114 - Categorical_Accuracy: 0.0711 - AUC: 0.5357 - val_loss: 2.6920 - val_Categorical_Accuracy: 0.1060 - val_AUC: 0.5562 - lr: 1.0000e-04\n",
      "Epoch 3/75\n",
      "36/36 [==============================] - 1s 9ms/step - loss: 2.7073 - Categorical_Accuracy: 0.0756 - AUC: 0.5263 - val_loss: 2.6965 - val_Categorical_Accuracy: 0.1040 - val_AUC: 0.5471 - lr: 1.0000e-04\n",
      "Epoch 4/75\n",
      "36/36 [==============================] - 1s 9ms/step - loss: 2.6910 - Categorical_Accuracy: 0.0844 - AUC: 0.5532 - val_loss: 2.6850 - val_Categorical_Accuracy: 0.1060 - val_AUC: 0.5589 - lr: 1.0000e-04\n",
      "Epoch 5/75\n",
      "36/36 [==============================] - 1s 9ms/step - loss: 2.6952 - Categorical_Accuracy: 0.0944 - AUC: 0.5510 - val_loss: 2.6836 - val_Categorical_Accuracy: 0.1060 - val_AUC: 0.5529 - lr: 1.0000e-04\n",
      "Epoch 6/75\n",
      "36/36 [==============================] - 1s 10ms/step - loss: 2.6888 - Categorical_Accuracy: 0.0956 - AUC: 0.5562 - val_loss: 2.6796 - val_Categorical_Accuracy: 0.1060 - val_AUC: 0.5655 - lr: 1.0000e-04\n",
      "Epoch 7/75\n",
      "36/36 [==============================] - 1s 10ms/step - loss: 2.6902 - Categorical_Accuracy: 0.1011 - AUC: 0.5544 - val_loss: 2.6750 - val_Categorical_Accuracy: 0.1060 - val_AUC: 0.5752 - lr: 1.0000e-04\n",
      "Epoch 8/75\n",
      "36/36 [==============================] - 0s 11ms/step - loss: 2.6817 - Categorical_Accuracy: 0.1033 - AUC: 0.5589 - val_loss: 2.6727 - val_Categorical_Accuracy: 0.1060 - val_AUC: 0.5722 - lr: 1.0000e-04\n",
      "Epoch 9/75\n",
      "36/36 [==============================] - 0s 10ms/step - loss: 2.6803 - Categorical_Accuracy: 0.0900 - AUC: 0.5595 - val_loss: 2.6728 - val_Categorical_Accuracy: 0.1060 - val_AUC: 0.5579 - lr: 1.0000e-04\n",
      "Epoch 10/75\n",
      "36/36 [==============================] - 0s 10ms/step - loss: 2.6807 - Categorical_Accuracy: 0.1122 - AUC: 0.5597 - val_loss: 2.6701 - val_Categorical_Accuracy: 0.1060 - val_AUC: 0.5655 - lr: 1.0000e-04\n",
      "Epoch 11/75\n",
      "36/36 [==============================] - 0s 11ms/step - loss: 2.6695 - Categorical_Accuracy: 0.1044 - AUC: 0.5693 - val_loss: 2.6618 - val_Categorical_Accuracy: 0.1060 - val_AUC: 0.5830 - lr: 1.0000e-04\n",
      "Epoch 12/75\n",
      "36/36 [==============================] - 0s 11ms/step - loss: 2.6728 - Categorical_Accuracy: 0.1022 - AUC: 0.5658 - val_loss: 2.6646 - val_Categorical_Accuracy: 0.1060 - val_AUC: 0.5717 - lr: 1.0000e-04\n",
      "Epoch 13/75\n",
      "36/36 [==============================] - 0s 10ms/step - loss: 2.6818 - Categorical_Accuracy: 0.0944 - AUC: 0.5549 - val_loss: 2.6658 - val_Categorical_Accuracy: 0.1060 - val_AUC: 0.5656 - lr: 1.0000e-04\n",
      "Epoch 14/75\n",
      "34/36 [===========================>..] - ETA: 0s - loss: 2.6621 - Categorical_Accuracy: 0.0988 - AUC: 0.5753\n",
      "Epoch 00014: ReduceLROnPlateau reducing learning rate to 1.9999999494757503e-05.\n",
      "36/36 [==============================] - 0s 10ms/step - loss: 2.6620 - Categorical_Accuracy: 0.0933 - AUC: 0.5763 - val_loss: 2.6621 - val_Categorical_Accuracy: 0.1060 - val_AUC: 0.5638 - lr: 1.0000e-04\n",
      "Epoch 15/75\n",
      "36/36 [==============================] - 0s 11ms/step - loss: 2.6640 - Categorical_Accuracy: 0.1011 - AUC: 0.5762 - val_loss: 2.6575 - val_Categorical_Accuracy: 0.1060 - val_AUC: 0.5720 - lr: 2.0000e-05\n",
      "Epoch 16/75\n",
      "36/36 [==============================] - 0s 10ms/step - loss: 2.6538 - Categorical_Accuracy: 0.1067 - AUC: 0.5816 - val_loss: 2.6564 - val_Categorical_Accuracy: 0.1060 - val_AUC: 0.5690 - lr: 2.0000e-05\n",
      "Epoch 17/75\n",
      "36/36 [==============================] - 0s 10ms/step - loss: 2.6628 - Categorical_Accuracy: 0.1167 - AUC: 0.5713 - val_loss: 2.6565 - val_Categorical_Accuracy: 0.1060 - val_AUC: 0.5709 - lr: 2.0000e-05\n",
      "Epoch 18/75\n",
      "36/36 [==============================] - 0s 10ms/step - loss: 2.6583 - Categorical_Accuracy: 0.1044 - AUC: 0.5780 - val_loss: 2.6564 - val_Categorical_Accuracy: 0.1060 - val_AUC: 0.5746 - lr: 2.0000e-05\n",
      "Epoch 19/75\n",
      "36/36 [==============================] - 0s 11ms/step - loss: 2.6542 - Categorical_Accuracy: 0.1233 - AUC: 0.5805 - val_loss: 2.6560 - val_Categorical_Accuracy: 0.1060 - val_AUC: 0.5816 - lr: 2.0000e-05\n",
      "Epoch 20/75\n",
      "36/36 [==============================] - 0s 11ms/step - loss: 2.6622 - Categorical_Accuracy: 0.1000 - AUC: 0.5742 - val_loss: 2.6546 - val_Categorical_Accuracy: 0.1060 - val_AUC: 0.5751 - lr: 2.0000e-05\n",
      "Epoch 21/75\n",
      "36/36 [==============================] - 0s 11ms/step - loss: 2.6561 - Categorical_Accuracy: 0.1167 - AUC: 0.5809 - val_loss: 2.6557 - val_Categorical_Accuracy: 0.1060 - val_AUC: 0.5807 - lr: 2.0000e-05\n",
      "Epoch 22/75\n",
      "36/36 [==============================] - 0s 11ms/step - loss: 2.6598 - Categorical_Accuracy: 0.1300 - AUC: 0.5710 - val_loss: 2.6545 - val_Categorical_Accuracy: 0.1060 - val_AUC: 0.5784 - lr: 2.0000e-05\n",
      "Epoch 23/75\n",
      "36/36 [==============================] - 0s 10ms/step - loss: 2.6511 - Categorical_Accuracy: 0.1122 - AUC: 0.5836 - val_loss: 2.6543 - val_Categorical_Accuracy: 0.1060 - val_AUC: 0.5776 - lr: 2.0000e-05\n",
      "Epoch 24/75\n",
      "36/36 [==============================] - 0s 10ms/step - loss: 2.6527 - Categorical_Accuracy: 0.1222 - AUC: 0.5814 - val_loss: 2.6523 - val_Categorical_Accuracy: 0.1060 - val_AUC: 0.5769 - lr: 2.0000e-05\n",
      "Epoch 25/75\n",
      "36/36 [==============================] - 0s 10ms/step - loss: 2.6673 - Categorical_Accuracy: 0.1044 - AUC: 0.5616 - val_loss: 2.6558 - val_Categorical_Accuracy: 0.1060 - val_AUC: 0.5779 - lr: 2.0000e-05\n",
      "Epoch 26/75\n",
      "36/36 [==============================] - 0s 10ms/step - loss: 2.6473 - Categorical_Accuracy: 0.1211 - AUC: 0.5907 - val_loss: 2.6521 - val_Categorical_Accuracy: 0.1060 - val_AUC: 0.5749 - lr: 2.0000e-05\n",
      "Epoch 27/75\n",
      "36/36 [==============================] - 0s 10ms/step - loss: 2.6527 - Categorical_Accuracy: 0.1111 - AUC: 0.5825 - val_loss: 2.6518 - val_Categorical_Accuracy: 0.1060 - val_AUC: 0.5760 - lr: 2.0000e-05\n",
      "Epoch 28/75\n",
      "36/36 [==============================] - 0s 11ms/step - loss: 2.6388 - Categorical_Accuracy: 0.1422 - AUC: 0.5951 - val_loss: 2.6490 - val_Categorical_Accuracy: 0.1060 - val_AUC: 0.5815 - lr: 2.0000e-05\n",
      "Epoch 29/75\n",
      "36/36 [==============================] - 0s 10ms/step - loss: 2.6464 - Categorical_Accuracy: 0.1111 - AUC: 0.5833 - val_loss: 2.6494 - val_Categorical_Accuracy: 0.1060 - val_AUC: 0.5829 - lr: 2.0000e-05\n",
      "Epoch 30/75\n",
      "36/36 [==============================] - 0s 10ms/step - loss: 2.6508 - Categorical_Accuracy: 0.1189 - AUC: 0.5792 - val_loss: 2.6498 - val_Categorical_Accuracy: 0.1060 - val_AUC: 0.5798 - lr: 2.0000e-05\n",
      "Epoch 31/75\n",
      "35/36 [============================>.] - ETA: 0s - loss: 2.6517 - Categorical_Accuracy: 0.1200 - AUC: 0.5830\n",
      "Epoch 00031: ReduceLROnPlateau reducing learning rate to 1e-05.\n",
      "36/36 [==============================] - 0s 10ms/step - loss: 2.6521 - Categorical_Accuracy: 0.1178 - AUC: 0.5827 - val_loss: 2.6494 - val_Categorical_Accuracy: 0.1060 - val_AUC: 0.5835 - lr: 2.0000e-05\n",
      "Epoch 32/75\n",
      "36/36 [==============================] - 0s 11ms/step - loss: 2.6444 - Categorical_Accuracy: 0.1178 - AUC: 0.5851 - val_loss: 2.6479 - val_Categorical_Accuracy: 0.1060 - val_AUC: 0.5817 - lr: 1.0000e-05\n",
      "Epoch 33/75\n",
      "36/36 [==============================] - 0s 11ms/step - loss: 2.6486 - Categorical_Accuracy: 0.1156 - AUC: 0.5829 - val_loss: 2.6485 - val_Categorical_Accuracy: 0.1060 - val_AUC: 0.5801 - lr: 1.0000e-05\n",
      "Epoch 34/75\n",
      "36/36 [==============================] - 0s 11ms/step - loss: 2.6425 - Categorical_Accuracy: 0.1189 - AUC: 0.5893 - val_loss: 2.6471 - val_Categorical_Accuracy: 0.1060 - val_AUC: 0.5820 - lr: 1.0000e-05\n",
      "Epoch 35/75\n",
      "36/36 [==============================] - 0s 11ms/step - loss: 2.6402 - Categorical_Accuracy: 0.1122 - AUC: 0.5889 - val_loss: 2.6468 - val_Categorical_Accuracy: 0.1060 - val_AUC: 0.5797 - lr: 1.0000e-05\n",
      "Epoch 36/75\n",
      "36/36 [==============================] - 0s 10ms/step - loss: 2.6398 - Categorical_Accuracy: 0.1289 - AUC: 0.5914 - val_loss: 2.6450 - val_Categorical_Accuracy: 0.1060 - val_AUC: 0.5817 - lr: 1.0000e-05\n",
      "Epoch 37/75\n",
      "36/36 [==============================] - 0s 10ms/step - loss: 2.6374 - Categorical_Accuracy: 0.1178 - AUC: 0.5926 - val_loss: 2.6445 - val_Categorical_Accuracy: 0.1060 - val_AUC: 0.5831 - lr: 1.0000e-05\n",
      "Epoch 38/75\n",
      "36/36 [==============================] - 0s 10ms/step - loss: 2.6445 - Categorical_Accuracy: 0.1089 - AUC: 0.5905 - val_loss: 2.6450 - val_Categorical_Accuracy: 0.1060 - val_AUC: 0.5797 - lr: 1.0000e-05\n",
      "Epoch 39/75\n",
      "36/36 [==============================] - 0s 10ms/step - loss: 2.6554 - Categorical_Accuracy: 0.1222 - AUC: 0.5754 - val_loss: 2.6461 - val_Categorical_Accuracy: 0.1060 - val_AUC: 0.5839 - lr: 1.0000e-05\n",
      "Epoch 40/75\n",
      "36/36 [==============================] - 0s 11ms/step - loss: 2.6587 - Categorical_Accuracy: 0.1067 - AUC: 0.5729 - val_loss: 2.6469 - val_Categorical_Accuracy: 0.1060 - val_AUC: 0.5835 - lr: 1.0000e-05\n",
      "Epoch 41/75\n",
      "36/36 [==============================] - 0s 11ms/step - loss: 2.6373 - Categorical_Accuracy: 0.1167 - AUC: 0.5985 - val_loss: 2.6457 - val_Categorical_Accuracy: 0.1060 - val_AUC: 0.5840 - lr: 1.0000e-05\n",
      "Epoch 42/75\n",
      "36/36 [==============================] - 0s 11ms/step - loss: 2.6428 - Categorical_Accuracy: 0.1211 - AUC: 0.5876 - val_loss: 2.6448 - val_Categorical_Accuracy: 0.1060 - val_AUC: 0.5848 - lr: 1.0000e-05\n"
     ]
    }
   ]
  },
  {
   "cell_type": "code",
   "metadata": {
    "id": "lZ-Sded68uYj",
    "executionInfo": {
     "status": "ok",
     "timestamp": 1638887750072,
     "user_tz": 300,
     "elapsed": 20,
     "user": {
      "displayName": "Andrew Ning",
      "photoUrl": "https://lh3.googleusercontent.com/a-/AOh14GgyUiXynCeybWnGTpfHnOSTarAoJjvj-8rK8oxkzQ=s64",
      "userId": "04097743773373129918"
     }
    }
   },
   "source": [
    "# print(modelFullEN.layers[-2].weights)"
   ],
   "execution_count": 127,
   "outputs": []
  },
  {
   "cell_type": "code",
   "metadata": {
    "colab": {
     "base_uri": "https://localhost:8080/",
     "height": 1000
    },
    "id": "2HmPZNeX2kra",
    "executionInfo": {
     "status": "ok",
     "timestamp": 1638887750958,
     "user_tz": 300,
     "elapsed": 905,
     "user": {
      "displayName": "Andrew Ning",
      "photoUrl": "https://lh3.googleusercontent.com/a-/AOh14GgyUiXynCeybWnGTpfHnOSTarAoJjvj-8rK8oxkzQ=s64",
      "userId": "04097743773373129918"
     }
    },
    "outputId": "8228933f-8943-46e8-e3a2-7aac89487732"
   },
   "source": [
    "modelFullES = tf.keras.Model(\n",
    "    inputs=[inputES],\n",
    "    outputs=[layersES],\n",
    "    name='Full_Model_ES'\n",
    ")\n",
    "\n",
    "modelFullES.summary(expand_nested=True)\n",
    "tf.keras.utils.plot_model(modelFullES, expand_nested=True)"
   ],
   "execution_count": 128,
   "outputs": [
    {
     "output_type": "stream",
     "name": "stdout",
     "text": [
      "Model: \"Full_Model_ES\"\n",
      "_________________________________________________________________\n",
      " Layer (type)                Output Shape              Param #   \n",
      "=================================================================\n",
      " ES_Input (InputLayer)       [(None, 188, 100, 1)]     0         \n",
      "                                                                 \n",
      " Shared_Layers (Sequential)  (None, 10, 5, 128)        127744    \n",
      "|¯¯¯¯¯¯¯¯¯¯¯¯¯¯¯¯¯¯¯¯¯¯¯¯¯¯¯¯¯¯¯¯¯¯¯¯¯¯¯¯¯¯¯¯¯¯¯¯¯¯¯¯¯¯¯¯¯¯¯¯¯¯¯|\n",
      "| Shared_Conv2D1 (Conv2D)   (None, 94, 50, 32)        2624      |\n",
      "|                                                               |\n",
      "| Shared_MaxPool2D1 (MaxPooli  (None, 46, 24, 32)     0         |\n",
      "| ng2D)                                                         |\n",
      "|                                                               |\n",
      "| Shared_Conv2D2 (Conv2D)   (None, 46, 24, 64)        51264     |\n",
      "|                                                               |\n",
      "| Shared_MaxPool2D2 (MaxPooli  (None, 22, 11, 64)     0         |\n",
      "| ng2D)                                                         |\n",
      "|                                                               |\n",
      "| Shared_Conv2D3 (Conv2D)   (None, 22, 11, 128)       73856     |\n",
      "|                                                               |\n",
      "| Shared_MaxPool2D3 (MaxPooli  (None, 10, 5, 128)     0         |\n",
      "| ng2D)                                                         |\n",
      "¯¯¯¯¯¯¯¯¯¯¯¯¯¯¯¯¯¯¯¯¯¯¯¯¯¯¯¯¯¯¯¯¯¯¯¯¯¯¯¯¯¯¯¯¯¯¯¯¯¯¯¯¯¯¯¯¯¯¯¯¯¯¯¯¯\n",
      " ES (Sequential)             (None, 14)                329870    \n",
      "|¯¯¯¯¯¯¯¯¯¯¯¯¯¯¯¯¯¯¯¯¯¯¯¯¯¯¯¯¯¯¯¯¯¯¯¯¯¯¯¯¯¯¯¯¯¯¯¯¯¯¯¯¯¯¯¯¯¯¯¯¯¯¯|\n",
      "| ES_Conv2D1 (Conv2D)       (None, 10, 5, 128)        147584    |\n",
      "|                                                               |\n",
      "| ES_MaxPool2D1 (MaxPooling2D  (None, 5, 2, 128)      0         |\n",
      "| )                                                             |\n",
      "|                                                               |\n",
      "| flatten_13 (Flatten)      (None, 1280)              0         |\n",
      "|                                                               |\n",
      "| dropout_39 (Dropout)      (None, 1280)              0         |\n",
      "|                                                               |\n",
      "| ES_DenseLayer1 (Dense)    (None, 128)               163968    |\n",
      "|                                                               |\n",
      "| dropout_40 (Dropout)      (None, 128)               0         |\n",
      "|                                                               |\n",
      "| ES_DenseLayer2 (Dense)    (None, 128)               16512     |\n",
      "|                                                               |\n",
      "| dropout_41 (Dropout)      (None, 128)               0         |\n",
      "|                                                               |\n",
      "| ES_Output (Dense)         (None, 14)                1806      |\n",
      "¯¯¯¯¯¯¯¯¯¯¯¯¯¯¯¯¯¯¯¯¯¯¯¯¯¯¯¯¯¯¯¯¯¯¯¯¯¯¯¯¯¯¯¯¯¯¯¯¯¯¯¯¯¯¯¯¯¯¯¯¯¯¯¯¯\n",
      "=================================================================\n",
      "Total params: 457,614\n",
      "Trainable params: 457,614\n",
      "Non-trainable params: 0\n",
      "_________________________________________________________________\n"
     ]
    },
    {
     "output_type": "execute_result",
     "data": {
      "image/png": "[encoded data removed]",
      "text/plain": [
       "<IPython.core.display.Image object>"
      ]
     },
     "metadata": {},
     "execution_count": 128
    }
   ]
  },
  {
   "cell_type": "code",
   "metadata": {
    "id": "--RScZwz72Tj",
    "executionInfo": {
     "status": "ok",
     "timestamp": 1638887750959,
     "user_tz": 300,
     "elapsed": 7,
     "user": {
      "displayName": "Andrew Ning",
      "photoUrl": "https://lh3.googleusercontent.com/a-/AOh14GgyUiXynCeybWnGTpfHnOSTarAoJjvj-8rK8oxkzQ=s64",
      "userId": "04097743773373129918"
     }
    }
   },
   "source": [
    "modelFullES.compile(\n",
    "    optimizer = tf.keras.optimizers.Adam(learning_rate=LEARNING_RATE),\n",
    "    loss=[tf.keras.losses.CategoricalCrossentropy()],\n",
    "    metrics=[tf.keras.metrics.CategoricalAccuracy(name='Categorical_Accuracy'), tf.keras.metrics.AUC(name='AUC')]\n",
    ")"
   ],
   "execution_count": 129,
   "outputs": []
  },
  {
   "cell_type": "code",
   "metadata": {
    "id": "x21vkwAx-FW0",
    "executionInfo": {
     "status": "ok",
     "timestamp": 1638887750960,
     "user_tz": 300,
     "elapsed": 7,
     "user": {
      "displayName": "Andrew Ning",
      "photoUrl": "https://lh3.googleusercontent.com/a-/AOh14GgyUiXynCeybWnGTpfHnOSTarAoJjvj-8rK8oxkzQ=s64",
      "userId": "04097743773373129918"
     }
    }
   },
   "source": [
    "# print(modelFullES.layers[-2].weights)"
   ],
   "execution_count": 130,
   "outputs": []
  },
  {
   "cell_type": "code",
   "metadata": {
    "colab": {
     "base_uri": "https://localhost:8080/"
    },
    "id": "0JiecvKm17GJ",
    "executionInfo": {
     "status": "ok",
     "timestamp": 1638887789527,
     "user_tz": 300,
     "elapsed": 38574,
     "user": {
      "displayName": "Andrew Ning",
      "photoUrl": "https://lh3.googleusercontent.com/a-/AOh14GgyUiXynCeybWnGTpfHnOSTarAoJjvj-8rK8oxkzQ=s64",
      "userId": "04097743773373129918"
     }
    },
    "outputId": "db4c2491-9cf0-4b55-d545-6f4d35cd4062"
   },
   "source": [
    "ext = '-FULL-ES'\n",
    "training_callbackFULLES = callbacks.TensorBoard(log_dir=LOG_DIR + RUN + ext)\n",
    "\n",
    "historyES = modelFullES.fit(\n",
    "    x = traindatasetES,\n",
    "    validation_data = valdatasetES,\n",
    "    epochs=EPOCHS,\n",
    "    steps_per_epoch=STEPS_PER_EPOCH,\n",
    "    callbacks=[training_callbackFULLES,earlystopping_callback,reduce_lr_callback],\n",
    "    verbose=1\n",
    ")"
   ],
   "execution_count": 131,
   "outputs": [
    {
     "output_type": "stream",
     "name": "stdout",
     "text": [
      "Epoch 1/75\n",
      "36/36 [==============================] - 2s 28ms/step - loss: 2.4323 - Categorical_Accuracy: 0.0567 - AUC: 0.5153 - val_loss: 2.4437 - val_Categorical_Accuracy: 0.0680 - val_AUC: 0.5267 - lr: 1.0000e-04\n",
      "Epoch 2/75\n",
      "36/36 [==============================] - 0s 10ms/step - loss: 2.4161 - Categorical_Accuracy: 0.0756 - AUC: 0.5345 - val_loss: 2.4377 - val_Categorical_Accuracy: 0.0560 - val_AUC: 0.5373 - lr: 1.0000e-04\n",
      "Epoch 3/75\n",
      "36/36 [==============================] - 1s 9ms/step - loss: 2.4113 - Categorical_Accuracy: 0.0844 - AUC: 0.5466 - val_loss: 2.4365 - val_Categorical_Accuracy: 0.0580 - val_AUC: 0.5424 - lr: 1.0000e-04\n",
      "Epoch 4/75\n",
      "36/36 [==============================] - 1s 9ms/step - loss: 2.4125 - Categorical_Accuracy: 0.0767 - AUC: 0.5379 - val_loss: 2.4327 - val_Categorical_Accuracy: 0.0620 - val_AUC: 0.5358 - lr: 1.0000e-04\n",
      "Epoch 5/75\n",
      "36/36 [==============================] - 1s 9ms/step - loss: 2.4024 - Categorical_Accuracy: 0.0678 - AUC: 0.5551 - val_loss: 2.4239 - val_Categorical_Accuracy: 0.0720 - val_AUC: 0.5537 - lr: 1.0000e-04\n",
      "Epoch 6/75\n",
      "36/36 [==============================] - 1s 10ms/step - loss: 2.4084 - Categorical_Accuracy: 0.0756 - AUC: 0.5451 - val_loss: 2.4254 - val_Categorical_Accuracy: 0.0820 - val_AUC: 0.5527 - lr: 1.0000e-04\n",
      "Epoch 7/75\n",
      "36/36 [==============================] - 1s 10ms/step - loss: 2.3868 - Categorical_Accuracy: 0.0856 - AUC: 0.5726 - val_loss: 2.4177 - val_Categorical_Accuracy: 0.0820 - val_AUC: 0.5536 - lr: 1.0000e-04\n",
      "Epoch 8/75\n",
      "36/36 [==============================] - 0s 10ms/step - loss: 2.3951 - Categorical_Accuracy: 0.0833 - AUC: 0.5567 - val_loss: 2.4173 - val_Categorical_Accuracy: 0.0860 - val_AUC: 0.5624 - lr: 1.0000e-04\n",
      "Epoch 9/75\n",
      "36/36 [==============================] - 0s 10ms/step - loss: 2.3931 - Categorical_Accuracy: 0.0678 - AUC: 0.5570 - val_loss: 2.4154 - val_Categorical_Accuracy: 0.0820 - val_AUC: 0.5616 - lr: 1.0000e-04\n",
      "Epoch 10/75\n",
      "36/36 [==============================] - 0s 10ms/step - loss: 2.3833 - Categorical_Accuracy: 0.0767 - AUC: 0.5703 - val_loss: 2.4116 - val_Categorical_Accuracy: 0.0580 - val_AUC: 0.5546 - lr: 1.0000e-04\n",
      "Epoch 11/75\n",
      "36/36 [==============================] - 0s 10ms/step - loss: 2.3872 - Categorical_Accuracy: 0.0856 - AUC: 0.5661 - val_loss: 2.4161 - val_Categorical_Accuracy: 0.0580 - val_AUC: 0.5507 - lr: 1.0000e-04\n",
      "Epoch 12/75\n",
      "36/36 [==============================] - 0s 10ms/step - loss: 2.3859 - Categorical_Accuracy: 0.0800 - AUC: 0.5692 - val_loss: 2.4131 - val_Categorical_Accuracy: 0.0620 - val_AUC: 0.5533 - lr: 1.0000e-04\n",
      "Epoch 13/75\n",
      "33/36 [==========================>...] - ETA: 0s - loss: 2.3970 - Categorical_Accuracy: 0.0836 - AUC: 0.5637\n",
      "Epoch 00013: ReduceLROnPlateau reducing learning rate to 1.9999999494757503e-05.\n",
      "36/36 [==============================] - 0s 11ms/step - loss: 2.3868 - Categorical_Accuracy: 0.0822 - AUC: 0.5623 - val_loss: 2.4133 - val_Categorical_Accuracy: 0.0620 - val_AUC: 0.5542 - lr: 1.0000e-04\n",
      "Epoch 14/75\n",
      "36/36 [==============================] - 0s 10ms/step - loss: 2.3678 - Categorical_Accuracy: 0.0978 - AUC: 0.5845 - val_loss: 2.4123 - val_Categorical_Accuracy: 0.0580 - val_AUC: 0.5522 - lr: 2.0000e-05\n",
      "Epoch 15/75\n",
      "36/36 [==============================] - 0s 11ms/step - loss: 2.3797 - Categorical_Accuracy: 0.0878 - AUC: 0.5712 - val_loss: 2.4114 - val_Categorical_Accuracy: 0.0720 - val_AUC: 0.5535 - lr: 2.0000e-05\n",
      "Epoch 16/75\n",
      "36/36 [==============================] - 0s 10ms/step - loss: 2.3740 - Categorical_Accuracy: 0.0844 - AUC: 0.5825 - val_loss: 2.4087 - val_Categorical_Accuracy: 0.0780 - val_AUC: 0.5559 - lr: 2.0000e-05\n",
      "Epoch 17/75\n",
      "36/36 [==============================] - 0s 10ms/step - loss: 2.3758 - Categorical_Accuracy: 0.1000 - AUC: 0.5733 - val_loss: 2.4085 - val_Categorical_Accuracy: 0.0780 - val_AUC: 0.5551 - lr: 2.0000e-05\n",
      "Epoch 18/75\n",
      "36/36 [==============================] - 0s 10ms/step - loss: 2.3855 - Categorical_Accuracy: 0.0967 - AUC: 0.5612 - val_loss: 2.4095 - val_Categorical_Accuracy: 0.0800 - val_AUC: 0.5601 - lr: 2.0000e-05\n",
      "Epoch 19/75\n",
      "36/36 [==============================] - 0s 10ms/step - loss: 2.3757 - Categorical_Accuracy: 0.0789 - AUC: 0.5793 - val_loss: 2.4088 - val_Categorical_Accuracy: 0.0820 - val_AUC: 0.5608 - lr: 2.0000e-05\n",
      "Epoch 20/75\n",
      "36/36 [==============================] - 0s 10ms/step - loss: 2.3717 - Categorical_Accuracy: 0.1089 - AUC: 0.5772 - val_loss: 2.4081 - val_Categorical_Accuracy: 0.0900 - val_AUC: 0.5542 - lr: 2.0000e-05\n",
      "Epoch 21/75\n",
      "36/36 [==============================] - 0s 10ms/step - loss: 2.3835 - Categorical_Accuracy: 0.0978 - AUC: 0.5678 - val_loss: 2.4073 - val_Categorical_Accuracy: 0.0800 - val_AUC: 0.5578 - lr: 2.0000e-05\n",
      "Epoch 22/75\n",
      "36/36 [==============================] - 0s 10ms/step - loss: 2.3623 - Categorical_Accuracy: 0.1144 - AUC: 0.5853 - val_loss: 2.4062 - val_Categorical_Accuracy: 0.0800 - val_AUC: 0.5596 - lr: 2.0000e-05\n",
      "Epoch 23/75\n",
      "36/36 [==============================] - 0s 10ms/step - loss: 2.3681 - Categorical_Accuracy: 0.0833 - AUC: 0.5807 - val_loss: 2.4049 - val_Categorical_Accuracy: 0.0820 - val_AUC: 0.5617 - lr: 2.0000e-05\n",
      "Epoch 24/75\n",
      "36/36 [==============================] - 0s 10ms/step - loss: 2.3749 - Categorical_Accuracy: 0.0844 - AUC: 0.5765 - val_loss: 2.4054 - val_Categorical_Accuracy: 0.0820 - val_AUC: 0.5629 - lr: 2.0000e-05\n",
      "Epoch 25/75\n",
      "36/36 [==============================] - 0s 11ms/step - loss: 2.3780 - Categorical_Accuracy: 0.0689 - AUC: 0.5705 - val_loss: 2.4051 - val_Categorical_Accuracy: 0.0800 - val_AUC: 0.5620 - lr: 2.0000e-05\n",
      "Epoch 26/75\n",
      "36/36 [==============================] - 0s 11ms/step - loss: 2.3737 - Categorical_Accuracy: 0.1044 - AUC: 0.5728 - val_loss: 2.4044 - val_Categorical_Accuracy: 0.0780 - val_AUC: 0.5626 - lr: 2.0000e-05\n",
      "Epoch 27/75\n",
      "36/36 [==============================] - 0s 11ms/step - loss: 2.3623 - Categorical_Accuracy: 0.1011 - AUC: 0.5903 - val_loss: 2.4038 - val_Categorical_Accuracy: 0.0800 - val_AUC: 0.5623 - lr: 2.0000e-05\n",
      "Epoch 28/75\n",
      "36/36 [==============================] - 0s 11ms/step - loss: 2.3702 - Categorical_Accuracy: 0.0911 - AUC: 0.5805 - val_loss: 2.4040 - val_Categorical_Accuracy: 0.0800 - val_AUC: 0.5630 - lr: 2.0000e-05\n",
      "Epoch 29/75\n",
      "36/36 [==============================] - 0s 10ms/step - loss: 2.3730 - Categorical_Accuracy: 0.0867 - AUC: 0.5798 - val_loss: 2.4041 - val_Categorical_Accuracy: 0.0800 - val_AUC: 0.5640 - lr: 2.0000e-05\n",
      "Epoch 30/75\n",
      "36/36 [==============================] - 0s 11ms/step - loss: 2.3636 - Categorical_Accuracy: 0.0978 - AUC: 0.5877 - val_loss: 2.4036 - val_Categorical_Accuracy: 0.0800 - val_AUC: 0.5650 - lr: 2.0000e-05\n",
      "Epoch 31/75\n",
      "36/36 [==============================] - 0s 11ms/step - loss: 2.3636 - Categorical_Accuracy: 0.0922 - AUC: 0.5890 - val_loss: 2.4034 - val_Categorical_Accuracy: 0.0800 - val_AUC: 0.5644 - lr: 2.0000e-05\n",
      "Epoch 32/75\n",
      "36/36 [==============================] - 0s 11ms/step - loss: 2.3779 - Categorical_Accuracy: 0.0822 - AUC: 0.5720 - val_loss: 2.4014 - val_Categorical_Accuracy: 0.0780 - val_AUC: 0.5651 - lr: 2.0000e-05\n",
      "Epoch 33/75\n",
      "36/36 [==============================] - 0s 10ms/step - loss: 2.3687 - Categorical_Accuracy: 0.0911 - AUC: 0.5795 - val_loss: 2.4023 - val_Categorical_Accuracy: 0.0780 - val_AUC: 0.5637 - lr: 2.0000e-05\n",
      "Epoch 34/75\n",
      "36/36 [==============================] - 0s 10ms/step - loss: 2.3681 - Categorical_Accuracy: 0.0867 - AUC: 0.5831 - val_loss: 2.4020 - val_Categorical_Accuracy: 0.0840 - val_AUC: 0.5647 - lr: 2.0000e-05\n",
      "Epoch 35/75\n",
      "36/36 [==============================] - 0s 11ms/step - loss: 2.3652 - Categorical_Accuracy: 0.0967 - AUC: 0.5901 - val_loss: 2.4006 - val_Categorical_Accuracy: 0.0820 - val_AUC: 0.5627 - lr: 2.0000e-05\n",
      "Epoch 36/75\n",
      "36/36 [==============================] - 0s 10ms/step - loss: 2.3503 - Categorical_Accuracy: 0.1011 - AUC: 0.6005 - val_loss: 2.3986 - val_Categorical_Accuracy: 0.0860 - val_AUC: 0.5690 - lr: 2.0000e-05\n",
      "Epoch 37/75\n",
      "36/36 [==============================] - 0s 10ms/step - loss: 2.3573 - Categorical_Accuracy: 0.1167 - AUC: 0.5901 - val_loss: 2.3978 - val_Categorical_Accuracy: 0.0820 - val_AUC: 0.5700 - lr: 2.0000e-05\n",
      "Epoch 38/75\n",
      "36/36 [==============================] - 0s 10ms/step - loss: 2.3594 - Categorical_Accuracy: 0.1111 - AUC: 0.5876 - val_loss: 2.3967 - val_Categorical_Accuracy: 0.0800 - val_AUC: 0.5757 - lr: 2.0000e-05\n",
      "Epoch 39/75\n",
      "36/36 [==============================] - 0s 11ms/step - loss: 2.3791 - Categorical_Accuracy: 0.0789 - AUC: 0.5686 - val_loss: 2.3964 - val_Categorical_Accuracy: 0.0820 - val_AUC: 0.5736 - lr: 2.0000e-05\n",
      "Epoch 40/75\n",
      "36/36 [==============================] - 0s 10ms/step - loss: 2.3542 - Categorical_Accuracy: 0.1122 - AUC: 0.5954 - val_loss: 2.3973 - val_Categorical_Accuracy: 0.0800 - val_AUC: 0.5767 - lr: 2.0000e-05\n",
      "Epoch 41/75\n",
      "36/36 [==============================] - 0s 10ms/step - loss: 2.3708 - Categorical_Accuracy: 0.0900 - AUC: 0.5734 - val_loss: 2.3962 - val_Categorical_Accuracy: 0.0880 - val_AUC: 0.5748 - lr: 2.0000e-05\n",
      "Epoch 42/75\n",
      "36/36 [==============================] - 0s 11ms/step - loss: 2.3674 - Categorical_Accuracy: 0.0900 - AUC: 0.5780 - val_loss: 2.3951 - val_Categorical_Accuracy: 0.0920 - val_AUC: 0.5807 - lr: 2.0000e-05\n",
      "Epoch 43/75\n",
      "36/36 [==============================] - 0s 10ms/step - loss: 2.3564 - Categorical_Accuracy: 0.1144 - AUC: 0.5899 - val_loss: 2.3922 - val_Categorical_Accuracy: 0.0920 - val_AUC: 0.5828 - lr: 2.0000e-05\n",
      "Epoch 44/75\n",
      "36/36 [==============================] - 0s 10ms/step - loss: 2.3604 - Categorical_Accuracy: 0.1033 - AUC: 0.5847 - val_loss: 2.3918 - val_Categorical_Accuracy: 0.0880 - val_AUC: 0.5855 - lr: 2.0000e-05\n",
      "Epoch 45/75\n",
      "36/36 [==============================] - 0s 11ms/step - loss: 2.3501 - Categorical_Accuracy: 0.1111 - AUC: 0.5951 - val_loss: 2.3919 - val_Categorical_Accuracy: 0.0840 - val_AUC: 0.5839 - lr: 2.0000e-05\n",
      "Epoch 46/75\n",
      "36/36 [==============================] - 0s 11ms/step - loss: 2.3596 - Categorical_Accuracy: 0.0922 - AUC: 0.5909 - val_loss: 2.3915 - val_Categorical_Accuracy: 0.0800 - val_AUC: 0.5851 - lr: 2.0000e-05\n",
      "Epoch 47/75\n",
      "36/36 [==============================] - 0s 11ms/step - loss: 2.3394 - Categorical_Accuracy: 0.1211 - AUC: 0.6095 - val_loss: 2.3895 - val_Categorical_Accuracy: 0.0800 - val_AUC: 0.5854 - lr: 2.0000e-05\n",
      "Epoch 48/75\n",
      "36/36 [==============================] - 0s 10ms/step - loss: 2.3557 - Categorical_Accuracy: 0.0967 - AUC: 0.5924 - val_loss: 2.3906 - val_Categorical_Accuracy: 0.0860 - val_AUC: 0.5854 - lr: 2.0000e-05\n",
      "Epoch 49/75\n",
      "36/36 [==============================] - 0s 10ms/step - loss: 2.3538 - Categorical_Accuracy: 0.0967 - AUC: 0.5990 - val_loss: 2.3897 - val_Categorical_Accuracy: 0.0900 - val_AUC: 0.5823 - lr: 2.0000e-05\n",
      "Epoch 50/75\n",
      "36/36 [==============================] - 0s 11ms/step - loss: 2.3591 - Categorical_Accuracy: 0.0933 - AUC: 0.5841 - val_loss: 2.3887 - val_Categorical_Accuracy: 0.0840 - val_AUC: 0.5861 - lr: 2.0000e-05\n",
      "Epoch 51/75\n",
      "36/36 [==============================] - 0s 10ms/step - loss: 2.3422 - Categorical_Accuracy: 0.0978 - AUC: 0.6071 - val_loss: 2.3883 - val_Categorical_Accuracy: 0.0860 - val_AUC: 0.5832 - lr: 2.0000e-05\n",
      "Epoch 52/75\n",
      "36/36 [==============================] - 0s 10ms/step - loss: 2.3389 - Categorical_Accuracy: 0.1289 - AUC: 0.6077 - val_loss: 2.3835 - val_Categorical_Accuracy: 0.0800 - val_AUC: 0.5917 - lr: 2.0000e-05\n",
      "Epoch 53/75\n",
      "36/36 [==============================] - 0s 10ms/step - loss: 2.3514 - Categorical_Accuracy: 0.1000 - AUC: 0.5984 - val_loss: 2.3823 - val_Categorical_Accuracy: 0.0840 - val_AUC: 0.5966 - lr: 2.0000e-05\n",
      "Epoch 54/75\n",
      "36/36 [==============================] - 0s 10ms/step - loss: 2.3535 - Categorical_Accuracy: 0.1089 - AUC: 0.5961 - val_loss: 2.3813 - val_Categorical_Accuracy: 0.0960 - val_AUC: 0.5990 - lr: 2.0000e-05\n",
      "Epoch 55/75\n",
      "36/36 [==============================] - 0s 11ms/step - loss: 2.3558 - Categorical_Accuracy: 0.0944 - AUC: 0.5969 - val_loss: 2.3810 - val_Categorical_Accuracy: 0.0900 - val_AUC: 0.6016 - lr: 2.0000e-05\n",
      "Epoch 56/75\n",
      "36/36 [==============================] - 0s 10ms/step - loss: 2.3425 - Categorical_Accuracy: 0.1144 - AUC: 0.6094 - val_loss: 2.3814 - val_Categorical_Accuracy: 0.0880 - val_AUC: 0.5992 - lr: 2.0000e-05\n",
      "Epoch 57/75\n",
      "36/36 [==============================] - 0s 10ms/step - loss: 2.3444 - Categorical_Accuracy: 0.1144 - AUC: 0.6057 - val_loss: 2.3762 - val_Categorical_Accuracy: 0.0920 - val_AUC: 0.6045 - lr: 2.0000e-05\n",
      "Epoch 58/75\n",
      "36/36 [==============================] - 0s 10ms/step - loss: 2.3396 - Categorical_Accuracy: 0.1089 - AUC: 0.6066 - val_loss: 2.3764 - val_Categorical_Accuracy: 0.0900 - val_AUC: 0.6071 - lr: 2.0000e-05\n",
      "Epoch 59/75\n",
      "36/36 [==============================] - 0s 11ms/step - loss: 2.3346 - Categorical_Accuracy: 0.1044 - AUC: 0.6131 - val_loss: 2.3766 - val_Categorical_Accuracy: 0.1000 - val_AUC: 0.6069 - lr: 2.0000e-05\n",
      "Epoch 60/75\n",
      "36/36 [==============================] - 0s 10ms/step - loss: 2.3254 - Categorical_Accuracy: 0.1122 - AUC: 0.6157 - val_loss: 2.3725 - val_Categorical_Accuracy: 0.0980 - val_AUC: 0.6092 - lr: 2.0000e-05\n",
      "Epoch 61/75\n",
      "36/36 [==============================] - 0s 11ms/step - loss: 2.3316 - Categorical_Accuracy: 0.1089 - AUC: 0.6126 - val_loss: 2.3698 - val_Categorical_Accuracy: 0.1000 - val_AUC: 0.6107 - lr: 2.0000e-05\n",
      "Epoch 62/75\n",
      "36/36 [==============================] - 0s 10ms/step - loss: 2.3356 - Categorical_Accuracy: 0.1233 - AUC: 0.6151 - val_loss: 2.3715 - val_Categorical_Accuracy: 0.1020 - val_AUC: 0.6125 - lr: 2.0000e-05\n",
      "Epoch 63/75\n",
      "36/36 [==============================] - 0s 10ms/step - loss: 2.3254 - Categorical_Accuracy: 0.1222 - AUC: 0.6173 - val_loss: 2.3701 - val_Categorical_Accuracy: 0.1040 - val_AUC: 0.6122 - lr: 2.0000e-05\n",
      "Epoch 64/75\n",
      "36/36 [==============================] - 0s 11ms/step - loss: 2.3280 - Categorical_Accuracy: 0.1044 - AUC: 0.6198 - val_loss: 2.3651 - val_Categorical_Accuracy: 0.0980 - val_AUC: 0.6188 - lr: 2.0000e-05\n",
      "Epoch 65/75\n",
      "36/36 [==============================] - 0s 11ms/step - loss: 2.3409 - Categorical_Accuracy: 0.1256 - AUC: 0.6063 - val_loss: 2.3636 - val_Categorical_Accuracy: 0.1000 - val_AUC: 0.6248 - lr: 2.0000e-05\n",
      "Epoch 66/75\n",
      "36/36 [==============================] - 0s 11ms/step - loss: 2.3292 - Categorical_Accuracy: 0.1133 - AUC: 0.6160 - val_loss: 2.3595 - val_Categorical_Accuracy: 0.1040 - val_AUC: 0.6303 - lr: 2.0000e-05\n",
      "Epoch 67/75\n",
      "36/36 [==============================] - 0s 11ms/step - loss: 2.3357 - Categorical_Accuracy: 0.0967 - AUC: 0.6139 - val_loss: 2.3598 - val_Categorical_Accuracy: 0.0980 - val_AUC: 0.6317 - lr: 2.0000e-05\n",
      "Epoch 68/75\n",
      "36/36 [==============================] - 0s 11ms/step - loss: 2.3152 - Categorical_Accuracy: 0.1100 - AUC: 0.6302 - val_loss: 2.3569 - val_Categorical_Accuracy: 0.0960 - val_AUC: 0.6331 - lr: 2.0000e-05\n",
      "Epoch 69/75\n",
      "36/36 [==============================] - 0s 10ms/step - loss: 2.3186 - Categorical_Accuracy: 0.1278 - AUC: 0.6239 - val_loss: 2.3528 - val_Categorical_Accuracy: 0.1000 - val_AUC: 0.6334 - lr: 2.0000e-05\n",
      "Epoch 70/75\n",
      "36/36 [==============================] - 0s 10ms/step - loss: 2.3139 - Categorical_Accuracy: 0.1289 - AUC: 0.6304 - val_loss: 2.3544 - val_Categorical_Accuracy: 0.1020 - val_AUC: 0.6371 - lr: 2.0000e-05\n",
      "Epoch 71/75\n",
      "36/36 [==============================] - 0s 11ms/step - loss: 2.3062 - Categorical_Accuracy: 0.1233 - AUC: 0.6368 - val_loss: 2.3493 - val_Categorical_Accuracy: 0.1020 - val_AUC: 0.6370 - lr: 2.0000e-05\n",
      "Epoch 72/75\n",
      "36/36 [==============================] - 0s 11ms/step - loss: 2.2915 - Categorical_Accuracy: 0.1367 - AUC: 0.6452 - val_loss: 2.3468 - val_Categorical_Accuracy: 0.1000 - val_AUC: 0.6398 - lr: 2.0000e-05\n",
      "Epoch 73/75\n",
      "36/36 [==============================] - 0s 11ms/step - loss: 2.2972 - Categorical_Accuracy: 0.1400 - AUC: 0.6409 - val_loss: 2.3452 - val_Categorical_Accuracy: 0.1040 - val_AUC: 0.6447 - lr: 2.0000e-05\n",
      "Epoch 74/75\n",
      "36/36 [==============================] - 0s 11ms/step - loss: 2.3077 - Categorical_Accuracy: 0.1311 - AUC: 0.6388 - val_loss: 2.3402 - val_Categorical_Accuracy: 0.1000 - val_AUC: 0.6484 - lr: 2.0000e-05\n",
      "Epoch 75/75\n",
      "36/36 [==============================] - 0s 10ms/step - loss: 2.3146 - Categorical_Accuracy: 0.1211 - AUC: 0.6259 - val_loss: 2.3439 - val_Categorical_Accuracy: 0.1180 - val_AUC: 0.6537 - lr: 2.0000e-05\n"
     ]
    }
   ]
  },
  {
   "cell_type": "code",
   "metadata": {
    "colab": {
     "base_uri": "https://localhost:8080/",
     "height": 1000
    },
    "id": "PA2TwszW-exb",
    "executionInfo": {
     "status": "ok",
     "timestamp": 1638887790176,
     "user_tz": 300,
     "elapsed": 656,
     "user": {
      "displayName": "Andrew Ning",
      "photoUrl": "https://lh3.googleusercontent.com/a-/AOh14GgyUiXynCeybWnGTpfHnOSTarAoJjvj-8rK8oxkzQ=s64",
      "userId": "04097743773373129918"
     }
    },
    "outputId": "d942ade5-5572-490c-a21a-25db42836b9f"
   },
   "source": [
    "modelFullFR = tf.keras.Model(\n",
    "    inputs=[inputFR],\n",
    "    outputs=[layersFR],\n",
    "    name='Full_Model_FR'\n",
    ")\n",
    "\n",
    "modelFullFR.summary(expand_nested=True)\n",
    "tf.keras.utils.plot_model(modelFullFR, expand_nested=True)"
   ],
   "execution_count": 132,
   "outputs": [
    {
     "output_type": "stream",
     "name": "stdout",
     "text": [
      "Model: \"Full_Model_FR\"\n",
      "_________________________________________________________________\n",
      " Layer (type)                Output Shape              Param #   \n",
      "=================================================================\n",
      " FR_Input (InputLayer)       [(None, 188, 100, 1)]     0         \n",
      "                                                                 \n",
      " Shared_Layers (Sequential)  (None, 10, 5, 128)        127744    \n",
      "|¯¯¯¯¯¯¯¯¯¯¯¯¯¯¯¯¯¯¯¯¯¯¯¯¯¯¯¯¯¯¯¯¯¯¯¯¯¯¯¯¯¯¯¯¯¯¯¯¯¯¯¯¯¯¯¯¯¯¯¯¯¯¯|\n",
      "| Shared_Conv2D1 (Conv2D)   (None, 94, 50, 32)        2624      |\n",
      "|                                                               |\n",
      "| Shared_MaxPool2D1 (MaxPooli  (None, 46, 24, 32)     0         |\n",
      "| ng2D)                                                         |\n",
      "|                                                               |\n",
      "| Shared_Conv2D2 (Conv2D)   (None, 46, 24, 64)        51264     |\n",
      "|                                                               |\n",
      "| Shared_MaxPool2D2 (MaxPooli  (None, 22, 11, 64)     0         |\n",
      "| ng2D)                                                         |\n",
      "|                                                               |\n",
      "| Shared_Conv2D3 (Conv2D)   (None, 22, 11, 128)       73856     |\n",
      "|                                                               |\n",
      "| Shared_MaxPool2D3 (MaxPooli  (None, 10, 5, 128)     0         |\n",
      "| ng2D)                                                         |\n",
      "¯¯¯¯¯¯¯¯¯¯¯¯¯¯¯¯¯¯¯¯¯¯¯¯¯¯¯¯¯¯¯¯¯¯¯¯¯¯¯¯¯¯¯¯¯¯¯¯¯¯¯¯¯¯¯¯¯¯¯¯¯¯¯¯¯\n",
      " FR (Sequential)             (None, 15)                329999    \n",
      "|¯¯¯¯¯¯¯¯¯¯¯¯¯¯¯¯¯¯¯¯¯¯¯¯¯¯¯¯¯¯¯¯¯¯¯¯¯¯¯¯¯¯¯¯¯¯¯¯¯¯¯¯¯¯¯¯¯¯¯¯¯¯¯|\n",
      "| FR_Conv2D1 (Conv2D)       (None, 10, 5, 128)        147584    |\n",
      "|                                                               |\n",
      "| FR_MaxPool2D1 (MaxPooling2D  (None, 5, 2, 128)      0         |\n",
      "| )                                                             |\n",
      "|                                                               |\n",
      "| flatten_14 (Flatten)      (None, 1280)              0         |\n",
      "|                                                               |\n",
      "| dropout_42 (Dropout)      (None, 1280)              0         |\n",
      "|                                                               |\n",
      "| FR_DenseLayer1 (Dense)    (None, 128)               163968    |\n",
      "|                                                               |\n",
      "| dropout_43 (Dropout)      (None, 128)               0         |\n",
      "|                                                               |\n",
      "| FR_DenseLayer2 (Dense)    (None, 128)               16512     |\n",
      "|                                                               |\n",
      "| dropout_44 (Dropout)      (None, 128)               0         |\n",
      "|                                                               |\n",
      "| FR_Output (Dense)         (None, 15)                1935      |\n",
      "¯¯¯¯¯¯¯¯¯¯¯¯¯¯¯¯¯¯¯¯¯¯¯¯¯¯¯¯¯¯¯¯¯¯¯¯¯¯¯¯¯¯¯¯¯¯¯¯¯¯¯¯¯¯¯¯¯¯¯¯¯¯¯¯¯\n",
      "=================================================================\n",
      "Total params: 457,743\n",
      "Trainable params: 457,743\n",
      "Non-trainable params: 0\n",
      "_________________________________________________________________\n"
     ]
    },
    {
     "output_type": "execute_result",
     "data": {
      "image/png": "[encoded data removed]",
      "text/plain": [
       "<IPython.core.display.Image object>"
      ]
     },
     "metadata": {},
     "execution_count": 132
    }
   ]
  },
  {
   "cell_type": "code",
   "metadata": {
    "id": "fKLqVeH5_FrM",
    "executionInfo": {
     "status": "ok",
     "timestamp": 1638887790177,
     "user_tz": 300,
     "elapsed": 8,
     "user": {
      "displayName": "Andrew Ning",
      "photoUrl": "https://lh3.googleusercontent.com/a-/AOh14GgyUiXynCeybWnGTpfHnOSTarAoJjvj-8rK8oxkzQ=s64",
      "userId": "04097743773373129918"
     }
    }
   },
   "source": [
    "modelFullFR.compile(\n",
    "    optimizer = tf.keras.optimizers.Adam(learning_rate=LEARNING_RATE),\n",
    "    loss=[tf.keras.losses.CategoricalCrossentropy()],\n",
    "    metrics=[tf.keras.metrics.CategoricalAccuracy(name='Categorical_Accuracy'), tf.keras.metrics.AUC(name='AUC')]\n",
    ")"
   ],
   "execution_count": 133,
   "outputs": []
  },
  {
   "cell_type": "code",
   "metadata": {
    "colab": {
     "base_uri": "https://localhost:8080/"
    },
    "id": "hOoKTX0a_INU",
    "executionInfo": {
     "status": "ok",
     "timestamp": 1638887827412,
     "user_tz": 300,
     "elapsed": 37242,
     "user": {
      "displayName": "Andrew Ning",
      "photoUrl": "https://lh3.googleusercontent.com/a-/AOh14GgyUiXynCeybWnGTpfHnOSTarAoJjvj-8rK8oxkzQ=s64",
      "userId": "04097743773373129918"
     }
    },
    "outputId": "c33a9b6a-81a6-4810-9fd5-181545468fff"
   },
   "source": [
    "ext = '-FULL-FR'\n",
    "training_callbackFULLFR = callbacks.TensorBoard(log_dir=LOG_DIR + RUN + ext)\n",
    "\n",
    "historyFR = modelFullFR.fit(\n",
    "    x = traindatasetFR,\n",
    "    validation_data = valdatasetFR,\n",
    "    epochs=EPOCHS,\n",
    "    steps_per_epoch=STEPS_PER_EPOCH,\n",
    "    callbacks=[training_callbackFULLFR,earlystopping_callback,reduce_lr_callback],\n",
    "    verbose=1\n",
    ")"
   ],
   "execution_count": 134,
   "outputs": [
    {
     "output_type": "stream",
     "name": "stdout",
     "text": [
      "Epoch 1/75\n",
      "36/36 [==============================] - 2s 29ms/step - loss: 2.7300 - Categorical_Accuracy: 0.0656 - AUC: 0.5058 - val_loss: 2.6949 - val_Categorical_Accuracy: 0.0700 - val_AUC: 0.5455 - lr: 1.0000e-04\n",
      "Epoch 2/75\n",
      "36/36 [==============================] - 0s 10ms/step - loss: 2.7133 - Categorical_Accuracy: 0.0744 - AUC: 0.5190 - val_loss: 2.6897 - val_Categorical_Accuracy: 0.1040 - val_AUC: 0.5717 - lr: 1.0000e-04\n",
      "Epoch 3/75\n",
      "36/36 [==============================] - 1s 9ms/step - loss: 2.7065 - Categorical_Accuracy: 0.0644 - AUC: 0.5246 - val_loss: 2.6825 - val_Categorical_Accuracy: 0.1140 - val_AUC: 0.5784 - lr: 1.0000e-04\n",
      "Epoch 4/75\n",
      "36/36 [==============================] - 1s 9ms/step - loss: 2.6939 - Categorical_Accuracy: 0.0889 - AUC: 0.5450 - val_loss: 2.6777 - val_Categorical_Accuracy: 0.1220 - val_AUC: 0.5959 - lr: 1.0000e-04\n",
      "Epoch 5/75\n",
      "36/36 [==============================] - 1s 9ms/step - loss: 2.6903 - Categorical_Accuracy: 0.0889 - AUC: 0.5472 - val_loss: 2.6672 - val_Categorical_Accuracy: 0.0860 - val_AUC: 0.5980 - lr: 1.0000e-04\n",
      "Epoch 6/75\n",
      "36/36 [==============================] - 1s 10ms/step - loss: 2.6888 - Categorical_Accuracy: 0.0611 - AUC: 0.5442 - val_loss: 2.6689 - val_Categorical_Accuracy: 0.0960 - val_AUC: 0.6121 - lr: 1.0000e-04\n",
      "Epoch 7/75\n",
      "36/36 [==============================] - 0s 10ms/step - loss: 2.6786 - Categorical_Accuracy: 0.0767 - AUC: 0.5615 - val_loss: 2.6570 - val_Categorical_Accuracy: 0.1160 - val_AUC: 0.6217 - lr: 1.0000e-04\n",
      "Epoch 8/75\n",
      "36/36 [==============================] - 0s 11ms/step - loss: 2.6737 - Categorical_Accuracy: 0.0778 - AUC: 0.5679 - val_loss: 2.6464 - val_Categorical_Accuracy: 0.1380 - val_AUC: 0.6399 - lr: 1.0000e-04\n",
      "Epoch 9/75\n",
      "36/36 [==============================] - 0s 11ms/step - loss: 2.6660 - Categorical_Accuracy: 0.0756 - AUC: 0.5719 - val_loss: 2.6458 - val_Categorical_Accuracy: 0.1700 - val_AUC: 0.6652 - lr: 1.0000e-04\n",
      "Epoch 10/75\n",
      "36/36 [==============================] - 0s 10ms/step - loss: 2.6437 - Categorical_Accuracy: 0.1056 - AUC: 0.6010 - val_loss: 2.6099 - val_Categorical_Accuracy: 0.1740 - val_AUC: 0.6863 - lr: 1.0000e-04\n",
      "Epoch 11/75\n",
      "36/36 [==============================] - 0s 11ms/step - loss: 2.6364 - Categorical_Accuracy: 0.0900 - AUC: 0.6028 - val_loss: 2.5937 - val_Categorical_Accuracy: 0.1760 - val_AUC: 0.6716 - lr: 1.0000e-04\n",
      "Epoch 12/75\n",
      "36/36 [==============================] - 0s 10ms/step - loss: 2.6109 - Categorical_Accuracy: 0.1178 - AUC: 0.6225 - val_loss: 2.5653 - val_Categorical_Accuracy: 0.1740 - val_AUC: 0.7023 - lr: 1.0000e-04\n",
      "Epoch 13/75\n",
      "36/36 [==============================] - 0s 11ms/step - loss: 2.5875 - Categorical_Accuracy: 0.1222 - AUC: 0.6429 - val_loss: 2.5437 - val_Categorical_Accuracy: 0.1700 - val_AUC: 0.7086 - lr: 1.0000e-04\n",
      "Epoch 14/75\n",
      "36/36 [==============================] - 0s 10ms/step - loss: 2.5467 - Categorical_Accuracy: 0.1211 - AUC: 0.6629 - val_loss: 2.5087 - val_Categorical_Accuracy: 0.2060 - val_AUC: 0.7186 - lr: 1.0000e-04\n",
      "Epoch 15/75\n",
      "36/36 [==============================] - 0s 10ms/step - loss: 2.5475 - Categorical_Accuracy: 0.1156 - AUC: 0.6607 - val_loss: 2.4940 - val_Categorical_Accuracy: 0.2080 - val_AUC: 0.7369 - lr: 1.0000e-04\n",
      "Epoch 16/75\n",
      "36/36 [==============================] - 0s 10ms/step - loss: 2.5647 - Categorical_Accuracy: 0.1111 - AUC: 0.6576 - val_loss: 2.5114 - val_Categorical_Accuracy: 0.1860 - val_AUC: 0.7278 - lr: 1.0000e-04\n",
      "Epoch 17/75\n",
      "36/36 [==============================] - 0s 11ms/step - loss: 2.5252 - Categorical_Accuracy: 0.1533 - AUC: 0.6709 - val_loss: 2.4565 - val_Categorical_Accuracy: 0.2140 - val_AUC: 0.7446 - lr: 1.0000e-04\n",
      "Epoch 18/75\n",
      "36/36 [==============================] - 0s 11ms/step - loss: 2.4789 - Categorical_Accuracy: 0.1478 - AUC: 0.6989 - val_loss: 2.4337 - val_Categorical_Accuracy: 0.2020 - val_AUC: 0.7497 - lr: 1.0000e-04\n",
      "Epoch 19/75\n",
      "36/36 [==============================] - 0s 11ms/step - loss: 2.4291 - Categorical_Accuracy: 0.1600 - AUC: 0.7179 - val_loss: 2.3639 - val_Categorical_Accuracy: 0.1980 - val_AUC: 0.7615 - lr: 1.0000e-04\n",
      "Epoch 20/75\n",
      "36/36 [==============================] - 0s 11ms/step - loss: 2.4467 - Categorical_Accuracy: 0.1467 - AUC: 0.7124 - val_loss: 2.3809 - val_Categorical_Accuracy: 0.2240 - val_AUC: 0.7631 - lr: 1.0000e-04\n",
      "Epoch 21/75\n",
      "36/36 [==============================] - 0s 10ms/step - loss: 2.3990 - Categorical_Accuracy: 0.1789 - AUC: 0.7299 - val_loss: 2.3338 - val_Categorical_Accuracy: 0.2200 - val_AUC: 0.7860 - lr: 1.0000e-04\n",
      "Epoch 22/75\n",
      "36/36 [==============================] - 0s 10ms/step - loss: 2.3745 - Categorical_Accuracy: 0.1844 - AUC: 0.7405 - val_loss: 2.2868 - val_Categorical_Accuracy: 0.2240 - val_AUC: 0.7854 - lr: 1.0000e-04\n",
      "Epoch 23/75\n",
      "36/36 [==============================] - 0s 10ms/step - loss: 2.3761 - Categorical_Accuracy: 0.1756 - AUC: 0.7425 - val_loss: 2.2825 - val_Categorical_Accuracy: 0.2540 - val_AUC: 0.7963 - lr: 1.0000e-04\n",
      "Epoch 24/75\n",
      "36/36 [==============================] - 0s 11ms/step - loss: 2.3273 - Categorical_Accuracy: 0.1878 - AUC: 0.7580 - val_loss: 2.2341 - val_Categorical_Accuracy: 0.2460 - val_AUC: 0.7883 - lr: 1.0000e-04\n",
      "Epoch 25/75\n",
      "36/36 [==============================] - 0s 11ms/step - loss: 2.2916 - Categorical_Accuracy: 0.1933 - AUC: 0.7700 - val_loss: 2.2194 - val_Categorical_Accuracy: 0.2920 - val_AUC: 0.8130 - lr: 1.0000e-04\n",
      "Epoch 26/75\n",
      "36/36 [==============================] - 0s 11ms/step - loss: 2.2021 - Categorical_Accuracy: 0.2433 - AUC: 0.7929 - val_loss: 2.1800 - val_Categorical_Accuracy: 0.2600 - val_AUC: 0.8187 - lr: 1.0000e-04\n",
      "Epoch 27/75\n",
      "36/36 [==============================] - 0s 10ms/step - loss: 2.2311 - Categorical_Accuracy: 0.2078 - AUC: 0.7851 - val_loss: 2.1712 - val_Categorical_Accuracy: 0.2880 - val_AUC: 0.8078 - lr: 1.0000e-04\n",
      "Epoch 28/75\n",
      "36/36 [==============================] - 0s 10ms/step - loss: 2.2048 - Categorical_Accuracy: 0.2300 - AUC: 0.7943 - val_loss: 2.1327 - val_Categorical_Accuracy: 0.3020 - val_AUC: 0.8332 - lr: 1.0000e-04\n",
      "Epoch 29/75\n",
      "36/36 [==============================] - 0s 10ms/step - loss: 2.1220 - Categorical_Accuracy: 0.2533 - AUC: 0.8177 - val_loss: 2.1069 - val_Categorical_Accuracy: 0.2880 - val_AUC: 0.8323 - lr: 1.0000e-04\n",
      "Epoch 30/75\n",
      "36/36 [==============================] - 0s 10ms/step - loss: 2.1135 - Categorical_Accuracy: 0.2600 - AUC: 0.8164 - val_loss: 2.0707 - val_Categorical_Accuracy: 0.3160 - val_AUC: 0.8368 - lr: 1.0000e-04\n",
      "Epoch 31/75\n",
      "36/36 [==============================] - 0s 10ms/step - loss: 2.1172 - Categorical_Accuracy: 0.2522 - AUC: 0.8149 - val_loss: 2.0973 - val_Categorical_Accuracy: 0.2940 - val_AUC: 0.8376 - lr: 1.0000e-04\n",
      "Epoch 32/75\n",
      "36/36 [==============================] - 0s 10ms/step - loss: 2.0860 - Categorical_Accuracy: 0.2400 - AUC: 0.8239 - val_loss: 2.0249 - val_Categorical_Accuracy: 0.3360 - val_AUC: 0.8447 - lr: 1.0000e-04\n",
      "Epoch 33/75\n",
      "36/36 [==============================] - 0s 11ms/step - loss: 2.0111 - Categorical_Accuracy: 0.2789 - AUC: 0.8403 - val_loss: 1.9874 - val_Categorical_Accuracy: 0.3260 - val_AUC: 0.8442 - lr: 1.0000e-04\n",
      "Epoch 34/75\n",
      "36/36 [==============================] - 0s 10ms/step - loss: 2.0002 - Categorical_Accuracy: 0.2689 - AUC: 0.8413 - val_loss: 1.9855 - val_Categorical_Accuracy: 0.3440 - val_AUC: 0.8528 - lr: 1.0000e-04\n",
      "Epoch 35/75\n",
      "36/36 [==============================] - 0s 10ms/step - loss: 1.9894 - Categorical_Accuracy: 0.2833 - AUC: 0.8445 - val_loss: 1.9784 - val_Categorical_Accuracy: 0.3320 - val_AUC: 0.8482 - lr: 1.0000e-04\n",
      "Epoch 36/75\n",
      "36/36 [==============================] - 0s 11ms/step - loss: 1.9563 - Categorical_Accuracy: 0.2956 - AUC: 0.8475 - val_loss: 1.9766 - val_Categorical_Accuracy: 0.3300 - val_AUC: 0.8563 - lr: 1.0000e-04\n",
      "Epoch 37/75\n",
      "36/36 [==============================] - 0s 11ms/step - loss: 1.9585 - Categorical_Accuracy: 0.2944 - AUC: 0.8484 - val_loss: 1.9552 - val_Categorical_Accuracy: 0.3540 - val_AUC: 0.8609 - lr: 1.0000e-04\n",
      "Epoch 38/75\n",
      "36/36 [==============================] - 0s 11ms/step - loss: 1.8963 - Categorical_Accuracy: 0.3222 - AUC: 0.8600 - val_loss: 1.9117 - val_Categorical_Accuracy: 0.3720 - val_AUC: 0.8647 - lr: 1.0000e-04\n",
      "Epoch 39/75\n",
      "36/36 [==============================] - 0s 10ms/step - loss: 1.8572 - Categorical_Accuracy: 0.3222 - AUC: 0.8688 - val_loss: 1.8921 - val_Categorical_Accuracy: 0.3740 - val_AUC: 0.8679 - lr: 1.0000e-04\n",
      "Epoch 40/75\n",
      "36/36 [==============================] - 0s 10ms/step - loss: 1.8593 - Categorical_Accuracy: 0.3056 - AUC: 0.8701 - val_loss: 1.8746 - val_Categorical_Accuracy: 0.3560 - val_AUC: 0.8650 - lr: 1.0000e-04\n",
      "Epoch 41/75\n",
      "36/36 [==============================] - 0s 10ms/step - loss: 1.8373 - Categorical_Accuracy: 0.3356 - AUC: 0.8709 - val_loss: 1.8547 - val_Categorical_Accuracy: 0.3880 - val_AUC: 0.8745 - lr: 1.0000e-04\n",
      "Epoch 42/75\n",
      "36/36 [==============================] - 0s 11ms/step - loss: 1.7787 - Categorical_Accuracy: 0.3511 - AUC: 0.8814 - val_loss: 1.8430 - val_Categorical_Accuracy: 0.3980 - val_AUC: 0.8789 - lr: 1.0000e-04\n",
      "Epoch 43/75\n",
      "36/36 [==============================] - 0s 10ms/step - loss: 1.7774 - Categorical_Accuracy: 0.3400 - AUC: 0.8808 - val_loss: 1.8293 - val_Categorical_Accuracy: 0.3740 - val_AUC: 0.8734 - lr: 1.0000e-04\n",
      "Epoch 44/75\n",
      "36/36 [==============================] - 0s 10ms/step - loss: 1.7159 - Categorical_Accuracy: 0.3678 - AUC: 0.8916 - val_loss: 1.7974 - val_Categorical_Accuracy: 0.3920 - val_AUC: 0.8835 - lr: 1.0000e-04\n",
      "Epoch 45/75\n",
      "36/36 [==============================] - 0s 10ms/step - loss: 1.7450 - Categorical_Accuracy: 0.3622 - AUC: 0.8860 - val_loss: 1.7947 - val_Categorical_Accuracy: 0.4020 - val_AUC: 0.8847 - lr: 1.0000e-04\n",
      "Epoch 46/75\n",
      "36/36 [==============================] - 0s 10ms/step - loss: 1.6922 - Categorical_Accuracy: 0.3589 - AUC: 0.8954 - val_loss: 1.7603 - val_Categorical_Accuracy: 0.4040 - val_AUC: 0.8838 - lr: 1.0000e-04\n",
      "Epoch 47/75\n",
      "36/36 [==============================] - 0s 10ms/step - loss: 1.7236 - Categorical_Accuracy: 0.3600 - AUC: 0.8888 - val_loss: 1.7844 - val_Categorical_Accuracy: 0.4020 - val_AUC: 0.8817 - lr: 1.0000e-04\n",
      "Epoch 48/75\n",
      "36/36 [==============================] - 0s 10ms/step - loss: 1.6471 - Categorical_Accuracy: 0.3956 - AUC: 0.9017 - val_loss: 1.7334 - val_Categorical_Accuracy: 0.4340 - val_AUC: 0.8882 - lr: 1.0000e-04\n",
      "Epoch 49/75\n",
      "36/36 [==============================] - 0s 10ms/step - loss: 1.6714 - Categorical_Accuracy: 0.3689 - AUC: 0.8975 - val_loss: 1.7517 - val_Categorical_Accuracy: 0.4160 - val_AUC: 0.8870 - lr: 1.0000e-04\n",
      "Epoch 50/75\n",
      "36/36 [==============================] - 0s 10ms/step - loss: 1.5780 - Categorical_Accuracy: 0.4000 - AUC: 0.9095 - val_loss: 1.6867 - val_Categorical_Accuracy: 0.4260 - val_AUC: 0.8940 - lr: 1.0000e-04\n",
      "Epoch 51/75\n",
      "36/36 [==============================] - 0s 10ms/step - loss: 1.5745 - Categorical_Accuracy: 0.4111 - AUC: 0.9101 - val_loss: 1.6704 - val_Categorical_Accuracy: 0.4280 - val_AUC: 0.8992 - lr: 1.0000e-04\n",
      "Epoch 52/75\n",
      "36/36 [==============================] - 0s 10ms/step - loss: 1.5981 - Categorical_Accuracy: 0.3956 - AUC: 0.9085 - val_loss: 1.6759 - val_Categorical_Accuracy: 0.4400 - val_AUC: 0.8992 - lr: 1.0000e-04\n",
      "Epoch 53/75\n",
      "36/36 [==============================] - 0s 11ms/step - loss: 1.5622 - Categorical_Accuracy: 0.4289 - AUC: 0.9117 - val_loss: 1.6692 - val_Categorical_Accuracy: 0.4480 - val_AUC: 0.8981 - lr: 1.0000e-04\n",
      "Epoch 54/75\n",
      "36/36 [==============================] - 0s 11ms/step - loss: 1.5375 - Categorical_Accuracy: 0.4078 - AUC: 0.9159 - val_loss: 1.6583 - val_Categorical_Accuracy: 0.4300 - val_AUC: 0.8972 - lr: 1.0000e-04\n",
      "Epoch 55/75\n",
      "36/36 [==============================] - 0s 10ms/step - loss: 1.4629 - Categorical_Accuracy: 0.4344 - AUC: 0.9246 - val_loss: 1.6520 - val_Categorical_Accuracy: 0.4280 - val_AUC: 0.8980 - lr: 1.0000e-04\n",
      "Epoch 56/75\n",
      "36/36 [==============================] - 0s 10ms/step - loss: 1.4632 - Categorical_Accuracy: 0.4411 - AUC: 0.9243 - val_loss: 1.6079 - val_Categorical_Accuracy: 0.4660 - val_AUC: 0.9040 - lr: 1.0000e-04\n",
      "Epoch 57/75\n",
      "36/36 [==============================] - 0s 10ms/step - loss: 1.4991 - Categorical_Accuracy: 0.4067 - AUC: 0.9205 - val_loss: 1.6484 - val_Categorical_Accuracy: 0.4680 - val_AUC: 0.9002 - lr: 1.0000e-04\n",
      "Epoch 58/75\n",
      "36/36 [==============================] - 0s 10ms/step - loss: 1.4604 - Categorical_Accuracy: 0.4211 - AUC: 0.9249 - val_loss: 1.6237 - val_Categorical_Accuracy: 0.4460 - val_AUC: 0.9017 - lr: 1.0000e-04\n",
      "Epoch 59/75\n",
      "36/36 [==============================] - 0s 11ms/step - loss: 1.4277 - Categorical_Accuracy: 0.4733 - AUC: 0.9274 - val_loss: 1.5952 - val_Categorical_Accuracy: 0.4640 - val_AUC: 0.9046 - lr: 1.0000e-04\n",
      "Epoch 60/75\n",
      "36/36 [==============================] - 0s 10ms/step - loss: 1.3825 - Categorical_Accuracy: 0.4644 - AUC: 0.9325 - val_loss: 1.6246 - val_Categorical_Accuracy: 0.4240 - val_AUC: 0.9002 - lr: 1.0000e-04\n",
      "Epoch 61/75\n",
      "36/36 [==============================] - 0s 11ms/step - loss: 1.3669 - Categorical_Accuracy: 0.4778 - AUC: 0.9347 - val_loss: 1.6101 - val_Categorical_Accuracy: 0.4460 - val_AUC: 0.9022 - lr: 1.0000e-04\n",
      "Epoch 62/75\n",
      "36/36 [==============================] - 0s 10ms/step - loss: 1.4578 - Categorical_Accuracy: 0.4589 - AUC: 0.9244 - val_loss: 1.5828 - val_Categorical_Accuracy: 0.4760 - val_AUC: 0.9085 - lr: 1.0000e-04\n",
      "Epoch 63/75\n",
      "36/36 [==============================] - 0s 10ms/step - loss: 1.3905 - Categorical_Accuracy: 0.4956 - AUC: 0.9326 - val_loss: 1.5762 - val_Categorical_Accuracy: 0.4840 - val_AUC: 0.9076 - lr: 1.0000e-04\n",
      "Epoch 64/75\n",
      "36/36 [==============================] - 0s 10ms/step - loss: 1.3573 - Categorical_Accuracy: 0.4933 - AUC: 0.9357 - val_loss: 1.5737 - val_Categorical_Accuracy: 0.4920 - val_AUC: 0.9079 - lr: 1.0000e-04\n",
      "Epoch 65/75\n",
      "36/36 [==============================] - 0s 10ms/step - loss: 1.2818 - Categorical_Accuracy: 0.5056 - AUC: 0.9432 - val_loss: 1.5216 - val_Categorical_Accuracy: 0.4920 - val_AUC: 0.9152 - lr: 1.0000e-04\n",
      "Epoch 66/75\n",
      "36/36 [==============================] - 0s 10ms/step - loss: 1.3211 - Categorical_Accuracy: 0.4867 - AUC: 0.9391 - val_loss: 1.5288 - val_Categorical_Accuracy: 0.4880 - val_AUC: 0.9137 - lr: 1.0000e-04\n",
      "Epoch 67/75\n",
      "36/36 [==============================] - 0s 10ms/step - loss: 1.2886 - Categorical_Accuracy: 0.4956 - AUC: 0.9423 - val_loss: 1.5544 - val_Categorical_Accuracy: 0.4900 - val_AUC: 0.9093 - lr: 1.0000e-04\n",
      "Epoch 68/75\n",
      "36/36 [==============================] - 0s 10ms/step - loss: 1.2113 - Categorical_Accuracy: 0.5356 - AUC: 0.9500 - val_loss: 1.5001 - val_Categorical_Accuracy: 0.5040 - val_AUC: 0.9170 - lr: 1.0000e-04\n",
      "Epoch 69/75\n",
      "36/36 [==============================] - 0s 11ms/step - loss: 1.2819 - Categorical_Accuracy: 0.5156 - AUC: 0.9416 - val_loss: 1.5509 - val_Categorical_Accuracy: 0.4860 - val_AUC: 0.9098 - lr: 1.0000e-04\n",
      "Epoch 70/75\n",
      "36/36 [==============================] - 0s 10ms/step - loss: 1.2039 - Categorical_Accuracy: 0.5400 - AUC: 0.9498 - val_loss: 1.5162 - val_Categorical_Accuracy: 0.5120 - val_AUC: 0.9149 - lr: 1.0000e-04\n",
      "Epoch 71/75\n",
      "36/36 [==============================] - 0s 10ms/step - loss: 1.1773 - Categorical_Accuracy: 0.5500 - AUC: 0.9521 - val_loss: 1.4955 - val_Categorical_Accuracy: 0.5140 - val_AUC: 0.9171 - lr: 1.0000e-04\n",
      "Epoch 72/75\n",
      "36/36 [==============================] - 0s 10ms/step - loss: 1.1365 - Categorical_Accuracy: 0.5789 - AUC: 0.9552 - val_loss: 1.5780 - val_Categorical_Accuracy: 0.4680 - val_AUC: 0.9060 - lr: 1.0000e-04\n",
      "Epoch 73/75\n",
      "36/36 [==============================] - 0s 11ms/step - loss: 1.1587 - Categorical_Accuracy: 0.5522 - AUC: 0.9531 - val_loss: 1.4983 - val_Categorical_Accuracy: 0.4740 - val_AUC: 0.9176 - lr: 1.0000e-04\n",
      "Epoch 74/75\n",
      "36/36 [==============================] - 0s 11ms/step - loss: 1.1311 - Categorical_Accuracy: 0.5644 - AUC: 0.9558 - val_loss: 1.4931 - val_Categorical_Accuracy: 0.4780 - val_AUC: 0.9172 - lr: 1.0000e-04\n",
      "Epoch 75/75\n",
      "36/36 [==============================] - 0s 10ms/step - loss: 1.0675 - Categorical_Accuracy: 0.5778 - AUC: 0.9613 - val_loss: 1.5297 - val_Categorical_Accuracy: 0.4960 - val_AUC: 0.9124 - lr: 1.0000e-04\n"
     ]
    }
   ]
  },
  {
   "cell_type": "code",
   "metadata": {
    "colab": {
     "base_uri": "https://localhost:8080/",
     "height": 1000
    },
    "id": "TS9hjxe3IoSA",
    "executionInfo": {
     "status": "ok",
     "timestamp": 1638887828015,
     "user_tz": 300,
     "elapsed": 612,
     "user": {
      "displayName": "Andrew Ning",
      "photoUrl": "https://lh3.googleusercontent.com/a-/AOh14GgyUiXynCeybWnGTpfHnOSTarAoJjvj-8rK8oxkzQ=s64",
      "userId": "04097743773373129918"
     }
    },
    "outputId": "1d1283bf-86b8-4aac-8b6e-bb094f02d279"
   },
   "source": [
    "modelFullDE = tf.keras.Model(\n",
    "    inputs=[inputDE],\n",
    "    outputs=[layersDE],\n",
    "    name='Full_Model_DE'\n",
    ")\n",
    "\n",
    "modelFullDE.summary(expand_nested=True)\n",
    "tf.keras.utils.plot_model(modelFullDE, expand_nested=True)"
   ],
   "execution_count": 135,
   "outputs": [
    {
     "output_type": "stream",
     "name": "stdout",
     "text": [
      "Model: \"Full_Model_DE\"\n",
      "_________________________________________________________________\n",
      " Layer (type)                Output Shape              Param #   \n",
      "=================================================================\n",
      " DE_Input (InputLayer)       [(None, 188, 100, 1)]     0         \n",
      "                                                                 \n",
      " Shared_Layers (Sequential)  (None, 10, 5, 128)        127744    \n",
      "|¯¯¯¯¯¯¯¯¯¯¯¯¯¯¯¯¯¯¯¯¯¯¯¯¯¯¯¯¯¯¯¯¯¯¯¯¯¯¯¯¯¯¯¯¯¯¯¯¯¯¯¯¯¯¯¯¯¯¯¯¯¯¯|\n",
      "| Shared_Conv2D1 (Conv2D)   (None, 94, 50, 32)        2624      |\n",
      "|                                                               |\n",
      "| Shared_MaxPool2D1 (MaxPooli  (None, 46, 24, 32)     0         |\n",
      "| ng2D)                                                         |\n",
      "|                                                               |\n",
      "| Shared_Conv2D2 (Conv2D)   (None, 46, 24, 64)        51264     |\n",
      "|                                                               |\n",
      "| Shared_MaxPool2D2 (MaxPooli  (None, 22, 11, 64)     0         |\n",
      "| ng2D)                                                         |\n",
      "|                                                               |\n",
      "| Shared_Conv2D3 (Conv2D)   (None, 22, 11, 128)       73856     |\n",
      "|                                                               |\n",
      "| Shared_MaxPool2D3 (MaxPooli  (None, 10, 5, 128)     0         |\n",
      "| ng2D)                                                         |\n",
      "¯¯¯¯¯¯¯¯¯¯¯¯¯¯¯¯¯¯¯¯¯¯¯¯¯¯¯¯¯¯¯¯¯¯¯¯¯¯¯¯¯¯¯¯¯¯¯¯¯¯¯¯¯¯¯¯¯¯¯¯¯¯¯¯¯\n",
      " DE (Sequential)             (None, 15)                329999    \n",
      "|¯¯¯¯¯¯¯¯¯¯¯¯¯¯¯¯¯¯¯¯¯¯¯¯¯¯¯¯¯¯¯¯¯¯¯¯¯¯¯¯¯¯¯¯¯¯¯¯¯¯¯¯¯¯¯¯¯¯¯¯¯¯¯|\n",
      "| DE_Conv2D1 (Conv2D)       (None, 10, 5, 128)        147584    |\n",
      "|                                                               |\n",
      "| DE_MaxPool2D1 (MaxPooling2D  (None, 5, 2, 128)      0         |\n",
      "| )                                                             |\n",
      "|                                                               |\n",
      "| flatten_15 (Flatten)      (None, 1280)              0         |\n",
      "|                                                               |\n",
      "| dropout_45 (Dropout)      (None, 1280)              0         |\n",
      "|                                                               |\n",
      "| DE_DenseLayer1 (Dense)    (None, 128)               163968    |\n",
      "|                                                               |\n",
      "| dropout_46 (Dropout)      (None, 128)               0         |\n",
      "|                                                               |\n",
      "| DE_DenseLayer2 (Dense)    (None, 128)               16512     |\n",
      "|                                                               |\n",
      "| dropout_47 (Dropout)      (None, 128)               0         |\n",
      "|                                                               |\n",
      "| DE_Output (Dense)         (None, 15)                1935      |\n",
      "¯¯¯¯¯¯¯¯¯¯¯¯¯¯¯¯¯¯¯¯¯¯¯¯¯¯¯¯¯¯¯¯¯¯¯¯¯¯¯¯¯¯¯¯¯¯¯¯¯¯¯¯¯¯¯¯¯¯¯¯¯¯¯¯¯\n",
      "=================================================================\n",
      "Total params: 457,743\n",
      "Trainable params: 457,743\n",
      "Non-trainable params: 0\n",
      "_________________________________________________________________\n"
     ]
    },
    {
     "output_type": "execute_result",
     "data": {
      "image/png": "[encoded data removed]",
      "text/plain": [
       "<IPython.core.display.Image object>"
      ]
     },
     "metadata": {},
     "execution_count": 135
    }
   ]
  },
  {
   "cell_type": "code",
   "metadata": {
    "id": "owv0RA_ZIwqO",
    "executionInfo": {
     "status": "ok",
     "timestamp": 1638887828016,
     "user_tz": 300,
     "elapsed": 4,
     "user": {
      "displayName": "Andrew Ning",
      "photoUrl": "https://lh3.googleusercontent.com/a-/AOh14GgyUiXynCeybWnGTpfHnOSTarAoJjvj-8rK8oxkzQ=s64",
      "userId": "04097743773373129918"
     }
    }
   },
   "source": [
    "modelFullDE.compile(\n",
    "    optimizer = tf.keras.optimizers.Adam(learning_rate=LEARNING_RATE),\n",
    "    loss=[tf.keras.losses.CategoricalCrossentropy()],\n",
    "    metrics=[tf.keras.metrics.CategoricalAccuracy(name='Categorical_Accuracy'), tf.keras.metrics.AUC(name='AUC')]\n",
    ")"
   ],
   "execution_count": 136,
   "outputs": []
  },
  {
   "cell_type": "code",
   "metadata": {
    "colab": {
     "base_uri": "https://localhost:8080/"
    },
    "id": "jg8MWgbeI1VQ",
    "executionInfo": {
     "status": "ok",
     "timestamp": 1638887865927,
     "user_tz": 300,
     "elapsed": 37915,
     "user": {
      "displayName": "Andrew Ning",
      "photoUrl": "https://lh3.googleusercontent.com/a-/AOh14GgyUiXynCeybWnGTpfHnOSTarAoJjvj-8rK8oxkzQ=s64",
      "userId": "04097743773373129918"
     }
    },
    "outputId": "302a12db-f712-44e2-9221-c9e0c361d91c"
   },
   "source": [
    "ext = '-FULL-DE'\n",
    "training_callbackFULLDE = callbacks.TensorBoard(log_dir=LOG_DIR + RUN + ext)\n",
    "\n",
    "historyDE = modelFullDE.fit(\n",
    "    x = traindatasetDE,\n",
    "    validation_data = valdatasetDE,\n",
    "    epochs=EPOCHS,\n",
    "    steps_per_epoch=STEPS_PER_EPOCH,\n",
    "    callbacks=[training_callbackFULLDE,earlystopping_callback,reduce_lr_callback],\n",
    "    verbose=1\n",
    ")"
   ],
   "execution_count": 137,
   "outputs": [
    {
     "output_type": "stream",
     "name": "stdout",
     "text": [
      "Epoch 1/75\n",
      "36/36 [==============================] - 2s 28ms/step - loss: 2.8123 - Categorical_Accuracy: 0.0678 - AUC: 0.4973 - val_loss: 2.6893 - val_Categorical_Accuracy: 0.0480 - val_AUC: 0.5704 - lr: 1.0000e-04\n",
      "Epoch 2/75\n",
      "36/36 [==============================] - 0s 9ms/step - loss: 2.7084 - Categorical_Accuracy: 0.0767 - AUC: 0.5396 - val_loss: 2.6767 - val_Categorical_Accuracy: 0.0680 - val_AUC: 0.5927 - lr: 1.0000e-04\n",
      "Epoch 3/75\n",
      "36/36 [==============================] - 1s 9ms/step - loss: 2.6920 - Categorical_Accuracy: 0.0800 - AUC: 0.5561 - val_loss: 2.6736 - val_Categorical_Accuracy: 0.0700 - val_AUC: 0.6199 - lr: 1.0000e-04\n",
      "Epoch 4/75\n",
      "36/36 [==============================] - 1s 10ms/step - loss: 2.6842 - Categorical_Accuracy: 0.0989 - AUC: 0.5618 - val_loss: 2.6645 - val_Categorical_Accuracy: 0.0940 - val_AUC: 0.6350 - lr: 1.0000e-04\n",
      "Epoch 5/75\n",
      "36/36 [==============================] - 1s 9ms/step - loss: 2.6607 - Categorical_Accuracy: 0.1044 - AUC: 0.5877 - val_loss: 2.6434 - val_Categorical_Accuracy: 0.1640 - val_AUC: 0.6599 - lr: 1.0000e-04\n",
      "Epoch 6/75\n",
      "36/36 [==============================] - 1s 10ms/step - loss: 2.6587 - Categorical_Accuracy: 0.0956 - AUC: 0.5854 - val_loss: 2.6252 - val_Categorical_Accuracy: 0.1260 - val_AUC: 0.6790 - lr: 1.0000e-04\n",
      "Epoch 7/75\n",
      "36/36 [==============================] - 1s 10ms/step - loss: 2.6366 - Categorical_Accuracy: 0.1167 - AUC: 0.6111 - val_loss: 2.6068 - val_Categorical_Accuracy: 0.1860 - val_AUC: 0.7084 - lr: 1.0000e-04\n",
      "Epoch 8/75\n",
      "36/36 [==============================] - 0s 10ms/step - loss: 2.6307 - Categorical_Accuracy: 0.1444 - AUC: 0.6105 - val_loss: 2.5704 - val_Categorical_Accuracy: 0.1720 - val_AUC: 0.7188 - lr: 1.0000e-04\n",
      "Epoch 9/75\n",
      "36/36 [==============================] - 0s 11ms/step - loss: 2.5654 - Categorical_Accuracy: 0.1489 - AUC: 0.6658 - val_loss: 2.5148 - val_Categorical_Accuracy: 0.1900 - val_AUC: 0.7319 - lr: 1.0000e-04\n",
      "Epoch 10/75\n",
      "36/36 [==============================] - 0s 10ms/step - loss: 2.5321 - Categorical_Accuracy: 0.1544 - AUC: 0.6726 - val_loss: 2.4658 - val_Categorical_Accuracy: 0.2320 - val_AUC: 0.7613 - lr: 1.0000e-04\n",
      "Epoch 11/75\n",
      "36/36 [==============================] - 0s 10ms/step - loss: 2.5022 - Categorical_Accuracy: 0.1578 - AUC: 0.6880 - val_loss: 2.4383 - val_Categorical_Accuracy: 0.2380 - val_AUC: 0.7758 - lr: 1.0000e-04\n",
      "Epoch 12/75\n",
      "36/36 [==============================] - 0s 10ms/step - loss: 2.4381 - Categorical_Accuracy: 0.1678 - AUC: 0.7197 - val_loss: 2.3565 - val_Categorical_Accuracy: 0.2440 - val_AUC: 0.7945 - lr: 1.0000e-04\n",
      "Epoch 13/75\n",
      "36/36 [==============================] - 0s 11ms/step - loss: 2.3408 - Categorical_Accuracy: 0.2044 - AUC: 0.7479 - val_loss: 2.2860 - val_Categorical_Accuracy: 0.2480 - val_AUC: 0.7939 - lr: 1.0000e-04\n",
      "Epoch 14/75\n",
      "36/36 [==============================] - 0s 11ms/step - loss: 2.3130 - Categorical_Accuracy: 0.2111 - AUC: 0.7622 - val_loss: 2.2553 - val_Categorical_Accuracy: 0.2600 - val_AUC: 0.8022 - lr: 1.0000e-04\n",
      "Epoch 15/75\n",
      "36/36 [==============================] - 0s 10ms/step - loss: 2.2711 - Categorical_Accuracy: 0.2144 - AUC: 0.7791 - val_loss: 2.2052 - val_Categorical_Accuracy: 0.2800 - val_AUC: 0.8201 - lr: 1.0000e-04\n",
      "Epoch 16/75\n",
      "36/36 [==============================] - 0s 10ms/step - loss: 2.2669 - Categorical_Accuracy: 0.2289 - AUC: 0.7764 - val_loss: 2.2075 - val_Categorical_Accuracy: 0.2720 - val_AUC: 0.8222 - lr: 1.0000e-04\n",
      "Epoch 17/75\n",
      "36/36 [==============================] - 0s 10ms/step - loss: 2.2162 - Categorical_Accuracy: 0.2322 - AUC: 0.7936 - val_loss: 2.1522 - val_Categorical_Accuracy: 0.2760 - val_AUC: 0.8328 - lr: 1.0000e-04\n",
      "Epoch 18/75\n",
      "36/36 [==============================] - 0s 10ms/step - loss: 2.1376 - Categorical_Accuracy: 0.2611 - AUC: 0.8103 - val_loss: 2.1247 - val_Categorical_Accuracy: 0.2940 - val_AUC: 0.8407 - lr: 1.0000e-04\n",
      "Epoch 19/75\n",
      "36/36 [==============================] - 0s 10ms/step - loss: 2.1426 - Categorical_Accuracy: 0.2533 - AUC: 0.8087 - val_loss: 2.0959 - val_Categorical_Accuracy: 0.2880 - val_AUC: 0.8444 - lr: 1.0000e-04\n",
      "Epoch 20/75\n",
      "36/36 [==============================] - 0s 10ms/step - loss: 2.0599 - Categorical_Accuracy: 0.2789 - AUC: 0.8271 - val_loss: 2.0662 - val_Categorical_Accuracy: 0.2820 - val_AUC: 0.8500 - lr: 1.0000e-04\n",
      "Epoch 21/75\n",
      "36/36 [==============================] - 0s 10ms/step - loss: 2.0287 - Categorical_Accuracy: 0.2856 - AUC: 0.8390 - val_loss: 1.9997 - val_Categorical_Accuracy: 0.3040 - val_AUC: 0.8568 - lr: 1.0000e-04\n",
      "Epoch 22/75\n",
      "36/36 [==============================] - 0s 11ms/step - loss: 2.0452 - Categorical_Accuracy: 0.2722 - AUC: 0.8346 - val_loss: 1.9911 - val_Categorical_Accuracy: 0.3060 - val_AUC: 0.8632 - lr: 1.0000e-04\n",
      "Epoch 23/75\n",
      "36/36 [==============================] - 0s 10ms/step - loss: 2.0110 - Categorical_Accuracy: 0.2956 - AUC: 0.8437 - val_loss: 1.9606 - val_Categorical_Accuracy: 0.2960 - val_AUC: 0.8696 - lr: 1.0000e-04\n",
      "Epoch 24/75\n",
      "36/36 [==============================] - 0s 10ms/step - loss: 1.9421 - Categorical_Accuracy: 0.3233 - AUC: 0.8562 - val_loss: 1.9482 - val_Categorical_Accuracy: 0.3200 - val_AUC: 0.8725 - lr: 1.0000e-04\n",
      "Epoch 25/75\n",
      "36/36 [==============================] - 0s 10ms/step - loss: 1.9143 - Categorical_Accuracy: 0.3178 - AUC: 0.8622 - val_loss: 1.9391 - val_Categorical_Accuracy: 0.2940 - val_AUC: 0.8705 - lr: 1.0000e-04\n",
      "Epoch 26/75\n",
      "36/36 [==============================] - 0s 10ms/step - loss: 1.9150 - Categorical_Accuracy: 0.3278 - AUC: 0.8593 - val_loss: 1.9274 - val_Categorical_Accuracy: 0.3300 - val_AUC: 0.8778 - lr: 1.0000e-04\n",
      "Epoch 27/75\n",
      "36/36 [==============================] - 0s 11ms/step - loss: 1.8398 - Categorical_Accuracy: 0.3278 - AUC: 0.8762 - val_loss: 1.8602 - val_Categorical_Accuracy: 0.3160 - val_AUC: 0.8831 - lr: 1.0000e-04\n",
      "Epoch 28/75\n",
      "36/36 [==============================] - 0s 11ms/step - loss: 1.8396 - Categorical_Accuracy: 0.3344 - AUC: 0.8729 - val_loss: 1.8970 - val_Categorical_Accuracy: 0.3180 - val_AUC: 0.8646 - lr: 1.0000e-04\n",
      "Epoch 29/75\n",
      "36/36 [==============================] - 0s 11ms/step - loss: 1.7995 - Categorical_Accuracy: 0.3367 - AUC: 0.8811 - val_loss: 1.8601 - val_Categorical_Accuracy: 0.3460 - val_AUC: 0.8853 - lr: 1.0000e-04\n",
      "Epoch 30/75\n",
      "36/36 [==============================] - 0s 11ms/step - loss: 1.7789 - Categorical_Accuracy: 0.3467 - AUC: 0.8843 - val_loss: 1.8124 - val_Categorical_Accuracy: 0.3480 - val_AUC: 0.8838 - lr: 1.0000e-04\n",
      "Epoch 31/75\n",
      "36/36 [==============================] - 0s 11ms/step - loss: 1.7614 - Categorical_Accuracy: 0.3511 - AUC: 0.8871 - val_loss: 1.8173 - val_Categorical_Accuracy: 0.3320 - val_AUC: 0.8849 - lr: 1.0000e-04\n",
      "Epoch 32/75\n",
      "36/36 [==============================] - 0s 11ms/step - loss: 1.7072 - Categorical_Accuracy: 0.3922 - AUC: 0.8965 - val_loss: 1.7642 - val_Categorical_Accuracy: 0.3820 - val_AUC: 0.8925 - lr: 1.0000e-04\n",
      "Epoch 33/75\n",
      "36/36 [==============================] - 0s 11ms/step - loss: 1.6985 - Categorical_Accuracy: 0.3856 - AUC: 0.8961 - val_loss: 1.7443 - val_Categorical_Accuracy: 0.3620 - val_AUC: 0.8938 - lr: 1.0000e-04\n",
      "Epoch 34/75\n",
      "36/36 [==============================] - 0s 11ms/step - loss: 1.6395 - Categorical_Accuracy: 0.4033 - AUC: 0.9016 - val_loss: 1.7278 - val_Categorical_Accuracy: 0.3920 - val_AUC: 0.8949 - lr: 1.0000e-04\n",
      "Epoch 35/75\n",
      "36/36 [==============================] - 0s 11ms/step - loss: 1.6109 - Categorical_Accuracy: 0.4278 - AUC: 0.9053 - val_loss: 1.7011 - val_Categorical_Accuracy: 0.3900 - val_AUC: 0.9006 - lr: 1.0000e-04\n",
      "Epoch 36/75\n",
      "36/36 [==============================] - 0s 10ms/step - loss: 1.5771 - Categorical_Accuracy: 0.4422 - AUC: 0.9108 - val_loss: 1.6934 - val_Categorical_Accuracy: 0.3700 - val_AUC: 0.8985 - lr: 1.0000e-04\n",
      "Epoch 37/75\n",
      "36/36 [==============================] - 0s 10ms/step - loss: 1.5538 - Categorical_Accuracy: 0.4289 - AUC: 0.9139 - val_loss: 1.6642 - val_Categorical_Accuracy: 0.4100 - val_AUC: 0.9058 - lr: 1.0000e-04\n",
      "Epoch 38/75\n",
      "36/36 [==============================] - 0s 10ms/step - loss: 1.5274 - Categorical_Accuracy: 0.4533 - AUC: 0.9171 - val_loss: 1.6278 - val_Categorical_Accuracy: 0.4040 - val_AUC: 0.9067 - lr: 1.0000e-04\n",
      "Epoch 39/75\n",
      "36/36 [==============================] - 0s 10ms/step - loss: 1.5216 - Categorical_Accuracy: 0.4467 - AUC: 0.9183 - val_loss: 1.6196 - val_Categorical_Accuracy: 0.4200 - val_AUC: 0.9095 - lr: 1.0000e-04\n",
      "Epoch 40/75\n",
      "36/36 [==============================] - 0s 11ms/step - loss: 1.4815 - Categorical_Accuracy: 0.4778 - AUC: 0.9215 - val_loss: 1.6024 - val_Categorical_Accuracy: 0.4200 - val_AUC: 0.9092 - lr: 1.0000e-04\n",
      "Epoch 41/75\n",
      "36/36 [==============================] - 0s 10ms/step - loss: 1.4495 - Categorical_Accuracy: 0.4778 - AUC: 0.9251 - val_loss: 1.5631 - val_Categorical_Accuracy: 0.4220 - val_AUC: 0.9137 - lr: 1.0000e-04\n",
      "Epoch 42/75\n",
      "36/36 [==============================] - 0s 10ms/step - loss: 1.3896 - Categorical_Accuracy: 0.4944 - AUC: 0.9333 - val_loss: 1.5463 - val_Categorical_Accuracy: 0.4620 - val_AUC: 0.9163 - lr: 1.0000e-04\n",
      "Epoch 43/75\n",
      "36/36 [==============================] - 0s 10ms/step - loss: 1.3723 - Categorical_Accuracy: 0.5078 - AUC: 0.9337 - val_loss: 1.5498 - val_Categorical_Accuracy: 0.4660 - val_AUC: 0.9114 - lr: 1.0000e-04\n",
      "Epoch 44/75\n",
      "36/36 [==============================] - 0s 11ms/step - loss: 1.3435 - Categorical_Accuracy: 0.5100 - AUC: 0.9372 - val_loss: 1.5050 - val_Categorical_Accuracy: 0.4560 - val_AUC: 0.9190 - lr: 1.0000e-04\n",
      "Epoch 45/75\n",
      "36/36 [==============================] - 0s 11ms/step - loss: 1.3534 - Categorical_Accuracy: 0.4900 - AUC: 0.9360 - val_loss: 1.5022 - val_Categorical_Accuracy: 0.4840 - val_AUC: 0.9200 - lr: 1.0000e-04\n",
      "Epoch 46/75\n",
      "36/36 [==============================] - 0s 10ms/step - loss: 1.2880 - Categorical_Accuracy: 0.5367 - AUC: 0.9409 - val_loss: 1.5033 - val_Categorical_Accuracy: 0.4660 - val_AUC: 0.9168 - lr: 1.0000e-04\n",
      "Epoch 47/75\n",
      "36/36 [==============================] - 0s 10ms/step - loss: 1.2903 - Categorical_Accuracy: 0.5367 - AUC: 0.9408 - val_loss: 1.4649 - val_Categorical_Accuracy: 0.4940 - val_AUC: 0.9214 - lr: 1.0000e-04\n",
      "Epoch 48/75\n",
      "36/36 [==============================] - 0s 10ms/step - loss: 1.2434 - Categorical_Accuracy: 0.5300 - AUC: 0.9463 - val_loss: 1.4520 - val_Categorical_Accuracy: 0.5180 - val_AUC: 0.9222 - lr: 1.0000e-04\n",
      "Epoch 49/75\n",
      "36/36 [==============================] - 0s 10ms/step - loss: 1.1987 - Categorical_Accuracy: 0.5789 - AUC: 0.9489 - val_loss: 1.4194 - val_Categorical_Accuracy: 0.4820 - val_AUC: 0.9266 - lr: 1.0000e-04\n",
      "Epoch 50/75\n",
      "36/36 [==============================] - 0s 11ms/step - loss: 1.1908 - Categorical_Accuracy: 0.5667 - AUC: 0.9499 - val_loss: 1.4041 - val_Categorical_Accuracy: 0.5040 - val_AUC: 0.9282 - lr: 1.0000e-04\n",
      "Epoch 51/75\n",
      "36/36 [==============================] - 0s 10ms/step - loss: 1.1658 - Categorical_Accuracy: 0.5722 - AUC: 0.9523 - val_loss: 1.3843 - val_Categorical_Accuracy: 0.5060 - val_AUC: 0.9307 - lr: 1.0000e-04\n",
      "Epoch 52/75\n",
      "36/36 [==============================] - 0s 11ms/step - loss: 1.1218 - Categorical_Accuracy: 0.5833 - AUC: 0.9557 - val_loss: 1.3710 - val_Categorical_Accuracy: 0.5040 - val_AUC: 0.9301 - lr: 1.0000e-04\n",
      "Epoch 53/75\n",
      "36/36 [==============================] - 0s 10ms/step - loss: 1.0823 - Categorical_Accuracy: 0.6078 - AUC: 0.9587 - val_loss: 1.3553 - val_Categorical_Accuracy: 0.5300 - val_AUC: 0.9318 - lr: 1.0000e-04\n",
      "Epoch 54/75\n",
      "36/36 [==============================] - 0s 10ms/step - loss: 1.0661 - Categorical_Accuracy: 0.5911 - AUC: 0.9602 - val_loss: 1.3522 - val_Categorical_Accuracy: 0.4960 - val_AUC: 0.9321 - lr: 1.0000e-04\n",
      "Epoch 55/75\n",
      "36/36 [==============================] - 0s 10ms/step - loss: 0.9919 - Categorical_Accuracy: 0.6489 - AUC: 0.9666 - val_loss: 1.3066 - val_Categorical_Accuracy: 0.5320 - val_AUC: 0.9356 - lr: 1.0000e-04\n",
      "Epoch 56/75\n",
      "36/36 [==============================] - 0s 10ms/step - loss: 1.0186 - Categorical_Accuracy: 0.6111 - AUC: 0.9647 - val_loss: 1.3123 - val_Categorical_Accuracy: 0.5080 - val_AUC: 0.9367 - lr: 1.0000e-04\n",
      "Epoch 57/75\n",
      "36/36 [==============================] - 0s 11ms/step - loss: 0.9982 - Categorical_Accuracy: 0.6356 - AUC: 0.9649 - val_loss: 1.3132 - val_Categorical_Accuracy: 0.5320 - val_AUC: 0.9354 - lr: 1.0000e-04\n",
      "Epoch 58/75\n",
      "36/36 [==============================] - 0s 10ms/step - loss: 1.0127 - Categorical_Accuracy: 0.6244 - AUC: 0.9646 - val_loss: 1.2976 - val_Categorical_Accuracy: 0.5400 - val_AUC: 0.9370 - lr: 1.0000e-04\n",
      "Epoch 59/75\n",
      "36/36 [==============================] - 0s 10ms/step - loss: 0.9753 - Categorical_Accuracy: 0.6456 - AUC: 0.9667 - val_loss: 1.2918 - val_Categorical_Accuracy: 0.5460 - val_AUC: 0.9369 - lr: 1.0000e-04\n",
      "Epoch 60/75\n",
      "36/36 [==============================] - 0s 10ms/step - loss: 0.9091 - Categorical_Accuracy: 0.6844 - AUC: 0.9706 - val_loss: 1.2721 - val_Categorical_Accuracy: 0.5480 - val_AUC: 0.9394 - lr: 1.0000e-04\n",
      "Epoch 61/75\n",
      "36/36 [==============================] - 0s 10ms/step - loss: 0.9498 - Categorical_Accuracy: 0.6656 - AUC: 0.9683 - val_loss: 1.2668 - val_Categorical_Accuracy: 0.5520 - val_AUC: 0.9390 - lr: 1.0000e-04\n",
      "Epoch 62/75\n",
      "36/36 [==============================] - 0s 10ms/step - loss: 0.8786 - Categorical_Accuracy: 0.6856 - AUC: 0.9739 - val_loss: 1.3183 - val_Categorical_Accuracy: 0.5420 - val_AUC: 0.9316 - lr: 1.0000e-04\n",
      "Epoch 63/75\n",
      "36/36 [==============================] - 0s 11ms/step - loss: 0.8820 - Categorical_Accuracy: 0.6767 - AUC: 0.9723 - val_loss: 1.2489 - val_Categorical_Accuracy: 0.5580 - val_AUC: 0.9411 - lr: 1.0000e-04\n",
      "Epoch 64/75\n",
      "36/36 [==============================] - 0s 10ms/step - loss: 0.8539 - Categorical_Accuracy: 0.6756 - AUC: 0.9758 - val_loss: 1.2252 - val_Categorical_Accuracy: 0.5720 - val_AUC: 0.9424 - lr: 1.0000e-04\n",
      "Epoch 65/75\n",
      "36/36 [==============================] - 0s 10ms/step - loss: 0.8342 - Categorical_Accuracy: 0.7000 - AUC: 0.9748 - val_loss: 1.2073 - val_Categorical_Accuracy: 0.5720 - val_AUC: 0.9430 - lr: 1.0000e-04\n",
      "Epoch 66/75\n",
      "36/36 [==============================] - 0s 10ms/step - loss: 0.7575 - Categorical_Accuracy: 0.7267 - AUC: 0.9806 - val_loss: 1.2200 - val_Categorical_Accuracy: 0.5680 - val_AUC: 0.9418 - lr: 1.0000e-04\n",
      "Epoch 67/75\n",
      "36/36 [==============================] - 0s 10ms/step - loss: 0.7629 - Categorical_Accuracy: 0.7089 - AUC: 0.9804 - val_loss: 1.2228 - val_Categorical_Accuracy: 0.5700 - val_AUC: 0.9417 - lr: 1.0000e-04\n",
      "Epoch 68/75\n",
      "36/36 [==============================] - 0s 10ms/step - loss: 0.7690 - Categorical_Accuracy: 0.7156 - AUC: 0.9801 - val_loss: 1.1943 - val_Categorical_Accuracy: 0.5760 - val_AUC: 0.9441 - lr: 1.0000e-04\n",
      "Epoch 69/75\n",
      "36/36 [==============================] - 0s 11ms/step - loss: 0.7333 - Categorical_Accuracy: 0.7322 - AUC: 0.9816 - val_loss: 1.1968 - val_Categorical_Accuracy: 0.5660 - val_AUC: 0.9444 - lr: 1.0000e-04\n",
      "Epoch 70/75\n",
      "36/36 [==============================] - 0s 11ms/step - loss: 0.6651 - Categorical_Accuracy: 0.7644 - AUC: 0.9856 - val_loss: 1.1877 - val_Categorical_Accuracy: 0.5880 - val_AUC: 0.9455 - lr: 1.0000e-04\n",
      "Epoch 71/75\n",
      "36/36 [==============================] - 0s 10ms/step - loss: 0.7188 - Categorical_Accuracy: 0.7433 - AUC: 0.9815 - val_loss: 1.2475 - val_Categorical_Accuracy: 0.5900 - val_AUC: 0.9352 - lr: 1.0000e-04\n",
      "Epoch 72/75\n",
      "36/36 [==============================] - 0s 10ms/step - loss: 0.7115 - Categorical_Accuracy: 0.7433 - AUC: 0.9825 - val_loss: 1.2089 - val_Categorical_Accuracy: 0.5880 - val_AUC: 0.9403 - lr: 1.0000e-04\n",
      "Epoch 73/75\n",
      "36/36 [==============================] - 0s 12ms/step - loss: 0.6749 - Categorical_Accuracy: 0.7500 - AUC: 0.9843 - val_loss: 1.1702 - val_Categorical_Accuracy: 0.5960 - val_AUC: 0.9455 - lr: 1.0000e-04\n",
      "Epoch 74/75\n",
      "36/36 [==============================] - 0s 11ms/step - loss: 0.7051 - Categorical_Accuracy: 0.7600 - AUC: 0.9818 - val_loss: 1.1066 - val_Categorical_Accuracy: 0.6140 - val_AUC: 0.9511 - lr: 1.0000e-04\n",
      "Epoch 75/75\n",
      "36/36 [==============================] - 0s 11ms/step - loss: 0.5960 - Categorical_Accuracy: 0.7756 - AUC: 0.9885 - val_loss: 1.1048 - val_Categorical_Accuracy: 0.6220 - val_AUC: 0.9497 - lr: 1.0000e-04\n"
     ]
    }
   ]
  },
  {
   "cell_type": "code",
   "metadata": {
    "colab": {
     "base_uri": "https://localhost:8080/",
     "height": 1000
    },
    "id": "t2hqjSSYSyPs",
    "executionInfo": {
     "status": "ok",
     "timestamp": 1638887866564,
     "user_tz": 300,
     "elapsed": 646,
     "user": {
      "displayName": "Andrew Ning",
      "photoUrl": "https://lh3.googleusercontent.com/a-/AOh14GgyUiXynCeybWnGTpfHnOSTarAoJjvj-8rK8oxkzQ=s64",
      "userId": "04097743773373129918"
     }
    },
    "outputId": "83d845bd-1709-465b-e0ed-8506231a6462"
   },
   "source": [
    "modelFullCA = tf.keras.Model(\n",
    "    inputs=[inputCA],\n",
    "    outputs=[layersCA],\n",
    "    name='Full_Model_CA'\n",
    ")\n",
    "\n",
    "modelFullCA.summary(expand_nested=True)\n",
    "tf.keras.utils.plot_model(modelFullCA, expand_nested=True)"
   ],
   "execution_count": 138,
   "outputs": [
    {
     "output_type": "stream",
     "name": "stdout",
     "text": [
      "Model: \"Full_Model_CA\"\n",
      "_________________________________________________________________\n",
      " Layer (type)                Output Shape              Param #   \n",
      "=================================================================\n",
      " CA_Input (InputLayer)       [(None, 188, 100, 1)]     0         \n",
      "                                                                 \n",
      " Shared_Layers (Sequential)  (None, 10, 5, 128)        127744    \n",
      "|¯¯¯¯¯¯¯¯¯¯¯¯¯¯¯¯¯¯¯¯¯¯¯¯¯¯¯¯¯¯¯¯¯¯¯¯¯¯¯¯¯¯¯¯¯¯¯¯¯¯¯¯¯¯¯¯¯¯¯¯¯¯¯|\n",
      "| Shared_Conv2D1 (Conv2D)   (None, 94, 50, 32)        2624      |\n",
      "|                                                               |\n",
      "| Shared_MaxPool2D1 (MaxPooli  (None, 46, 24, 32)     0         |\n",
      "| ng2D)                                                         |\n",
      "|                                                               |\n",
      "| Shared_Conv2D2 (Conv2D)   (None, 46, 24, 64)        51264     |\n",
      "|                                                               |\n",
      "| Shared_MaxPool2D2 (MaxPooli  (None, 22, 11, 64)     0         |\n",
      "| ng2D)                                                         |\n",
      "|                                                               |\n",
      "| Shared_Conv2D3 (Conv2D)   (None, 22, 11, 128)       73856     |\n",
      "|                                                               |\n",
      "| Shared_MaxPool2D3 (MaxPooli  (None, 10, 5, 128)     0         |\n",
      "| ng2D)                                                         |\n",
      "¯¯¯¯¯¯¯¯¯¯¯¯¯¯¯¯¯¯¯¯¯¯¯¯¯¯¯¯¯¯¯¯¯¯¯¯¯¯¯¯¯¯¯¯¯¯¯¯¯¯¯¯¯¯¯¯¯¯¯¯¯¯¯¯¯\n",
      " CA (Sequential)             (None, 14)                329870    \n",
      "|¯¯¯¯¯¯¯¯¯¯¯¯¯¯¯¯¯¯¯¯¯¯¯¯¯¯¯¯¯¯¯¯¯¯¯¯¯¯¯¯¯¯¯¯¯¯¯¯¯¯¯¯¯¯¯¯¯¯¯¯¯¯¯|\n",
      "| CA_Conv2D1 (Conv2D)       (None, 10, 5, 128)        147584    |\n",
      "|                                                               |\n",
      "| CA_MaxPool2D1 (MaxPooling2D  (None, 5, 2, 128)      0         |\n",
      "| )                                                             |\n",
      "|                                                               |\n",
      "| flatten_16 (Flatten)      (None, 1280)              0         |\n",
      "|                                                               |\n",
      "| dropout_48 (Dropout)      (None, 1280)              0         |\n",
      "|                                                               |\n",
      "| CA_DenseLayer1 (Dense)    (None, 128)               163968    |\n",
      "|                                                               |\n",
      "| dropout_49 (Dropout)      (None, 128)               0         |\n",
      "|                                                               |\n",
      "| CA_DenseLayer2 (Dense)    (None, 128)               16512     |\n",
      "|                                                               |\n",
      "| dropout_50 (Dropout)      (None, 128)               0         |\n",
      "|                                                               |\n",
      "| CA_Output (Dense)         (None, 14)                1806      |\n",
      "¯¯¯¯¯¯¯¯¯¯¯¯¯¯¯¯¯¯¯¯¯¯¯¯¯¯¯¯¯¯¯¯¯¯¯¯¯¯¯¯¯¯¯¯¯¯¯¯¯¯¯¯¯¯¯¯¯¯¯¯¯¯¯¯¯\n",
      "=================================================================\n",
      "Total params: 457,614\n",
      "Trainable params: 457,614\n",
      "Non-trainable params: 0\n",
      "_________________________________________________________________\n"
     ]
    },
    {
     "output_type": "execute_result",
     "data": {
      "image/png": "[encoded data removed]",
      "text/plain": [
       "<IPython.core.display.Image object>"
      ]
     },
     "metadata": {},
     "execution_count": 138
    }
   ]
  },
  {
   "cell_type": "code",
   "metadata": {
    "id": "L_UZDKr0S4k1",
    "executionInfo": {
     "status": "ok",
     "timestamp": 1638887866565,
     "user_tz": 300,
     "elapsed": 7,
     "user": {
      "displayName": "Andrew Ning",
      "photoUrl": "https://lh3.googleusercontent.com/a-/AOh14GgyUiXynCeybWnGTpfHnOSTarAoJjvj-8rK8oxkzQ=s64",
      "userId": "04097743773373129918"
     }
    }
   },
   "source": [
    "modelFullCA.compile(\n",
    "    optimizer = tf.keras.optimizers.Adam(learning_rate=LEARNING_RATE),\n",
    "    loss=[tf.keras.losses.CategoricalCrossentropy()],\n",
    "    metrics=[tf.keras.metrics.CategoricalAccuracy(name='Categorical_Accuracy'), tf.keras.metrics.AUC(name='AUC')]\n",
    ")"
   ],
   "execution_count": 139,
   "outputs": []
  },
  {
   "cell_type": "code",
   "metadata": {
    "colab": {
     "base_uri": "https://localhost:8080/"
    },
    "id": "uvw4b3fCS8c9",
    "executionInfo": {
     "status": "ok",
     "timestamp": 1638887908303,
     "user_tz": 300,
     "elapsed": 41745,
     "user": {
      "displayName": "Andrew Ning",
      "photoUrl": "https://lh3.googleusercontent.com/a-/AOh14GgyUiXynCeybWnGTpfHnOSTarAoJjvj-8rK8oxkzQ=s64",
      "userId": "04097743773373129918"
     }
    },
    "outputId": "8b3bc1e7-128e-4341-e946-c8962fb4caec"
   },
   "source": [
    "ext = '-FULL-CA'\n",
    "training_callbackFULLCA = callbacks.TensorBoard(log_dir=LOG_DIR + RUN + ext)\n",
    "\n",
    "historyCA = modelFullCA.fit(\n",
    "    x = traindatasetCA,\n",
    "    validation_data = valdatasetCA,\n",
    "    epochs=EPOCHS,\n",
    "    steps_per_epoch=STEPS_PER_EPOCH,\n",
    "    callbacks=[training_callbackFULLCA,earlystopping_callback,reduce_lr_callback],\n",
    "    verbose=1\n",
    ")"
   ],
   "execution_count": 140,
   "outputs": [
    {
     "output_type": "stream",
     "name": "stdout",
     "text": [
      "Epoch 1/75\n",
      "36/36 [==============================] - 2s 29ms/step - loss: 2.7904 - Categorical_Accuracy: 0.0833 - AUC: 0.5099 - val_loss: 2.6240 - val_Categorical_Accuracy: 0.1120 - val_AUC: 0.5596 - lr: 1.0000e-04\n",
      "Epoch 2/75\n",
      "36/36 [==============================] - 0s 9ms/step - loss: 2.6710 - Categorical_Accuracy: 0.0778 - AUC: 0.5241 - val_loss: 2.6221 - val_Categorical_Accuracy: 0.1040 - val_AUC: 0.5823 - lr: 1.0000e-04\n",
      "Epoch 3/75\n",
      "36/36 [==============================] - 1s 9ms/step - loss: 2.6348 - Categorical_Accuracy: 0.0856 - AUC: 0.5500 - val_loss: 2.6114 - val_Categorical_Accuracy: 0.1440 - val_AUC: 0.6301 - lr: 1.0000e-04\n",
      "Epoch 4/75\n",
      "36/36 [==============================] - 1s 9ms/step - loss: 2.6038 - Categorical_Accuracy: 0.1111 - AUC: 0.5730 - val_loss: 2.5925 - val_Categorical_Accuracy: 0.2060 - val_AUC: 0.6796 - lr: 1.0000e-04\n",
      "Epoch 5/75\n",
      "36/36 [==============================] - 1s 10ms/step - loss: 2.5678 - Categorical_Accuracy: 0.1200 - AUC: 0.6090 - val_loss: 2.5450 - val_Categorical_Accuracy: 0.2040 - val_AUC: 0.7319 - lr: 1.0000e-04\n",
      "Epoch 6/75\n",
      "36/36 [==============================] - 1s 10ms/step - loss: 2.5618 - Categorical_Accuracy: 0.1378 - AUC: 0.6065 - val_loss: 2.4944 - val_Categorical_Accuracy: 0.2740 - val_AUC: 0.7822 - lr: 1.0000e-04\n",
      "Epoch 7/75\n",
      "36/36 [==============================] - 1s 11ms/step - loss: 2.5232 - Categorical_Accuracy: 0.1356 - AUC: 0.6397 - val_loss: 2.4262 - val_Categorical_Accuracy: 0.3740 - val_AUC: 0.8249 - lr: 1.0000e-04\n",
      "Epoch 8/75\n",
      "36/36 [==============================] - 0s 10ms/step - loss: 2.4868 - Categorical_Accuracy: 0.1533 - AUC: 0.6613 - val_loss: 2.3370 - val_Categorical_Accuracy: 0.3780 - val_AUC: 0.8497 - lr: 1.0000e-04\n",
      "Epoch 9/75\n",
      "36/36 [==============================] - 0s 10ms/step - loss: 2.4037 - Categorical_Accuracy: 0.1833 - AUC: 0.6992 - val_loss: 2.2271 - val_Categorical_Accuracy: 0.4220 - val_AUC: 0.8668 - lr: 1.0000e-04\n",
      "Epoch 10/75\n",
      "36/36 [==============================] - 0s 10ms/step - loss: 2.3377 - Categorical_Accuracy: 0.2011 - AUC: 0.7296 - val_loss: 2.1248 - val_Categorical_Accuracy: 0.4240 - val_AUC: 0.8810 - lr: 1.0000e-04\n",
      "Epoch 11/75\n",
      "36/36 [==============================] - 0s 10ms/step - loss: 2.2228 - Categorical_Accuracy: 0.2322 - AUC: 0.7701 - val_loss: 2.0047 - val_Categorical_Accuracy: 0.4420 - val_AUC: 0.8969 - lr: 1.0000e-04\n",
      "Epoch 12/75\n",
      "36/36 [==============================] - 0s 11ms/step - loss: 2.1686 - Categorical_Accuracy: 0.2411 - AUC: 0.7870 - val_loss: 1.9305 - val_Categorical_Accuracy: 0.4420 - val_AUC: 0.8931 - lr: 1.0000e-04\n",
      "Epoch 13/75\n",
      "36/36 [==============================] - 0s 10ms/step - loss: 2.1375 - Categorical_Accuracy: 0.2378 - AUC: 0.8028 - val_loss: 1.8674 - val_Categorical_Accuracy: 0.4720 - val_AUC: 0.9020 - lr: 1.0000e-04\n",
      "Epoch 14/75\n",
      "36/36 [==============================] - 0s 11ms/step - loss: 2.0208 - Categorical_Accuracy: 0.2867 - AUC: 0.8274 - val_loss: 1.7330 - val_Categorical_Accuracy: 0.5420 - val_AUC: 0.9237 - lr: 1.0000e-04\n",
      "Epoch 15/75\n",
      "36/36 [==============================] - 0s 10ms/step - loss: 1.9936 - Categorical_Accuracy: 0.2956 - AUC: 0.8310 - val_loss: 1.6802 - val_Categorical_Accuracy: 0.5200 - val_AUC: 0.9248 - lr: 1.0000e-04\n",
      "Epoch 16/75\n",
      "36/36 [==============================] - 0s 11ms/step - loss: 1.8927 - Categorical_Accuracy: 0.3222 - AUC: 0.8532 - val_loss: 1.5794 - val_Categorical_Accuracy: 0.5620 - val_AUC: 0.9312 - lr: 1.0000e-04\n",
      "Epoch 17/75\n",
      "36/36 [==============================] - 0s 11ms/step - loss: 1.8786 - Categorical_Accuracy: 0.3200 - AUC: 0.8570 - val_loss: 1.5521 - val_Categorical_Accuracy: 0.5820 - val_AUC: 0.9371 - lr: 1.0000e-04\n",
      "Epoch 18/75\n",
      "36/36 [==============================] - 0s 11ms/step - loss: 1.7746 - Categorical_Accuracy: 0.3756 - AUC: 0.8751 - val_loss: 1.4405 - val_Categorical_Accuracy: 0.5940 - val_AUC: 0.9429 - lr: 1.0000e-04\n",
      "Epoch 19/75\n",
      "36/36 [==============================] - 0s 10ms/step - loss: 1.7278 - Categorical_Accuracy: 0.3900 - AUC: 0.8814 - val_loss: 1.4336 - val_Categorical_Accuracy: 0.5720 - val_AUC: 0.9419 - lr: 1.0000e-04\n",
      "Epoch 20/75\n",
      "36/36 [==============================] - 0s 10ms/step - loss: 1.6904 - Categorical_Accuracy: 0.3978 - AUC: 0.8868 - val_loss: 1.3914 - val_Categorical_Accuracy: 0.5980 - val_AUC: 0.9482 - lr: 1.0000e-04\n",
      "Epoch 21/75\n",
      "36/36 [==============================] - 0s 11ms/step - loss: 1.6145 - Categorical_Accuracy: 0.4311 - AUC: 0.8999 - val_loss: 1.3019 - val_Categorical_Accuracy: 0.6060 - val_AUC: 0.9523 - lr: 1.0000e-04\n",
      "Epoch 22/75\n",
      "36/36 [==============================] - 0s 11ms/step - loss: 1.5504 - Categorical_Accuracy: 0.4500 - AUC: 0.9075 - val_loss: 1.2612 - val_Categorical_Accuracy: 0.6420 - val_AUC: 0.9546 - lr: 1.0000e-04\n",
      "Epoch 23/75\n",
      "36/36 [==============================] - 0s 10ms/step - loss: 1.5295 - Categorical_Accuracy: 0.4322 - AUC: 0.9104 - val_loss: 1.2267 - val_Categorical_Accuracy: 0.6460 - val_AUC: 0.9568 - lr: 1.0000e-04\n",
      "Epoch 24/75\n",
      "36/36 [==============================] - 0s 10ms/step - loss: 1.4552 - Categorical_Accuracy: 0.4878 - AUC: 0.9192 - val_loss: 1.1667 - val_Categorical_Accuracy: 0.6820 - val_AUC: 0.9619 - lr: 1.0000e-04\n",
      "Epoch 25/75\n",
      "36/36 [==============================] - 0s 11ms/step - loss: 1.4271 - Categorical_Accuracy: 0.4889 - AUC: 0.9231 - val_loss: 1.1450 - val_Categorical_Accuracy: 0.6660 - val_AUC: 0.9618 - lr: 1.0000e-04\n",
      "Epoch 26/75\n",
      "36/36 [==============================] - 0s 10ms/step - loss: 1.4192 - Categorical_Accuracy: 0.5156 - AUC: 0.9226 - val_loss: 1.1200 - val_Categorical_Accuracy: 0.6720 - val_AUC: 0.9626 - lr: 1.0000e-04\n",
      "Epoch 27/75\n",
      "36/36 [==============================] - 0s 11ms/step - loss: 1.3246 - Categorical_Accuracy: 0.5222 - AUC: 0.9341 - val_loss: 1.0697 - val_Categorical_Accuracy: 0.6920 - val_AUC: 0.9645 - lr: 1.0000e-04\n",
      "Epoch 28/75\n",
      "36/36 [==============================] - 0s 10ms/step - loss: 1.3033 - Categorical_Accuracy: 0.5189 - AUC: 0.9360 - val_loss: 1.0431 - val_Categorical_Accuracy: 0.6900 - val_AUC: 0.9663 - lr: 1.0000e-04\n",
      "Epoch 29/75\n",
      "36/36 [==============================] - 0s 10ms/step - loss: 1.3158 - Categorical_Accuracy: 0.5289 - AUC: 0.9334 - val_loss: 1.0184 - val_Categorical_Accuracy: 0.7200 - val_AUC: 0.9693 - lr: 1.0000e-04\n",
      "Epoch 30/75\n",
      "36/36 [==============================] - 0s 11ms/step - loss: 1.2303 - Categorical_Accuracy: 0.5389 - AUC: 0.9434 - val_loss: 0.9932 - val_Categorical_Accuracy: 0.7200 - val_AUC: 0.9682 - lr: 1.0000e-04\n",
      "Epoch 31/75\n",
      "36/36 [==============================] - 0s 11ms/step - loss: 1.1712 - Categorical_Accuracy: 0.5700 - AUC: 0.9492 - val_loss: 1.0264 - val_Categorical_Accuracy: 0.6740 - val_AUC: 0.9633 - lr: 1.0000e-04\n",
      "Epoch 32/75\n",
      "36/36 [==============================] - 0s 11ms/step - loss: 1.1748 - Categorical_Accuracy: 0.5756 - AUC: 0.9470 - val_loss: 0.9980 - val_Categorical_Accuracy: 0.7100 - val_AUC: 0.9667 - lr: 1.0000e-04\n",
      "Epoch 33/75\n",
      "36/36 [==============================] - 0s 11ms/step - loss: 1.1513 - Categorical_Accuracy: 0.5711 - AUC: 0.9506 - val_loss: 0.9459 - val_Categorical_Accuracy: 0.7100 - val_AUC: 0.9708 - lr: 1.0000e-04\n",
      "Epoch 34/75\n",
      "36/36 [==============================] - 0s 11ms/step - loss: 1.1062 - Categorical_Accuracy: 0.6178 - AUC: 0.9542 - val_loss: 0.8871 - val_Categorical_Accuracy: 0.7280 - val_AUC: 0.9740 - lr: 1.0000e-04\n",
      "Epoch 35/75\n",
      "36/36 [==============================] - 0s 10ms/step - loss: 1.0912 - Categorical_Accuracy: 0.6067 - AUC: 0.9547 - val_loss: 0.8632 - val_Categorical_Accuracy: 0.7520 - val_AUC: 0.9771 - lr: 1.0000e-04\n",
      "Epoch 36/75\n",
      "36/36 [==============================] - 0s 10ms/step - loss: 1.0645 - Categorical_Accuracy: 0.6144 - AUC: 0.9576 - val_loss: 0.8967 - val_Categorical_Accuracy: 0.7220 - val_AUC: 0.9719 - lr: 1.0000e-04\n",
      "Epoch 37/75\n",
      "36/36 [==============================] - 0s 10ms/step - loss: 0.9978 - Categorical_Accuracy: 0.6389 - AUC: 0.9623 - val_loss: 0.8814 - val_Categorical_Accuracy: 0.7180 - val_AUC: 0.9719 - lr: 1.0000e-04\n",
      "Epoch 38/75\n",
      "36/36 [==============================] - 0s 11ms/step - loss: 0.9685 - Categorical_Accuracy: 0.6344 - AUC: 0.9651 - val_loss: 0.8035 - val_Categorical_Accuracy: 0.7400 - val_AUC: 0.9780 - lr: 1.0000e-04\n",
      "Epoch 39/75\n",
      "36/36 [==============================] - 0s 10ms/step - loss: 0.9304 - Categorical_Accuracy: 0.6644 - AUC: 0.9668 - val_loss: 0.8115 - val_Categorical_Accuracy: 0.7480 - val_AUC: 0.9766 - lr: 1.0000e-04\n",
      "Epoch 40/75\n",
      "36/36 [==============================] - 0s 11ms/step - loss: 0.8919 - Categorical_Accuracy: 0.6844 - AUC: 0.9704 - val_loss: 0.7739 - val_Categorical_Accuracy: 0.7540 - val_AUC: 0.9777 - lr: 1.0000e-04\n",
      "Epoch 41/75\n",
      "36/36 [==============================] - 0s 11ms/step - loss: 0.9202 - Categorical_Accuracy: 0.6756 - AUC: 0.9671 - val_loss: 0.7478 - val_Categorical_Accuracy: 0.7620 - val_AUC: 0.9799 - lr: 1.0000e-04\n",
      "Epoch 42/75\n",
      "36/36 [==============================] - 0s 10ms/step - loss: 0.8938 - Categorical_Accuracy: 0.6811 - AUC: 0.9701 - val_loss: 0.7564 - val_Categorical_Accuracy: 0.7520 - val_AUC: 0.9788 - lr: 1.0000e-04\n",
      "Epoch 43/75\n",
      "36/36 [==============================] - 0s 10ms/step - loss: 0.8927 - Categorical_Accuracy: 0.6800 - AUC: 0.9692 - val_loss: 0.7177 - val_Categorical_Accuracy: 0.7740 - val_AUC: 0.9816 - lr: 1.0000e-04\n",
      "Epoch 44/75\n",
      "36/36 [==============================] - 0s 11ms/step - loss: 0.7787 - Categorical_Accuracy: 0.7211 - AUC: 0.9782 - val_loss: 0.7088 - val_Categorical_Accuracy: 0.7640 - val_AUC: 0.9818 - lr: 1.0000e-04\n",
      "Epoch 45/75\n",
      "36/36 [==============================] - 0s 11ms/step - loss: 0.7861 - Categorical_Accuracy: 0.7189 - AUC: 0.9765 - val_loss: 0.7194 - val_Categorical_Accuracy: 0.7520 - val_AUC: 0.9811 - lr: 1.0000e-04\n",
      "Epoch 46/75\n",
      "36/36 [==============================] - 0s 10ms/step - loss: 0.7769 - Categorical_Accuracy: 0.7011 - AUC: 0.9775 - val_loss: 0.7018 - val_Categorical_Accuracy: 0.7580 - val_AUC: 0.9812 - lr: 1.0000e-04\n",
      "Epoch 47/75\n",
      "36/36 [==============================] - 0s 10ms/step - loss: 0.8305 - Categorical_Accuracy: 0.6911 - AUC: 0.9730 - val_loss: 0.7146 - val_Categorical_Accuracy: 0.7600 - val_AUC: 0.9808 - lr: 1.0000e-04\n",
      "Epoch 48/75\n",
      "36/36 [==============================] - 0s 11ms/step - loss: 0.7284 - Categorical_Accuracy: 0.7400 - AUC: 0.9805 - val_loss: 0.6839 - val_Categorical_Accuracy: 0.7720 - val_AUC: 0.9822 - lr: 1.0000e-04\n",
      "Epoch 49/75\n",
      "36/36 [==============================] - 0s 10ms/step - loss: 0.7687 - Categorical_Accuracy: 0.7233 - AUC: 0.9774 - val_loss: 0.7473 - val_Categorical_Accuracy: 0.7560 - val_AUC: 0.9782 - lr: 1.0000e-04\n",
      "Epoch 50/75\n",
      "36/36 [==============================] - 0s 11ms/step - loss: 0.7112 - Categorical_Accuracy: 0.7444 - AUC: 0.9813 - val_loss: 0.6619 - val_Categorical_Accuracy: 0.7700 - val_AUC: 0.9832 - lr: 1.0000e-04\n",
      "Epoch 51/75\n",
      "36/36 [==============================] - 0s 10ms/step - loss: 0.7095 - Categorical_Accuracy: 0.7433 - AUC: 0.9807 - val_loss: 0.6525 - val_Categorical_Accuracy: 0.7740 - val_AUC: 0.9831 - lr: 1.0000e-04\n",
      "Epoch 52/75\n",
      "36/36 [==============================] - 0s 11ms/step - loss: 0.6395 - Categorical_Accuracy: 0.7722 - AUC: 0.9839 - val_loss: 0.6555 - val_Categorical_Accuracy: 0.7840 - val_AUC: 0.9826 - lr: 1.0000e-04\n",
      "Epoch 53/75\n",
      "36/36 [==============================] - 0s 10ms/step - loss: 0.6254 - Categorical_Accuracy: 0.7889 - AUC: 0.9843 - val_loss: 0.7320 - val_Categorical_Accuracy: 0.7500 - val_AUC: 0.9781 - lr: 1.0000e-04\n",
      "Epoch 54/75\n",
      "36/36 [==============================] - 0s 10ms/step - loss: 0.6004 - Categorical_Accuracy: 0.7933 - AUC: 0.9860 - val_loss: 0.6481 - val_Categorical_Accuracy: 0.7640 - val_AUC: 0.9820 - lr: 1.0000e-04\n",
      "Epoch 55/75\n",
      "36/36 [==============================] - 0s 10ms/step - loss: 0.5687 - Categorical_Accuracy: 0.8033 - AUC: 0.9861 - val_loss: 0.6753 - val_Categorical_Accuracy: 0.7620 - val_AUC: 0.9796 - lr: 1.0000e-04\n",
      "Epoch 56/75\n",
      "36/36 [==============================] - 0s 10ms/step - loss: 0.6093 - Categorical_Accuracy: 0.7867 - AUC: 0.9844 - val_loss: 0.6217 - val_Categorical_Accuracy: 0.7860 - val_AUC: 0.9830 - lr: 1.0000e-04\n",
      "Epoch 57/75\n",
      "36/36 [==============================] - 0s 10ms/step - loss: 0.6178 - Categorical_Accuracy: 0.7722 - AUC: 0.9855 - val_loss: 0.5914 - val_Categorical_Accuracy: 0.7920 - val_AUC: 0.9856 - lr: 1.0000e-04\n",
      "Epoch 58/75\n",
      "36/36 [==============================] - 0s 10ms/step - loss: 0.6097 - Categorical_Accuracy: 0.7811 - AUC: 0.9848 - val_loss: 0.6002 - val_Categorical_Accuracy: 0.7980 - val_AUC: 0.9850 - lr: 1.0000e-04\n",
      "Epoch 59/75\n",
      "36/36 [==============================] - 0s 10ms/step - loss: 0.5874 - Categorical_Accuracy: 0.7944 - AUC: 0.9853 - val_loss: 0.5770 - val_Categorical_Accuracy: 0.7900 - val_AUC: 0.9859 - lr: 1.0000e-04\n",
      "Epoch 60/75\n",
      "36/36 [==============================] - 0s 10ms/step - loss: 0.5179 - Categorical_Accuracy: 0.8189 - AUC: 0.9901 - val_loss: 0.5779 - val_Categorical_Accuracy: 0.7920 - val_AUC: 0.9855 - lr: 1.0000e-04\n",
      "Epoch 61/75\n",
      "36/36 [==============================] - 0s 11ms/step - loss: 0.5126 - Categorical_Accuracy: 0.8156 - AUC: 0.9903 - val_loss: 0.5972 - val_Categorical_Accuracy: 0.7900 - val_AUC: 0.9850 - lr: 1.0000e-04\n",
      "Epoch 62/75\n",
      "35/36 [============================>.] - ETA: 0s - loss: 0.4630 - Categorical_Accuracy: 0.8263 - AUC: 0.9919\n",
      "Epoch 00062: ReduceLROnPlateau reducing learning rate to 1.9999999494757503e-05.\n",
      "36/36 [==============================] - 0s 11ms/step - loss: 0.4655 - Categorical_Accuracy: 0.8267 - AUC: 0.9919 - val_loss: 0.5839 - val_Categorical_Accuracy: 0.8080 - val_AUC: 0.9854 - lr: 1.0000e-04\n",
      "Epoch 63/75\n",
      "36/36 [==============================] - 0s 11ms/step - loss: 0.4615 - Categorical_Accuracy: 0.8267 - AUC: 0.9922 - val_loss: 0.5739 - val_Categorical_Accuracy: 0.8060 - val_AUC: 0.9858 - lr: 2.0000e-05\n",
      "Epoch 64/75\n",
      "36/36 [==============================] - 0s 11ms/step - loss: 0.4506 - Categorical_Accuracy: 0.8400 - AUC: 0.9921 - val_loss: 0.5816 - val_Categorical_Accuracy: 0.8040 - val_AUC: 0.9863 - lr: 2.0000e-05\n",
      "Epoch 65/75\n",
      "36/36 [==============================] - 0s 11ms/step - loss: 0.4415 - Categorical_Accuracy: 0.8389 - AUC: 0.9922 - val_loss: 0.5691 - val_Categorical_Accuracy: 0.8040 - val_AUC: 0.9867 - lr: 2.0000e-05\n",
      "Epoch 66/75\n",
      "36/36 [==============================] - 0s 11ms/step - loss: 0.4284 - Categorical_Accuracy: 0.8567 - AUC: 0.9929 - val_loss: 0.5664 - val_Categorical_Accuracy: 0.8040 - val_AUC: 0.9868 - lr: 2.0000e-05\n",
      "Epoch 67/75\n",
      "36/36 [==============================] - 0s 10ms/step - loss: 0.4169 - Categorical_Accuracy: 0.8678 - AUC: 0.9931 - val_loss: 0.5680 - val_Categorical_Accuracy: 0.8040 - val_AUC: 0.9868 - lr: 2.0000e-05\n",
      "Epoch 68/75\n",
      "36/36 [==============================] - 0s 10ms/step - loss: 0.4280 - Categorical_Accuracy: 0.8300 - AUC: 0.9934 - val_loss: 0.5467 - val_Categorical_Accuracy: 0.8100 - val_AUC: 0.9869 - lr: 2.0000e-05\n",
      "Epoch 69/75\n",
      "36/36 [==============================] - 0s 11ms/step - loss: 0.4494 - Categorical_Accuracy: 0.8422 - AUC: 0.9924 - val_loss: 0.5781 - val_Categorical_Accuracy: 0.8120 - val_AUC: 0.9847 - lr: 2.0000e-05\n",
      "Epoch 70/75\n",
      "36/36 [==============================] - 0s 10ms/step - loss: 0.4212 - Categorical_Accuracy: 0.8567 - AUC: 0.9929 - val_loss: 0.5421 - val_Categorical_Accuracy: 0.8160 - val_AUC: 0.9879 - lr: 2.0000e-05\n",
      "Epoch 71/75\n",
      "36/36 [==============================] - 0s 10ms/step - loss: 0.4234 - Categorical_Accuracy: 0.8489 - AUC: 0.9935 - val_loss: 0.5615 - val_Categorical_Accuracy: 0.8180 - val_AUC: 0.9863 - lr: 2.0000e-05\n",
      "Epoch 72/75\n",
      "36/36 [==============================] - 0s 11ms/step - loss: 0.4297 - Categorical_Accuracy: 0.8589 - AUC: 0.9924 - val_loss: 0.5404 - val_Categorical_Accuracy: 0.7980 - val_AUC: 0.9880 - lr: 2.0000e-05\n",
      "Epoch 73/75\n",
      "36/36 [==============================] - 0s 11ms/step - loss: 0.4229 - Categorical_Accuracy: 0.8500 - AUC: 0.9934 - val_loss: 0.5570 - val_Categorical_Accuracy: 0.8160 - val_AUC: 0.9873 - lr: 2.0000e-05\n",
      "Epoch 74/75\n",
      "36/36 [==============================] - 0s 11ms/step - loss: 0.4114 - Categorical_Accuracy: 0.8767 - AUC: 0.9922 - val_loss: 0.5577 - val_Categorical_Accuracy: 0.8020 - val_AUC: 0.9857 - lr: 2.0000e-05\n",
      "Epoch 75/75\n",
      "35/36 [============================>.] - ETA: 0s - loss: 0.4254 - Categorical_Accuracy: 0.8526 - AUC: 0.9928\n",
      "Epoch 00075: ReduceLROnPlateau reducing learning rate to 1e-05.\n",
      "36/36 [==============================] - 0s 10ms/step - loss: 0.4201 - Categorical_Accuracy: 0.8544 - AUC: 0.9929 - val_loss: 0.5565 - val_Categorical_Accuracy: 0.8160 - val_AUC: 0.9867 - lr: 2.0000e-05\n"
     ]
    }
   ]
  },
  {
   "cell_type": "code",
   "metadata": {
    "id": "c_86FakJETb-",
    "executionInfo": {
     "status": "ok",
     "timestamp": 1638887908305,
     "user_tz": 300,
     "elapsed": 13,
     "user": {
      "displayName": "Andrew Ning",
      "photoUrl": "https://lh3.googleusercontent.com/a-/AOh14GgyUiXynCeybWnGTpfHnOSTarAoJjvj-8rK8oxkzQ=s64",
      "userId": "04097743773373129918"
     }
    }
   },
   "source": [
    "shared.trainable = False"
   ],
   "execution_count": 141,
   "outputs": []
  },
  {
   "cell_type": "code",
   "metadata": {
    "id": "6gzF-Z_KID5v",
    "executionInfo": {
     "status": "ok",
     "timestamp": 1638887908305,
     "user_tz": 300,
     "elapsed": 12,
     "user": {
      "displayName": "Andrew Ning",
      "photoUrl": "https://lh3.googleusercontent.com/a-/AOh14GgyUiXynCeybWnGTpfHnOSTarAoJjvj-8rK8oxkzQ=s64",
      "userId": "04097743773373129918"
     }
    }
   },
   "source": [
    "newSharedLayers = shared(inputEN)\n",
    "newLayersEN = languagelayers(NUM_LABELS_EN,'EN')(newSharedLayers)\n",
    "\n",
    "modelENRetrain = tf.keras.Model(\n",
    "    inputs=inputEN,\n",
    "    outputs=newLayersEN,\n",
    "    name='ENModelRetrained'\n",
    ")"
   ],
   "execution_count": 142,
   "outputs": []
  },
  {
   "cell_type": "code",
   "metadata": {
    "pycharm": {
     "name": "#%%\n",
     "is_executing": true
    },
    "id": "B7swrdTI85T0",
    "executionInfo": {
     "status": "ok",
     "timestamp": 1638887908306,
     "user_tz": 300,
     "elapsed": 12,
     "user": {
      "displayName": "Andrew Ning",
      "photoUrl": "https://lh3.googleusercontent.com/a-/AOh14GgyUiXynCeybWnGTpfHnOSTarAoJjvj-8rK8oxkzQ=s64",
      "userId": "04097743773373129918"
     }
    }
   },
   "source": [
    "modelENRetrain.compile(optimizer = tf.keras.optimizers.Adam(learning_rate=LEARNING_RATE),\n",
    "    loss=tf.keras.losses.CategoricalCrossentropy(),\n",
    "    metrics=[tf.keras.metrics.CategoricalAccuracy(name='Categorical Accuracy'),tf.keras.metrics.AUC(name='AUC')])\n",
    "\n",
    "# modelEN.evaluate(testdatasetEN)"
   ],
   "execution_count": 143,
   "outputs": []
  },
  {
   "cell_type": "code",
   "metadata": {
    "colab": {
     "base_uri": "https://localhost:8080/"
    },
    "id": "S--1Rd73I3Ms",
    "executionInfo": {
     "status": "ok",
     "timestamp": 1638887942796,
     "user_tz": 300,
     "elapsed": 34502,
     "user": {
      "displayName": "Andrew Ning",
      "photoUrl": "https://lh3.googleusercontent.com/a-/AOh14GgyUiXynCeybWnGTpfHnOSTarAoJjvj-8rK8oxkzQ=s64",
      "userId": "04097743773373129918"
     }
    },
    "outputId": "9a7c6c76-af62-4192-daa9-f748f8198b58"
   },
   "source": [
    "ext = '-RETRAIN-EN'\n",
    "training_callbackRETRAINEN = callbacks.TensorBoard(log_dir=LOG_DIR + RUN + ext)\n",
    "\n",
    "historyENRetrain = modelENRetrain.fit(\n",
    "    x = traindatasetEN,\n",
    "    validation_data = valdatasetEN,\n",
    "    epochs=EPOCHS,\n",
    "    steps_per_epoch=STEPS_PER_EPOCH,\n",
    "    callbacks=[training_callbackRETRAINEN,earlystopping_callback,reduce_lr_callback],\n",
    "    verbose=1\n",
    ")"
   ],
   "execution_count": 144,
   "outputs": [
    {
     "output_type": "stream",
     "name": "stdout",
     "text": [
      "Epoch 1/75\n",
      "36/36 [==============================] - 2s 19ms/step - loss: 3.1784 - Categorical Accuracy: 0.0656 - AUC: 0.5282 - val_loss: 2.6430 - val_Categorical Accuracy: 0.1340 - val_AUC: 0.6231 - lr: 1.0000e-04\n",
      "Epoch 2/75\n",
      "36/36 [==============================] - 0s 8ms/step - loss: 2.8675 - Categorical Accuracy: 0.0967 - AUC: 0.5421 - val_loss: 2.6183 - val_Categorical Accuracy: 0.1840 - val_AUC: 0.6887 - lr: 1.0000e-04\n",
      "Epoch 3/75\n",
      "36/36 [==============================] - 0s 8ms/step - loss: 2.7659 - Categorical Accuracy: 0.1089 - AUC: 0.5512 - val_loss: 2.6025 - val_Categorical Accuracy: 0.2220 - val_AUC: 0.7222 - lr: 1.0000e-04\n",
      "Epoch 4/75\n",
      "36/36 [==============================] - 0s 8ms/step - loss: 2.6886 - Categorical Accuracy: 0.1233 - AUC: 0.5858 - val_loss: 2.5876 - val_Categorical Accuracy: 0.2320 - val_AUC: 0.7307 - lr: 1.0000e-04\n",
      "Epoch 5/75\n",
      "36/36 [==============================] - 0s 8ms/step - loss: 2.6198 - Categorical Accuracy: 0.1322 - AUC: 0.6161 - val_loss: 2.5471 - val_Categorical Accuracy: 0.2200 - val_AUC: 0.7485 - lr: 1.0000e-04\n",
      "Epoch 6/75\n",
      "36/36 [==============================] - 0s 8ms/step - loss: 2.6212 - Categorical Accuracy: 0.1478 - AUC: 0.6215 - val_loss: 2.5172 - val_Categorical Accuracy: 0.2320 - val_AUC: 0.7648 - lr: 1.0000e-04\n",
      "Epoch 7/75\n",
      "36/36 [==============================] - 0s 9ms/step - loss: 2.5538 - Categorical Accuracy: 0.1667 - AUC: 0.6603 - val_loss: 2.4595 - val_Categorical Accuracy: 0.2740 - val_AUC: 0.7863 - lr: 1.0000e-04\n",
      "Epoch 8/75\n",
      "36/36 [==============================] - 0s 9ms/step - loss: 2.4978 - Categorical Accuracy: 0.1767 - AUC: 0.6799 - val_loss: 2.4087 - val_Categorical Accuracy: 0.3160 - val_AUC: 0.7980 - lr: 1.0000e-04\n",
      "Epoch 9/75\n",
      "36/36 [==============================] - 0s 9ms/step - loss: 2.4695 - Categorical Accuracy: 0.1878 - AUC: 0.6911 - val_loss: 2.3712 - val_Categorical Accuracy: 0.3580 - val_AUC: 0.8148 - lr: 1.0000e-04\n",
      "Epoch 10/75\n",
      "36/36 [==============================] - 0s 8ms/step - loss: 2.4418 - Categorical Accuracy: 0.1778 - AUC: 0.7003 - val_loss: 2.3235 - val_Categorical Accuracy: 0.3480 - val_AUC: 0.8351 - lr: 1.0000e-04\n",
      "Epoch 11/75\n",
      "36/36 [==============================] - 0s 9ms/step - loss: 2.3844 - Categorical Accuracy: 0.2122 - AUC: 0.7211 - val_loss: 2.2507 - val_Categorical Accuracy: 0.3560 - val_AUC: 0.8569 - lr: 1.0000e-04\n",
      "Epoch 12/75\n",
      "36/36 [==============================] - 0s 9ms/step - loss: 2.3332 - Categorical Accuracy: 0.2444 - AUC: 0.7415 - val_loss: 2.1847 - val_Categorical Accuracy: 0.3880 - val_AUC: 0.8683 - lr: 1.0000e-04\n",
      "Epoch 13/75\n",
      "36/36 [==============================] - 0s 9ms/step - loss: 2.2642 - Categorical Accuracy: 0.2500 - AUC: 0.7577 - val_loss: 2.1196 - val_Categorical Accuracy: 0.4240 - val_AUC: 0.8798 - lr: 1.0000e-04\n",
      "Epoch 14/75\n",
      "36/36 [==============================] - 0s 9ms/step - loss: 2.2022 - Categorical Accuracy: 0.2700 - AUC: 0.7787 - val_loss: 2.0614 - val_Categorical Accuracy: 0.4440 - val_AUC: 0.8871 - lr: 1.0000e-04\n",
      "Epoch 15/75\n",
      "36/36 [==============================] - 0s 9ms/step - loss: 2.1978 - Categorical Accuracy: 0.2844 - AUC: 0.7814 - val_loss: 2.0031 - val_Categorical Accuracy: 0.4500 - val_AUC: 0.8947 - lr: 1.0000e-04\n",
      "Epoch 16/75\n",
      "36/36 [==============================] - 0s 9ms/step - loss: 2.1391 - Categorical Accuracy: 0.2911 - AUC: 0.8001 - val_loss: 1.9515 - val_Categorical Accuracy: 0.4740 - val_AUC: 0.9068 - lr: 1.0000e-04\n",
      "Epoch 17/75\n",
      "36/36 [==============================] - 0s 9ms/step - loss: 2.0884 - Categorical Accuracy: 0.3078 - AUC: 0.8125 - val_loss: 1.8881 - val_Categorical Accuracy: 0.4960 - val_AUC: 0.9114 - lr: 1.0000e-04\n",
      "Epoch 18/75\n",
      "36/36 [==============================] - 0s 9ms/step - loss: 2.0635 - Categorical Accuracy: 0.3189 - AUC: 0.8160 - val_loss: 1.8400 - val_Categorical Accuracy: 0.5080 - val_AUC: 0.9184 - lr: 1.0000e-04\n",
      "Epoch 19/75\n",
      "36/36 [==============================] - 0s 9ms/step - loss: 2.0311 - Categorical Accuracy: 0.3200 - AUC: 0.8248 - val_loss: 1.7877 - val_Categorical Accuracy: 0.5060 - val_AUC: 0.9211 - lr: 1.0000e-04\n",
      "Epoch 20/75\n",
      "36/36 [==============================] - 0s 9ms/step - loss: 1.9665 - Categorical Accuracy: 0.3456 - AUC: 0.8368 - val_loss: 1.7346 - val_Categorical Accuracy: 0.5280 - val_AUC: 0.9272 - lr: 1.0000e-04\n",
      "Epoch 21/75\n",
      "36/36 [==============================] - 0s 9ms/step - loss: 1.8846 - Categorical Accuracy: 0.3656 - AUC: 0.8566 - val_loss: 1.6750 - val_Categorical Accuracy: 0.5580 - val_AUC: 0.9313 - lr: 1.0000e-04\n",
      "Epoch 22/75\n",
      "36/36 [==============================] - 0s 9ms/step - loss: 1.9147 - Categorical Accuracy: 0.3456 - AUC: 0.8515 - val_loss: 1.6551 - val_Categorical Accuracy: 0.5380 - val_AUC: 0.9322 - lr: 1.0000e-04\n",
      "Epoch 23/75\n",
      "36/36 [==============================] - 0s 9ms/step - loss: 1.8757 - Categorical Accuracy: 0.3667 - AUC: 0.8591 - val_loss: 1.6259 - val_Categorical Accuracy: 0.5440 - val_AUC: 0.9350 - lr: 1.0000e-04\n",
      "Epoch 24/75\n",
      "36/36 [==============================] - 0s 9ms/step - loss: 1.8047 - Categorical Accuracy: 0.3900 - AUC: 0.8721 - val_loss: 1.5849 - val_Categorical Accuracy: 0.5580 - val_AUC: 0.9380 - lr: 1.0000e-04\n",
      "Epoch 25/75\n",
      "36/36 [==============================] - 0s 9ms/step - loss: 1.7980 - Categorical Accuracy: 0.4033 - AUC: 0.8718 - val_loss: 1.5483 - val_Categorical Accuracy: 0.5760 - val_AUC: 0.9411 - lr: 1.0000e-04\n",
      "Epoch 26/75\n",
      "36/36 [==============================] - 0s 9ms/step - loss: 1.7479 - Categorical Accuracy: 0.4144 - AUC: 0.8814 - val_loss: 1.5137 - val_Categorical Accuracy: 0.5920 - val_AUC: 0.9424 - lr: 1.0000e-04\n",
      "Epoch 27/75\n",
      "36/36 [==============================] - 0s 9ms/step - loss: 1.6804 - Categorical Accuracy: 0.4233 - AUC: 0.8922 - val_loss: 1.4755 - val_Categorical Accuracy: 0.5840 - val_AUC: 0.9440 - lr: 1.0000e-04\n",
      "Epoch 28/75\n",
      "36/36 [==============================] - 0s 9ms/step - loss: 1.7162 - Categorical Accuracy: 0.4267 - AUC: 0.8857 - val_loss: 1.4581 - val_Categorical Accuracy: 0.5860 - val_AUC: 0.9453 - lr: 1.0000e-04\n",
      "Epoch 29/75\n",
      "36/36 [==============================] - 0s 9ms/step - loss: 1.6761 - Categorical Accuracy: 0.4456 - AUC: 0.8923 - val_loss: 1.4232 - val_Categorical Accuracy: 0.6080 - val_AUC: 0.9475 - lr: 1.0000e-04\n",
      "Epoch 30/75\n",
      "36/36 [==============================] - 0s 9ms/step - loss: 1.6399 - Categorical Accuracy: 0.4300 - AUC: 0.8974 - val_loss: 1.4058 - val_Categorical Accuracy: 0.6040 - val_AUC: 0.9483 - lr: 1.0000e-04\n",
      "Epoch 31/75\n",
      "36/36 [==============================] - 0s 9ms/step - loss: 1.5858 - Categorical Accuracy: 0.4689 - AUC: 0.9056 - val_loss: 1.3601 - val_Categorical Accuracy: 0.6080 - val_AUC: 0.9511 - lr: 1.0000e-04\n",
      "Epoch 32/75\n",
      "36/36 [==============================] - 0s 9ms/step - loss: 1.5854 - Categorical Accuracy: 0.4567 - AUC: 0.9057 - val_loss: 1.3390 - val_Categorical Accuracy: 0.6140 - val_AUC: 0.9511 - lr: 1.0000e-04\n",
      "Epoch 33/75\n",
      "36/36 [==============================] - 0s 9ms/step - loss: 1.5428 - Categorical Accuracy: 0.4711 - AUC: 0.9116 - val_loss: 1.3156 - val_Categorical Accuracy: 0.5980 - val_AUC: 0.9519 - lr: 1.0000e-04\n",
      "Epoch 34/75\n",
      "36/36 [==============================] - 0s 9ms/step - loss: 1.4881 - Categorical Accuracy: 0.5144 - AUC: 0.9170 - val_loss: 1.2881 - val_Categorical Accuracy: 0.6200 - val_AUC: 0.9536 - lr: 1.0000e-04\n",
      "Epoch 35/75\n",
      "36/36 [==============================] - 0s 9ms/step - loss: 1.5296 - Categorical Accuracy: 0.4811 - AUC: 0.9116 - val_loss: 1.2874 - val_Categorical Accuracy: 0.5980 - val_AUC: 0.9533 - lr: 1.0000e-04\n",
      "Epoch 36/75\n",
      "36/36 [==============================] - 0s 9ms/step - loss: 1.4552 - Categorical Accuracy: 0.4822 - AUC: 0.9235 - val_loss: 1.2726 - val_Categorical Accuracy: 0.6160 - val_AUC: 0.9544 - lr: 1.0000e-04\n",
      "Epoch 37/75\n",
      "36/36 [==============================] - 0s 8ms/step - loss: 1.4081 - Categorical Accuracy: 0.5133 - AUC: 0.9280 - val_loss: 1.2409 - val_Categorical Accuracy: 0.6140 - val_AUC: 0.9562 - lr: 1.0000e-04\n",
      "Epoch 38/75\n",
      "36/36 [==============================] - 0s 9ms/step - loss: 1.4386 - Categorical Accuracy: 0.4878 - AUC: 0.9250 - val_loss: 1.2307 - val_Categorical Accuracy: 0.6140 - val_AUC: 0.9558 - lr: 1.0000e-04\n",
      "Epoch 39/75\n",
      "36/36 [==============================] - 0s 9ms/step - loss: 1.3986 - Categorical Accuracy: 0.5222 - AUC: 0.9306 - val_loss: 1.2186 - val_Categorical Accuracy: 0.6320 - val_AUC: 0.9568 - lr: 1.0000e-04\n",
      "Epoch 40/75\n",
      "36/36 [==============================] - 0s 9ms/step - loss: 1.3889 - Categorical Accuracy: 0.5378 - AUC: 0.9291 - val_loss: 1.1983 - val_Categorical Accuracy: 0.6140 - val_AUC: 0.9576 - lr: 1.0000e-04\n",
      "Epoch 41/75\n",
      "36/36 [==============================] - 0s 9ms/step - loss: 1.3769 - Categorical Accuracy: 0.5278 - AUC: 0.9309 - val_loss: 1.1817 - val_Categorical Accuracy: 0.6280 - val_AUC: 0.9588 - lr: 1.0000e-04\n",
      "Epoch 42/75\n",
      "36/36 [==============================] - 0s 9ms/step - loss: 1.3168 - Categorical Accuracy: 0.5333 - AUC: 0.9397 - val_loss: 1.1770 - val_Categorical Accuracy: 0.6320 - val_AUC: 0.9590 - lr: 1.0000e-04\n",
      "Epoch 43/75\n",
      "36/36 [==============================] - 0s 9ms/step - loss: 1.3178 - Categorical Accuracy: 0.5344 - AUC: 0.9375 - val_loss: 1.1738 - val_Categorical Accuracy: 0.6280 - val_AUC: 0.9586 - lr: 1.0000e-04\n",
      "Epoch 44/75\n",
      "36/36 [==============================] - 0s 9ms/step - loss: 1.2567 - Categorical Accuracy: 0.5622 - AUC: 0.9452 - val_loss: 1.1458 - val_Categorical Accuracy: 0.6200 - val_AUC: 0.9598 - lr: 1.0000e-04\n",
      "Epoch 45/75\n",
      "36/36 [==============================] - 0s 9ms/step - loss: 1.3013 - Categorical Accuracy: 0.5433 - AUC: 0.9395 - val_loss: 1.1330 - val_Categorical Accuracy: 0.6340 - val_AUC: 0.9599 - lr: 1.0000e-04\n",
      "Epoch 46/75\n",
      "36/36 [==============================] - 0s 9ms/step - loss: 1.2466 - Categorical Accuracy: 0.5800 - AUC: 0.9436 - val_loss: 1.1211 - val_Categorical Accuracy: 0.6340 - val_AUC: 0.9611 - lr: 1.0000e-04\n",
      "Epoch 47/75\n",
      "36/36 [==============================] - 0s 9ms/step - loss: 1.1923 - Categorical Accuracy: 0.5822 - AUC: 0.9494 - val_loss: 1.1056 - val_Categorical Accuracy: 0.6160 - val_AUC: 0.9610 - lr: 1.0000e-04\n",
      "Epoch 48/75\n",
      "36/36 [==============================] - 0s 9ms/step - loss: 1.2060 - Categorical Accuracy: 0.5856 - AUC: 0.9472 - val_loss: 1.0982 - val_Categorical Accuracy: 0.6120 - val_AUC: 0.9606 - lr: 1.0000e-04\n",
      "Epoch 49/75\n",
      "36/36 [==============================] - 0s 9ms/step - loss: 1.1895 - Categorical Accuracy: 0.5933 - AUC: 0.9496 - val_loss: 1.0913 - val_Categorical Accuracy: 0.6240 - val_AUC: 0.9616 - lr: 1.0000e-04\n",
      "Epoch 50/75\n",
      "36/36 [==============================] - 0s 9ms/step - loss: 1.1893 - Categorical Accuracy: 0.5633 - AUC: 0.9511 - val_loss: 1.0833 - val_Categorical Accuracy: 0.6380 - val_AUC: 0.9624 - lr: 1.0000e-04\n",
      "Epoch 51/75\n",
      "36/36 [==============================] - 0s 9ms/step - loss: 1.1408 - Categorical Accuracy: 0.5922 - AUC: 0.9541 - val_loss: 1.0735 - val_Categorical Accuracy: 0.6360 - val_AUC: 0.9626 - lr: 1.0000e-04\n",
      "Epoch 52/75\n",
      "36/36 [==============================] - 0s 9ms/step - loss: 1.1487 - Categorical Accuracy: 0.5889 - AUC: 0.9536 - val_loss: 1.0590 - val_Categorical Accuracy: 0.6440 - val_AUC: 0.9639 - lr: 1.0000e-04\n",
      "Epoch 53/75\n",
      "36/36 [==============================] - 0s 9ms/step - loss: 1.1224 - Categorical Accuracy: 0.5944 - AUC: 0.9557 - val_loss: 1.0633 - val_Categorical Accuracy: 0.6280 - val_AUC: 0.9627 - lr: 1.0000e-04\n",
      "Epoch 54/75\n",
      "36/36 [==============================] - 0s 9ms/step - loss: 1.1341 - Categorical Accuracy: 0.6078 - AUC: 0.9535 - val_loss: 1.0521 - val_Categorical Accuracy: 0.6520 - val_AUC: 0.9640 - lr: 1.0000e-04\n",
      "Epoch 55/75\n",
      "36/36 [==============================] - 0s 9ms/step - loss: 1.0618 - Categorical Accuracy: 0.6433 - AUC: 0.9614 - val_loss: 1.0374 - val_Categorical Accuracy: 0.6540 - val_AUC: 0.9643 - lr: 1.0000e-04\n",
      "Epoch 56/75\n",
      "36/36 [==============================] - 0s 9ms/step - loss: 1.0787 - Categorical Accuracy: 0.6500 - AUC: 0.9573 - val_loss: 1.0381 - val_Categorical Accuracy: 0.6560 - val_AUC: 0.9643 - lr: 1.0000e-04\n",
      "Epoch 57/75\n",
      "36/36 [==============================] - 0s 9ms/step - loss: 1.0452 - Categorical Accuracy: 0.6522 - AUC: 0.9622 - val_loss: 1.0308 - val_Categorical Accuracy: 0.6500 - val_AUC: 0.9644 - lr: 1.0000e-04\n",
      "Epoch 58/75\n",
      "36/36 [==============================] - 0s 9ms/step - loss: 1.0454 - Categorical Accuracy: 0.6433 - AUC: 0.9617 - val_loss: 1.0312 - val_Categorical Accuracy: 0.6540 - val_AUC: 0.9637 - lr: 1.0000e-04\n",
      "Epoch 59/75\n",
      "36/36 [==============================] - 0s 9ms/step - loss: 1.0519 - Categorical Accuracy: 0.6189 - AUC: 0.9614 - val_loss: 1.0150 - val_Categorical Accuracy: 0.6640 - val_AUC: 0.9652 - lr: 1.0000e-04\n",
      "Epoch 60/75\n",
      "36/36 [==============================] - 0s 9ms/step - loss: 0.9908 - Categorical Accuracy: 0.6556 - AUC: 0.9659 - val_loss: 1.0033 - val_Categorical Accuracy: 0.6620 - val_AUC: 0.9653 - lr: 1.0000e-04\n",
      "Epoch 61/75\n",
      "36/36 [==============================] - 0s 9ms/step - loss: 0.9834 - Categorical Accuracy: 0.6522 - AUC: 0.9656 - val_loss: 0.9977 - val_Categorical Accuracy: 0.6620 - val_AUC: 0.9653 - lr: 1.0000e-04\n",
      "Epoch 62/75\n",
      "36/36 [==============================] - 0s 9ms/step - loss: 0.9800 - Categorical Accuracy: 0.6633 - AUC: 0.9648 - val_loss: 0.9876 - val_Categorical Accuracy: 0.6740 - val_AUC: 0.9663 - lr: 1.0000e-04\n",
      "Epoch 63/75\n",
      "36/36 [==============================] - 0s 9ms/step - loss: 0.9870 - Categorical Accuracy: 0.6644 - AUC: 0.9661 - val_loss: 0.9861 - val_Categorical Accuracy: 0.6600 - val_AUC: 0.9664 - lr: 1.0000e-04\n",
      "Epoch 64/75\n",
      "36/36 [==============================] - 0s 9ms/step - loss: 0.9513 - Categorical Accuracy: 0.6722 - AUC: 0.9678 - val_loss: 0.9829 - val_Categorical Accuracy: 0.6660 - val_AUC: 0.9667 - lr: 1.0000e-04\n",
      "Epoch 65/75\n",
      "36/36 [==============================] - 0s 9ms/step - loss: 0.9463 - Categorical Accuracy: 0.6689 - AUC: 0.9686 - val_loss: 0.9787 - val_Categorical Accuracy: 0.6680 - val_AUC: 0.9668 - lr: 1.0000e-04\n",
      "Epoch 66/75\n",
      "36/36 [==============================] - 0s 9ms/step - loss: 0.9307 - Categorical Accuracy: 0.6778 - AUC: 0.9694 - val_loss: 0.9757 - val_Categorical Accuracy: 0.6620 - val_AUC: 0.9664 - lr: 1.0000e-04\n",
      "Epoch 67/75\n",
      "36/36 [==============================] - 0s 9ms/step - loss: 0.9444 - Categorical Accuracy: 0.6567 - AUC: 0.9688 - val_loss: 0.9824 - val_Categorical Accuracy: 0.6680 - val_AUC: 0.9660 - lr: 1.0000e-04\n",
      "Epoch 68/75\n",
      "36/36 [==============================] - 0s 9ms/step - loss: 0.8915 - Categorical Accuracy: 0.6856 - AUC: 0.9724 - val_loss: 0.9762 - val_Categorical Accuracy: 0.6680 - val_AUC: 0.9662 - lr: 1.0000e-04\n",
      "Epoch 69/75\n",
      "36/36 [==============================] - 0s 9ms/step - loss: 0.8800 - Categorical Accuracy: 0.6911 - AUC: 0.9734 - val_loss: 0.9652 - val_Categorical Accuracy: 0.6700 - val_AUC: 0.9670 - lr: 1.0000e-04\n",
      "Epoch 70/75\n",
      "36/36 [==============================] - 0s 9ms/step - loss: 0.8582 - Categorical Accuracy: 0.7044 - AUC: 0.9749 - val_loss: 0.9652 - val_Categorical Accuracy: 0.6620 - val_AUC: 0.9667 - lr: 1.0000e-04\n",
      "Epoch 71/75\n",
      "36/36 [==============================] - 0s 9ms/step - loss: 0.8877 - Categorical Accuracy: 0.7011 - AUC: 0.9719 - val_loss: 0.9625 - val_Categorical Accuracy: 0.6660 - val_AUC: 0.9671 - lr: 1.0000e-04\n",
      "Epoch 72/75\n",
      "36/36 [==============================] - 0s 9ms/step - loss: 0.8657 - Categorical Accuracy: 0.7156 - AUC: 0.9741 - val_loss: 0.9550 - val_Categorical Accuracy: 0.6780 - val_AUC: 0.9673 - lr: 1.0000e-04\n",
      "Epoch 73/75\n",
      "36/36 [==============================] - 0s 9ms/step - loss: 0.8638 - Categorical Accuracy: 0.6944 - AUC: 0.9724 - val_loss: 0.9575 - val_Categorical Accuracy: 0.6800 - val_AUC: 0.9671 - lr: 1.0000e-04\n",
      "Epoch 74/75\n",
      "36/36 [==============================] - 0s 9ms/step - loss: 0.7995 - Categorical Accuracy: 0.7167 - AUC: 0.9791 - val_loss: 0.9538 - val_Categorical Accuracy: 0.6760 - val_AUC: 0.9666 - lr: 1.0000e-04\n",
      "Epoch 75/75\n",
      "36/36 [==============================] - 0s 9ms/step - loss: 0.8051 - Categorical Accuracy: 0.7178 - AUC: 0.9773 - val_loss: 0.9498 - val_Categorical Accuracy: 0.6760 - val_AUC: 0.9668 - lr: 1.0000e-04\n"
     ]
    }
   ]
  },
  {
   "cell_type": "code",
   "metadata": {
    "id": "FBH9yzYpJq9C",
    "executionInfo": {
     "status": "ok",
     "timestamp": 1638887942797,
     "user_tz": 300,
     "elapsed": 13,
     "user": {
      "displayName": "Andrew Ning",
      "photoUrl": "https://lh3.googleusercontent.com/a-/AOh14GgyUiXynCeybWnGTpfHnOSTarAoJjvj-8rK8oxkzQ=s64",
      "userId": "04097743773373129918"
     }
    }
   },
   "source": [
    "# print(modelENRetrain.layers[-2].weights)"
   ],
   "execution_count": 145,
   "outputs": []
  },
  {
   "cell_type": "code",
   "metadata": {
    "colab": {
     "base_uri": "https://localhost:8080/"
    },
    "id": "UYC_GK_fNnKT",
    "executionInfo": {
     "status": "ok",
     "timestamp": 1638887980705,
     "user_tz": 300,
     "elapsed": 37920,
     "user": {
      "displayName": "Andrew Ning",
      "photoUrl": "https://lh3.googleusercontent.com/a-/AOh14GgyUiXynCeybWnGTpfHnOSTarAoJjvj-8rK8oxkzQ=s64",
      "userId": "04097743773373129918"
     }
    },
    "outputId": "bca57b40-1fea-4e99-8f5f-94007edf3a99"
   },
   "source": [
    "newSharedLayers = shared(inputES)\n",
    "newLayersES = languagelayers(NUM_LABELS_ES,'ES')(newSharedLayers)\n",
    "\n",
    "modelESRetrain = tf.keras.Model(\n",
    "    inputs=inputES,\n",
    "    outputs=newLayersES,\n",
    "    name='ESModelRetrained'\n",
    ")\n",
    "\n",
    "modelESRetrain.compile(optimizer = tf.keras.optimizers.Adam(learning_rate=LEARNING_RATE),\n",
    "    loss=tf.keras.losses.CategoricalCrossentropy(),\n",
    "    metrics=[tf.keras.metrics.CategoricalAccuracy(name='Categorical Accuracy'),tf.keras.metrics.AUC(name='AUC')])\n",
    "\n",
    "ext = '-RETRAIN-ES'\n",
    "training_callbackRETRAINES = callbacks.TensorBoard(log_dir=LOG_DIR + RUN + ext)\n",
    "\n",
    "historyESRetrain = modelESRetrain.fit(\n",
    "    x = traindatasetES,\n",
    "    validation_data = valdatasetES,\n",
    "    epochs=EPOCHS,\n",
    "    steps_per_epoch=STEPS_PER_EPOCH,\n",
    "    callbacks=[training_callbackRETRAINES,earlystopping_callback,reduce_lr_callback],\n",
    "    verbose=1\n",
    ")"
   ],
   "execution_count": 146,
   "outputs": [
    {
     "output_type": "stream",
     "name": "stdout",
     "text": [
      "Epoch 1/75\n",
      "36/36 [==============================] - 2s 36ms/step - loss: 2.8358 - Categorical Accuracy: 0.0789 - AUC: 0.5049 - val_loss: 2.3944 - val_Categorical Accuracy: 0.1520 - val_AUC: 0.6082 - lr: 1.0000e-04\n",
      "Epoch 2/75\n",
      "36/36 [==============================] - 0s 8ms/step - loss: 2.4706 - Categorical Accuracy: 0.1044 - AUC: 0.5589 - val_loss: 2.3728 - val_Categorical Accuracy: 0.1960 - val_AUC: 0.6886 - lr: 1.0000e-04\n",
      "Epoch 3/75\n",
      "36/36 [==============================] - 0s 8ms/step - loss: 2.4401 - Categorical Accuracy: 0.0856 - AUC: 0.5627 - val_loss: 2.3386 - val_Categorical Accuracy: 0.2220 - val_AUC: 0.7264 - lr: 1.0000e-04\n",
      "Epoch 4/75\n",
      "36/36 [==============================] - 0s 8ms/step - loss: 2.3723 - Categorical Accuracy: 0.1156 - AUC: 0.6042 - val_loss: 2.2987 - val_Categorical Accuracy: 0.2680 - val_AUC: 0.7541 - lr: 1.0000e-04\n",
      "Epoch 5/75\n",
      "36/36 [==============================] - 0s 8ms/step - loss: 2.3329 - Categorical Accuracy: 0.1456 - AUC: 0.6228 - val_loss: 2.2569 - val_Categorical Accuracy: 0.3080 - val_AUC: 0.7981 - lr: 1.0000e-04\n",
      "Epoch 6/75\n",
      "36/36 [==============================] - 0s 8ms/step - loss: 2.3075 - Categorical Accuracy: 0.1411 - AUC: 0.6411 - val_loss: 2.2186 - val_Categorical Accuracy: 0.3240 - val_AUC: 0.8176 - lr: 1.0000e-04\n",
      "Epoch 7/75\n",
      "36/36 [==============================] - 0s 9ms/step - loss: 2.2392 - Categorical Accuracy: 0.1778 - AUC: 0.6741 - val_loss: 2.1476 - val_Categorical Accuracy: 0.3120 - val_AUC: 0.8262 - lr: 1.0000e-04\n",
      "Epoch 8/75\n",
      "36/36 [==============================] - 0s 9ms/step - loss: 2.2148 - Categorical Accuracy: 0.1744 - AUC: 0.6837 - val_loss: 2.1117 - val_Categorical Accuracy: 0.3520 - val_AUC: 0.8470 - lr: 1.0000e-04\n",
      "Epoch 9/75\n",
      "36/36 [==============================] - 0s 9ms/step - loss: 2.1793 - Categorical Accuracy: 0.1900 - AUC: 0.7065 - val_loss: 2.0526 - val_Categorical Accuracy: 0.3620 - val_AUC: 0.8625 - lr: 1.0000e-04\n",
      "Epoch 10/75\n",
      "36/36 [==============================] - 0s 9ms/step - loss: 2.1203 - Categorical Accuracy: 0.1922 - AUC: 0.7332 - val_loss: 1.9798 - val_Categorical Accuracy: 0.3920 - val_AUC: 0.8730 - lr: 1.0000e-04\n",
      "Epoch 11/75\n",
      "36/36 [==============================] - 0s 9ms/step - loss: 2.0788 - Categorical Accuracy: 0.2078 - AUC: 0.7484 - val_loss: 1.9329 - val_Categorical Accuracy: 0.4280 - val_AUC: 0.8858 - lr: 1.0000e-04\n",
      "Epoch 12/75\n",
      "36/36 [==============================] - 0s 9ms/step - loss: 2.0279 - Categorical Accuracy: 0.2289 - AUC: 0.7642 - val_loss: 1.8732 - val_Categorical Accuracy: 0.4020 - val_AUC: 0.8911 - lr: 1.0000e-04\n",
      "Epoch 13/75\n",
      "36/36 [==============================] - 0s 9ms/step - loss: 1.9619 - Categorical Accuracy: 0.2500 - AUC: 0.7903 - val_loss: 1.8098 - val_Categorical Accuracy: 0.4280 - val_AUC: 0.9006 - lr: 1.0000e-04\n",
      "Epoch 14/75\n",
      "36/36 [==============================] - 0s 9ms/step - loss: 1.9136 - Categorical Accuracy: 0.2711 - AUC: 0.8042 - val_loss: 1.7541 - val_Categorical Accuracy: 0.4320 - val_AUC: 0.9055 - lr: 1.0000e-04\n",
      "Epoch 15/75\n",
      "36/36 [==============================] - 0s 9ms/step - loss: 1.8634 - Categorical Accuracy: 0.2933 - AUC: 0.8142 - val_loss: 1.7017 - val_Categorical Accuracy: 0.4300 - val_AUC: 0.9135 - lr: 1.0000e-04\n",
      "Epoch 16/75\n",
      "36/36 [==============================] - 0s 9ms/step - loss: 1.8668 - Categorical Accuracy: 0.2811 - AUC: 0.8145 - val_loss: 1.6511 - val_Categorical Accuracy: 0.4200 - val_AUC: 0.9192 - lr: 1.0000e-04\n",
      "Epoch 17/75\n",
      "36/36 [==============================] - 0s 9ms/step - loss: 1.8270 - Categorical Accuracy: 0.2933 - AUC: 0.8244 - val_loss: 1.6192 - val_Categorical Accuracy: 0.4320 - val_AUC: 0.9234 - lr: 1.0000e-04\n",
      "Epoch 18/75\n",
      "36/36 [==============================] - 0s 9ms/step - loss: 1.7447 - Categorical Accuracy: 0.3356 - AUC: 0.8399 - val_loss: 1.5643 - val_Categorical Accuracy: 0.4460 - val_AUC: 0.9259 - lr: 1.0000e-04\n",
      "Epoch 19/75\n",
      "36/36 [==============================] - 0s 9ms/step - loss: 1.7486 - Categorical Accuracy: 0.3078 - AUC: 0.8453 - val_loss: 1.5313 - val_Categorical Accuracy: 0.4380 - val_AUC: 0.9292 - lr: 1.0000e-04\n",
      "Epoch 20/75\n",
      "36/36 [==============================] - 0s 9ms/step - loss: 1.6444 - Categorical Accuracy: 0.3722 - AUC: 0.8663 - val_loss: 1.4736 - val_Categorical Accuracy: 0.4380 - val_AUC: 0.9335 - lr: 1.0000e-04\n",
      "Epoch 21/75\n",
      "36/36 [==============================] - 0s 9ms/step - loss: 1.6692 - Categorical Accuracy: 0.3444 - AUC: 0.8602 - val_loss: 1.4406 - val_Categorical Accuracy: 0.4500 - val_AUC: 0.9356 - lr: 1.0000e-04\n",
      "Epoch 22/75\n",
      "36/36 [==============================] - 0s 9ms/step - loss: 1.6646 - Categorical Accuracy: 0.3356 - AUC: 0.8604 - val_loss: 1.4171 - val_Categorical Accuracy: 0.4640 - val_AUC: 0.9388 - lr: 1.0000e-04\n",
      "Epoch 23/75\n",
      "36/36 [==============================] - 0s 9ms/step - loss: 1.5889 - Categorical Accuracy: 0.3533 - AUC: 0.8753 - val_loss: 1.3715 - val_Categorical Accuracy: 0.4760 - val_AUC: 0.9419 - lr: 1.0000e-04\n",
      "Epoch 24/75\n",
      "36/36 [==============================] - 0s 9ms/step - loss: 1.5591 - Categorical Accuracy: 0.3811 - AUC: 0.8815 - val_loss: 1.3489 - val_Categorical Accuracy: 0.4860 - val_AUC: 0.9449 - lr: 1.0000e-04\n",
      "Epoch 25/75\n",
      "36/36 [==============================] - 0s 8ms/step - loss: 1.5292 - Categorical Accuracy: 0.3889 - AUC: 0.8864 - val_loss: 1.3116 - val_Categorical Accuracy: 0.5140 - val_AUC: 0.9489 - lr: 1.0000e-04\n",
      "Epoch 26/75\n",
      "36/36 [==============================] - 0s 9ms/step - loss: 1.4992 - Categorical Accuracy: 0.3811 - AUC: 0.8911 - val_loss: 1.2877 - val_Categorical Accuracy: 0.5040 - val_AUC: 0.9506 - lr: 1.0000e-04\n",
      "Epoch 27/75\n",
      "36/36 [==============================] - 0s 8ms/step - loss: 1.4576 - Categorical Accuracy: 0.4044 - AUC: 0.9012 - val_loss: 1.2596 - val_Categorical Accuracy: 0.5280 - val_AUC: 0.9520 - lr: 1.0000e-04\n",
      "Epoch 28/75\n",
      "36/36 [==============================] - 0s 9ms/step - loss: 1.4762 - Categorical Accuracy: 0.3856 - AUC: 0.8958 - val_loss: 1.2489 - val_Categorical Accuracy: 0.5300 - val_AUC: 0.9532 - lr: 1.0000e-04\n",
      "Epoch 29/75\n",
      "36/36 [==============================] - 0s 9ms/step - loss: 1.4172 - Categorical Accuracy: 0.4156 - AUC: 0.9034 - val_loss: 1.2117 - val_Categorical Accuracy: 0.5480 - val_AUC: 0.9554 - lr: 1.0000e-04\n",
      "Epoch 30/75\n",
      "36/36 [==============================] - 0s 9ms/step - loss: 1.3874 - Categorical Accuracy: 0.4233 - AUC: 0.9085 - val_loss: 1.1726 - val_Categorical Accuracy: 0.5440 - val_AUC: 0.9566 - lr: 1.0000e-04\n",
      "Epoch 31/75\n",
      "36/36 [==============================] - 0s 9ms/step - loss: 1.3966 - Categorical Accuracy: 0.4100 - AUC: 0.9069 - val_loss: 1.1823 - val_Categorical Accuracy: 0.5360 - val_AUC: 0.9563 - lr: 1.0000e-04\n",
      "Epoch 32/75\n",
      "36/36 [==============================] - 0s 9ms/step - loss: 1.3255 - Categorical Accuracy: 0.4456 - AUC: 0.9175 - val_loss: 1.1531 - val_Categorical Accuracy: 0.5580 - val_AUC: 0.9582 - lr: 1.0000e-04\n",
      "Epoch 33/75\n",
      "36/36 [==============================] - 0s 9ms/step - loss: 1.3469 - Categorical Accuracy: 0.4433 - AUC: 0.9133 - val_loss: 1.1336 - val_Categorical Accuracy: 0.5500 - val_AUC: 0.9585 - lr: 1.0000e-04\n",
      "Epoch 34/75\n",
      "36/36 [==============================] - 0s 9ms/step - loss: 1.2926 - Categorical Accuracy: 0.4600 - AUC: 0.9213 - val_loss: 1.0970 - val_Categorical Accuracy: 0.5720 - val_AUC: 0.9603 - lr: 1.0000e-04\n",
      "Epoch 35/75\n",
      "36/36 [==============================] - 0s 9ms/step - loss: 1.2922 - Categorical Accuracy: 0.4478 - AUC: 0.9216 - val_loss: 1.1011 - val_Categorical Accuracy: 0.5800 - val_AUC: 0.9605 - lr: 1.0000e-04\n",
      "Epoch 36/75\n",
      "36/36 [==============================] - 0s 9ms/step - loss: 1.2398 - Categorical Accuracy: 0.4678 - AUC: 0.9286 - val_loss: 1.0635 - val_Categorical Accuracy: 0.5800 - val_AUC: 0.9625 - lr: 1.0000e-04\n",
      "Epoch 37/75\n",
      "36/36 [==============================] - 0s 9ms/step - loss: 1.2460 - Categorical Accuracy: 0.4789 - AUC: 0.9260 - val_loss: 1.0541 - val_Categorical Accuracy: 0.5740 - val_AUC: 0.9629 - lr: 1.0000e-04\n",
      "Epoch 38/75\n",
      "36/36 [==============================] - 0s 9ms/step - loss: 1.2288 - Categorical Accuracy: 0.4833 - AUC: 0.9292 - val_loss: 1.0320 - val_Categorical Accuracy: 0.6000 - val_AUC: 0.9660 - lr: 1.0000e-04\n",
      "Epoch 39/75\n",
      "36/36 [==============================] - 0s 9ms/step - loss: 1.2048 - Categorical Accuracy: 0.4944 - AUC: 0.9313 - val_loss: 1.0204 - val_Categorical Accuracy: 0.5880 - val_AUC: 0.9652 - lr: 1.0000e-04\n",
      "Epoch 40/75\n",
      "36/36 [==============================] - 0s 9ms/step - loss: 1.2161 - Categorical Accuracy: 0.4700 - AUC: 0.9310 - val_loss: 1.0095 - val_Categorical Accuracy: 0.6060 - val_AUC: 0.9660 - lr: 1.0000e-04\n",
      "Epoch 41/75\n",
      "36/36 [==============================] - 0s 9ms/step - loss: 1.1613 - Categorical Accuracy: 0.5067 - AUC: 0.9384 - val_loss: 0.9845 - val_Categorical Accuracy: 0.6220 - val_AUC: 0.9681 - lr: 1.0000e-04\n",
      "Epoch 42/75\n",
      "36/36 [==============================] - 0s 9ms/step - loss: 1.1016 - Categorical Accuracy: 0.5167 - AUC: 0.9446 - val_loss: 0.9619 - val_Categorical Accuracy: 0.6220 - val_AUC: 0.9692 - lr: 1.0000e-04\n",
      "Epoch 43/75\n",
      "36/36 [==============================] - 0s 10ms/step - loss: 1.1419 - Categorical Accuracy: 0.5044 - AUC: 0.9390 - val_loss: 0.9555 - val_Categorical Accuracy: 0.6240 - val_AUC: 0.9693 - lr: 1.0000e-04\n",
      "Epoch 44/75\n",
      "36/36 [==============================] - 0s 9ms/step - loss: 1.0990 - Categorical Accuracy: 0.5267 - AUC: 0.9437 - val_loss: 0.9472 - val_Categorical Accuracy: 0.6280 - val_AUC: 0.9704 - lr: 1.0000e-04\n",
      "Epoch 45/75\n",
      "36/36 [==============================] - 0s 9ms/step - loss: 1.1044 - Categorical Accuracy: 0.5333 - AUC: 0.9421 - val_loss: 0.9304 - val_Categorical Accuracy: 0.6400 - val_AUC: 0.9706 - lr: 1.0000e-04\n",
      "Epoch 46/75\n",
      "36/36 [==============================] - 0s 8ms/step - loss: 1.0609 - Categorical Accuracy: 0.5300 - AUC: 0.9490 - val_loss: 0.9057 - val_Categorical Accuracy: 0.6380 - val_AUC: 0.9721 - lr: 1.0000e-04\n",
      "Epoch 47/75\n",
      "36/36 [==============================] - 0s 9ms/step - loss: 1.0536 - Categorical Accuracy: 0.5367 - AUC: 0.9484 - val_loss: 0.8991 - val_Categorical Accuracy: 0.6340 - val_AUC: 0.9711 - lr: 1.0000e-04\n",
      "Epoch 48/75\n",
      "36/36 [==============================] - 0s 9ms/step - loss: 1.0538 - Categorical Accuracy: 0.5333 - AUC: 0.9487 - val_loss: 0.8658 - val_Categorical Accuracy: 0.6420 - val_AUC: 0.9739 - lr: 1.0000e-04\n",
      "Epoch 49/75\n",
      "36/36 [==============================] - 0s 9ms/step - loss: 1.0182 - Categorical Accuracy: 0.5378 - AUC: 0.9518 - val_loss: 0.8669 - val_Categorical Accuracy: 0.6460 - val_AUC: 0.9734 - lr: 1.0000e-04\n",
      "Epoch 50/75\n",
      "36/36 [==============================] - 0s 8ms/step - loss: 1.0347 - Categorical Accuracy: 0.5489 - AUC: 0.9490 - val_loss: 0.8617 - val_Categorical Accuracy: 0.6400 - val_AUC: 0.9730 - lr: 1.0000e-04\n",
      "Epoch 51/75\n",
      "36/36 [==============================] - 0s 9ms/step - loss: 0.9859 - Categorical Accuracy: 0.5656 - AUC: 0.9536 - val_loss: 0.8494 - val_Categorical Accuracy: 0.6440 - val_AUC: 0.9737 - lr: 1.0000e-04\n",
      "Epoch 52/75\n",
      "36/36 [==============================] - 0s 9ms/step - loss: 1.0004 - Categorical Accuracy: 0.5500 - AUC: 0.9525 - val_loss: 0.8325 - val_Categorical Accuracy: 0.6680 - val_AUC: 0.9754 - lr: 1.0000e-04\n",
      "Epoch 53/75\n",
      "36/36 [==============================] - 0s 9ms/step - loss: 0.9521 - Categorical Accuracy: 0.5678 - AUC: 0.9573 - val_loss: 0.8104 - val_Categorical Accuracy: 0.6640 - val_AUC: 0.9755 - lr: 1.0000e-04\n",
      "Epoch 54/75\n",
      "36/36 [==============================] - 0s 9ms/step - loss: 0.9722 - Categorical Accuracy: 0.5633 - AUC: 0.9547 - val_loss: 0.8007 - val_Categorical Accuracy: 0.6660 - val_AUC: 0.9767 - lr: 1.0000e-04\n",
      "Epoch 55/75\n",
      "36/36 [==============================] - 0s 8ms/step - loss: 0.9196 - Categorical Accuracy: 0.5978 - AUC: 0.9586 - val_loss: 0.7915 - val_Categorical Accuracy: 0.6600 - val_AUC: 0.9760 - lr: 1.0000e-04\n",
      "Epoch 56/75\n",
      "36/36 [==============================] - 0s 9ms/step - loss: 0.9312 - Categorical Accuracy: 0.5844 - AUC: 0.9574 - val_loss: 0.7765 - val_Categorical Accuracy: 0.6700 - val_AUC: 0.9768 - lr: 1.0000e-04\n",
      "Epoch 57/75\n",
      "36/36 [==============================] - 0s 9ms/step - loss: 0.9378 - Categorical Accuracy: 0.5878 - AUC: 0.9580 - val_loss: 0.7686 - val_Categorical Accuracy: 0.6800 - val_AUC: 0.9776 - lr: 1.0000e-04\n",
      "Epoch 58/75\n",
      "36/36 [==============================] - 0s 9ms/step - loss: 0.9523 - Categorical Accuracy: 0.5822 - AUC: 0.9555 - val_loss: 0.7744 - val_Categorical Accuracy: 0.6700 - val_AUC: 0.9768 - lr: 1.0000e-04\n",
      "Epoch 59/75\n",
      "36/36 [==============================] - 0s 9ms/step - loss: 0.9153 - Categorical Accuracy: 0.6022 - AUC: 0.9586 - val_loss: 0.7791 - val_Categorical Accuracy: 0.6780 - val_AUC: 0.9767 - lr: 1.0000e-04\n",
      "Epoch 60/75\n",
      "36/36 [==============================] - 0s 9ms/step - loss: 0.8729 - Categorical Accuracy: 0.6167 - AUC: 0.9622 - val_loss: 0.7577 - val_Categorical Accuracy: 0.6740 - val_AUC: 0.9779 - lr: 1.0000e-04\n",
      "Epoch 61/75\n",
      "36/36 [==============================] - 0s 9ms/step - loss: 0.8491 - Categorical Accuracy: 0.6222 - AUC: 0.9653 - val_loss: 0.7400 - val_Categorical Accuracy: 0.6740 - val_AUC: 0.9781 - lr: 1.0000e-04\n",
      "Epoch 62/75\n",
      "36/36 [==============================] - 0s 9ms/step - loss: 0.8536 - Categorical Accuracy: 0.6222 - AUC: 0.9641 - val_loss: 0.7431 - val_Categorical Accuracy: 0.6640 - val_AUC: 0.9771 - lr: 1.0000e-04\n",
      "Epoch 63/75\n",
      "36/36 [==============================] - 0s 8ms/step - loss: 0.8481 - Categorical Accuracy: 0.6122 - AUC: 0.9651 - val_loss: 0.7111 - val_Categorical Accuracy: 0.6780 - val_AUC: 0.9789 - lr: 1.0000e-04\n",
      "Epoch 64/75\n",
      "36/36 [==============================] - 0s 8ms/step - loss: 0.8362 - Categorical Accuracy: 0.6222 - AUC: 0.9649 - val_loss: 0.7210 - val_Categorical Accuracy: 0.6720 - val_AUC: 0.9781 - lr: 1.0000e-04\n",
      "Epoch 65/75\n",
      "36/36 [==============================] - 0s 9ms/step - loss: 0.8755 - Categorical Accuracy: 0.6233 - AUC: 0.9603 - val_loss: 0.7020 - val_Categorical Accuracy: 0.6880 - val_AUC: 0.9796 - lr: 1.0000e-04\n",
      "Epoch 66/75\n",
      "36/36 [==============================] - 0s 9ms/step - loss: 0.8652 - Categorical Accuracy: 0.6044 - AUC: 0.9606 - val_loss: 0.6952 - val_Categorical Accuracy: 0.6920 - val_AUC: 0.9791 - lr: 1.0000e-04\n",
      "Epoch 67/75\n",
      "36/36 [==============================] - 0s 9ms/step - loss: 0.8179 - Categorical Accuracy: 0.6233 - AUC: 0.9659 - val_loss: 0.7092 - val_Categorical Accuracy: 0.6740 - val_AUC: 0.9776 - lr: 1.0000e-04\n",
      "Epoch 68/75\n",
      "36/36 [==============================] - 0s 9ms/step - loss: 0.8498 - Categorical Accuracy: 0.6344 - AUC: 0.9618 - val_loss: 0.6853 - val_Categorical Accuracy: 0.6960 - val_AUC: 0.9796 - lr: 1.0000e-04\n",
      "Epoch 69/75\n",
      "36/36 [==============================] - 0s 9ms/step - loss: 0.8270 - Categorical Accuracy: 0.6244 - AUC: 0.9643 - val_loss: 0.6711 - val_Categorical Accuracy: 0.7060 - val_AUC: 0.9794 - lr: 1.0000e-04\n",
      "Epoch 70/75\n",
      "36/36 [==============================] - 0s 9ms/step - loss: 0.8350 - Categorical Accuracy: 0.6122 - AUC: 0.9638 - val_loss: 0.6701 - val_Categorical Accuracy: 0.6980 - val_AUC: 0.9794 - lr: 1.0000e-04\n",
      "Epoch 71/75\n",
      "36/36 [==============================] - 0s 8ms/step - loss: 0.8343 - Categorical Accuracy: 0.6233 - AUC: 0.9637 - val_loss: 0.6704 - val_Categorical Accuracy: 0.6980 - val_AUC: 0.9793 - lr: 1.0000e-04\n",
      "Epoch 72/75\n",
      "36/36 [==============================] - 0s 9ms/step - loss: 0.7859 - Categorical Accuracy: 0.6544 - AUC: 0.9670 - val_loss: 0.6510 - val_Categorical Accuracy: 0.6980 - val_AUC: 0.9801 - lr: 1.0000e-04\n",
      "Epoch 73/75\n",
      "36/36 [==============================] - 0s 8ms/step - loss: 0.8289 - Categorical Accuracy: 0.6389 - AUC: 0.9641 - val_loss: 0.6708 - val_Categorical Accuracy: 0.7020 - val_AUC: 0.9784 - lr: 1.0000e-04\n",
      "Epoch 74/75\n",
      "36/36 [==============================] - 0s 9ms/step - loss: 0.8185 - Categorical Accuracy: 0.6322 - AUC: 0.9642 - val_loss: 0.6493 - val_Categorical Accuracy: 0.7040 - val_AUC: 0.9795 - lr: 1.0000e-04\n",
      "Epoch 75/75\n",
      "36/36 [==============================] - 0s 9ms/step - loss: 0.8001 - Categorical Accuracy: 0.6456 - AUC: 0.9644 - val_loss: 0.6441 - val_Categorical Accuracy: 0.7120 - val_AUC: 0.9795 - lr: 1.0000e-04\n"
     ]
    }
   ]
  },
  {
   "cell_type": "code",
   "metadata": {
    "id": "NbFf4HAaOCgj",
    "colab": {
     "base_uri": "https://localhost:8080/"
    },
    "executionInfo": {
     "status": "ok",
     "timestamp": 1638888018626,
     "user_tz": 300,
     "elapsed": 37934,
     "user": {
      "displayName": "Andrew Ning",
      "photoUrl": "https://lh3.googleusercontent.com/a-/AOh14GgyUiXynCeybWnGTpfHnOSTarAoJjvj-8rK8oxkzQ=s64",
      "userId": "04097743773373129918"
     }
    },
    "outputId": "18ba88af-79f1-4aaf-e94e-abd7ab9bf2c2"
   },
   "source": [
    "newSharedLayers = shared(inputFR)\n",
    "newLayersFR = languagelayers(NUM_LABELS_FR,'FR')(newSharedLayers)\n",
    "\n",
    "modelFRRetrain = tf.keras.Model(\n",
    "    inputs=inputFR,\n",
    "    outputs=newLayersFR,\n",
    "    name='FRModelRetrained'\n",
    ")\n",
    "\n",
    "modelFRRetrain.compile(optimizer = tf.keras.optimizers.Adam(learning_rate=LEARNING_RATE),\n",
    "    loss=tf.keras.losses.CategoricalCrossentropy(),\n",
    "    metrics=[tf.keras.metrics.CategoricalAccuracy(name='Categorical Accuracy'),tf.keras.metrics.AUC(name='AUC')])\n",
    "\n",
    "ext = '-RETRAIN-FR'\n",
    "training_callbackRETRAINFR = callbacks.TensorBoard(log_dir=LOG_DIR + RUN + ext)\n",
    "\n",
    "historyFRRetrain = modelFRRetrain.fit(\n",
    "    x = traindatasetFR,\n",
    "    validation_data = valdatasetFR,\n",
    "    epochs=EPOCHS,\n",
    "    steps_per_epoch=STEPS_PER_EPOCH,\n",
    "    callbacks=[training_callbackRETRAINFR,earlystopping_callback,reduce_lr_callback],\n",
    "    verbose=1\n",
    ")"
   ],
   "execution_count": 147,
   "outputs": [
    {
     "output_type": "stream",
     "name": "stdout",
     "text": [
      "Epoch 1/75\n",
      "36/36 [==============================] - 2s 19ms/step - loss: 3.2685 - Categorical Accuracy: 0.0744 - AUC: 0.5137 - val_loss: 2.6758 - val_Categorical Accuracy: 0.1100 - val_AUC: 0.5777 - lr: 1.0000e-04\n",
      "Epoch 2/75\n",
      "36/36 [==============================] - 0s 8ms/step - loss: 2.8467 - Categorical Accuracy: 0.0844 - AUC: 0.5424 - val_loss: 2.6390 - val_Categorical Accuracy: 0.1880 - val_AUC: 0.6381 - lr: 1.0000e-04\n",
      "Epoch 3/75\n",
      "36/36 [==============================] - 0s 8ms/step - loss: 2.7331 - Categorical Accuracy: 0.0922 - AUC: 0.5744 - val_loss: 2.6194 - val_Categorical Accuracy: 0.2220 - val_AUC: 0.6838 - lr: 1.0000e-04\n",
      "Epoch 4/75\n",
      "36/36 [==============================] - 0s 8ms/step - loss: 2.7017 - Categorical Accuracy: 0.1067 - AUC: 0.5829 - val_loss: 2.6018 - val_Categorical Accuracy: 0.2240 - val_AUC: 0.7060 - lr: 1.0000e-04\n",
      "Epoch 5/75\n",
      "36/36 [==============================] - 1s 8ms/step - loss: 2.6548 - Categorical Accuracy: 0.1200 - AUC: 0.6027 - val_loss: 2.5817 - val_Categorical Accuracy: 0.2500 - val_AUC: 0.7308 - lr: 1.0000e-04\n",
      "Epoch 6/75\n",
      "36/36 [==============================] - 1s 9ms/step - loss: 2.6146 - Categorical Accuracy: 0.1244 - AUC: 0.6287 - val_loss: 2.5511 - val_Categorical Accuracy: 0.2820 - val_AUC: 0.7610 - lr: 1.0000e-04\n",
      "Epoch 7/75\n",
      "36/36 [==============================] - 0s 9ms/step - loss: 2.5644 - Categorical Accuracy: 0.1311 - AUC: 0.6580 - val_loss: 2.5109 - val_Categorical Accuracy: 0.3200 - val_AUC: 0.7709 - lr: 1.0000e-04\n",
      "Epoch 8/75\n",
      "36/36 [==============================] - 0s 9ms/step - loss: 2.5199 - Categorical Accuracy: 0.1633 - AUC: 0.6781 - val_loss: 2.4478 - val_Categorical Accuracy: 0.3340 - val_AUC: 0.8002 - lr: 1.0000e-04\n",
      "Epoch 9/75\n",
      "36/36 [==============================] - 0s 9ms/step - loss: 2.4959 - Categorical Accuracy: 0.1633 - AUC: 0.6905 - val_loss: 2.3850 - val_Categorical Accuracy: 0.3320 - val_AUC: 0.8253 - lr: 1.0000e-04\n",
      "Epoch 10/75\n",
      "36/36 [==============================] - 0s 9ms/step - loss: 2.4414 - Categorical Accuracy: 0.1900 - AUC: 0.7096 - val_loss: 2.3319 - val_Categorical Accuracy: 0.3340 - val_AUC: 0.8373 - lr: 1.0000e-04\n",
      "Epoch 11/75\n",
      "36/36 [==============================] - 0s 9ms/step - loss: 2.3642 - Categorical Accuracy: 0.2200 - AUC: 0.7376 - val_loss: 2.2687 - val_Categorical Accuracy: 0.3520 - val_AUC: 0.8502 - lr: 1.0000e-04\n",
      "Epoch 12/75\n",
      "36/36 [==============================] - 0s 9ms/step - loss: 2.3384 - Categorical Accuracy: 0.2300 - AUC: 0.7460 - val_loss: 2.2017 - val_Categorical Accuracy: 0.3880 - val_AUC: 0.8704 - lr: 1.0000e-04\n",
      "Epoch 13/75\n",
      "36/36 [==============================] - 0s 9ms/step - loss: 2.2740 - Categorical Accuracy: 0.2567 - AUC: 0.7677 - val_loss: 2.1402 - val_Categorical Accuracy: 0.4040 - val_AUC: 0.8772 - lr: 1.0000e-04\n",
      "Epoch 14/75\n",
      "36/36 [==============================] - 0s 9ms/step - loss: 2.1649 - Categorical Accuracy: 0.2711 - AUC: 0.8000 - val_loss: 2.0577 - val_Categorical Accuracy: 0.4300 - val_AUC: 0.8870 - lr: 1.0000e-04\n",
      "Epoch 15/75\n",
      "36/36 [==============================] - 0s 9ms/step - loss: 2.1282 - Categorical Accuracy: 0.2822 - AUC: 0.8104 - val_loss: 1.9757 - val_Categorical Accuracy: 0.4280 - val_AUC: 0.8969 - lr: 1.0000e-04\n",
      "Epoch 16/75\n",
      "36/36 [==============================] - 0s 9ms/step - loss: 2.0624 - Categorical Accuracy: 0.3078 - AUC: 0.8244 - val_loss: 1.8995 - val_Categorical Accuracy: 0.4360 - val_AUC: 0.9083 - lr: 1.0000e-04\n",
      "Epoch 17/75\n",
      "36/36 [==============================] - 0s 9ms/step - loss: 2.0505 - Categorical Accuracy: 0.3122 - AUC: 0.8301 - val_loss: 1.8344 - val_Categorical Accuracy: 0.4640 - val_AUC: 0.9142 - lr: 1.0000e-04\n",
      "Epoch 18/75\n",
      "36/36 [==============================] - 0s 9ms/step - loss: 1.9749 - Categorical Accuracy: 0.3244 - AUC: 0.8466 - val_loss: 1.7740 - val_Categorical Accuracy: 0.4820 - val_AUC: 0.9207 - lr: 1.0000e-04\n",
      "Epoch 19/75\n",
      "36/36 [==============================] - 0s 9ms/step - loss: 1.9311 - Categorical Accuracy: 0.3344 - AUC: 0.8521 - val_loss: 1.7277 - val_Categorical Accuracy: 0.4980 - val_AUC: 0.9242 - lr: 1.0000e-04\n",
      "Epoch 20/75\n",
      "36/36 [==============================] - 0s 9ms/step - loss: 1.8951 - Categorical Accuracy: 0.3633 - AUC: 0.8600 - val_loss: 1.7050 - val_Categorical Accuracy: 0.4980 - val_AUC: 0.9255 - lr: 1.0000e-04\n",
      "Epoch 21/75\n",
      "36/36 [==============================] - 0s 9ms/step - loss: 1.8383 - Categorical Accuracy: 0.3822 - AUC: 0.8677 - val_loss: 1.6508 - val_Categorical Accuracy: 0.5040 - val_AUC: 0.9286 - lr: 1.0000e-04\n",
      "Epoch 22/75\n",
      "36/36 [==============================] - 0s 9ms/step - loss: 1.8136 - Categorical Accuracy: 0.3711 - AUC: 0.8745 - val_loss: 1.6103 - val_Categorical Accuracy: 0.5300 - val_AUC: 0.9330 - lr: 1.0000e-04\n",
      "Epoch 23/75\n",
      "36/36 [==============================] - 0s 9ms/step - loss: 1.7425 - Categorical Accuracy: 0.4022 - AUC: 0.8863 - val_loss: 1.5515 - val_Categorical Accuracy: 0.5860 - val_AUC: 0.9353 - lr: 1.0000e-04\n",
      "Epoch 24/75\n",
      "36/36 [==============================] - 0s 9ms/step - loss: 1.7915 - Categorical Accuracy: 0.3867 - AUC: 0.8769 - val_loss: 1.5190 - val_Categorical Accuracy: 0.5880 - val_AUC: 0.9387 - lr: 1.0000e-04\n",
      "Epoch 25/75\n",
      "36/36 [==============================] - 0s 9ms/step - loss: 1.6356 - Categorical Accuracy: 0.4422 - AUC: 0.9018 - val_loss: 1.4678 - val_Categorical Accuracy: 0.5800 - val_AUC: 0.9422 - lr: 1.0000e-04\n",
      "Epoch 26/75\n",
      "36/36 [==============================] - 0s 9ms/step - loss: 1.5884 - Categorical Accuracy: 0.4444 - AUC: 0.9093 - val_loss: 1.4258 - val_Categorical Accuracy: 0.6060 - val_AUC: 0.9446 - lr: 1.0000e-04\n",
      "Epoch 27/75\n",
      "36/36 [==============================] - 0s 9ms/step - loss: 1.5832 - Categorical Accuracy: 0.4400 - AUC: 0.9088 - val_loss: 1.4018 - val_Categorical Accuracy: 0.5980 - val_AUC: 0.9462 - lr: 1.0000e-04\n",
      "Epoch 28/75\n",
      "36/36 [==============================] - 0s 9ms/step - loss: 1.5948 - Categorical Accuracy: 0.4622 - AUC: 0.9060 - val_loss: 1.3753 - val_Categorical Accuracy: 0.6080 - val_AUC: 0.9493 - lr: 1.0000e-04\n",
      "Epoch 29/75\n",
      "36/36 [==============================] - 0s 9ms/step - loss: 1.5067 - Categorical Accuracy: 0.4722 - AUC: 0.9171 - val_loss: 1.3361 - val_Categorical Accuracy: 0.6160 - val_AUC: 0.9506 - lr: 1.0000e-04\n",
      "Epoch 30/75\n",
      "36/36 [==============================] - 0s 10ms/step - loss: 1.4999 - Categorical Accuracy: 0.5133 - AUC: 0.9174 - val_loss: 1.3257 - val_Categorical Accuracy: 0.6000 - val_AUC: 0.9517 - lr: 1.0000e-04\n",
      "Epoch 31/75\n",
      "36/36 [==============================] - 0s 9ms/step - loss: 1.5115 - Categorical Accuracy: 0.4678 - AUC: 0.9164 - val_loss: 1.2903 - val_Categorical Accuracy: 0.6160 - val_AUC: 0.9543 - lr: 1.0000e-04\n",
      "Epoch 32/75\n",
      "36/36 [==============================] - 0s 9ms/step - loss: 1.4986 - Categorical Accuracy: 0.4811 - AUC: 0.9189 - val_loss: 1.2822 - val_Categorical Accuracy: 0.6280 - val_AUC: 0.9543 - lr: 1.0000e-04\n",
      "Epoch 33/75\n",
      "36/36 [==============================] - 0s 9ms/step - loss: 1.4323 - Categorical Accuracy: 0.4889 - AUC: 0.9267 - val_loss: 1.2575 - val_Categorical Accuracy: 0.6200 - val_AUC: 0.9555 - lr: 1.0000e-04\n",
      "Epoch 34/75\n",
      "36/36 [==============================] - 0s 9ms/step - loss: 1.4416 - Categorical Accuracy: 0.5033 - AUC: 0.9250 - val_loss: 1.2417 - val_Categorical Accuracy: 0.6040 - val_AUC: 0.9564 - lr: 1.0000e-04\n",
      "Epoch 35/75\n",
      "36/36 [==============================] - 0s 9ms/step - loss: 1.3514 - Categorical Accuracy: 0.5278 - AUC: 0.9341 - val_loss: 1.2142 - val_Categorical Accuracy: 0.6200 - val_AUC: 0.9574 - lr: 1.0000e-04\n",
      "Epoch 36/75\n",
      "36/36 [==============================] - 0s 9ms/step - loss: 1.3362 - Categorical Accuracy: 0.5478 - AUC: 0.9349 - val_loss: 1.1924 - val_Categorical Accuracy: 0.6520 - val_AUC: 0.9590 - lr: 1.0000e-04\n",
      "Epoch 37/75\n",
      "36/36 [==============================] - 0s 9ms/step - loss: 1.2773 - Categorical Accuracy: 0.5367 - AUC: 0.9440 - val_loss: 1.1772 - val_Categorical Accuracy: 0.6460 - val_AUC: 0.9595 - lr: 1.0000e-04\n",
      "Epoch 38/75\n",
      "36/36 [==============================] - 0s 9ms/step - loss: 1.2979 - Categorical Accuracy: 0.5389 - AUC: 0.9417 - val_loss: 1.1486 - val_Categorical Accuracy: 0.6420 - val_AUC: 0.9614 - lr: 1.0000e-04\n",
      "Epoch 39/75\n",
      "36/36 [==============================] - 0s 9ms/step - loss: 1.2354 - Categorical Accuracy: 0.5511 - AUC: 0.9467 - val_loss: 1.1425 - val_Categorical Accuracy: 0.6500 - val_AUC: 0.9614 - lr: 1.0000e-04\n",
      "Epoch 40/75\n",
      "36/36 [==============================] - 0s 9ms/step - loss: 1.1915 - Categorical Accuracy: 0.5744 - AUC: 0.9507 - val_loss: 1.1199 - val_Categorical Accuracy: 0.6680 - val_AUC: 0.9616 - lr: 1.0000e-04\n",
      "Epoch 41/75\n",
      "36/36 [==============================] - 0s 9ms/step - loss: 1.2181 - Categorical Accuracy: 0.6044 - AUC: 0.9463 - val_loss: 1.0917 - val_Categorical Accuracy: 0.6540 - val_AUC: 0.9633 - lr: 1.0000e-04\n",
      "Epoch 42/75\n",
      "36/36 [==============================] - 0s 9ms/step - loss: 1.1923 - Categorical Accuracy: 0.5956 - AUC: 0.9503 - val_loss: 1.0924 - val_Categorical Accuracy: 0.6580 - val_AUC: 0.9634 - lr: 1.0000e-04\n",
      "Epoch 43/75\n",
      "36/36 [==============================] - 0s 9ms/step - loss: 1.1805 - Categorical Accuracy: 0.5878 - AUC: 0.9502 - val_loss: 1.0767 - val_Categorical Accuracy: 0.6760 - val_AUC: 0.9643 - lr: 1.0000e-04\n",
      "Epoch 44/75\n",
      "36/36 [==============================] - 0s 9ms/step - loss: 1.0960 - Categorical Accuracy: 0.6233 - AUC: 0.9596 - val_loss: 1.0527 - val_Categorical Accuracy: 0.6780 - val_AUC: 0.9652 - lr: 1.0000e-04\n",
      "Epoch 45/75\n",
      "36/36 [==============================] - 0s 9ms/step - loss: 1.1085 - Categorical Accuracy: 0.6100 - AUC: 0.9565 - val_loss: 1.0477 - val_Categorical Accuracy: 0.6760 - val_AUC: 0.9648 - lr: 1.0000e-04\n",
      "Epoch 46/75\n",
      "36/36 [==============================] - 0s 9ms/step - loss: 1.0764 - Categorical Accuracy: 0.6356 - AUC: 0.9590 - val_loss: 1.0302 - val_Categorical Accuracy: 0.6760 - val_AUC: 0.9658 - lr: 1.0000e-04\n",
      "Epoch 47/75\n",
      "36/36 [==============================] - 0s 9ms/step - loss: 1.1567 - Categorical Accuracy: 0.5956 - AUC: 0.9518 - val_loss: 1.0416 - val_Categorical Accuracy: 0.6800 - val_AUC: 0.9658 - lr: 1.0000e-04\n",
      "Epoch 48/75\n",
      "36/36 [==============================] - 0s 9ms/step - loss: 1.0709 - Categorical Accuracy: 0.6256 - AUC: 0.9595 - val_loss: 1.0201 - val_Categorical Accuracy: 0.6820 - val_AUC: 0.9668 - lr: 1.0000e-04\n",
      "Epoch 49/75\n",
      "36/36 [==============================] - 0s 8ms/step - loss: 1.0401 - Categorical Accuracy: 0.6378 - AUC: 0.9624 - val_loss: 1.0050 - val_Categorical Accuracy: 0.6980 - val_AUC: 0.9667 - lr: 1.0000e-04\n",
      "Epoch 50/75\n",
      "36/36 [==============================] - 0s 9ms/step - loss: 1.0504 - Categorical Accuracy: 0.6367 - AUC: 0.9611 - val_loss: 1.0034 - val_Categorical Accuracy: 0.6780 - val_AUC: 0.9671 - lr: 1.0000e-04\n",
      "Epoch 51/75\n",
      "36/36 [==============================] - 0s 9ms/step - loss: 1.0134 - Categorical Accuracy: 0.6356 - AUC: 0.9637 - val_loss: 0.9973 - val_Categorical Accuracy: 0.6880 - val_AUC: 0.9665 - lr: 1.0000e-04\n",
      "Epoch 52/75\n",
      "36/36 [==============================] - 0s 9ms/step - loss: 1.0339 - Categorical Accuracy: 0.6311 - AUC: 0.9625 - val_loss: 0.9905 - val_Categorical Accuracy: 0.7000 - val_AUC: 0.9674 - lr: 1.0000e-04\n",
      "Epoch 53/75\n",
      "36/36 [==============================] - 0s 9ms/step - loss: 1.0057 - Categorical Accuracy: 0.6367 - AUC: 0.9656 - val_loss: 0.9766 - val_Categorical Accuracy: 0.6860 - val_AUC: 0.9678 - lr: 1.0000e-04\n",
      "Epoch 54/75\n",
      "36/36 [==============================] - 0s 9ms/step - loss: 0.9383 - Categorical Accuracy: 0.6733 - AUC: 0.9701 - val_loss: 0.9606 - val_Categorical Accuracy: 0.7020 - val_AUC: 0.9683 - lr: 1.0000e-04\n",
      "Epoch 55/75\n",
      "36/36 [==============================] - 0s 9ms/step - loss: 0.9593 - Categorical Accuracy: 0.6867 - AUC: 0.9672 - val_loss: 0.9615 - val_Categorical Accuracy: 0.6880 - val_AUC: 0.9683 - lr: 1.0000e-04\n",
      "Epoch 56/75\n",
      "36/36 [==============================] - 0s 9ms/step - loss: 0.9288 - Categorical Accuracy: 0.6789 - AUC: 0.9692 - val_loss: 0.9636 - val_Categorical Accuracy: 0.6940 - val_AUC: 0.9683 - lr: 1.0000e-04\n",
      "Epoch 57/75\n",
      "36/36 [==============================] - 0s 8ms/step - loss: 0.8561 - Categorical Accuracy: 0.6967 - AUC: 0.9758 - val_loss: 0.9423 - val_Categorical Accuracy: 0.7000 - val_AUC: 0.9693 - lr: 1.0000e-04\n",
      "Epoch 58/75\n",
      "36/36 [==============================] - 0s 9ms/step - loss: 0.9093 - Categorical Accuracy: 0.6700 - AUC: 0.9716 - val_loss: 0.9350 - val_Categorical Accuracy: 0.6980 - val_AUC: 0.9689 - lr: 1.0000e-04\n",
      "Epoch 59/75\n",
      "36/36 [==============================] - 0s 9ms/step - loss: 0.8592 - Categorical Accuracy: 0.7022 - AUC: 0.9739 - val_loss: 0.9357 - val_Categorical Accuracy: 0.6940 - val_AUC: 0.9689 - lr: 1.0000e-04\n",
      "Epoch 60/75\n",
      "36/36 [==============================] - 0s 9ms/step - loss: 0.8475 - Categorical Accuracy: 0.6900 - AUC: 0.9757 - val_loss: 0.9298 - val_Categorical Accuracy: 0.6960 - val_AUC: 0.9687 - lr: 1.0000e-04\n",
      "Epoch 61/75\n",
      "36/36 [==============================] - 0s 9ms/step - loss: 0.8252 - Categorical Accuracy: 0.7000 - AUC: 0.9766 - val_loss: 0.9138 - val_Categorical Accuracy: 0.7000 - val_AUC: 0.9698 - lr: 1.0000e-04\n",
      "Epoch 62/75\n",
      "36/36 [==============================] - 0s 9ms/step - loss: 0.8314 - Categorical Accuracy: 0.7078 - AUC: 0.9765 - val_loss: 0.9134 - val_Categorical Accuracy: 0.7000 - val_AUC: 0.9691 - lr: 1.0000e-04\n",
      "Epoch 63/75\n",
      "36/36 [==============================] - 0s 9ms/step - loss: 0.8311 - Categorical Accuracy: 0.6944 - AUC: 0.9740 - val_loss: 0.9101 - val_Categorical Accuracy: 0.6980 - val_AUC: 0.9703 - lr: 1.0000e-04\n",
      "Epoch 64/75\n",
      "36/36 [==============================] - 0s 9ms/step - loss: 0.8250 - Categorical Accuracy: 0.6844 - AUC: 0.9761 - val_loss: 0.9046 - val_Categorical Accuracy: 0.7060 - val_AUC: 0.9708 - lr: 1.0000e-04\n",
      "Epoch 65/75\n",
      "36/36 [==============================] - 0s 9ms/step - loss: 0.7706 - Categorical Accuracy: 0.7233 - AUC: 0.9799 - val_loss: 0.8815 - val_Categorical Accuracy: 0.7100 - val_AUC: 0.9716 - lr: 1.0000e-04\n",
      "Epoch 66/75\n",
      "36/36 [==============================] - 0s 9ms/step - loss: 0.7888 - Categorical Accuracy: 0.7178 - AUC: 0.9781 - val_loss: 0.8837 - val_Categorical Accuracy: 0.7080 - val_AUC: 0.9720 - lr: 1.0000e-04\n",
      "Epoch 67/75\n",
      "36/36 [==============================] - 0s 9ms/step - loss: 0.7963 - Categorical Accuracy: 0.7133 - AUC: 0.9776 - val_loss: 0.8860 - val_Categorical Accuracy: 0.7060 - val_AUC: 0.9719 - lr: 1.0000e-04\n",
      "Epoch 68/75\n",
      "28/36 [======================>.......] - ETA: 0s - loss: 0.7682 - Categorical Accuracy: 0.7343 - AUC: 0.9795\n",
      "Epoch 00068: ReduceLROnPlateau reducing learning rate to 1.9999999494757503e-05.\n",
      "36/36 [==============================] - 0s 8ms/step - loss: 0.7586 - Categorical Accuracy: 0.7356 - AUC: 0.9796 - val_loss: 0.8869 - val_Categorical Accuracy: 0.7180 - val_AUC: 0.9721 - lr: 1.0000e-04\n",
      "Epoch 69/75\n",
      "36/36 [==============================] - 0s 9ms/step - loss: 0.7530 - Categorical Accuracy: 0.7278 - AUC: 0.9810 - val_loss: 0.8849 - val_Categorical Accuracy: 0.7180 - val_AUC: 0.9719 - lr: 2.0000e-05\n",
      "Epoch 70/75\n",
      "36/36 [==============================] - 0s 8ms/step - loss: 0.7325 - Categorical Accuracy: 0.7522 - AUC: 0.9818 - val_loss: 0.8808 - val_Categorical Accuracy: 0.7200 - val_AUC: 0.9722 - lr: 2.0000e-05\n",
      "Epoch 71/75\n",
      "36/36 [==============================] - 0s 9ms/step - loss: 0.7195 - Categorical Accuracy: 0.7556 - AUC: 0.9828 - val_loss: 0.8762 - val_Categorical Accuracy: 0.7160 - val_AUC: 0.9723 - lr: 2.0000e-05\n",
      "Epoch 72/75\n",
      "36/36 [==============================] - 0s 9ms/step - loss: 0.7195 - Categorical Accuracy: 0.7578 - AUC: 0.9822 - val_loss: 0.8739 - val_Categorical Accuracy: 0.7160 - val_AUC: 0.9723 - lr: 2.0000e-05\n",
      "Epoch 73/75\n",
      "36/36 [==============================] - 0s 9ms/step - loss: 0.6833 - Categorical Accuracy: 0.7644 - AUC: 0.9844 - val_loss: 0.8715 - val_Categorical Accuracy: 0.7100 - val_AUC: 0.9725 - lr: 2.0000e-05\n",
      "Epoch 74/75\n",
      "36/36 [==============================] - 0s 9ms/step - loss: 0.6855 - Categorical Accuracy: 0.7667 - AUC: 0.9849 - val_loss: 0.8683 - val_Categorical Accuracy: 0.7180 - val_AUC: 0.9721 - lr: 2.0000e-05\n",
      "Epoch 75/75\n",
      "36/36 [==============================] - 0s 9ms/step - loss: 0.7251 - Categorical Accuracy: 0.7433 - AUC: 0.9810 - val_loss: 0.8713 - val_Categorical Accuracy: 0.7220 - val_AUC: 0.9723 - lr: 2.0000e-05\n"
     ]
    }
   ]
  },
  {
   "cell_type": "code",
   "metadata": {
    "colab": {
     "base_uri": "https://localhost:8080/"
    },
    "id": "2Uu4mWC5JBhp",
    "executionInfo": {
     "status": "ok",
     "timestamp": 1638888056006,
     "user_tz": 300,
     "elapsed": 37389,
     "user": {
      "displayName": "Andrew Ning",
      "photoUrl": "https://lh3.googleusercontent.com/a-/AOh14GgyUiXynCeybWnGTpfHnOSTarAoJjvj-8rK8oxkzQ=s64",
      "userId": "04097743773373129918"
     }
    },
    "outputId": "9d11062c-7e3e-4e15-df1b-de27dedaaea1"
   },
   "source": [
    "newSharedLayers = shared(inputDE)\n",
    "newLayersDE = languagelayers(NUM_LABELS_DE,'DE')(newSharedLayers)\n",
    "\n",
    "modelDERetrain = tf.keras.Model(\n",
    "    inputs=inputDE,\n",
    "    outputs=newLayersDE,\n",
    "    name='DEModelRetrained'\n",
    ")\n",
    "\n",
    "modelDERetrain.compile(optimizer = tf.keras.optimizers.Adam(learning_rate=LEARNING_RATE),\n",
    "    loss=tf.keras.losses.CategoricalCrossentropy(),\n",
    "    metrics=[tf.keras.metrics.CategoricalAccuracy(name='Categorical Accuracy'),tf.keras.metrics.AUC(name='AUC')])\n",
    "\n",
    "ext = '-RETRAIN-DE'\n",
    "training_callbackRETRAINDE = callbacks.TensorBoard(log_dir=LOG_DIR + RUN + ext)\n",
    "\n",
    "historyDERetrain = modelDERetrain.fit(\n",
    "    x = traindatasetDE,\n",
    "    validation_data = valdatasetDE,\n",
    "    epochs=EPOCHS,\n",
    "    steps_per_epoch=STEPS_PER_EPOCH,\n",
    "    callbacks=[training_callbackRETRAINDE,earlystopping_callback,reduce_lr_callback],\n",
    "    verbose=1\n",
    ")"
   ],
   "execution_count": 148,
   "outputs": [
    {
     "output_type": "stream",
     "name": "stdout",
     "text": [
      "Epoch 1/75\n",
      "36/36 [==============================] - 2s 19ms/step - loss: 3.0967 - Categorical Accuracy: 0.0700 - AUC: 0.5060 - val_loss: 2.6546 - val_Categorical Accuracy: 0.1260 - val_AUC: 0.6373 - lr: 1.0000e-04\n",
      "Epoch 2/75\n",
      "36/36 [==============================] - 0s 8ms/step - loss: 2.8045 - Categorical Accuracy: 0.0956 - AUC: 0.5462 - val_loss: 2.6135 - val_Categorical Accuracy: 0.2100 - val_AUC: 0.7107 - lr: 1.0000e-04\n",
      "Epoch 3/75\n",
      "36/36 [==============================] - 0s 8ms/step - loss: 2.6877 - Categorical Accuracy: 0.0989 - AUC: 0.5897 - val_loss: 2.5619 - val_Categorical Accuracy: 0.2780 - val_AUC: 0.7683 - lr: 1.0000e-04\n",
      "Epoch 4/75\n",
      "36/36 [==============================] - 0s 8ms/step - loss: 2.6104 - Categorical Accuracy: 0.1378 - AUC: 0.6242 - val_loss: 2.5180 - val_Categorical Accuracy: 0.3000 - val_AUC: 0.7899 - lr: 1.0000e-04\n",
      "Epoch 5/75\n",
      "36/36 [==============================] - 0s 8ms/step - loss: 2.5646 - Categorical Accuracy: 0.1433 - AUC: 0.6556 - val_loss: 2.4533 - val_Categorical Accuracy: 0.3280 - val_AUC: 0.8103 - lr: 1.0000e-04\n",
      "Epoch 6/75\n",
      "36/36 [==============================] - 0s 8ms/step - loss: 2.4922 - Categorical Accuracy: 0.1589 - AUC: 0.6908 - val_loss: 2.3844 - val_Categorical Accuracy: 0.3340 - val_AUC: 0.8206 - lr: 1.0000e-04\n",
      "Epoch 7/75\n",
      "36/36 [==============================] - 0s 9ms/step - loss: 2.4423 - Categorical Accuracy: 0.1722 - AUC: 0.7098 - val_loss: 2.3172 - val_Categorical Accuracy: 0.3480 - val_AUC: 0.8454 - lr: 1.0000e-04\n",
      "Epoch 8/75\n",
      "36/36 [==============================] - 0s 9ms/step - loss: 2.3990 - Categorical Accuracy: 0.2000 - AUC: 0.7246 - val_loss: 2.2702 - val_Categorical Accuracy: 0.3520 - val_AUC: 0.8560 - lr: 1.0000e-04\n",
      "Epoch 9/75\n",
      "36/36 [==============================] - 0s 9ms/step - loss: 2.3205 - Categorical Accuracy: 0.2200 - AUC: 0.7559 - val_loss: 2.1993 - val_Categorical Accuracy: 0.3540 - val_AUC: 0.8631 - lr: 1.0000e-04\n",
      "Epoch 10/75\n",
      "36/36 [==============================] - 0s 9ms/step - loss: 2.2671 - Categorical Accuracy: 0.2389 - AUC: 0.7696 - val_loss: 2.1235 - val_Categorical Accuracy: 0.3680 - val_AUC: 0.8730 - lr: 1.0000e-04\n",
      "Epoch 11/75\n",
      "36/36 [==============================] - 0s 8ms/step - loss: 2.1438 - Categorical Accuracy: 0.3011 - AUC: 0.8033 - val_loss: 2.0530 - val_Categorical Accuracy: 0.3920 - val_AUC: 0.8847 - lr: 1.0000e-04\n",
      "Epoch 12/75\n",
      "36/36 [==============================] - 0s 9ms/step - loss: 2.1499 - Categorical Accuracy: 0.2556 - AUC: 0.8043 - val_loss: 1.9717 - val_Categorical Accuracy: 0.3960 - val_AUC: 0.8948 - lr: 1.0000e-04\n",
      "Epoch 13/75\n",
      "36/36 [==============================] - 0s 9ms/step - loss: 2.0431 - Categorical Accuracy: 0.2956 - AUC: 0.8284 - val_loss: 1.9055 - val_Categorical Accuracy: 0.4300 - val_AUC: 0.9019 - lr: 1.0000e-04\n",
      "Epoch 14/75\n",
      "36/36 [==============================] - 0s 9ms/step - loss: 2.0198 - Categorical Accuracy: 0.3367 - AUC: 0.8292 - val_loss: 1.8589 - val_Categorical Accuracy: 0.4440 - val_AUC: 0.9055 - lr: 1.0000e-04\n",
      "Epoch 15/75\n",
      "36/36 [==============================] - 0s 9ms/step - loss: 1.9463 - Categorical Accuracy: 0.3411 - AUC: 0.8498 - val_loss: 1.7994 - val_Categorical Accuracy: 0.4360 - val_AUC: 0.9101 - lr: 1.0000e-04\n",
      "Epoch 16/75\n",
      "36/36 [==============================] - 0s 8ms/step - loss: 1.9112 - Categorical Accuracy: 0.3511 - AUC: 0.8561 - val_loss: 1.7473 - val_Categorical Accuracy: 0.4580 - val_AUC: 0.9166 - lr: 1.0000e-04\n",
      "Epoch 17/75\n",
      "36/36 [==============================] - 0s 9ms/step - loss: 1.8181 - Categorical Accuracy: 0.3711 - AUC: 0.8734 - val_loss: 1.7052 - val_Categorical Accuracy: 0.4680 - val_AUC: 0.9168 - lr: 1.0000e-04\n",
      "Epoch 18/75\n",
      "36/36 [==============================] - 0s 9ms/step - loss: 1.8005 - Categorical Accuracy: 0.3678 - AUC: 0.8767 - val_loss: 1.6719 - val_Categorical Accuracy: 0.4620 - val_AUC: 0.9201 - lr: 1.0000e-04\n",
      "Epoch 19/75\n",
      "36/36 [==============================] - 0s 9ms/step - loss: 1.7790 - Categorical Accuracy: 0.3822 - AUC: 0.8762 - val_loss: 1.6401 - val_Categorical Accuracy: 0.4620 - val_AUC: 0.9221 - lr: 1.0000e-04\n",
      "Epoch 20/75\n",
      "36/36 [==============================] - 0s 9ms/step - loss: 1.6962 - Categorical Accuracy: 0.4144 - AUC: 0.8922 - val_loss: 1.5959 - val_Categorical Accuracy: 0.4840 - val_AUC: 0.9254 - lr: 1.0000e-04\n",
      "Epoch 21/75\n",
      "36/36 [==============================] - 0s 9ms/step - loss: 1.7272 - Categorical Accuracy: 0.4078 - AUC: 0.8881 - val_loss: 1.5704 - val_Categorical Accuracy: 0.5060 - val_AUC: 0.9290 - lr: 1.0000e-04\n",
      "Epoch 22/75\n",
      "36/36 [==============================] - 0s 10ms/step - loss: 1.6382 - Categorical Accuracy: 0.4333 - AUC: 0.9002 - val_loss: 1.5374 - val_Categorical Accuracy: 0.5120 - val_AUC: 0.9307 - lr: 1.0000e-04\n",
      "Epoch 23/75\n",
      "36/36 [==============================] - 0s 9ms/step - loss: 1.6035 - Categorical Accuracy: 0.4378 - AUC: 0.9062 - val_loss: 1.5087 - val_Categorical Accuracy: 0.5120 - val_AUC: 0.9327 - lr: 1.0000e-04\n",
      "Epoch 24/75\n",
      "36/36 [==============================] - 0s 9ms/step - loss: 1.5481 - Categorical Accuracy: 0.4700 - AUC: 0.9116 - val_loss: 1.4777 - val_Categorical Accuracy: 0.5020 - val_AUC: 0.9340 - lr: 1.0000e-04\n",
      "Epoch 25/75\n",
      "36/36 [==============================] - 0s 9ms/step - loss: 1.5900 - Categorical Accuracy: 0.4400 - AUC: 0.9061 - val_loss: 1.4758 - val_Categorical Accuracy: 0.5120 - val_AUC: 0.9345 - lr: 1.0000e-04\n",
      "Epoch 26/75\n",
      "36/36 [==============================] - 0s 9ms/step - loss: 1.5347 - Categorical Accuracy: 0.4800 - AUC: 0.9146 - val_loss: 1.4483 - val_Categorical Accuracy: 0.5200 - val_AUC: 0.9376 - lr: 1.0000e-04\n",
      "Epoch 27/75\n",
      "36/36 [==============================] - 0s 9ms/step - loss: 1.4619 - Categorical Accuracy: 0.4978 - AUC: 0.9232 - val_loss: 1.4063 - val_Categorical Accuracy: 0.5260 - val_AUC: 0.9393 - lr: 1.0000e-04\n",
      "Epoch 28/75\n",
      "36/36 [==============================] - 0s 9ms/step - loss: 1.3890 - Categorical Accuracy: 0.5233 - AUC: 0.9308 - val_loss: 1.3913 - val_Categorical Accuracy: 0.5300 - val_AUC: 0.9400 - lr: 1.0000e-04\n",
      "Epoch 29/75\n",
      "36/36 [==============================] - 0s 9ms/step - loss: 1.3911 - Categorical Accuracy: 0.5156 - AUC: 0.9297 - val_loss: 1.3543 - val_Categorical Accuracy: 0.5560 - val_AUC: 0.9439 - lr: 1.0000e-04\n",
      "Epoch 30/75\n",
      "36/36 [==============================] - 0s 9ms/step - loss: 1.3230 - Categorical Accuracy: 0.5278 - AUC: 0.9390 - val_loss: 1.3341 - val_Categorical Accuracy: 0.5460 - val_AUC: 0.9454 - lr: 1.0000e-04\n",
      "Epoch 31/75\n",
      "36/36 [==============================] - 0s 8ms/step - loss: 1.3308 - Categorical Accuracy: 0.5289 - AUC: 0.9369 - val_loss: 1.3117 - val_Categorical Accuracy: 0.5560 - val_AUC: 0.9458 - lr: 1.0000e-04\n",
      "Epoch 32/75\n",
      "36/36 [==============================] - 0s 9ms/step - loss: 1.2633 - Categorical Accuracy: 0.5711 - AUC: 0.9426 - val_loss: 1.2817 - val_Categorical Accuracy: 0.5640 - val_AUC: 0.9474 - lr: 1.0000e-04\n",
      "Epoch 33/75\n",
      "36/36 [==============================] - 0s 9ms/step - loss: 1.2237 - Categorical Accuracy: 0.5922 - AUC: 0.9459 - val_loss: 1.2555 - val_Categorical Accuracy: 0.5700 - val_AUC: 0.9501 - lr: 1.0000e-04\n",
      "Epoch 34/75\n",
      "36/36 [==============================] - 0s 9ms/step - loss: 1.2259 - Categorical Accuracy: 0.5844 - AUC: 0.9461 - val_loss: 1.2610 - val_Categorical Accuracy: 0.5600 - val_AUC: 0.9481 - lr: 1.0000e-04\n",
      "Epoch 35/75\n",
      "36/36 [==============================] - 0s 9ms/step - loss: 1.2659 - Categorical Accuracy: 0.5489 - AUC: 0.9428 - val_loss: 1.2505 - val_Categorical Accuracy: 0.5640 - val_AUC: 0.9513 - lr: 1.0000e-04\n",
      "Epoch 36/75\n",
      "36/36 [==============================] - 0s 9ms/step - loss: 1.1661 - Categorical Accuracy: 0.5778 - AUC: 0.9522 - val_loss: 1.2312 - val_Categorical Accuracy: 0.5700 - val_AUC: 0.9501 - lr: 1.0000e-04\n",
      "Epoch 37/75\n",
      "36/36 [==============================] - 0s 8ms/step - loss: 1.1040 - Categorical Accuracy: 0.6356 - AUC: 0.9575 - val_loss: 1.2052 - val_Categorical Accuracy: 0.5860 - val_AUC: 0.9524 - lr: 1.0000e-04\n",
      "Epoch 38/75\n",
      "36/36 [==============================] - 0s 9ms/step - loss: 1.1207 - Categorical Accuracy: 0.5989 - AUC: 0.9562 - val_loss: 1.1898 - val_Categorical Accuracy: 0.5860 - val_AUC: 0.9535 - lr: 1.0000e-04\n",
      "Epoch 39/75\n",
      "36/36 [==============================] - 0s 9ms/step - loss: 1.1385 - Categorical Accuracy: 0.6078 - AUC: 0.9539 - val_loss: 1.1722 - val_Categorical Accuracy: 0.5960 - val_AUC: 0.9560 - lr: 1.0000e-04\n",
      "Epoch 40/75\n",
      "36/36 [==============================] - 0s 9ms/step - loss: 1.1031 - Categorical Accuracy: 0.6078 - AUC: 0.9559 - val_loss: 1.1605 - val_Categorical Accuracy: 0.6060 - val_AUC: 0.9559 - lr: 1.0000e-04\n",
      "Epoch 41/75\n",
      "36/36 [==============================] - 0s 9ms/step - loss: 1.0792 - Categorical Accuracy: 0.6311 - AUC: 0.9593 - val_loss: 1.1489 - val_Categorical Accuracy: 0.5940 - val_AUC: 0.9562 - lr: 1.0000e-04\n",
      "Epoch 42/75\n",
      "36/36 [==============================] - 0s 9ms/step - loss: 1.0475 - Categorical Accuracy: 0.6344 - AUC: 0.9623 - val_loss: 1.1433 - val_Categorical Accuracy: 0.6000 - val_AUC: 0.9565 - lr: 1.0000e-04\n",
      "Epoch 43/75\n",
      "36/36 [==============================] - 0s 9ms/step - loss: 1.0024 - Categorical Accuracy: 0.6489 - AUC: 0.9641 - val_loss: 1.1214 - val_Categorical Accuracy: 0.6060 - val_AUC: 0.9583 - lr: 1.0000e-04\n",
      "Epoch 44/75\n",
      "36/36 [==============================] - 0s 9ms/step - loss: 1.0366 - Categorical Accuracy: 0.6411 - AUC: 0.9617 - val_loss: 1.1223 - val_Categorical Accuracy: 0.6080 - val_AUC: 0.9579 - lr: 1.0000e-04\n",
      "Epoch 45/75\n",
      "36/36 [==============================] - 0s 9ms/step - loss: 0.9923 - Categorical Accuracy: 0.6578 - AUC: 0.9654 - val_loss: 1.1083 - val_Categorical Accuracy: 0.6100 - val_AUC: 0.9584 - lr: 1.0000e-04\n",
      "Epoch 46/75\n",
      "36/36 [==============================] - 0s 9ms/step - loss: 0.9677 - Categorical Accuracy: 0.6556 - AUC: 0.9664 - val_loss: 1.1010 - val_Categorical Accuracy: 0.6060 - val_AUC: 0.9587 - lr: 1.0000e-04\n",
      "Epoch 47/75\n",
      "36/36 [==============================] - 0s 8ms/step - loss: 0.9934 - Categorical Accuracy: 0.6611 - AUC: 0.9649 - val_loss: 1.0856 - val_Categorical Accuracy: 0.6200 - val_AUC: 0.9598 - lr: 1.0000e-04\n",
      "Epoch 48/75\n",
      "36/36 [==============================] - 0s 9ms/step - loss: 0.9212 - Categorical Accuracy: 0.6811 - AUC: 0.9706 - val_loss: 1.0668 - val_Categorical Accuracy: 0.6220 - val_AUC: 0.9616 - lr: 1.0000e-04\n",
      "Epoch 49/75\n",
      "36/36 [==============================] - 0s 9ms/step - loss: 0.8913 - Categorical Accuracy: 0.6667 - AUC: 0.9725 - val_loss: 1.0614 - val_Categorical Accuracy: 0.6240 - val_AUC: 0.9616 - lr: 1.0000e-04\n",
      "Epoch 50/75\n",
      "36/36 [==============================] - 0s 9ms/step - loss: 0.9521 - Categorical Accuracy: 0.6844 - AUC: 0.9678 - val_loss: 1.0598 - val_Categorical Accuracy: 0.6260 - val_AUC: 0.9615 - lr: 1.0000e-04\n",
      "Epoch 51/75\n",
      "36/36 [==============================] - 0s 9ms/step - loss: 0.8967 - Categorical Accuracy: 0.6956 - AUC: 0.9712 - val_loss: 1.0436 - val_Categorical Accuracy: 0.6320 - val_AUC: 0.9624 - lr: 1.0000e-04\n",
      "Epoch 52/75\n",
      "36/36 [==============================] - 0s 9ms/step - loss: 0.8696 - Categorical Accuracy: 0.7056 - AUC: 0.9723 - val_loss: 1.0267 - val_Categorical Accuracy: 0.6260 - val_AUC: 0.9636 - lr: 1.0000e-04\n",
      "Epoch 53/75\n",
      "36/36 [==============================] - 0s 9ms/step - loss: 0.8305 - Categorical Accuracy: 0.7111 - AUC: 0.9760 - val_loss: 1.0340 - val_Categorical Accuracy: 0.6240 - val_AUC: 0.9632 - lr: 1.0000e-04\n",
      "Epoch 54/75\n",
      "36/36 [==============================] - 0s 9ms/step - loss: 0.8461 - Categorical Accuracy: 0.7067 - AUC: 0.9743 - val_loss: 1.0085 - val_Categorical Accuracy: 0.6300 - val_AUC: 0.9649 - lr: 1.0000e-04\n",
      "Epoch 55/75\n",
      "36/36 [==============================] - 0s 9ms/step - loss: 0.7497 - Categorical Accuracy: 0.7433 - AUC: 0.9805 - val_loss: 0.9912 - val_Categorical Accuracy: 0.6360 - val_AUC: 0.9655 - lr: 1.0000e-04\n",
      "Epoch 56/75\n",
      "36/36 [==============================] - 0s 9ms/step - loss: 0.8224 - Categorical Accuracy: 0.7067 - AUC: 0.9757 - val_loss: 0.9874 - val_Categorical Accuracy: 0.6480 - val_AUC: 0.9661 - lr: 1.0000e-04\n",
      "Epoch 57/75\n",
      "36/36 [==============================] - 0s 9ms/step - loss: 0.8134 - Categorical Accuracy: 0.7344 - AUC: 0.9772 - val_loss: 1.0036 - val_Categorical Accuracy: 0.6400 - val_AUC: 0.9649 - lr: 1.0000e-04\n",
      "Epoch 58/75\n",
      "36/36 [==============================] - 0s 9ms/step - loss: 0.7865 - Categorical Accuracy: 0.7333 - AUC: 0.9781 - val_loss: 0.9881 - val_Categorical Accuracy: 0.6340 - val_AUC: 0.9655 - lr: 1.0000e-04\n",
      "Epoch 59/75\n",
      "36/36 [==============================] - 0s 9ms/step - loss: 0.7567 - Categorical Accuracy: 0.7422 - AUC: 0.9800 - val_loss: 0.9800 - val_Categorical Accuracy: 0.6480 - val_AUC: 0.9661 - lr: 1.0000e-04\n",
      "Epoch 60/75\n",
      "36/36 [==============================] - 0s 9ms/step - loss: 0.7444 - Categorical Accuracy: 0.7400 - AUC: 0.9811 - val_loss: 0.9843 - val_Categorical Accuracy: 0.6520 - val_AUC: 0.9651 - lr: 1.0000e-04\n",
      "Epoch 61/75\n",
      "36/36 [==============================] - 0s 9ms/step - loss: 0.7381 - Categorical Accuracy: 0.7600 - AUC: 0.9809 - val_loss: 0.9667 - val_Categorical Accuracy: 0.6540 - val_AUC: 0.9669 - lr: 1.0000e-04\n",
      "Epoch 62/75\n",
      "36/36 [==============================] - 0s 9ms/step - loss: 0.7431 - Categorical Accuracy: 0.7367 - AUC: 0.9811 - val_loss: 0.9592 - val_Categorical Accuracy: 0.6460 - val_AUC: 0.9667 - lr: 1.0000e-04\n",
      "Epoch 63/75\n",
      "36/36 [==============================] - 0s 9ms/step - loss: 0.7405 - Categorical Accuracy: 0.7389 - AUC: 0.9809 - val_loss: 0.9452 - val_Categorical Accuracy: 0.6640 - val_AUC: 0.9677 - lr: 1.0000e-04\n",
      "Epoch 64/75\n",
      "36/36 [==============================] - 0s 9ms/step - loss: 0.6808 - Categorical Accuracy: 0.7622 - AUC: 0.9832 - val_loss: 0.9506 - val_Categorical Accuracy: 0.6540 - val_AUC: 0.9677 - lr: 1.0000e-04\n",
      "Epoch 65/75\n",
      "36/36 [==============================] - 0s 9ms/step - loss: 0.6744 - Categorical Accuracy: 0.7744 - AUC: 0.9842 - val_loss: 0.9470 - val_Categorical Accuracy: 0.6600 - val_AUC: 0.9673 - lr: 1.0000e-04\n",
      "Epoch 66/75\n",
      "34/36 [===========================>..] - ETA: 0s - loss: 0.7184 - Categorical Accuracy: 0.7435 - AUC: 0.9818\n",
      "Epoch 00066: ReduceLROnPlateau reducing learning rate to 1.9999999494757503e-05.\n",
      "36/36 [==============================] - 0s 9ms/step - loss: 0.7074 - Categorical Accuracy: 0.7500 - AUC: 0.9825 - val_loss: 0.9489 - val_Categorical Accuracy: 0.6480 - val_AUC: 0.9670 - lr: 1.0000e-04\n",
      "Epoch 67/75\n",
      "36/36 [==============================] - 0s 9ms/step - loss: 0.6293 - Categorical Accuracy: 0.7833 - AUC: 0.9866 - val_loss: 0.9397 - val_Categorical Accuracy: 0.6480 - val_AUC: 0.9678 - lr: 2.0000e-05\n",
      "Epoch 68/75\n",
      "36/36 [==============================] - 0s 9ms/step - loss: 0.6348 - Categorical Accuracy: 0.7733 - AUC: 0.9857 - val_loss: 0.9339 - val_Categorical Accuracy: 0.6560 - val_AUC: 0.9682 - lr: 2.0000e-05\n",
      "Epoch 69/75\n",
      "36/36 [==============================] - 0s 9ms/step - loss: 0.6483 - Categorical Accuracy: 0.7878 - AUC: 0.9858 - val_loss: 0.9324 - val_Categorical Accuracy: 0.6580 - val_AUC: 0.9685 - lr: 2.0000e-05\n",
      "Epoch 70/75\n",
      "36/36 [==============================] - 0s 8ms/step - loss: 0.6614 - Categorical Accuracy: 0.7656 - AUC: 0.9846 - val_loss: 0.9312 - val_Categorical Accuracy: 0.6580 - val_AUC: 0.9684 - lr: 2.0000e-05\n",
      "Epoch 71/75\n",
      "36/36 [==============================] - 0s 9ms/step - loss: 0.6118 - Categorical Accuracy: 0.7956 - AUC: 0.9878 - val_loss: 0.9301 - val_Categorical Accuracy: 0.6520 - val_AUC: 0.9685 - lr: 2.0000e-05\n",
      "Epoch 72/75\n",
      "36/36 [==============================] - 0s 9ms/step - loss: 0.6613 - Categorical Accuracy: 0.7733 - AUC: 0.9851 - val_loss: 0.9332 - val_Categorical Accuracy: 0.6520 - val_AUC: 0.9681 - lr: 2.0000e-05\n",
      "Epoch 73/75\n",
      "36/36 [==============================] - 0s 9ms/step - loss: 0.5986 - Categorical Accuracy: 0.7900 - AUC: 0.9884 - val_loss: 0.9372 - val_Categorical Accuracy: 0.6520 - val_AUC: 0.9672 - lr: 2.0000e-05\n",
      "Epoch 74/75\n",
      "34/36 [===========================>..] - ETA: 0s - loss: 0.6543 - Categorical Accuracy: 0.7706 - AUC: 0.9853\n",
      "Epoch 00074: ReduceLROnPlateau reducing learning rate to 1e-05.\n",
      "36/36 [==============================] - 0s 9ms/step - loss: 0.6512 - Categorical Accuracy: 0.7700 - AUC: 0.9855 - val_loss: 0.9352 - val_Categorical Accuracy: 0.6520 - val_AUC: 0.9675 - lr: 2.0000e-05\n",
      "Epoch 75/75\n",
      "36/36 [==============================] - 0s 9ms/step - loss: 0.6096 - Categorical Accuracy: 0.7933 - AUC: 0.9860 - val_loss: 0.9333 - val_Categorical Accuracy: 0.6540 - val_AUC: 0.9675 - lr: 1.0000e-05\n"
     ]
    }
   ]
  },
  {
   "cell_type": "code",
   "metadata": {
    "colab": {
     "base_uri": "https://localhost:8080/"
    },
    "id": "72RnIFwpTGtU",
    "executionInfo": {
     "status": "ok",
     "timestamp": 1638888087549,
     "user_tz": 300,
     "elapsed": 31553,
     "user": {
      "displayName": "Andrew Ning",
      "photoUrl": "https://lh3.googleusercontent.com/a-/AOh14GgyUiXynCeybWnGTpfHnOSTarAoJjvj-8rK8oxkzQ=s64",
      "userId": "04097743773373129918"
     }
    },
    "outputId": "461b3ec3-cfc2-4a07-f7c9-3d7349a816ad"
   },
   "source": [
    "newSharedLayers = shared(inputCA)\n",
    "newLayersCA = languagelayers(NUM_LABELS_CA,'CA')(newSharedLayers)\n",
    "\n",
    "modelCARetrain = tf.keras.Model(\n",
    "    inputs=inputCA,\n",
    "    outputs=newLayersCA,\n",
    "    name='CAModelRetrained'\n",
    ")\n",
    "\n",
    "modelCARetrain.compile(optimizer = tf.keras.optimizers.Adam(learning_rate=LEARNING_RATE),\n",
    "    loss=tf.keras.losses.CategoricalCrossentropy(),\n",
    "    metrics=[tf.keras.metrics.CategoricalAccuracy(name='Categorical Accuracy'),tf.keras.metrics.AUC(name='AUC')])\n",
    "\n",
    "ext = '-RETRAIN-CA'\n",
    "training_callbackRETRAINCA = callbacks.TensorBoard(log_dir=LOG_DIR + RUN + ext)\n",
    "\n",
    "historyCARetrain = modelCARetrain.fit(\n",
    "    x = traindatasetCA,\n",
    "    validation_data = valdatasetCA,\n",
    "    epochs=EPOCHS,\n",
    "    steps_per_epoch=STEPS_PER_EPOCH,\n",
    "    callbacks=[training_callbackRETRAINCA,earlystopping_callback,reduce_lr_callback],\n",
    "    verbose=1\n",
    ")"
   ],
   "execution_count": 149,
   "outputs": [
    {
     "output_type": "stream",
     "name": "stdout",
     "text": [
      "Epoch 1/75\n",
      "36/36 [==============================] - 2s 18ms/step - loss: 3.2223 - Categorical Accuracy: 0.0900 - AUC: 0.5171 - val_loss: 2.5712 - val_Categorical Accuracy: 0.1780 - val_AUC: 0.6298 - lr: 1.0000e-04\n",
      "Epoch 2/75\n",
      "36/36 [==============================] - 0s 8ms/step - loss: 2.7792 - Categorical Accuracy: 0.0900 - AUC: 0.5503 - val_loss: 2.5463 - val_Categorical Accuracy: 0.2260 - val_AUC: 0.6913 - lr: 1.0000e-04\n",
      "Epoch 3/75\n",
      "36/36 [==============================] - 0s 8ms/step - loss: 2.6732 - Categorical Accuracy: 0.1211 - AUC: 0.5689 - val_loss: 2.5235 - val_Categorical Accuracy: 0.2740 - val_AUC: 0.7442 - lr: 1.0000e-04\n",
      "Epoch 4/75\n",
      "36/36 [==============================] - 0s 8ms/step - loss: 2.6178 - Categorical Accuracy: 0.1022 - AUC: 0.5920 - val_loss: 2.4886 - val_Categorical Accuracy: 0.3180 - val_AUC: 0.7830 - lr: 1.0000e-04\n",
      "Epoch 5/75\n",
      "36/36 [==============================] - 1s 8ms/step - loss: 2.5025 - Categorical Accuracy: 0.1600 - AUC: 0.6490 - val_loss: 2.4333 - val_Categorical Accuracy: 0.3900 - val_AUC: 0.8043 - lr: 1.0000e-04\n",
      "Epoch 6/75\n",
      "36/36 [==============================] - 0s 9ms/step - loss: 2.4934 - Categorical Accuracy: 0.1467 - AUC: 0.6541 - val_loss: 2.3646 - val_Categorical Accuracy: 0.4380 - val_AUC: 0.8371 - lr: 1.0000e-04\n",
      "Epoch 7/75\n",
      "36/36 [==============================] - 0s 9ms/step - loss: 2.4077 - Categorical Accuracy: 0.1889 - AUC: 0.6986 - val_loss: 2.2776 - val_Categorical Accuracy: 0.4420 - val_AUC: 0.8593 - lr: 1.0000e-04\n",
      "Epoch 8/75\n",
      "36/36 [==============================] - 0s 9ms/step - loss: 2.3416 - Categorical Accuracy: 0.1878 - AUC: 0.7266 - val_loss: 2.1788 - val_Categorical Accuracy: 0.4760 - val_AUC: 0.8891 - lr: 1.0000e-04\n",
      "Epoch 9/75\n",
      "36/36 [==============================] - 0s 9ms/step - loss: 2.2387 - Categorical Accuracy: 0.2467 - AUC: 0.7593 - val_loss: 2.0681 - val_Categorical Accuracy: 0.5300 - val_AUC: 0.9081 - lr: 1.0000e-04\n",
      "Epoch 10/75\n",
      "36/36 [==============================] - 0s 9ms/step - loss: 2.1626 - Categorical Accuracy: 0.2756 - AUC: 0.7843 - val_loss: 1.9560 - val_Categorical Accuracy: 0.5800 - val_AUC: 0.9197 - lr: 1.0000e-04\n",
      "Epoch 11/75\n",
      "36/36 [==============================] - 0s 9ms/step - loss: 2.0531 - Categorical Accuracy: 0.3256 - AUC: 0.8125 - val_loss: 1.8322 - val_Categorical Accuracy: 0.6400 - val_AUC: 0.9372 - lr: 1.0000e-04\n",
      "Epoch 12/75\n",
      "36/36 [==============================] - 0s 10ms/step - loss: 1.9550 - Categorical Accuracy: 0.3533 - AUC: 0.8363 - val_loss: 1.7347 - val_Categorical Accuracy: 0.6820 - val_AUC: 0.9430 - lr: 1.0000e-04\n",
      "Epoch 13/75\n",
      "36/36 [==============================] - 0s 9ms/step - loss: 1.9693 - Categorical Accuracy: 0.3333 - AUC: 0.8349 - val_loss: 1.6467 - val_Categorical Accuracy: 0.6840 - val_AUC: 0.9501 - lr: 1.0000e-04\n",
      "Epoch 14/75\n",
      "36/36 [==============================] - 0s 8ms/step - loss: 1.8495 - Categorical Accuracy: 0.3633 - AUC: 0.8608 - val_loss: 1.5649 - val_Categorical Accuracy: 0.6860 - val_AUC: 0.9530 - lr: 1.0000e-04\n",
      "Epoch 15/75\n",
      "36/36 [==============================] - 0s 9ms/step - loss: 1.8097 - Categorical Accuracy: 0.3856 - AUC: 0.8669 - val_loss: 1.4866 - val_Categorical Accuracy: 0.6960 - val_AUC: 0.9594 - lr: 1.0000e-04\n",
      "Epoch 16/75\n",
      "36/36 [==============================] - 0s 8ms/step - loss: 1.6882 - Categorical Accuracy: 0.4356 - AUC: 0.8857 - val_loss: 1.3961 - val_Categorical Accuracy: 0.7060 - val_AUC: 0.9629 - lr: 1.0000e-04\n",
      "Epoch 17/75\n",
      "36/36 [==============================] - 0s 8ms/step - loss: 1.6696 - Categorical Accuracy: 0.4322 - AUC: 0.8908 - val_loss: 1.3465 - val_Categorical Accuracy: 0.7260 - val_AUC: 0.9650 - lr: 1.0000e-04\n",
      "Epoch 18/75\n",
      "36/36 [==============================] - 0s 9ms/step - loss: 1.5216 - Categorical Accuracy: 0.4833 - AUC: 0.9125 - val_loss: 1.2671 - val_Categorical Accuracy: 0.7300 - val_AUC: 0.9665 - lr: 1.0000e-04\n",
      "Epoch 19/75\n",
      "36/36 [==============================] - 0s 9ms/step - loss: 1.5006 - Categorical Accuracy: 0.4711 - AUC: 0.9137 - val_loss: 1.2065 - val_Categorical Accuracy: 0.7440 - val_AUC: 0.9684 - lr: 1.0000e-04\n",
      "Epoch 20/75\n",
      "36/36 [==============================] - 0s 9ms/step - loss: 1.4835 - Categorical Accuracy: 0.5044 - AUC: 0.9155 - val_loss: 1.1768 - val_Categorical Accuracy: 0.7400 - val_AUC: 0.9694 - lr: 1.0000e-04\n",
      "Epoch 21/75\n",
      "36/36 [==============================] - 0s 9ms/step - loss: 1.4490 - Categorical Accuracy: 0.5122 - AUC: 0.9184 - val_loss: 1.1257 - val_Categorical Accuracy: 0.7460 - val_AUC: 0.9716 - lr: 1.0000e-04\n",
      "Epoch 22/75\n",
      "36/36 [==============================] - 0s 9ms/step - loss: 1.3720 - Categorical Accuracy: 0.5311 - AUC: 0.9307 - val_loss: 1.0727 - val_Categorical Accuracy: 0.7640 - val_AUC: 0.9743 - lr: 1.0000e-04\n",
      "Epoch 23/75\n",
      "36/36 [==============================] - 0s 9ms/step - loss: 1.3074 - Categorical Accuracy: 0.5522 - AUC: 0.9363 - val_loss: 1.0137 - val_Categorical Accuracy: 0.7560 - val_AUC: 0.9755 - lr: 1.0000e-04\n",
      "Epoch 24/75\n",
      "36/36 [==============================] - 0s 8ms/step - loss: 1.2482 - Categorical Accuracy: 0.5567 - AUC: 0.9429 - val_loss: 0.9864 - val_Categorical Accuracy: 0.7520 - val_AUC: 0.9753 - lr: 1.0000e-04\n",
      "Epoch 25/75\n",
      "36/36 [==============================] - 0s 9ms/step - loss: 1.2410 - Categorical Accuracy: 0.5756 - AUC: 0.9416 - val_loss: 0.9525 - val_Categorical Accuracy: 0.7860 - val_AUC: 0.9781 - lr: 1.0000e-04\n",
      "Epoch 26/75\n",
      "36/36 [==============================] - 0s 9ms/step - loss: 1.1610 - Categorical Accuracy: 0.6056 - AUC: 0.9512 - val_loss: 0.9244 - val_Categorical Accuracy: 0.7680 - val_AUC: 0.9774 - lr: 1.0000e-04\n",
      "Epoch 27/75\n",
      "36/36 [==============================] - 0s 9ms/step - loss: 1.0846 - Categorical Accuracy: 0.6278 - AUC: 0.9565 - val_loss: 0.8905 - val_Categorical Accuracy: 0.7640 - val_AUC: 0.9786 - lr: 1.0000e-04\n",
      "Epoch 28/75\n",
      "36/36 [==============================] - 0s 8ms/step - loss: 1.1071 - Categorical Accuracy: 0.6178 - AUC: 0.9553 - val_loss: 0.8545 - val_Categorical Accuracy: 0.7640 - val_AUC: 0.9797 - lr: 1.0000e-04\n",
      "Epoch 29/75\n",
      "36/36 [==============================] - 0s 9ms/step - loss: 1.0246 - Categorical Accuracy: 0.6489 - AUC: 0.9613 - val_loss: 0.8170 - val_Categorical Accuracy: 0.7820 - val_AUC: 0.9810 - lr: 1.0000e-04\n",
      "Epoch 30/75\n",
      "36/36 [==============================] - 0s 8ms/step - loss: 1.0142 - Categorical Accuracy: 0.6600 - AUC: 0.9608 - val_loss: 0.8052 - val_Categorical Accuracy: 0.7840 - val_AUC: 0.9810 - lr: 1.0000e-04\n",
      "Epoch 31/75\n",
      "36/36 [==============================] - 0s 9ms/step - loss: 0.9908 - Categorical Accuracy: 0.6622 - AUC: 0.9627 - val_loss: 0.7773 - val_Categorical Accuracy: 0.7920 - val_AUC: 0.9817 - lr: 1.0000e-04\n",
      "Epoch 32/75\n",
      "36/36 [==============================] - 0s 9ms/step - loss: 0.9132 - Categorical Accuracy: 0.6678 - AUC: 0.9708 - val_loss: 0.7545 - val_Categorical Accuracy: 0.7760 - val_AUC: 0.9818 - lr: 1.0000e-04\n",
      "Epoch 33/75\n",
      "36/36 [==============================] - 0s 9ms/step - loss: 0.9896 - Categorical Accuracy: 0.6756 - AUC: 0.9623 - val_loss: 0.7482 - val_Categorical Accuracy: 0.7880 - val_AUC: 0.9823 - lr: 1.0000e-04\n",
      "Epoch 34/75\n",
      "36/36 [==============================] - 0s 9ms/step - loss: 0.9163 - Categorical Accuracy: 0.6900 - AUC: 0.9693 - val_loss: 0.7289 - val_Categorical Accuracy: 0.7860 - val_AUC: 0.9832 - lr: 1.0000e-04\n",
      "Epoch 35/75\n",
      "36/36 [==============================] - 0s 9ms/step - loss: 0.8765 - Categorical Accuracy: 0.6944 - AUC: 0.9720 - val_loss: 0.7106 - val_Categorical Accuracy: 0.7960 - val_AUC: 0.9841 - lr: 1.0000e-04\n",
      "Epoch 36/75\n",
      "36/36 [==============================] - 0s 9ms/step - loss: 0.8403 - Categorical Accuracy: 0.7100 - AUC: 0.9741 - val_loss: 0.6960 - val_Categorical Accuracy: 0.7880 - val_AUC: 0.9843 - lr: 1.0000e-04\n",
      "Epoch 37/75\n",
      "36/36 [==============================] - 0s 9ms/step - loss: 0.7995 - Categorical Accuracy: 0.7111 - AUC: 0.9769 - val_loss: 0.6891 - val_Categorical Accuracy: 0.7980 - val_AUC: 0.9838 - lr: 1.0000e-04\n",
      "Epoch 38/75\n",
      "36/36 [==============================] - 0s 8ms/step - loss: 0.7910 - Categorical Accuracy: 0.7256 - AUC: 0.9768 - val_loss: 0.6649 - val_Categorical Accuracy: 0.8040 - val_AUC: 0.9850 - lr: 1.0000e-04\n",
      "Epoch 39/75\n",
      "36/36 [==============================] - 0s 9ms/step - loss: 0.7742 - Categorical Accuracy: 0.7300 - AUC: 0.9779 - val_loss: 0.6573 - val_Categorical Accuracy: 0.8040 - val_AUC: 0.9848 - lr: 1.0000e-04\n",
      "Epoch 40/75\n",
      "36/36 [==============================] - 0s 9ms/step - loss: 0.7530 - Categorical Accuracy: 0.7489 - AUC: 0.9785 - val_loss: 0.6485 - val_Categorical Accuracy: 0.8100 - val_AUC: 0.9850 - lr: 1.0000e-04\n",
      "Epoch 41/75\n",
      "36/36 [==============================] - 0s 9ms/step - loss: 0.7343 - Categorical Accuracy: 0.7567 - AUC: 0.9795 - val_loss: 0.6428 - val_Categorical Accuracy: 0.8040 - val_AUC: 0.9850 - lr: 1.0000e-04\n",
      "Epoch 42/75\n",
      "36/36 [==============================] - 0s 8ms/step - loss: 0.7012 - Categorical Accuracy: 0.7489 - AUC: 0.9822 - val_loss: 0.6303 - val_Categorical Accuracy: 0.8100 - val_AUC: 0.9858 - lr: 1.0000e-04\n",
      "Epoch 43/75\n",
      "36/36 [==============================] - 0s 9ms/step - loss: 0.6734 - Categorical Accuracy: 0.7756 - AUC: 0.9836 - val_loss: 0.6244 - val_Categorical Accuracy: 0.8100 - val_AUC: 0.9849 - lr: 1.0000e-04\n",
      "Epoch 44/75\n",
      "36/36 [==============================] - 0s 9ms/step - loss: 0.6870 - Categorical Accuracy: 0.7589 - AUC: 0.9811 - val_loss: 0.6011 - val_Categorical Accuracy: 0.8120 - val_AUC: 0.9868 - lr: 1.0000e-04\n",
      "Epoch 45/75\n",
      "36/36 [==============================] - 0s 8ms/step - loss: 0.6272 - Categorical Accuracy: 0.7933 - AUC: 0.9849 - val_loss: 0.5991 - val_Categorical Accuracy: 0.8120 - val_AUC: 0.9857 - lr: 1.0000e-04\n",
      "Epoch 46/75\n",
      "36/36 [==============================] - 0s 9ms/step - loss: 0.5779 - Categorical Accuracy: 0.7911 - AUC: 0.9871 - val_loss: 0.6092 - val_Categorical Accuracy: 0.7840 - val_AUC: 0.9851 - lr: 1.0000e-04\n",
      "Epoch 47/75\n",
      "36/36 [==============================] - 0s 9ms/step - loss: 0.5623 - Categorical Accuracy: 0.8167 - AUC: 0.9876 - val_loss: 0.5767 - val_Categorical Accuracy: 0.8160 - val_AUC: 0.9866 - lr: 1.0000e-04\n",
      "Epoch 48/75\n",
      "36/36 [==============================] - 0s 9ms/step - loss: 0.5903 - Categorical Accuracy: 0.8067 - AUC: 0.9865 - val_loss: 0.5768 - val_Categorical Accuracy: 0.8080 - val_AUC: 0.9864 - lr: 1.0000e-04\n",
      "Epoch 49/75\n",
      "36/36 [==============================] - 0s 9ms/step - loss: 0.6113 - Categorical Accuracy: 0.7811 - AUC: 0.9860 - val_loss: 0.5678 - val_Categorical Accuracy: 0.8100 - val_AUC: 0.9867 - lr: 1.0000e-04\n",
      "Epoch 50/75\n",
      "36/36 [==============================] - 0s 9ms/step - loss: 0.5893 - Categorical Accuracy: 0.7844 - AUC: 0.9870 - val_loss: 0.5750 - val_Categorical Accuracy: 0.8000 - val_AUC: 0.9864 - lr: 1.0000e-04\n",
      "Epoch 51/75\n",
      "36/36 [==============================] - 0s 9ms/step - loss: 0.5443 - Categorical Accuracy: 0.8133 - AUC: 0.9887 - val_loss: 0.5831 - val_Categorical Accuracy: 0.8040 - val_AUC: 0.9861 - lr: 1.0000e-04\n",
      "Epoch 52/75\n",
      "35/36 [============================>.] - ETA: 0s - loss: 0.5194 - Categorical Accuracy: 0.8366 - AUC: 0.9895\n",
      "Epoch 00052: ReduceLROnPlateau reducing learning rate to 1.9999999494757503e-05.\n",
      "36/36 [==============================] - 0s 9ms/step - loss: 0.5166 - Categorical Accuracy: 0.8389 - AUC: 0.9897 - val_loss: 0.5702 - val_Categorical Accuracy: 0.8060 - val_AUC: 0.9858 - lr: 1.0000e-04\n",
      "Epoch 53/75\n",
      "36/36 [==============================] - 0s 9ms/step - loss: 0.5484 - Categorical Accuracy: 0.8022 - AUC: 0.9884 - val_loss: 0.5602 - val_Categorical Accuracy: 0.8120 - val_AUC: 0.9869 - lr: 2.0000e-05\n",
      "Epoch 54/75\n",
      "36/36 [==============================] - 0s 9ms/step - loss: 0.5096 - Categorical Accuracy: 0.8233 - AUC: 0.9899 - val_loss: 0.5571 - val_Categorical Accuracy: 0.8120 - val_AUC: 0.9872 - lr: 2.0000e-05\n",
      "Epoch 55/75\n",
      "36/36 [==============================] - 0s 9ms/step - loss: 0.5444 - Categorical Accuracy: 0.8078 - AUC: 0.9886 - val_loss: 0.5587 - val_Categorical Accuracy: 0.8120 - val_AUC: 0.9871 - lr: 2.0000e-05\n",
      "Epoch 56/75\n",
      "36/36 [==============================] - 0s 8ms/step - loss: 0.4890 - Categorical Accuracy: 0.8378 - AUC: 0.9914 - val_loss: 0.5556 - val_Categorical Accuracy: 0.8100 - val_AUC: 0.9872 - lr: 2.0000e-05\n",
      "Epoch 57/75\n",
      "36/36 [==============================] - 0s 9ms/step - loss: 0.4914 - Categorical Accuracy: 0.8278 - AUC: 0.9915 - val_loss: 0.5582 - val_Categorical Accuracy: 0.8040 - val_AUC: 0.9870 - lr: 2.0000e-05\n",
      "Epoch 58/75\n",
      "36/36 [==============================] - 0s 8ms/step - loss: 0.4642 - Categorical Accuracy: 0.8544 - AUC: 0.9905 - val_loss: 0.5544 - val_Categorical Accuracy: 0.8080 - val_AUC: 0.9871 - lr: 2.0000e-05\n",
      "Epoch 59/75\n",
      "36/36 [==============================] - 0s 9ms/step - loss: 0.4774 - Categorical Accuracy: 0.8267 - AUC: 0.9910 - val_loss: 0.5479 - val_Categorical Accuracy: 0.8120 - val_AUC: 0.9874 - lr: 2.0000e-05\n",
      "Epoch 60/75\n",
      "36/36 [==============================] - 0s 9ms/step - loss: 0.5342 - Categorical Accuracy: 0.8200 - AUC: 0.9871 - val_loss: 0.5497 - val_Categorical Accuracy: 0.8080 - val_AUC: 0.9874 - lr: 2.0000e-05\n",
      "Epoch 61/75\n",
      "36/36 [==============================] - 0s 9ms/step - loss: 0.4595 - Categorical Accuracy: 0.8544 - AUC: 0.9924 - val_loss: 0.5490 - val_Categorical Accuracy: 0.8080 - val_AUC: 0.9874 - lr: 2.0000e-05\n",
      "Epoch 62/75\n",
      "36/36 [==============================] - 0s 9ms/step - loss: 0.4558 - Categorical Accuracy: 0.8467 - AUC: 0.9926 - val_loss: 0.5441 - val_Categorical Accuracy: 0.8060 - val_AUC: 0.9875 - lr: 2.0000e-05\n",
      "Epoch 63/75\n",
      "36/36 [==============================] - 0s 9ms/step - loss: 0.5074 - Categorical Accuracy: 0.8278 - AUC: 0.9900 - val_loss: 0.5454 - val_Categorical Accuracy: 0.8160 - val_AUC: 0.9874 - lr: 2.0000e-05\n",
      "Epoch 64/75\n",
      "36/36 [==============================] - 0s 9ms/step - loss: 0.4290 - Categorical Accuracy: 0.8589 - AUC: 0.9931 - val_loss: 0.5418 - val_Categorical Accuracy: 0.8220 - val_AUC: 0.9876 - lr: 2.0000e-05\n",
      "Epoch 65/75\n",
      "36/36 [==============================] - 0s 9ms/step - loss: 0.4457 - Categorical Accuracy: 0.8567 - AUC: 0.9911 - val_loss: 0.5396 - val_Categorical Accuracy: 0.8240 - val_AUC: 0.9877 - lr: 2.0000e-05\n",
      "Epoch 66/75\n",
      "36/36 [==============================] - 0s 9ms/step - loss: 0.4521 - Categorical Accuracy: 0.8433 - AUC: 0.9929 - val_loss: 0.5431 - val_Categorical Accuracy: 0.8200 - val_AUC: 0.9876 - lr: 2.0000e-05\n",
      "Epoch 67/75\n",
      "36/36 [==============================] - 0s 9ms/step - loss: 0.4986 - Categorical Accuracy: 0.8311 - AUC: 0.9884 - val_loss: 0.5438 - val_Categorical Accuracy: 0.8120 - val_AUC: 0.9875 - lr: 2.0000e-05\n",
      "Epoch 68/75\n",
      "34/36 [===========================>..] - ETA: 0s - loss: 0.4611 - Categorical Accuracy: 0.8600 - AUC: 0.9905\n",
      "Epoch 00068: ReduceLROnPlateau reducing learning rate to 1e-05.\n",
      "36/36 [==============================] - 0s 9ms/step - loss: 0.4732 - Categorical Accuracy: 0.8511 - AUC: 0.9901 - val_loss: 0.5429 - val_Categorical Accuracy: 0.8140 - val_AUC: 0.9868 - lr: 2.0000e-05\n",
      "Epoch 69/75\n",
      "36/36 [==============================] - 0s 9ms/step - loss: 0.4656 - Categorical Accuracy: 0.8400 - AUC: 0.9916 - val_loss: 0.5418 - val_Categorical Accuracy: 0.8160 - val_AUC: 0.9868 - lr: 1.0000e-05\n",
      "Epoch 70/75\n",
      "36/36 [==============================] - 0s 9ms/step - loss: 0.4472 - Categorical Accuracy: 0.8444 - AUC: 0.9927 - val_loss: 0.5437 - val_Categorical Accuracy: 0.8120 - val_AUC: 0.9875 - lr: 1.0000e-05\n"
     ]
    }
   ]
  },
  {
   "cell_type": "code",
   "metadata": {
    "colab": {
     "base_uri": "https://localhost:8080/"
    },
    "id": "GA8hOPr5Mn58",
    "executionInfo": {
     "status": "ok",
     "timestamp": 1638888091180,
     "user_tz": 300,
     "elapsed": 3642,
     "user": {
      "displayName": "Andrew Ning",
      "photoUrl": "https://lh3.googleusercontent.com/a-/AOh14GgyUiXynCeybWnGTpfHnOSTarAoJjvj-8rK8oxkzQ=s64",
      "userId": "04097743773373129918"
     }
    },
    "outputId": "3b4bc04f-ebcf-47aa-a6e0-ebb8e6f84e63"
   },
   "source": [
    "modelENRetrain.evaluate(testdatasetEN)"
   ],
   "execution_count": 150,
   "outputs": [
    {
     "output_type": "stream",
     "name": "stdout",
     "text": [
      "250/250 [==============================] - 4s 10ms/step - loss: 0.9629 - Categorical Accuracy: 0.6640 - AUC: 0.9653\n"
     ]
    },
    {
     "output_type": "execute_result",
     "data": {
      "text/plain": [
       "[0.9628928303718567, 0.6639999747276306, 0.9652811884880066]"
      ]
     },
     "metadata": {},
     "execution_count": 150
    }
   ]
  },
  {
   "cell_type": "code",
   "metadata": {
    "colab": {
     "base_uri": "https://localhost:8080/"
    },
    "id": "ajdhGJRROSTS",
    "executionInfo": {
     "status": "ok",
     "timestamp": 1638888092429,
     "user_tz": 300,
     "elapsed": 1253,
     "user": {
      "displayName": "Andrew Ning",
      "photoUrl": "https://lh3.googleusercontent.com/a-/AOh14GgyUiXynCeybWnGTpfHnOSTarAoJjvj-8rK8oxkzQ=s64",
      "userId": "04097743773373129918"
     }
    },
    "outputId": "eef10351-3caf-4ebc-cf75-9245036f62dc"
   },
   "source": [
    "modelESRetrain.evaluate(testdatasetES)"
   ],
   "execution_count": 151,
   "outputs": [
    {
     "output_type": "stream",
     "name": "stdout",
     "text": [
      "250/250 [==============================] - 1s 4ms/step - loss: 0.7529 - Categorical Accuracy: 0.7120 - AUC: 0.9700\n"
     ]
    },
    {
     "output_type": "execute_result",
     "data": {
      "text/plain": [
       "[0.752926230430603, 0.7120000123977661, 0.970034122467041]"
      ]
     },
     "metadata": {},
     "execution_count": 151
    }
   ]
  },
  {
   "cell_type": "code",
   "metadata": {
    "colab": {
     "base_uri": "https://localhost:8080/"
    },
    "id": "PeWe03Q5_6dk",
    "executionInfo": {
     "status": "ok",
     "timestamp": 1638888093576,
     "user_tz": 300,
     "elapsed": 1149,
     "user": {
      "displayName": "Andrew Ning",
      "photoUrl": "https://lh3.googleusercontent.com/a-/AOh14GgyUiXynCeybWnGTpfHnOSTarAoJjvj-8rK8oxkzQ=s64",
      "userId": "04097743773373129918"
     }
    },
    "outputId": "4e6d4012-ad00-4139-b65a-0546042ab869"
   },
   "source": [
    "modelFRRetrain.evaluate(testdatasetFR)"
   ],
   "execution_count": 152,
   "outputs": [
    {
     "output_type": "stream",
     "name": "stdout",
     "text": [
      "250/250 [==============================] - 1s 4ms/step - loss: 0.9559 - Categorical Accuracy: 0.6480 - AUC: 0.9680\n"
     ]
    },
    {
     "output_type": "execute_result",
     "data": {
      "text/plain": [
       "[0.9558636546134949, 0.6480000019073486, 0.9679862856864929]"
      ]
     },
     "metadata": {},
     "execution_count": 152
    }
   ]
  },
  {
   "cell_type": "code",
   "metadata": {
    "colab": {
     "base_uri": "https://localhost:8080/"
    },
    "id": "gCg1FRIiJPbB",
    "executionInfo": {
     "status": "ok",
     "timestamp": 1638888094932,
     "user_tz": 300,
     "elapsed": 1359,
     "user": {
      "displayName": "Andrew Ning",
      "photoUrl": "https://lh3.googleusercontent.com/a-/AOh14GgyUiXynCeybWnGTpfHnOSTarAoJjvj-8rK8oxkzQ=s64",
      "userId": "04097743773373129918"
     }
    },
    "outputId": "f499a088-c9f1-413e-a85e-2b58a027fcde"
   },
   "source": [
    "modelDERetrain.evaluate(testdatasetDE)"
   ],
   "execution_count": 153,
   "outputs": [
    {
     "output_type": "stream",
     "name": "stdout",
     "text": [
      "250/250 [==============================] - 1s 4ms/step - loss: 1.1409 - Categorical Accuracy: 0.6160 - AUC: 0.9501\n"
     ]
    },
    {
     "output_type": "execute_result",
     "data": {
      "text/plain": [
       "[1.1408854722976685, 0.6159999966621399, 0.9500547647476196]"
      ]
     },
     "metadata": {},
     "execution_count": 153
    }
   ]
  },
  {
   "cell_type": "code",
   "metadata": {
    "colab": {
     "base_uri": "https://localhost:8080/"
    },
    "id": "MOPU2ZN8TVJk",
    "executionInfo": {
     "status": "ok",
     "timestamp": 1638888096190,
     "user_tz": 300,
     "elapsed": 1260,
     "user": {
      "displayName": "Andrew Ning",
      "photoUrl": "https://lh3.googleusercontent.com/a-/AOh14GgyUiXynCeybWnGTpfHnOSTarAoJjvj-8rK8oxkzQ=s64",
      "userId": "04097743773373129918"
     }
    },
    "outputId": "277acb2f-775b-4abf-a83b-3a32b2d3d829"
   },
   "source": [
    "modelCARetrain.evaluate(testdatasetCA)"
   ],
   "execution_count": 154,
   "outputs": [
    {
     "output_type": "stream",
     "name": "stdout",
     "text": [
      "250/250 [==============================] - 1s 4ms/step - loss: 0.6115 - Categorical Accuracy: 0.7960 - AUC: 0.9870\n"
     ]
    },
    {
     "output_type": "execute_result",
     "data": {
      "text/plain": [
       "[0.6114996671676636, 0.7960000038146973, 0.9869875907897949]"
      ]
     },
     "metadata": {},
     "execution_count": 154
    }
   ]
  },
  {
   "cell_type": "code",
   "metadata": {
    "id": "GQvH9u0FUOmC",
    "executionInfo": {
     "status": "ok",
     "timestamp": 1638888096191,
     "user_tz": 300,
     "elapsed": 7,
     "user": {
      "displayName": "Andrew Ning",
      "photoUrl": "https://lh3.googleusercontent.com/a-/AOh14GgyUiXynCeybWnGTpfHnOSTarAoJjvj-8rK8oxkzQ=s64",
      "userId": "04097743773373129918"
     }
    }
   },
   "source": [
    "# !rm -r savedmodels"
   ],
   "execution_count": 155,
   "outputs": []
  },
  {
   "cell_type": "code",
   "metadata": {
    "id": "-9H-HtFBC_ke",
    "executionInfo": {
     "status": "ok",
     "timestamp": 1638888096192,
     "user_tz": 300,
     "elapsed": 7,
     "user": {
      "displayName": "Andrew Ning",
      "photoUrl": "https://lh3.googleusercontent.com/a-/AOh14GgyUiXynCeybWnGTpfHnOSTarAoJjvj-8rK8oxkzQ=s64",
      "userId": "04097743773373129918"
     }
    }
   },
   "source": [
    "# !rm /content/savedmodels.zip\n",
    "# !mkdir savedmodels"
   ],
   "execution_count": 156,
   "outputs": []
  },
  {
   "cell_type": "code",
   "metadata": {
    "colab": {
     "base_uri": "https://localhost:8080/"
    },
    "id": "DKbEBdfgDAgZ",
    "executionInfo": {
     "status": "ok",
     "timestamp": 1638888303263,
     "user_tz": 300,
     "elapsed": 20983,
     "user": {
      "displayName": "Andrew Ning",
      "photoUrl": "https://lh3.googleusercontent.com/a-/AOh14GgyUiXynCeybWnGTpfHnOSTarAoJjvj-8rK8oxkzQ=s64",
      "userId": "04097743773373129918"
     }
    },
    "outputId": "366790f1-c8de-44c8-e9ee-6fb79be7ce1b"
   },
   "source": [
    "shared.save('savedmodels/sharedmodel')\n",
    "modelFullEN.save('savedmodels/fullmodelEN')\n",
    "modelFullES.save('savedmodels/fullmodelES')\n",
    "modelFullFR.save('savedmodels/fullmodelFR')\n",
    "modelFullDE.save('savedmodels/fullmodelDE')\n",
    "modelFullCA.save('savedmodels/fullmodelCA')\n",
    "modelENRetrain.save('savedmodels/modelENRetrain')\n",
    "modelESRetrain.save('savedmodels/modelESRetrain')\n",
    "modelFRRetrain.save('savedmodels/modelFRRetrain')\n",
    "modelDERetrain.save('savedmodels/modelDERetrain')\n",
    "modelCARetrain.save('savedmodels/modelCARetrain')"
   ],
   "execution_count": 163,
   "outputs": [
    {
     "output_type": "stream",
     "name": "stdout",
     "text": [
      "WARNING:tensorflow:Compiled the loaded model, but the compiled metrics have yet to be built. `model.compile_metrics` will be empty until you train or evaluate the model.\n"
     ]
    },
    {
     "output_type": "stream",
     "name": "stderr",
     "text": [
      "WARNING:tensorflow:Compiled the loaded model, but the compiled metrics have yet to be built. `model.compile_metrics` will be empty until you train or evaluate the model.\n",
      "WARNING:absl:Function `_wrapped_model` contains input name(s) Shared_Conv2D1_input with unsupported characters which will be renamed to shared_conv2d1_input in the SavedModel.\n"
     ]
    },
    {
     "output_type": "stream",
     "name": "stdout",
     "text": [
      "INFO:tensorflow:Assets written to: savedmodels/sharedmodel/assets\n"
     ]
    },
    {
     "output_type": "stream",
     "name": "stderr",
     "text": [
      "INFO:tensorflow:Assets written to: savedmodels/sharedmodel/assets\n",
      "WARNING:absl:Function `_wrapped_model` contains input name(s) EN_Input with unsupported characters which will be renamed to en_input in the SavedModel.\n"
     ]
    },
    {
     "output_type": "stream",
     "name": "stdout",
     "text": [
      "INFO:tensorflow:Assets written to: savedmodels/fullmodelEN/assets\n"
     ]
    },
    {
     "output_type": "stream",
     "name": "stderr",
     "text": [
      "INFO:tensorflow:Assets written to: savedmodels/fullmodelEN/assets\n",
      "WARNING:absl:Function `_wrapped_model` contains input name(s) ES_Input with unsupported characters which will be renamed to es_input in the SavedModel.\n"
     ]
    },
    {
     "output_type": "stream",
     "name": "stdout",
     "text": [
      "INFO:tensorflow:Assets written to: savedmodels/fullmodelES/assets\n"
     ]
    },
    {
     "output_type": "stream",
     "name": "stderr",
     "text": [
      "INFO:tensorflow:Assets written to: savedmodels/fullmodelES/assets\n",
      "WARNING:absl:Function `_wrapped_model` contains input name(s) FR_Input with unsupported characters which will be renamed to fr_input in the SavedModel.\n"
     ]
    },
    {
     "output_type": "stream",
     "name": "stdout",
     "text": [
      "INFO:tensorflow:Assets written to: savedmodels/fullmodelFR/assets\n"
     ]
    },
    {
     "output_type": "stream",
     "name": "stderr",
     "text": [
      "INFO:tensorflow:Assets written to: savedmodels/fullmodelFR/assets\n",
      "WARNING:absl:Function `_wrapped_model` contains input name(s) DE_Input with unsupported characters which will be renamed to de_input in the SavedModel.\n"
     ]
    },
    {
     "output_type": "stream",
     "name": "stdout",
     "text": [
      "INFO:tensorflow:Assets written to: savedmodels/fullmodelDE/assets\n"
     ]
    },
    {
     "output_type": "stream",
     "name": "stderr",
     "text": [
      "INFO:tensorflow:Assets written to: savedmodels/fullmodelDE/assets\n",
      "WARNING:absl:Function `_wrapped_model` contains input name(s) CA_Input with unsupported characters which will be renamed to ca_input in the SavedModel.\n"
     ]
    },
    {
     "output_type": "stream",
     "name": "stdout",
     "text": [
      "INFO:tensorflow:Assets written to: savedmodels/fullmodelCA/assets\n"
     ]
    },
    {
     "output_type": "stream",
     "name": "stderr",
     "text": [
      "INFO:tensorflow:Assets written to: savedmodels/fullmodelCA/assets\n",
      "WARNING:absl:Function `_wrapped_model` contains input name(s) EN_Input with unsupported characters which will be renamed to en_input in the SavedModel.\n"
     ]
    },
    {
     "output_type": "stream",
     "name": "stdout",
     "text": [
      "INFO:tensorflow:Assets written to: savedmodels/modelENRetrain/assets\n"
     ]
    },
    {
     "output_type": "stream",
     "name": "stderr",
     "text": [
      "INFO:tensorflow:Assets written to: savedmodels/modelENRetrain/assets\n",
      "WARNING:absl:Function `_wrapped_model` contains input name(s) ES_Input with unsupported characters which will be renamed to es_input in the SavedModel.\n"
     ]
    },
    {
     "output_type": "stream",
     "name": "stdout",
     "text": [
      "INFO:tensorflow:Assets written to: savedmodels/modelESRetrain/assets\n"
     ]
    },
    {
     "output_type": "stream",
     "name": "stderr",
     "text": [
      "INFO:tensorflow:Assets written to: savedmodels/modelESRetrain/assets\n",
      "WARNING:absl:Function `_wrapped_model` contains input name(s) FR_Input with unsupported characters which will be renamed to fr_input in the SavedModel.\n"
     ]
    },
    {
     "output_type": "stream",
     "name": "stdout",
     "text": [
      "INFO:tensorflow:Assets written to: savedmodels/modelFRRetrain/assets\n"
     ]
    },
    {
     "output_type": "stream",
     "name": "stderr",
     "text": [
      "INFO:tensorflow:Assets written to: savedmodels/modelFRRetrain/assets\n",
      "WARNING:absl:Function `_wrapped_model` contains input name(s) DE_Input with unsupported characters which will be renamed to de_input in the SavedModel.\n"
     ]
    },
    {
     "output_type": "stream",
     "name": "stdout",
     "text": [
      "INFO:tensorflow:Assets written to: savedmodels/modelDERetrain/assets\n"
     ]
    },
    {
     "output_type": "stream",
     "name": "stderr",
     "text": [
      "INFO:tensorflow:Assets written to: savedmodels/modelDERetrain/assets\n",
      "WARNING:absl:Function `_wrapped_model` contains input name(s) CA_Input with unsupported characters which will be renamed to ca_input in the SavedModel.\n"
     ]
    },
    {
     "output_type": "stream",
     "name": "stdout",
     "text": [
      "INFO:tensorflow:Assets written to: savedmodels/modelCARetrain/assets\n"
     ]
    },
    {
     "output_type": "stream",
     "name": "stderr",
     "text": [
      "INFO:tensorflow:Assets written to: savedmodels/modelCARetrain/assets\n"
     ]
    }
   ]
  },
  {
   "cell_type": "code",
   "metadata": {
    "colab": {
     "base_uri": "https://localhost:8080/"
    },
    "id": "nIZqPoItDTRe",
    "executionInfo": {
     "status": "ok",
     "timestamp": 1638888312241,
     "user_tz": 300,
     "elapsed": 2705,
     "user": {
      "displayName": "Andrew Ning",
      "photoUrl": "https://lh3.googleusercontent.com/a-/AOh14GgyUiXynCeybWnGTpfHnOSTarAoJjvj-8rK8oxkzQ=s64",
      "userId": "04097743773373129918"
     }
    },
    "outputId": "0e39800c-13c8-4dbb-8057-4401a2ebebe3"
   },
   "source": [
    "# !zip -r /content/savedmodels.zip /content/savedmodels\n",
    "#"
   ],
   "execution_count": 164,
   "outputs": [
    {
     "output_type": "stream",
     "name": "stdout",
     "text": [
      "  adding: content/savedmodels/ (stored 0%)\n",
      "  adding: content/savedmodels/fullmodelEN/ (stored 0%)\n",
      "  adding: content/savedmodels/fullmodelEN/keras_metadata.pb (deflated 94%)\n",
      "  adding: content/savedmodels/fullmodelEN/variables/ (stored 0%)\n",
      "  adding: content/savedmodels/fullmodelEN/variables/variables.index (deflated 68%)\n",
      "  adding: content/savedmodels/fullmodelEN/variables/variables.data-00000-of-00001 (deflated 8%)\n",
      "  adding: content/savedmodels/fullmodelEN/saved_model.pb (deflated 90%)\n",
      "  adding: content/savedmodels/fullmodelEN/assets/ (stored 0%)\n",
      "  adding: content/savedmodels/sharedmodel/ (stored 0%)\n",
      "  adding: content/savedmodels/sharedmodel/keras_metadata.pb (deflated 92%)\n",
      "  adding: content/savedmodels/sharedmodel/variables/ (stored 0%)\n",
      "  adding: content/savedmodels/sharedmodel/variables/variables.index (deflated 46%)\n",
      "  adding: content/savedmodels/sharedmodel/variables/variables.data-00000-of-00001 (deflated 8%)\n",
      "  adding: content/savedmodels/sharedmodel/saved_model.pb (deflated 90%)\n",
      "  adding: content/savedmodels/sharedmodel/assets/ (stored 0%)\n",
      "  adding: content/savedmodels/modelESRetrain/ (stored 0%)\n",
      "  adding: content/savedmodels/modelESRetrain/keras_metadata.pb (deflated 94%)\n",
      "  adding: content/savedmodels/modelESRetrain/variables/ (stored 0%)\n",
      "  adding: content/savedmodels/modelESRetrain/variables/variables.index (deflated 65%)\n",
      "  adding: content/savedmodels/modelESRetrain/variables/variables.data-00000-of-00001 (deflated 8%)\n",
      "  adding: content/savedmodels/modelESRetrain/saved_model.pb (deflated 90%)\n",
      "  adding: content/savedmodels/modelESRetrain/assets/ (stored 0%)\n",
      "  adding: content/savedmodels/modelENRetrain/ (stored 0%)\n",
      "  adding: content/savedmodels/modelENRetrain/keras_metadata.pb (deflated 94%)\n",
      "  adding: content/savedmodels/modelENRetrain/variables/ (stored 0%)\n",
      "  adding: content/savedmodels/modelENRetrain/variables/variables.index (deflated 65%)\n",
      "  adding: content/savedmodels/modelENRetrain/variables/variables.data-00000-of-00001 (deflated 8%)\n",
      "  adding: content/savedmodels/modelENRetrain/saved_model.pb (deflated 90%)\n",
      "  adding: content/savedmodels/modelENRetrain/assets/ (stored 0%)\n",
      "  adding: content/savedmodels/fullmodelFR/ (stored 0%)\n",
      "  adding: content/savedmodels/fullmodelFR/keras_metadata.pb (deflated 94%)\n",
      "  adding: content/savedmodels/fullmodelFR/variables/ (stored 0%)\n",
      "  adding: content/savedmodels/fullmodelFR/variables/variables.index (deflated 68%)\n",
      "  adding: content/savedmodels/fullmodelFR/variables/variables.data-00000-of-00001 (deflated 8%)\n",
      "  adding: content/savedmodels/fullmodelFR/saved_model.pb (deflated 89%)\n",
      "  adding: content/savedmodels/fullmodelFR/assets/ (stored 0%)\n",
      "  adding: content/savedmodels/fullmodelCA/ (stored 0%)\n",
      "  adding: content/savedmodels/fullmodelCA/keras_metadata.pb (deflated 94%)\n",
      "  adding: content/savedmodels/fullmodelCA/variables/ (stored 0%)\n",
      "  adding: content/savedmodels/fullmodelCA/variables/variables.index (deflated 68%)\n",
      "  adding: content/savedmodels/fullmodelCA/variables/variables.data-00000-of-00001 (deflated 8%)\n",
      "  adding: content/savedmodels/fullmodelCA/saved_model.pb (deflated 90%)\n",
      "  adding: content/savedmodels/fullmodelCA/assets/ (stored 0%)\n",
      "  adding: content/savedmodels/modelFRRetrain/ (stored 0%)\n",
      "  adding: content/savedmodels/modelFRRetrain/keras_metadata.pb (deflated 94%)\n",
      "  adding: content/savedmodels/modelFRRetrain/variables/ (stored 0%)\n",
      "  adding: content/savedmodels/modelFRRetrain/variables/variables.index (deflated 65%)\n",
      "  adding: content/savedmodels/modelFRRetrain/variables/variables.data-00000-of-00001 (deflated 8%)\n",
      "  adding: content/savedmodels/modelFRRetrain/saved_model.pb (deflated 89%)\n",
      "  adding: content/savedmodels/modelFRRetrain/assets/ (stored 0%)\n",
      "  adding: content/savedmodels/fullmodelES/ (stored 0%)\n",
      "  adding: content/savedmodels/fullmodelES/keras_metadata.pb (deflated 94%)\n",
      "  adding: content/savedmodels/fullmodelES/variables/ (stored 0%)\n",
      "  adding: content/savedmodels/fullmodelES/variables/variables.index (deflated 68%)\n",
      "  adding: content/savedmodels/fullmodelES/variables/variables.data-00000-of-00001 (deflated 7%)\n",
      "  adding: content/savedmodels/fullmodelES/saved_model.pb (deflated 90%)\n",
      "  adding: content/savedmodels/fullmodelES/assets/ (stored 0%)\n",
      "  adding: content/savedmodels/fullmodelDE/ (stored 0%)\n",
      "  adding: content/savedmodels/fullmodelDE/keras_metadata.pb (deflated 94%)\n",
      "  adding: content/savedmodels/fullmodelDE/variables/ (stored 0%)\n",
      "  adding: content/savedmodels/fullmodelDE/variables/variables.index (deflated 68%)\n",
      "  adding: content/savedmodels/fullmodelDE/variables/variables.data-00000-of-00001 (deflated 8%)\n",
      "  adding: content/savedmodels/fullmodelDE/saved_model.pb (deflated 89%)\n",
      "  adding: content/savedmodels/fullmodelDE/assets/ (stored 0%)\n",
      "  adding: content/savedmodels/modelDERetrain/ (stored 0%)\n",
      "  adding: content/savedmodels/modelDERetrain/keras_metadata.pb (deflated 94%)\n",
      "  adding: content/savedmodels/modelDERetrain/variables/ (stored 0%)\n",
      "  adding: content/savedmodels/modelDERetrain/variables/variables.index (deflated 65%)\n",
      "  adding: content/savedmodels/modelDERetrain/variables/variables.data-00000-of-00001 (deflated 8%)\n",
      "  adding: content/savedmodels/modelDERetrain/saved_model.pb (deflated 89%)\n",
      "  adding: content/savedmodels/modelDERetrain/assets/ (stored 0%)\n",
      "  adding: content/savedmodels/modelCARetrain/ (stored 0%)\n",
      "  adding: content/savedmodels/modelCARetrain/keras_metadata.pb (deflated 94%)\n",
      "  adding: content/savedmodels/modelCARetrain/variables/ (stored 0%)\n",
      "  adding: content/savedmodels/modelCARetrain/variables/variables.index (deflated 65%)\n",
      "  adding: content/savedmodels/modelCARetrain/variables/variables.data-00000-of-00001 (deflated 8%)\n",
      "  adding: content/savedmodels/modelCARetrain/saved_model.pb (deflated 90%)\n",
      "  adding: content/savedmodels/modelCARetrain/assets/ (stored 0%)\n"
     ]
    }
   ]
  },
  {
   "cell_type": "code",
   "metadata": {
    "colab": {
     "base_uri": "https://localhost:8080/",
     "height": 17
    },
    "id": "Iv4_chBiESg9",
    "executionInfo": {
     "status": "ok",
     "timestamp": 1638888321355,
     "user_tz": 300,
     "elapsed": 141,
     "user": {
      "displayName": "Andrew Ning",
      "photoUrl": "https://lh3.googleusercontent.com/a-/AOh14GgyUiXynCeybWnGTpfHnOSTarAoJjvj-8rK8oxkzQ=s64",
      "userId": "04097743773373129918"
     }
    },
    "outputId": "b1aa25c8-5d52-4a5c-c22a-4112ace7d7b3"
   },
   "source": [
    "# from google.colab import files\n",
    "# files.download('/content/savedmodels.zip')\n",
    "#"
   ],
   "execution_count": 165,
   "outputs": [
    {
     "output_type": "display_data",
     "data": {
      "application/javascript": [
       "\n",
       "    async function download(id, filename, size) {\n",
       "      if (!google.colab.kernel.accessAllowed) {\n",
       "        return;\n",
       "      }\n",
       "      const div = document.createElement('div');\n",
       "      const label = document.createElement('label');\n",
       "      label.textContent = `Downloading \"${filename}\": `;\n",
       "      div.appendChild(label);\n",
       "      const progress = document.createElement('progress');\n",
       "      progress.max = size;\n",
       "      div.appendChild(progress);\n",
       "      document.body.appendChild(div);\n",
       "\n",
       "      const buffers = [];\n",
       "      let downloaded = 0;\n",
       "\n",
       "      const channel = await google.colab.kernel.comms.open(id);\n",
       "      // Send a message to notify the kernel that we're ready.\n",
       "      channel.send({})\n",
       "\n",
       "      for await (const message of channel.messages) {\n",
       "        // Send a message to notify the kernel that we're ready.\n",
       "        channel.send({})\n",
       "        if (message.buffers) {\n",
       "          for (const buffer of message.buffers) {\n",
       "            buffers.push(buffer);\n",
       "            downloaded += buffer.byteLength;\n",
       "            progress.value = downloaded;\n",
       "          }\n",
       "        }\n",
       "      }\n",
       "      const blob = new Blob(buffers, {type: 'application/binary'});\n",
       "      const a = document.createElement('a');\n",
       "      a.href = window.URL.createObjectURL(blob);\n",
       "      a.download = filename;\n",
       "      div.appendChild(a);\n",
       "      a.click();\n",
       "      div.remove();\n",
       "    }\n",
       "  "
      ],
      "text/plain": [
       "<IPython.core.display.Javascript object>"
      ]
     },
     "metadata": {}
    },
    {
     "output_type": "display_data",
     "data": {
      "application/javascript": [
       "download(\"download_499a6587-2d75-41d4-818e-8e32c694ff74\", \"savedmodels.zip\", 46834272)"
      ],
      "text/plain": [
       "<IPython.core.display.Javascript object>"
      ]
     },
     "metadata": {}
    }
   ]
  },
  {
   "cell_type": "code",
   "metadata": {
    "id": "-ENZECOqmito",
    "executionInfo": {
     "status": "ok",
     "timestamp": 1638888096193,
     "user_tz": 300,
     "elapsed": 7,
     "user": {
      "displayName": "Andrew Ning",
      "photoUrl": "https://lh3.googleusercontent.com/a-/AOh14GgyUiXynCeybWnGTpfHnOSTarAoJjvj-8rK8oxkzQ=s64",
      "userId": "04097743773373129918"
     }
    }
   },
   "source": [
    "# # %reload_ext tensorboard\n",
    "# # %tensorboard --logdir logs\n",
    "#"
   ],
   "execution_count": 160,
   "outputs": []
  },
  {
   "cell_type": "code",
   "metadata": {
    "colab": {
     "base_uri": "https://localhost:8080/"
    },
    "id": "idbVWjbyrtNm",
    "executionInfo": {
     "status": "ok",
     "timestamp": 1638888326137,
     "user_tz": 300,
     "elapsed": 9,
     "user": {
      "displayName": "Andrew Ning",
      "photoUrl": "https://lh3.googleusercontent.com/a-/AOh14GgyUiXynCeybWnGTpfHnOSTarAoJjvj-8rK8oxkzQ=s64",
      "userId": "04097743773373129918"
     }
    },
    "outputId": "e6dc2524-dad4-4bf4-f213-d0c2be5b0181"
   },
   "source": [
    "# # !rm logs.zip\n",
    "# !zip -r /content/logs.zip /content/logs\n",
    "#"
   ],
   "execution_count": 166,
   "outputs": [
    {
     "output_type": "stream",
     "name": "stdout",
     "text": [
      "  adding: content/logs/ (stored 0%)\n",
      "  adding: content/logs/model1-1-RETRAIN-EN/ (stored 0%)\n",
      "  adding: content/logs/model1-1-RETRAIN-EN/train/ (stored 0%)\n",
      "  adding: content/logs/model1-1-RETRAIN-EN/train/events.out.tfevents.1638887909.56958702cbb5.85.30.v2 (deflated 86%)\n",
      "  adding: content/logs/model1-1-RETRAIN-EN/validation/ (stored 0%)\n",
      "  adding: content/logs/model1-1-RETRAIN-EN/validation/events.out.tfevents.1638887910.56958702cbb5.85.31.v2 (deflated 80%)\n",
      "  adding: content/logs/model1-1-RETRAIN-ES/ (stored 0%)\n",
      "  adding: content/logs/model1-1-RETRAIN-ES/train/ (stored 0%)\n",
      "  adding: content/logs/model1-1-RETRAIN-ES/train/events.out.tfevents.1638887943.56958702cbb5.85.32.v2 (deflated 86%)\n",
      "  adding: content/logs/model1-1-RETRAIN-ES/validation/ (stored 0%)\n",
      "  adding: content/logs/model1-1-RETRAIN-ES/validation/events.out.tfevents.1638887944.56958702cbb5.85.33.v2 (deflated 80%)\n",
      "  adding: content/logs/model1-1-RETRAIN-FR/ (stored 0%)\n",
      "  adding: content/logs/model1-1-RETRAIN-FR/train/ (stored 0%)\n",
      "  adding: content/logs/model1-1-RETRAIN-FR/train/events.out.tfevents.1638887981.56958702cbb5.85.34.v2 (deflated 86%)\n",
      "  adding: content/logs/model1-1-RETRAIN-FR/validation/ (stored 0%)\n",
      "  adding: content/logs/model1-1-RETRAIN-FR/validation/events.out.tfevents.1638887982.56958702cbb5.85.35.v2 (deflated 80%)\n",
      "  adding: content/logs/model1-1-FULL-CA/ (stored 0%)\n",
      "  adding: content/logs/model1-1-FULL-CA/train/ (stored 0%)\n",
      "  adding: content/logs/model1-1-FULL-CA/train/events.out.tfevents.1638887867.56958702cbb5.85.28.v2 (deflated 86%)\n",
      "  adding: content/logs/model1-1-FULL-CA/validation/ (stored 0%)\n",
      "  adding: content/logs/model1-1-FULL-CA/validation/events.out.tfevents.1638887868.56958702cbb5.85.29.v2 (deflated 80%)\n",
      "  adding: content/logs/model1-1-RETRAIN-DE/ (stored 0%)\n",
      "  adding: content/logs/model1-1-RETRAIN-DE/train/ (stored 0%)\n",
      "  adding: content/logs/model1-1-RETRAIN-DE/train/events.out.tfevents.1638888019.56958702cbb5.85.36.v2 (deflated 86%)\n",
      "  adding: content/logs/model1-1-RETRAIN-DE/validation/ (stored 0%)\n",
      "  adding: content/logs/model1-1-RETRAIN-DE/validation/events.out.tfevents.1638888020.56958702cbb5.85.37.v2 (deflated 80%)\n",
      "  adding: content/logs/model1-1-FULL-EN/ (stored 0%)\n",
      "  adding: content/logs/model1-1-FULL-EN/train/ (stored 0%)\n",
      "  adding: content/logs/model1-1-FULL-EN/train/events.out.tfevents.1638887729.56958702cbb5.85.20.v2 (deflated 87%)\n",
      "  adding: content/logs/model1-1-FULL-EN/validation/ (stored 0%)\n",
      "  adding: content/logs/model1-1-FULL-EN/validation/events.out.tfevents.1638887730.56958702cbb5.85.21.v2 (deflated 81%)\n",
      "  adding: content/logs/model1-1-FULL-FR/ (stored 0%)\n",
      "  adding: content/logs/model1-1-FULL-FR/train/ (stored 0%)\n",
      "  adding: content/logs/model1-1-FULL-FR/train/events.out.tfevents.1638887790.56958702cbb5.85.24.v2 (deflated 86%)\n",
      "  adding: content/logs/model1-1-FULL-FR/validation/ (stored 0%)\n",
      "  adding: content/logs/model1-1-FULL-FR/validation/events.out.tfevents.1638887792.56958702cbb5.85.25.v2 (deflated 80%)\n",
      "  adding: content/logs/model1-1-RETRAIN-CA/ (stored 0%)\n",
      "  adding: content/logs/model1-1-RETRAIN-CA/train/ (stored 0%)\n",
      "  adding: content/logs/model1-1-RETRAIN-CA/train/events.out.tfevents.1638888056.56958702cbb5.85.38.v2 (deflated 86%)\n",
      "  adding: content/logs/model1-1-RETRAIN-CA/validation/ (stored 0%)\n",
      "  adding: content/logs/model1-1-RETRAIN-CA/validation/events.out.tfevents.1638888057.56958702cbb5.85.39.v2 (deflated 80%)\n",
      "  adding: content/logs/model1-1-FULL-ES/ (stored 0%)\n",
      "  adding: content/logs/model1-1-FULL-ES/train/ (stored 0%)\n",
      "  adding: content/logs/model1-1-FULL-ES/train/events.out.tfevents.1638887751.56958702cbb5.85.22.v2 (deflated 86%)\n",
      "  adding: content/logs/model1-1-FULL-ES/validation/ (stored 0%)\n",
      "  adding: content/logs/model1-1-FULL-ES/validation/events.out.tfevents.1638887753.56958702cbb5.85.23.v2 (deflated 81%)\n",
      "  adding: content/logs/model1-1-FULL-DE/ (stored 0%)\n",
      "  adding: content/logs/model1-1-FULL-DE/train/ (stored 0%)\n",
      "  adding: content/logs/model1-1-FULL-DE/train/events.out.tfevents.1638887828.56958702cbb5.85.26.v2 (deflated 86%)\n",
      "  adding: content/logs/model1-1-FULL-DE/validation/ (stored 0%)\n",
      "  adding: content/logs/model1-1-FULL-DE/validation/events.out.tfevents.1638887830.56958702cbb5.85.27.v2 (deflated 80%)\n"
     ]
    }
   ]
  },
  {
   "cell_type": "code",
   "metadata": {
    "colab": {
     "base_uri": "https://localhost:8080/",
     "height": 17
    },
    "id": "5CRsc2gVriJf",
    "executionInfo": {
     "status": "ok",
     "timestamp": 1638888510767,
     "user_tz": 300,
     "elapsed": 157,
     "user": {
      "displayName": "Andrew Ning",
      "photoUrl": "https://lh3.googleusercontent.com/a-/AOh14GgyUiXynCeybWnGTpfHnOSTarAoJjvj-8rK8oxkzQ=s64",
      "userId": "04097743773373129918"
     }
    },
    "outputId": "aca8c181-6d8d-468d-db60-9e27efb4c504"
   },
   "source": [
    "# from google.colab import files\n",
    "# files.download('/content/logs.zip')"
   ],
   "execution_count": 168,
   "outputs": [
    {
     "output_type": "display_data",
     "data": {
      "application/javascript": [
       "\n",
       "    async function download(id, filename, size) {\n",
       "      if (!google.colab.kernel.accessAllowed) {\n",
       "        return;\n",
       "      }\n",
       "      const div = document.createElement('div');\n",
       "      const label = document.createElement('label');\n",
       "      label.textContent = `Downloading \"${filename}\": `;\n",
       "      div.appendChild(label);\n",
       "      const progress = document.createElement('progress');\n",
       "      progress.max = size;\n",
       "      div.appendChild(progress);\n",
       "      document.body.appendChild(div);\n",
       "\n",
       "      const buffers = [];\n",
       "      let downloaded = 0;\n",
       "\n",
       "      const channel = await google.colab.kernel.comms.open(id);\n",
       "      // Send a message to notify the kernel that we're ready.\n",
       "      channel.send({})\n",
       "\n",
       "      for await (const message of channel.messages) {\n",
       "        // Send a message to notify the kernel that we're ready.\n",
       "        channel.send({})\n",
       "        if (message.buffers) {\n",
       "          for (const buffer of message.buffers) {\n",
       "            buffers.push(buffer);\n",
       "            downloaded += buffer.byteLength;\n",
       "            progress.value = downloaded;\n",
       "          }\n",
       "        }\n",
       "      }\n",
       "      const blob = new Blob(buffers, {type: 'application/binary'});\n",
       "      const a = document.createElement('a');\n",
       "      a.href = window.URL.createObjectURL(blob);\n",
       "      a.download = filename;\n",
       "      div.appendChild(a);\n",
       "      a.click();\n",
       "      div.remove();\n",
       "    }\n",
       "  "
      ],
      "text/plain": [
       "<IPython.core.display.Javascript object>"
      ]
     },
     "metadata": {}
    },
    {
     "output_type": "display_data",
     "data": {
      "application/javascript": [
       "download(\"download_f3e18968-cd09-4b41-b13b-99ad708064e0\", \"logs.zip\", 243678)"
      ],
      "text/plain": [
       "<IPython.core.display.Javascript object>"
      ]
     },
     "metadata": {}
    }
   ]
  }
 ]
}