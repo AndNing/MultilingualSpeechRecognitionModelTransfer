{
 "nbformat": 4,
 "nbformat_minor": 0,
 "metadata": {
  "kernelspec": {
   "display_name": "Python 3",
   "language": "python",
   "name": "python3"
  },
  "language_info": {
   "codemirror_mode": {
    "name": "ipython",
    "version": 2
   },
   "file_extension": ".py",
   "mimetype": "text/x-python",
   "name": "python",
   "nbconvert_exporter": "python",
   "pygments_lexer": "ipython2",
   "version": "2.7.6"
  },
  "colab": {
   "name": "model3.ipynb",
   "provenance": [],
   "collapsed_sections": [],
   "machine_shape": "hm"
  },
  "accelerator": "GPU"
 },
 "cells": [
  {
   "cell_type": "code",
   "metadata": {
    "id": "FBGMX2iE87o7",
    "colab": {
     "base_uri": "https://localhost:8080/"
    },
    "executionInfo": {
     "status": "ok",
     "timestamp": 1638882423110,
     "user_tz": 300,
     "elapsed": 23774,
     "user": {
      "displayName": "Andrew Ning",
      "photoUrl": "https://lh3.googleusercontent.com/a-/AOh14GgyUiXynCeybWnGTpfHnOSTarAoJjvj-8rK8oxkzQ=s64",
      "userId": "04097743773373129918"
     }
    },
    "outputId": "726b0362-bff4-48ce-9c82-eee92408372d"
   },
   "source": [
    "# from google.colab import drive\n",
    "# drive.mount('/content/drive', force_remount=True)"
   ],
   "execution_count": null,
   "outputs": [
    {
     "output_type": "stream",
     "name": "stdout",
     "text": [
      "Mounted at /content/drive\n"
     ]
    }
   ]
  },
  {
   "cell_type": "code",
   "metadata": {
    "id": "QjBzZQLO9A6b"
   },
   "source": [
    "# !cp '/content/drive/MyDrive/spectrograms.zip' ."
   ],
   "execution_count": null,
   "outputs": []
  },
  {
   "cell_type": "code",
   "metadata": {
    "id": "1Gm_dvHm-c-t"
   },
   "source": [
    "# !unzip -q spectrograms.zip"
   ],
   "execution_count": null,
   "outputs": []
  },
  {
   "cell_type": "code",
   "metadata": {
    "id": "uRg8Jcd4d0uU"
   },
   "source": [
    "# !pip list"
   ],
   "execution_count": null,
   "outputs": []
  },
  {
   "cell_type": "code",
   "metadata": {
    "id": "tJaFtYtmK2QN",
    "colab": {
     "base_uri": "https://localhost:8080/"
    },
    "executionInfo": {
     "status": "ok",
     "timestamp": 1638882466805,
     "user_tz": 300,
     "elapsed": 20,
     "user": {
      "displayName": "Andrew Ning",
      "photoUrl": "https://lh3.googleusercontent.com/a-/AOh14GgyUiXynCeybWnGTpfHnOSTarAoJjvj-8rK8oxkzQ=s64",
      "userId": "04097743773373129918"
     }
    },
    "outputId": "4a36b302-7a6a-405f-bb87-6f0f332c2b2b"
   },
   "source": [
    "# !rm -r /content/logs"
   ],
   "execution_count": null,
   "outputs": [
    {
     "output_type": "stream",
     "name": "stdout",
     "text": [
      "rm: cannot remove '/content/logs': No such file or directory\n"
     ]
    }
   ]
  },
  {
   "cell_type": "code",
   "metadata": {
    "pycharm": {
     "name": "#%%\n"
    },
    "id": "y6UkqZY085Tn"
   },
   "source": [
    "import keras.callbacks\n",
    "import tensorflow as tf\n",
    "import numpy as np\n",
    "from sklearn.preprocessing import StandardScaler\n",
    "import matplotlib.pyplot as plt\n",
    "from tensorflow.keras.utils import Sequence\n",
    "import math\n",
    "import pandas as pd\n",
    "import random\n",
    "from tensorflow.keras import models, layers, callbacks, activations\n",
    "\n",
    "import librosa\n",
    "import librosa.display\n",
    "\n",
    "import warnings\n",
    "\n",
    "import pickle\n",
    "\n",
    "AUTOTUNE = tf.data.AUTOTUNE\n",
    "\n",
    "# tf.config.run_functions_eagerly(True)"
   ],
   "execution_count": null,
   "outputs": []
  },
  {
   "cell_type": "code",
   "metadata": {
    "collapsed": true,
    "id": "SmkFFn7Q85Tr"
   },
   "source": [
    "SAMPLE_RATE = 24000\n",
    "FREQ_SIZE = 188\n",
    "SECONDS = 4\n",
    "\n",
    "N_MFCC = 100\n",
    "\n",
    "BATCH_SIZE_TRAIN = 50\n",
    "BATCH_SIZE_TEST = 1\n",
    "BATCH_SIZE_VAL = 50\n",
    "EPOCHS = 75\n",
    "\n",
    "NUM_TRAIN = 1500\n",
    "NUM_VAL = 500\n",
    "NUM_TEST = 250\n",
    "\n",
    "STEPS_PER_EPOCH = NUM_TRAIN // BATCH_SIZE_TRAIN\n",
    "\n",
    "NUM_LANGUAGES = 1\n",
    "LANGUAGES = ['EN','ES','FR']\n",
    "\n",
    "LOG_DIR = \"/content/logs/model\" + str(NUM_LANGUAGES) + \"-\"\n",
    "\n",
    "SEED = 0\n",
    "tf.random.set_seed(SEED)\n",
    "np.random.seed(SEED)\n",
    "\n",
    "LEARNING_RATE = 0.0001"
   ],
   "execution_count": null,
   "outputs": []
  },
  {
   "cell_type": "code",
   "metadata": {
    "id": "3i2so4138Y8K"
   },
   "source": [
    "BASE_DIR_EN = '/content/spectrograms/en/clips/'\n",
    "TRAIN_PATH_EN = '/content/spectrograms/en/train.tsv'\n",
    "TEST_PATH_EN = '/content/spectrograms/en/test.tsv'\n",
    "VAL_PATH_EN = '/content/spectrograms/en/val.tsv'\n",
    "\n",
    "NUM_TRAIN_EN = NUM_TRAIN\n",
    "NUM_VAL_EN = NUM_VAL\n",
    "NUM_TEST_EN = NUM_TEST\n",
    "\n",
    "LABELS_EN = ['zero','one','two','three','four','five','six','seven','eight','nine','ten','Hey','yes','no','Firefox']\n",
    "NUM_LABELS_EN = len(LABELS_EN)"
   ],
   "execution_count": null,
   "outputs": []
  },
  {
   "cell_type": "code",
   "metadata": {
    "id": "Ff44tQaq90MK"
   },
   "source": [
    "BASE_DIR_ES = '/content/spectrograms/es/clips/'\n",
    "TRAIN_PATH_ES = '/content/spectrograms/es/train.tsv'\n",
    "TEST_PATH_ES = '/content/spectrograms/es/test.tsv'\n",
    "VAL_PATH_ES = '/content/spectrograms/es/val.tsv'\n",
    "\n",
    "NUM_TRAIN_ES = NUM_TRAIN\n",
    "NUM_VAL_ES = NUM_VAL\n",
    "NUM_TEST_ES = NUM_TEST\n",
    "\n",
    "LABELS_ES = ['cero','cinco','cuatro','dos','Firefox','Hey','no','neuve','ocho','seis','siete','tres','uno','sí']\n",
    "NUM_LABELS_ES = len(LABELS_ES)"
   ],
   "execution_count": null,
   "outputs": []
  },
  {
   "cell_type": "code",
   "metadata": {
    "id": "i2habfC7v2d1"
   },
   "source": [
    "BASE_DIR_FR = '/content/spectrograms/fr/clips/'\n",
    "TRAIN_PATH_FR = '/content/spectrograms/fr/train.tsv'\n",
    "TEST_PATH_FR = '/content/spectrograms/fr/test.tsv'\n",
    "VAL_PATH_FR = '/content/spectrograms/fr/val.tsv'\n",
    "\n",
    "NUM_TRAIN_FR = NUM_TRAIN\n",
    "NUM_VAL_FR = NUM_VAL\n",
    "NUM_TEST_FR = NUM_TEST\n",
    "\n",
    "LABELS_FR = ['zéro','un','deux','trois','quatre','cinq','six','sept','huit','neuf','dix','Hey','oui','non','Firefox']\n",
    "NUM_LABELS_FR = len(LABELS_FR)"
   ],
   "execution_count": null,
   "outputs": []
  },
  {
   "cell_type": "code",
   "metadata": {
    "pycharm": {
     "name": "#%%\n"
    },
    "id": "UAgyKnOC85Ts"
   },
   "source": [
    "def padaudio(waveform):\n",
    "    if (len(waveform) >= SAMPLE_RATE * SECONDS):\n",
    "        return waveform\n",
    "    else:\n",
    "        return np.pad(waveform,(0,SAMPLE_RATE * SECONDS - len(waveform)),mode='constant', constant_values=(0,0))\n",
    "\n",
    "# def processdata(file):\n",
    "#     waveform,sample_rate = librosa.load(file, SAMPLE_RATE)\n",
    "#     waveform = padaudio(waveform)\n",
    "#     mfccs = librosa.feature.mfcc(waveform,sr=sample_rate,n_mfcc=N_MFCC)\n",
    "#     mfccs = np.moveaxis(mfccs,1,0)\n",
    "#     scaler = StandardScaler()\n",
    "#     mfccs_scaled = scaler.fit_transform(mfccs)\n",
    "#     return mfccs_scaled.reshape(mfccs_scaled.shape[0], mfccs_scaled.shape[1],1)\n",
    "\n",
    "def processdata(file):\n",
    "  filename = file.split(\".\")[0] + '.pkl'\n",
    "  with open(filename,'rb') as f:\n",
    "    spectrogram = pickle.load(f)\n",
    "\n",
    "  return spectrogram"
   ],
   "execution_count": null,
   "outputs": []
  },
  {
   "cell_type": "code",
   "metadata": {
    "pycharm": {
     "name": "#%%\n"
    },
    "id": "Wd1vyGP585Tt"
   },
   "source": [
    "def getlabel(onehot,labels):\n",
    "    index = np.argmax(onehot)\n",
    "    label = labels[index]\n",
    "    return label\n",
    "\n",
    "def getonehot(label,labels):\n",
    "    onehot = np.array([1 if x == label else 0 for x in labels])\n",
    "    return onehot"
   ],
   "execution_count": null,
   "outputs": []
  },
  {
   "cell_type": "code",
   "metadata": {
    "pycharm": {
     "name": "#%%\n"
    },
    "id": "CvKOaLpA85Tt"
   },
   "source": [
    "def getdata(df,base_dir):\n",
    "    df['fullpath'] = base_dir + df['path']\n",
    "    inputs = df['fullpath'].tolist()\n",
    "    labels = df['sentence'].tolist()\n",
    "    x = np.array(inputs)\n",
    "    y = np.array(labels)\n",
    "    return x,y"
   ],
   "execution_count": null,
   "outputs": []
  },
  {
   "cell_type": "code",
   "metadata": {
    "pycharm": {
     "name": "#%%\n"
    },
    "id": "vdTuxSsg85Tu",
    "colab": {
     "base_uri": "https://localhost:8080/"
    },
    "executionInfo": {
     "status": "ok",
     "timestamp": 1638882651823,
     "user_tz": 300,
     "elapsed": 24,
     "user": {
      "displayName": "Andrew Ning",
      "photoUrl": "https://lh3.googleusercontent.com/a-/AOh14GgyUiXynCeybWnGTpfHnOSTarAoJjvj-8rK8oxkzQ=s64",
      "userId": "04097743773373129918"
     }
    },
    "outputId": "a1bcc4e0-0ab6-4de2-b891-5e6e19a3bd00"
   },
   "source": [
    "dftrainEN = pd.read_csv(TRAIN_PATH_EN, sep='\\t', header=0)\n",
    "dftrainEN.sort_values(by='length',ascending=False,inplace=True)\n",
    "trainxEN,trainyEN, = getdata(dftrainEN.head(NUM_TRAIN_EN), BASE_DIR_EN)\n",
    "\n",
    "dfvalEN = pd.read_csv(VAL_PATH_EN, sep='\\t', header=0)\n",
    "dfvalEN.sort_values(by='length',ascending=False,inplace=True)\n",
    "valxEN,valyEN, = getdata(dfvalEN.head(NUM_VAL_EN), BASE_DIR_EN)\n",
    "\n",
    "dftestEN = pd.read_csv(TEST_PATH_EN, sep='\\t', header=0)\n",
    "dftestEN.sort_values(by='length',ascending=False,inplace=True)\n",
    "testxEN,testyEN, = getdata(dftestEN.head(NUM_TEST_EN), BASE_DIR_EN)"
   ],
   "execution_count": null,
   "outputs": [
    {
     "output_type": "stream",
     "name": "stderr",
     "text": [
      "/usr/local/lib/python3.7/dist-packages/ipykernel_launcher.py:2: SettingWithCopyWarning: \n",
      "A value is trying to be set on a copy of a slice from a DataFrame.\n",
      "Try using .loc[row_indexer,col_indexer] = value instead\n",
      "\n",
      "See the caveats in the documentation: https://pandas.pydata.org/pandas-docs/stable/user_guide/indexing.html#returning-a-view-versus-a-copy\n",
      "  \n"
     ]
    }
   ]
  },
  {
   "cell_type": "code",
   "metadata": {
    "colab": {
     "base_uri": "https://localhost:8080/"
    },
    "id": "PegcKx9pA_Ps",
    "executionInfo": {
     "status": "ok",
     "timestamp": 1638882651824,
     "user_tz": 300,
     "elapsed": 22,
     "user": {
      "displayName": "Andrew Ning",
      "photoUrl": "https://lh3.googleusercontent.com/a-/AOh14GgyUiXynCeybWnGTpfHnOSTarAoJjvj-8rK8oxkzQ=s64",
      "userId": "04097743773373129918"
     }
    },
    "outputId": "9976d280-dac8-4cdd-b9c6-2ec26aafa810"
   },
   "source": [
    "dftrainES = pd.read_csv(TRAIN_PATH_ES, sep='\\t', header=0)\n",
    "dftrainES.sort_values(by='length',ascending=False,inplace=True)\n",
    "trainxES,trainyES, = getdata(dftrainES.head(NUM_TRAIN_ES), BASE_DIR_ES)\n",
    "\n",
    "dfvalES = pd.read_csv(VAL_PATH_ES, sep='\\t', header=0)\n",
    "dfvalES.sort_values(by='length',ascending=False,inplace=True)\n",
    "valxES,valyES, = getdata(dfvalES.head(NUM_VAL_ES), BASE_DIR_ES)\n",
    "\n",
    "dftestES = pd.read_csv(TEST_PATH_ES, sep='\\t', header=0)\n",
    "dftestES.sort_values(by='length',ascending=False,inplace=True)\n",
    "testxES,testyES, = getdata(dftestES.head(NUM_TEST_ES), BASE_DIR_ES)"
   ],
   "execution_count": null,
   "outputs": [
    {
     "output_type": "stream",
     "name": "stderr",
     "text": [
      "/usr/local/lib/python3.7/dist-packages/ipykernel_launcher.py:2: SettingWithCopyWarning: \n",
      "A value is trying to be set on a copy of a slice from a DataFrame.\n",
      "Try using .loc[row_indexer,col_indexer] = value instead\n",
      "\n",
      "See the caveats in the documentation: https://pandas.pydata.org/pandas-docs/stable/user_guide/indexing.html#returning-a-view-versus-a-copy\n",
      "  \n"
     ]
    }
   ]
  },
  {
   "cell_type": "code",
   "metadata": {
    "colab": {
     "base_uri": "https://localhost:8080/"
    },
    "id": "Admk-a7W9hUr",
    "executionInfo": {
     "status": "ok",
     "timestamp": 1638882651824,
     "user_tz": 300,
     "elapsed": 17,
     "user": {
      "displayName": "Andrew Ning",
      "photoUrl": "https://lh3.googleusercontent.com/a-/AOh14GgyUiXynCeybWnGTpfHnOSTarAoJjvj-8rK8oxkzQ=s64",
      "userId": "04097743773373129918"
     }
    },
    "outputId": "dbc2dd50-240f-418e-bf08-2563f3985aa8"
   },
   "source": [
    "dftrainFR = pd.read_csv(TRAIN_PATH_FR, sep='\\t', header=0)\n",
    "dftrainFR.sort_values(by='length',ascending=False,inplace=True)\n",
    "trainxFR,trainyFR, = getdata(dftrainFR.head(NUM_TRAIN_FR), BASE_DIR_FR)\n",
    "\n",
    "dfvalFR = pd.read_csv(VAL_PATH_FR, sep='\\t', header=0)\n",
    "dfvalFR.sort_values(by='length',ascending=False,inplace=True)\n",
    "valxFR,valyFR, = getdata(dfvalFR.head(NUM_VAL_FR), BASE_DIR_FR)\n",
    "\n",
    "dftestFR = pd.read_csv(TEST_PATH_FR, sep='\\t', header=0)\n",
    "dftestFR.sort_values(by='length',ascending=False,inplace=True)\n",
    "testxFR,testyFR, = getdata(dftestFR.head(NUM_TEST_FR), BASE_DIR_FR)"
   ],
   "execution_count": null,
   "outputs": [
    {
     "output_type": "stream",
     "name": "stderr",
     "text": [
      "/usr/local/lib/python3.7/dist-packages/ipykernel_launcher.py:2: SettingWithCopyWarning: \n",
      "A value is trying to be set on a copy of a slice from a DataFrame.\n",
      "Try using .loc[row_indexer,col_indexer] = value instead\n",
      "\n",
      "See the caveats in the documentation: https://pandas.pydata.org/pandas-docs/stable/user_guide/indexing.html#returning-a-view-versus-a-copy\n",
      "  \n"
     ]
    }
   ]
  },
  {
   "cell_type": "code",
   "metadata": {
    "pycharm": {
     "name": "#%%\n"
    },
    "id": "IXRZtWYf85Tv"
   },
   "source": [
    "def maketraingenerator(trainxs, trainys):\n",
    "    def traingenerator():\n",
    "        for i in range(len(trainxEN)):\n",
    "            xs = []\n",
    "            ys = []\n",
    "\n",
    "            for trainx,trainy in zip(trainxs,trainys):\n",
    "                with warnings.catch_warnings():\n",
    "                    warnings.simplefilter(\"ignore\")\n",
    "                    xs.append(processdata(trainx[i]))\n",
    "                ys.append(getonehot(trainy[0][i],trainy[1]))\n",
    "\n",
    "            xst = tuple(xs)\n",
    "            yst = tuple(ys)\n",
    "            yield xst,yst\n",
    "    return traingenerator\n",
    "\n",
    "\n",
    "xtypes = tuple([tf.float32]*NUM_LANGUAGES)\n",
    "ytypes = tuple([tf.int32]*NUM_LANGUAGES)\n",
    "traingentypes = (xtypes,ytypes)\n",
    "\n",
    "xshapes = tuple([[FREQ_SIZE,N_MFCC,1] for i in range(NUM_LANGUAGES)])\n",
    "yshapes = tuple([[15]])\n",
    "traingenshapes = (xshapes,yshapes)"
   ],
   "execution_count": null,
   "outputs": []
  },
  {
   "cell_type": "code",
   "metadata": {
    "id": "40szilg8_TG6"
   },
   "source": [
    "def makevalgenerator(trainxs, trainys):\n",
    "    def traingenerator():\n",
    "        for i in range(len(valxEN)):\n",
    "            xs = []\n",
    "            ys = []\n",
    "\n",
    "            for trainx,trainy in zip(trainxs,trainys):\n",
    "                with warnings.catch_warnings():\n",
    "                    warnings.simplefilter(\"ignore\")\n",
    "                    xs.append(processdata(trainx[i]))\n",
    "                ys.append(getonehot(trainy[0][i],trainy[1]))\n",
    "\n",
    "            xst = tuple(xs)\n",
    "            yst = tuple(ys)\n",
    "            yield xst,yst\n",
    "    return traingenerator"
   ],
   "execution_count": null,
   "outputs": []
  },
  {
   "cell_type": "code",
   "metadata": {
    "pycharm": {
     "name": "#%%\n"
    },
    "id": "gb0sxUFY85Tw"
   },
   "source": [
    "trainxsEN = [trainxEN]\n",
    "trainysEN = [[trainyEN,LABELS_EN]]\n",
    "\n",
    "trainxsES = [trainxES]\n",
    "trainysES = [[trainyES,LABELS_ES]]\n",
    "\n",
    "trainxsFR = [trainxFR]\n",
    "trainysFR = [[trainyFR,LABELS_FR]]\n",
    "\n",
    "valxsEN = [valxEN]\n",
    "valysEN = [[valyEN,LABELS_EN]]\n",
    "\n",
    "valxsES = [valxES]\n",
    "valysES = [[valyES,LABELS_ES]]\n",
    "\n",
    "valxsFR = [valxFR]\n",
    "valysFR = [[valyFR,LABELS_FR]]"
   ],
   "execution_count": null,
   "outputs": []
  },
  {
   "cell_type": "code",
   "metadata": {
    "id": "SuvKKqKMs0kK"
   },
   "source": [
    "# print(trainxEN[100])"
   ],
   "execution_count": null,
   "outputs": []
  },
  {
   "cell_type": "code",
   "metadata": {
    "pycharm": {
     "name": "#%%\n"
    },
    "id": "k0QV3oAw85Tx"
   },
   "source": [
    "def maketestgenerator(testx,testy,labels):\n",
    "    def testgenerator():\n",
    "        for i in range(len(testx)):\n",
    "            x = processdata(testx[i])\n",
    "            y = getonehot(testy[i],labels)\n",
    "            yield x,y\n",
    "    return testgenerator\n",
    "\n",
    "testgentypes = (tf.float32,tf.int32)\n",
    "testgenshapes = ([FREQ_SIZE,N_MFCC,1],[15])"
   ],
   "execution_count": null,
   "outputs": []
  },
  {
   "cell_type": "code",
   "metadata": {
    "pycharm": {
     "name": "#%%\n"
    },
    "id": "5sgBUQOu85Tx"
   },
   "source": [
    "traindatasetEN = tf.data.Dataset.from_generator(maketraingenerator(trainxsEN,trainysEN),output_types=traingentypes,output_shapes=traingenshapes)\n",
    "traindatasetEN = traindatasetEN.shuffle(NUM_TRAIN_EN)\n",
    "traindatasetEN = traindatasetEN.batch(BATCH_SIZE_TRAIN)\n",
    "traindatasetEN = traindatasetEN.repeat(-1)\n",
    "traindatasetEN = traindatasetEN.cache().prefetch(AUTOTUNE)\n",
    "\n",
    "valdatasetEN = tf.data.Dataset.from_generator(makevalgenerator(valxsEN,valysEN),output_types=traingentypes,output_shapes=traingenshapes)\n",
    "valdatasetEN = valdatasetEN.batch(BATCH_SIZE_VAL)\n",
    "valdatasetEN = valdatasetEN.cache().prefetch(AUTOTUNE)\n",
    "\n",
    "testdatasetEN = tf.data.Dataset.from_generator(maketestgenerator(testxEN,testyEN,LABELS_EN),output_types=testgentypes,output_shapes=testgenshapes)\n",
    "testdatasetEN = testdatasetEN.batch(BATCH_SIZE_TEST)"
   ],
   "execution_count": null,
   "outputs": []
  },
  {
   "cell_type": "code",
   "metadata": {
    "id": "ya1v-ubLzxE5"
   },
   "source": [
    "traindatasetES = tf.data.Dataset.from_generator(maketraingenerator(trainxsES,trainysES),output_types=traingentypes,output_shapes=(xshapes,tuple([[14]])))\n",
    "traindatasetES = traindatasetES.shuffle(NUM_TRAIN_ES)\n",
    "traindatasetES = traindatasetES.batch(BATCH_SIZE_TRAIN)\n",
    "traindatasetES = traindatasetES.repeat(-1)\n",
    "traindatasetES = traindatasetES.cache().prefetch(AUTOTUNE)\n",
    "\n",
    "valdatasetES = tf.data.Dataset.from_generator(makevalgenerator(valxsES,valysES),output_types=traingentypes,output_shapes=(xshapes,tuple([[14]])))\n",
    "valdatasetES = valdatasetES.batch(BATCH_SIZE_VAL)\n",
    "valdatasetES = valdatasetES.cache().prefetch(AUTOTUNE)\n",
    "\n",
    "testdatasetES = tf.data.Dataset.from_generator(maketestgenerator(testxES,testyES,LABELS_ES),output_types=testgentypes,output_shapes=([FREQ_SIZE,N_MFCC,1],[14]))\n",
    "testdatasetES = testdatasetES.batch(BATCH_SIZE_TEST)"
   ],
   "execution_count": null,
   "outputs": []
  },
  {
   "cell_type": "code",
   "metadata": {
    "id": "STNOB6Gh91ML"
   },
   "source": [
    "traindatasetFR = tf.data.Dataset.from_generator(maketraingenerator(trainxsFR,trainysFR),output_types=traingentypes,output_shapes=(xshapes,tuple([[15]])))\n",
    "traindatasetFR = traindatasetFR.shuffle(NUM_TRAIN_FR)\n",
    "traindatasetFR = traindatasetFR.batch(BATCH_SIZE_TRAIN)\n",
    "traindatasetFR = traindatasetFR.repeat(-1)\n",
    "traindatasetFR = traindatasetFR.cache().prefetch(AUTOTUNE)\n",
    "\n",
    "valdatasetFR = tf.data.Dataset.from_generator(makevalgenerator(valxsFR,valysFR),output_types=traingentypes,output_shapes=(xshapes,tuple([[15]])))\n",
    "valdatasetFR = valdatasetFR.batch(BATCH_SIZE_VAL)\n",
    "valdatasetFR = valdatasetFR.cache().prefetch(AUTOTUNE)\n",
    "\n",
    "testdatasetFR = tf.data.Dataset.from_generator(maketestgenerator(testxFR,testyFR,LABELS_FR),output_types=testgentypes,output_shapes=([FREQ_SIZE,N_MFCC,1],[15]))\n",
    "testdatasetFR = testdatasetFR.batch(BATCH_SIZE_TEST)"
   ],
   "execution_count": null,
   "outputs": []
  },
  {
   "cell_type": "code",
   "metadata": {
    "id": "zXLxNEpWJeqc"
   },
   "source": [
    "# print(trainxs)"
   ],
   "execution_count": null,
   "outputs": []
  },
  {
   "cell_type": "code",
   "metadata": {
    "pycharm": {
     "name": "#%%\n"
    },
    "id": "2BeWG7Df85Ty"
   },
   "source": [
    "# traingen = maketraingenerator(trainxs,trainys)\n",
    "# print(next(traingen()))\n",
    "\n",
    "# print(traingentypes)\n",
    "# print(traingenshapes)"
   ],
   "execution_count": null,
   "outputs": []
  },
  {
   "cell_type": "code",
   "metadata": {
    "pycharm": {
     "name": "#%%\n"
    },
    "id": "9KmIBbT285Ty"
   },
   "source": [
    "def languagelayers(num_labels,language):\n",
    "        lang = keras.Sequential([\n",
    "        layers.Conv2D(filters=128, kernel_size=(3,3), strides=(1,1), padding='same', activation=activations.relu, name=language+'_Conv2D1'),\n",
    "        layers.MaxPooling2D(pool_size=(2,2), strides=(2,2), name=language+'_MaxPool2D1'),\n",
    "        # layers.Conv2D(filters=512, kernel_size=(3,3), padding='same', activation=activations.relu, name=language+'_Conv2D2'),\n",
    "        # layers.MaxPooling2D(pool_size=(3,3), strides=(2,2), name=language+'_MaxPool2D2'),\n",
    "        layers.Flatten(),\n",
    "        layers.Dropout(0.5),\n",
    "        layers.Dense(128, activation=activations.relu, name=language+'_DenseLayer1'),\n",
    "        layers.Dropout(0.5),\n",
    "        layers.Dense(128, activation=activations.relu, name=language+'_DenseLayer2'),\n",
    "        layers.Dropout(0.5),\n",
    "        layers.Dense(num_labels, activation=activations.softmax, name=language+'_Output')\n",
    "        ],\n",
    "        name=language)\n",
    "\n",
    "        return lang"
   ],
   "execution_count": null,
   "outputs": []
  },
  {
   "cell_type": "code",
   "metadata": {
    "pycharm": {
     "name": "#%%\n"
    },
    "id": "kSoyQRYb85Ty",
    "colab": {
     "base_uri": "https://localhost:8080/",
     "height": 1000
    },
    "executionInfo": {
     "status": "ok",
     "timestamp": 1638882653143,
     "user_tz": 300,
     "elapsed": 1044,
     "user": {
      "displayName": "Andrew Ning",
      "photoUrl": "https://lh3.googleusercontent.com/a-/AOh14GgyUiXynCeybWnGTpfHnOSTarAoJjvj-8rK8oxkzQ=s64",
      "userId": "04097743773373129918"
     }
    },
    "outputId": "08fb901f-2867-4370-aea5-a3bfd09e9b7a"
   },
   "source": [
    "inputEN = tf.keras.Input(shape=(FREQ_SIZE,N_MFCC,1),name='EN_Input')\n",
    "inputES = tf.keras.Input(shape=(FREQ_SIZE,N_MFCC,1),name='ES_Input')\n",
    "inputFR = tf.keras.Input(shape=(FREQ_SIZE,N_MFCC,1),name='FR_Input')\n",
    "\n",
    "shared = keras.Sequential([\n",
    "    layers.Conv2D(filters=32, kernel_size=(9,9), strides=(2,2), padding='same', activation=activations.relu, name='Shared_Conv2D1'),\n",
    "    layers.MaxPooling2D(pool_size=(3,3), strides=(2,2), name='Shared_MaxPool2D1'),\n",
    "    layers.Conv2D(filters=64, kernel_size=(5,5), strides=(1,1), padding='same', activation=activations.relu, name='Shared_Conv2D2'),\n",
    "    layers.MaxPooling2D(pool_size=(3,3), strides=(2,2), name='Shared_MaxPool2D2'),\n",
    "    layers.Conv2D(filters=128, kernel_size=(3,3), strides=(1,1), padding='same', activation=activations.relu, name='Shared_Conv2D3'),\n",
    "    layers.MaxPooling2D(pool_size=(3,3), strides=(2,2), name='Shared_MaxPool2D3')\n",
    "    ],\n",
    "    name='Shared_Layers'\n",
    ")\n",
    "\n",
    "sharedLayersEN = shared(inputEN)\n",
    "sharedLayersES = shared(inputES)\n",
    "sharedLayersFR = shared(inputFR)\n",
    "\n",
    "layersEN = languagelayers(NUM_LABELS_EN,'EN')(sharedLayersEN)\n",
    "layersES = languagelayers(NUM_LABELS_ES,'ES')(sharedLayersES)\n",
    "layersFR = languagelayers(NUM_LABELS_FR,'FR')(sharedLayersFR)\n",
    "\n",
    "\n",
    "modelFullEN = tf.keras.Model(\n",
    "    inputs=[inputEN],\n",
    "    outputs=[layersEN],\n",
    "    name='Full_Model_EN'\n",
    ")\n",
    "\n",
    "\n",
    "modelFullEN.summary(expand_nested=True)\n",
    "tf.keras.utils.plot_model(modelFullEN, expand_nested=True)"
   ],
   "execution_count": null,
   "outputs": [
    {
     "output_type": "stream",
     "name": "stdout",
     "text": [
      "Model: \"Full_Model_EN\"\n",
      "_________________________________________________________________\n",
      " Layer (type)                Output Shape              Param #   \n",
      "=================================================================\n",
      " EN_Input (InputLayer)       [(None, 188, 100, 1)]     0         \n",
      "                                                                 \n",
      " Shared_Layers (Sequential)  (None, 10, 5, 128)        127744    \n",
      "|¯¯¯¯¯¯¯¯¯¯¯¯¯¯¯¯¯¯¯¯¯¯¯¯¯¯¯¯¯¯¯¯¯¯¯¯¯¯¯¯¯¯¯¯¯¯¯¯¯¯¯¯¯¯¯¯¯¯¯¯¯¯¯|\n",
      "| Shared_Conv2D1 (Conv2D)   (None, 94, 50, 32)        2624      |\n",
      "|                                                               |\n",
      "| Shared_MaxPool2D1 (MaxPooli  (None, 46, 24, 32)     0         |\n",
      "| ng2D)                                                         |\n",
      "|                                                               |\n",
      "| Shared_Conv2D2 (Conv2D)   (None, 46, 24, 64)        51264     |\n",
      "|                                                               |\n",
      "| Shared_MaxPool2D2 (MaxPooli  (None, 22, 11, 64)     0         |\n",
      "| ng2D)                                                         |\n",
      "|                                                               |\n",
      "| Shared_Conv2D3 (Conv2D)   (None, 22, 11, 128)       73856     |\n",
      "|                                                               |\n",
      "| Shared_MaxPool2D3 (MaxPooli  (None, 10, 5, 128)     0         |\n",
      "| ng2D)                                                         |\n",
      "¯¯¯¯¯¯¯¯¯¯¯¯¯¯¯¯¯¯¯¯¯¯¯¯¯¯¯¯¯¯¯¯¯¯¯¯¯¯¯¯¯¯¯¯¯¯¯¯¯¯¯¯¯¯¯¯¯¯¯¯¯¯¯¯¯\n",
      " EN (Sequential)             (None, 15)                329999    \n",
      "|¯¯¯¯¯¯¯¯¯¯¯¯¯¯¯¯¯¯¯¯¯¯¯¯¯¯¯¯¯¯¯¯¯¯¯¯¯¯¯¯¯¯¯¯¯¯¯¯¯¯¯¯¯¯¯¯¯¯¯¯¯¯¯|\n",
      "| EN_Conv2D1 (Conv2D)       (None, 10, 5, 128)        147584    |\n",
      "|                                                               |\n",
      "| EN_MaxPool2D1 (MaxPooling2D  (None, 5, 2, 128)      0         |\n",
      "| )                                                             |\n",
      "|                                                               |\n",
      "| flatten_9 (Flatten)       (None, 1280)              0         |\n",
      "|                                                               |\n",
      "| dropout_27 (Dropout)      (None, 1280)              0         |\n",
      "|                                                               |\n",
      "| EN_DenseLayer1 (Dense)    (None, 128)               163968    |\n",
      "|                                                               |\n",
      "| dropout_28 (Dropout)      (None, 128)               0         |\n",
      "|                                                               |\n",
      "| EN_DenseLayer2 (Dense)    (None, 128)               16512     |\n",
      "|                                                               |\n",
      "| dropout_29 (Dropout)      (None, 128)               0         |\n",
      "|                                                               |\n",
      "| EN_Output (Dense)         (None, 15)                1935      |\n",
      "¯¯¯¯¯¯¯¯¯¯¯¯¯¯¯¯¯¯¯¯¯¯¯¯¯¯¯¯¯¯¯¯¯¯¯¯¯¯¯¯¯¯¯¯¯¯¯¯¯¯¯¯¯¯¯¯¯¯¯¯¯¯¯¯¯\n",
      "=================================================================\n",
      "Total params: 457,743\n",
      "Trainable params: 457,743\n",
      "Non-trainable params: 0\n",
      "_________________________________________________________________\n"
     ]
    },
    {
     "output_type": "execute_result",
     "data": {
      "image/png": "[encoded data removed]",
      "text/plain": [
       "<IPython.core.display.Image object>"
      ]
     },
     "metadata": {},
     "execution_count": 102
    }
   ]
  },
  {
   "cell_type": "code",
   "metadata": {
    "pycharm": {
     "name": "#%%\n"
    },
    "id": "uvjPm55685Tz"
   },
   "source": [
    "modelFullEN.compile(\n",
    "    optimizer = tf.keras.optimizers.Adam(learning_rate=LEARNING_RATE),\n",
    "    loss=[tf.keras.losses.CategoricalCrossentropy()],\n",
    "    metrics=[tf.keras.metrics.CategoricalAccuracy(name='Categorical_Accuracy'), tf.keras.metrics.AUC(name='AUC')]\n",
    ")"
   ],
   "execution_count": null,
   "outputs": []
  },
  {
   "cell_type": "code",
   "metadata": {
    "pycharm": {
     "name": "#%%\n"
    },
    "id": "5YAH8cIR85Tz"
   },
   "source": [
    "RUN = '1'\n",
    "\n",
    "ext = '-FULL-EN'\n",
    "\n",
    "training_callbackFULLEN = callbacks.TensorBoard(log_dir=LOG_DIR + RUN + ext)\n",
    "reduce_lr_callback = callbacks.ReduceLROnPlateau(monitor='val_loss', factor=0.2, patience=3,min_lr=1e-5,verbose=1)\n",
    "earlystopping_callback = tf.keras.callbacks.EarlyStopping(monitor='val_loss', patience=5)"
   ],
   "execution_count": null,
   "outputs": []
  },
  {
   "cell_type": "code",
   "metadata": {
    "id": "qm15HqLnLXFH"
   },
   "source": [
    "# model.predict(testdatasetEN)"
   ],
   "execution_count": null,
   "outputs": []
  },
  {
   "cell_type": "code",
   "metadata": {
    "pycharm": {
     "name": "#%%\n",
     "is_executing": true
    },
    "id": "Zjfl1oxd85Tz",
    "colab": {
     "base_uri": "https://localhost:8080/"
    },
    "executionInfo": {
     "status": "ok",
     "timestamp": 1638882720870,
     "user_tz": 300,
     "elapsed": 67732,
     "user": {
      "displayName": "Andrew Ning",
      "photoUrl": "https://lh3.googleusercontent.com/a-/AOh14GgyUiXynCeybWnGTpfHnOSTarAoJjvj-8rK8oxkzQ=s64",
      "userId": "04097743773373129918"
     }
    },
    "outputId": "d15d4333-4512-4933-94ce-f35eb4a06c27"
   },
   "source": [
    "historyEN = modelFullEN.fit(\n",
    "    x = traindatasetEN,\n",
    "    validation_data = valdatasetEN,\n",
    "    epochs=EPOCHS,\n",
    "    steps_per_epoch=STEPS_PER_EPOCH,\n",
    "    callbacks=[training_callbackFULLEN,earlystopping_callback,reduce_lr_callback],\n",
    "    verbose=1\n",
    ")\n"
   ],
   "execution_count": null,
   "outputs": [
    {
     "output_type": "stream",
     "name": "stdout",
     "text": [
      "Epoch 1/75\n",
      "26/30 [=========================>....] - ETA: 0s - loss: 2.7583 - Categorical_Accuracy: 0.0669 - AUC: 0.5059WARNING:tensorflow:6 out of the last 13 calls to <function Model.make_test_function.<locals>.test_function at 0x7f19b7d028c0> triggered tf.function retracing. Tracing is expensive and the excessive number of tracings could be due to (1) creating @tf.function repeatedly in a loop, (2) passing tensors with different shapes, (3) passing Python objects instead of tensors. For (1), please define your @tf.function outside of the loop. For (2), @tf.function has experimental_relax_shapes=True option that relaxes argument shapes that can avoid unnecessary retracing. For (3), please refer to https://www.tensorflow.org/guide/function#controlling_retracing and https://www.tensorflow.org/api_docs/python/tf/function for  more details.\n",
      "30/30 [==============================] - 3s 46ms/step - loss: 2.7556 - Categorical_Accuracy: 0.0653 - AUC: 0.5038 - val_loss: 2.6960 - val_Categorical_Accuracy: 0.1060 - val_AUC: 0.5499 - lr: 1.0000e-04\n",
      "Epoch 2/75\n",
      "30/30 [==============================] - 1s 14ms/step - loss: 2.7049 - Categorical_Accuracy: 0.0893 - AUC: 0.5296 - val_loss: 2.6956 - val_Categorical_Accuracy: 0.1060 - val_AUC: 0.5544 - lr: 1.0000e-04\n",
      "Epoch 3/75\n",
      "30/30 [==============================] - 1s 14ms/step - loss: 2.6995 - Categorical_Accuracy: 0.0900 - AUC: 0.5370 - val_loss: 2.6928 - val_Categorical_Accuracy: 0.1060 - val_AUC: 0.5582 - lr: 1.0000e-04\n",
      "Epoch 4/75\n",
      "30/30 [==============================] - 1s 14ms/step - loss: 2.6974 - Categorical_Accuracy: 0.0987 - AUC: 0.5393 - val_loss: 2.6880 - val_Categorical_Accuracy: 0.1060 - val_AUC: 0.5613 - lr: 1.0000e-04\n",
      "Epoch 5/75\n",
      "30/30 [==============================] - 1s 17ms/step - loss: 2.6843 - Categorical_Accuracy: 0.1053 - AUC: 0.5623 - val_loss: 2.6826 - val_Categorical_Accuracy: 0.1060 - val_AUC: 0.5495 - lr: 1.0000e-04\n",
      "Epoch 6/75\n",
      "30/30 [==============================] - 1s 16ms/step - loss: 2.6868 - Categorical_Accuracy: 0.1120 - AUC: 0.5538 - val_loss: 2.6816 - val_Categorical_Accuracy: 0.1060 - val_AUC: 0.5512 - lr: 1.0000e-04\n",
      "Epoch 7/75\n",
      "30/30 [==============================] - 1s 16ms/step - loss: 2.6872 - Categorical_Accuracy: 0.1073 - AUC: 0.5520 - val_loss: 2.6793 - val_Categorical_Accuracy: 0.1060 - val_AUC: 0.5673 - lr: 1.0000e-04\n",
      "Epoch 8/75\n",
      "30/30 [==============================] - 1s 18ms/step - loss: 2.6858 - Categorical_Accuracy: 0.1060 - AUC: 0.5572 - val_loss: 2.6763 - val_Categorical_Accuracy: 0.1060 - val_AUC: 0.5553 - lr: 1.0000e-04\n",
      "Epoch 9/75\n",
      "30/30 [==============================] - 1s 15ms/step - loss: 2.6774 - Categorical_Accuracy: 0.1220 - AUC: 0.5591 - val_loss: 2.6727 - val_Categorical_Accuracy: 0.1060 - val_AUC: 0.5621 - lr: 1.0000e-04\n",
      "Epoch 10/75\n",
      "30/30 [==============================] - 1s 16ms/step - loss: 2.6839 - Categorical_Accuracy: 0.1120 - AUC: 0.5464 - val_loss: 2.6740 - val_Categorical_Accuracy: 0.1060 - val_AUC: 0.5531 - lr: 1.0000e-04\n",
      "Epoch 11/75\n",
      "30/30 [==============================] - 1s 16ms/step - loss: 2.6767 - Categorical_Accuracy: 0.1100 - AUC: 0.5560 - val_loss: 2.6704 - val_Categorical_Accuracy: 0.1060 - val_AUC: 0.5577 - lr: 1.0000e-04\n",
      "Epoch 12/75\n",
      "30/30 [==============================] - 1s 16ms/step - loss: 2.6772 - Categorical_Accuracy: 0.1140 - AUC: 0.5554 - val_loss: 2.6737 - val_Categorical_Accuracy: 0.1060 - val_AUC: 0.5571 - lr: 1.0000e-04\n",
      "Epoch 13/75\n",
      "30/30 [==============================] - 1s 15ms/step - loss: 2.6722 - Categorical_Accuracy: 0.1147 - AUC: 0.5663 - val_loss: 2.6689 - val_Categorical_Accuracy: 0.1060 - val_AUC: 0.5584 - lr: 1.0000e-04\n",
      "Epoch 14/75\n",
      "30/30 [==============================] - 1s 15ms/step - loss: 2.6646 - Categorical_Accuracy: 0.1240 - AUC: 0.5688 - val_loss: 2.6683 - val_Categorical_Accuracy: 0.1060 - val_AUC: 0.5558 - lr: 1.0000e-04\n",
      "Epoch 15/75\n",
      "30/30 [==============================] - 1s 16ms/step - loss: 2.6758 - Categorical_Accuracy: 0.1093 - AUC: 0.5551 - val_loss: 2.6683 - val_Categorical_Accuracy: 0.1060 - val_AUC: 0.5562 - lr: 1.0000e-04\n",
      "Epoch 16/75\n",
      "30/30 [==============================] - 1s 15ms/step - loss: 2.6694 - Categorical_Accuracy: 0.1153 - AUC: 0.5631 - val_loss: 2.6691 - val_Categorical_Accuracy: 0.1060 - val_AUC: 0.5533 - lr: 1.0000e-04\n",
      "Epoch 17/75\n",
      "30/30 [==============================] - 1s 16ms/step - loss: 2.6589 - Categorical_Accuracy: 0.1240 - AUC: 0.5697 - val_loss: 2.6636 - val_Categorical_Accuracy: 0.1060 - val_AUC: 0.5652 - lr: 1.0000e-04\n",
      "Epoch 18/75\n",
      "30/30 [==============================] - 1s 16ms/step - loss: 2.6683 - Categorical_Accuracy: 0.1140 - AUC: 0.5576 - val_loss: 2.6651 - val_Categorical_Accuracy: 0.1060 - val_AUC: 0.5647 - lr: 1.0000e-04\n",
      "Epoch 19/75\n",
      "30/30 [==============================] - 1s 16ms/step - loss: 2.6519 - Categorical_Accuracy: 0.1220 - AUC: 0.5801 - val_loss: 2.6594 - val_Categorical_Accuracy: 0.1060 - val_AUC: 0.5626 - lr: 1.0000e-04\n",
      "Epoch 20/75\n",
      "30/30 [==============================] - 1s 16ms/step - loss: 2.6594 - Categorical_Accuracy: 0.1193 - AUC: 0.5657 - val_loss: 2.6587 - val_Categorical_Accuracy: 0.1060 - val_AUC: 0.5640 - lr: 1.0000e-04\n",
      "Epoch 21/75\n",
      "30/30 [==============================] - 1s 15ms/step - loss: 2.6515 - Categorical_Accuracy: 0.1227 - AUC: 0.5772 - val_loss: 2.6547 - val_Categorical_Accuracy: 0.1060 - val_AUC: 0.5561 - lr: 1.0000e-04\n",
      "Epoch 22/75\n",
      "30/30 [==============================] - 1s 15ms/step - loss: 2.6423 - Categorical_Accuracy: 0.1240 - AUC: 0.5841 - val_loss: 2.6519 - val_Categorical_Accuracy: 0.1060 - val_AUC: 0.5593 - lr: 1.0000e-04\n",
      "Epoch 23/75\n",
      "30/30 [==============================] - 1s 15ms/step - loss: 2.6442 - Categorical_Accuracy: 0.1233 - AUC: 0.5811 - val_loss: 2.6494 - val_Categorical_Accuracy: 0.1060 - val_AUC: 0.5774 - lr: 1.0000e-04\n",
      "Epoch 24/75\n",
      "30/30 [==============================] - 1s 16ms/step - loss: 2.6427 - Categorical_Accuracy: 0.1253 - AUC: 0.5811 - val_loss: 2.6423 - val_Categorical_Accuracy: 0.1060 - val_AUC: 0.5867 - lr: 1.0000e-04\n",
      "Epoch 25/75\n",
      "30/30 [==============================] - 1s 16ms/step - loss: 2.6368 - Categorical_Accuracy: 0.1267 - AUC: 0.5833 - val_loss: 2.6394 - val_Categorical_Accuracy: 0.1060 - val_AUC: 0.5901 - lr: 1.0000e-04\n",
      "Epoch 26/75\n",
      "30/30 [==============================] - 1s 15ms/step - loss: 2.6172 - Categorical_Accuracy: 0.1260 - AUC: 0.5979 - val_loss: 2.6232 - val_Categorical_Accuracy: 0.1060 - val_AUC: 0.6012 - lr: 1.0000e-04\n",
      "Epoch 27/75\n",
      "30/30 [==============================] - 1s 16ms/step - loss: 2.6202 - Categorical_Accuracy: 0.1287 - AUC: 0.5990 - val_loss: 2.6150 - val_Categorical_Accuracy: 0.1120 - val_AUC: 0.6090 - lr: 1.0000e-04\n",
      "Epoch 28/75\n",
      "30/30 [==============================] - 1s 16ms/step - loss: 2.5959 - Categorical_Accuracy: 0.1287 - AUC: 0.6136 - val_loss: 2.5974 - val_Categorical_Accuracy: 0.1060 - val_AUC: 0.6317 - lr: 1.0000e-04\n",
      "Epoch 29/75\n",
      "30/30 [==============================] - 1s 16ms/step - loss: 2.5997 - Categorical_Accuracy: 0.1413 - AUC: 0.6092 - val_loss: 2.5910 - val_Categorical_Accuracy: 0.1440 - val_AUC: 0.6386 - lr: 1.0000e-04\n",
      "Epoch 30/75\n",
      "30/30 [==============================] - 1s 16ms/step - loss: 2.5738 - Categorical_Accuracy: 0.1500 - AUC: 0.6273 - val_loss: 2.5647 - val_Categorical_Accuracy: 0.1180 - val_AUC: 0.6434 - lr: 1.0000e-04\n",
      "Epoch 31/75\n",
      "30/30 [==============================] - 1s 15ms/step - loss: 2.5550 - Categorical_Accuracy: 0.1520 - AUC: 0.6353 - val_loss: 2.5320 - val_Categorical_Accuracy: 0.1420 - val_AUC: 0.6911 - lr: 1.0000e-04\n",
      "Epoch 32/75\n",
      "30/30 [==============================] - 1s 16ms/step - loss: 2.5118 - Categorical_Accuracy: 0.1540 - AUC: 0.6529 - val_loss: 2.4983 - val_Categorical_Accuracy: 0.1540 - val_AUC: 0.7098 - lr: 1.0000e-04\n",
      "Epoch 33/75\n",
      "30/30 [==============================] - 1s 16ms/step - loss: 2.4876 - Categorical_Accuracy: 0.1753 - AUC: 0.6619 - val_loss: 2.4806 - val_Categorical_Accuracy: 0.1480 - val_AUC: 0.7030 - lr: 1.0000e-04\n",
      "Epoch 34/75\n",
      "30/30 [==============================] - 1s 16ms/step - loss: 2.4597 - Categorical_Accuracy: 0.1767 - AUC: 0.6813 - val_loss: 2.4323 - val_Categorical_Accuracy: 0.1600 - val_AUC: 0.7243 - lr: 1.0000e-04\n",
      "Epoch 35/75\n",
      "30/30 [==============================] - 1s 18ms/step - loss: 2.4745 - Categorical_Accuracy: 0.1807 - AUC: 0.6760 - val_loss: 2.4404 - val_Categorical_Accuracy: 0.1760 - val_AUC: 0.7490 - lr: 1.0000e-04\n",
      "Epoch 36/75\n",
      "30/30 [==============================] - 1s 16ms/step - loss: 2.4124 - Categorical_Accuracy: 0.1960 - AUC: 0.6983 - val_loss: 2.3746 - val_Categorical_Accuracy: 0.1800 - val_AUC: 0.7523 - lr: 1.0000e-04\n",
      "Epoch 37/75\n",
      "30/30 [==============================] - 1s 16ms/step - loss: 2.3590 - Categorical_Accuracy: 0.2173 - AUC: 0.7236 - val_loss: 2.3474 - val_Categorical_Accuracy: 0.1660 - val_AUC: 0.7518 - lr: 1.0000e-04\n",
      "Epoch 38/75\n",
      "30/30 [==============================] - 1s 15ms/step - loss: 2.3390 - Categorical_Accuracy: 0.2147 - AUC: 0.7280 - val_loss: 2.3223 - val_Categorical_Accuracy: 0.2200 - val_AUC: 0.7571 - lr: 1.0000e-04\n",
      "Epoch 39/75\n",
      "30/30 [==============================] - 1s 16ms/step - loss: 2.3058 - Categorical_Accuracy: 0.2180 - AUC: 0.7405 - val_loss: 2.2890 - val_Categorical_Accuracy: 0.2260 - val_AUC: 0.7717 - lr: 1.0000e-04\n",
      "Epoch 40/75\n",
      "30/30 [==============================] - 1s 16ms/step - loss: 2.3027 - Categorical_Accuracy: 0.2213 - AUC: 0.7453 - val_loss: 2.2573 - val_Categorical_Accuracy: 0.2300 - val_AUC: 0.7781 - lr: 1.0000e-04\n",
      "Epoch 41/75\n",
      "30/30 [==============================] - 1s 15ms/step - loss: 2.2509 - Categorical_Accuracy: 0.2300 - AUC: 0.7596 - val_loss: 2.2437 - val_Categorical_Accuracy: 0.2400 - val_AUC: 0.7798 - lr: 1.0000e-04\n",
      "Epoch 42/75\n",
      "30/30 [==============================] - 1s 16ms/step - loss: 2.2409 - Categorical_Accuracy: 0.2433 - AUC: 0.7609 - val_loss: 2.2214 - val_Categorical_Accuracy: 0.2600 - val_AUC: 0.7957 - lr: 1.0000e-04\n",
      "Epoch 43/75\n",
      "30/30 [==============================] - 1s 15ms/step - loss: 2.2273 - Categorical_Accuracy: 0.2507 - AUC: 0.7677 - val_loss: 2.2286 - val_Categorical_Accuracy: 0.2380 - val_AUC: 0.7779 - lr: 1.0000e-04\n",
      "Epoch 44/75\n",
      "30/30 [==============================] - 1s 16ms/step - loss: 2.1820 - Categorical_Accuracy: 0.2607 - AUC: 0.7798 - val_loss: 2.1645 - val_Categorical_Accuracy: 0.2740 - val_AUC: 0.8023 - lr: 1.0000e-04\n",
      "Epoch 45/75\n",
      "30/30 [==============================] - 1s 16ms/step - loss: 2.1433 - Categorical_Accuracy: 0.2680 - AUC: 0.7905 - val_loss: 2.1354 - val_Categorical_Accuracy: 0.2900 - val_AUC: 0.8064 - lr: 1.0000e-04\n",
      "Epoch 46/75\n",
      "30/30 [==============================] - 1s 16ms/step - loss: 2.1319 - Categorical_Accuracy: 0.2667 - AUC: 0.7940 - val_loss: 2.1122 - val_Categorical_Accuracy: 0.3060 - val_AUC: 0.8165 - lr: 1.0000e-04\n",
      "Epoch 47/75\n",
      "30/30 [==============================] - 1s 16ms/step - loss: 2.1409 - Categorical_Accuracy: 0.2880 - AUC: 0.7930 - val_loss: 2.1327 - val_Categorical_Accuracy: 0.2880 - val_AUC: 0.8078 - lr: 1.0000e-04\n",
      "Epoch 48/75\n",
      "30/30 [==============================] - 1s 16ms/step - loss: 2.1405 - Categorical_Accuracy: 0.2627 - AUC: 0.7949 - val_loss: 2.0852 - val_Categorical_Accuracy: 0.3140 - val_AUC: 0.8231 - lr: 1.0000e-04\n",
      "Epoch 49/75\n",
      "30/30 [==============================] - 1s 16ms/step - loss: 2.0523 - Categorical_Accuracy: 0.2967 - AUC: 0.8155 - val_loss: 2.0370 - val_Categorical_Accuracy: 0.3220 - val_AUC: 0.8308 - lr: 1.0000e-04\n",
      "Epoch 50/75\n",
      "30/30 [==============================] - 1s 15ms/step - loss: 2.0424 - Categorical_Accuracy: 0.3013 - AUC: 0.8175 - val_loss: 2.0180 - val_Categorical_Accuracy: 0.3480 - val_AUC: 0.8372 - lr: 1.0000e-04\n",
      "Epoch 51/75\n",
      "30/30 [==============================] - 1s 16ms/step - loss: 2.0139 - Categorical_Accuracy: 0.2967 - AUC: 0.8268 - val_loss: 1.9918 - val_Categorical_Accuracy: 0.3340 - val_AUC: 0.8445 - lr: 1.0000e-04\n",
      "Epoch 52/75\n",
      "30/30 [==============================] - 1s 16ms/step - loss: 1.9978 - Categorical_Accuracy: 0.3087 - AUC: 0.8290 - val_loss: 1.9756 - val_Categorical_Accuracy: 0.3560 - val_AUC: 0.8490 - lr: 1.0000e-04\n",
      "Epoch 53/75\n",
      "30/30 [==============================] - 1s 15ms/step - loss: 1.9396 - Categorical_Accuracy: 0.3300 - AUC: 0.8430 - val_loss: 1.9635 - val_Categorical_Accuracy: 0.3400 - val_AUC: 0.8445 - lr: 1.0000e-04\n",
      "Epoch 54/75\n",
      "30/30 [==============================] - 1s 16ms/step - loss: 1.9464 - Categorical_Accuracy: 0.3320 - AUC: 0.8396 - val_loss: 1.9205 - val_Categorical_Accuracy: 0.3680 - val_AUC: 0.8591 - lr: 1.0000e-04\n",
      "Epoch 55/75\n",
      "30/30 [==============================] - 1s 16ms/step - loss: 1.8992 - Categorical_Accuracy: 0.3400 - AUC: 0.8503 - val_loss: 1.9264 - val_Categorical_Accuracy: 0.3620 - val_AUC: 0.8513 - lr: 1.0000e-04\n",
      "Epoch 56/75\n",
      "30/30 [==============================] - 1s 16ms/step - loss: 1.8820 - Categorical_Accuracy: 0.3327 - AUC: 0.8563 - val_loss: 1.8629 - val_Categorical_Accuracy: 0.3900 - val_AUC: 0.8674 - lr: 1.0000e-04\n",
      "Epoch 57/75\n",
      "30/30 [==============================] - 1s 15ms/step - loss: 1.8283 - Categorical_Accuracy: 0.3520 - AUC: 0.8673 - val_loss: 1.7987 - val_Categorical_Accuracy: 0.4020 - val_AUC: 0.8780 - lr: 1.0000e-04\n",
      "Epoch 58/75\n",
      "30/30 [==============================] - 1s 16ms/step - loss: 1.8170 - Categorical_Accuracy: 0.3820 - AUC: 0.8683 - val_loss: 1.8267 - val_Categorical_Accuracy: 0.3920 - val_AUC: 0.8703 - lr: 1.0000e-04\n",
      "Epoch 59/75\n",
      "30/30 [==============================] - 1s 16ms/step - loss: 1.7526 - Categorical_Accuracy: 0.3800 - AUC: 0.8808 - val_loss: 1.7654 - val_Categorical_Accuracy: 0.4220 - val_AUC: 0.8840 - lr: 1.0000e-04\n",
      "Epoch 60/75\n",
      "30/30 [==============================] - 1s 15ms/step - loss: 1.7440 - Categorical_Accuracy: 0.3940 - AUC: 0.8800 - val_loss: 1.7675 - val_Categorical_Accuracy: 0.4120 - val_AUC: 0.8768 - lr: 1.0000e-04\n",
      "Epoch 61/75\n",
      "30/30 [==============================] - 1s 16ms/step - loss: 1.6904 - Categorical_Accuracy: 0.4047 - AUC: 0.8890 - val_loss: 1.6955 - val_Categorical_Accuracy: 0.4260 - val_AUC: 0.8921 - lr: 1.0000e-04\n",
      "Epoch 62/75\n",
      "30/30 [==============================] - 1s 16ms/step - loss: 1.6884 - Categorical_Accuracy: 0.4047 - AUC: 0.8895 - val_loss: 1.7190 - val_Categorical_Accuracy: 0.4180 - val_AUC: 0.8860 - lr: 1.0000e-04\n",
      "Epoch 63/75\n",
      "30/30 [==============================] - 1s 16ms/step - loss: 1.6274 - Categorical_Accuracy: 0.4247 - AUC: 0.8996 - val_loss: 1.6494 - val_Categorical_Accuracy: 0.4500 - val_AUC: 0.8974 - lr: 1.0000e-04\n",
      "Epoch 64/75\n",
      "30/30 [==============================] - 1s 16ms/step - loss: 1.6173 - Categorical_Accuracy: 0.4180 - AUC: 0.9010 - val_loss: 1.6245 - val_Categorical_Accuracy: 0.4460 - val_AUC: 0.9021 - lr: 1.0000e-04\n",
      "Epoch 65/75\n",
      "30/30 [==============================] - 1s 16ms/step - loss: 1.5551 - Categorical_Accuracy: 0.4447 - AUC: 0.9092 - val_loss: 1.6166 - val_Categorical_Accuracy: 0.4380 - val_AUC: 0.9007 - lr: 1.0000e-04\n",
      "Epoch 66/75\n",
      "30/30 [==============================] - 1s 15ms/step - loss: 1.5414 - Categorical_Accuracy: 0.4640 - AUC: 0.9105 - val_loss: 1.5512 - val_Categorical_Accuracy: 0.4700 - val_AUC: 0.9125 - lr: 1.0000e-04\n",
      "Epoch 67/75\n",
      "30/30 [==============================] - 1s 16ms/step - loss: 1.5144 - Categorical_Accuracy: 0.4473 - AUC: 0.9152 - val_loss: 1.5478 - val_Categorical_Accuracy: 0.4700 - val_AUC: 0.9094 - lr: 1.0000e-04\n",
      "Epoch 68/75\n",
      "30/30 [==============================] - 1s 16ms/step - loss: 1.5019 - Categorical_Accuracy: 0.4600 - AUC: 0.9156 - val_loss: 1.5281 - val_Categorical_Accuracy: 0.4780 - val_AUC: 0.9143 - lr: 1.0000e-04\n",
      "Epoch 69/75\n",
      "30/30 [==============================] - 1s 16ms/step - loss: 1.4937 - Categorical_Accuracy: 0.4600 - AUC: 0.9195 - val_loss: 1.4956 - val_Categorical_Accuracy: 0.4840 - val_AUC: 0.9176 - lr: 1.0000e-04\n",
      "Epoch 70/75\n",
      "30/30 [==============================] - 1s 16ms/step - loss: 1.4203 - Categorical_Accuracy: 0.4660 - AUC: 0.9273 - val_loss: 1.4717 - val_Categorical_Accuracy: 0.4860 - val_AUC: 0.9205 - lr: 1.0000e-04\n",
      "Epoch 71/75\n",
      "30/30 [==============================] - 1s 16ms/step - loss: 1.3967 - Categorical_Accuracy: 0.4840 - AUC: 0.9300 - val_loss: 1.4444 - val_Categorical_Accuracy: 0.4860 - val_AUC: 0.9227 - lr: 1.0000e-04\n",
      "Epoch 72/75\n",
      "30/30 [==============================] - 1s 16ms/step - loss: 1.3918 - Categorical_Accuracy: 0.4940 - AUC: 0.9298 - val_loss: 1.4595 - val_Categorical_Accuracy: 0.4840 - val_AUC: 0.9209 - lr: 1.0000e-04\n",
      "Epoch 73/75\n",
      "30/30 [==============================] - 1s 16ms/step - loss: 1.3528 - Categorical_Accuracy: 0.5007 - AUC: 0.9342 - val_loss: 1.4605 - val_Categorical_Accuracy: 0.4960 - val_AUC: 0.9213 - lr: 1.0000e-04\n",
      "Epoch 74/75\n",
      "30/30 [==============================] - 1s 16ms/step - loss: 1.3310 - Categorical_Accuracy: 0.5127 - AUC: 0.9369 - val_loss: 1.4336 - val_Categorical_Accuracy: 0.5100 - val_AUC: 0.9235 - lr: 1.0000e-04\n",
      "Epoch 75/75\n",
      "30/30 [==============================] - 1s 16ms/step - loss: 1.3319 - Categorical_Accuracy: 0.5200 - AUC: 0.9361 - val_loss: 1.4085 - val_Categorical_Accuracy: 0.5000 - val_AUC: 0.9284 - lr: 1.0000e-04\n"
     ]
    }
   ]
  },
  {
   "cell_type": "code",
   "metadata": {
    "id": "lZ-Sded68uYj"
   },
   "source": [
    "# print(modelFullEN.layers[-2].weights)"
   ],
   "execution_count": null,
   "outputs": []
  },
  {
   "cell_type": "code",
   "metadata": {
    "colab": {
     "base_uri": "https://localhost:8080/",
     "height": 1000
    },
    "id": "2HmPZNeX2kra",
    "executionInfo": {
     "status": "ok",
     "timestamp": 1638882721844,
     "user_tz": 300,
     "elapsed": 986,
     "user": {
      "displayName": "Andrew Ning",
      "photoUrl": "https://lh3.googleusercontent.com/a-/AOh14GgyUiXynCeybWnGTpfHnOSTarAoJjvj-8rK8oxkzQ=s64",
      "userId": "04097743773373129918"
     }
    },
    "outputId": "b8e41560-7f7c-4ca0-e067-5cd399879fb4"
   },
   "source": [
    "modelFullES = tf.keras.Model(\n",
    "    inputs=[inputES],\n",
    "    outputs=[layersES],\n",
    "    name='Full_Model_ES'\n",
    ")\n",
    "\n",
    "modelFullES.summary(expand_nested=True)\n",
    "tf.keras.utils.plot_model(modelFullES, expand_nested=True)"
   ],
   "execution_count": null,
   "outputs": [
    {
     "output_type": "stream",
     "name": "stdout",
     "text": [
      "Model: \"Full_Model_ES\"\n",
      "_________________________________________________________________\n",
      " Layer (type)                Output Shape              Param #   \n",
      "=================================================================\n",
      " ES_Input (InputLayer)       [(None, 188, 100, 1)]     0         \n",
      "                                                                 \n",
      " Shared_Layers (Sequential)  (None, 10, 5, 128)        127744    \n",
      "|¯¯¯¯¯¯¯¯¯¯¯¯¯¯¯¯¯¯¯¯¯¯¯¯¯¯¯¯¯¯¯¯¯¯¯¯¯¯¯¯¯¯¯¯¯¯¯¯¯¯¯¯¯¯¯¯¯¯¯¯¯¯¯|\n",
      "| Shared_Conv2D1 (Conv2D)   (None, 94, 50, 32)        2624      |\n",
      "|                                                               |\n",
      "| Shared_MaxPool2D1 (MaxPooli  (None, 46, 24, 32)     0         |\n",
      "| ng2D)                                                         |\n",
      "|                                                               |\n",
      "| Shared_Conv2D2 (Conv2D)   (None, 46, 24, 64)        51264     |\n",
      "|                                                               |\n",
      "| Shared_MaxPool2D2 (MaxPooli  (None, 22, 11, 64)     0         |\n",
      "| ng2D)                                                         |\n",
      "|                                                               |\n",
      "| Shared_Conv2D3 (Conv2D)   (None, 22, 11, 128)       73856     |\n",
      "|                                                               |\n",
      "| Shared_MaxPool2D3 (MaxPooli  (None, 10, 5, 128)     0         |\n",
      "| ng2D)                                                         |\n",
      "¯¯¯¯¯¯¯¯¯¯¯¯¯¯¯¯¯¯¯¯¯¯¯¯¯¯¯¯¯¯¯¯¯¯¯¯¯¯¯¯¯¯¯¯¯¯¯¯¯¯¯¯¯¯¯¯¯¯¯¯¯¯¯¯¯\n",
      " ES (Sequential)             (None, 14)                329870    \n",
      "|¯¯¯¯¯¯¯¯¯¯¯¯¯¯¯¯¯¯¯¯¯¯¯¯¯¯¯¯¯¯¯¯¯¯¯¯¯¯¯¯¯¯¯¯¯¯¯¯¯¯¯¯¯¯¯¯¯¯¯¯¯¯¯|\n",
      "| ES_Conv2D1 (Conv2D)       (None, 10, 5, 128)        147584    |\n",
      "|                                                               |\n",
      "| ES_MaxPool2D1 (MaxPooling2D  (None, 5, 2, 128)      0         |\n",
      "| )                                                             |\n",
      "|                                                               |\n",
      "| flatten_10 (Flatten)      (None, 1280)              0         |\n",
      "|                                                               |\n",
      "| dropout_30 (Dropout)      (None, 1280)              0         |\n",
      "|                                                               |\n",
      "| ES_DenseLayer1 (Dense)    (None, 128)               163968    |\n",
      "|                                                               |\n",
      "| dropout_31 (Dropout)      (None, 128)               0         |\n",
      "|                                                               |\n",
      "| ES_DenseLayer2 (Dense)    (None, 128)               16512     |\n",
      "|                                                               |\n",
      "| dropout_32 (Dropout)      (None, 128)               0         |\n",
      "|                                                               |\n",
      "| ES_Output (Dense)         (None, 14)                1806      |\n",
      "¯¯¯¯¯¯¯¯¯¯¯¯¯¯¯¯¯¯¯¯¯¯¯¯¯¯¯¯¯¯¯¯¯¯¯¯¯¯¯¯¯¯¯¯¯¯¯¯¯¯¯¯¯¯¯¯¯¯¯¯¯¯¯¯¯\n",
      "=================================================================\n",
      "Total params: 457,614\n",
      "Trainable params: 457,614\n",
      "Non-trainable params: 0\n",
      "_________________________________________________________________\n"
     ]
    },
    {
     "output_type": "execute_result",
     "data": {
      "image/png": "[encoded data removed]",
      "text/plain": [
       "<IPython.core.display.Image object>"
      ]
     },
     "metadata": {},
     "execution_count": 108
    }
   ]
  },
  {
   "cell_type": "code",
   "metadata": {
    "id": "--RScZwz72Tj"
   },
   "source": [
    "modelFullES.compile(\n",
    "    optimizer = tf.keras.optimizers.Adam(learning_rate=LEARNING_RATE),\n",
    "    loss=[tf.keras.losses.CategoricalCrossentropy()],\n",
    "    metrics=[tf.keras.metrics.CategoricalAccuracy(name='Categorical_Accuracy'), tf.keras.metrics.AUC(name='AUC')]\n",
    ")"
   ],
   "execution_count": null,
   "outputs": []
  },
  {
   "cell_type": "code",
   "metadata": {
    "id": "x21vkwAx-FW0"
   },
   "source": [
    "# print(modelFullES.layers[-2].weights)"
   ],
   "execution_count": null,
   "outputs": []
  },
  {
   "cell_type": "code",
   "metadata": {
    "colab": {
     "base_uri": "https://localhost:8080/"
    },
    "id": "0JiecvKm17GJ",
    "executionInfo": {
     "status": "ok",
     "timestamp": 1638882784069,
     "user_tz": 300,
     "elapsed": 62230,
     "user": {
      "displayName": "Andrew Ning",
      "photoUrl": "https://lh3.googleusercontent.com/a-/AOh14GgyUiXynCeybWnGTpfHnOSTarAoJjvj-8rK8oxkzQ=s64",
      "userId": "04097743773373129918"
     }
    },
    "outputId": "ae293974-1de1-4e97-9dc3-9b7f6636f340"
   },
   "source": [
    "ext = '-FULL-ES'\n",
    "training_callbackFULLES = callbacks.TensorBoard(log_dir=LOG_DIR + RUN + ext)\n",
    "\n",
    "historyES = modelFullES.fit(\n",
    "    x = traindatasetES,\n",
    "    validation_data = valdatasetES,\n",
    "    epochs=EPOCHS,\n",
    "    steps_per_epoch=STEPS_PER_EPOCH,\n",
    "    callbacks=[training_callbackFULLES,earlystopping_callback,reduce_lr_callback],\n",
    "    verbose=1\n",
    ")"
   ],
   "execution_count": null,
   "outputs": [
    {
     "output_type": "stream",
     "name": "stdout",
     "text": [
      "Epoch 1/75\n",
      "30/30 [==============================] - 3s 49ms/step - loss: 2.4712 - Categorical_Accuracy: 0.0867 - AUC: 0.5333 - val_loss: 2.4229 - val_Categorical_Accuracy: 0.1120 - val_AUC: 0.5931 - lr: 1.0000e-04\n",
      "Epoch 2/75\n",
      "30/30 [==============================] - 0s 14ms/step - loss: 2.4279 - Categorical_Accuracy: 0.0900 - AUC: 0.5357 - val_loss: 2.4169 - val_Categorical_Accuracy: 0.1320 - val_AUC: 0.6131 - lr: 1.0000e-04\n",
      "Epoch 3/75\n",
      "30/30 [==============================] - 1s 14ms/step - loss: 2.4063 - Categorical_Accuracy: 0.0820 - AUC: 0.5676 - val_loss: 2.4063 - val_Categorical_Accuracy: 0.1320 - val_AUC: 0.6332 - lr: 1.0000e-04\n",
      "Epoch 4/75\n",
      "30/30 [==============================] - 1s 14ms/step - loss: 2.3965 - Categorical_Accuracy: 0.0927 - AUC: 0.5703 - val_loss: 2.3856 - val_Categorical_Accuracy: 0.1520 - val_AUC: 0.6512 - lr: 1.0000e-04\n",
      "Epoch 5/75\n",
      "30/30 [==============================] - 1s 15ms/step - loss: 2.3705 - Categorical_Accuracy: 0.1053 - AUC: 0.5960 - val_loss: 2.3631 - val_Categorical_Accuracy: 0.2120 - val_AUC: 0.6788 - lr: 1.0000e-04\n",
      "Epoch 6/75\n",
      "30/30 [==============================] - 1s 16ms/step - loss: 2.3558 - Categorical_Accuracy: 0.1167 - AUC: 0.6158 - val_loss: 2.3454 - val_Categorical_Accuracy: 0.1900 - val_AUC: 0.6969 - lr: 1.0000e-04\n",
      "Epoch 7/75\n",
      "30/30 [==============================] - 1s 16ms/step - loss: 2.3118 - Categorical_Accuracy: 0.1613 - AUC: 0.6454 - val_loss: 2.3005 - val_Categorical_Accuracy: 0.2160 - val_AUC: 0.7423 - lr: 1.0000e-04\n",
      "Epoch 8/75\n",
      "30/30 [==============================] - 1s 15ms/step - loss: 2.2843 - Categorical_Accuracy: 0.1473 - AUC: 0.6621 - val_loss: 2.2447 - val_Categorical_Accuracy: 0.2480 - val_AUC: 0.7677 - lr: 1.0000e-04\n",
      "Epoch 9/75\n",
      "30/30 [==============================] - 1s 16ms/step - loss: 2.2277 - Categorical_Accuracy: 0.1587 - AUC: 0.6923 - val_loss: 2.1801 - val_Categorical_Accuracy: 0.2240 - val_AUC: 0.7812 - lr: 1.0000e-04\n",
      "Epoch 10/75\n",
      "30/30 [==============================] - 1s 16ms/step - loss: 2.1889 - Categorical_Accuracy: 0.1867 - AUC: 0.7120 - val_loss: 2.1091 - val_Categorical_Accuracy: 0.2380 - val_AUC: 0.8204 - lr: 1.0000e-04\n",
      "Epoch 11/75\n",
      "30/30 [==============================] - 1s 16ms/step - loss: 2.1010 - Categorical_Accuracy: 0.2140 - AUC: 0.7511 - val_loss: 2.0117 - val_Categorical_Accuracy: 0.2460 - val_AUC: 0.8385 - lr: 1.0000e-04\n",
      "Epoch 12/75\n",
      "30/30 [==============================] - 1s 16ms/step - loss: 2.0738 - Categorical_Accuracy: 0.2100 - AUC: 0.7582 - val_loss: 1.9671 - val_Categorical_Accuracy: 0.2760 - val_AUC: 0.8567 - lr: 1.0000e-04\n",
      "Epoch 13/75\n",
      "30/30 [==============================] - 1s 16ms/step - loss: 2.0082 - Categorical_Accuracy: 0.2253 - AUC: 0.7837 - val_loss: 1.8966 - val_Categorical_Accuracy: 0.2760 - val_AUC: 0.8654 - lr: 1.0000e-04\n",
      "Epoch 14/75\n",
      "30/30 [==============================] - 1s 15ms/step - loss: 1.9804 - Categorical_Accuracy: 0.2353 - AUC: 0.7891 - val_loss: 1.8569 - val_Categorical_Accuracy: 0.3000 - val_AUC: 0.8791 - lr: 1.0000e-04\n",
      "Epoch 15/75\n",
      "30/30 [==============================] - 1s 16ms/step - loss: 1.9164 - Categorical_Accuracy: 0.2607 - AUC: 0.8089 - val_loss: 1.7518 - val_Categorical_Accuracy: 0.3180 - val_AUC: 0.8846 - lr: 1.0000e-04\n",
      "Epoch 16/75\n",
      "30/30 [==============================] - 1s 15ms/step - loss: 1.8759 - Categorical_Accuracy: 0.2567 - AUC: 0.8196 - val_loss: 1.7379 - val_Categorical_Accuracy: 0.3080 - val_AUC: 0.8910 - lr: 1.0000e-04\n",
      "Epoch 17/75\n",
      "30/30 [==============================] - 1s 16ms/step - loss: 1.8001 - Categorical_Accuracy: 0.2927 - AUC: 0.8389 - val_loss: 1.6311 - val_Categorical_Accuracy: 0.3720 - val_AUC: 0.9044 - lr: 1.0000e-04\n",
      "Epoch 18/75\n",
      "30/30 [==============================] - 1s 16ms/step - loss: 1.7614 - Categorical_Accuracy: 0.3020 - AUC: 0.8455 - val_loss: 1.6225 - val_Categorical_Accuracy: 0.3860 - val_AUC: 0.9059 - lr: 1.0000e-04\n",
      "Epoch 19/75\n",
      "30/30 [==============================] - 1s 15ms/step - loss: 1.7072 - Categorical_Accuracy: 0.3147 - AUC: 0.8568 - val_loss: 1.5497 - val_Categorical_Accuracy: 0.3980 - val_AUC: 0.9102 - lr: 1.0000e-04\n",
      "Epoch 20/75\n",
      "30/30 [==============================] - 1s 15ms/step - loss: 1.6543 - Categorical_Accuracy: 0.3280 - AUC: 0.8705 - val_loss: 1.5126 - val_Categorical_Accuracy: 0.4020 - val_AUC: 0.9159 - lr: 1.0000e-04\n",
      "Epoch 21/75\n",
      "30/30 [==============================] - 1s 16ms/step - loss: 1.6428 - Categorical_Accuracy: 0.3300 - AUC: 0.8702 - val_loss: 1.4805 - val_Categorical_Accuracy: 0.4320 - val_AUC: 0.9197 - lr: 1.0000e-04\n",
      "Epoch 22/75\n",
      "30/30 [==============================] - 1s 17ms/step - loss: 1.5616 - Categorical_Accuracy: 0.3533 - AUC: 0.8856 - val_loss: 1.4253 - val_Categorical_Accuracy: 0.4460 - val_AUC: 0.9267 - lr: 1.0000e-04\n",
      "Epoch 23/75\n",
      "30/30 [==============================] - 1s 16ms/step - loss: 1.5327 - Categorical_Accuracy: 0.3760 - AUC: 0.8897 - val_loss: 1.3981 - val_Categorical_Accuracy: 0.4380 - val_AUC: 0.9277 - lr: 1.0000e-04\n",
      "Epoch 24/75\n",
      "30/30 [==============================] - 1s 16ms/step - loss: 1.5272 - Categorical_Accuracy: 0.3600 - AUC: 0.8901 - val_loss: 1.3759 - val_Categorical_Accuracy: 0.4320 - val_AUC: 0.9357 - lr: 1.0000e-04\n",
      "Epoch 25/75\n",
      "30/30 [==============================] - 1s 16ms/step - loss: 1.4668 - Categorical_Accuracy: 0.3927 - AUC: 0.9002 - val_loss: 1.3047 - val_Categorical_Accuracy: 0.4920 - val_AUC: 0.9399 - lr: 1.0000e-04\n",
      "Epoch 26/75\n",
      "30/30 [==============================] - 1s 16ms/step - loss: 1.4650 - Categorical_Accuracy: 0.3940 - AUC: 0.8981 - val_loss: 1.2925 - val_Categorical_Accuracy: 0.4960 - val_AUC: 0.9412 - lr: 1.0000e-04\n",
      "Epoch 27/75\n",
      "30/30 [==============================] - 1s 16ms/step - loss: 1.4338 - Categorical_Accuracy: 0.3913 - AUC: 0.9063 - val_loss: 1.2467 - val_Categorical_Accuracy: 0.5040 - val_AUC: 0.9468 - lr: 1.0000e-04\n",
      "Epoch 28/75\n",
      "30/30 [==============================] - 1s 16ms/step - loss: 1.3906 - Categorical_Accuracy: 0.4007 - AUC: 0.9114 - val_loss: 1.2223 - val_Categorical_Accuracy: 0.5100 - val_AUC: 0.9504 - lr: 1.0000e-04\n",
      "Epoch 29/75\n",
      "30/30 [==============================] - 1s 16ms/step - loss: 1.3824 - Categorical_Accuracy: 0.4260 - AUC: 0.9104 - val_loss: 1.2170 - val_Categorical_Accuracy: 0.4940 - val_AUC: 0.9506 - lr: 1.0000e-04\n",
      "Epoch 30/75\n",
      "30/30 [==============================] - 1s 16ms/step - loss: 1.3608 - Categorical_Accuracy: 0.4160 - AUC: 0.9156 - val_loss: 1.1607 - val_Categorical_Accuracy: 0.5280 - val_AUC: 0.9536 - lr: 1.0000e-04\n",
      "Epoch 31/75\n",
      "30/30 [==============================] - 1s 15ms/step - loss: 1.3013 - Categorical_Accuracy: 0.4447 - AUC: 0.9223 - val_loss: 1.1345 - val_Categorical_Accuracy: 0.5160 - val_AUC: 0.9553 - lr: 1.0000e-04\n",
      "Epoch 32/75\n",
      "30/30 [==============================] - 1s 16ms/step - loss: 1.2752 - Categorical_Accuracy: 0.4573 - AUC: 0.9248 - val_loss: 1.1041 - val_Categorical_Accuracy: 0.5080 - val_AUC: 0.9574 - lr: 1.0000e-04\n",
      "Epoch 33/75\n",
      "30/30 [==============================] - 1s 16ms/step - loss: 1.2315 - Categorical_Accuracy: 0.4673 - AUC: 0.9307 - val_loss: 1.0845 - val_Categorical_Accuracy: 0.5340 - val_AUC: 0.9584 - lr: 1.0000e-04\n",
      "Epoch 34/75\n",
      "30/30 [==============================] - 1s 16ms/step - loss: 1.2085 - Categorical_Accuracy: 0.4807 - AUC: 0.9323 - val_loss: 1.0468 - val_Categorical_Accuracy: 0.5580 - val_AUC: 0.9620 - lr: 1.0000e-04\n",
      "Epoch 35/75\n",
      "30/30 [==============================] - 1s 15ms/step - loss: 1.1868 - Categorical_Accuracy: 0.4893 - AUC: 0.9371 - val_loss: 1.0342 - val_Categorical_Accuracy: 0.5300 - val_AUC: 0.9604 - lr: 1.0000e-04\n",
      "Epoch 36/75\n",
      "30/30 [==============================] - 1s 15ms/step - loss: 1.1585 - Categorical_Accuracy: 0.4793 - AUC: 0.9387 - val_loss: 1.0106 - val_Categorical_Accuracy: 0.5420 - val_AUC: 0.9628 - lr: 1.0000e-04\n",
      "Epoch 37/75\n",
      "30/30 [==============================] - 1s 16ms/step - loss: 1.1208 - Categorical_Accuracy: 0.5140 - AUC: 0.9432 - val_loss: 0.9826 - val_Categorical_Accuracy: 0.5680 - val_AUC: 0.9656 - lr: 1.0000e-04\n",
      "Epoch 38/75\n",
      "30/30 [==============================] - 1s 16ms/step - loss: 1.1099 - Categorical_Accuracy: 0.5000 - AUC: 0.9446 - val_loss: 0.9446 - val_Categorical_Accuracy: 0.5660 - val_AUC: 0.9672 - lr: 1.0000e-04\n",
      "Epoch 39/75\n",
      "30/30 [==============================] - 1s 16ms/step - loss: 1.0719 - Categorical_Accuracy: 0.5093 - AUC: 0.9479 - val_loss: 0.9426 - val_Categorical_Accuracy: 0.5700 - val_AUC: 0.9686 - lr: 1.0000e-04\n",
      "Epoch 40/75\n",
      "30/30 [==============================] - 1s 15ms/step - loss: 1.0781 - Categorical_Accuracy: 0.5047 - AUC: 0.9471 - val_loss: 0.9234 - val_Categorical_Accuracy: 0.5760 - val_AUC: 0.9683 - lr: 1.0000e-04\n",
      "Epoch 41/75\n",
      "30/30 [==============================] - 1s 15ms/step - loss: 1.0418 - Categorical_Accuracy: 0.5240 - AUC: 0.9506 - val_loss: 0.9182 - val_Categorical_Accuracy: 0.5720 - val_AUC: 0.9688 - lr: 1.0000e-04\n",
      "Epoch 42/75\n",
      "30/30 [==============================] - 1s 16ms/step - loss: 1.0075 - Categorical_Accuracy: 0.5500 - AUC: 0.9529 - val_loss: 0.8881 - val_Categorical_Accuracy: 0.5860 - val_AUC: 0.9704 - lr: 1.0000e-04\n",
      "Epoch 43/75\n",
      "30/30 [==============================] - 1s 16ms/step - loss: 0.9786 - Categorical_Accuracy: 0.5473 - AUC: 0.9567 - val_loss: 0.9040 - val_Categorical_Accuracy: 0.6080 - val_AUC: 0.9684 - lr: 1.0000e-04\n",
      "Epoch 44/75\n",
      "30/30 [==============================] - 1s 16ms/step - loss: 0.9838 - Categorical_Accuracy: 0.5573 - AUC: 0.9553 - val_loss: 0.8877 - val_Categorical_Accuracy: 0.6000 - val_AUC: 0.9693 - lr: 1.0000e-04\n",
      "Epoch 45/75\n",
      "30/30 [==============================] - 1s 16ms/step - loss: 0.9275 - Categorical_Accuracy: 0.5873 - AUC: 0.9599 - val_loss: 0.8243 - val_Categorical_Accuracy: 0.6260 - val_AUC: 0.9737 - lr: 1.0000e-04\n",
      "Epoch 46/75\n",
      "30/30 [==============================] - 1s 16ms/step - loss: 0.9501 - Categorical_Accuracy: 0.5633 - AUC: 0.9576 - val_loss: 0.8561 - val_Categorical_Accuracy: 0.5560 - val_AUC: 0.9701 - lr: 1.0000e-04\n",
      "Epoch 47/75\n",
      "30/30 [==============================] - 1s 16ms/step - loss: 0.8936 - Categorical_Accuracy: 0.5840 - AUC: 0.9632 - val_loss: 0.8135 - val_Categorical_Accuracy: 0.5920 - val_AUC: 0.9736 - lr: 1.0000e-04\n",
      "Epoch 48/75\n",
      "30/30 [==============================] - 1s 16ms/step - loss: 0.8879 - Categorical_Accuracy: 0.5827 - AUC: 0.9623 - val_loss: 0.8193 - val_Categorical_Accuracy: 0.6200 - val_AUC: 0.9728 - lr: 1.0000e-04\n",
      "Epoch 49/75\n",
      "30/30 [==============================] - 1s 16ms/step - loss: 0.8657 - Categorical_Accuracy: 0.6027 - AUC: 0.9648 - val_loss: 0.7770 - val_Categorical_Accuracy: 0.6180 - val_AUC: 0.9754 - lr: 1.0000e-04\n",
      "Epoch 50/75\n",
      "30/30 [==============================] - 1s 16ms/step - loss: 0.8999 - Categorical_Accuracy: 0.5900 - AUC: 0.9606 - val_loss: 0.7899 - val_Categorical_Accuracy: 0.6080 - val_AUC: 0.9742 - lr: 1.0000e-04\n",
      "Epoch 51/75\n",
      "30/30 [==============================] - 1s 16ms/step - loss: 0.8328 - Categorical_Accuracy: 0.5987 - AUC: 0.9677 - val_loss: 0.7300 - val_Categorical_Accuracy: 0.6500 - val_AUC: 0.9787 - lr: 1.0000e-04\n",
      "Epoch 52/75\n",
      "30/30 [==============================] - 1s 16ms/step - loss: 0.8248 - Categorical_Accuracy: 0.6073 - AUC: 0.9674 - val_loss: 0.7391 - val_Categorical_Accuracy: 0.6520 - val_AUC: 0.9772 - lr: 1.0000e-04\n",
      "Epoch 53/75\n",
      "30/30 [==============================] - 1s 16ms/step - loss: 0.8096 - Categorical_Accuracy: 0.6027 - AUC: 0.9684 - val_loss: 0.7376 - val_Categorical_Accuracy: 0.6440 - val_AUC: 0.9772 - lr: 1.0000e-04\n",
      "Epoch 54/75\n",
      "30/30 [==============================] - 1s 16ms/step - loss: 0.7796 - Categorical_Accuracy: 0.6207 - AUC: 0.9711 - val_loss: 0.7099 - val_Categorical_Accuracy: 0.6440 - val_AUC: 0.9786 - lr: 1.0000e-04\n",
      "Epoch 55/75\n",
      "30/30 [==============================] - 1s 16ms/step - loss: 0.7790 - Categorical_Accuracy: 0.6220 - AUC: 0.9705 - val_loss: 0.6929 - val_Categorical_Accuracy: 0.6840 - val_AUC: 0.9801 - lr: 1.0000e-04\n",
      "Epoch 56/75\n",
      "30/30 [==============================] - 1s 16ms/step - loss: 0.7387 - Categorical_Accuracy: 0.6447 - AUC: 0.9737 - val_loss: 0.6703 - val_Categorical_Accuracy: 0.6520 - val_AUC: 0.9800 - lr: 1.0000e-04\n",
      "Epoch 57/75\n",
      "30/30 [==============================] - 1s 16ms/step - loss: 0.7433 - Categorical_Accuracy: 0.6413 - AUC: 0.9722 - val_loss: 0.7184 - val_Categorical_Accuracy: 0.6360 - val_AUC: 0.9764 - lr: 1.0000e-04\n",
      "Epoch 58/75\n",
      "30/30 [==============================] - 1s 16ms/step - loss: 0.7486 - Categorical_Accuracy: 0.6393 - AUC: 0.9715 - val_loss: 0.6528 - val_Categorical_Accuracy: 0.6780 - val_AUC: 0.9814 - lr: 1.0000e-04\n",
      "Epoch 59/75\n",
      "30/30 [==============================] - 1s 16ms/step - loss: 0.7625 - Categorical_Accuracy: 0.6447 - AUC: 0.9703 - val_loss: 0.6445 - val_Categorical_Accuracy: 0.6840 - val_AUC: 0.9820 - lr: 1.0000e-04\n",
      "Epoch 60/75\n",
      "30/30 [==============================] - 1s 16ms/step - loss: 0.7240 - Categorical_Accuracy: 0.6567 - AUC: 0.9731 - val_loss: 0.6236 - val_Categorical_Accuracy: 0.6900 - val_AUC: 0.9824 - lr: 1.0000e-04\n",
      "Epoch 61/75\n",
      "30/30 [==============================] - 1s 15ms/step - loss: 0.7460 - Categorical_Accuracy: 0.6487 - AUC: 0.9713 - val_loss: 0.6386 - val_Categorical_Accuracy: 0.6680 - val_AUC: 0.9812 - lr: 1.0000e-04\n",
      "Epoch 62/75\n",
      "30/30 [==============================] - 1s 15ms/step - loss: 0.6852 - Categorical_Accuracy: 0.6720 - AUC: 0.9748 - val_loss: 0.6303 - val_Categorical_Accuracy: 0.6880 - val_AUC: 0.9807 - lr: 1.0000e-04\n",
      "Epoch 63/75\n",
      "30/30 [==============================] - 1s 16ms/step - loss: 0.6959 - Categorical_Accuracy: 0.6547 - AUC: 0.9740 - val_loss: 0.6212 - val_Categorical_Accuracy: 0.6720 - val_AUC: 0.9817 - lr: 1.0000e-04\n",
      "Epoch 64/75\n",
      "30/30 [==============================] - 1s 16ms/step - loss: 0.7168 - Categorical_Accuracy: 0.6620 - AUC: 0.9727 - val_loss: 0.6139 - val_Categorical_Accuracy: 0.6680 - val_AUC: 0.9816 - lr: 1.0000e-04\n",
      "Epoch 65/75\n",
      "30/30 [==============================] - 1s 16ms/step - loss: 0.7031 - Categorical_Accuracy: 0.6560 - AUC: 0.9729 - val_loss: 0.5948 - val_Categorical_Accuracy: 0.7120 - val_AUC: 0.9828 - lr: 1.0000e-04\n",
      "Epoch 66/75\n",
      "30/30 [==============================] - 1s 16ms/step - loss: 0.7370 - Categorical_Accuracy: 0.6440 - AUC: 0.9707 - val_loss: 0.5883 - val_Categorical_Accuracy: 0.7100 - val_AUC: 0.9821 - lr: 1.0000e-04\n",
      "Epoch 67/75\n",
      "30/30 [==============================] - 1s 16ms/step - loss: 0.7594 - Categorical_Accuracy: 0.6620 - AUC: 0.9680 - val_loss: 0.5878 - val_Categorical_Accuracy: 0.7020 - val_AUC: 0.9817 - lr: 1.0000e-04\n",
      "Epoch 68/75\n",
      "30/30 [==============================] - 1s 16ms/step - loss: 0.7729 - Categorical_Accuracy: 0.6387 - AUC: 0.9690 - val_loss: 0.6126 - val_Categorical_Accuracy: 0.6980 - val_AUC: 0.9800 - lr: 1.0000e-04\n",
      "Epoch 69/75\n",
      "30/30 [==============================] - 1s 16ms/step - loss: 0.7910 - Categorical_Accuracy: 0.6487 - AUC: 0.9655 - val_loss: 0.6073 - val_Categorical_Accuracy: 0.7080 - val_AUC: 0.9799 - lr: 1.0000e-04\n",
      "Epoch 70/75\n",
      "29/30 [============================>.] - ETA: 0s - loss: 0.8504 - Categorical_Accuracy: 0.6531 - AUC: 0.9607\n",
      "Epoch 00070: ReduceLROnPlateau reducing learning rate to 1.9999999494757503e-05.\n",
      "30/30 [==============================] - 1s 15ms/step - loss: 0.8531 - Categorical_Accuracy: 0.6513 - AUC: 0.9604 - val_loss: 0.6845 - val_Categorical_Accuracy: 0.6760 - val_AUC: 0.9747 - lr: 1.0000e-04\n",
      "Epoch 71/75\n",
      "30/30 [==============================] - 1s 16ms/step - loss: 0.8359 - Categorical_Accuracy: 0.6480 - AUC: 0.9621 - val_loss: 0.6154 - val_Categorical_Accuracy: 0.6940 - val_AUC: 0.9793 - lr: 2.0000e-05\n",
      "Epoch 72/75\n",
      "30/30 [==============================] - 1s 16ms/step - loss: 0.8639 - Categorical_Accuracy: 0.6467 - AUC: 0.9606 - val_loss: 0.6267 - val_Categorical_Accuracy: 0.7020 - val_AUC: 0.9774 - lr: 2.0000e-05\n"
     ]
    }
   ]
  },
  {
   "cell_type": "code",
   "metadata": {
    "colab": {
     "base_uri": "https://localhost:8080/",
     "height": 1000
    },
    "id": "PA2TwszW-exb",
    "executionInfo": {
     "status": "ok",
     "timestamp": 1638882787912,
     "user_tz": 300,
     "elapsed": 3859,
     "user": {
      "displayName": "Andrew Ning",
      "photoUrl": "https://lh3.googleusercontent.com/a-/AOh14GgyUiXynCeybWnGTpfHnOSTarAoJjvj-8rK8oxkzQ=s64",
      "userId": "04097743773373129918"
     }
    },
    "outputId": "141095cb-c184-4f79-919b-5e78a4fcdf0a"
   },
   "source": [
    "modelFullFR = tf.keras.Model(\n",
    "    inputs=[inputFR],\n",
    "    outputs=[layersFR],\n",
    "    name='Full_Model_FR'\n",
    ")\n",
    "\n",
    "modelFullFR.summary(expand_nested=True)\n",
    "tf.keras.utils.plot_model(modelFullFR, expand_nested=True)"
   ],
   "execution_count": null,
   "outputs": [
    {
     "output_type": "stream",
     "name": "stdout",
     "text": [
      "Model: \"Full_Model_FR\"\n",
      "_________________________________________________________________\n",
      " Layer (type)                Output Shape              Param #   \n",
      "=================================================================\n",
      " FR_Input (InputLayer)       [(None, 188, 100, 1)]     0         \n",
      "                                                                 \n",
      " Shared_Layers (Sequential)  (None, 10, 5, 128)        127744    \n",
      "|¯¯¯¯¯¯¯¯¯¯¯¯¯¯¯¯¯¯¯¯¯¯¯¯¯¯¯¯¯¯¯¯¯¯¯¯¯¯¯¯¯¯¯¯¯¯¯¯¯¯¯¯¯¯¯¯¯¯¯¯¯¯¯|\n",
      "| Shared_Conv2D1 (Conv2D)   (None, 94, 50, 32)        2624      |\n",
      "|                                                               |\n",
      "| Shared_MaxPool2D1 (MaxPooli  (None, 46, 24, 32)     0         |\n",
      "| ng2D)                                                         |\n",
      "|                                                               |\n",
      "| Shared_Conv2D2 (Conv2D)   (None, 46, 24, 64)        51264     |\n",
      "|                                                               |\n",
      "| Shared_MaxPool2D2 (MaxPooli  (None, 22, 11, 64)     0         |\n",
      "| ng2D)                                                         |\n",
      "|                                                               |\n",
      "| Shared_Conv2D3 (Conv2D)   (None, 22, 11, 128)       73856     |\n",
      "|                                                               |\n",
      "| Shared_MaxPool2D3 (MaxPooli  (None, 10, 5, 128)     0         |\n",
      "| ng2D)                                                         |\n",
      "¯¯¯¯¯¯¯¯¯¯¯¯¯¯¯¯¯¯¯¯¯¯¯¯¯¯¯¯¯¯¯¯¯¯¯¯¯¯¯¯¯¯¯¯¯¯¯¯¯¯¯¯¯¯¯¯¯¯¯¯¯¯¯¯¯\n",
      " FR (Sequential)             (None, 15)                329999    \n",
      "|¯¯¯¯¯¯¯¯¯¯¯¯¯¯¯¯¯¯¯¯¯¯¯¯¯¯¯¯¯¯¯¯¯¯¯¯¯¯¯¯¯¯¯¯¯¯¯¯¯¯¯¯¯¯¯¯¯¯¯¯¯¯¯|\n",
      "| FR_Conv2D1 (Conv2D)       (None, 10, 5, 128)        147584    |\n",
      "|                                                               |\n",
      "| FR_MaxPool2D1 (MaxPooling2D  (None, 5, 2, 128)      0         |\n",
      "| )                                                             |\n",
      "|                                                               |\n",
      "| flatten_11 (Flatten)      (None, 1280)              0         |\n",
      "|                                                               |\n",
      "| dropout_33 (Dropout)      (None, 1280)              0         |\n",
      "|                                                               |\n",
      "| FR_DenseLayer1 (Dense)    (None, 128)               163968    |\n",
      "|                                                               |\n",
      "| dropout_34 (Dropout)      (None, 128)               0         |\n",
      "|                                                               |\n",
      "| FR_DenseLayer2 (Dense)    (None, 128)               16512     |\n",
      "|                                                               |\n",
      "| dropout_35 (Dropout)      (None, 128)               0         |\n",
      "|                                                               |\n",
      "| FR_Output (Dense)         (None, 15)                1935      |\n",
      "¯¯¯¯¯¯¯¯¯¯¯¯¯¯¯¯¯¯¯¯¯¯¯¯¯¯¯¯¯¯¯¯¯¯¯¯¯¯¯¯¯¯¯¯¯¯¯¯¯¯¯¯¯¯¯¯¯¯¯¯¯¯¯¯¯\n",
      "=================================================================\n",
      "Total params: 457,743\n",
      "Trainable params: 457,743\n",
      "Non-trainable params: 0\n",
      "_________________________________________________________________\n"
     ]
    },
    {
     "output_type": "execute_result",
     "data": {
      "image/png": "[encoded data removed]",
      "text/plain": [
       "<IPython.core.display.Image object>"
      ]
     },
     "metadata": {},
     "execution_count": 112
    }
   ]
  },
  {
   "cell_type": "code",
   "metadata": {
    "id": "fKLqVeH5_FrM"
   },
   "source": [
    "modelFullFR.compile(\n",
    "    optimizer = tf.keras.optimizers.Adam(learning_rate=LEARNING_RATE),\n",
    "    loss=[tf.keras.losses.CategoricalCrossentropy()],\n",
    "    metrics=[tf.keras.metrics.CategoricalAccuracy(name='Categorical_Accuracy'), tf.keras.metrics.AUC(name='AUC')]\n",
    ")"
   ],
   "execution_count": null,
   "outputs": []
  },
  {
   "cell_type": "code",
   "metadata": {
    "colab": {
     "base_uri": "https://localhost:8080/"
    },
    "id": "hOoKTX0a_INU",
    "executionInfo": {
     "status": "ok",
     "timestamp": 1638882870710,
     "user_tz": 300,
     "elapsed": 82811,
     "user": {
      "displayName": "Andrew Ning",
      "photoUrl": "https://lh3.googleusercontent.com/a-/AOh14GgyUiXynCeybWnGTpfHnOSTarAoJjvj-8rK8oxkzQ=s64",
      "userId": "04097743773373129918"
     }
    },
    "outputId": "97dd3002-cfa2-4691-fe31-18acefb072b7"
   },
   "source": [
    "ext = '-FULL-FR'\n",
    "training_callbackFULLFR = callbacks.TensorBoard(log_dir=LOG_DIR + RUN + ext)\n",
    "\n",
    "historyFR = modelFullFR.fit(\n",
    "    x = traindatasetFR,\n",
    "    validation_data = valdatasetFR,\n",
    "    epochs=EPOCHS,\n",
    "    steps_per_epoch=STEPS_PER_EPOCH,\n",
    "    callbacks=[training_callbackFULLFR,earlystopping_callback,reduce_lr_callback],\n",
    "    verbose=1\n",
    ")"
   ],
   "execution_count": null,
   "outputs": [
    {
     "output_type": "stream",
     "name": "stdout",
     "text": [
      "Epoch 1/75\n",
      "30/30 [==============================] - 3s 47ms/step - loss: 2.8720 - Categorical_Accuracy: 0.0873 - AUC: 0.5235 - val_loss: 2.6715 - val_Categorical_Accuracy: 0.0960 - val_AUC: 0.6121 - lr: 1.0000e-04\n",
      "Epoch 2/75\n",
      "30/30 [==============================] - 1s 14ms/step - loss: 2.6948 - Categorical_Accuracy: 0.0893 - AUC: 0.5589 - val_loss: 2.6466 - val_Categorical_Accuracy: 0.1200 - val_AUC: 0.6572 - lr: 1.0000e-04\n",
      "Epoch 3/75\n",
      "30/30 [==============================] - 1s 14ms/step - loss: 2.6529 - Categorical_Accuracy: 0.1207 - AUC: 0.5950 - val_loss: 2.6161 - val_Categorical_Accuracy: 0.1480 - val_AUC: 0.7043 - lr: 1.0000e-04\n",
      "Epoch 4/75\n",
      "30/30 [==============================] - 1s 15ms/step - loss: 2.6235 - Categorical_Accuracy: 0.1213 - AUC: 0.6198 - val_loss: 2.5687 - val_Categorical_Accuracy: 0.1960 - val_AUC: 0.7429 - lr: 1.0000e-04\n",
      "Epoch 5/75\n",
      "30/30 [==============================] - 1s 15ms/step - loss: 2.5794 - Categorical_Accuracy: 0.1407 - AUC: 0.6453 - val_loss: 2.4958 - val_Categorical_Accuracy: 0.2400 - val_AUC: 0.7896 - lr: 1.0000e-04\n",
      "Epoch 6/75\n",
      "30/30 [==============================] - 1s 15ms/step - loss: 2.5247 - Categorical_Accuracy: 0.1547 - AUC: 0.6769 - val_loss: 2.3992 - val_Categorical_Accuracy: 0.3240 - val_AUC: 0.8348 - lr: 1.0000e-04\n",
      "Epoch 7/75\n",
      "30/30 [==============================] - 1s 16ms/step - loss: 2.4386 - Categorical_Accuracy: 0.1827 - AUC: 0.7184 - val_loss: 2.3164 - val_Categorical_Accuracy: 0.3380 - val_AUC: 0.8452 - lr: 1.0000e-04\n",
      "Epoch 8/75\n",
      "30/30 [==============================] - 1s 16ms/step - loss: 2.3742 - Categorical_Accuracy: 0.2013 - AUC: 0.7381 - val_loss: 2.2460 - val_Categorical_Accuracy: 0.3740 - val_AUC: 0.8672 - lr: 1.0000e-04\n",
      "Epoch 9/75\n",
      "30/30 [==============================] - 1s 16ms/step - loss: 2.2933 - Categorical_Accuracy: 0.2253 - AUC: 0.7652 - val_loss: 2.1292 - val_Categorical_Accuracy: 0.4160 - val_AUC: 0.8815 - lr: 1.0000e-04\n",
      "Epoch 10/75\n",
      "30/30 [==============================] - 1s 15ms/step - loss: 2.2221 - Categorical_Accuracy: 0.2507 - AUC: 0.7896 - val_loss: 2.0468 - val_Categorical_Accuracy: 0.4080 - val_AUC: 0.8891 - lr: 1.0000e-04\n",
      "Epoch 11/75\n",
      "30/30 [==============================] - 1s 16ms/step - loss: 2.1710 - Categorical_Accuracy: 0.2607 - AUC: 0.8029 - val_loss: 1.9543 - val_Categorical_Accuracy: 0.4660 - val_AUC: 0.9019 - lr: 1.0000e-04\n",
      "Epoch 12/75\n",
      "30/30 [==============================] - 1s 16ms/step - loss: 2.0922 - Categorical_Accuracy: 0.2813 - AUC: 0.8232 - val_loss: 1.8956 - val_Categorical_Accuracy: 0.4700 - val_AUC: 0.9080 - lr: 1.0000e-04\n",
      "Epoch 13/75\n",
      "30/30 [==============================] - 1s 16ms/step - loss: 2.0040 - Categorical_Accuracy: 0.3193 - AUC: 0.8411 - val_loss: 1.8105 - val_Categorical_Accuracy: 0.4900 - val_AUC: 0.9154 - lr: 1.0000e-04\n",
      "Epoch 14/75\n",
      "30/30 [==============================] - 1s 16ms/step - loss: 1.9704 - Categorical_Accuracy: 0.3227 - AUC: 0.8468 - val_loss: 1.7627 - val_Categorical_Accuracy: 0.5020 - val_AUC: 0.9202 - lr: 1.0000e-04\n",
      "Epoch 15/75\n",
      "30/30 [==============================] - 1s 16ms/step - loss: 1.9117 - Categorical_Accuracy: 0.3360 - AUC: 0.8580 - val_loss: 1.6902 - val_Categorical_Accuracy: 0.5100 - val_AUC: 0.9259 - lr: 1.0000e-04\n",
      "Epoch 16/75\n",
      "30/30 [==============================] - 1s 16ms/step - loss: 1.8937 - Categorical_Accuracy: 0.3420 - AUC: 0.8622 - val_loss: 1.6713 - val_Categorical_Accuracy: 0.5140 - val_AUC: 0.9260 - lr: 1.0000e-04\n",
      "Epoch 17/75\n",
      "30/30 [==============================] - 1s 16ms/step - loss: 1.7926 - Categorical_Accuracy: 0.3727 - AUC: 0.8793 - val_loss: 1.5982 - val_Categorical_Accuracy: 0.5140 - val_AUC: 0.9298 - lr: 1.0000e-04\n",
      "Epoch 18/75\n",
      "30/30 [==============================] - 1s 16ms/step - loss: 1.7575 - Categorical_Accuracy: 0.3727 - AUC: 0.8849 - val_loss: 1.5558 - val_Categorical_Accuracy: 0.5420 - val_AUC: 0.9348 - lr: 1.0000e-04\n",
      "Epoch 19/75\n",
      "30/30 [==============================] - 1s 16ms/step - loss: 1.7152 - Categorical_Accuracy: 0.3867 - AUC: 0.8918 - val_loss: 1.5568 - val_Categorical_Accuracy: 0.5380 - val_AUC: 0.9347 - lr: 1.0000e-04\n",
      "Epoch 20/75\n",
      "30/30 [==============================] - 1s 16ms/step - loss: 1.7050 - Categorical_Accuracy: 0.3840 - AUC: 0.8927 - val_loss: 1.4697 - val_Categorical_Accuracy: 0.5680 - val_AUC: 0.9421 - lr: 1.0000e-04\n",
      "Epoch 21/75\n",
      "30/30 [==============================] - 1s 16ms/step - loss: 1.6938 - Categorical_Accuracy: 0.4073 - AUC: 0.8934 - val_loss: 1.4601 - val_Categorical_Accuracy: 0.5640 - val_AUC: 0.9417 - lr: 1.0000e-04\n",
      "Epoch 22/75\n",
      "30/30 [==============================] - 1s 15ms/step - loss: 1.6507 - Categorical_Accuracy: 0.4193 - AUC: 0.9017 - val_loss: 1.4751 - val_Categorical_Accuracy: 0.5580 - val_AUC: 0.9401 - lr: 1.0000e-04\n",
      "Epoch 23/75\n",
      "30/30 [==============================] - 1s 16ms/step - loss: 1.5569 - Categorical_Accuracy: 0.4380 - AUC: 0.9125 - val_loss: 1.3623 - val_Categorical_Accuracy: 0.5900 - val_AUC: 0.9470 - lr: 1.0000e-04\n",
      "Epoch 24/75\n",
      "30/30 [==============================] - 1s 15ms/step - loss: 1.5714 - Categorical_Accuracy: 0.4493 - AUC: 0.9114 - val_loss: 1.3546 - val_Categorical_Accuracy: 0.5720 - val_AUC: 0.9470 - lr: 1.0000e-04\n",
      "Epoch 25/75\n",
      "30/30 [==============================] - 1s 16ms/step - loss: 1.4807 - Categorical_Accuracy: 0.4553 - AUC: 0.9220 - val_loss: 1.2946 - val_Categorical_Accuracy: 0.5900 - val_AUC: 0.9514 - lr: 1.0000e-04\n",
      "Epoch 26/75\n",
      "30/30 [==============================] - 1s 16ms/step - loss: 1.4557 - Categorical_Accuracy: 0.4693 - AUC: 0.9247 - val_loss: 1.2516 - val_Categorical_Accuracy: 0.6100 - val_AUC: 0.9553 - lr: 1.0000e-04\n",
      "Epoch 27/75\n",
      "30/30 [==============================] - 1s 16ms/step - loss: 1.4486 - Categorical_Accuracy: 0.4880 - AUC: 0.9249 - val_loss: 1.2400 - val_Categorical_Accuracy: 0.6080 - val_AUC: 0.9549 - lr: 1.0000e-04\n",
      "Epoch 28/75\n",
      "30/30 [==============================] - 1s 16ms/step - loss: 1.3797 - Categorical_Accuracy: 0.4953 - AUC: 0.9338 - val_loss: 1.2048 - val_Categorical_Accuracy: 0.6280 - val_AUC: 0.9578 - lr: 1.0000e-04\n",
      "Epoch 29/75\n",
      "30/30 [==============================] - 1s 16ms/step - loss: 1.3415 - Categorical_Accuracy: 0.5147 - AUC: 0.9370 - val_loss: 1.1678 - val_Categorical_Accuracy: 0.6380 - val_AUC: 0.9601 - lr: 1.0000e-04\n",
      "Epoch 30/75\n",
      "30/30 [==============================] - 1s 16ms/step - loss: 1.3209 - Categorical_Accuracy: 0.5133 - AUC: 0.9387 - val_loss: 1.1604 - val_Categorical_Accuracy: 0.6460 - val_AUC: 0.9605 - lr: 1.0000e-04\n",
      "Epoch 31/75\n",
      "30/30 [==============================] - 1s 16ms/step - loss: 1.3113 - Categorical_Accuracy: 0.5153 - AUC: 0.9401 - val_loss: 1.1438 - val_Categorical_Accuracy: 0.6480 - val_AUC: 0.9617 - lr: 1.0000e-04\n",
      "Epoch 32/75\n",
      "30/30 [==============================] - 1s 16ms/step - loss: 1.2731 - Categorical_Accuracy: 0.5493 - AUC: 0.9430 - val_loss: 1.1065 - val_Categorical_Accuracy: 0.6560 - val_AUC: 0.9627 - lr: 1.0000e-04\n",
      "Epoch 33/75\n",
      "30/30 [==============================] - 1s 19ms/step - loss: 1.1844 - Categorical_Accuracy: 0.5740 - AUC: 0.9517 - val_loss: 1.0894 - val_Categorical_Accuracy: 0.6580 - val_AUC: 0.9627 - lr: 1.0000e-04\n",
      "Epoch 34/75\n",
      "30/30 [==============================] - 1s 16ms/step - loss: 1.1668 - Categorical_Accuracy: 0.5820 - AUC: 0.9514 - val_loss: 1.0655 - val_Categorical_Accuracy: 0.6680 - val_AUC: 0.9638 - lr: 1.0000e-04\n",
      "Epoch 35/75\n",
      "30/30 [==============================] - 1s 16ms/step - loss: 1.1659 - Categorical_Accuracy: 0.5787 - AUC: 0.9527 - val_loss: 1.0984 - val_Categorical_Accuracy: 0.6320 - val_AUC: 0.9614 - lr: 1.0000e-04\n",
      "Epoch 36/75\n",
      "30/30 [==============================] - 1s 16ms/step - loss: 1.1391 - Categorical_Accuracy: 0.5760 - AUC: 0.9554 - val_loss: 1.0220 - val_Categorical_Accuracy: 0.6840 - val_AUC: 0.9666 - lr: 1.0000e-04\n",
      "Epoch 37/75\n",
      "30/30 [==============================] - 1s 16ms/step - loss: 1.1329 - Categorical_Accuracy: 0.5933 - AUC: 0.9546 - val_loss: 1.0044 - val_Categorical_Accuracy: 0.6880 - val_AUC: 0.9677 - lr: 1.0000e-04\n",
      "Epoch 38/75\n",
      "30/30 [==============================] - 1s 16ms/step - loss: 1.0756 - Categorical_Accuracy: 0.6100 - AUC: 0.9596 - val_loss: 0.9788 - val_Categorical_Accuracy: 0.6840 - val_AUC: 0.9689 - lr: 1.0000e-04\n",
      "Epoch 39/75\n",
      "30/30 [==============================] - 1s 16ms/step - loss: 1.0521 - Categorical_Accuracy: 0.6213 - AUC: 0.9608 - val_loss: 0.9629 - val_Categorical_Accuracy: 0.6980 - val_AUC: 0.9696 - lr: 1.0000e-04\n",
      "Epoch 40/75\n",
      "30/30 [==============================] - 1s 16ms/step - loss: 1.0362 - Categorical_Accuracy: 0.6160 - AUC: 0.9625 - val_loss: 0.9536 - val_Categorical_Accuracy: 0.6920 - val_AUC: 0.9701 - lr: 1.0000e-04\n",
      "Epoch 41/75\n",
      "30/30 [==============================] - 1s 16ms/step - loss: 0.9889 - Categorical_Accuracy: 0.6473 - AUC: 0.9664 - val_loss: 0.9385 - val_Categorical_Accuracy: 0.6780 - val_AUC: 0.9705 - lr: 1.0000e-04\n",
      "Epoch 42/75\n",
      "30/30 [==============================] - 1s 18ms/step - loss: 0.9868 - Categorical_Accuracy: 0.6520 - AUC: 0.9654 - val_loss: 0.9148 - val_Categorical_Accuracy: 0.7100 - val_AUC: 0.9715 - lr: 1.0000e-04\n",
      "Epoch 43/75\n",
      "30/30 [==============================] - 1s 16ms/step - loss: 0.9418 - Categorical_Accuracy: 0.6533 - AUC: 0.9694 - val_loss: 0.8844 - val_Categorical_Accuracy: 0.7000 - val_AUC: 0.9738 - lr: 1.0000e-04\n",
      "Epoch 44/75\n",
      "30/30 [==============================] - 1s 16ms/step - loss: 0.9256 - Categorical_Accuracy: 0.6593 - AUC: 0.9690 - val_loss: 0.8865 - val_Categorical_Accuracy: 0.7120 - val_AUC: 0.9730 - lr: 1.0000e-04\n",
      "Epoch 45/75\n",
      "30/30 [==============================] - 1s 16ms/step - loss: 0.9281 - Categorical_Accuracy: 0.6740 - AUC: 0.9702 - val_loss: 0.8867 - val_Categorical_Accuracy: 0.7140 - val_AUC: 0.9728 - lr: 1.0000e-04\n",
      "Epoch 46/75\n",
      "30/30 [==============================] - 1s 16ms/step - loss: 0.9383 - Categorical_Accuracy: 0.6600 - AUC: 0.9687 - val_loss: 0.8599 - val_Categorical_Accuracy: 0.7120 - val_AUC: 0.9736 - lr: 1.0000e-04\n",
      "Epoch 47/75\n",
      "30/30 [==============================] - 1s 16ms/step - loss: 0.8485 - Categorical_Accuracy: 0.6920 - AUC: 0.9750 - val_loss: 0.9144 - val_Categorical_Accuracy: 0.7020 - val_AUC: 0.9694 - lr: 1.0000e-04\n",
      "Epoch 48/75\n",
      "30/30 [==============================] - 1s 16ms/step - loss: 0.8440 - Categorical_Accuracy: 0.6840 - AUC: 0.9753 - val_loss: 0.8472 - val_Categorical_Accuracy: 0.7160 - val_AUC: 0.9747 - lr: 1.0000e-04\n",
      "Epoch 49/75\n",
      "30/30 [==============================] - 1s 16ms/step - loss: 0.8118 - Categorical_Accuracy: 0.7127 - AUC: 0.9767 - val_loss: 0.8077 - val_Categorical_Accuracy: 0.7460 - val_AUC: 0.9762 - lr: 1.0000e-04\n",
      "Epoch 50/75\n",
      "30/30 [==============================] - 1s 16ms/step - loss: 0.7829 - Categorical_Accuracy: 0.7260 - AUC: 0.9787 - val_loss: 0.7939 - val_Categorical_Accuracy: 0.7340 - val_AUC: 0.9770 - lr: 1.0000e-04\n",
      "Epoch 51/75\n",
      "30/30 [==============================] - 1s 16ms/step - loss: 0.7917 - Categorical_Accuracy: 0.7213 - AUC: 0.9774 - val_loss: 0.7845 - val_Categorical_Accuracy: 0.7300 - val_AUC: 0.9766 - lr: 1.0000e-04\n",
      "Epoch 52/75\n",
      "30/30 [==============================] - 1s 16ms/step - loss: 0.7739 - Categorical_Accuracy: 0.7147 - AUC: 0.9790 - val_loss: 0.8057 - val_Categorical_Accuracy: 0.7180 - val_AUC: 0.9765 - lr: 1.0000e-04\n",
      "Epoch 53/75\n",
      "30/30 [==============================] - 1s 16ms/step - loss: 0.7359 - Categorical_Accuracy: 0.7340 - AUC: 0.9806 - val_loss: 0.7881 - val_Categorical_Accuracy: 0.7520 - val_AUC: 0.9764 - lr: 1.0000e-04\n",
      "Epoch 54/75\n",
      "28/30 [===========================>..] - ETA: 0s - loss: 0.7301 - Categorical_Accuracy: 0.7321 - AUC: 0.9802\n",
      "Epoch 00054: ReduceLROnPlateau reducing learning rate to 1.9999999494757503e-05.\n",
      "30/30 [==============================] - 1s 16ms/step - loss: 0.7179 - Categorical_Accuracy: 0.7360 - AUC: 0.9810 - val_loss: 0.7917 - val_Categorical_Accuracy: 0.7360 - val_AUC: 0.9769 - lr: 1.0000e-04\n",
      "Epoch 55/75\n",
      "30/30 [==============================] - 1s 15ms/step - loss: 0.7146 - Categorical_Accuracy: 0.7647 - AUC: 0.9814 - val_loss: 0.7670 - val_Categorical_Accuracy: 0.7480 - val_AUC: 0.9776 - lr: 2.0000e-05\n",
      "Epoch 56/75\n",
      "30/30 [==============================] - 1s 16ms/step - loss: 0.6999 - Categorical_Accuracy: 0.7520 - AUC: 0.9828 - val_loss: 0.7539 - val_Categorical_Accuracy: 0.7580 - val_AUC: 0.9796 - lr: 2.0000e-05\n",
      "Epoch 57/75\n",
      "30/30 [==============================] - 1s 16ms/step - loss: 0.6574 - Categorical_Accuracy: 0.7653 - AUC: 0.9852 - val_loss: 0.7651 - val_Categorical_Accuracy: 0.7460 - val_AUC: 0.9779 - lr: 2.0000e-05\n",
      "Epoch 58/75\n",
      "30/30 [==============================] - 1s 16ms/step - loss: 0.6843 - Categorical_Accuracy: 0.7407 - AUC: 0.9841 - val_loss: 0.7569 - val_Categorical_Accuracy: 0.7600 - val_AUC: 0.9780 - lr: 2.0000e-05\n",
      "Epoch 59/75\n",
      "30/30 [==============================] - 1s 16ms/step - loss: 0.6846 - Categorical_Accuracy: 0.7653 - AUC: 0.9834 - val_loss: 0.7513 - val_Categorical_Accuracy: 0.7500 - val_AUC: 0.9781 - lr: 2.0000e-05\n",
      "Epoch 60/75\n",
      "30/30 [==============================] - 1s 16ms/step - loss: 0.6576 - Categorical_Accuracy: 0.7573 - AUC: 0.9853 - val_loss: 0.7439 - val_Categorical_Accuracy: 0.7680 - val_AUC: 0.9778 - lr: 2.0000e-05\n",
      "Epoch 61/75\n",
      "30/30 [==============================] - 1s 16ms/step - loss: 0.6693 - Categorical_Accuracy: 0.7607 - AUC: 0.9841 - val_loss: 0.7413 - val_Categorical_Accuracy: 0.7580 - val_AUC: 0.9792 - lr: 2.0000e-05\n",
      "Epoch 62/75\n",
      "30/30 [==============================] - 1s 15ms/step - loss: 0.6524 - Categorical_Accuracy: 0.7720 - AUC: 0.9852 - val_loss: 0.7349 - val_Categorical_Accuracy: 0.7680 - val_AUC: 0.9783 - lr: 2.0000e-05\n",
      "Epoch 63/75\n",
      "30/30 [==============================] - 1s 16ms/step - loss: 0.6089 - Categorical_Accuracy: 0.7807 - AUC: 0.9871 - val_loss: 0.7325 - val_Categorical_Accuracy: 0.7680 - val_AUC: 0.9790 - lr: 2.0000e-05\n",
      "Epoch 64/75\n",
      "30/30 [==============================] - 1s 16ms/step - loss: 0.6450 - Categorical_Accuracy: 0.7660 - AUC: 0.9850 - val_loss: 0.7322 - val_Categorical_Accuracy: 0.7740 - val_AUC: 0.9790 - lr: 2.0000e-05\n",
      "Epoch 65/75\n",
      "30/30 [==============================] - 1s 16ms/step - loss: 0.6256 - Categorical_Accuracy: 0.7620 - AUC: 0.9866 - val_loss: 0.7289 - val_Categorical_Accuracy: 0.7640 - val_AUC: 0.9792 - lr: 2.0000e-05\n",
      "Epoch 66/75\n",
      "30/30 [==============================] - 1s 16ms/step - loss: 0.6532 - Categorical_Accuracy: 0.7640 - AUC: 0.9851 - val_loss: 0.7268 - val_Categorical_Accuracy: 0.7860 - val_AUC: 0.9786 - lr: 2.0000e-05\n",
      "Epoch 67/75\n",
      "30/30 [==============================] - 1s 16ms/step - loss: 0.6490 - Categorical_Accuracy: 0.7700 - AUC: 0.9849 - val_loss: 0.7227 - val_Categorical_Accuracy: 0.7680 - val_AUC: 0.9798 - lr: 2.0000e-05\n",
      "Epoch 68/75\n",
      "30/30 [==============================] - 1s 16ms/step - loss: 0.6387 - Categorical_Accuracy: 0.7707 - AUC: 0.9848 - val_loss: 0.7248 - val_Categorical_Accuracy: 0.7640 - val_AUC: 0.9792 - lr: 2.0000e-05\n",
      "Epoch 69/75\n",
      "30/30 [==============================] - 1s 15ms/step - loss: 0.6402 - Categorical_Accuracy: 0.7653 - AUC: 0.9852 - val_loss: 0.7314 - val_Categorical_Accuracy: 0.7660 - val_AUC: 0.9789 - lr: 2.0000e-05\n",
      "Epoch 70/75\n",
      "29/30 [============================>.] - ETA: 0s - loss: 0.6208 - Categorical_Accuracy: 0.7690 - AUC: 0.9864\n",
      "Epoch 00070: ReduceLROnPlateau reducing learning rate to 1e-05.\n",
      "30/30 [==============================] - 1s 16ms/step - loss: 0.6192 - Categorical_Accuracy: 0.7707 - AUC: 0.9865 - val_loss: 0.7250 - val_Categorical_Accuracy: 0.7700 - val_AUC: 0.9798 - lr: 2.0000e-05\n",
      "Epoch 71/75\n",
      "30/30 [==============================] - 1s 16ms/step - loss: 0.5763 - Categorical_Accuracy: 0.7947 - AUC: 0.9887 - val_loss: 0.7212 - val_Categorical_Accuracy: 0.7680 - val_AUC: 0.9793 - lr: 1.0000e-05\n",
      "Epoch 72/75\n",
      "30/30 [==============================] - 1s 16ms/step - loss: 0.6246 - Categorical_Accuracy: 0.7693 - AUC: 0.9860 - val_loss: 0.7172 - val_Categorical_Accuracy: 0.7800 - val_AUC: 0.9788 - lr: 1.0000e-05\n",
      "Epoch 73/75\n",
      "30/30 [==============================] - 1s 16ms/step - loss: 0.5930 - Categorical_Accuracy: 0.7880 - AUC: 0.9877 - val_loss: 0.7205 - val_Categorical_Accuracy: 0.7760 - val_AUC: 0.9794 - lr: 1.0000e-05\n",
      "Epoch 74/75\n",
      "30/30 [==============================] - 1s 16ms/step - loss: 0.6063 - Categorical_Accuracy: 0.7793 - AUC: 0.9871 - val_loss: 0.7179 - val_Categorical_Accuracy: 0.7660 - val_AUC: 0.9788 - lr: 1.0000e-05\n",
      "Epoch 75/75\n",
      "30/30 [==============================] - 1s 18ms/step - loss: 0.5789 - Categorical_Accuracy: 0.7913 - AUC: 0.9883 - val_loss: 0.7152 - val_Categorical_Accuracy: 0.7820 - val_AUC: 0.9789 - lr: 1.0000e-05\n"
     ]
    }
   ]
  },
  {
   "cell_type": "code",
   "metadata": {
    "id": "c_86FakJETb-"
   },
   "source": [
    "shared.trainable = False"
   ],
   "execution_count": null,
   "outputs": []
  },
  {
   "cell_type": "code",
   "metadata": {
    "id": "6gzF-Z_KID5v"
   },
   "source": [
    "newSharedLayers = shared(inputEN)\n",
    "newLayersEN = languagelayers(NUM_LABELS_EN,'EN')(newSharedLayers)\n",
    "\n",
    "modelENRetrain = tf.keras.Model(\n",
    "    inputs=inputEN,\n",
    "    outputs=newLayersEN,\n",
    "    name='ENModelRetrained'\n",
    ")"
   ],
   "execution_count": null,
   "outputs": []
  },
  {
   "cell_type": "code",
   "metadata": {
    "pycharm": {
     "name": "#%%\n",
     "is_executing": true
    },
    "id": "B7swrdTI85T0"
   },
   "source": [
    "modelENRetrain.compile(optimizer = tf.keras.optimizers.Adam(learning_rate=LEARNING_RATE),\n",
    "    loss=tf.keras.losses.CategoricalCrossentropy(),\n",
    "    metrics=[tf.keras.metrics.CategoricalAccuracy(name='Categorical Accuracy'),tf.keras.metrics.AUC(name='AUC')])\n",
    "\n",
    "# modelEN.evaluate(testdatasetEN)"
   ],
   "execution_count": null,
   "outputs": []
  },
  {
   "cell_type": "code",
   "metadata": {
    "colab": {
     "base_uri": "https://localhost:8080/"
    },
    "id": "S--1Rd73I3Ms",
    "executionInfo": {
     "status": "ok",
     "timestamp": 1638882936113,
     "user_tz": 300,
     "elapsed": 65406,
     "user": {
      "displayName": "Andrew Ning",
      "photoUrl": "https://lh3.googleusercontent.com/a-/AOh14GgyUiXynCeybWnGTpfHnOSTarAoJjvj-8rK8oxkzQ=s64",
      "userId": "04097743773373129918"
     }
    },
    "outputId": "d35d1f83-b8af-4eda-9e51-49a942410c6f"
   },
   "source": [
    "ext = '-RETRAIN-EN'\n",
    "training_callbackRETRAINEN = callbacks.TensorBoard(log_dir=LOG_DIR + RUN + ext)\n",
    "\n",
    "historyENRetrain = modelENRetrain.fit(\n",
    "    x = traindatasetEN,\n",
    "    validation_data = valdatasetEN,\n",
    "    epochs=EPOCHS,\n",
    "    steps_per_epoch=STEPS_PER_EPOCH,\n",
    "    callbacks=[training_callbackRETRAINEN,earlystopping_callback,reduce_lr_callback],\n",
    "    verbose=1\n",
    ")"
   ],
   "execution_count": null,
   "outputs": [
    {
     "output_type": "stream",
     "name": "stdout",
     "text": [
      "Epoch 1/75\n",
      "30/30 [==============================] - 2s 29ms/step - loss: 3.2492 - Categorical Accuracy: 0.0820 - AUC: 0.5251 - val_loss: 2.6514 - val_Categorical Accuracy: 0.1240 - val_AUC: 0.6108 - lr: 1.0000e-04\n",
      "Epoch 2/75\n",
      "30/30 [==============================] - 1s 11ms/step - loss: 2.8011 - Categorical Accuracy: 0.1073 - AUC: 0.5557 - val_loss: 2.6206 - val_Categorical Accuracy: 0.1540 - val_AUC: 0.6801 - lr: 1.0000e-04\n",
      "Epoch 3/75\n",
      "30/30 [==============================] - 1s 11ms/step - loss: 2.6653 - Categorical Accuracy: 0.1220 - AUC: 0.6053 - val_loss: 2.5902 - val_Categorical Accuracy: 0.1680 - val_AUC: 0.7329 - lr: 1.0000e-04\n",
      "Epoch 4/75\n",
      "30/30 [==============================] - 1s 14ms/step - loss: 2.6406 - Categorical Accuracy: 0.1293 - AUC: 0.6149 - val_loss: 2.5382 - val_Categorical Accuracy: 0.2000 - val_AUC: 0.7885 - lr: 1.0000e-04\n",
      "Epoch 5/75\n",
      "30/30 [==============================] - 1s 12ms/step - loss: 2.5730 - Categorical Accuracy: 0.1613 - AUC: 0.6495 - val_loss: 2.4855 - val_Categorical Accuracy: 0.2000 - val_AUC: 0.8082 - lr: 1.0000e-04\n",
      "Epoch 6/75\n",
      "30/30 [==============================] - 1s 12ms/step - loss: 2.5338 - Categorical Accuracy: 0.1633 - AUC: 0.6692 - val_loss: 2.4158 - val_Categorical Accuracy: 0.2360 - val_AUC: 0.8342 - lr: 1.0000e-04\n",
      "Epoch 7/75\n",
      "30/30 [==============================] - 1s 15ms/step - loss: 2.4408 - Categorical Accuracy: 0.1980 - AUC: 0.7043 - val_loss: 2.3319 - val_Categorical Accuracy: 0.2480 - val_AUC: 0.8533 - lr: 1.0000e-04\n",
      "Epoch 8/75\n",
      "30/30 [==============================] - 1s 13ms/step - loss: 2.4092 - Categorical Accuracy: 0.2073 - AUC: 0.7136 - val_loss: 2.2678 - val_Categorical Accuracy: 0.2860 - val_AUC: 0.8691 - lr: 1.0000e-04\n",
      "Epoch 9/75\n",
      "30/30 [==============================] - 1s 12ms/step - loss: 2.3329 - Categorical Accuracy: 0.2407 - AUC: 0.7442 - val_loss: 2.1759 - val_Categorical Accuracy: 0.3180 - val_AUC: 0.8842 - lr: 1.0000e-04\n",
      "Epoch 10/75\n",
      "30/30 [==============================] - 1s 15ms/step - loss: 2.2739 - Categorical Accuracy: 0.2440 - AUC: 0.7606 - val_loss: 2.1011 - val_Categorical Accuracy: 0.3640 - val_AUC: 0.8974 - lr: 1.0000e-04\n",
      "Epoch 11/75\n",
      "30/30 [==============================] - 1s 12ms/step - loss: 2.2222 - Categorical Accuracy: 0.2647 - AUC: 0.7793 - val_loss: 2.0320 - val_Categorical Accuracy: 0.4380 - val_AUC: 0.9051 - lr: 1.0000e-04\n",
      "Epoch 12/75\n",
      "30/30 [==============================] - 1s 13ms/step - loss: 2.1709 - Categorical Accuracy: 0.2613 - AUC: 0.7935 - val_loss: 1.9541 - val_Categorical Accuracy: 0.4580 - val_AUC: 0.9112 - lr: 1.0000e-04\n",
      "Epoch 13/75\n",
      "30/30 [==============================] - 1s 13ms/step - loss: 2.0848 - Categorical Accuracy: 0.3127 - AUC: 0.8136 - val_loss: 1.8858 - val_Categorical Accuracy: 0.4820 - val_AUC: 0.9160 - lr: 1.0000e-04\n",
      "Epoch 14/75\n",
      "30/30 [==============================] - 1s 13ms/step - loss: 2.0290 - Categorical Accuracy: 0.3140 - AUC: 0.8312 - val_loss: 1.8238 - val_Categorical Accuracy: 0.4940 - val_AUC: 0.9189 - lr: 1.0000e-04\n",
      "Epoch 15/75\n",
      "30/30 [==============================] - 1s 12ms/step - loss: 2.0182 - Categorical Accuracy: 0.3173 - AUC: 0.8296 - val_loss: 1.7886 - val_Categorical Accuracy: 0.5000 - val_AUC: 0.9244 - lr: 1.0000e-04\n",
      "Epoch 16/75\n",
      "30/30 [==============================] - 1s 12ms/step - loss: 1.9405 - Categorical Accuracy: 0.3400 - AUC: 0.8477 - val_loss: 1.7122 - val_Categorical Accuracy: 0.5480 - val_AUC: 0.9317 - lr: 1.0000e-04\n",
      "Epoch 17/75\n",
      "30/30 [==============================] - 1s 12ms/step - loss: 1.8677 - Categorical Accuracy: 0.3760 - AUC: 0.8605 - val_loss: 1.6517 - val_Categorical Accuracy: 0.5600 - val_AUC: 0.9358 - lr: 1.0000e-04\n",
      "Epoch 18/75\n",
      "30/30 [==============================] - 1s 14ms/step - loss: 1.8021 - Categorical Accuracy: 0.3913 - AUC: 0.8747 - val_loss: 1.5791 - val_Categorical Accuracy: 0.5840 - val_AUC: 0.9403 - lr: 1.0000e-04\n",
      "Epoch 19/75\n",
      "30/30 [==============================] - 1s 12ms/step - loss: 1.7913 - Categorical Accuracy: 0.3933 - AUC: 0.8744 - val_loss: 1.5375 - val_Categorical Accuracy: 0.6000 - val_AUC: 0.9436 - lr: 1.0000e-04\n",
      "Epoch 20/75\n",
      "30/30 [==============================] - 1s 12ms/step - loss: 1.7708 - Categorical Accuracy: 0.3980 - AUC: 0.8793 - val_loss: 1.4950 - val_Categorical Accuracy: 0.6160 - val_AUC: 0.9466 - lr: 1.0000e-04\n",
      "Epoch 21/75\n",
      "30/30 [==============================] - 1s 12ms/step - loss: 1.6987 - Categorical Accuracy: 0.4100 - AUC: 0.8904 - val_loss: 1.4430 - val_Categorical Accuracy: 0.6240 - val_AUC: 0.9486 - lr: 1.0000e-04\n",
      "Epoch 22/75\n",
      "30/30 [==============================] - 1s 13ms/step - loss: 1.6491 - Categorical Accuracy: 0.4273 - AUC: 0.8983 - val_loss: 1.4021 - val_Categorical Accuracy: 0.6440 - val_AUC: 0.9505 - lr: 1.0000e-04\n",
      "Epoch 23/75\n",
      "30/30 [==============================] - 1s 13ms/step - loss: 1.6317 - Categorical Accuracy: 0.4487 - AUC: 0.8988 - val_loss: 1.3665 - val_Categorical Accuracy: 0.6500 - val_AUC: 0.9535 - lr: 1.0000e-04\n",
      "Epoch 24/75\n",
      "30/30 [==============================] - 1s 12ms/step - loss: 1.6004 - Categorical Accuracy: 0.4373 - AUC: 0.9063 - val_loss: 1.3425 - val_Categorical Accuracy: 0.6460 - val_AUC: 0.9548 - lr: 1.0000e-04\n",
      "Epoch 25/75\n",
      "30/30 [==============================] - 1s 12ms/step - loss: 1.5732 - Categorical Accuracy: 0.4640 - AUC: 0.9085 - val_loss: 1.2976 - val_Categorical Accuracy: 0.6500 - val_AUC: 0.9566 - lr: 1.0000e-04\n",
      "Epoch 26/75\n",
      "30/30 [==============================] - 1s 12ms/step - loss: 1.5156 - Categorical Accuracy: 0.4800 - AUC: 0.9151 - val_loss: 1.2712 - val_Categorical Accuracy: 0.6520 - val_AUC: 0.9576 - lr: 1.0000e-04\n",
      "Epoch 27/75\n",
      "30/30 [==============================] - 1s 13ms/step - loss: 1.5114 - Categorical Accuracy: 0.4760 - AUC: 0.9160 - val_loss: 1.2361 - val_Categorical Accuracy: 0.6560 - val_AUC: 0.9592 - lr: 1.0000e-04\n",
      "Epoch 28/75\n",
      "30/30 [==============================] - 1s 12ms/step - loss: 1.4599 - Categorical Accuracy: 0.4887 - AUC: 0.9233 - val_loss: 1.2175 - val_Categorical Accuracy: 0.6640 - val_AUC: 0.9606 - lr: 1.0000e-04\n",
      "Epoch 29/75\n",
      "30/30 [==============================] - 1s 12ms/step - loss: 1.4128 - Categorical Accuracy: 0.5087 - AUC: 0.9278 - val_loss: 1.1959 - val_Categorical Accuracy: 0.6600 - val_AUC: 0.9609 - lr: 1.0000e-04\n",
      "Epoch 30/75\n",
      "30/30 [==============================] - 1s 13ms/step - loss: 1.4045 - Categorical Accuracy: 0.5200 - AUC: 0.9271 - val_loss: 1.1694 - val_Categorical Accuracy: 0.6760 - val_AUC: 0.9626 - lr: 1.0000e-04\n",
      "Epoch 31/75\n",
      "30/30 [==============================] - 1s 12ms/step - loss: 1.3419 - Categorical Accuracy: 0.5387 - AUC: 0.9355 - val_loss: 1.1386 - val_Categorical Accuracy: 0.6700 - val_AUC: 0.9622 - lr: 1.0000e-04\n",
      "Epoch 32/75\n",
      "30/30 [==============================] - 1s 13ms/step - loss: 1.3257 - Categorical Accuracy: 0.5353 - AUC: 0.9368 - val_loss: 1.1062 - val_Categorical Accuracy: 0.6680 - val_AUC: 0.9640 - lr: 1.0000e-04\n",
      "Epoch 33/75\n",
      "30/30 [==============================] - 1s 13ms/step - loss: 1.3210 - Categorical Accuracy: 0.5407 - AUC: 0.9375 - val_loss: 1.1016 - val_Categorical Accuracy: 0.6820 - val_AUC: 0.9653 - lr: 1.0000e-04\n",
      "Epoch 34/75\n",
      "30/30 [==============================] - 1s 12ms/step - loss: 1.2704 - Categorical Accuracy: 0.5607 - AUC: 0.9429 - val_loss: 1.0887 - val_Categorical Accuracy: 0.6800 - val_AUC: 0.9650 - lr: 1.0000e-04\n",
      "Epoch 35/75\n",
      "30/30 [==============================] - 1s 12ms/step - loss: 1.2713 - Categorical Accuracy: 0.5687 - AUC: 0.9418 - val_loss: 1.0670 - val_Categorical Accuracy: 0.6980 - val_AUC: 0.9664 - lr: 1.0000e-04\n",
      "Epoch 36/75\n",
      "30/30 [==============================] - 1s 12ms/step - loss: 1.2011 - Categorical Accuracy: 0.5747 - AUC: 0.9491 - val_loss: 1.0348 - val_Categorical Accuracy: 0.6860 - val_AUC: 0.9672 - lr: 1.0000e-04\n",
      "Epoch 37/75\n",
      "30/30 [==============================] - 1s 13ms/step - loss: 1.2038 - Categorical Accuracy: 0.5800 - AUC: 0.9485 - val_loss: 1.0101 - val_Categorical Accuracy: 0.6880 - val_AUC: 0.9687 - lr: 1.0000e-04\n",
      "Epoch 38/75\n",
      "30/30 [==============================] - 1s 13ms/step - loss: 1.1929 - Categorical Accuracy: 0.5793 - AUC: 0.9486 - val_loss: 0.9917 - val_Categorical Accuracy: 0.7000 - val_AUC: 0.9691 - lr: 1.0000e-04\n",
      "Epoch 39/75\n",
      "30/30 [==============================] - 1s 15ms/step - loss: 1.1780 - Categorical Accuracy: 0.5973 - AUC: 0.9498 - val_loss: 0.9745 - val_Categorical Accuracy: 0.7100 - val_AUC: 0.9704 - lr: 1.0000e-04\n",
      "Epoch 40/75\n",
      "30/30 [==============================] - 1s 13ms/step - loss: 1.1393 - Categorical Accuracy: 0.6080 - AUC: 0.9540 - val_loss: 0.9553 - val_Categorical Accuracy: 0.7100 - val_AUC: 0.9717 - lr: 1.0000e-04\n",
      "Epoch 41/75\n",
      "30/30 [==============================] - 1s 13ms/step - loss: 1.1067 - Categorical Accuracy: 0.6160 - AUC: 0.9552 - val_loss: 0.9517 - val_Categorical Accuracy: 0.7140 - val_AUC: 0.9711 - lr: 1.0000e-04\n",
      "Epoch 42/75\n",
      "30/30 [==============================] - 1s 12ms/step - loss: 1.1183 - Categorical Accuracy: 0.6160 - AUC: 0.9554 - val_loss: 0.9392 - val_Categorical Accuracy: 0.7080 - val_AUC: 0.9708 - lr: 1.0000e-04\n",
      "Epoch 43/75\n",
      "30/30 [==============================] - 1s 13ms/step - loss: 1.0723 - Categorical Accuracy: 0.6240 - AUC: 0.9588 - val_loss: 0.9216 - val_Categorical Accuracy: 0.7280 - val_AUC: 0.9713 - lr: 1.0000e-04\n",
      "Epoch 44/75\n",
      "30/30 [==============================] - 1s 13ms/step - loss: 1.0757 - Categorical Accuracy: 0.6393 - AUC: 0.9583 - val_loss: 0.9310 - val_Categorical Accuracy: 0.7260 - val_AUC: 0.9715 - lr: 1.0000e-04\n",
      "Epoch 45/75\n",
      "30/30 [==============================] - 1s 13ms/step - loss: 1.0437 - Categorical Accuracy: 0.6393 - AUC: 0.9616 - val_loss: 0.9057 - val_Categorical Accuracy: 0.7300 - val_AUC: 0.9725 - lr: 1.0000e-04\n",
      "Epoch 46/75\n",
      "30/30 [==============================] - 1s 13ms/step - loss: 1.0298 - Categorical Accuracy: 0.6453 - AUC: 0.9624 - val_loss: 0.8908 - val_Categorical Accuracy: 0.7200 - val_AUC: 0.9727 - lr: 1.0000e-04\n",
      "Epoch 47/75\n",
      "30/30 [==============================] - 1s 13ms/step - loss: 1.0385 - Categorical Accuracy: 0.6433 - AUC: 0.9608 - val_loss: 0.8837 - val_Categorical Accuracy: 0.7240 - val_AUC: 0.9729 - lr: 1.0000e-04\n",
      "Epoch 48/75\n",
      "30/30 [==============================] - 1s 13ms/step - loss: 1.0559 - Categorical Accuracy: 0.6393 - AUC: 0.9601 - val_loss: 0.8864 - val_Categorical Accuracy: 0.7340 - val_AUC: 0.9727 - lr: 1.0000e-04\n",
      "Epoch 49/75\n",
      "30/30 [==============================] - 1s 14ms/step - loss: 0.9909 - Categorical Accuracy: 0.6600 - AUC: 0.9651 - val_loss: 0.8758 - val_Categorical Accuracy: 0.7460 - val_AUC: 0.9730 - lr: 1.0000e-04\n",
      "Epoch 50/75\n",
      "30/30 [==============================] - 1s 14ms/step - loss: 0.9890 - Categorical Accuracy: 0.6653 - AUC: 0.9643 - val_loss: 0.8686 - val_Categorical Accuracy: 0.7340 - val_AUC: 0.9732 - lr: 1.0000e-04\n",
      "Epoch 51/75\n",
      "30/30 [==============================] - 1s 14ms/step - loss: 0.9499 - Categorical Accuracy: 0.6787 - AUC: 0.9676 - val_loss: 0.8490 - val_Categorical Accuracy: 0.7500 - val_AUC: 0.9733 - lr: 1.0000e-04\n",
      "Epoch 52/75\n",
      "30/30 [==============================] - 1s 13ms/step - loss: 0.9178 - Categorical Accuracy: 0.6933 - AUC: 0.9690 - val_loss: 0.8355 - val_Categorical Accuracy: 0.7360 - val_AUC: 0.9735 - lr: 1.0000e-04\n",
      "Epoch 53/75\n",
      "30/30 [==============================] - 1s 13ms/step - loss: 0.9320 - Categorical Accuracy: 0.6880 - AUC: 0.9668 - val_loss: 0.8294 - val_Categorical Accuracy: 0.7360 - val_AUC: 0.9737 - lr: 1.0000e-04\n",
      "Epoch 54/75\n",
      "30/30 [==============================] - 1s 13ms/step - loss: 0.9356 - Categorical Accuracy: 0.6840 - AUC: 0.9679 - val_loss: 0.8293 - val_Categorical Accuracy: 0.7380 - val_AUC: 0.9742 - lr: 1.0000e-04\n",
      "Epoch 55/75\n",
      "30/30 [==============================] - 1s 13ms/step - loss: 0.8712 - Categorical Accuracy: 0.6953 - AUC: 0.9729 - val_loss: 0.8252 - val_Categorical Accuracy: 0.7340 - val_AUC: 0.9744 - lr: 1.0000e-04\n",
      "Epoch 56/75\n",
      "30/30 [==============================] - 1s 13ms/step - loss: 0.8478 - Categorical Accuracy: 0.7140 - AUC: 0.9742 - val_loss: 0.8089 - val_Categorical Accuracy: 0.7500 - val_AUC: 0.9751 - lr: 1.0000e-04\n",
      "Epoch 57/75\n",
      "30/30 [==============================] - 1s 13ms/step - loss: 0.8681 - Categorical Accuracy: 0.7040 - AUC: 0.9727 - val_loss: 0.8184 - val_Categorical Accuracy: 0.7400 - val_AUC: 0.9743 - lr: 1.0000e-04\n",
      "Epoch 58/75\n",
      "30/30 [==============================] - 1s 13ms/step - loss: 0.8837 - Categorical Accuracy: 0.7020 - AUC: 0.9711 - val_loss: 0.8249 - val_Categorical Accuracy: 0.7480 - val_AUC: 0.9743 - lr: 1.0000e-04\n",
      "Epoch 59/75\n",
      "30/30 [==============================] - 1s 12ms/step - loss: 0.8426 - Categorical Accuracy: 0.6993 - AUC: 0.9754 - val_loss: 0.7997 - val_Categorical Accuracy: 0.7480 - val_AUC: 0.9749 - lr: 1.0000e-04\n",
      "Epoch 60/75\n",
      "30/30 [==============================] - 1s 12ms/step - loss: 0.8263 - Categorical Accuracy: 0.7320 - AUC: 0.9751 - val_loss: 0.7915 - val_Categorical Accuracy: 0.7600 - val_AUC: 0.9755 - lr: 1.0000e-04\n",
      "Epoch 61/75\n",
      "30/30 [==============================] - 1s 13ms/step - loss: 0.8332 - Categorical Accuracy: 0.7113 - AUC: 0.9753 - val_loss: 0.7849 - val_Categorical Accuracy: 0.7580 - val_AUC: 0.9754 - lr: 1.0000e-04\n",
      "Epoch 62/75\n",
      "30/30 [==============================] - 1s 13ms/step - loss: 0.8099 - Categorical Accuracy: 0.7087 - AUC: 0.9764 - val_loss: 0.7990 - val_Categorical Accuracy: 0.7420 - val_AUC: 0.9744 - lr: 1.0000e-04\n",
      "Epoch 63/75\n",
      "30/30 [==============================] - 1s 12ms/step - loss: 0.7602 - Categorical Accuracy: 0.7453 - AUC: 0.9795 - val_loss: 0.7826 - val_Categorical Accuracy: 0.7580 - val_AUC: 0.9765 - lr: 1.0000e-04\n",
      "Epoch 64/75\n",
      "30/30 [==============================] - 1s 13ms/step - loss: 0.7895 - Categorical Accuracy: 0.7133 - AUC: 0.9775 - val_loss: 0.7735 - val_Categorical Accuracy: 0.7580 - val_AUC: 0.9760 - lr: 1.0000e-04\n",
      "Epoch 65/75\n",
      "30/30 [==============================] - 1s 12ms/step - loss: 0.7629 - Categorical Accuracy: 0.7273 - AUC: 0.9787 - val_loss: 0.7764 - val_Categorical Accuracy: 0.7540 - val_AUC: 0.9758 - lr: 1.0000e-04\n",
      "Epoch 66/75\n",
      "30/30 [==============================] - 1s 12ms/step - loss: 0.7560 - Categorical Accuracy: 0.7360 - AUC: 0.9797 - val_loss: 0.7615 - val_Categorical Accuracy: 0.7520 - val_AUC: 0.9763 - lr: 1.0000e-04\n",
      "Epoch 67/75\n",
      "30/30 [==============================] - 1s 13ms/step - loss: 0.7280 - Categorical Accuracy: 0.7447 - AUC: 0.9807 - val_loss: 0.7612 - val_Categorical Accuracy: 0.7560 - val_AUC: 0.9761 - lr: 1.0000e-04\n",
      "Epoch 68/75\n",
      "30/30 [==============================] - 1s 15ms/step - loss: 0.7403 - Categorical Accuracy: 0.7367 - AUC: 0.9790 - val_loss: 0.7651 - val_Categorical Accuracy: 0.7520 - val_AUC: 0.9769 - lr: 1.0000e-04\n",
      "Epoch 69/75\n",
      "30/30 [==============================] - 1s 13ms/step - loss: 0.7654 - Categorical Accuracy: 0.7287 - AUC: 0.9793 - val_loss: 0.7610 - val_Categorical Accuracy: 0.7560 - val_AUC: 0.9776 - lr: 1.0000e-04\n",
      "Epoch 70/75\n",
      "30/30 [==============================] - 1s 13ms/step - loss: 0.7102 - Categorical Accuracy: 0.7587 - AUC: 0.9813 - val_loss: 0.7541 - val_Categorical Accuracy: 0.7680 - val_AUC: 0.9766 - lr: 1.0000e-04\n",
      "Epoch 71/75\n",
      "30/30 [==============================] - 1s 12ms/step - loss: 0.7142 - Categorical Accuracy: 0.7540 - AUC: 0.9817 - val_loss: 0.7488 - val_Categorical Accuracy: 0.7520 - val_AUC: 0.9766 - lr: 1.0000e-04\n",
      "Epoch 72/75\n",
      "30/30 [==============================] - 1s 12ms/step - loss: 0.6867 - Categorical Accuracy: 0.7573 - AUC: 0.9834 - val_loss: 0.7456 - val_Categorical Accuracy: 0.7520 - val_AUC: 0.9778 - lr: 1.0000e-04\n",
      "Epoch 73/75\n",
      "30/30 [==============================] - 1s 12ms/step - loss: 0.7097 - Categorical Accuracy: 0.7620 - AUC: 0.9803 - val_loss: 0.7442 - val_Categorical Accuracy: 0.7640 - val_AUC: 0.9776 - lr: 1.0000e-04\n",
      "Epoch 74/75\n",
      "30/30 [==============================] - 1s 13ms/step - loss: 0.7110 - Categorical Accuracy: 0.7620 - AUC: 0.9812 - val_loss: 0.7334 - val_Categorical Accuracy: 0.7680 - val_AUC: 0.9780 - lr: 1.0000e-04\n",
      "Epoch 75/75\n",
      "30/30 [==============================] - 1s 13ms/step - loss: 0.6688 - Categorical Accuracy: 0.7807 - AUC: 0.9831 - val_loss: 0.7401 - val_Categorical Accuracy: 0.7700 - val_AUC: 0.9776 - lr: 1.0000e-04\n"
     ]
    }
   ]
  },
  {
   "cell_type": "code",
   "metadata": {
    "id": "FBH9yzYpJq9C"
   },
   "source": [
    "# print(modelENRetrain.layers[-2].weights)"
   ],
   "execution_count": null,
   "outputs": []
  },
  {
   "cell_type": "code",
   "metadata": {
    "colab": {
     "base_uri": "https://localhost:8080/"
    },
    "id": "UYC_GK_fNnKT",
    "executionInfo": {
     "status": "ok",
     "timestamp": 1638883000299,
     "user_tz": 300,
     "elapsed": 64195,
     "user": {
      "displayName": "Andrew Ning",
      "photoUrl": "https://lh3.googleusercontent.com/a-/AOh14GgyUiXynCeybWnGTpfHnOSTarAoJjvj-8rK8oxkzQ=s64",
      "userId": "04097743773373129918"
     }
    },
    "outputId": "b6597c08-21b5-496e-bc36-f5e29e4942a5"
   },
   "source": [
    "newSharedLayers = shared(inputES)\n",
    "newLayersES = languagelayers(NUM_LABELS_ES,'ES')(newSharedLayers)\n",
    "\n",
    "modelESRetrain = tf.keras.Model(\n",
    "    inputs=inputES,\n",
    "    outputs=newLayersES,\n",
    "    name='ESModelRetrained'\n",
    ")\n",
    "\n",
    "modelESRetrain.compile(optimizer = tf.keras.optimizers.Adam(learning_rate=LEARNING_RATE),\n",
    "    loss=tf.keras.losses.CategoricalCrossentropy(),\n",
    "    metrics=[tf.keras.metrics.CategoricalAccuracy(name='Categorical Accuracy'),tf.keras.metrics.AUC(name='AUC')])\n",
    "\n",
    "ext = '-RETRAIN-ES'\n",
    "training_callbackRETRAINES = callbacks.TensorBoard(log_dir=LOG_DIR + RUN + ext)\n",
    "\n",
    "historyESRetrain = modelESRetrain.fit(\n",
    "    x = traindatasetES,\n",
    "    validation_data = valdatasetES,\n",
    "    epochs=EPOCHS,\n",
    "    steps_per_epoch=STEPS_PER_EPOCH,\n",
    "    callbacks=[training_callbackRETRAINES,earlystopping_callback,reduce_lr_callback],\n",
    "    verbose=1\n",
    ")"
   ],
   "execution_count": null,
   "outputs": [
    {
     "output_type": "stream",
     "name": "stdout",
     "text": [
      "Epoch 1/75\n",
      "30/30 [==============================] - 2s 28ms/step - loss: 2.8528 - Categorical Accuracy: 0.0660 - AUC: 0.5034 - val_loss: 2.4194 - val_Categorical Accuracy: 0.1120 - val_AUC: 0.5892 - lr: 1.0000e-04\n",
      "Epoch 2/75\n",
      "30/30 [==============================] - 1s 14ms/step - loss: 2.5142 - Categorical Accuracy: 0.0933 - AUC: 0.5424 - val_loss: 2.3966 - val_Categorical Accuracy: 0.1720 - val_AUC: 0.6649 - lr: 1.0000e-04\n",
      "Epoch 3/75\n",
      "30/30 [==============================] - 1s 11ms/step - loss: 2.4314 - Categorical Accuracy: 0.1040 - AUC: 0.5714 - val_loss: 2.3690 - val_Categorical Accuracy: 0.1960 - val_AUC: 0.7235 - lr: 1.0000e-04\n",
      "Epoch 4/75\n",
      "30/30 [==============================] - 1s 11ms/step - loss: 2.3641 - Categorical Accuracy: 0.1213 - AUC: 0.6138 - val_loss: 2.3258 - val_Categorical Accuracy: 0.2420 - val_AUC: 0.7605 - lr: 1.0000e-04\n",
      "Epoch 5/75\n",
      "30/30 [==============================] - 1s 12ms/step - loss: 2.3287 - Categorical Accuracy: 0.1393 - AUC: 0.6352 - val_loss: 2.2697 - val_Categorical Accuracy: 0.2600 - val_AUC: 0.8142 - lr: 1.0000e-04\n",
      "Epoch 6/75\n",
      "30/30 [==============================] - 1s 15ms/step - loss: 2.2608 - Categorical Accuracy: 0.1527 - AUC: 0.6789 - val_loss: 2.2234 - val_Categorical Accuracy: 0.3060 - val_AUC: 0.8427 - lr: 1.0000e-04\n",
      "Epoch 7/75\n",
      "30/30 [==============================] - 1s 13ms/step - loss: 2.2163 - Categorical Accuracy: 0.1760 - AUC: 0.6983 - val_loss: 2.1446 - val_Categorical Accuracy: 0.3440 - val_AUC: 0.8701 - lr: 1.0000e-04\n",
      "Epoch 8/75\n",
      "30/30 [==============================] - 1s 13ms/step - loss: 2.1438 - Categorical Accuracy: 0.1913 - AUC: 0.7339 - val_loss: 2.0454 - val_Categorical Accuracy: 0.3760 - val_AUC: 0.8930 - lr: 1.0000e-04\n",
      "Epoch 9/75\n",
      "30/30 [==============================] - 1s 12ms/step - loss: 2.1053 - Categorical Accuracy: 0.2107 - AUC: 0.7433 - val_loss: 1.9675 - val_Categorical Accuracy: 0.3720 - val_AUC: 0.9034 - lr: 1.0000e-04\n",
      "Epoch 10/75\n",
      "30/30 [==============================] - 1s 13ms/step - loss: 2.0140 - Categorical Accuracy: 0.2440 - AUC: 0.7809 - val_loss: 1.8754 - val_Categorical Accuracy: 0.4300 - val_AUC: 0.9165 - lr: 1.0000e-04\n",
      "Epoch 11/75\n",
      "30/30 [==============================] - 1s 13ms/step - loss: 1.9222 - Categorical Accuracy: 0.2587 - AUC: 0.8067 - val_loss: 1.7665 - val_Categorical Accuracy: 0.4400 - val_AUC: 0.9268 - lr: 1.0000e-04\n",
      "Epoch 12/75\n",
      "30/30 [==============================] - 1s 12ms/step - loss: 1.8988 - Categorical Accuracy: 0.2647 - AUC: 0.8154 - val_loss: 1.6917 - val_Categorical Accuracy: 0.4940 - val_AUC: 0.9335 - lr: 1.0000e-04\n",
      "Epoch 13/75\n",
      "30/30 [==============================] - 1s 12ms/step - loss: 1.8459 - Categorical Accuracy: 0.2827 - AUC: 0.8265 - val_loss: 1.6299 - val_Categorical Accuracy: 0.5280 - val_AUC: 0.9370 - lr: 1.0000e-04\n",
      "Epoch 14/75\n",
      "30/30 [==============================] - 1s 13ms/step - loss: 1.7744 - Categorical Accuracy: 0.2913 - AUC: 0.8457 - val_loss: 1.5424 - val_Categorical Accuracy: 0.5180 - val_AUC: 0.9429 - lr: 1.0000e-04\n",
      "Epoch 15/75\n",
      "30/30 [==============================] - 1s 13ms/step - loss: 1.7257 - Categorical Accuracy: 0.3293 - AUC: 0.8515 - val_loss: 1.4679 - val_Categorical Accuracy: 0.5680 - val_AUC: 0.9481 - lr: 1.0000e-04\n",
      "Epoch 16/75\n",
      "30/30 [==============================] - 1s 13ms/step - loss: 1.6283 - Categorical Accuracy: 0.3453 - AUC: 0.8721 - val_loss: 1.4120 - val_Categorical Accuracy: 0.5740 - val_AUC: 0.9517 - lr: 1.0000e-04\n",
      "Epoch 17/75\n",
      "30/30 [==============================] - 1s 12ms/step - loss: 1.5888 - Categorical Accuracy: 0.3733 - AUC: 0.8812 - val_loss: 1.3447 - val_Categorical Accuracy: 0.5740 - val_AUC: 0.9565 - lr: 1.0000e-04\n",
      "Epoch 18/75\n",
      "30/30 [==============================] - 1s 12ms/step - loss: 1.5628 - Categorical Accuracy: 0.3780 - AUC: 0.8829 - val_loss: 1.2991 - val_Categorical Accuracy: 0.5460 - val_AUC: 0.9571 - lr: 1.0000e-04\n",
      "Epoch 19/75\n",
      "30/30 [==============================] - 1s 13ms/step - loss: 1.5422 - Categorical Accuracy: 0.3827 - AUC: 0.8879 - val_loss: 1.2816 - val_Categorical Accuracy: 0.5580 - val_AUC: 0.9587 - lr: 1.0000e-04\n",
      "Epoch 20/75\n",
      "30/30 [==============================] - 1s 12ms/step - loss: 1.4559 - Categorical Accuracy: 0.4047 - AUC: 0.9018 - val_loss: 1.2267 - val_Categorical Accuracy: 0.5860 - val_AUC: 0.9623 - lr: 1.0000e-04\n",
      "Epoch 21/75\n",
      "30/30 [==============================] - 1s 15ms/step - loss: 1.4173 - Categorical Accuracy: 0.4160 - AUC: 0.9087 - val_loss: 1.1697 - val_Categorical Accuracy: 0.5660 - val_AUC: 0.9648 - lr: 1.0000e-04\n",
      "Epoch 22/75\n",
      "30/30 [==============================] - 1s 13ms/step - loss: 1.3615 - Categorical Accuracy: 0.4367 - AUC: 0.9148 - val_loss: 1.1266 - val_Categorical Accuracy: 0.5740 - val_AUC: 0.9669 - lr: 1.0000e-04\n",
      "Epoch 23/75\n",
      "30/30 [==============================] - 1s 12ms/step - loss: 1.3347 - Categorical Accuracy: 0.4400 - AUC: 0.9175 - val_loss: 1.0947 - val_Categorical Accuracy: 0.5980 - val_AUC: 0.9685 - lr: 1.0000e-04\n",
      "Epoch 24/75\n",
      "30/30 [==============================] - 1s 12ms/step - loss: 1.2984 - Categorical Accuracy: 0.4633 - AUC: 0.9242 - val_loss: 1.0648 - val_Categorical Accuracy: 0.6220 - val_AUC: 0.9701 - lr: 1.0000e-04\n",
      "Epoch 25/75\n",
      "30/30 [==============================] - 1s 12ms/step - loss: 1.2716 - Categorical Accuracy: 0.4640 - AUC: 0.9266 - val_loss: 1.0290 - val_Categorical Accuracy: 0.6140 - val_AUC: 0.9713 - lr: 1.0000e-04\n",
      "Epoch 26/75\n",
      "30/30 [==============================] - 1s 12ms/step - loss: 1.2494 - Categorical Accuracy: 0.4700 - AUC: 0.9294 - val_loss: 0.9886 - val_Categorical Accuracy: 0.6140 - val_AUC: 0.9732 - lr: 1.0000e-04\n",
      "Epoch 27/75\n",
      "30/30 [==============================] - 1s 12ms/step - loss: 1.2277 - Categorical Accuracy: 0.4827 - AUC: 0.9302 - val_loss: 0.9850 - val_Categorical Accuracy: 0.6260 - val_AUC: 0.9731 - lr: 1.0000e-04\n",
      "Epoch 28/75\n",
      "30/30 [==============================] - 1s 12ms/step - loss: 1.1939 - Categorical Accuracy: 0.4867 - AUC: 0.9351 - val_loss: 0.9635 - val_Categorical Accuracy: 0.6280 - val_AUC: 0.9741 - lr: 1.0000e-04\n",
      "Epoch 29/75\n",
      "30/30 [==============================] - 1s 12ms/step - loss: 1.1671 - Categorical Accuracy: 0.4953 - AUC: 0.9389 - val_loss: 0.9211 - val_Categorical Accuracy: 0.6440 - val_AUC: 0.9760 - lr: 1.0000e-04\n",
      "Epoch 30/75\n",
      "30/30 [==============================] - 1s 16ms/step - loss: 1.1493 - Categorical Accuracy: 0.4953 - AUC: 0.9393 - val_loss: 0.9101 - val_Categorical Accuracy: 0.6400 - val_AUC: 0.9766 - lr: 1.0000e-04\n",
      "Epoch 31/75\n",
      "30/30 [==============================] - 1s 13ms/step - loss: 1.1038 - Categorical Accuracy: 0.5340 - AUC: 0.9446 - val_loss: 0.8836 - val_Categorical Accuracy: 0.6520 - val_AUC: 0.9774 - lr: 1.0000e-04\n",
      "Epoch 32/75\n",
      "30/30 [==============================] - 1s 12ms/step - loss: 1.1070 - Categorical Accuracy: 0.5167 - AUC: 0.9432 - val_loss: 0.8533 - val_Categorical Accuracy: 0.6580 - val_AUC: 0.9783 - lr: 1.0000e-04\n",
      "Epoch 33/75\n",
      "30/30 [==============================] - 1s 13ms/step - loss: 1.1045 - Categorical Accuracy: 0.5140 - AUC: 0.9433 - val_loss: 0.8558 - val_Categorical Accuracy: 0.6600 - val_AUC: 0.9785 - lr: 1.0000e-04\n",
      "Epoch 34/75\n",
      "30/30 [==============================] - 1s 13ms/step - loss: 1.0677 - Categorical Accuracy: 0.5307 - AUC: 0.9473 - val_loss: 0.8240 - val_Categorical Accuracy: 0.6680 - val_AUC: 0.9796 - lr: 1.0000e-04\n",
      "Epoch 35/75\n",
      "30/30 [==============================] - 1s 12ms/step - loss: 1.0261 - Categorical Accuracy: 0.5467 - AUC: 0.9517 - val_loss: 0.8142 - val_Categorical Accuracy: 0.6740 - val_AUC: 0.9800 - lr: 1.0000e-04\n",
      "Epoch 36/75\n",
      "30/30 [==============================] - 1s 12ms/step - loss: 1.0013 - Categorical Accuracy: 0.5640 - AUC: 0.9547 - val_loss: 0.7902 - val_Categorical Accuracy: 0.6940 - val_AUC: 0.9805 - lr: 1.0000e-04\n",
      "Epoch 37/75\n",
      "30/30 [==============================] - 1s 12ms/step - loss: 1.0041 - Categorical Accuracy: 0.5547 - AUC: 0.9537 - val_loss: 0.7700 - val_Categorical Accuracy: 0.6920 - val_AUC: 0.9811 - lr: 1.0000e-04\n",
      "Epoch 38/75\n",
      "30/30 [==============================] - 1s 13ms/step - loss: 1.0084 - Categorical Accuracy: 0.5487 - AUC: 0.9527 - val_loss: 0.7610 - val_Categorical Accuracy: 0.6980 - val_AUC: 0.9815 - lr: 1.0000e-04\n",
      "Epoch 39/75\n",
      "30/30 [==============================] - 1s 12ms/step - loss: 1.0154 - Categorical Accuracy: 0.5387 - AUC: 0.9521 - val_loss: 0.7535 - val_Categorical Accuracy: 0.7080 - val_AUC: 0.9827 - lr: 1.0000e-04\n",
      "Epoch 40/75\n",
      "30/30 [==============================] - 1s 13ms/step - loss: 0.9539 - Categorical Accuracy: 0.5700 - AUC: 0.9586 - val_loss: 0.7414 - val_Categorical Accuracy: 0.7060 - val_AUC: 0.9825 - lr: 1.0000e-04\n",
      "Epoch 41/75\n",
      "30/30 [==============================] - 1s 12ms/step - loss: 0.9324 - Categorical Accuracy: 0.5780 - AUC: 0.9591 - val_loss: 0.7120 - val_Categorical Accuracy: 0.7060 - val_AUC: 0.9832 - lr: 1.0000e-04\n",
      "Epoch 42/75\n",
      "30/30 [==============================] - 1s 12ms/step - loss: 0.9402 - Categorical Accuracy: 0.5767 - AUC: 0.9572 - val_loss: 0.7089 - val_Categorical Accuracy: 0.6980 - val_AUC: 0.9834 - lr: 1.0000e-04\n",
      "Epoch 43/75\n",
      "30/30 [==============================] - 1s 13ms/step - loss: 0.9361 - Categorical Accuracy: 0.5760 - AUC: 0.9594 - val_loss: 0.7039 - val_Categorical Accuracy: 0.7260 - val_AUC: 0.9834 - lr: 1.0000e-04\n",
      "Epoch 44/75\n",
      "30/30 [==============================] - 1s 13ms/step - loss: 0.9058 - Categorical Accuracy: 0.5840 - AUC: 0.9618 - val_loss: 0.6948 - val_Categorical Accuracy: 0.6920 - val_AUC: 0.9841 - lr: 1.0000e-04\n",
      "Epoch 45/75\n",
      "30/30 [==============================] - 1s 12ms/step - loss: 0.8721 - Categorical Accuracy: 0.6087 - AUC: 0.9640 - val_loss: 0.6748 - val_Categorical Accuracy: 0.7200 - val_AUC: 0.9845 - lr: 1.0000e-04\n",
      "Epoch 46/75\n",
      "30/30 [==============================] - 1s 12ms/step - loss: 0.8427 - Categorical Accuracy: 0.6153 - AUC: 0.9669 - val_loss: 0.6703 - val_Categorical Accuracy: 0.7140 - val_AUC: 0.9847 - lr: 1.0000e-04\n",
      "Epoch 47/75\n",
      "30/30 [==============================] - 1s 13ms/step - loss: 0.8291 - Categorical Accuracy: 0.6093 - AUC: 0.9685 - val_loss: 0.6607 - val_Categorical Accuracy: 0.7180 - val_AUC: 0.9844 - lr: 1.0000e-04\n",
      "Epoch 48/75\n",
      "30/30 [==============================] - 1s 12ms/step - loss: 0.8303 - Categorical Accuracy: 0.6080 - AUC: 0.9672 - val_loss: 0.6540 - val_Categorical Accuracy: 0.7160 - val_AUC: 0.9852 - lr: 1.0000e-04\n",
      "Epoch 49/75\n",
      "30/30 [==============================] - 1s 13ms/step - loss: 0.8496 - Categorical Accuracy: 0.6047 - AUC: 0.9660 - val_loss: 0.6431 - val_Categorical Accuracy: 0.7260 - val_AUC: 0.9856 - lr: 1.0000e-04\n",
      "Epoch 50/75\n",
      "30/30 [==============================] - 1s 12ms/step - loss: 0.8427 - Categorical Accuracy: 0.6040 - AUC: 0.9662 - val_loss: 0.6390 - val_Categorical Accuracy: 0.7200 - val_AUC: 0.9856 - lr: 1.0000e-04\n",
      "Epoch 51/75\n",
      "30/30 [==============================] - 1s 13ms/step - loss: 0.8228 - Categorical Accuracy: 0.6160 - AUC: 0.9682 - val_loss: 0.6252 - val_Categorical Accuracy: 0.7280 - val_AUC: 0.9859 - lr: 1.0000e-04\n",
      "Epoch 52/75\n",
      "30/30 [==============================] - 1s 13ms/step - loss: 0.8012 - Categorical Accuracy: 0.6180 - AUC: 0.9696 - val_loss: 0.6140 - val_Categorical Accuracy: 0.7220 - val_AUC: 0.9862 - lr: 1.0000e-04\n",
      "Epoch 53/75\n",
      "30/30 [==============================] - 1s 12ms/step - loss: 0.7747 - Categorical Accuracy: 0.6453 - AUC: 0.9711 - val_loss: 0.6005 - val_Categorical Accuracy: 0.7280 - val_AUC: 0.9867 - lr: 1.0000e-04\n",
      "Epoch 54/75\n",
      "30/30 [==============================] - 1s 13ms/step - loss: 0.7692 - Categorical Accuracy: 0.6527 - AUC: 0.9703 - val_loss: 0.5934 - val_Categorical Accuracy: 0.7240 - val_AUC: 0.9864 - lr: 1.0000e-04\n",
      "Epoch 55/75\n",
      "30/30 [==============================] - 1s 13ms/step - loss: 0.7392 - Categorical Accuracy: 0.6387 - AUC: 0.9741 - val_loss: 0.5870 - val_Categorical Accuracy: 0.7260 - val_AUC: 0.9868 - lr: 1.0000e-04\n",
      "Epoch 56/75\n",
      "30/30 [==============================] - 1s 12ms/step - loss: 0.8135 - Categorical Accuracy: 0.6400 - AUC: 0.9667 - val_loss: 0.5904 - val_Categorical Accuracy: 0.7160 - val_AUC: 0.9865 - lr: 1.0000e-04\n",
      "Epoch 57/75\n",
      "30/30 [==============================] - 1s 13ms/step - loss: 0.7433 - Categorical Accuracy: 0.6440 - AUC: 0.9731 - val_loss: 0.5903 - val_Categorical Accuracy: 0.7300 - val_AUC: 0.9866 - lr: 1.0000e-04\n",
      "Epoch 58/75\n",
      "30/30 [==============================] - 1s 12ms/step - loss: 0.7206 - Categorical Accuracy: 0.6547 - AUC: 0.9747 - val_loss: 0.5667 - val_Categorical Accuracy: 0.7340 - val_AUC: 0.9872 - lr: 1.0000e-04\n",
      "Epoch 59/75\n",
      "30/30 [==============================] - 1s 13ms/step - loss: 0.7665 - Categorical Accuracy: 0.6393 - AUC: 0.9698 - val_loss: 0.5612 - val_Categorical Accuracy: 0.7300 - val_AUC: 0.9873 - lr: 1.0000e-04\n",
      "Epoch 60/75\n",
      "30/30 [==============================] - 1s 13ms/step - loss: 0.7423 - Categorical Accuracy: 0.6487 - AUC: 0.9723 - val_loss: 0.5607 - val_Categorical Accuracy: 0.7320 - val_AUC: 0.9873 - lr: 1.0000e-04\n",
      "Epoch 61/75\n",
      "30/30 [==============================] - 1s 12ms/step - loss: 0.7129 - Categorical Accuracy: 0.6580 - AUC: 0.9744 - val_loss: 0.5468 - val_Categorical Accuracy: 0.7440 - val_AUC: 0.9876 - lr: 1.0000e-04\n",
      "Epoch 62/75\n",
      "30/30 [==============================] - 1s 13ms/step - loss: 0.7096 - Categorical Accuracy: 0.6507 - AUC: 0.9751 - val_loss: 0.5459 - val_Categorical Accuracy: 0.7440 - val_AUC: 0.9877 - lr: 1.0000e-04\n",
      "Epoch 63/75\n",
      "30/30 [==============================] - 1s 13ms/step - loss: 0.6923 - Categorical Accuracy: 0.6620 - AUC: 0.9767 - val_loss: 0.5441 - val_Categorical Accuracy: 0.7360 - val_AUC: 0.9874 - lr: 1.0000e-04\n",
      "Epoch 64/75\n",
      "30/30 [==============================] - 1s 13ms/step - loss: 0.6645 - Categorical Accuracy: 0.6740 - AUC: 0.9771 - val_loss: 0.5205 - val_Categorical Accuracy: 0.7420 - val_AUC: 0.9882 - lr: 1.0000e-04\n",
      "Epoch 65/75\n",
      "30/30 [==============================] - 1s 13ms/step - loss: 0.6775 - Categorical Accuracy: 0.6740 - AUC: 0.9757 - val_loss: 0.5175 - val_Categorical Accuracy: 0.7400 - val_AUC: 0.9882 - lr: 1.0000e-04\n",
      "Epoch 66/75\n",
      "30/30 [==============================] - 1s 13ms/step - loss: 0.6865 - Categorical Accuracy: 0.6607 - AUC: 0.9751 - val_loss: 0.5165 - val_Categorical Accuracy: 0.7360 - val_AUC: 0.9878 - lr: 1.0000e-04\n",
      "Epoch 67/75\n",
      "30/30 [==============================] - 1s 13ms/step - loss: 0.6851 - Categorical Accuracy: 0.6560 - AUC: 0.9759 - val_loss: 0.5116 - val_Categorical Accuracy: 0.7340 - val_AUC: 0.9881 - lr: 1.0000e-04\n",
      "Epoch 68/75\n",
      "30/30 [==============================] - 1s 12ms/step - loss: 0.7010 - Categorical Accuracy: 0.6580 - AUC: 0.9736 - val_loss: 0.5193 - val_Categorical Accuracy: 0.7400 - val_AUC: 0.9879 - lr: 1.0000e-04\n",
      "Epoch 69/75\n",
      "30/30 [==============================] - 1s 12ms/step - loss: 0.7158 - Categorical Accuracy: 0.6553 - AUC: 0.9724 - val_loss: 0.5194 - val_Categorical Accuracy: 0.7340 - val_AUC: 0.9876 - lr: 1.0000e-04\n",
      "Epoch 70/75\n",
      "30/30 [==============================] - ETA: 0s - loss: 0.6930 - Categorical Accuracy: 0.6720 - AUC: 0.9743\n",
      "Epoch 00070: ReduceLROnPlateau reducing learning rate to 1.9999999494757503e-05.\n",
      "30/30 [==============================] - 1s 13ms/step - loss: 0.6930 - Categorical Accuracy: 0.6720 - AUC: 0.9743 - val_loss: 0.5141 - val_Categorical Accuracy: 0.7460 - val_AUC: 0.9872 - lr: 1.0000e-04\n",
      "Epoch 71/75\n",
      "30/30 [==============================] - 1s 13ms/step - loss: 0.6995 - Categorical Accuracy: 0.6560 - AUC: 0.9728 - val_loss: 0.5031 - val_Categorical Accuracy: 0.7460 - val_AUC: 0.9878 - lr: 2.0000e-05\n",
      "Epoch 72/75\n",
      "30/30 [==============================] - 1s 12ms/step - loss: 0.6633 - Categorical Accuracy: 0.6840 - AUC: 0.9753 - val_loss: 0.5023 - val_Categorical Accuracy: 0.7400 - val_AUC: 0.9877 - lr: 2.0000e-05\n",
      "Epoch 73/75\n",
      "30/30 [==============================] - 1s 13ms/step - loss: 0.6662 - Categorical Accuracy: 0.6893 - AUC: 0.9757 - val_loss: 0.4988 - val_Categorical Accuracy: 0.7420 - val_AUC: 0.9878 - lr: 2.0000e-05\n",
      "Epoch 74/75\n",
      "30/30 [==============================] - 1s 12ms/step - loss: 0.7159 - Categorical Accuracy: 0.6567 - AUC: 0.9712 - val_loss: 0.4965 - val_Categorical Accuracy: 0.7440 - val_AUC: 0.9879 - lr: 2.0000e-05\n",
      "Epoch 75/75\n",
      "30/30 [==============================] - 1s 13ms/step - loss: 0.6844 - Categorical Accuracy: 0.6673 - AUC: 0.9729 - val_loss: 0.4963 - val_Categorical Accuracy: 0.7540 - val_AUC: 0.9879 - lr: 2.0000e-05\n"
     ]
    }
   ]
  },
  {
   "cell_type": "code",
   "metadata": {
    "id": "NbFf4HAaOCgj",
    "colab": {
     "base_uri": "https://localhost:8080/"
    },
    "executionInfo": {
     "status": "ok",
     "timestamp": 1638883064601,
     "user_tz": 300,
     "elapsed": 64313,
     "user": {
      "displayName": "Andrew Ning",
      "photoUrl": "https://lh3.googleusercontent.com/a-/AOh14GgyUiXynCeybWnGTpfHnOSTarAoJjvj-8rK8oxkzQ=s64",
      "userId": "04097743773373129918"
     }
    },
    "outputId": "d9fa1624-d2ba-445a-a7a0-13ac95b3ad35"
   },
   "source": [
    "newSharedLayers = shared(inputFR)\n",
    "newLayersFR = languagelayers(NUM_LABELS_FR,'FR')(newSharedLayers)\n",
    "\n",
    "modelFRRetrain = tf.keras.Model(\n",
    "    inputs=inputFR,\n",
    "    outputs=newLayersFR,\n",
    "    name='FRModelRetrained'\n",
    ")\n",
    "\n",
    "modelFRRetrain.compile(optimizer = tf.keras.optimizers.Adam(learning_rate=LEARNING_RATE),\n",
    "    loss=tf.keras.losses.CategoricalCrossentropy(),\n",
    "    metrics=[tf.keras.metrics.CategoricalAccuracy(name='Categorical Accuracy'),tf.keras.metrics.AUC(name='AUC')])\n",
    "\n",
    "ext = '-RETRAIN-FR'\n",
    "training_callbackRETRAINFR = callbacks.TensorBoard(log_dir=LOG_DIR + RUN + ext)\n",
    "\n",
    "historyFRRetrain = modelFRRetrain.fit(\n",
    "    x = traindatasetFR,\n",
    "    validation_data = valdatasetFR,\n",
    "    epochs=EPOCHS,\n",
    "    steps_per_epoch=STEPS_PER_EPOCH,\n",
    "    callbacks=[training_callbackRETRAINFR,earlystopping_callback,reduce_lr_callback],\n",
    "    verbose=1\n",
    ")"
   ],
   "execution_count": null,
   "outputs": [
    {
     "output_type": "stream",
     "name": "stdout",
     "text": [
      "Epoch 1/75\n",
      "30/30 [==============================] - 2s 29ms/step - loss: 3.1398 - Categorical Accuracy: 0.0853 - AUC: 0.5084 - val_loss: 2.6444 - val_Categorical Accuracy: 0.1520 - val_AUC: 0.6319 - lr: 1.0000e-04\n",
      "Epoch 2/75\n",
      "30/30 [==============================] - 1s 11ms/step - loss: 2.7954 - Categorical Accuracy: 0.0840 - AUC: 0.5500 - val_loss: 2.6219 - val_Categorical Accuracy: 0.2100 - val_AUC: 0.6906 - lr: 1.0000e-04\n",
      "Epoch 3/75\n",
      "30/30 [==============================] - 1s 11ms/step - loss: 2.7030 - Categorical Accuracy: 0.0993 - AUC: 0.5736 - val_loss: 2.6051 - val_Categorical Accuracy: 0.2360 - val_AUC: 0.7228 - lr: 1.0000e-04\n",
      "Epoch 4/75\n",
      "30/30 [==============================] - 1s 11ms/step - loss: 2.6600 - Categorical Accuracy: 0.1027 - AUC: 0.6017 - val_loss: 2.5842 - val_Categorical Accuracy: 0.3060 - val_AUC: 0.7475 - lr: 1.0000e-04\n",
      "Epoch 5/75\n",
      "30/30 [==============================] - 1s 12ms/step - loss: 2.5853 - Categorical Accuracy: 0.1420 - AUC: 0.6451 - val_loss: 2.5380 - val_Categorical Accuracy: 0.3420 - val_AUC: 0.7832 - lr: 1.0000e-04\n",
      "Epoch 6/75\n",
      "30/30 [==============================] - 1s 13ms/step - loss: 2.5334 - Categorical Accuracy: 0.1660 - AUC: 0.6695 - val_loss: 2.4744 - val_Categorical Accuracy: 0.3900 - val_AUC: 0.7998 - lr: 1.0000e-04\n",
      "Epoch 7/75\n",
      "30/30 [==============================] - 1s 12ms/step - loss: 2.4595 - Categorical Accuracy: 0.1887 - AUC: 0.7083 - val_loss: 2.4122 - val_Categorical Accuracy: 0.4060 - val_AUC: 0.8243 - lr: 1.0000e-04\n",
      "Epoch 8/75\n",
      "30/30 [==============================] - 1s 12ms/step - loss: 2.4181 - Categorical Accuracy: 0.2000 - AUC: 0.7210 - val_loss: 2.3158 - val_Categorical Accuracy: 0.4320 - val_AUC: 0.8574 - lr: 1.0000e-04\n",
      "Epoch 9/75\n",
      "30/30 [==============================] - 1s 12ms/step - loss: 2.3183 - Categorical Accuracy: 0.2273 - AUC: 0.7601 - val_loss: 2.2278 - val_Categorical Accuracy: 0.4280 - val_AUC: 0.8742 - lr: 1.0000e-04\n",
      "Epoch 10/75\n",
      "30/30 [==============================] - 1s 12ms/step - loss: 2.2601 - Categorical Accuracy: 0.2507 - AUC: 0.7771 - val_loss: 2.1294 - val_Categorical Accuracy: 0.4440 - val_AUC: 0.8884 - lr: 1.0000e-04\n",
      "Epoch 11/75\n",
      "30/30 [==============================] - 1s 12ms/step - loss: 2.1580 - Categorical Accuracy: 0.2693 - AUC: 0.8051 - val_loss: 2.0365 - val_Categorical Accuracy: 0.4660 - val_AUC: 0.8981 - lr: 1.0000e-04\n",
      "Epoch 12/75\n",
      "30/30 [==============================] - 1s 12ms/step - loss: 2.0866 - Categorical Accuracy: 0.3053 - AUC: 0.8233 - val_loss: 1.9405 - val_Categorical Accuracy: 0.4780 - val_AUC: 0.9093 - lr: 1.0000e-04\n",
      "Epoch 13/75\n",
      "30/30 [==============================] - 1s 12ms/step - loss: 1.9828 - Categorical Accuracy: 0.3407 - AUC: 0.8437 - val_loss: 1.8429 - val_Categorical Accuracy: 0.5120 - val_AUC: 0.9190 - lr: 1.0000e-04\n",
      "Epoch 14/75\n",
      "30/30 [==============================] - 1s 12ms/step - loss: 1.9054 - Categorical Accuracy: 0.3653 - AUC: 0.8571 - val_loss: 1.7570 - val_Categorical Accuracy: 0.5400 - val_AUC: 0.9269 - lr: 1.0000e-04\n",
      "Epoch 15/75\n",
      "30/30 [==============================] - 1s 12ms/step - loss: 1.8379 - Categorical Accuracy: 0.3780 - AUC: 0.8703 - val_loss: 1.6727 - val_Categorical Accuracy: 0.5580 - val_AUC: 0.9327 - lr: 1.0000e-04\n",
      "Epoch 16/75\n",
      "30/30 [==============================] - 1s 12ms/step - loss: 1.7354 - Categorical Accuracy: 0.4033 - AUC: 0.8887 - val_loss: 1.6005 - val_Categorical Accuracy: 0.5920 - val_AUC: 0.9376 - lr: 1.0000e-04\n",
      "Epoch 17/75\n",
      "30/30 [==============================] - 1s 12ms/step - loss: 1.7612 - Categorical Accuracy: 0.4060 - AUC: 0.8823 - val_loss: 1.5360 - val_Categorical Accuracy: 0.6120 - val_AUC: 0.9422 - lr: 1.0000e-04\n",
      "Epoch 18/75\n",
      "30/30 [==============================] - 1s 12ms/step - loss: 1.6721 - Categorical Accuracy: 0.4447 - AUC: 0.8950 - val_loss: 1.4922 - val_Categorical Accuracy: 0.6160 - val_AUC: 0.9449 - lr: 1.0000e-04\n",
      "Epoch 19/75\n",
      "30/30 [==============================] - 1s 13ms/step - loss: 1.5752 - Categorical Accuracy: 0.4640 - AUC: 0.9103 - val_loss: 1.4236 - val_Categorical Accuracy: 0.6400 - val_AUC: 0.9479 - lr: 1.0000e-04\n",
      "Epoch 20/75\n",
      "30/30 [==============================] - 1s 13ms/step - loss: 1.5350 - Categorical Accuracy: 0.4660 - AUC: 0.9164 - val_loss: 1.3717 - val_Categorical Accuracy: 0.6380 - val_AUC: 0.9515 - lr: 1.0000e-04\n",
      "Epoch 21/75\n",
      "30/30 [==============================] - 1s 13ms/step - loss: 1.4620 - Categorical Accuracy: 0.5040 - AUC: 0.9244 - val_loss: 1.3257 - val_Categorical Accuracy: 0.6500 - val_AUC: 0.9538 - lr: 1.0000e-04\n",
      "Epoch 22/75\n",
      "30/30 [==============================] - 1s 12ms/step - loss: 1.4535 - Categorical Accuracy: 0.4960 - AUC: 0.9237 - val_loss: 1.2813 - val_Categorical Accuracy: 0.6620 - val_AUC: 0.9557 - lr: 1.0000e-04\n",
      "Epoch 23/75\n",
      "30/30 [==============================] - 1s 12ms/step - loss: 1.3651 - Categorical Accuracy: 0.5147 - AUC: 0.9353 - val_loss: 1.2362 - val_Categorical Accuracy: 0.6720 - val_AUC: 0.9577 - lr: 1.0000e-04\n",
      "Epoch 24/75\n",
      "30/30 [==============================] - 1s 12ms/step - loss: 1.3574 - Categorical Accuracy: 0.5320 - AUC: 0.9348 - val_loss: 1.2023 - val_Categorical Accuracy: 0.6740 - val_AUC: 0.9598 - lr: 1.0000e-04\n",
      "Epoch 25/75\n",
      "30/30 [==============================] - 1s 12ms/step - loss: 1.2676 - Categorical Accuracy: 0.5607 - AUC: 0.9441 - val_loss: 1.1620 - val_Categorical Accuracy: 0.6740 - val_AUC: 0.9615 - lr: 1.0000e-04\n",
      "Epoch 26/75\n",
      "30/30 [==============================] - 1s 12ms/step - loss: 1.2642 - Categorical Accuracy: 0.5600 - AUC: 0.9443 - val_loss: 1.1236 - val_Categorical Accuracy: 0.6880 - val_AUC: 0.9632 - lr: 1.0000e-04\n",
      "Epoch 27/75\n",
      "30/30 [==============================] - 1s 12ms/step - loss: 1.2326 - Categorical Accuracy: 0.5807 - AUC: 0.9467 - val_loss: 1.0914 - val_Categorical Accuracy: 0.6960 - val_AUC: 0.9645 - lr: 1.0000e-04\n",
      "Epoch 28/75\n",
      "30/30 [==============================] - 1s 12ms/step - loss: 1.2115 - Categorical Accuracy: 0.5720 - AUC: 0.9489 - val_loss: 1.0690 - val_Categorical Accuracy: 0.7020 - val_AUC: 0.9668 - lr: 1.0000e-04\n",
      "Epoch 29/75\n",
      "30/30 [==============================] - 1s 13ms/step - loss: 1.1397 - Categorical Accuracy: 0.6020 - AUC: 0.9557 - val_loss: 1.0569 - val_Categorical Accuracy: 0.7060 - val_AUC: 0.9663 - lr: 1.0000e-04\n",
      "Epoch 30/75\n",
      "30/30 [==============================] - 1s 12ms/step - loss: 1.1261 - Categorical Accuracy: 0.6020 - AUC: 0.9567 - val_loss: 1.0283 - val_Categorical Accuracy: 0.7120 - val_AUC: 0.9679 - lr: 1.0000e-04\n",
      "Epoch 31/75\n",
      "30/30 [==============================] - 1s 13ms/step - loss: 1.1138 - Categorical Accuracy: 0.6133 - AUC: 0.9562 - val_loss: 0.9996 - val_Categorical Accuracy: 0.7440 - val_AUC: 0.9694 - lr: 1.0000e-04\n",
      "Epoch 32/75\n",
      "30/30 [==============================] - 1s 12ms/step - loss: 1.0625 - Categorical Accuracy: 0.6333 - AUC: 0.9610 - val_loss: 0.9827 - val_Categorical Accuracy: 0.7340 - val_AUC: 0.9699 - lr: 1.0000e-04\n",
      "Epoch 33/75\n",
      "30/30 [==============================] - 1s 13ms/step - loss: 1.0121 - Categorical Accuracy: 0.6487 - AUC: 0.9649 - val_loss: 0.9680 - val_Categorical Accuracy: 0.7180 - val_AUC: 0.9700 - lr: 1.0000e-04\n",
      "Epoch 34/75\n",
      "30/30 [==============================] - 1s 12ms/step - loss: 1.0283 - Categorical Accuracy: 0.6347 - AUC: 0.9634 - val_loss: 0.9493 - val_Categorical Accuracy: 0.7460 - val_AUC: 0.9709 - lr: 1.0000e-04\n",
      "Epoch 35/75\n",
      "30/30 [==============================] - 1s 12ms/step - loss: 0.9715 - Categorical Accuracy: 0.6580 - AUC: 0.9675 - val_loss: 0.9214 - val_Categorical Accuracy: 0.7340 - val_AUC: 0.9722 - lr: 1.0000e-04\n",
      "Epoch 36/75\n",
      "30/30 [==============================] - 1s 12ms/step - loss: 0.9486 - Categorical Accuracy: 0.6633 - AUC: 0.9682 - val_loss: 0.9055 - val_Categorical Accuracy: 0.7420 - val_AUC: 0.9729 - lr: 1.0000e-04\n",
      "Epoch 37/75\n",
      "30/30 [==============================] - 1s 12ms/step - loss: 0.9348 - Categorical Accuracy: 0.6673 - AUC: 0.9697 - val_loss: 0.9006 - val_Categorical Accuracy: 0.7320 - val_AUC: 0.9727 - lr: 1.0000e-04\n",
      "Epoch 38/75\n",
      "30/30 [==============================] - 1s 13ms/step - loss: 0.9201 - Categorical Accuracy: 0.6793 - AUC: 0.9699 - val_loss: 0.8817 - val_Categorical Accuracy: 0.7420 - val_AUC: 0.9741 - lr: 1.0000e-04\n",
      "Epoch 39/75\n",
      "30/30 [==============================] - 1s 13ms/step - loss: 0.8968 - Categorical Accuracy: 0.6867 - AUC: 0.9724 - val_loss: 0.8710 - val_Categorical Accuracy: 0.7340 - val_AUC: 0.9742 - lr: 1.0000e-04\n",
      "Epoch 40/75\n",
      "30/30 [==============================] - 1s 12ms/step - loss: 0.8236 - Categorical Accuracy: 0.7207 - AUC: 0.9766 - val_loss: 0.8468 - val_Categorical Accuracy: 0.7460 - val_AUC: 0.9751 - lr: 1.0000e-04\n",
      "Epoch 41/75\n",
      "30/30 [==============================] - 1s 13ms/step - loss: 0.8383 - Categorical Accuracy: 0.7020 - AUC: 0.9756 - val_loss: 0.8458 - val_Categorical Accuracy: 0.7400 - val_AUC: 0.9753 - lr: 1.0000e-04\n",
      "Epoch 42/75\n",
      "30/30 [==============================] - 1s 12ms/step - loss: 0.8192 - Categorical Accuracy: 0.7120 - AUC: 0.9766 - val_loss: 0.8387 - val_Categorical Accuracy: 0.7560 - val_AUC: 0.9756 - lr: 1.0000e-04\n",
      "Epoch 43/75\n",
      "30/30 [==============================] - 1s 12ms/step - loss: 0.8110 - Categorical Accuracy: 0.7293 - AUC: 0.9764 - val_loss: 0.8188 - val_Categorical Accuracy: 0.7660 - val_AUC: 0.9757 - lr: 1.0000e-04\n",
      "Epoch 44/75\n",
      "30/30 [==============================] - 1s 13ms/step - loss: 0.8187 - Categorical Accuracy: 0.7120 - AUC: 0.9759 - val_loss: 0.8224 - val_Categorical Accuracy: 0.7620 - val_AUC: 0.9761 - lr: 1.0000e-04\n",
      "Epoch 45/75\n",
      "30/30 [==============================] - 1s 12ms/step - loss: 0.7812 - Categorical Accuracy: 0.7193 - AUC: 0.9776 - val_loss: 0.8099 - val_Categorical Accuracy: 0.7600 - val_AUC: 0.9758 - lr: 1.0000e-04\n",
      "Epoch 46/75\n",
      "30/30 [==============================] - 1s 13ms/step - loss: 0.7486 - Categorical Accuracy: 0.7413 - AUC: 0.9810 - val_loss: 0.8020 - val_Categorical Accuracy: 0.7600 - val_AUC: 0.9763 - lr: 1.0000e-04\n",
      "Epoch 47/75\n",
      "30/30 [==============================] - 1s 12ms/step - loss: 0.7412 - Categorical Accuracy: 0.7473 - AUC: 0.9809 - val_loss: 0.7867 - val_Categorical Accuracy: 0.7600 - val_AUC: 0.9761 - lr: 1.0000e-04\n",
      "Epoch 48/75\n",
      "30/30 [==============================] - 1s 13ms/step - loss: 0.7183 - Categorical Accuracy: 0.7487 - AUC: 0.9810 - val_loss: 0.7940 - val_Categorical Accuracy: 0.7580 - val_AUC: 0.9765 - lr: 1.0000e-04\n",
      "Epoch 49/75\n",
      "30/30 [==============================] - 1s 12ms/step - loss: 0.7306 - Categorical Accuracy: 0.7380 - AUC: 0.9815 - val_loss: 0.7931 - val_Categorical Accuracy: 0.7560 - val_AUC: 0.9763 - lr: 1.0000e-04\n",
      "Epoch 50/75\n",
      "30/30 [==============================] - 1s 13ms/step - loss: 0.7286 - Categorical Accuracy: 0.7413 - AUC: 0.9800 - val_loss: 0.7769 - val_Categorical Accuracy: 0.7680 - val_AUC: 0.9776 - lr: 1.0000e-04\n",
      "Epoch 51/75\n",
      "30/30 [==============================] - 1s 12ms/step - loss: 0.6577 - Categorical Accuracy: 0.7767 - AUC: 0.9847 - val_loss: 0.7772 - val_Categorical Accuracy: 0.7540 - val_AUC: 0.9772 - lr: 1.0000e-04\n",
      "Epoch 52/75\n",
      "30/30 [==============================] - 1s 13ms/step - loss: 0.6981 - Categorical Accuracy: 0.7513 - AUC: 0.9815 - val_loss: 0.7661 - val_Categorical Accuracy: 0.7660 - val_AUC: 0.9776 - lr: 1.0000e-04\n",
      "Epoch 53/75\n",
      "30/30 [==============================] - 1s 13ms/step - loss: 0.6606 - Categorical Accuracy: 0.7733 - AUC: 0.9852 - val_loss: 0.7634 - val_Categorical Accuracy: 0.7620 - val_AUC: 0.9774 - lr: 1.0000e-04\n",
      "Epoch 54/75\n",
      "30/30 [==============================] - 1s 12ms/step - loss: 0.6131 - Categorical Accuracy: 0.7853 - AUC: 0.9874 - val_loss: 0.7508 - val_Categorical Accuracy: 0.7700 - val_AUC: 0.9780 - lr: 1.0000e-04\n",
      "Epoch 55/75\n",
      "30/30 [==============================] - 1s 15ms/step - loss: 0.6277 - Categorical Accuracy: 0.7773 - AUC: 0.9854 - val_loss: 0.7517 - val_Categorical Accuracy: 0.7700 - val_AUC: 0.9772 - lr: 1.0000e-04\n",
      "Epoch 56/75\n",
      "30/30 [==============================] - 1s 12ms/step - loss: 0.6377 - Categorical Accuracy: 0.7760 - AUC: 0.9854 - val_loss: 0.7345 - val_Categorical Accuracy: 0.7740 - val_AUC: 0.9776 - lr: 1.0000e-04\n",
      "Epoch 57/75\n",
      "30/30 [==============================] - 1s 13ms/step - loss: 0.6527 - Categorical Accuracy: 0.7853 - AUC: 0.9840 - val_loss: 0.7291 - val_Categorical Accuracy: 0.7680 - val_AUC: 0.9785 - lr: 1.0000e-04\n",
      "Epoch 58/75\n",
      "30/30 [==============================] - 1s 13ms/step - loss: 0.6121 - Categorical Accuracy: 0.7880 - AUC: 0.9864 - val_loss: 0.7277 - val_Categorical Accuracy: 0.7640 - val_AUC: 0.9800 - lr: 1.0000e-04\n",
      "Epoch 59/75\n",
      "30/30 [==============================] - 1s 13ms/step - loss: 0.6016 - Categorical Accuracy: 0.8053 - AUC: 0.9865 - val_loss: 0.7211 - val_Categorical Accuracy: 0.7620 - val_AUC: 0.9795 - lr: 1.0000e-04\n",
      "Epoch 60/75\n",
      "30/30 [==============================] - 1s 12ms/step - loss: 0.6051 - Categorical Accuracy: 0.7840 - AUC: 0.9861 - val_loss: 0.7204 - val_Categorical Accuracy: 0.7740 - val_AUC: 0.9794 - lr: 1.0000e-04\n",
      "Epoch 61/75\n",
      "30/30 [==============================] - 1s 12ms/step - loss: 0.5769 - Categorical Accuracy: 0.8093 - AUC: 0.9872 - val_loss: 0.7144 - val_Categorical Accuracy: 0.7640 - val_AUC: 0.9792 - lr: 1.0000e-04\n",
      "Epoch 62/75\n",
      "30/30 [==============================] - 1s 13ms/step - loss: 0.5580 - Categorical Accuracy: 0.8073 - AUC: 0.9881 - val_loss: 0.7218 - val_Categorical Accuracy: 0.7820 - val_AUC: 0.9787 - lr: 1.0000e-04\n",
      "Epoch 63/75\n",
      "30/30 [==============================] - 1s 12ms/step - loss: 0.5657 - Categorical Accuracy: 0.7980 - AUC: 0.9883 - val_loss: 0.7136 - val_Categorical Accuracy: 0.7740 - val_AUC: 0.9783 - lr: 1.0000e-04\n",
      "Epoch 64/75\n",
      "30/30 [==============================] - 1s 12ms/step - loss: 0.5268 - Categorical Accuracy: 0.8153 - AUC: 0.9894 - val_loss: 0.7202 - val_Categorical Accuracy: 0.7720 - val_AUC: 0.9787 - lr: 1.0000e-04\n",
      "Epoch 65/75\n",
      "30/30 [==============================] - 1s 12ms/step - loss: 0.5257 - Categorical Accuracy: 0.8233 - AUC: 0.9890 - val_loss: 0.7065 - val_Categorical Accuracy: 0.7800 - val_AUC: 0.9786 - lr: 1.0000e-04\n",
      "Epoch 66/75\n",
      "30/30 [==============================] - 1s 12ms/step - loss: 0.5029 - Categorical Accuracy: 0.8407 - AUC: 0.9905 - val_loss: 0.7186 - val_Categorical Accuracy: 0.7700 - val_AUC: 0.9781 - lr: 1.0000e-04\n",
      "Epoch 67/75\n",
      "30/30 [==============================] - 1s 14ms/step - loss: 0.5137 - Categorical Accuracy: 0.8187 - AUC: 0.9904 - val_loss: 0.7102 - val_Categorical Accuracy: 0.7720 - val_AUC: 0.9788 - lr: 1.0000e-04\n",
      "Epoch 68/75\n",
      "30/30 [==============================] - 1s 16ms/step - loss: 0.4892 - Categorical Accuracy: 0.8207 - AUC: 0.9914 - val_loss: 0.6970 - val_Categorical Accuracy: 0.7800 - val_AUC: 0.9792 - lr: 1.0000e-04\n",
      "Epoch 69/75\n",
      "30/30 [==============================] - 1s 13ms/step - loss: 0.4988 - Categorical Accuracy: 0.8313 - AUC: 0.9908 - val_loss: 0.6862 - val_Categorical Accuracy: 0.7720 - val_AUC: 0.9806 - lr: 1.0000e-04\n",
      "Epoch 70/75\n",
      "30/30 [==============================] - 1s 12ms/step - loss: 0.5169 - Categorical Accuracy: 0.8200 - AUC: 0.9902 - val_loss: 0.6706 - val_Categorical Accuracy: 0.7780 - val_AUC: 0.9813 - lr: 1.0000e-04\n",
      "Epoch 71/75\n",
      "30/30 [==============================] - 1s 14ms/step - loss: 0.5016 - Categorical Accuracy: 0.8360 - AUC: 0.9895 - val_loss: 0.6742 - val_Categorical Accuracy: 0.7840 - val_AUC: 0.9809 - lr: 1.0000e-04\n",
      "Epoch 72/75\n",
      "30/30 [==============================] - 1s 13ms/step - loss: 0.4532 - Categorical Accuracy: 0.8493 - AUC: 0.9929 - val_loss: 0.6756 - val_Categorical Accuracy: 0.7900 - val_AUC: 0.9808 - lr: 1.0000e-04\n",
      "Epoch 73/75\n",
      "30/30 [==============================] - 1s 13ms/step - loss: 0.4761 - Categorical Accuracy: 0.8373 - AUC: 0.9913 - val_loss: 0.6689 - val_Categorical Accuracy: 0.7920 - val_AUC: 0.9803 - lr: 1.0000e-04\n",
      "Epoch 74/75\n",
      "30/30 [==============================] - 1s 13ms/step - loss: 0.4571 - Categorical Accuracy: 0.8527 - AUC: 0.9918 - val_loss: 0.6648 - val_Categorical Accuracy: 0.7880 - val_AUC: 0.9805 - lr: 1.0000e-04\n",
      "Epoch 75/75\n",
      "30/30 [==============================] - 1s 13ms/step - loss: 0.4525 - Categorical Accuracy: 0.8340 - AUC: 0.9924 - val_loss: 0.6644 - val_Categorical Accuracy: 0.8020 - val_AUC: 0.9807 - lr: 1.0000e-04\n"
     ]
    }
   ]
  },
  {
   "cell_type": "code",
   "metadata": {
    "colab": {
     "base_uri": "https://localhost:8080/"
    },
    "id": "GA8hOPr5Mn58",
    "executionInfo": {
     "status": "ok",
     "timestamp": 1638883066120,
     "user_tz": 300,
     "elapsed": 1530,
     "user": {
      "displayName": "Andrew Ning",
      "photoUrl": "https://lh3.googleusercontent.com/a-/AOh14GgyUiXynCeybWnGTpfHnOSTarAoJjvj-8rK8oxkzQ=s64",
      "userId": "04097743773373129918"
     }
    },
    "outputId": "4428201b-565c-47b5-dcae-322a31f4dc8b"
   },
   "source": [
    "modelENRetrain.evaluate(testdatasetEN)"
   ],
   "execution_count": null,
   "outputs": [
    {
     "output_type": "stream",
     "name": "stdout",
     "text": [
      "250/250 [==============================] - 2s 5ms/step - loss: 0.7921 - Categorical Accuracy: 0.7400 - AUC: 0.9749\n"
     ]
    },
    {
     "output_type": "execute_result",
     "data": {
      "text/plain": [
       "[0.7920727133750916, 0.7400000095367432, 0.9748554825782776]"
      ]
     },
     "metadata": {},
     "execution_count": 122
    }
   ]
  },
  {
   "cell_type": "code",
   "metadata": {
    "colab": {
     "base_uri": "https://localhost:8080/"
    },
    "id": "ajdhGJRROSTS",
    "executionInfo": {
     "status": "ok",
     "timestamp": 1638883068293,
     "user_tz": 300,
     "elapsed": 2180,
     "user": {
      "displayName": "Andrew Ning",
      "photoUrl": "https://lh3.googleusercontent.com/a-/AOh14GgyUiXynCeybWnGTpfHnOSTarAoJjvj-8rK8oxkzQ=s64",
      "userId": "04097743773373129918"
     }
    },
    "outputId": "26497e23-f830-4c49-fd76-7d3301b9f483"
   },
   "source": [
    "modelESRetrain.evaluate(testdatasetES)"
   ],
   "execution_count": null,
   "outputs": [
    {
     "output_type": "stream",
     "name": "stdout",
     "text": [
      "250/250 [==============================] - 2s 5ms/step - loss: 0.6762 - Categorical Accuracy: 0.7400 - AUC: 0.9772\n"
     ]
    },
    {
     "output_type": "execute_result",
     "data": {
      "text/plain": [
       "[0.6761702299118042, 0.7400000095367432, 0.9772154092788696]"
      ]
     },
     "metadata": {},
     "execution_count": 123
    }
   ]
  },
  {
   "cell_type": "code",
   "metadata": {
    "colab": {
     "base_uri": "https://localhost:8080/"
    },
    "id": "PeWe03Q5_6dk",
    "executionInfo": {
     "status": "ok",
     "timestamp": 1638883069431,
     "user_tz": 300,
     "elapsed": 1144,
     "user": {
      "displayName": "Andrew Ning",
      "photoUrl": "https://lh3.googleusercontent.com/a-/AOh14GgyUiXynCeybWnGTpfHnOSTarAoJjvj-8rK8oxkzQ=s64",
      "userId": "04097743773373129918"
     }
    },
    "outputId": "06624fe8-2a2a-4d14-99dc-6756253b8846"
   },
   "source": [
    "modelFRRetrain.evaluate(testdatasetFR)"
   ],
   "execution_count": null,
   "outputs": [
    {
     "output_type": "stream",
     "name": "stdout",
     "text": [
      "250/250 [==============================] - 2s 5ms/step - loss: 0.7502 - Categorical Accuracy: 0.7400 - AUC: 0.9756\n"
     ]
    },
    {
     "output_type": "execute_result",
     "data": {
      "text/plain": [
       "[0.7502241730690002, 0.7400000095367432, 0.9756090641021729]"
      ]
     },
     "metadata": {},
     "execution_count": 124
    }
   ]
  },
  {
   "cell_type": "code",
   "metadata": {
    "id": "-9H-HtFBC_ke"
   },
   "source": [
    "# !mkdir savedmodels"
   ],
   "execution_count": null,
   "outputs": []
  },
  {
   "cell_type": "code",
   "metadata": {
    "colab": {
     "base_uri": "https://localhost:8080/"
    },
    "id": "DKbEBdfgDAgZ",
    "executionInfo": {
     "status": "ok",
     "timestamp": 1638883199238,
     "user_tz": 300,
     "elapsed": 16768,
     "user": {
      "displayName": "Andrew Ning",
      "photoUrl": "https://lh3.googleusercontent.com/a-/AOh14GgyUiXynCeybWnGTpfHnOSTarAoJjvj-8rK8oxkzQ=s64",
      "userId": "04097743773373129918"
     }
    },
    "outputId": "daf33151-3b25-4187-96da-b636bf3e4214"
   },
   "source": [
    "shared.save('savedmodels/sharedmodel')\n",
    "modelFullEN.save('savedmodels/fullmodelEN')\n",
    "modelFullES.save('savedmodels/fullmodelES')\n",
    "modelFullFR.save('savedmodels/fullmodelFR')\n",
    "modelENRetrain.save('savedmodels/modelENRetrain')\n",
    "modelESRetrain.save('savedmodels/modelESRetrain')\n",
    "modelFRRetrain.save('savedmodels/modelFRRetrain')"
   ],
   "execution_count": null,
   "outputs": [
    {
     "output_type": "stream",
     "name": "stdout",
     "text": [
      "WARNING:tensorflow:Compiled the loaded model, but the compiled metrics have yet to be built. `model.compile_metrics` will be empty until you train or evaluate the model.\n"
     ]
    },
    {
     "output_type": "stream",
     "name": "stderr",
     "text": [
      "WARNING:absl:Function `_wrapped_model` contains input name(s) Shared_Conv2D1_input with unsupported characters which will be renamed to shared_conv2d1_input in the SavedModel.\n"
     ]
    },
    {
     "output_type": "stream",
     "name": "stdout",
     "text": [
      "INFO:tensorflow:Assets written to: savedmodels/sharedmodel/assets\n"
     ]
    },
    {
     "output_type": "stream",
     "name": "stderr",
     "text": [
      "INFO:tensorflow:Assets written to: savedmodels/sharedmodel/assets\n",
      "WARNING:absl:Function `_wrapped_model` contains input name(s) EN_Input with unsupported characters which will be renamed to en_input in the SavedModel.\n"
     ]
    },
    {
     "output_type": "stream",
     "name": "stdout",
     "text": [
      "INFO:tensorflow:Assets written to: savedmodels/fullmodelEN/assets\n"
     ]
    },
    {
     "output_type": "stream",
     "name": "stderr",
     "text": [
      "INFO:tensorflow:Assets written to: savedmodels/fullmodelEN/assets\n",
      "WARNING:absl:Function `_wrapped_model` contains input name(s) ES_Input with unsupported characters which will be renamed to es_input in the SavedModel.\n"
     ]
    },
    {
     "output_type": "stream",
     "name": "stdout",
     "text": [
      "INFO:tensorflow:Assets written to: savedmodels/fullmodelES/assets\n"
     ]
    },
    {
     "output_type": "stream",
     "name": "stderr",
     "text": [
      "INFO:tensorflow:Assets written to: savedmodels/fullmodelES/assets\n",
      "WARNING:absl:Function `_wrapped_model` contains input name(s) FR_Input with unsupported characters which will be renamed to fr_input in the SavedModel.\n"
     ]
    },
    {
     "output_type": "stream",
     "name": "stdout",
     "text": [
      "INFO:tensorflow:Assets written to: savedmodels/fullmodelFR/assets\n"
     ]
    },
    {
     "output_type": "stream",
     "name": "stderr",
     "text": [
      "INFO:tensorflow:Assets written to: savedmodels/fullmodelFR/assets\n",
      "WARNING:absl:Function `_wrapped_model` contains input name(s) EN_Input with unsupported characters which will be renamed to en_input in the SavedModel.\n"
     ]
    },
    {
     "output_type": "stream",
     "name": "stdout",
     "text": [
      "INFO:tensorflow:Assets written to: savedmodels/modelENRetrain/assets\n"
     ]
    },
    {
     "output_type": "stream",
     "name": "stderr",
     "text": [
      "INFO:tensorflow:Assets written to: savedmodels/modelENRetrain/assets\n",
      "WARNING:absl:Function `_wrapped_model` contains input name(s) ES_Input with unsupported characters which will be renamed to es_input in the SavedModel.\n"
     ]
    },
    {
     "output_type": "stream",
     "name": "stdout",
     "text": [
      "INFO:tensorflow:Assets written to: savedmodels/modelESRetrain/assets\n"
     ]
    },
    {
     "output_type": "stream",
     "name": "stderr",
     "text": [
      "INFO:tensorflow:Assets written to: savedmodels/modelESRetrain/assets\n",
      "WARNING:absl:Function `_wrapped_model` contains input name(s) FR_Input with unsupported characters which will be renamed to fr_input in the SavedModel.\n"
     ]
    },
    {
     "output_type": "stream",
     "name": "stdout",
     "text": [
      "INFO:tensorflow:Assets written to: savedmodels/modelFRRetrain/assets\n"
     ]
    },
    {
     "output_type": "stream",
     "name": "stderr",
     "text": [
      "INFO:tensorflow:Assets written to: savedmodels/modelFRRetrain/assets\n"
     ]
    }
   ]
  },
  {
   "cell_type": "code",
   "metadata": {
    "colab": {
     "base_uri": "https://localhost:8080/"
    },
    "id": "nIZqPoItDTRe",
    "executionInfo": {
     "status": "ok",
     "timestamp": 1638883459579,
     "user_tz": 300,
     "elapsed": 1968,
     "user": {
      "displayName": "Andrew Ning",
      "photoUrl": "https://lh3.googleusercontent.com/a-/AOh14GgyUiXynCeybWnGTpfHnOSTarAoJjvj-8rK8oxkzQ=s64",
      "userId": "04097743773373129918"
     }
    },
    "outputId": "277b738c-05fb-4b8e-f8a8-15f75bc941c3"
   },
   "source": [
    "# !zip -r /content/savedmodels.zip /content/savedmodels\n",
    "#"
   ],
   "execution_count": null,
   "outputs": [
    {
     "output_type": "stream",
     "name": "stdout",
     "text": [
      "  adding: content/savedmodels/ (stored 0%)\n",
      "  adding: content/savedmodels/fullmodelEN/ (stored 0%)\n",
      "  adding: content/savedmodels/fullmodelEN/keras_metadata.pb (deflated 94%)\n",
      "  adding: content/savedmodels/fullmodelEN/variables/ (stored 0%)\n",
      "  adding: content/savedmodels/fullmodelEN/variables/variables.index (deflated 68%)\n",
      "  adding: content/savedmodels/fullmodelEN/variables/variables.data-00000-of-00001 (deflated 7%)\n",
      "  adding: content/savedmodels/fullmodelEN/saved_model.pb (deflated 90%)\n",
      "  adding: content/savedmodels/fullmodelEN/assets/ (stored 0%)\n",
      "  adding: content/savedmodels/sharedmodel/ (stored 0%)\n",
      "  adding: content/savedmodels/sharedmodel/keras_metadata.pb (deflated 92%)\n",
      "  adding: content/savedmodels/sharedmodel/variables/ (stored 0%)\n",
      "  adding: content/savedmodels/sharedmodel/variables/variables.index (deflated 46%)\n",
      "  adding: content/savedmodels/sharedmodel/variables/variables.data-00000-of-00001 (deflated 8%)\n",
      "  adding: content/savedmodels/sharedmodel/saved_model.pb (deflated 90%)\n",
      "  adding: content/savedmodels/sharedmodel/assets/ (stored 0%)\n",
      "  adding: content/savedmodels/modelESRetrain/ (stored 0%)\n",
      "  adding: content/savedmodels/modelESRetrain/keras_metadata.pb (deflated 94%)\n",
      "  adding: content/savedmodels/modelESRetrain/variables/ (stored 0%)\n",
      "  adding: content/savedmodels/modelESRetrain/variables/variables.index (deflated 65%)\n",
      "  adding: content/savedmodels/modelESRetrain/variables/variables.data-00000-of-00001 (deflated 8%)\n",
      "  adding: content/savedmodels/modelESRetrain/saved_model.pb (deflated 90%)\n",
      "  adding: content/savedmodels/modelESRetrain/assets/ (stored 0%)\n",
      "  adding: content/savedmodels/modelENRetrain/ (stored 0%)\n",
      "  adding: content/savedmodels/modelENRetrain/keras_metadata.pb (deflated 94%)\n",
      "  adding: content/savedmodels/modelENRetrain/variables/ (stored 0%)\n",
      "  adding: content/savedmodels/modelENRetrain/variables/variables.index (deflated 65%)\n",
      "  adding: content/savedmodels/modelENRetrain/variables/variables.data-00000-of-00001 (deflated 8%)\n",
      "  adding: content/savedmodels/modelENRetrain/saved_model.pb (deflated 90%)\n",
      "  adding: content/savedmodels/modelENRetrain/assets/ (stored 0%)\n",
      "  adding: content/savedmodels/fullmodelFR/ (stored 0%)\n",
      "  adding: content/savedmodels/fullmodelFR/keras_metadata.pb (deflated 94%)\n",
      "  adding: content/savedmodels/fullmodelFR/variables/ (stored 0%)\n",
      "  adding: content/savedmodels/fullmodelFR/variables/variables.index (deflated 68%)\n",
      "  adding: content/savedmodels/fullmodelFR/variables/variables.data-00000-of-00001 (deflated 8%)\n",
      "  adding: content/savedmodels/fullmodelFR/saved_model.pb (deflated 89%)\n",
      "  adding: content/savedmodels/fullmodelFR/assets/ (stored 0%)\n",
      "  adding: content/savedmodels/modelFRRetrain/ (stored 0%)\n",
      "  adding: content/savedmodels/modelFRRetrain/keras_metadata.pb (deflated 94%)\n",
      "  adding: content/savedmodels/modelFRRetrain/variables/ (stored 0%)\n",
      "  adding: content/savedmodels/modelFRRetrain/variables/variables.index (deflated 65%)\n",
      "  adding: content/savedmodels/modelFRRetrain/variables/variables.data-00000-of-00001 (deflated 8%)\n",
      "  adding: content/savedmodels/modelFRRetrain/saved_model.pb (deflated 90%)\n",
      "  adding: content/savedmodels/modelFRRetrain/assets/ (stored 0%)\n",
      "  adding: content/savedmodels/fullmodelES/ (stored 0%)\n",
      "  adding: content/savedmodels/fullmodelES/keras_metadata.pb (deflated 94%)\n",
      "  adding: content/savedmodels/fullmodelES/variables/ (stored 0%)\n",
      "  adding: content/savedmodels/fullmodelES/variables/variables.index (deflated 68%)\n",
      "  adding: content/savedmodels/fullmodelES/variables/variables.data-00000-of-00001 (deflated 8%)\n",
      "  adding: content/savedmodels/fullmodelES/saved_model.pb (deflated 89%)\n",
      "  adding: content/savedmodels/fullmodelES/assets/ (stored 0%)\n"
     ]
    }
   ]
  },
  {
   "cell_type": "code",
   "metadata": {
    "colab": {
     "base_uri": "https://localhost:8080/",
     "height": 17
    },
    "id": "Iv4_chBiESg9",
    "executionInfo": {
     "status": "ok",
     "timestamp": 1638883473649,
     "user_tz": 300,
     "elapsed": 293,
     "user": {
      "displayName": "Andrew Ning",
      "photoUrl": "https://lh3.googleusercontent.com/a-/AOh14GgyUiXynCeybWnGTpfHnOSTarAoJjvj-8rK8oxkzQ=s64",
      "userId": "04097743773373129918"
     }
    },
    "outputId": "d7190552-4797-47ee-b89f-f465bb0c47d9"
   },
   "source": [
    "# from google.colab import files\n",
    "# files.download('/content/savedmodels.zip')\n",
    "#"
   ],
   "execution_count": null,
   "outputs": [
    {
     "output_type": "display_data",
     "data": {
      "application/javascript": [
       "\n",
       "    async function download(id, filename, size) {\n",
       "      if (!google.colab.kernel.accessAllowed) {\n",
       "        return;\n",
       "      }\n",
       "      const div = document.createElement('div');\n",
       "      const label = document.createElement('label');\n",
       "      label.textContent = `Downloading \"${filename}\": `;\n",
       "      div.appendChild(label);\n",
       "      const progress = document.createElement('progress');\n",
       "      progress.max = size;\n",
       "      div.appendChild(progress);\n",
       "      document.body.appendChild(div);\n",
       "\n",
       "      const buffers = [];\n",
       "      let downloaded = 0;\n",
       "\n",
       "      const channel = await google.colab.kernel.comms.open(id);\n",
       "      // Send a message to notify the kernel that we're ready.\n",
       "      channel.send({})\n",
       "\n",
       "      for await (const message of channel.messages) {\n",
       "        // Send a message to notify the kernel that we're ready.\n",
       "        channel.send({})\n",
       "        if (message.buffers) {\n",
       "          for (const buffer of message.buffers) {\n",
       "            buffers.push(buffer);\n",
       "            downloaded += buffer.byteLength;\n",
       "            progress.value = downloaded;\n",
       "          }\n",
       "        }\n",
       "      }\n",
       "      const blob = new Blob(buffers, {type: 'application/binary'});\n",
       "      const a = document.createElement('a');\n",
       "      a.href = window.URL.createObjectURL(blob);\n",
       "      a.download = filename;\n",
       "      div.appendChild(a);\n",
       "      a.click();\n",
       "      div.remove();\n",
       "    }\n",
       "  "
      ],
      "text/plain": [
       "<IPython.core.display.Javascript object>"
      ]
     },
     "metadata": {}
    },
    {
     "output_type": "display_data",
     "data": {
      "application/javascript": [
       "download(\"download_e4558d73-0659-407b-a1ce-e72613a9a766\", \"savedmodels.zip\", 28378236)"
      ],
      "text/plain": [
       "<IPython.core.display.Javascript object>"
      ]
     },
     "metadata": {}
    }
   ]
  },
  {
   "cell_type": "code",
   "metadata": {
    "id": "-ENZECOqmito"
   },
   "source": [
    "# # %reload_ext tensorboard\n",
    "# # %tensorboard --logdir logs\n",
    "#"
   ],
   "execution_count": null,
   "outputs": []
  },
  {
   "cell_type": "code",
   "metadata": {
    "colab": {
     "base_uri": "https://localhost:8080/"
    },
    "id": "idbVWjbyrtNm",
    "executionInfo": {
     "status": "ok",
     "timestamp": 1638883657873,
     "user_tz": 300,
     "elapsed": 689,
     "user": {
      "displayName": "Andrew Ning",
      "photoUrl": "https://lh3.googleusercontent.com/a-/AOh14GgyUiXynCeybWnGTpfHnOSTarAoJjvj-8rK8oxkzQ=s64",
      "userId": "04097743773373129918"
     }
    },
    "outputId": "1309d653-04a8-4300-c9c0-81f70e5ca06c"
   },
   "source": [
    "# !zip -r /content/logs.zip /content/logs\n",
    "#"
   ],
   "execution_count": null,
   "outputs": [
    {
     "output_type": "stream",
     "name": "stdout",
     "text": [
      "  adding: content/logs/ (stored 0%)\n",
      "  adding: content/logs/model1-1-RETRAIN-EN/ (stored 0%)\n",
      "  adding: content/logs/model1-1-RETRAIN-EN/train/ (stored 0%)\n",
      "  adding: content/logs/model1-1-RETRAIN-EN/train/events.out.tfevents.1638882871.aced5336b311.87.19.v2 (deflated 86%)\n",
      "  adding: content/logs/model1-1-RETRAIN-EN/train/events.out.tfevents.1638882551.aced5336b311.87.7.v2 (deflated 87%)\n",
      "  adding: content/logs/model1-1-RETRAIN-EN/validation/ (stored 0%)\n",
      "  adding: content/logs/model1-1-RETRAIN-EN/validation/events.out.tfevents.1638882552.aced5336b311.87.8.v2 (deflated 77%)\n",
      "  adding: content/logs/model1-1-RETRAIN-EN/validation/events.out.tfevents.1638882873.aced5336b311.87.20.v2 (deflated 80%)\n",
      "  adding: content/logs/model1-1-RETRAIN-ES/ (stored 0%)\n",
      "  adding: content/logs/model1-1-RETRAIN-ES/train/ (stored 0%)\n",
      "  adding: content/logs/model1-1-RETRAIN-ES/train/events.out.tfevents.1638882936.aced5336b311.87.21.v2 (deflated 86%)\n",
      "  adding: content/logs/model1-1-RETRAIN-ES/train/events.out.tfevents.1638882553.aced5336b311.87.9.v2 (deflated 87%)\n",
      "  adding: content/logs/model1-1-RETRAIN-ES/validation/ (stored 0%)\n",
      "  adding: content/logs/model1-1-RETRAIN-ES/validation/events.out.tfevents.1638882554.aced5336b311.87.10.v2 (deflated 75%)\n",
      "  adding: content/logs/model1-1-RETRAIN-ES/validation/events.out.tfevents.1638882938.aced5336b311.87.22.v2 (deflated 80%)\n",
      "  adding: content/logs/model1-1-RETRAIN-FR/ (stored 0%)\n",
      "  adding: content/logs/model1-1-RETRAIN-FR/train/ (stored 0%)\n",
      "  adding: content/logs/model1-1-RETRAIN-FR/train/events.out.tfevents.1638882555.aced5336b311.87.11.v2 (deflated 87%)\n",
      "  adding: content/logs/model1-1-RETRAIN-FR/train/events.out.tfevents.1638883000.aced5336b311.87.23.v2 (deflated 86%)\n",
      "  adding: content/logs/model1-1-RETRAIN-FR/validation/ (stored 0%)\n",
      "  adding: content/logs/model1-1-RETRAIN-FR/validation/events.out.tfevents.1638882556.aced5336b311.87.12.v2 (deflated 62%)\n",
      "  adding: content/logs/model1-1-RETRAIN-FR/validation/events.out.tfevents.1638883002.aced5336b311.87.24.v2 (deflated 80%)\n",
      "  adding: content/logs/model1-1-FULL-EN/ (stored 0%)\n",
      "  adding: content/logs/model1-1-FULL-EN/train/ (stored 0%)\n",
      "  adding: content/logs/model1-1-FULL-EN/train/events.out.tfevents.1638882653.aced5336b311.87.13.v2 (deflated 86%)\n",
      "  adding: content/logs/model1-1-FULL-EN/train/events.out.tfevents.1638882477.aced5336b311.87.0.v2 (deflated 86%)\n",
      "  adding: content/logs/model1-1-FULL-EN/train/events.out.tfevents.1638882514.aced5336b311.87.1.v2 (deflated 88%)\n",
      "  adding: content/logs/model1-1-FULL-EN/validation/ (stored 0%)\n",
      "  adding: content/logs/model1-1-FULL-EN/validation/events.out.tfevents.1638882523.aced5336b311.87.2.v2 (deflated 77%)\n",
      "  adding: content/logs/model1-1-FULL-EN/validation/events.out.tfevents.1638882655.aced5336b311.87.14.v2 (deflated 80%)\n",
      "  adding: content/logs/model1-1-FULL-FR/ (stored 0%)\n",
      "  adding: content/logs/model1-1-FULL-FR/train/ (stored 0%)\n",
      "  adding: content/logs/model1-1-FULL-FR/train/events.out.tfevents.1638882788.aced5336b311.87.17.v2 (deflated 86%)\n",
      "  adding: content/logs/model1-1-FULL-FR/train/events.out.tfevents.1638882548.aced5336b311.87.5.v2 (deflated 88%)\n",
      "  adding: content/logs/model1-1-FULL-FR/validation/ (stored 0%)\n",
      "  adding: content/logs/model1-1-FULL-FR/validation/events.out.tfevents.1638882790.aced5336b311.87.18.v2 (deflated 80%)\n",
      "  adding: content/logs/model1-1-FULL-FR/validation/events.out.tfevents.1638882550.aced5336b311.87.6.v2 (deflated 62%)\n",
      "  adding: content/logs/model1-1-FULL-ES/ (stored 0%)\n",
      "  adding: content/logs/model1-1-FULL-ES/train/ (stored 0%)\n",
      "  adding: content/logs/model1-1-FULL-ES/train/events.out.tfevents.1638882722.aced5336b311.87.15.v2 (deflated 86%)\n",
      "  adding: content/logs/model1-1-FULL-ES/train/events.out.tfevents.1638882525.aced5336b311.87.3.v2 (deflated 88%)\n",
      "  adding: content/logs/model1-1-FULL-ES/validation/ (stored 0%)\n",
      "  adding: content/logs/model1-1-FULL-ES/validation/events.out.tfevents.1638882724.aced5336b311.87.16.v2 (deflated 80%)\n",
      "  adding: content/logs/model1-1-FULL-ES/validation/events.out.tfevents.1638882526.aced5336b311.87.4.v2 (deflated 76%)\n"
     ]
    }
   ]
  },
  {
   "cell_type": "code",
   "metadata": {
    "colab": {
     "base_uri": "https://localhost:8080/",
     "height": 17
    },
    "id": "5CRsc2gVriJf",
    "executionInfo": {
     "status": "ok",
     "timestamp": 1638883668734,
     "user_tz": 300,
     "elapsed": 294,
     "user": {
      "displayName": "Andrew Ning",
      "photoUrl": "https://lh3.googleusercontent.com/a-/AOh14GgyUiXynCeybWnGTpfHnOSTarAoJjvj-8rK8oxkzQ=s64",
      "userId": "04097743773373129918"
     }
    },
    "outputId": "a19df4cb-4648-4fd7-ac99-3ead459b330f"
   },
   "source": [
    "# from google.colab import files\n",
    "# files.download('/content/logs.zip')"
   ],
   "execution_count": null,
   "outputs": [
    {
     "output_type": "display_data",
     "data": {
      "application/javascript": [
       "\n",
       "    async function download(id, filename, size) {\n",
       "      if (!google.colab.kernel.accessAllowed) {\n",
       "        return;\n",
       "      }\n",
       "      const div = document.createElement('div');\n",
       "      const label = document.createElement('label');\n",
       "      label.textContent = `Downloading \"${filename}\": `;\n",
       "      div.appendChild(label);\n",
       "      const progress = document.createElement('progress');\n",
       "      progress.max = size;\n",
       "      div.appendChild(progress);\n",
       "      document.body.appendChild(div);\n",
       "\n",
       "      const buffers = [];\n",
       "      let downloaded = 0;\n",
       "\n",
       "      const channel = await google.colab.kernel.comms.open(id);\n",
       "      // Send a message to notify the kernel that we're ready.\n",
       "      channel.send({})\n",
       "\n",
       "      for await (const message of channel.messages) {\n",
       "        // Send a message to notify the kernel that we're ready.\n",
       "        channel.send({})\n",
       "        if (message.buffers) {\n",
       "          for (const buffer of message.buffers) {\n",
       "            buffers.push(buffer);\n",
       "            downloaded += buffer.byteLength;\n",
       "            progress.value = downloaded;\n",
       "          }\n",
       "        }\n",
       "      }\n",
       "      const blob = new Blob(buffers, {type: 'application/binary'});\n",
       "      const a = document.createElement('a');\n",
       "      a.href = window.URL.createObjectURL(blob);\n",
       "      a.download = filename;\n",
       "      div.appendChild(a);\n",
       "      a.click();\n",
       "      div.remove();\n",
       "    }\n",
       "  "
      ],
      "text/plain": [
       "<IPython.core.display.Javascript object>"
      ]
     },
     "metadata": {}
    },
    {
     "output_type": "display_data",
     "data": {
      "application/javascript": [
       "download(\"download_294c1b74-cabc-4183-a31b-e8c793b778fc\", \"logs.zip\", 236050)"
      ],
      "text/plain": [
       "<IPython.core.display.Javascript object>"
      ]
     },
     "metadata": {}
    }
   ]
  }
 ]
}