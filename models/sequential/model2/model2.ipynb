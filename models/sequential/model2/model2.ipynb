{
 "nbformat": 4,
 "nbformat_minor": 0,
 "metadata": {
  "kernelspec": {
   "display_name": "Python 3",
   "language": "python",
   "name": "python3"
  },
  "language_info": {
   "codemirror_mode": {
    "name": "ipython",
    "version": 2
   },
   "file_extension": ".py",
   "mimetype": "text/x-python",
   "name": "python",
   "nbconvert_exporter": "python",
   "pygments_lexer": "ipython2",
   "version": "2.7.6"
  },
  "colab": {
   "name": "model2.ipynb",
   "provenance": [],
   "collapsed_sections": []
  }
 },
 "cells": [
  {
   "cell_type": "code",
   "metadata": {
    "id": "FBGMX2iE87o7",
    "executionInfo": {
     "status": "ok",
     "timestamp": 1638869482442,
     "user_tz": 300,
     "elapsed": 231,
     "user": {
      "displayName": "Andrew Ning",
      "photoUrl": "https://lh3.googleusercontent.com/a-/AOh14GgyUiXynCeybWnGTpfHnOSTarAoJjvj-8rK8oxkzQ=s64",
      "userId": "04097743773373129918"
     }
    }
   },
   "source": [
    "# from google.colab import drive\n",
    "# drive.mount('/content/drive', force_remount=True)"
   ],
   "execution_count": 85,
   "outputs": []
  },
  {
   "cell_type": "code",
   "metadata": {
    "id": "QjBzZQLO9A6b",
    "executionInfo": {
     "status": "ok",
     "timestamp": 1638869482791,
     "user_tz": 300,
     "elapsed": 8,
     "user": {
      "displayName": "Andrew Ning",
      "photoUrl": "https://lh3.googleusercontent.com/a-/AOh14GgyUiXynCeybWnGTpfHnOSTarAoJjvj-8rK8oxkzQ=s64",
      "userId": "04097743773373129918"
     }
    }
   },
   "source": [
    "# !cp '/content/drive/MyDrive/spectrograms.zip' ."
   ],
   "execution_count": 86,
   "outputs": []
  },
  {
   "cell_type": "code",
   "metadata": {
    "id": "1Gm_dvHm-c-t",
    "executionInfo": {
     "status": "ok",
     "timestamp": 1638869483131,
     "user_tz": 300,
     "elapsed": 344,
     "user": {
      "displayName": "Andrew Ning",
      "photoUrl": "https://lh3.googleusercontent.com/a-/AOh14GgyUiXynCeybWnGTpfHnOSTarAoJjvj-8rK8oxkzQ=s64",
      "userId": "04097743773373129918"
     }
    }
   },
   "source": [
    "# !unzip -q spectrograms.zip"
   ],
   "execution_count": 87,
   "outputs": []
  },
  {
   "cell_type": "code",
   "metadata": {
    "id": "uRg8Jcd4d0uU",
    "executionInfo": {
     "status": "ok",
     "timestamp": 1638869483133,
     "user_tz": 300,
     "elapsed": 39,
     "user": {
      "displayName": "Andrew Ning",
      "photoUrl": "https://lh3.googleusercontent.com/a-/AOh14GgyUiXynCeybWnGTpfHnOSTarAoJjvj-8rK8oxkzQ=s64",
      "userId": "04097743773373129918"
     }
    }
   },
   "source": [
    "# !pip list"
   ],
   "execution_count": 88,
   "outputs": []
  },
  {
   "cell_type": "code",
   "metadata": {
    "id": "tJaFtYtmK2QN",
    "executionInfo": {
     "status": "ok",
     "timestamp": 1638869483135,
     "user_tz": 300,
     "elapsed": 38,
     "user": {
      "displayName": "Andrew Ning",
      "photoUrl": "https://lh3.googleusercontent.com/a-/AOh14GgyUiXynCeybWnGTpfHnOSTarAoJjvj-8rK8oxkzQ=s64",
      "userId": "04097743773373129918"
     }
    }
   },
   "source": [
    "# !rm -r /content/logs"
   ],
   "execution_count": 89,
   "outputs": []
  },
  {
   "cell_type": "code",
   "metadata": {
    "pycharm": {
     "name": "#%%\n"
    },
    "id": "y6UkqZY085Tn",
    "executionInfo": {
     "status": "ok",
     "timestamp": 1638869483140,
     "user_tz": 300,
     "elapsed": 30,
     "user": {
      "displayName": "Andrew Ning",
      "photoUrl": "https://lh3.googleusercontent.com/a-/AOh14GgyUiXynCeybWnGTpfHnOSTarAoJjvj-8rK8oxkzQ=s64",
      "userId": "04097743773373129918"
     }
    }
   },
   "source": [
    "import keras.callbacks\n",
    "import tensorflow as tf\n",
    "import numpy as np\n",
    "from sklearn.preprocessing import StandardScaler\n",
    "import matplotlib.pyplot as plt\n",
    "from tensorflow.keras.utils import Sequence\n",
    "import math\n",
    "import pandas as pd\n",
    "import random\n",
    "from tensorflow.keras import models, layers, callbacks, activations\n",
    "\n",
    "import librosa\n",
    "import librosa.display\n",
    "\n",
    "import warnings\n",
    "\n",
    "import pickle\n",
    "\n",
    "AUTOTUNE = tf.data.AUTOTUNE\n",
    "\n",
    "# tf.config.run_functions_eagerly(True)"
   ],
   "execution_count": 90,
   "outputs": []
  },
  {
   "cell_type": "code",
   "metadata": {
    "collapsed": true,
    "id": "SmkFFn7Q85Tr",
    "executionInfo": {
     "status": "ok",
     "timestamp": 1638869483467,
     "user_tz": 300,
     "elapsed": 353,
     "user": {
      "displayName": "Andrew Ning",
      "photoUrl": "https://lh3.googleusercontent.com/a-/AOh14GgyUiXynCeybWnGTpfHnOSTarAoJjvj-8rK8oxkzQ=s64",
      "userId": "04097743773373129918"
     }
    }
   },
   "source": [
    "SAMPLE_RATE = 24000\n",
    "FREQ_SIZE = 188\n",
    "SECONDS = 4\n",
    "\n",
    "N_MFCC = 100\n",
    "\n",
    "BATCH_SIZE_TRAIN = 50\n",
    "BATCH_SIZE_TEST = 1\n",
    "BATCH_SIZE_VAL = 50\n",
    "EPOCHS = 50\n",
    "\n",
    "NUM_TRAIN = 2250\n",
    "NUM_VAL = 500\n",
    "NUM_TEST = 250\n",
    "\n",
    "STEPS_PER_EPOCH = NUM_TRAIN // BATCH_SIZE_TRAIN\n",
    "\n",
    "# LABELS_FR = ['zéro','un','deux','trois','quatre','cinq','six','sept','huit','neuf','dix','Hey','oui','non','Firefox']\n",
    "\n",
    "# NUM_LABELS_FR = len(LABELS_FR)\n",
    "NUM_LANGUAGES = 1\n",
    "LANGUAGES = ['EN','ES']\n",
    "\n",
    "LOG_DIR = \"/content/logs/model\" + str(NUM_LANGUAGES) + \"-\"\n",
    "\n",
    "SEED = 0\n",
    "tf.random.set_seed(SEED)\n",
    "np.random.seed(SEED)\n",
    "\n",
    "LEARNING_RATE = 0.0001"
   ],
   "execution_count": 91,
   "outputs": []
  },
  {
   "cell_type": "code",
   "metadata": {
    "id": "3i2so4138Y8K",
    "executionInfo": {
     "status": "ok",
     "timestamp": 1638869483471,
     "user_tz": 300,
     "elapsed": 53,
     "user": {
      "displayName": "Andrew Ning",
      "photoUrl": "https://lh3.googleusercontent.com/a-/AOh14GgyUiXynCeybWnGTpfHnOSTarAoJjvj-8rK8oxkzQ=s64",
      "userId": "04097743773373129918"
     }
    }
   },
   "source": [
    "BASE_DIR_EN = '/content/spectrograms/en/clips/'\n",
    "TRAIN_PATH_EN = '/content/spectrograms/en/train.tsv'\n",
    "TEST_PATH_EN = '/content/spectrograms/en/test.tsv'\n",
    "VAL_PATH_EN = '/content/spectrograms/en/val.tsv'\n",
    "\n",
    "NUM_TRAIN_EN = NUM_TRAIN\n",
    "NUM_VAL_EN = NUM_VAL\n",
    "NUM_TEST_EN = NUM_TEST\n",
    "\n",
    "LABELS_EN = ['zero','one','two','three','four','five','six','seven','eight','nine','ten','Hey','yes','no','Firefox']\n",
    "NUM_LABELS_EN = len(LABELS_EN)"
   ],
   "execution_count": 92,
   "outputs": []
  },
  {
   "cell_type": "code",
   "metadata": {
    "id": "Ff44tQaq90MK",
    "executionInfo": {
     "status": "ok",
     "timestamp": 1638869483474,
     "user_tz": 300,
     "elapsed": 54,
     "user": {
      "displayName": "Andrew Ning",
      "photoUrl": "https://lh3.googleusercontent.com/a-/AOh14GgyUiXynCeybWnGTpfHnOSTarAoJjvj-8rK8oxkzQ=s64",
      "userId": "04097743773373129918"
     }
    }
   },
   "source": [
    "BASE_DIR_ES = '/content/spectrograms/es/clips/'\n",
    "TRAIN_PATH_ES = '/content/spectrograms/es/train.tsv'\n",
    "TEST_PATH_ES = '/content/spectrograms/es/test.tsv'\n",
    "VAL_PATH_ES = '/content/spectrograms/es/val.tsv'\n",
    "\n",
    "NUM_TRAIN_ES = NUM_TRAIN\n",
    "NUM_VAL_ES = NUM_VAL\n",
    "NUM_TEST_ES = NUM_TEST\n",
    "\n",
    "LABELS_ES = ['cero','cinco','cuatro','dos','Firefox','Hey','no','neuve','ocho','seis','siete','tres','uno','sí']\n",
    "NUM_LABELS_ES = len(LABELS_ES)"
   ],
   "execution_count": 93,
   "outputs": []
  },
  {
   "cell_type": "code",
   "metadata": {
    "pycharm": {
     "name": "#%%\n"
    },
    "id": "UAgyKnOC85Ts",
    "executionInfo": {
     "status": "ok",
     "timestamp": 1638869483477,
     "user_tz": 300,
     "elapsed": 52,
     "user": {
      "displayName": "Andrew Ning",
      "photoUrl": "https://lh3.googleusercontent.com/a-/AOh14GgyUiXynCeybWnGTpfHnOSTarAoJjvj-8rK8oxkzQ=s64",
      "userId": "04097743773373129918"
     }
    }
   },
   "source": [
    "def padaudio(waveform):\n",
    "    if (len(waveform) >= SAMPLE_RATE * SECONDS):\n",
    "        return waveform\n",
    "    else:\n",
    "        return np.pad(waveform,(0,SAMPLE_RATE * SECONDS - len(waveform)),mode='constant', constant_values=(0,0))\n",
    "\n",
    "# def processdata(file):\n",
    "#     waveform,sample_rate = librosa.load(file, SAMPLE_RATE)\n",
    "#     waveform = padaudio(waveform)\n",
    "#     mfccs = librosa.feature.mfcc(waveform,sr=sample_rate,n_mfcc=N_MFCC)\n",
    "#     mfccs = np.moveaxis(mfccs,1,0)\n",
    "#     scaler = StandardScaler()\n",
    "#     mfccs_scaled = scaler.fit_transform(mfccs)\n",
    "#     return mfccs_scaled.reshape(mfccs_scaled.shape[0], mfccs_scaled.shape[1],1)\n",
    "\n",
    "def processdata(file):\n",
    "  filename = file.split(\".\")[0] + '.pkl'\n",
    "  with open(filename,'rb') as f:\n",
    "    spectrogram = pickle.load(f)\n",
    "\n",
    "  return spectrogram"
   ],
   "execution_count": 94,
   "outputs": []
  },
  {
   "cell_type": "code",
   "metadata": {
    "pycharm": {
     "name": "#%%\n"
    },
    "id": "Wd1vyGP585Tt",
    "executionInfo": {
     "status": "ok",
     "timestamp": 1638869483480,
     "user_tz": 300,
     "elapsed": 53,
     "user": {
      "displayName": "Andrew Ning",
      "photoUrl": "https://lh3.googleusercontent.com/a-/AOh14GgyUiXynCeybWnGTpfHnOSTarAoJjvj-8rK8oxkzQ=s64",
      "userId": "04097743773373129918"
     }
    }
   },
   "source": [
    "def getlabel(onehot,labels):\n",
    "    index = np.argmax(onehot)\n",
    "    label = labels[index]\n",
    "    return label\n",
    "\n",
    "def getonehot(label,labels):\n",
    "    onehot = np.array([1 if x == label else 0 for x in labels])\n",
    "    return onehot"
   ],
   "execution_count": 95,
   "outputs": []
  },
  {
   "cell_type": "code",
   "metadata": {
    "pycharm": {
     "name": "#%%\n"
    },
    "id": "CvKOaLpA85Tt",
    "executionInfo": {
     "status": "ok",
     "timestamp": 1638869483482,
     "user_tz": 300,
     "elapsed": 50,
     "user": {
      "displayName": "Andrew Ning",
      "photoUrl": "https://lh3.googleusercontent.com/a-/AOh14GgyUiXynCeybWnGTpfHnOSTarAoJjvj-8rK8oxkzQ=s64",
      "userId": "04097743773373129918"
     }
    }
   },
   "source": [
    "def getdata(df,base_dir):\n",
    "    df['fullpath'] = base_dir + df['path']\n",
    "    inputs = df['fullpath'].tolist()\n",
    "    labels = df['sentence'].tolist()\n",
    "    x = np.array(inputs)\n",
    "    y = np.array(labels)\n",
    "    return x,y"
   ],
   "execution_count": 96,
   "outputs": []
  },
  {
   "cell_type": "code",
   "metadata": {
    "pycharm": {
     "name": "#%%\n"
    },
    "id": "vdTuxSsg85Tu",
    "colab": {
     "base_uri": "https://localhost:8080/"
    },
    "executionInfo": {
     "status": "ok",
     "timestamp": 1638869483485,
     "user_tz": 300,
     "elapsed": 52,
     "user": {
      "displayName": "Andrew Ning",
      "photoUrl": "https://lh3.googleusercontent.com/a-/AOh14GgyUiXynCeybWnGTpfHnOSTarAoJjvj-8rK8oxkzQ=s64",
      "userId": "04097743773373129918"
     }
    },
    "outputId": "43357134-80e1-4eed-cc8f-b79cf398d65e"
   },
   "source": [
    "dftrainEN = pd.read_csv(TRAIN_PATH_EN, sep='\\t', header=0)\n",
    "dftrainEN.sort_values(by='length',ascending=False,inplace=True)\n",
    "trainxEN,trainyEN, = getdata(dftrainEN.head(NUM_TRAIN_EN), BASE_DIR_EN)\n",
    "\n",
    "dfvalEN = pd.read_csv(VAL_PATH_EN, sep='\\t', header=0)\n",
    "dfvalEN.sort_values(by='length',ascending=False,inplace=True)\n",
    "valxEN,valyEN, = getdata(dfvalEN.head(NUM_VAL_EN), BASE_DIR_EN)\n",
    "\n",
    "dftestEN = pd.read_csv(TEST_PATH_EN, sep='\\t', header=0)\n",
    "dftestEN.sort_values(by='length',ascending=False,inplace=True)\n",
    "testxEN,testyEN, = getdata(dftestEN.head(NUM_TEST_EN), BASE_DIR_EN)"
   ],
   "execution_count": 97,
   "outputs": [
    {
     "output_type": "stream",
     "name": "stderr",
     "text": [
      "/usr/local/lib/python3.7/dist-packages/ipykernel_launcher.py:2: SettingWithCopyWarning: \n",
      "A value is trying to be set on a copy of a slice from a DataFrame.\n",
      "Try using .loc[row_indexer,col_indexer] = value instead\n",
      "\n",
      "See the caveats in the documentation: https://pandas.pydata.org/pandas-docs/stable/user_guide/indexing.html#returning-a-view-versus-a-copy\n",
      "  \n"
     ]
    }
   ]
  },
  {
   "cell_type": "code",
   "metadata": {
    "colab": {
     "base_uri": "https://localhost:8080/"
    },
    "id": "PegcKx9pA_Ps",
    "executionInfo": {
     "status": "ok",
     "timestamp": 1638869483883,
     "user_tz": 300,
     "elapsed": 434,
     "user": {
      "displayName": "Andrew Ning",
      "photoUrl": "https://lh3.googleusercontent.com/a-/AOh14GgyUiXynCeybWnGTpfHnOSTarAoJjvj-8rK8oxkzQ=s64",
      "userId": "04097743773373129918"
     }
    },
    "outputId": "2384be74-3202-4722-ccd3-1c02263b05af"
   },
   "source": [
    "dftrainES = pd.read_csv(TRAIN_PATH_ES, sep='\\t', header=0)\n",
    "dftrainES.sort_values(by='length',ascending=False,inplace=True)\n",
    "trainxES,trainyES, = getdata(dftrainES.head(NUM_TRAIN_ES), BASE_DIR_ES)\n",
    "\n",
    "dfvalES = pd.read_csv(VAL_PATH_ES, sep='\\t', header=0)\n",
    "dfvalES.sort_values(by='length',ascending=False,inplace=True)\n",
    "valxES,valyES, = getdata(dfvalES.head(NUM_VAL_ES), BASE_DIR_ES)\n",
    "\n",
    "dftestES = pd.read_csv(TEST_PATH_ES, sep='\\t', header=0)\n",
    "dftestES.sort_values(by='length',ascending=False,inplace=True)\n",
    "testxES,testyES, = getdata(dftestES.head(NUM_TEST_ES), BASE_DIR_ES)"
   ],
   "execution_count": 98,
   "outputs": [
    {
     "output_type": "stream",
     "name": "stderr",
     "text": [
      "/usr/local/lib/python3.7/dist-packages/ipykernel_launcher.py:2: SettingWithCopyWarning: \n",
      "A value is trying to be set on a copy of a slice from a DataFrame.\n",
      "Try using .loc[row_indexer,col_indexer] = value instead\n",
      "\n",
      "See the caveats in the documentation: https://pandas.pydata.org/pandas-docs/stable/user_guide/indexing.html#returning-a-view-versus-a-copy\n",
      "  \n"
     ]
    }
   ]
  },
  {
   "cell_type": "code",
   "metadata": {
    "pycharm": {
     "name": "#%%\n"
    },
    "id": "IXRZtWYf85Tv",
    "executionInfo": {
     "status": "ok",
     "timestamp": 1638869483890,
     "user_tz": 300,
     "elapsed": 43,
     "user": {
      "displayName": "Andrew Ning",
      "photoUrl": "https://lh3.googleusercontent.com/a-/AOh14GgyUiXynCeybWnGTpfHnOSTarAoJjvj-8rK8oxkzQ=s64",
      "userId": "04097743773373129918"
     }
    }
   },
   "source": [
    "def maketraingenerator(trainxs, trainys):\n",
    "    def traingenerator():\n",
    "        for i in range(len(trainxEN)):\n",
    "            xs = []\n",
    "            ys = []\n",
    "\n",
    "            for trainx,trainy in zip(trainxs,trainys):\n",
    "                with warnings.catch_warnings():\n",
    "                    warnings.simplefilter(\"ignore\")\n",
    "                    xs.append(processdata(trainx[i]))\n",
    "                ys.append(getonehot(trainy[0][i],trainy[1]))\n",
    "\n",
    "            xst = tuple(xs)\n",
    "            yst = tuple(ys)\n",
    "            yield xst,yst\n",
    "    return traingenerator\n",
    "\n",
    "\n",
    "xtypes = tuple([tf.float32]*NUM_LANGUAGES)\n",
    "ytypes = tuple([tf.int32]*NUM_LANGUAGES)\n",
    "traingentypes = (xtypes,ytypes)\n",
    "\n",
    "xshapes = tuple([[FREQ_SIZE,N_MFCC,1] for i in range(NUM_LANGUAGES)])\n",
    "yshapes = tuple([[15]])\n",
    "traingenshapes = (xshapes,yshapes)"
   ],
   "execution_count": 99,
   "outputs": []
  },
  {
   "cell_type": "code",
   "metadata": {
    "id": "40szilg8_TG6",
    "executionInfo": {
     "status": "ok",
     "timestamp": 1638869483892,
     "user_tz": 300,
     "elapsed": 42,
     "user": {
      "displayName": "Andrew Ning",
      "photoUrl": "https://lh3.googleusercontent.com/a-/AOh14GgyUiXynCeybWnGTpfHnOSTarAoJjvj-8rK8oxkzQ=s64",
      "userId": "04097743773373129918"
     }
    }
   },
   "source": [
    "def makevalgenerator(trainxs, trainys):\n",
    "    def traingenerator():\n",
    "        for i in range(len(valxEN)):\n",
    "            xs = []\n",
    "            ys = []\n",
    "\n",
    "            for trainx,trainy in zip(trainxs,trainys):\n",
    "                with warnings.catch_warnings():\n",
    "                    warnings.simplefilter(\"ignore\")\n",
    "                    xs.append(processdata(trainx[i]))\n",
    "                ys.append(getonehot(trainy[0][i],trainy[1]))\n",
    "\n",
    "            xst = tuple(xs)\n",
    "            yst = tuple(ys)\n",
    "            yield xst,yst\n",
    "    return traingenerator"
   ],
   "execution_count": 100,
   "outputs": []
  },
  {
   "cell_type": "code",
   "metadata": {
    "pycharm": {
     "name": "#%%\n"
    },
    "id": "gb0sxUFY85Tw",
    "executionInfo": {
     "status": "ok",
     "timestamp": 1638869483895,
     "user_tz": 300,
     "elapsed": 42,
     "user": {
      "displayName": "Andrew Ning",
      "photoUrl": "https://lh3.googleusercontent.com/a-/AOh14GgyUiXynCeybWnGTpfHnOSTarAoJjvj-8rK8oxkzQ=s64",
      "userId": "04097743773373129918"
     }
    }
   },
   "source": [
    "trainxsEN = [trainxEN]\n",
    "trainysEN = [[trainyEN,LABELS_EN]]\n",
    "\n",
    "trainxsES = [trainxES]\n",
    "trainysES = [[trainyES,LABELS_ES]]\n",
    "\n",
    "valxsEN = [valxEN]\n",
    "valysEN = [[valyEN,LABELS_EN]]\n",
    "\n",
    "valxsES = [valxES]\n",
    "valysES = [[valyES,LABELS_ES]]\n"
   ],
   "execution_count": 101,
   "outputs": []
  },
  {
   "cell_type": "code",
   "metadata": {
    "pycharm": {
     "name": "#%%\n"
    },
    "id": "k0QV3oAw85Tx",
    "executionInfo": {
     "status": "ok",
     "timestamp": 1638869483900,
     "user_tz": 300,
     "elapsed": 41,
     "user": {
      "displayName": "Andrew Ning",
      "photoUrl": "https://lh3.googleusercontent.com/a-/AOh14GgyUiXynCeybWnGTpfHnOSTarAoJjvj-8rK8oxkzQ=s64",
      "userId": "04097743773373129918"
     }
    }
   },
   "source": [
    "def maketestgenerator(testx,testy,labels):\n",
    "    def testgenerator():\n",
    "        for i in range(len(testx)):\n",
    "            x = processdata(testx[i])\n",
    "            y = getonehot(testy[i],labels)\n",
    "            yield x,y\n",
    "    return testgenerator\n",
    "\n",
    "testgentypes = (tf.float32,tf.int32)\n",
    "testgenshapes = ([FREQ_SIZE,N_MFCC,1],[15])"
   ],
   "execution_count": 103,
   "outputs": []
  },
  {
   "cell_type": "code",
   "metadata": {
    "pycharm": {
     "name": "#%%\n"
    },
    "id": "5sgBUQOu85Tx",
    "executionInfo": {
     "status": "ok",
     "timestamp": 1638869483904,
     "user_tz": 300,
     "elapsed": 43,
     "user": {
      "displayName": "Andrew Ning",
      "photoUrl": "https://lh3.googleusercontent.com/a-/AOh14GgyUiXynCeybWnGTpfHnOSTarAoJjvj-8rK8oxkzQ=s64",
      "userId": "04097743773373129918"
     }
    }
   },
   "source": [
    "traindatasetEN = tf.data.Dataset.from_generator(maketraingenerator(trainxsEN,trainysEN),output_types=traingentypes,output_shapes=traingenshapes)\n",
    "traindatasetEN = traindatasetEN.shuffle(NUM_TRAIN_EN)\n",
    "traindatasetEN = traindatasetEN.batch(BATCH_SIZE_TRAIN)\n",
    "traindatasetEN = traindatasetEN.repeat(-1)\n",
    "traindatasetEN = traindatasetEN.cache().prefetch(AUTOTUNE)\n",
    "\n",
    "valdatasetEN = tf.data.Dataset.from_generator(makevalgenerator(valxsEN,valysEN),output_types=traingentypes,output_shapes=traingenshapes)\n",
    "valdatasetEN = valdatasetEN.batch(BATCH_SIZE_VAL)\n",
    "valdatasetEN = valdatasetEN.cache().prefetch(AUTOTUNE)\n",
    "\n",
    "testdatasetEN = tf.data.Dataset.from_generator(maketestgenerator(testxEN,testyEN,LABELS_EN),output_types=testgentypes,output_shapes=testgenshapes)\n",
    "testdatasetEN = testdatasetEN.batch(BATCH_SIZE_TEST)"
   ],
   "execution_count": 104,
   "outputs": []
  },
  {
   "cell_type": "code",
   "metadata": {
    "id": "ya1v-ubLzxE5",
    "executionInfo": {
     "status": "ok",
     "timestamp": 1638869483907,
     "user_tz": 300,
     "elapsed": 43,
     "user": {
      "displayName": "Andrew Ning",
      "photoUrl": "https://lh3.googleusercontent.com/a-/AOh14GgyUiXynCeybWnGTpfHnOSTarAoJjvj-8rK8oxkzQ=s64",
      "userId": "04097743773373129918"
     }
    }
   },
   "source": [
    "traindatasetES = tf.data.Dataset.from_generator(maketraingenerator(trainxsES,trainysES),output_types=traingentypes,output_shapes=(xshapes,tuple([[14]])))\n",
    "traindatasetES = traindatasetES.shuffle(NUM_TRAIN_ES)\n",
    "traindatasetES = traindatasetES.batch(BATCH_SIZE_TRAIN)\n",
    "traindatasetES = traindatasetES.repeat(-1)\n",
    "traindatasetES = traindatasetES.cache().prefetch(AUTOTUNE)\n",
    "\n",
    "valdatasetES = tf.data.Dataset.from_generator(makevalgenerator(valxsES,valysES),output_types=traingentypes,output_shapes=(xshapes,tuple([[14]])))\n",
    "valdatasetES = valdatasetES.batch(BATCH_SIZE_VAL)\n",
    "valdatasetES = valdatasetES.cache().prefetch(AUTOTUNE)\n",
    "\n",
    "testdatasetES = tf.data.Dataset.from_generator(maketestgenerator(testxES,testyES,LABELS_ES),output_types=testgentypes,output_shapes=([FREQ_SIZE,N_MFCC,1],[14]))\n",
    "testdatasetES = testdatasetES.batch(BATCH_SIZE_TEST)\n"
   ],
   "execution_count": 105,
   "outputs": []
  },
  {
   "cell_type": "code",
   "metadata": {
    "pycharm": {
     "name": "#%%\n"
    },
    "id": "9KmIBbT285Ty",
    "executionInfo": {
     "status": "ok",
     "timestamp": 1638869487707,
     "user_tz": 300,
     "elapsed": 13,
     "user": {
      "displayName": "Andrew Ning",
      "photoUrl": "https://lh3.googleusercontent.com/a-/AOh14GgyUiXynCeybWnGTpfHnOSTarAoJjvj-8rK8oxkzQ=s64",
      "userId": "04097743773373129918"
     }
    }
   },
   "source": [
    "def languagelayers(num_labels,language):\n",
    "        lang = keras.Sequential([\n",
    "        layers.Conv2D(filters=128, kernel_size=(3,3), strides=(1,1), padding='same', activation=activations.relu, name=language+'_Conv2D1'),\n",
    "        layers.MaxPooling2D(pool_size=(2,2), strides=(2,2), name=language+'_MaxPool2D1'),\n",
    "        # layers.Conv2D(filters=512, kernel_size=(3,3), padding='same', activation=activations.relu, name=language+'_Conv2D2'),\n",
    "        # layers.MaxPooling2D(pool_size=(3,3), strides=(2,2), name=language+'_MaxPool2D2'),\n",
    "        layers.Flatten(),\n",
    "        layers.Dropout(0.5),\n",
    "        layers.Dense(128, activation=activations.relu, name=language+'_DenseLayer1'),\n",
    "        layers.Dropout(0.5),\n",
    "        layers.Dense(128, activation=activations.relu, name=language+'_DenseLayer2'),\n",
    "        layers.Dropout(0.5),\n",
    "        layers.Dense(num_labels, activation=activations.softmax, name=language+'_Output')\n",
    "        ],\n",
    "        name=language)\n",
    "\n",
    "        return lang"
   ],
   "execution_count": 108,
   "outputs": []
  },
  {
   "cell_type": "code",
   "metadata": {
    "pycharm": {
     "name": "#%%\n"
    },
    "id": "kSoyQRYb85Ty",
    "colab": {
     "base_uri": "https://localhost:8080/",
     "height": 1000
    },
    "executionInfo": {
     "status": "ok",
     "timestamp": 1638869490110,
     "user_tz": 300,
     "elapsed": 2414,
     "user": {
      "displayName": "Andrew Ning",
      "photoUrl": "https://lh3.googleusercontent.com/a-/AOh14GgyUiXynCeybWnGTpfHnOSTarAoJjvj-8rK8oxkzQ=s64",
      "userId": "04097743773373129918"
     }
    },
    "outputId": "6c59806b-d8ea-4369-8808-735f0875b679"
   },
   "source": [
    "inputEN = tf.keras.Input(shape=(FREQ_SIZE,N_MFCC,1),name='EN_Input')\n",
    "inputES = tf.keras.Input(shape=(FREQ_SIZE,N_MFCC,1),name='ES_Input')\n",
    "\n",
    "shared = keras.Sequential([\n",
    "    layers.Conv2D(filters=32, kernel_size=(9,9), strides=(2,2), padding='same', activation=activations.relu, name='Shared_Conv2D1'),\n",
    "    layers.MaxPooling2D(pool_size=(3,3), strides=(2,2), name='Shared_MaxPool2D1'),\n",
    "    layers.Conv2D(filters=64, kernel_size=(5,5), strides=(1,1), padding='same', activation=activations.relu, name='Shared_Conv2D2'),\n",
    "    layers.MaxPooling2D(pool_size=(3,3), strides=(2,2), name='Shared_MaxPool2D2'),\n",
    "    layers.Conv2D(filters=128, kernel_size=(3,3), strides=(1,1), padding='same', activation=activations.relu, name='Shared_Conv2D3'),\n",
    "    layers.MaxPooling2D(pool_size=(3,3), strides=(2,2), name='Shared_MaxPool2D3')\n",
    "    ],\n",
    "    name='Shared_Layers'\n",
    ")\n",
    "\n",
    "sharedLayersEN = shared(inputEN)\n",
    "sharedLayersES = shared(inputES)\n",
    "\n",
    "layersEN = languagelayers(NUM_LABELS_EN,'EN')(sharedLayersEN)\n",
    "layersES = languagelayers(NUM_LABELS_ES,'ES')(sharedLayersES)\n",
    "\n",
    "\n",
    "modelFullEN = tf.keras.Model(\n",
    "    inputs=[inputEN],\n",
    "    outputs=[layersEN],\n",
    "    name='Full_Model_EN'\n",
    ")\n",
    "\n",
    "\n",
    "modelFullEN.summary(expand_nested=True)\n",
    "tf.keras.utils.plot_model(modelFullEN, expand_nested=True)"
   ],
   "execution_count": 109,
   "outputs": [
    {
     "output_type": "stream",
     "name": "stdout",
     "text": [
      "Model: \"Full_Model_EN\"\n",
      "_________________________________________________________________\n",
      " Layer (type)                Output Shape              Param #   \n",
      "=================================================================\n",
      " EN_Input (InputLayer)       [(None, 188, 100, 1)]     0         \n",
      "                                                                 \n",
      " Shared_Layers (Sequential)  (None, 10, 5, 128)        127744    \n",
      "|¯¯¯¯¯¯¯¯¯¯¯¯¯¯¯¯¯¯¯¯¯¯¯¯¯¯¯¯¯¯¯¯¯¯¯¯¯¯¯¯¯¯¯¯¯¯¯¯¯¯¯¯¯¯¯¯¯¯¯¯¯¯¯|\n",
      "| Shared_Conv2D1 (Conv2D)   (None, 94, 50, 32)        2624      |\n",
      "|                                                               |\n",
      "| Shared_MaxPool2D1 (MaxPooli  (None, 46, 24, 32)     0         |\n",
      "| ng2D)                                                         |\n",
      "|                                                               |\n",
      "| Shared_Conv2D2 (Conv2D)   (None, 46, 24, 64)        51264     |\n",
      "|                                                               |\n",
      "| Shared_MaxPool2D2 (MaxPooli  (None, 22, 11, 64)     0         |\n",
      "| ng2D)                                                         |\n",
      "|                                                               |\n",
      "| Shared_Conv2D3 (Conv2D)   (None, 22, 11, 128)       73856     |\n",
      "|                                                               |\n",
      "| Shared_MaxPool2D3 (MaxPooli  (None, 10, 5, 128)     0         |\n",
      "| ng2D)                                                         |\n",
      "¯¯¯¯¯¯¯¯¯¯¯¯¯¯¯¯¯¯¯¯¯¯¯¯¯¯¯¯¯¯¯¯¯¯¯¯¯¯¯¯¯¯¯¯¯¯¯¯¯¯¯¯¯¯¯¯¯¯¯¯¯¯¯¯¯\n",
      " EN (Sequential)             (None, 15)                329999    \n",
      "|¯¯¯¯¯¯¯¯¯¯¯¯¯¯¯¯¯¯¯¯¯¯¯¯¯¯¯¯¯¯¯¯¯¯¯¯¯¯¯¯¯¯¯¯¯¯¯¯¯¯¯¯¯¯¯¯¯¯¯¯¯¯¯|\n",
      "| EN_Conv2D1 (Conv2D)       (None, 10, 5, 128)        147584    |\n",
      "|                                                               |\n",
      "| EN_MaxPool2D1 (MaxPooling2D  (None, 5, 2, 128)      0         |\n",
      "| )                                                             |\n",
      "|                                                               |\n",
      "| flatten_8 (Flatten)       (None, 1280)              0         |\n",
      "|                                                               |\n",
      "| dropout_19 (Dropout)      (None, 1280)              0         |\n",
      "|                                                               |\n",
      "| EN_DenseLayer1 (Dense)    (None, 128)               163968    |\n",
      "|                                                               |\n",
      "| dropout_20 (Dropout)      (None, 128)               0         |\n",
      "|                                                               |\n",
      "| EN_DenseLayer2 (Dense)    (None, 128)               16512     |\n",
      "|                                                               |\n",
      "| dropout_21 (Dropout)      (None, 128)               0         |\n",
      "|                                                               |\n",
      "| EN_Output (Dense)         (None, 15)                1935      |\n",
      "¯¯¯¯¯¯¯¯¯¯¯¯¯¯¯¯¯¯¯¯¯¯¯¯¯¯¯¯¯¯¯¯¯¯¯¯¯¯¯¯¯¯¯¯¯¯¯¯¯¯¯¯¯¯¯¯¯¯¯¯¯¯¯¯¯\n",
      "=================================================================\n",
      "Total params: 457,743\n",
      "Trainable params: 457,743\n",
      "Non-trainable params: 0\n",
      "_________________________________________________________________\n"
     ]
    },
    {
     "output_type": "execute_result",
     "data": {
      "image/png": "[encoded data removed]",
      "text/plain": [
       "<IPython.core.display.Image object>"
      ]
     },
     "metadata": {},
     "execution_count": 109
    }
   ]
  },
  {
   "cell_type": "code",
   "metadata": {
    "pycharm": {
     "name": "#%%\n"
    },
    "id": "uvjPm55685Tz",
    "executionInfo": {
     "status": "ok",
     "timestamp": 1638869490112,
     "user_tz": 300,
     "elapsed": 48,
     "user": {
      "displayName": "Andrew Ning",
      "photoUrl": "https://lh3.googleusercontent.com/a-/AOh14GgyUiXynCeybWnGTpfHnOSTarAoJjvj-8rK8oxkzQ=s64",
      "userId": "04097743773373129918"
     }
    }
   },
   "source": [
    "modelFullEN.compile(\n",
    "    optimizer = tf.keras.optimizers.Adam(learning_rate=LEARNING_RATE),\n",
    "    loss=[tf.keras.losses.CategoricalCrossentropy()],\n",
    "    metrics=[tf.keras.metrics.CategoricalAccuracy(name='Categorical_Accuracy'), tf.keras.metrics.AUC(name='AUC')]\n",
    ")"
   ],
   "execution_count": 110,
   "outputs": []
  },
  {
   "cell_type": "code",
   "metadata": {
    "pycharm": {
     "name": "#%%\n"
    },
    "id": "5YAH8cIR85Tz",
    "executionInfo": {
     "status": "ok",
     "timestamp": 1638869490113,
     "user_tz": 300,
     "elapsed": 47,
     "user": {
      "displayName": "Andrew Ning",
      "photoUrl": "https://lh3.googleusercontent.com/a-/AOh14GgyUiXynCeybWnGTpfHnOSTarAoJjvj-8rK8oxkzQ=s64",
      "userId": "04097743773373129918"
     }
    }
   },
   "source": [
    "RUN = '1'\n",
    "\n",
    "ext = '-FULL-EN'\n",
    "\n",
    "training_callbackFULLEN = callbacks.TensorBoard(log_dir=LOG_DIR + RUN + ext)\n",
    "reduce_lr_callback = callbacks.ReduceLROnPlateau(monitor='val_loss', factor=0.2, patience=3,min_lr=1e-5,verbose=1)\n",
    "earlystopping_callback = tf.keras.callbacks.EarlyStopping(monitor='val_loss', patience=5)"
   ],
   "execution_count": 111,
   "outputs": []
  },
  {
   "cell_type": "code",
   "metadata": {
    "id": "qm15HqLnLXFH",
    "executionInfo": {
     "status": "ok",
     "timestamp": 1638869490115,
     "user_tz": 300,
     "elapsed": 46,
     "user": {
      "displayName": "Andrew Ning",
      "photoUrl": "https://lh3.googleusercontent.com/a-/AOh14GgyUiXynCeybWnGTpfHnOSTarAoJjvj-8rK8oxkzQ=s64",
      "userId": "04097743773373129918"
     }
    }
   },
   "source": [
    "# model.predict(testdatasetEN)"
   ],
   "execution_count": 112,
   "outputs": []
  },
  {
   "cell_type": "code",
   "metadata": {
    "pycharm": {
     "name": "#%%\n",
     "is_executing": true
    },
    "id": "Zjfl1oxd85Tz",
    "colab": {
     "base_uri": "https://localhost:8080/"
    },
    "executionInfo": {
     "status": "ok",
     "timestamp": 1638871668098,
     "user_tz": 300,
     "elapsed": 2178019,
     "user": {
      "displayName": "Andrew Ning",
      "photoUrl": "https://lh3.googleusercontent.com/a-/AOh14GgyUiXynCeybWnGTpfHnOSTarAoJjvj-8rK8oxkzQ=s64",
      "userId": "04097743773373129918"
     }
    },
    "outputId": "2f1eb0a8-f333-457c-c49e-7ceaa94912d8"
   },
   "source": [
    "historyEN = modelFullEN.fit(\n",
    "    x = traindatasetEN,\n",
    "    validation_data = valdatasetEN,\n",
    "    epochs=EPOCHS,\n",
    "    steps_per_epoch=STEPS_PER_EPOCH,\n",
    "    callbacks=[training_callbackFULLEN,earlystopping_callback,reduce_lr_callback],\n",
    "    verbose=1\n",
    ")\n"
   ],
   "execution_count": 113,
   "outputs": [
    {
     "output_type": "stream",
     "name": "stdout",
     "text": [
      "Epoch 1/50\n",
      "45/45 [==============================] - 53s 1s/step - loss: 2.7245 - Categorical_Accuracy: 0.0667 - AUC: 0.5226 - val_loss: 2.6912 - val_Categorical_Accuracy: 0.1060 - val_AUC: 0.5497 - lr: 1.0000e-04\n",
      "Epoch 2/50\n",
      "45/45 [==============================] - 43s 956ms/step - loss: 2.7024 - Categorical_Accuracy: 0.0911 - AUC: 0.5339 - val_loss: 2.6839 - val_Categorical_Accuracy: 0.1060 - val_AUC: 0.5708 - lr: 1.0000e-04\n",
      "Epoch 3/50\n",
      "45/45 [==============================] - 42s 929ms/step - loss: 2.6864 - Categorical_Accuracy: 0.1031 - AUC: 0.5575 - val_loss: 2.6731 - val_Categorical_Accuracy: 0.1060 - val_AUC: 0.5596 - lr: 1.0000e-04\n",
      "Epoch 4/50\n",
      "45/45 [==============================] - 42s 941ms/step - loss: 2.6884 - Categorical_Accuracy: 0.0987 - AUC: 0.5523 - val_loss: 2.6765 - val_Categorical_Accuracy: 0.1060 - val_AUC: 0.5607 - lr: 1.0000e-04\n",
      "Epoch 5/50\n",
      "45/45 [==============================] - 42s 943ms/step - loss: 2.6764 - Categorical_Accuracy: 0.1187 - AUC: 0.5620 - val_loss: 2.6686 - val_Categorical_Accuracy: 0.1060 - val_AUC: 0.5588 - lr: 1.0000e-04\n",
      "Epoch 6/50\n",
      "45/45 [==============================] - 42s 929ms/step - loss: 2.6731 - Categorical_Accuracy: 0.1173 - AUC: 0.5631 - val_loss: 2.6636 - val_Categorical_Accuracy: 0.1060 - val_AUC: 0.5680 - lr: 1.0000e-04\n",
      "Epoch 7/50\n",
      "45/45 [==============================] - 43s 947ms/step - loss: 2.6632 - Categorical_Accuracy: 0.1191 - AUC: 0.5735 - val_loss: 2.6607 - val_Categorical_Accuracy: 0.1060 - val_AUC: 0.5704 - lr: 1.0000e-04\n",
      "Epoch 8/50\n",
      "45/45 [==============================] - 42s 928ms/step - loss: 2.6620 - Categorical_Accuracy: 0.1191 - AUC: 0.5699 - val_loss: 2.6569 - val_Categorical_Accuracy: 0.1060 - val_AUC: 0.5719 - lr: 1.0000e-04\n",
      "Epoch 9/50\n",
      "45/45 [==============================] - 42s 939ms/step - loss: 2.6618 - Categorical_Accuracy: 0.1213 - AUC: 0.5685 - val_loss: 2.6535 - val_Categorical_Accuracy: 0.1060 - val_AUC: 0.5668 - lr: 1.0000e-04\n",
      "Epoch 10/50\n",
      "45/45 [==============================] - 42s 926ms/step - loss: 2.6553 - Categorical_Accuracy: 0.1320 - AUC: 0.5686 - val_loss: 2.6500 - val_Categorical_Accuracy: 0.1060 - val_AUC: 0.5816 - lr: 1.0000e-04\n",
      "Epoch 11/50\n",
      "45/45 [==============================] - 42s 940ms/step - loss: 2.6575 - Categorical_Accuracy: 0.1200 - AUC: 0.5693 - val_loss: 2.6486 - val_Categorical_Accuracy: 0.1060 - val_AUC: 0.5832 - lr: 1.0000e-04\n",
      "Epoch 12/50\n",
      "45/45 [==============================] - 42s 940ms/step - loss: 2.6442 - Categorical_Accuracy: 0.1231 - AUC: 0.5828 - val_loss: 2.6444 - val_Categorical_Accuracy: 0.1060 - val_AUC: 0.5810 - lr: 1.0000e-04\n",
      "Epoch 13/50\n",
      "45/45 [==============================] - 43s 948ms/step - loss: 2.6366 - Categorical_Accuracy: 0.1271 - AUC: 0.5866 - val_loss: 2.6337 - val_Categorical_Accuracy: 0.1060 - val_AUC: 0.5970 - lr: 1.0000e-04\n",
      "Epoch 14/50\n",
      "45/45 [==============================] - 43s 951ms/step - loss: 2.6322 - Categorical_Accuracy: 0.1387 - AUC: 0.5827 - val_loss: 2.6218 - val_Categorical_Accuracy: 0.1160 - val_AUC: 0.6052 - lr: 1.0000e-04\n",
      "Epoch 15/50\n",
      "45/45 [==============================] - 42s 931ms/step - loss: 2.6178 - Categorical_Accuracy: 0.1360 - AUC: 0.5919 - val_loss: 2.6114 - val_Categorical_Accuracy: 0.1300 - val_AUC: 0.6228 - lr: 1.0000e-04\n",
      "Epoch 16/50\n",
      "45/45 [==============================] - 45s 1s/step - loss: 2.5942 - Categorical_Accuracy: 0.1431 - AUC: 0.6112 - val_loss: 2.5802 - val_Categorical_Accuracy: 0.1300 - val_AUC: 0.6418 - lr: 1.0000e-04\n",
      "Epoch 17/50\n",
      "45/45 [==============================] - 43s 950ms/step - loss: 2.5533 - Categorical_Accuracy: 0.1631 - AUC: 0.6297 - val_loss: 2.5468 - val_Categorical_Accuracy: 0.1420 - val_AUC: 0.6643 - lr: 1.0000e-04\n",
      "Epoch 18/50\n",
      "45/45 [==============================] - 43s 952ms/step - loss: 2.5170 - Categorical_Accuracy: 0.1747 - AUC: 0.6496 - val_loss: 2.4967 - val_Categorical_Accuracy: 0.1620 - val_AUC: 0.7031 - lr: 1.0000e-04\n",
      "Epoch 19/50\n",
      "45/45 [==============================] - 43s 963ms/step - loss: 2.4750 - Categorical_Accuracy: 0.1813 - AUC: 0.6693 - val_loss: 2.4481 - val_Categorical_Accuracy: 0.1720 - val_AUC: 0.7262 - lr: 1.0000e-04\n",
      "Epoch 20/50\n",
      "45/45 [==============================] - 43s 948ms/step - loss: 2.4388 - Categorical_Accuracy: 0.1956 - AUC: 0.6888 - val_loss: 2.4137 - val_Categorical_Accuracy: 0.1960 - val_AUC: 0.7483 - lr: 1.0000e-04\n",
      "Epoch 21/50\n",
      "45/45 [==============================] - 43s 947ms/step - loss: 2.4050 - Categorical_Accuracy: 0.1987 - AUC: 0.7019 - val_loss: 2.3775 - val_Categorical_Accuracy: 0.1920 - val_AUC: 0.7539 - lr: 1.0000e-04\n",
      "Epoch 22/50\n",
      "45/45 [==============================] - 43s 950ms/step - loss: 2.3356 - Categorical_Accuracy: 0.2084 - AUC: 0.7245 - val_loss: 2.3413 - val_Categorical_Accuracy: 0.1880 - val_AUC: 0.7551 - lr: 1.0000e-04\n",
      "Epoch 23/50\n",
      "45/45 [==============================] - 44s 971ms/step - loss: 2.3243 - Categorical_Accuracy: 0.2031 - AUC: 0.7316 - val_loss: 2.3044 - val_Categorical_Accuracy: 0.2240 - val_AUC: 0.7630 - lr: 1.0000e-04\n",
      "Epoch 24/50\n",
      "45/45 [==============================] - 43s 951ms/step - loss: 2.2656 - Categorical_Accuracy: 0.2129 - AUC: 0.7505 - val_loss: 2.2680 - val_Categorical_Accuracy: 0.2460 - val_AUC: 0.7741 - lr: 1.0000e-04\n",
      "Epoch 25/50\n",
      "45/45 [==============================] - 42s 942ms/step - loss: 2.2354 - Categorical_Accuracy: 0.2258 - AUC: 0.7612 - val_loss: 2.2372 - val_Categorical_Accuracy: 0.2560 - val_AUC: 0.7731 - lr: 1.0000e-04\n",
      "Epoch 26/50\n",
      "45/45 [==============================] - 42s 929ms/step - loss: 2.2222 - Categorical_Accuracy: 0.2271 - AUC: 0.7628 - val_loss: 2.2180 - val_Categorical_Accuracy: 0.2700 - val_AUC: 0.7879 - lr: 1.0000e-04\n",
      "Epoch 27/50\n",
      "45/45 [==============================] - 42s 940ms/step - loss: 2.1868 - Categorical_Accuracy: 0.2440 - AUC: 0.7715 - val_loss: 2.1784 - val_Categorical_Accuracy: 0.2700 - val_AUC: 0.7899 - lr: 1.0000e-04\n",
      "Epoch 28/50\n",
      "45/45 [==============================] - 43s 951ms/step - loss: 2.1637 - Categorical_Accuracy: 0.2364 - AUC: 0.7799 - val_loss: 2.1735 - val_Categorical_Accuracy: 0.2760 - val_AUC: 0.8013 - lr: 1.0000e-04\n",
      "Epoch 29/50\n",
      "45/45 [==============================] - 42s 942ms/step - loss: 2.1265 - Categorical_Accuracy: 0.2596 - AUC: 0.7913 - val_loss: 2.1146 - val_Categorical_Accuracy: 0.3080 - val_AUC: 0.8142 - lr: 1.0000e-04\n",
      "Epoch 30/50\n",
      "45/45 [==============================] - 49s 1s/step - loss: 2.0896 - Categorical_Accuracy: 0.2742 - AUC: 0.7985 - val_loss: 2.0963 - val_Categorical_Accuracy: 0.3180 - val_AUC: 0.8228 - lr: 1.0000e-04\n",
      "Epoch 31/50\n",
      "45/45 [==============================] - 43s 951ms/step - loss: 2.0636 - Categorical_Accuracy: 0.2778 - AUC: 0.8059 - val_loss: 2.0588 - val_Categorical_Accuracy: 0.3120 - val_AUC: 0.8227 - lr: 1.0000e-04\n",
      "Epoch 32/50\n",
      "45/45 [==============================] - 42s 934ms/step - loss: 2.0276 - Categorical_Accuracy: 0.3004 - AUC: 0.8157 - val_loss: 2.0226 - val_Categorical_Accuracy: 0.3360 - val_AUC: 0.8302 - lr: 1.0000e-04\n",
      "Epoch 33/50\n",
      "45/45 [==============================] - 42s 938ms/step - loss: 1.9818 - Categorical_Accuracy: 0.3049 - AUC: 0.8269 - val_loss: 1.9624 - val_Categorical_Accuracy: 0.3520 - val_AUC: 0.8404 - lr: 1.0000e-04\n",
      "Epoch 34/50\n",
      "45/45 [==============================] - 42s 935ms/step - loss: 1.9581 - Categorical_Accuracy: 0.3209 - AUC: 0.8330 - val_loss: 1.9543 - val_Categorical_Accuracy: 0.3440 - val_AUC: 0.8486 - lr: 1.0000e-04\n",
      "Epoch 35/50\n",
      "45/45 [==============================] - 42s 934ms/step - loss: 1.9264 - Categorical_Accuracy: 0.3293 - AUC: 0.8411 - val_loss: 1.8885 - val_Categorical_Accuracy: 0.4120 - val_AUC: 0.8678 - lr: 1.0000e-04\n",
      "Epoch 36/50\n",
      "45/45 [==============================] - 42s 942ms/step - loss: 1.8614 - Categorical_Accuracy: 0.3436 - AUC: 0.8559 - val_loss: 1.8168 - val_Categorical_Accuracy: 0.4340 - val_AUC: 0.8744 - lr: 1.0000e-04\n",
      "Epoch 37/50\n",
      "45/45 [==============================] - 42s 943ms/step - loss: 1.8011 - Categorical_Accuracy: 0.3684 - AUC: 0.8683 - val_loss: 1.7794 - val_Categorical_Accuracy: 0.4480 - val_AUC: 0.8832 - lr: 1.0000e-04\n",
      "Epoch 38/50\n",
      "45/45 [==============================] - 43s 946ms/step - loss: 1.7763 - Categorical_Accuracy: 0.3742 - AUC: 0.8715 - val_loss: 1.7194 - val_Categorical_Accuracy: 0.4480 - val_AUC: 0.8884 - lr: 1.0000e-04\n",
      "Epoch 39/50\n",
      "45/45 [==============================] - 45s 1s/step - loss: 1.7244 - Categorical_Accuracy: 0.3902 - AUC: 0.8805 - val_loss: 1.6812 - val_Categorical_Accuracy: 0.4640 - val_AUC: 0.8974 - lr: 1.0000e-04\n",
      "Epoch 40/50\n",
      "45/45 [==============================] - 42s 942ms/step - loss: 1.6997 - Categorical_Accuracy: 0.4027 - AUC: 0.8845 - val_loss: 1.6652 - val_Categorical_Accuracy: 0.4620 - val_AUC: 0.8970 - lr: 1.0000e-04\n",
      "Epoch 41/50\n",
      "45/45 [==============================] - 42s 931ms/step - loss: 1.6579 - Categorical_Accuracy: 0.4178 - AUC: 0.8930 - val_loss: 1.5992 - val_Categorical_Accuracy: 0.5000 - val_AUC: 0.9069 - lr: 1.0000e-04\n",
      "Epoch 42/50\n",
      "45/45 [==============================] - 42s 945ms/step - loss: 1.6076 - Categorical_Accuracy: 0.4369 - AUC: 0.9009 - val_loss: 1.5768 - val_Categorical_Accuracy: 0.4760 - val_AUC: 0.9077 - lr: 1.0000e-04\n",
      "Epoch 43/50\n",
      "45/45 [==============================] - 42s 934ms/step - loss: 1.5732 - Categorical_Accuracy: 0.4293 - AUC: 0.9051 - val_loss: 1.5158 - val_Categorical_Accuracy: 0.5240 - val_AUC: 0.9160 - lr: 1.0000e-04\n",
      "Epoch 44/50\n",
      "45/45 [==============================] - 42s 925ms/step - loss: 1.5101 - Categorical_Accuracy: 0.4591 - AUC: 0.9145 - val_loss: 1.5056 - val_Categorical_Accuracy: 0.5160 - val_AUC: 0.9197 - lr: 1.0000e-04\n",
      "Epoch 45/50\n",
      "45/45 [==============================] - 43s 948ms/step - loss: 1.4709 - Categorical_Accuracy: 0.4729 - AUC: 0.9196 - val_loss: 1.4549 - val_Categorical_Accuracy: 0.4980 - val_AUC: 0.9217 - lr: 1.0000e-04\n",
      "Epoch 46/50\n",
      "45/45 [==============================] - 42s 946ms/step - loss: 1.4611 - Categorical_Accuracy: 0.4773 - AUC: 0.9199 - val_loss: 1.4095 - val_Categorical_Accuracy: 0.5400 - val_AUC: 0.9275 - lr: 1.0000e-04\n",
      "Epoch 47/50\n",
      "45/45 [==============================] - 42s 941ms/step - loss: 1.4243 - Categorical_Accuracy: 0.4836 - AUC: 0.9248 - val_loss: 1.4033 - val_Categorical_Accuracy: 0.5480 - val_AUC: 0.9291 - lr: 1.0000e-04\n",
      "Epoch 48/50\n",
      "45/45 [==============================] - 49s 1s/step - loss: 1.3637 - Categorical_Accuracy: 0.5053 - AUC: 0.9325 - val_loss: 1.3691 - val_Categorical_Accuracy: 0.5440 - val_AUC: 0.9326 - lr: 1.0000e-04\n",
      "Epoch 49/50\n",
      "45/45 [==============================] - 46s 1s/step - loss: 1.3513 - Categorical_Accuracy: 0.5089 - AUC: 0.9330 - val_loss: 1.3453 - val_Categorical_Accuracy: 0.5500 - val_AUC: 0.9350 - lr: 1.0000e-04\n",
      "Epoch 50/50\n",
      "45/45 [==============================] - 42s 938ms/step - loss: 1.3425 - Categorical_Accuracy: 0.5040 - AUC: 0.9347 - val_loss: 1.3128 - val_Categorical_Accuracy: 0.5540 - val_AUC: 0.9392 - lr: 1.0000e-04\n"
     ]
    }
   ]
  },
  {
   "cell_type": "code",
   "metadata": {
    "id": "lZ-Sded68uYj",
    "executionInfo": {
     "status": "ok",
     "timestamp": 1638871668099,
     "user_tz": 300,
     "elapsed": 6,
     "user": {
      "displayName": "Andrew Ning",
      "photoUrl": "https://lh3.googleusercontent.com/a-/AOh14GgyUiXynCeybWnGTpfHnOSTarAoJjvj-8rK8oxkzQ=s64",
      "userId": "04097743773373129918"
     }
    }
   },
   "source": [
    "# print(modelFullEN.layers[-2].weights)"
   ],
   "execution_count": 114,
   "outputs": []
  },
  {
   "cell_type": "code",
   "metadata": {
    "colab": {
     "base_uri": "https://localhost:8080/",
     "height": 1000
    },
    "id": "2HmPZNeX2kra",
    "executionInfo": {
     "status": "ok",
     "timestamp": 1638871669638,
     "user_tz": 300,
     "elapsed": 1544,
     "user": {
      "displayName": "Andrew Ning",
      "photoUrl": "https://lh3.googleusercontent.com/a-/AOh14GgyUiXynCeybWnGTpfHnOSTarAoJjvj-8rK8oxkzQ=s64",
      "userId": "04097743773373129918"
     }
    },
    "outputId": "5b371ec9-a86f-4d0d-9996-48a9d13830ef"
   },
   "source": [
    "modelFullES = tf.keras.Model(\n",
    "    inputs=[inputES],\n",
    "    outputs=[layersES],\n",
    "    name='Full_Model_ES'\n",
    ")\n",
    "\n",
    "modelFullES.summary(expand_nested=True)\n",
    "tf.keras.utils.plot_model(modelFullES, expand_nested=True)"
   ],
   "execution_count": 115,
   "outputs": [
    {
     "output_type": "stream",
     "name": "stdout",
     "text": [
      "Model: \"Full_Model_ES\"\n",
      "_________________________________________________________________\n",
      " Layer (type)                Output Shape              Param #   \n",
      "=================================================================\n",
      " ES_Input (InputLayer)       [(None, 188, 100, 1)]     0         \n",
      "                                                                 \n",
      " Shared_Layers (Sequential)  (None, 10, 5, 128)        127744    \n",
      "|¯¯¯¯¯¯¯¯¯¯¯¯¯¯¯¯¯¯¯¯¯¯¯¯¯¯¯¯¯¯¯¯¯¯¯¯¯¯¯¯¯¯¯¯¯¯¯¯¯¯¯¯¯¯¯¯¯¯¯¯¯¯¯|\n",
      "| Shared_Conv2D1 (Conv2D)   (None, 94, 50, 32)        2624      |\n",
      "|                                                               |\n",
      "| Shared_MaxPool2D1 (MaxPooli  (None, 46, 24, 32)     0         |\n",
      "| ng2D)                                                         |\n",
      "|                                                               |\n",
      "| Shared_Conv2D2 (Conv2D)   (None, 46, 24, 64)        51264     |\n",
      "|                                                               |\n",
      "| Shared_MaxPool2D2 (MaxPooli  (None, 22, 11, 64)     0         |\n",
      "| ng2D)                                                         |\n",
      "|                                                               |\n",
      "| Shared_Conv2D3 (Conv2D)   (None, 22, 11, 128)       73856     |\n",
      "|                                                               |\n",
      "| Shared_MaxPool2D3 (MaxPooli  (None, 10, 5, 128)     0         |\n",
      "| ng2D)                                                         |\n",
      "¯¯¯¯¯¯¯¯¯¯¯¯¯¯¯¯¯¯¯¯¯¯¯¯¯¯¯¯¯¯¯¯¯¯¯¯¯¯¯¯¯¯¯¯¯¯¯¯¯¯¯¯¯¯¯¯¯¯¯¯¯¯¯¯¯\n",
      " ES (Sequential)             (None, 14)                329870    \n",
      "|¯¯¯¯¯¯¯¯¯¯¯¯¯¯¯¯¯¯¯¯¯¯¯¯¯¯¯¯¯¯¯¯¯¯¯¯¯¯¯¯¯¯¯¯¯¯¯¯¯¯¯¯¯¯¯¯¯¯¯¯¯¯¯|\n",
      "| ES_Conv2D1 (Conv2D)       (None, 10, 5, 128)        147584    |\n",
      "|                                                               |\n",
      "| ES_MaxPool2D1 (MaxPooling2D  (None, 5, 2, 128)      0         |\n",
      "| )                                                             |\n",
      "|                                                               |\n",
      "| flatten_9 (Flatten)       (None, 1280)              0         |\n",
      "|                                                               |\n",
      "| dropout_22 (Dropout)      (None, 1280)              0         |\n",
      "|                                                               |\n",
      "| ES_DenseLayer1 (Dense)    (None, 128)               163968    |\n",
      "|                                                               |\n",
      "| dropout_23 (Dropout)      (None, 128)               0         |\n",
      "|                                                               |\n",
      "| ES_DenseLayer2 (Dense)    (None, 128)               16512     |\n",
      "|                                                               |\n",
      "| dropout_24 (Dropout)      (None, 128)               0         |\n",
      "|                                                               |\n",
      "| ES_Output (Dense)         (None, 14)                1806      |\n",
      "¯¯¯¯¯¯¯¯¯¯¯¯¯¯¯¯¯¯¯¯¯¯¯¯¯¯¯¯¯¯¯¯¯¯¯¯¯¯¯¯¯¯¯¯¯¯¯¯¯¯¯¯¯¯¯¯¯¯¯¯¯¯¯¯¯\n",
      "=================================================================\n",
      "Total params: 457,614\n",
      "Trainable params: 457,614\n",
      "Non-trainable params: 0\n",
      "_________________________________________________________________\n"
     ]
    },
    {
     "output_type": "execute_result",
     "data": {
      "image/png": "[encoded data removed]",
      "text/plain": [
       "<IPython.core.display.Image object>"
      ]
     },
     "metadata": {},
     "execution_count": 115
    }
   ]
  },
  {
   "cell_type": "code",
   "metadata": {
    "id": "--RScZwz72Tj",
    "executionInfo": {
     "status": "ok",
     "timestamp": 1638871669639,
     "user_tz": 300,
     "elapsed": 5,
     "user": {
      "displayName": "Andrew Ning",
      "photoUrl": "https://lh3.googleusercontent.com/a-/AOh14GgyUiXynCeybWnGTpfHnOSTarAoJjvj-8rK8oxkzQ=s64",
      "userId": "04097743773373129918"
     }
    }
   },
   "source": [
    "modelFullES.compile(\n",
    "    optimizer = tf.keras.optimizers.Adam(learning_rate=LEARNING_RATE),\n",
    "    loss=[tf.keras.losses.CategoricalCrossentropy()],\n",
    "    metrics=[tf.keras.metrics.CategoricalAccuracy(name='Categorical_Accuracy'), tf.keras.metrics.AUC(name='AUC')]\n",
    ")"
   ],
   "execution_count": 116,
   "outputs": []
  },
  {
   "cell_type": "code",
   "metadata": {
    "id": "x21vkwAx-FW0",
    "executionInfo": {
     "status": "ok",
     "timestamp": 1638871669639,
     "user_tz": 300,
     "elapsed": 4,
     "user": {
      "displayName": "Andrew Ning",
      "photoUrl": "https://lh3.googleusercontent.com/a-/AOh14GgyUiXynCeybWnGTpfHnOSTarAoJjvj-8rK8oxkzQ=s64",
      "userId": "04097743773373129918"
     }
    }
   },
   "source": [
    "# print(modelFullES.layers[-2].weights)"
   ],
   "execution_count": 117,
   "outputs": []
  },
  {
   "cell_type": "code",
   "metadata": {
    "colab": {
     "base_uri": "https://localhost:8080/"
    },
    "id": "0JiecvKm17GJ",
    "executionInfo": {
     "status": "ok",
     "timestamp": 1638873853766,
     "user_tz": 300,
     "elapsed": 2184130,
     "user": {
      "displayName": "Andrew Ning",
      "photoUrl": "https://lh3.googleusercontent.com/a-/AOh14GgyUiXynCeybWnGTpfHnOSTarAoJjvj-8rK8oxkzQ=s64",
      "userId": "04097743773373129918"
     }
    },
    "outputId": "27bb0138-4650-4e49-91b5-cc44f164229b"
   },
   "source": [
    "ext = '-FULL-ES'\n",
    "training_callbackFULLES = callbacks.TensorBoard(log_dir=LOG_DIR + RUN + ext)\n",
    "\n",
    "historyES = modelFullES.fit(\n",
    "    x = traindatasetES,\n",
    "    validation_data = valdatasetES,\n",
    "    epochs=EPOCHS,\n",
    "    steps_per_epoch=STEPS_PER_EPOCH,\n",
    "    callbacks=[training_callbackFULLES,earlystopping_callback,reduce_lr_callback],\n",
    "    verbose=1\n",
    ")"
   ],
   "execution_count": 118,
   "outputs": [
    {
     "output_type": "stream",
     "name": "stdout",
     "text": [
      "Epoch 1/50\n",
      "45/45 [==============================] - 49s 955ms/step - loss: 2.4997 - Categorical_Accuracy: 0.0729 - AUC: 0.5119 - val_loss: 2.4322 - val_Categorical_Accuracy: 0.0960 - val_AUC: 0.5829 - lr: 1.0000e-04\n",
      "Epoch 2/50\n",
      "45/45 [==============================] - 42s 928ms/step - loss: 2.4355 - Categorical_Accuracy: 0.0764 - AUC: 0.5438 - val_loss: 2.4156 - val_Categorical_Accuracy: 0.1160 - val_AUC: 0.6310 - lr: 1.0000e-04\n",
      "Epoch 3/50\n",
      "45/45 [==============================] - 42s 931ms/step - loss: 2.4043 - Categorical_Accuracy: 0.0964 - AUC: 0.5853 - val_loss: 2.3894 - val_Categorical_Accuracy: 0.1880 - val_AUC: 0.6934 - lr: 1.0000e-04\n",
      "Epoch 4/50\n",
      "45/45 [==============================] - 42s 930ms/step - loss: 2.3699 - Categorical_Accuracy: 0.1058 - AUC: 0.6164 - val_loss: 2.3404 - val_Categorical_Accuracy: 0.1900 - val_AUC: 0.7295 - lr: 1.0000e-04\n",
      "Epoch 5/50\n",
      "45/45 [==============================] - 42s 937ms/step - loss: 2.3146 - Categorical_Accuracy: 0.1253 - AUC: 0.6585 - val_loss: 2.2712 - val_Categorical_Accuracy: 0.2340 - val_AUC: 0.7680 - lr: 1.0000e-04\n",
      "Epoch 6/50\n",
      "45/45 [==============================] - 42s 942ms/step - loss: 2.2412 - Categorical_Accuracy: 0.1516 - AUC: 0.6974 - val_loss: 2.1915 - val_Categorical_Accuracy: 0.2540 - val_AUC: 0.7971 - lr: 1.0000e-04\n",
      "Epoch 7/50\n",
      "45/45 [==============================] - 42s 942ms/step - loss: 2.1709 - Categorical_Accuracy: 0.1760 - AUC: 0.7297 - val_loss: 2.0859 - val_Categorical_Accuracy: 0.2520 - val_AUC: 0.8150 - lr: 1.0000e-04\n",
      "Epoch 8/50\n",
      "45/45 [==============================] - 42s 946ms/step - loss: 2.0933 - Categorical_Accuracy: 0.2084 - AUC: 0.7576 - val_loss: 1.9981 - val_Categorical_Accuracy: 0.2820 - val_AUC: 0.8487 - lr: 1.0000e-04\n",
      "Epoch 9/50\n",
      "45/45 [==============================] - 42s 936ms/step - loss: 2.0286 - Categorical_Accuracy: 0.2231 - AUC: 0.7780 - val_loss: 1.8916 - val_Categorical_Accuracy: 0.3380 - val_AUC: 0.8685 - lr: 1.0000e-04\n",
      "Epoch 10/50\n",
      "45/45 [==============================] - 42s 944ms/step - loss: 1.9180 - Categorical_Accuracy: 0.2453 - AUC: 0.8144 - val_loss: 1.7787 - val_Categorical_Accuracy: 0.3440 - val_AUC: 0.8839 - lr: 1.0000e-04\n",
      "Epoch 11/50\n",
      "45/45 [==============================] - 44s 980ms/step - loss: 1.8462 - Categorical_Accuracy: 0.2716 - AUC: 0.8314 - val_loss: 1.6891 - val_Categorical_Accuracy: 0.3840 - val_AUC: 0.8928 - lr: 1.0000e-04\n",
      "Epoch 12/50\n",
      "45/45 [==============================] - 45s 1s/step - loss: 1.7873 - Categorical_Accuracy: 0.2876 - AUC: 0.8453 - val_loss: 1.6203 - val_Categorical_Accuracy: 0.4060 - val_AUC: 0.8935 - lr: 1.0000e-04\n",
      "Epoch 13/50\n",
      "45/45 [==============================] - 43s 949ms/step - loss: 1.7255 - Categorical_Accuracy: 0.3089 - AUC: 0.8569 - val_loss: 1.5446 - val_Categorical_Accuracy: 0.4400 - val_AUC: 0.9166 - lr: 1.0000e-04\n",
      "Epoch 14/50\n",
      "45/45 [==============================] - 43s 950ms/step - loss: 1.6704 - Categorical_Accuracy: 0.3151 - AUC: 0.8683 - val_loss: 1.4849 - val_Categorical_Accuracy: 0.4520 - val_AUC: 0.9249 - lr: 1.0000e-04\n",
      "Epoch 15/50\n",
      "45/45 [==============================] - 42s 942ms/step - loss: 1.6246 - Categorical_Accuracy: 0.3404 - AUC: 0.8762 - val_loss: 1.4229 - val_Categorical_Accuracy: 0.4420 - val_AUC: 0.9292 - lr: 1.0000e-04\n",
      "Epoch 16/50\n",
      "45/45 [==============================] - 42s 939ms/step - loss: 1.5456 - Categorical_Accuracy: 0.3658 - AUC: 0.8885 - val_loss: 1.3568 - val_Categorical_Accuracy: 0.4820 - val_AUC: 0.9387 - lr: 1.0000e-04\n",
      "Epoch 17/50\n",
      "45/45 [==============================] - 42s 927ms/step - loss: 1.4973 - Categorical_Accuracy: 0.3707 - AUC: 0.8987 - val_loss: 1.3152 - val_Categorical_Accuracy: 0.4720 - val_AUC: 0.9398 - lr: 1.0000e-04\n",
      "Epoch 18/50\n",
      "45/45 [==============================] - 42s 937ms/step - loss: 1.4327 - Categorical_Accuracy: 0.3996 - AUC: 0.9065 - val_loss: 1.2502 - val_Categorical_Accuracy: 0.4860 - val_AUC: 0.9443 - lr: 1.0000e-04\n",
      "Epoch 19/50\n",
      "45/45 [==============================] - 42s 928ms/step - loss: 1.3853 - Categorical_Accuracy: 0.3991 - AUC: 0.9130 - val_loss: 1.2147 - val_Categorical_Accuracy: 0.5020 - val_AUC: 0.9502 - lr: 1.0000e-04\n",
      "Epoch 20/50\n",
      "45/45 [==============================] - 42s 942ms/step - loss: 1.3227 - Categorical_Accuracy: 0.4258 - AUC: 0.9212 - val_loss: 1.1668 - val_Categorical_Accuracy: 0.4840 - val_AUC: 0.9511 - lr: 1.0000e-04\n",
      "Epoch 21/50\n",
      "45/45 [==============================] - 43s 953ms/step - loss: 1.2753 - Categorical_Accuracy: 0.4467 - AUC: 0.9263 - val_loss: 1.1162 - val_Categorical_Accuracy: 0.5260 - val_AUC: 0.9577 - lr: 1.0000e-04\n",
      "Epoch 22/50\n",
      "45/45 [==============================] - 42s 943ms/step - loss: 1.2268 - Categorical_Accuracy: 0.4684 - AUC: 0.9324 - val_loss: 1.0805 - val_Categorical_Accuracy: 0.5280 - val_AUC: 0.9566 - lr: 1.0000e-04\n",
      "Epoch 23/50\n",
      "45/45 [==============================] - 42s 939ms/step - loss: 1.2062 - Categorical_Accuracy: 0.4769 - AUC: 0.9339 - val_loss: 1.0658 - val_Categorical_Accuracy: 0.5280 - val_AUC: 0.9579 - lr: 1.0000e-04\n",
      "Epoch 24/50\n",
      "45/45 [==============================] - 42s 932ms/step - loss: 1.1838 - Categorical_Accuracy: 0.4893 - AUC: 0.9366 - val_loss: 1.0223 - val_Categorical_Accuracy: 0.5420 - val_AUC: 0.9616 - lr: 1.0000e-04\n",
      "Epoch 25/50\n",
      "45/45 [==============================] - 43s 948ms/step - loss: 1.1469 - Categorical_Accuracy: 0.4969 - AUC: 0.9407 - val_loss: 0.9870 - val_Categorical_Accuracy: 0.5660 - val_AUC: 0.9652 - lr: 1.0000e-04\n",
      "Epoch 26/50\n",
      "45/45 [==============================] - 48s 1s/step - loss: 1.0792 - Categorical_Accuracy: 0.5089 - AUC: 0.9483 - val_loss: 0.9271 - val_Categorical_Accuracy: 0.5840 - val_AUC: 0.9678 - lr: 1.0000e-04\n",
      "Epoch 27/50\n",
      "45/45 [==============================] - 43s 956ms/step - loss: 1.0718 - Categorical_Accuracy: 0.5098 - AUC: 0.9487 - val_loss: 0.9297 - val_Categorical_Accuracy: 0.5800 - val_AUC: 0.9676 - lr: 1.0000e-04\n",
      "Epoch 28/50\n",
      "45/45 [==============================] - 42s 936ms/step - loss: 1.0571 - Categorical_Accuracy: 0.5289 - AUC: 0.9489 - val_loss: 0.9284 - val_Categorical_Accuracy: 0.6000 - val_AUC: 0.9670 - lr: 1.0000e-04\n",
      "Epoch 29/50\n",
      "45/45 [==============================] - 42s 937ms/step - loss: 1.0157 - Categorical_Accuracy: 0.5369 - AUC: 0.9530 - val_loss: 0.8641 - val_Categorical_Accuracy: 0.6140 - val_AUC: 0.9714 - lr: 1.0000e-04\n",
      "Epoch 30/50\n",
      "45/45 [==============================] - 42s 939ms/step - loss: 0.9731 - Categorical_Accuracy: 0.5547 - AUC: 0.9564 - val_loss: 0.8382 - val_Categorical_Accuracy: 0.6180 - val_AUC: 0.9721 - lr: 1.0000e-04\n",
      "Epoch 31/50\n",
      "45/45 [==============================] - 42s 937ms/step - loss: 0.9476 - Categorical_Accuracy: 0.5591 - AUC: 0.9580 - val_loss: 0.8220 - val_Categorical_Accuracy: 0.6240 - val_AUC: 0.9737 - lr: 1.0000e-04\n",
      "Epoch 32/50\n",
      "45/45 [==============================] - 42s 934ms/step - loss: 0.9139 - Categorical_Accuracy: 0.5702 - AUC: 0.9608 - val_loss: 0.8088 - val_Categorical_Accuracy: 0.6540 - val_AUC: 0.9739 - lr: 1.0000e-04\n",
      "Epoch 33/50\n",
      "45/45 [==============================] - 42s 929ms/step - loss: 0.9169 - Categorical_Accuracy: 0.5707 - AUC: 0.9617 - val_loss: 0.7790 - val_Categorical_Accuracy: 0.6420 - val_AUC: 0.9751 - lr: 1.0000e-04\n",
      "Epoch 34/50\n",
      "45/45 [==============================] - 42s 945ms/step - loss: 0.8833 - Categorical_Accuracy: 0.6004 - AUC: 0.9631 - val_loss: 0.7584 - val_Categorical_Accuracy: 0.6600 - val_AUC: 0.9762 - lr: 1.0000e-04\n",
      "Epoch 35/50\n",
      "45/45 [==============================] - 43s 948ms/step - loss: 0.8665 - Categorical_Accuracy: 0.5942 - AUC: 0.9648 - val_loss: 0.7628 - val_Categorical_Accuracy: 0.6400 - val_AUC: 0.9750 - lr: 1.0000e-04\n",
      "Epoch 36/50\n",
      "45/45 [==============================] - 43s 946ms/step - loss: 0.8573 - Categorical_Accuracy: 0.6031 - AUC: 0.9645 - val_loss: 0.7354 - val_Categorical_Accuracy: 0.6480 - val_AUC: 0.9763 - lr: 1.0000e-04\n",
      "Epoch 37/50\n",
      "45/45 [==============================] - 42s 943ms/step - loss: 0.8122 - Categorical_Accuracy: 0.6062 - AUC: 0.9686 - val_loss: 0.7314 - val_Categorical_Accuracy: 0.6660 - val_AUC: 0.9765 - lr: 1.0000e-04\n",
      "Epoch 38/50\n",
      "45/45 [==============================] - 42s 939ms/step - loss: 0.7901 - Categorical_Accuracy: 0.6178 - AUC: 0.9699 - val_loss: 0.6974 - val_Categorical_Accuracy: 0.6680 - val_AUC: 0.9788 - lr: 1.0000e-04\n",
      "Epoch 39/50\n",
      "45/45 [==============================] - 43s 960ms/step - loss: 0.7975 - Categorical_Accuracy: 0.6147 - AUC: 0.9694 - val_loss: 0.6776 - val_Categorical_Accuracy: 0.6860 - val_AUC: 0.9800 - lr: 1.0000e-04\n",
      "Epoch 40/50\n",
      "45/45 [==============================] - 50s 1s/step - loss: 0.7543 - Categorical_Accuracy: 0.6307 - AUC: 0.9724 - val_loss: 0.6803 - val_Categorical_Accuracy: 0.6720 - val_AUC: 0.9789 - lr: 1.0000e-04\n",
      "Epoch 41/50\n",
      "45/45 [==============================] - 42s 940ms/step - loss: 0.7251 - Categorical_Accuracy: 0.6418 - AUC: 0.9728 - val_loss: 0.6513 - val_Categorical_Accuracy: 0.6620 - val_AUC: 0.9799 - lr: 1.0000e-04\n",
      "Epoch 42/50\n",
      "45/45 [==============================] - 42s 935ms/step - loss: 0.7435 - Categorical_Accuracy: 0.6329 - AUC: 0.9718 - val_loss: 0.6629 - val_Categorical_Accuracy: 0.6660 - val_AUC: 0.9793 - lr: 1.0000e-04\n",
      "Epoch 43/50\n",
      "45/45 [==============================] - 42s 936ms/step - loss: 0.7121 - Categorical_Accuracy: 0.6524 - AUC: 0.9731 - val_loss: 0.6416 - val_Categorical_Accuracy: 0.6740 - val_AUC: 0.9800 - lr: 1.0000e-04\n",
      "Epoch 44/50\n",
      "45/45 [==============================] - 41s 923ms/step - loss: 0.7505 - Categorical_Accuracy: 0.6404 - AUC: 0.9706 - val_loss: 0.6247 - val_Categorical_Accuracy: 0.6960 - val_AUC: 0.9802 - lr: 1.0000e-04\n",
      "Epoch 45/50\n",
      "45/45 [==============================] - 42s 933ms/step - loss: 0.7197 - Categorical_Accuracy: 0.6613 - AUC: 0.9719 - val_loss: 0.6418 - val_Categorical_Accuracy: 0.6940 - val_AUC: 0.9780 - lr: 1.0000e-04\n",
      "Epoch 46/50\n",
      "45/45 [==============================] - 42s 935ms/step - loss: 0.8148 - Categorical_Accuracy: 0.6142 - AUC: 0.9637 - val_loss: 0.6668 - val_Categorical_Accuracy: 0.6820 - val_AUC: 0.9762 - lr: 1.0000e-04\n",
      "Epoch 47/50\n",
      "45/45 [==============================] - ETA: 0s - loss: 0.8163 - Categorical_Accuracy: 0.6178 - AUC: 0.9654\n",
      "Epoch 00047: ReduceLROnPlateau reducing learning rate to 1.9999999494757503e-05.\n",
      "45/45 [==============================] - 42s 936ms/step - loss: 0.8163 - Categorical_Accuracy: 0.6178 - AUC: 0.9654 - val_loss: 0.7140 - val_Categorical_Accuracy: 0.6540 - val_AUC: 0.9704 - lr: 1.0000e-04\n",
      "Epoch 48/50\n",
      "45/45 [==============================] - 42s 933ms/step - loss: 0.7983 - Categorical_Accuracy: 0.6378 - AUC: 0.9667 - val_loss: 0.6255 - val_Categorical_Accuracy: 0.6880 - val_AUC: 0.9776 - lr: 2.0000e-05\n",
      "Epoch 49/50\n",
      "45/45 [==============================] - 42s 934ms/step - loss: 0.8143 - Categorical_Accuracy: 0.6324 - AUC: 0.9640 - val_loss: 0.6193 - val_Categorical_Accuracy: 0.6900 - val_AUC: 0.9772 - lr: 2.0000e-05\n",
      "Epoch 50/50\n",
      "45/45 [==============================] - 42s 941ms/step - loss: 0.8385 - Categorical_Accuracy: 0.6404 - AUC: 0.9630 - val_loss: 0.6346 - val_Categorical_Accuracy: 0.6880 - val_AUC: 0.9766 - lr: 2.0000e-05\n"
     ]
    }
   ]
  },
  {
   "cell_type": "code",
   "metadata": {
    "id": "c_86FakJETb-",
    "executionInfo": {
     "status": "ok",
     "timestamp": 1638873853767,
     "user_tz": 300,
     "elapsed": 16,
     "user": {
      "displayName": "Andrew Ning",
      "photoUrl": "https://lh3.googleusercontent.com/a-/AOh14GgyUiXynCeybWnGTpfHnOSTarAoJjvj-8rK8oxkzQ=s64",
      "userId": "04097743773373129918"
     }
    }
   },
   "source": [
    "shared.trainable = False"
   ],
   "execution_count": 119,
   "outputs": []
  },
  {
   "cell_type": "code",
   "metadata": {
    "id": "6gzF-Z_KID5v",
    "executionInfo": {
     "status": "ok",
     "timestamp": 1638873853767,
     "user_tz": 300,
     "elapsed": 15,
     "user": {
      "displayName": "Andrew Ning",
      "photoUrl": "https://lh3.googleusercontent.com/a-/AOh14GgyUiXynCeybWnGTpfHnOSTarAoJjvj-8rK8oxkzQ=s64",
      "userId": "04097743773373129918"
     }
    }
   },
   "source": [
    "newSharedLayers = shared(inputEN)\n",
    "newLayersEN = languagelayers(NUM_LABELS_EN,'EN')(newSharedLayers)\n",
    "\n",
    "modelENRetrain = tf.keras.Model(\n",
    "    inputs=inputEN,\n",
    "    outputs=newLayersEN,\n",
    "    name='ENModelRetrained'\n",
    ")"
   ],
   "execution_count": 120,
   "outputs": []
  },
  {
   "cell_type": "code",
   "metadata": {
    "pycharm": {
     "name": "#%%\n",
     "is_executing": true
    },
    "id": "B7swrdTI85T0",
    "executionInfo": {
     "status": "ok",
     "timestamp": 1638873854022,
     "user_tz": 300,
     "elapsed": 270,
     "user": {
      "displayName": "Andrew Ning",
      "photoUrl": "https://lh3.googleusercontent.com/a-/AOh14GgyUiXynCeybWnGTpfHnOSTarAoJjvj-8rK8oxkzQ=s64",
      "userId": "04097743773373129918"
     }
    }
   },
   "source": [
    "modelENRetrain.compile(optimizer = tf.keras.optimizers.Adam(learning_rate=LEARNING_RATE),\n",
    "    loss=tf.keras.losses.CategoricalCrossentropy(),\n",
    "    metrics=[tf.keras.metrics.CategoricalAccuracy(name='Categorical Accuracy'),tf.keras.metrics.AUC(name='AUC')])\n",
    "\n",
    "# modelEN.evaluate(testdatasetEN)"
   ],
   "execution_count": 121,
   "outputs": []
  },
  {
   "cell_type": "code",
   "metadata": {
    "colab": {
     "base_uri": "https://localhost:8080/"
    },
    "id": "S--1Rd73I3Ms",
    "executionInfo": {
     "status": "ok",
     "timestamp": 1638874597326,
     "user_tz": 300,
     "elapsed": 743311,
     "user": {
      "displayName": "Andrew Ning",
      "photoUrl": "https://lh3.googleusercontent.com/a-/AOh14GgyUiXynCeybWnGTpfHnOSTarAoJjvj-8rK8oxkzQ=s64",
      "userId": "04097743773373129918"
     }
    },
    "outputId": "d7e63e0d-a7bf-404a-b649-a4eadd3636e9"
   },
   "source": [
    "ext = '-RETRAIN-EN'\n",
    "training_callbackRETRAINEN = callbacks.TensorBoard(log_dir=LOG_DIR + RUN + ext)\n",
    "\n",
    "historyENRetrain = modelENRetrain.fit(\n",
    "    x = traindatasetEN,\n",
    "    validation_data = valdatasetEN,\n",
    "    epochs=EPOCHS,\n",
    "    steps_per_epoch=STEPS_PER_EPOCH,\n",
    "    callbacks=[training_callbackRETRAINEN,earlystopping_callback,reduce_lr_callback],\n",
    "    verbose=1\n",
    ")"
   ],
   "execution_count": 122,
   "outputs": [
    {
     "output_type": "stream",
     "name": "stdout",
     "text": [
      "Epoch 1/50\n",
      "45/45 [==============================] - 21s 309ms/step - loss: 2.8684 - Categorical Accuracy: 0.0942 - AUC: 0.5490 - val_loss: 2.6518 - val_Categorical Accuracy: 0.1360 - val_AUC: 0.6185 - lr: 1.0000e-04\n",
      "Epoch 2/50\n",
      "45/45 [==============================] - 13s 296ms/step - loss: 2.6979 - Categorical Accuracy: 0.0902 - AUC: 0.5789 - val_loss: 2.6206 - val_Categorical Accuracy: 0.2040 - val_AUC: 0.6980 - lr: 1.0000e-04\n",
      "Epoch 3/50\n",
      "45/45 [==============================] - 13s 301ms/step - loss: 2.6239 - Categorical Accuracy: 0.1147 - AUC: 0.6170 - val_loss: 2.5525 - val_Categorical Accuracy: 0.1860 - val_AUC: 0.7231 - lr: 1.0000e-04\n",
      "Epoch 4/50\n",
      "45/45 [==============================] - 13s 301ms/step - loss: 2.5484 - Categorical Accuracy: 0.1587 - AUC: 0.6601 - val_loss: 2.4588 - val_Categorical Accuracy: 0.2300 - val_AUC: 0.7860 - lr: 1.0000e-04\n",
      "Epoch 5/50\n",
      "45/45 [==============================] - 13s 300ms/step - loss: 2.4497 - Categorical Accuracy: 0.1889 - AUC: 0.6985 - val_loss: 2.3481 - val_Categorical Accuracy: 0.2760 - val_AUC: 0.8225 - lr: 1.0000e-04\n",
      "Epoch 6/50\n",
      "45/45 [==============================] - 13s 301ms/step - loss: 2.3730 - Categorical Accuracy: 0.2124 - AUC: 0.7256 - val_loss: 2.2400 - val_Categorical Accuracy: 0.2960 - val_AUC: 0.8538 - lr: 1.0000e-04\n",
      "Epoch 7/50\n",
      "45/45 [==============================] - 14s 302ms/step - loss: 2.2775 - Categorical Accuracy: 0.2364 - AUC: 0.7596 - val_loss: 2.1293 - val_Categorical Accuracy: 0.3540 - val_AUC: 0.8739 - lr: 1.0000e-04\n",
      "Epoch 8/50\n",
      "45/45 [==============================] - 13s 297ms/step - loss: 2.1908 - Categorical Accuracy: 0.2693 - AUC: 0.7866 - val_loss: 2.0180 - val_Categorical Accuracy: 0.4200 - val_AUC: 0.8885 - lr: 1.0000e-04\n",
      "Epoch 9/50\n",
      "45/45 [==============================] - 18s 414ms/step - loss: 2.0877 - Categorical Accuracy: 0.2964 - AUC: 0.8116 - val_loss: 1.9003 - val_Categorical Accuracy: 0.4400 - val_AUC: 0.9018 - lr: 1.0000e-04\n",
      "Epoch 10/50\n",
      "45/45 [==============================] - 14s 303ms/step - loss: 2.0142 - Categorical Accuracy: 0.3164 - AUC: 0.8309 - val_loss: 1.7852 - val_Categorical Accuracy: 0.4740 - val_AUC: 0.9135 - lr: 1.0000e-04\n",
      "Epoch 11/50\n",
      "45/45 [==============================] - 13s 301ms/step - loss: 1.9432 - Categorical Accuracy: 0.3427 - AUC: 0.8448 - val_loss: 1.7030 - val_Categorical Accuracy: 0.5240 - val_AUC: 0.9248 - lr: 1.0000e-04\n",
      "Epoch 12/50\n",
      "45/45 [==============================] - 14s 303ms/step - loss: 1.8824 - Categorical Accuracy: 0.3467 - AUC: 0.8596 - val_loss: 1.6500 - val_Categorical Accuracy: 0.5340 - val_AUC: 0.9291 - lr: 1.0000e-04\n",
      "Epoch 13/50\n",
      "45/45 [==============================] - 13s 297ms/step - loss: 1.8073 - Categorical Accuracy: 0.3760 - AUC: 0.8738 - val_loss: 1.5673 - val_Categorical Accuracy: 0.5460 - val_AUC: 0.9328 - lr: 1.0000e-04\n",
      "Epoch 14/50\n",
      "45/45 [==============================] - 14s 304ms/step - loss: 1.7530 - Categorical Accuracy: 0.3982 - AUC: 0.8814 - val_loss: 1.4942 - val_Categorical Accuracy: 0.5580 - val_AUC: 0.9378 - lr: 1.0000e-04\n",
      "Epoch 15/50\n",
      "45/45 [==============================] - 14s 302ms/step - loss: 1.6888 - Categorical Accuracy: 0.4102 - AUC: 0.8930 - val_loss: 1.4380 - val_Categorical Accuracy: 0.5880 - val_AUC: 0.9430 - lr: 1.0000e-04\n",
      "Epoch 16/50\n",
      "45/45 [==============================] - 13s 300ms/step - loss: 1.6190 - Categorical Accuracy: 0.4289 - AUC: 0.9024 - val_loss: 1.3857 - val_Categorical Accuracy: 0.5960 - val_AUC: 0.9465 - lr: 1.0000e-04\n",
      "Epoch 17/50\n",
      "45/45 [==============================] - 13s 300ms/step - loss: 1.5842 - Categorical Accuracy: 0.4378 - AUC: 0.9069 - val_loss: 1.3435 - val_Categorical Accuracy: 0.5940 - val_AUC: 0.9487 - lr: 1.0000e-04\n",
      "Epoch 18/50\n",
      "45/45 [==============================] - 14s 303ms/step - loss: 1.5276 - Categorical Accuracy: 0.4653 - AUC: 0.9136 - val_loss: 1.3016 - val_Categorical Accuracy: 0.6200 - val_AUC: 0.9510 - lr: 1.0000e-04\n",
      "Epoch 19/50\n",
      "45/45 [==============================] - 13s 301ms/step - loss: 1.4890 - Categorical Accuracy: 0.4800 - AUC: 0.9195 - val_loss: 1.2745 - val_Categorical Accuracy: 0.6120 - val_AUC: 0.9533 - lr: 1.0000e-04\n",
      "Epoch 20/50\n",
      "45/45 [==============================] - 14s 306ms/step - loss: 1.4632 - Categorical Accuracy: 0.4831 - AUC: 0.9225 - val_loss: 1.2396 - val_Categorical Accuracy: 0.6200 - val_AUC: 0.9545 - lr: 1.0000e-04\n",
      "Epoch 21/50\n",
      "45/45 [==============================] - 14s 306ms/step - loss: 1.4116 - Categorical Accuracy: 0.5036 - AUC: 0.9277 - val_loss: 1.2040 - val_Categorical Accuracy: 0.6300 - val_AUC: 0.9565 - lr: 1.0000e-04\n",
      "Epoch 22/50\n",
      "45/45 [==============================] - 14s 305ms/step - loss: 1.4068 - Categorical Accuracy: 0.5013 - AUC: 0.9291 - val_loss: 1.1875 - val_Categorical Accuracy: 0.6320 - val_AUC: 0.9580 - lr: 1.0000e-04\n",
      "Epoch 23/50\n",
      "45/45 [==============================] - 14s 306ms/step - loss: 1.3770 - Categorical Accuracy: 0.5187 - AUC: 0.9309 - val_loss: 1.1678 - val_Categorical Accuracy: 0.6460 - val_AUC: 0.9591 - lr: 1.0000e-04\n",
      "Epoch 24/50\n",
      "45/45 [==============================] - 14s 303ms/step - loss: 1.3170 - Categorical Accuracy: 0.5440 - AUC: 0.9379 - val_loss: 1.1312 - val_Categorical Accuracy: 0.6620 - val_AUC: 0.9607 - lr: 1.0000e-04\n",
      "Epoch 25/50\n",
      "45/45 [==============================] - 14s 308ms/step - loss: 1.2922 - Categorical Accuracy: 0.5507 - AUC: 0.9401 - val_loss: 1.1026 - val_Categorical Accuracy: 0.6660 - val_AUC: 0.9620 - lr: 1.0000e-04\n",
      "Epoch 26/50\n",
      "45/45 [==============================] - 14s 308ms/step - loss: 1.3093 - Categorical Accuracy: 0.5413 - AUC: 0.9376 - val_loss: 1.1123 - val_Categorical Accuracy: 0.6640 - val_AUC: 0.9622 - lr: 1.0000e-04\n",
      "Epoch 27/50\n",
      "45/45 [==============================] - 14s 302ms/step - loss: 1.2805 - Categorical Accuracy: 0.5413 - AUC: 0.9418 - val_loss: 1.0838 - val_Categorical Accuracy: 0.6780 - val_AUC: 0.9638 - lr: 1.0000e-04\n",
      "Epoch 28/50\n",
      "45/45 [==============================] - 14s 314ms/step - loss: 1.2391 - Categorical Accuracy: 0.5613 - AUC: 0.9453 - val_loss: 1.0722 - val_Categorical Accuracy: 0.6500 - val_AUC: 0.9624 - lr: 1.0000e-04\n",
      "Epoch 29/50\n",
      "45/45 [==============================] - 14s 314ms/step - loss: 1.1664 - Categorical Accuracy: 0.5938 - AUC: 0.9518 - val_loss: 1.0320 - val_Categorical Accuracy: 0.6640 - val_AUC: 0.9649 - lr: 1.0000e-04\n",
      "Epoch 30/50\n",
      "45/45 [==============================] - 14s 311ms/step - loss: 1.1848 - Categorical Accuracy: 0.5898 - AUC: 0.9490 - val_loss: 1.0350 - val_Categorical Accuracy: 0.6640 - val_AUC: 0.9653 - lr: 1.0000e-04\n",
      "Epoch 31/50\n",
      "45/45 [==============================] - 17s 375ms/step - loss: 1.1717 - Categorical Accuracy: 0.5836 - AUC: 0.9518 - val_loss: 1.0220 - val_Categorical Accuracy: 0.6660 - val_AUC: 0.9662 - lr: 1.0000e-04\n",
      "Epoch 32/50\n",
      "45/45 [==============================] - 14s 309ms/step - loss: 1.1218 - Categorical Accuracy: 0.5867 - AUC: 0.9552 - val_loss: 1.0118 - val_Categorical Accuracy: 0.6740 - val_AUC: 0.9660 - lr: 1.0000e-04\n",
      "Epoch 33/50\n",
      "45/45 [==============================] - 14s 322ms/step - loss: 1.1274 - Categorical Accuracy: 0.6044 - AUC: 0.9548 - val_loss: 0.9996 - val_Categorical Accuracy: 0.6800 - val_AUC: 0.9661 - lr: 1.0000e-04\n",
      "Epoch 34/50\n",
      "45/45 [==============================] - 14s 323ms/step - loss: 1.0928 - Categorical Accuracy: 0.6249 - AUC: 0.9561 - val_loss: 0.9817 - val_Categorical Accuracy: 0.6860 - val_AUC: 0.9673 - lr: 1.0000e-04\n",
      "Epoch 35/50\n",
      "45/45 [==============================] - 14s 307ms/step - loss: 1.0586 - Categorical Accuracy: 0.6218 - AUC: 0.9593 - val_loss: 0.9769 - val_Categorical Accuracy: 0.6800 - val_AUC: 0.9670 - lr: 1.0000e-04\n",
      "Epoch 36/50\n",
      "45/45 [==============================] - 13s 297ms/step - loss: 1.0966 - Categorical Accuracy: 0.6084 - AUC: 0.9569 - val_loss: 0.9838 - val_Categorical Accuracy: 0.6760 - val_AUC: 0.9669 - lr: 1.0000e-04\n",
      "Epoch 37/50\n",
      "45/45 [==============================] - 14s 308ms/step - loss: 1.0254 - Categorical Accuracy: 0.6431 - AUC: 0.9624 - val_loss: 0.9528 - val_Categorical Accuracy: 0.6720 - val_AUC: 0.9681 - lr: 1.0000e-04\n",
      "Epoch 38/50\n",
      "45/45 [==============================] - 14s 318ms/step - loss: 1.0314 - Categorical Accuracy: 0.6249 - AUC: 0.9620 - val_loss: 0.9469 - val_Categorical Accuracy: 0.6820 - val_AUC: 0.9682 - lr: 1.0000e-04\n",
      "Epoch 39/50\n",
      "45/45 [==============================] - 14s 306ms/step - loss: 1.0024 - Categorical Accuracy: 0.6320 - AUC: 0.9643 - val_loss: 0.9412 - val_Categorical Accuracy: 0.6720 - val_AUC: 0.9680 - lr: 1.0000e-04\n",
      "Epoch 40/50\n",
      "45/45 [==============================] - 14s 306ms/step - loss: 0.9872 - Categorical Accuracy: 0.6498 - AUC: 0.9651 - val_loss: 0.9273 - val_Categorical Accuracy: 0.6880 - val_AUC: 0.9697 - lr: 1.0000e-04\n",
      "Epoch 41/50\n",
      "45/45 [==============================] - 14s 309ms/step - loss: 0.9470 - Categorical Accuracy: 0.6720 - AUC: 0.9670 - val_loss: 0.9177 - val_Categorical Accuracy: 0.6980 - val_AUC: 0.9697 - lr: 1.0000e-04\n",
      "Epoch 42/50\n",
      "45/45 [==============================] - 14s 305ms/step - loss: 0.9542 - Categorical Accuracy: 0.6716 - AUC: 0.9670 - val_loss: 0.9132 - val_Categorical Accuracy: 0.6820 - val_AUC: 0.9698 - lr: 1.0000e-04\n",
      "Epoch 43/50\n",
      "45/45 [==============================] - 14s 308ms/step - loss: 0.9495 - Categorical Accuracy: 0.6591 - AUC: 0.9677 - val_loss: 0.9017 - val_Categorical Accuracy: 0.6960 - val_AUC: 0.9704 - lr: 1.0000e-04\n",
      "Epoch 44/50\n",
      "45/45 [==============================] - 13s 301ms/step - loss: 0.9437 - Categorical Accuracy: 0.6596 - AUC: 0.9682 - val_loss: 0.8968 - val_Categorical Accuracy: 0.6960 - val_AUC: 0.9711 - lr: 1.0000e-04\n",
      "Epoch 45/50\n",
      "45/45 [==============================] - 13s 298ms/step - loss: 0.9225 - Categorical Accuracy: 0.6778 - AUC: 0.9685 - val_loss: 0.9119 - val_Categorical Accuracy: 0.6960 - val_AUC: 0.9691 - lr: 1.0000e-04\n",
      "Epoch 46/50\n",
      "45/45 [==============================] - 14s 302ms/step - loss: 0.9048 - Categorical Accuracy: 0.6911 - AUC: 0.9701 - val_loss: 0.8771 - val_Categorical Accuracy: 0.7000 - val_AUC: 0.9714 - lr: 1.0000e-04\n",
      "Epoch 47/50\n",
      "45/45 [==============================] - 13s 299ms/step - loss: 0.9012 - Categorical Accuracy: 0.6893 - AUC: 0.9700 - val_loss: 0.8918 - val_Categorical Accuracy: 0.6980 - val_AUC: 0.9699 - lr: 1.0000e-04\n",
      "Epoch 48/50\n",
      "45/45 [==============================] - 13s 299ms/step - loss: 0.8776 - Categorical Accuracy: 0.6916 - AUC: 0.9717 - val_loss: 0.8700 - val_Categorical Accuracy: 0.7060 - val_AUC: 0.9722 - lr: 1.0000e-04\n",
      "Epoch 49/50\n",
      "45/45 [==============================] - 13s 299ms/step - loss: 0.8673 - Categorical Accuracy: 0.7067 - AUC: 0.9722 - val_loss: 0.8702 - val_Categorical Accuracy: 0.7120 - val_AUC: 0.9716 - lr: 1.0000e-04\n",
      "Epoch 50/50\n",
      "45/45 [==============================] - 13s 298ms/step - loss: 0.8248 - Categorical Accuracy: 0.7138 - AUC: 0.9752 - val_loss: 0.8740 - val_Categorical Accuracy: 0.7180 - val_AUC: 0.9716 - lr: 1.0000e-04\n"
     ]
    }
   ]
  },
  {
   "cell_type": "code",
   "metadata": {
    "id": "FBH9yzYpJq9C",
    "executionInfo": {
     "status": "ok",
     "timestamp": 1638874597327,
     "user_tz": 300,
     "elapsed": 6,
     "user": {
      "displayName": "Andrew Ning",
      "photoUrl": "https://lh3.googleusercontent.com/a-/AOh14GgyUiXynCeybWnGTpfHnOSTarAoJjvj-8rK8oxkzQ=s64",
      "userId": "04097743773373129918"
     }
    }
   },
   "source": [
    "# print(modelENRetrain.layers[-2].weights)"
   ],
   "execution_count": 123,
   "outputs": []
  },
  {
   "cell_type": "code",
   "metadata": {
    "colab": {
     "base_uri": "https://localhost:8080/"
    },
    "id": "UYC_GK_fNnKT",
    "executionInfo": {
     "status": "ok",
     "timestamp": 1638875225975,
     "user_tz": 300,
     "elapsed": 628652,
     "user": {
      "displayName": "Andrew Ning",
      "photoUrl": "https://lh3.googleusercontent.com/a-/AOh14GgyUiXynCeybWnGTpfHnOSTarAoJjvj-8rK8oxkzQ=s64",
      "userId": "04097743773373129918"
     }
    },
    "outputId": "0f4d44dd-268f-4098-8036-5e7ae4c6c2c3"
   },
   "source": [
    "newSharedLayers = shared(inputES)\n",
    "newLayersES = languagelayers(NUM_LABELS_ES,'ES')(newSharedLayers)\n",
    "\n",
    "modelESRetrain = tf.keras.Model(\n",
    "    inputs=inputES,\n",
    "    outputs=newLayersES,\n",
    "    name='ESModelRetrained'\n",
    ")\n",
    "\n",
    "modelESRetrain.compile(optimizer = tf.keras.optimizers.Adam(learning_rate=LEARNING_RATE),\n",
    "    loss=tf.keras.losses.CategoricalCrossentropy(),\n",
    "    metrics=[tf.keras.metrics.CategoricalAccuracy(name='Categorical Accuracy'),tf.keras.metrics.AUC(name='AUC')])\n",
    "\n",
    "ext = '-RETRAIN-ES'\n",
    "training_callbackRETRAINES = callbacks.TensorBoard(log_dir=LOG_DIR + RUN + ext)\n",
    "\n",
    "historyESRetrain = modelESRetrain.fit(\n",
    "    x = traindatasetES,\n",
    "    validation_data = valdatasetES,\n",
    "    epochs=EPOCHS,\n",
    "    steps_per_epoch=STEPS_PER_EPOCH,\n",
    "    callbacks=[training_callbackRETRAINES,earlystopping_callback,reduce_lr_callback],\n",
    "    verbose=1\n",
    ")"
   ],
   "execution_count": 124,
   "outputs": [
    {
     "output_type": "stream",
     "name": "stdout",
     "text": [
      "Epoch 1/50\n",
      "45/45 [==============================] - 18s 314ms/step - loss: 2.6570 - Categorical Accuracy: 0.0920 - AUC: 0.5319 - val_loss: 2.3774 - val_Categorical Accuracy: 0.1760 - val_AUC: 0.6744 - lr: 1.0000e-04\n",
      "Epoch 2/50\n",
      "45/45 [==============================] - 14s 303ms/step - loss: 2.4191 - Categorical Accuracy: 0.1133 - AUC: 0.5866 - val_loss: 2.3455 - val_Categorical Accuracy: 0.2060 - val_AUC: 0.7505 - lr: 1.0000e-04\n",
      "Epoch 3/50\n",
      "45/45 [==============================] - 13s 301ms/step - loss: 2.3669 - Categorical Accuracy: 0.1191 - AUC: 0.6208 - val_loss: 2.2938 - val_Categorical Accuracy: 0.2120 - val_AUC: 0.7977 - lr: 1.0000e-04\n",
      "Epoch 4/50\n",
      "45/45 [==============================] - 14s 306ms/step - loss: 2.2877 - Categorical Accuracy: 0.1431 - AUC: 0.6715 - val_loss: 2.2024 - val_Categorical Accuracy: 0.2340 - val_AUC: 0.8355 - lr: 1.0000e-04\n",
      "Epoch 5/50\n",
      "45/45 [==============================] - 13s 298ms/step - loss: 2.1606 - Categorical Accuracy: 0.2044 - AUC: 0.7293 - val_loss: 2.1002 - val_Categorical Accuracy: 0.2900 - val_AUC: 0.8721 - lr: 1.0000e-04\n",
      "Epoch 6/50\n",
      "45/45 [==============================] - 13s 301ms/step - loss: 2.0700 - Categorical Accuracy: 0.2187 - AUC: 0.7682 - val_loss: 1.9821 - val_Categorical Accuracy: 0.3880 - val_AUC: 0.8909 - lr: 1.0000e-04\n",
      "Epoch 7/50\n",
      "45/45 [==============================] - 13s 300ms/step - loss: 1.9911 - Categorical Accuracy: 0.2444 - AUC: 0.7904 - val_loss: 1.8798 - val_Categorical Accuracy: 0.4080 - val_AUC: 0.9080 - lr: 1.0000e-04\n",
      "Epoch 8/50\n",
      "45/45 [==============================] - 14s 303ms/step - loss: 1.8679 - Categorical Accuracy: 0.2969 - AUC: 0.8251 - val_loss: 1.7567 - val_Categorical Accuracy: 0.4520 - val_AUC: 0.9212 - lr: 1.0000e-04\n",
      "Epoch 9/50\n",
      "45/45 [==============================] - 14s 303ms/step - loss: 1.8031 - Categorical Accuracy: 0.3004 - AUC: 0.8389 - val_loss: 1.6765 - val_Categorical Accuracy: 0.4880 - val_AUC: 0.9311 - lr: 1.0000e-04\n",
      "Epoch 10/50\n",
      "45/45 [==============================] - 14s 302ms/step - loss: 1.7041 - Categorical Accuracy: 0.3364 - AUC: 0.8610 - val_loss: 1.5784 - val_Categorical Accuracy: 0.5040 - val_AUC: 0.9378 - lr: 1.0000e-04\n",
      "Epoch 11/50\n",
      "45/45 [==============================] - 14s 306ms/step - loss: 1.6049 - Categorical Accuracy: 0.3711 - AUC: 0.8807 - val_loss: 1.4723 - val_Categorical Accuracy: 0.5260 - val_AUC: 0.9440 - lr: 1.0000e-04\n",
      "Epoch 12/50\n",
      "45/45 [==============================] - 13s 299ms/step - loss: 1.5059 - Categorical Accuracy: 0.3933 - AUC: 0.8983 - val_loss: 1.3845 - val_Categorical Accuracy: 0.5500 - val_AUC: 0.9494 - lr: 1.0000e-04\n",
      "Epoch 13/50\n",
      "45/45 [==============================] - 14s 313ms/step - loss: 1.4568 - Categorical Accuracy: 0.3996 - AUC: 0.9061 - val_loss: 1.3174 - val_Categorical Accuracy: 0.5580 - val_AUC: 0.9529 - lr: 1.0000e-04\n",
      "Epoch 14/50\n",
      "45/45 [==============================] - 13s 299ms/step - loss: 1.3838 - Categorical Accuracy: 0.4449 - AUC: 0.9148 - val_loss: 1.2337 - val_Categorical Accuracy: 0.5900 - val_AUC: 0.9578 - lr: 1.0000e-04\n",
      "Epoch 15/50\n",
      "45/45 [==============================] - 14s 306ms/step - loss: 1.3449 - Categorical Accuracy: 0.4600 - AUC: 0.9189 - val_loss: 1.1884 - val_Categorical Accuracy: 0.5700 - val_AUC: 0.9595 - lr: 1.0000e-04\n",
      "Epoch 16/50\n",
      "45/45 [==============================] - 14s 307ms/step - loss: 1.2872 - Categorical Accuracy: 0.4613 - AUC: 0.9254 - val_loss: 1.1386 - val_Categorical Accuracy: 0.5780 - val_AUC: 0.9617 - lr: 1.0000e-04\n",
      "Epoch 17/50\n",
      "45/45 [==============================] - 13s 301ms/step - loss: 1.2152 - Categorical Accuracy: 0.4973 - AUC: 0.9336 - val_loss: 1.0730 - val_Categorical Accuracy: 0.5800 - val_AUC: 0.9647 - lr: 1.0000e-04\n",
      "Epoch 18/50\n",
      "45/45 [==============================] - 14s 302ms/step - loss: 1.1929 - Categorical Accuracy: 0.4880 - AUC: 0.9366 - val_loss: 1.0404 - val_Categorical Accuracy: 0.5980 - val_AUC: 0.9667 - lr: 1.0000e-04\n",
      "Epoch 19/50\n",
      "45/45 [==============================] - 14s 303ms/step - loss: 1.1075 - Categorical Accuracy: 0.5262 - AUC: 0.9457 - val_loss: 0.9881 - val_Categorical Accuracy: 0.6060 - val_AUC: 0.9688 - lr: 1.0000e-04\n",
      "Epoch 20/50\n",
      "45/45 [==============================] - 14s 307ms/step - loss: 1.1288 - Categorical Accuracy: 0.5187 - AUC: 0.9421 - val_loss: 0.9442 - val_Categorical Accuracy: 0.6220 - val_AUC: 0.9717 - lr: 1.0000e-04\n",
      "Epoch 21/50\n",
      "45/45 [==============================] - 14s 305ms/step - loss: 1.0587 - Categorical Accuracy: 0.5404 - AUC: 0.9496 - val_loss: 0.9138 - val_Categorical Accuracy: 0.6260 - val_AUC: 0.9729 - lr: 1.0000e-04\n",
      "Epoch 22/50\n",
      "45/45 [==============================] - 14s 302ms/step - loss: 0.9948 - Categorical Accuracy: 0.5604 - AUC: 0.9555 - val_loss: 0.8843 - val_Categorical Accuracy: 0.6340 - val_AUC: 0.9731 - lr: 1.0000e-04\n",
      "Epoch 23/50\n",
      "45/45 [==============================] - 13s 300ms/step - loss: 0.9794 - Categorical Accuracy: 0.5587 - AUC: 0.9569 - val_loss: 0.8565 - val_Categorical Accuracy: 0.6300 - val_AUC: 0.9743 - lr: 1.0000e-04\n",
      "Epoch 24/50\n",
      "45/45 [==============================] - 13s 298ms/step - loss: 0.9441 - Categorical Accuracy: 0.5649 - AUC: 0.9603 - val_loss: 0.8270 - val_Categorical Accuracy: 0.6580 - val_AUC: 0.9762 - lr: 1.0000e-04\n",
      "Epoch 25/50\n",
      "45/45 [==============================] - 13s 298ms/step - loss: 0.9369 - Categorical Accuracy: 0.5831 - AUC: 0.9599 - val_loss: 0.8209 - val_Categorical Accuracy: 0.6520 - val_AUC: 0.9758 - lr: 1.0000e-04\n",
      "Epoch 26/50\n",
      "45/45 [==============================] - 13s 295ms/step - loss: 0.9263 - Categorical Accuracy: 0.5782 - AUC: 0.9610 - val_loss: 0.7839 - val_Categorical Accuracy: 0.6580 - val_AUC: 0.9780 - lr: 1.0000e-04\n",
      "Epoch 27/50\n",
      "45/45 [==============================] - 14s 302ms/step - loss: 0.8903 - Categorical Accuracy: 0.5911 - AUC: 0.9628 - val_loss: 0.7783 - val_Categorical Accuracy: 0.6540 - val_AUC: 0.9774 - lr: 1.0000e-04\n",
      "Epoch 28/50\n",
      "45/45 [==============================] - 14s 303ms/step - loss: 0.8864 - Categorical Accuracy: 0.5987 - AUC: 0.9632 - val_loss: 0.7437 - val_Categorical Accuracy: 0.6780 - val_AUC: 0.9790 - lr: 1.0000e-04\n",
      "Epoch 29/50\n",
      "45/45 [==============================] - 14s 305ms/step - loss: 0.8693 - Categorical Accuracy: 0.6058 - AUC: 0.9643 - val_loss: 0.7353 - val_Categorical Accuracy: 0.6780 - val_AUC: 0.9790 - lr: 1.0000e-04\n",
      "Epoch 30/50\n",
      "45/45 [==============================] - 14s 304ms/step - loss: 0.8135 - Categorical Accuracy: 0.6373 - AUC: 0.9677 - val_loss: 0.7063 - val_Categorical Accuracy: 0.6820 - val_AUC: 0.9800 - lr: 1.0000e-04\n",
      "Epoch 31/50\n",
      "45/45 [==============================] - 15s 327ms/step - loss: 0.8249 - Categorical Accuracy: 0.6262 - AUC: 0.9674 - val_loss: 0.6922 - val_Categorical Accuracy: 0.6900 - val_AUC: 0.9806 - lr: 1.0000e-04\n",
      "Epoch 32/50\n",
      "45/45 [==============================] - 14s 307ms/step - loss: 0.8092 - Categorical Accuracy: 0.6311 - AUC: 0.9675 - val_loss: 0.6713 - val_Categorical Accuracy: 0.7060 - val_AUC: 0.9813 - lr: 1.0000e-04\n",
      "Epoch 33/50\n",
      "45/45 [==============================] - 14s 303ms/step - loss: 0.8067 - Categorical Accuracy: 0.6347 - AUC: 0.9676 - val_loss: 0.6640 - val_Categorical Accuracy: 0.7020 - val_AUC: 0.9813 - lr: 1.0000e-04\n",
      "Epoch 34/50\n",
      "45/45 [==============================] - 14s 307ms/step - loss: 0.7666 - Categorical Accuracy: 0.6387 - AUC: 0.9705 - val_loss: 0.6587 - val_Categorical Accuracy: 0.6960 - val_AUC: 0.9808 - lr: 1.0000e-04\n",
      "Epoch 35/50\n",
      "45/45 [==============================] - 14s 309ms/step - loss: 0.8055 - Categorical Accuracy: 0.6213 - AUC: 0.9671 - val_loss: 0.6601 - val_Categorical Accuracy: 0.6900 - val_AUC: 0.9806 - lr: 1.0000e-04\n",
      "Epoch 36/50\n",
      "45/45 [==============================] - 14s 303ms/step - loss: 0.8185 - Categorical Accuracy: 0.6222 - AUC: 0.9653 - val_loss: 0.6535 - val_Categorical Accuracy: 0.6940 - val_AUC: 0.9813 - lr: 1.0000e-04\n",
      "Epoch 37/50\n",
      "45/45 [==============================] - 13s 301ms/step - loss: 0.7771 - Categorical Accuracy: 0.6413 - AUC: 0.9688 - val_loss: 0.6322 - val_Categorical Accuracy: 0.6980 - val_AUC: 0.9817 - lr: 1.0000e-04\n",
      "Epoch 38/50\n",
      "45/45 [==============================] - 14s 304ms/step - loss: 0.7826 - Categorical Accuracy: 0.6427 - AUC: 0.9684 - val_loss: 0.6316 - val_Categorical Accuracy: 0.6820 - val_AUC: 0.9811 - lr: 1.0000e-04\n",
      "Epoch 39/50\n",
      "45/45 [==============================] - 13s 298ms/step - loss: 0.7816 - Categorical Accuracy: 0.6489 - AUC: 0.9675 - val_loss: 0.6279 - val_Categorical Accuracy: 0.6960 - val_AUC: 0.9807 - lr: 1.0000e-04\n",
      "Epoch 40/50\n",
      "45/45 [==============================] - 13s 300ms/step - loss: 0.8308 - Categorical Accuracy: 0.6302 - AUC: 0.9642 - val_loss: 0.6157 - val_Categorical Accuracy: 0.7000 - val_AUC: 0.9803 - lr: 1.0000e-04\n",
      "Epoch 41/50\n",
      "45/45 [==============================] - 13s 300ms/step - loss: 0.9039 - Categorical Accuracy: 0.6280 - AUC: 0.9569 - val_loss: 0.6190 - val_Categorical Accuracy: 0.6940 - val_AUC: 0.9807 - lr: 1.0000e-04\n",
      "Epoch 42/50\n",
      "45/45 [==============================] - 14s 311ms/step - loss: 0.8900 - Categorical Accuracy: 0.6356 - AUC: 0.9591 - val_loss: 0.6272 - val_Categorical Accuracy: 0.7020 - val_AUC: 0.9792 - lr: 1.0000e-04\n",
      "Epoch 43/50\n",
      "45/45 [==============================] - ETA: 0s - loss: 1.0200 - Categorical Accuracy: 0.6267 - AUC: 0.9527\n",
      "Epoch 00043: ReduceLROnPlateau reducing learning rate to 1.9999999494757503e-05.\n",
      "45/45 [==============================] - 14s 306ms/step - loss: 1.0200 - Categorical Accuracy: 0.6267 - AUC: 0.9527 - val_loss: 0.6333 - val_Categorical Accuracy: 0.6920 - val_AUC: 0.9773 - lr: 1.0000e-04\n",
      "Epoch 44/50\n",
      "45/45 [==============================] - 22s 505ms/step - loss: 0.9466 - Categorical Accuracy: 0.6271 - AUC: 0.9553 - val_loss: 0.6280 - val_Categorical Accuracy: 0.6940 - val_AUC: 0.9783 - lr: 2.0000e-05\n",
      "Epoch 45/50\n",
      "45/45 [==============================] - 17s 370ms/step - loss: 0.9832 - Categorical Accuracy: 0.6471 - AUC: 0.9541 - val_loss: 0.6342 - val_Categorical Accuracy: 0.7020 - val_AUC: 0.9756 - lr: 2.0000e-05\n"
     ]
    }
   ]
  },
  {
   "cell_type": "code",
   "metadata": {
    "id": "NbFf4HAaOCgj",
    "executionInfo": {
     "status": "ok",
     "timestamp": 1638875225976,
     "user_tz": 300,
     "elapsed": 17,
     "user": {
      "displayName": "Andrew Ning",
      "photoUrl": "https://lh3.googleusercontent.com/a-/AOh14GgyUiXynCeybWnGTpfHnOSTarAoJjvj-8rK8oxkzQ=s64",
      "userId": "04097743773373129918"
     }
    }
   },
   "source": [],
   "execution_count": 124,
   "outputs": []
  },
  {
   "cell_type": "code",
   "metadata": {
    "colab": {
     "base_uri": "https://localhost:8080/"
    },
    "id": "GA8hOPr5Mn58",
    "executionInfo": {
     "status": "ok",
     "timestamp": 1638875231202,
     "user_tz": 300,
     "elapsed": 5241,
     "user": {
      "displayName": "Andrew Ning",
      "photoUrl": "https://lh3.googleusercontent.com/a-/AOh14GgyUiXynCeybWnGTpfHnOSTarAoJjvj-8rK8oxkzQ=s64",
      "userId": "04097743773373129918"
     }
    },
    "outputId": "feb997ea-cf96-43de-b089-51a91b935ca8"
   },
   "source": [
    "modelENRetrain.evaluate(testdatasetEN)"
   ],
   "execution_count": 125,
   "outputs": [
    {
     "output_type": "stream",
     "name": "stdout",
     "text": [
      "250/250 [==============================] - 5s 15ms/step - loss: 0.9561 - Categorical Accuracy: 0.7040 - AUC: 0.9649\n"
     ]
    },
    {
     "output_type": "execute_result",
     "data": {
      "text/plain": [
       "[0.9560589790344238, 0.7039999961853027, 0.9648855924606323]"
      ]
     },
     "metadata": {},
     "execution_count": 125
    }
   ]
  },
  {
   "cell_type": "code",
   "metadata": {
    "colab": {
     "base_uri": "https://localhost:8080/"
    },
    "id": "ajdhGJRROSTS",
    "executionInfo": {
     "status": "ok",
     "timestamp": 1638875236781,
     "user_tz": 300,
     "elapsed": 5593,
     "user": {
      "displayName": "Andrew Ning",
      "photoUrl": "https://lh3.googleusercontent.com/a-/AOh14GgyUiXynCeybWnGTpfHnOSTarAoJjvj-8rK8oxkzQ=s64",
      "userId": "04097743773373129918"
     }
    },
    "outputId": "883a4b32-6c18-47d8-e1cb-243b78687dde"
   },
   "source": [
    "modelESRetrain.evaluate(testdatasetES)"
   ],
   "execution_count": 126,
   "outputs": [
    {
     "output_type": "stream",
     "name": "stdout",
     "text": [
      "250/250 [==============================] - 3s 12ms/step - loss: 0.7138 - Categorical Accuracy: 0.6880 - AUC: 0.9727\n"
     ]
    },
    {
     "output_type": "execute_result",
     "data": {
      "text/plain": [
       "[0.7137991786003113, 0.6880000233650208, 0.972685694694519]"
      ]
     },
     "metadata": {},
     "execution_count": 126
    }
   ]
  },
  {
   "cell_type": "code",
   "metadata": {
    "id": "-ENZECOqmito",
    "executionInfo": {
     "status": "ok",
     "timestamp": 1638875236782,
     "user_tz": 300,
     "elapsed": 15,
     "user": {
      "displayName": "Andrew Ning",
      "photoUrl": "https://lh3.googleusercontent.com/a-/AOh14GgyUiXynCeybWnGTpfHnOSTarAoJjvj-8rK8oxkzQ=s64",
      "userId": "04097743773373129918"
     }
    }
   },
   "source": [
    "# %reload_ext tensorboard\n",
    "# %tensorboard --logdir logs"
   ],
   "execution_count": 127,
   "outputs": []
  },
  {
   "cell_type": "code",
   "metadata": {
    "colab": {
     "base_uri": "https://localhost:8080/"
    },
    "id": "idbVWjbyrtNm",
    "executionInfo": {
     "status": "ok",
     "timestamp": 1638877048402,
     "user_tz": 300,
     "elapsed": 475,
     "user": {
      "displayName": "Andrew Ning",
      "photoUrl": "https://lh3.googleusercontent.com/a-/AOh14GgyUiXynCeybWnGTpfHnOSTarAoJjvj-8rK8oxkzQ=s64",
      "userId": "04097743773373129918"
     }
    },
    "outputId": "8679374c-a37b-45f2-f3ae-0bf2afca94a6"
   },
   "source": [
    "# !zip -r /content/logs.zip /content/logs\n",
    "#"
   ],
   "execution_count": 128,
   "outputs": [
    {
     "output_type": "stream",
     "name": "stdout",
     "text": [
      "  adding: content/logs/ (stored 0%)\n",
      "  adding: content/logs/model1-1-FULL-EN/ (stored 0%)\n",
      "  adding: content/logs/model1-1-FULL-EN/train/ (stored 0%)\n",
      "  adding: content/logs/model1-1-FULL-EN/train/events.out.tfevents.1638869485.7a28bb90e96c.1006.10.v2 (deflated 87%)\n",
      "  adding: content/logs/model1-1-FULL-EN/validation/ (stored 0%)\n",
      "  adding: content/logs/model1-1-FULL-EN/validation/events.out.tfevents.1638869533.7a28bb90e96c.1006.11.v2 (deflated 80%)\n",
      "  adding: content/logs/model1-1-RETRAIN-EN/ (stored 0%)\n",
      "  adding: content/logs/model1-1-RETRAIN-EN/train/ (stored 0%)\n",
      "  adding: content/logs/model1-1-RETRAIN-EN/train/events.out.tfevents.1638873854.7a28bb90e96c.1006.14.v2 (deflated 86%)\n",
      "  adding: content/logs/model1-1-RETRAIN-EN/validation/ (stored 0%)\n",
      "  adding: content/logs/model1-1-RETRAIN-EN/validation/events.out.tfevents.1638873872.7a28bb90e96c.1006.15.v2 (deflated 80%)\n",
      "  adding: content/logs/model1-1-RETRAIN-ES/ (stored 0%)\n",
      "  adding: content/logs/model1-1-RETRAIN-ES/train/ (stored 0%)\n",
      "  adding: content/logs/model1-1-RETRAIN-ES/train/events.out.tfevents.1638874598.7a28bb90e96c.1006.16.v2 (deflated 86%)\n",
      "  adding: content/logs/model1-1-RETRAIN-ES/validation/ (stored 0%)\n",
      "  adding: content/logs/model1-1-RETRAIN-ES/validation/events.out.tfevents.1638874612.7a28bb90e96c.1006.17.v2 (deflated 79%)\n",
      "  adding: content/logs/model1-1-FULL-ES/ (stored 0%)\n",
      "  adding: content/logs/model1-1-FULL-ES/train/ (stored 0%)\n",
      "  adding: content/logs/model1-1-FULL-ES/train/events.out.tfevents.1638871670.7a28bb90e96c.1006.12.v2 (deflated 87%)\n",
      "  adding: content/logs/model1-1-FULL-ES/validation/ (stored 0%)\n",
      "  adding: content/logs/model1-1-FULL-ES/validation/events.out.tfevents.1638871716.7a28bb90e96c.1006.13.v2 (deflated 79%)\n"
     ]
    }
   ]
  },
  {
   "cell_type": "code",
   "metadata": {
    "colab": {
     "base_uri": "https://localhost:8080/",
     "height": 17
    },
    "id": "5CRsc2gVriJf",
    "executionInfo": {
     "status": "ok",
     "timestamp": 1638877059977,
     "user_tz": 300,
     "elapsed": 189,
     "user": {
      "displayName": "Andrew Ning",
      "photoUrl": "https://lh3.googleusercontent.com/a-/AOh14GgyUiXynCeybWnGTpfHnOSTarAoJjvj-8rK8oxkzQ=s64",
      "userId": "04097743773373129918"
     }
    },
    "outputId": "1ef412a9-2652-49b0-96b6-686712310650"
   },
   "source": [
    "# from google.colab import files\n",
    "# files.download('/content/logs.zip')\n",
    "#"
   ],
   "execution_count": 129,
   "outputs": [
    {
     "output_type": "display_data",
     "data": {
      "application/javascript": [
       "\n",
       "    async function download(id, filename, size) {\n",
       "      if (!google.colab.kernel.accessAllowed) {\n",
       "        return;\n",
       "      }\n",
       "      const div = document.createElement('div');\n",
       "      const label = document.createElement('label');\n",
       "      label.textContent = `Downloading \"${filename}\": `;\n",
       "      div.appendChild(label);\n",
       "      const progress = document.createElement('progress');\n",
       "      progress.max = size;\n",
       "      div.appendChild(progress);\n",
       "      document.body.appendChild(div);\n",
       "\n",
       "      const buffers = [];\n",
       "      let downloaded = 0;\n",
       "\n",
       "      const channel = await google.colab.kernel.comms.open(id);\n",
       "      // Send a message to notify the kernel that we're ready.\n",
       "      channel.send({})\n",
       "\n",
       "      for await (const message of channel.messages) {\n",
       "        // Send a message to notify the kernel that we're ready.\n",
       "        channel.send({})\n",
       "        if (message.buffers) {\n",
       "          for (const buffer of message.buffers) {\n",
       "            buffers.push(buffer);\n",
       "            downloaded += buffer.byteLength;\n",
       "            progress.value = downloaded;\n",
       "          }\n",
       "        }\n",
       "      }\n",
       "      const blob = new Blob(buffers, {type: 'application/binary'});\n",
       "      const a = document.createElement('a');\n",
       "      a.href = window.URL.createObjectURL(blob);\n",
       "      a.download = filename;\n",
       "      div.appendChild(a);\n",
       "      a.click();\n",
       "      div.remove();\n",
       "    }\n",
       "  "
      ],
      "text/plain": [
       "<IPython.core.display.Javascript object>"
      ]
     },
     "metadata": {}
    },
    {
     "output_type": "display_data",
     "data": {
      "application/javascript": [
       "download(\"download_400154d2-663a-4615-950a-1b4c1eb60fb5\", \"logs.zip\", 84998)"
      ],
      "text/plain": [
       "<IPython.core.display.Javascript object>"
      ]
     },
     "metadata": {}
    }
   ]
  },
  {
   "cell_type": "code",
   "metadata": {
    "id": "Be1Hh6LWwfy0",
    "executionInfo": {
     "status": "ok",
     "timestamp": 1638879189087,
     "user_tz": 300,
     "elapsed": 418,
     "user": {
      "displayName": "Andrew Ning",
      "photoUrl": "https://lh3.googleusercontent.com/a-/AOh14GgyUiXynCeybWnGTpfHnOSTarAoJjvj-8rK8oxkzQ=s64",
      "userId": "04097743773373129918"
     }
    }
   },
   "source": [
    "# !mkdir savedmodels"
   ],
   "execution_count": 130,
   "outputs": []
  },
  {
   "cell_type": "code",
   "metadata": {
    "colab": {
     "base_uri": "https://localhost:8080/"
    },
    "id": "fS1_YySTz-lK",
    "executionInfo": {
     "status": "ok",
     "timestamp": 1638880276510,
     "user_tz": 300,
     "elapsed": 14378,
     "user": {
      "displayName": "Andrew Ning",
      "photoUrl": "https://lh3.googleusercontent.com/a-/AOh14GgyUiXynCeybWnGTpfHnOSTarAoJjvj-8rK8oxkzQ=s64",
      "userId": "04097743773373129918"
     }
    },
    "outputId": "86c09947-ec1e-4442-8a0e-ca2c91738ab5"
   },
   "source": [
    "shared.save('savedmodels/sharedmodel')\n",
    "modelFullEN.save('savedmodels/fullmodelEN')\n",
    "modelFullES.save('savedmodels/fullmodelES')\n",
    "modelENRetrain.save('savedmodels/modelENRetrain')\n",
    "modelESRetrain.save('savedmodels/modelESRetrain')"
   ],
   "execution_count": 131,
   "outputs": [
    {
     "output_type": "stream",
     "name": "stdout",
     "text": [
      "WARNING:tensorflow:Compiled the loaded model, but the compiled metrics have yet to be built. `model.compile_metrics` will be empty until you train or evaluate the model.\n"
     ]
    },
    {
     "output_type": "stream",
     "name": "stderr",
     "text": [
      "WARNING:absl:Function `_wrapped_model` contains input name(s) Shared_Conv2D1_input with unsupported characters which will be renamed to shared_conv2d1_input in the SavedModel.\n"
     ]
    },
    {
     "output_type": "stream",
     "name": "stdout",
     "text": [
      "INFO:tensorflow:Assets written to: savedmodels/sharedmodel/assets\n"
     ]
    },
    {
     "output_type": "stream",
     "name": "stderr",
     "text": [
      "INFO:tensorflow:Assets written to: savedmodels/sharedmodel/assets\n",
      "WARNING:absl:Function `_wrapped_model` contains input name(s) EN_Input with unsupported characters which will be renamed to en_input in the SavedModel.\n"
     ]
    },
    {
     "output_type": "stream",
     "name": "stdout",
     "text": [
      "INFO:tensorflow:Assets written to: savedmodels/fullmodelEN/assets\n"
     ]
    },
    {
     "output_type": "stream",
     "name": "stderr",
     "text": [
      "INFO:tensorflow:Assets written to: savedmodels/fullmodelEN/assets\n",
      "WARNING:absl:Function `_wrapped_model` contains input name(s) ES_Input with unsupported characters which will be renamed to es_input in the SavedModel.\n"
     ]
    },
    {
     "output_type": "stream",
     "name": "stdout",
     "text": [
      "INFO:tensorflow:Assets written to: savedmodels/fullmodelES/assets\n"
     ]
    },
    {
     "output_type": "stream",
     "name": "stderr",
     "text": [
      "INFO:tensorflow:Assets written to: savedmodels/fullmodelES/assets\n",
      "WARNING:absl:Function `_wrapped_model` contains input name(s) EN_Input with unsupported characters which will be renamed to en_input in the SavedModel.\n"
     ]
    },
    {
     "output_type": "stream",
     "name": "stdout",
     "text": [
      "INFO:tensorflow:Assets written to: savedmodels/modelENRetrain/assets\n"
     ]
    },
    {
     "output_type": "stream",
     "name": "stderr",
     "text": [
      "INFO:tensorflow:Assets written to: savedmodels/modelENRetrain/assets\n",
      "WARNING:absl:Function `_wrapped_model` contains input name(s) ES_Input with unsupported characters which will be renamed to es_input in the SavedModel.\n"
     ]
    },
    {
     "output_type": "stream",
     "name": "stdout",
     "text": [
      "INFO:tensorflow:Assets written to: savedmodels/modelESRetrain/assets\n"
     ]
    },
    {
     "output_type": "stream",
     "name": "stderr",
     "text": [
      "INFO:tensorflow:Assets written to: savedmodels/modelESRetrain/assets\n"
     ]
    }
   ]
  },
  {
   "cell_type": "code",
   "metadata": {
    "colab": {
     "base_uri": "https://localhost:8080/"
    },
    "id": "rZUwRZYH4S4s",
    "executionInfo": {
     "status": "ok",
     "timestamp": 1638880351419,
     "user_tz": 300,
     "elapsed": 1469,
     "user": {
      "displayName": "Andrew Ning",
      "photoUrl": "https://lh3.googleusercontent.com/a-/AOh14GgyUiXynCeybWnGTpfHnOSTarAoJjvj-8rK8oxkzQ=s64",
      "userId": "04097743773373129918"
     }
    },
    "outputId": "8368e053-b675-414e-9136-4a4d1756175b"
   },
   "source": [
    "# !zip -r /content/savedmodels.zip /content/savedmodels\n",
    "#"
   ],
   "execution_count": 132,
   "outputs": [
    {
     "output_type": "stream",
     "name": "stdout",
     "text": [
      "  adding: content/savedmodels/ (stored 0%)\n",
      "  adding: content/savedmodels/modelENRetrain/ (stored 0%)\n",
      "  adding: content/savedmodels/modelENRetrain/assets/ (stored 0%)\n",
      "  adding: content/savedmodels/modelENRetrain/variables/ (stored 0%)\n",
      "  adding: content/savedmodels/modelENRetrain/variables/variables.data-00000-of-00001 (deflated 8%)\n",
      "  adding: content/savedmodels/modelENRetrain/variables/variables.index (deflated 65%)\n",
      "  adding: content/savedmodels/modelENRetrain/keras_metadata.pb (deflated 94%)\n",
      "  adding: content/savedmodels/modelENRetrain/saved_model.pb (deflated 90%)\n",
      "  adding: content/savedmodels/sharedmodel/ (stored 0%)\n",
      "  adding: content/savedmodels/sharedmodel/assets/ (stored 0%)\n",
      "  adding: content/savedmodels/sharedmodel/variables/ (stored 0%)\n",
      "  adding: content/savedmodels/sharedmodel/variables/variables.data-00000-of-00001 (deflated 8%)\n",
      "  adding: content/savedmodels/sharedmodel/variables/variables.index (deflated 46%)\n",
      "  adding: content/savedmodels/sharedmodel/keras_metadata.pb (deflated 92%)\n",
      "  adding: content/savedmodels/sharedmodel/saved_model.pb (deflated 90%)\n",
      "  adding: content/savedmodels/fullmodelEN/ (stored 0%)\n",
      "  adding: content/savedmodels/fullmodelEN/assets/ (stored 0%)\n",
      "  adding: content/savedmodels/fullmodelEN/variables/ (stored 0%)\n",
      "  adding: content/savedmodels/fullmodelEN/variables/variables.data-00000-of-00001 (deflated 7%)\n",
      "  adding: content/savedmodels/fullmodelEN/variables/variables.index (deflated 68%)\n",
      "  adding: content/savedmodels/fullmodelEN/keras_metadata.pb (deflated 94%)\n",
      "  adding: content/savedmodels/fullmodelEN/saved_model.pb (deflated 90%)\n",
      "  adding: content/savedmodels/modelESRetrain/ (stored 0%)\n",
      "  adding: content/savedmodels/modelESRetrain/assets/ (stored 0%)\n",
      "  adding: content/savedmodels/modelESRetrain/variables/ (stored 0%)\n",
      "  adding: content/savedmodels/modelESRetrain/variables/variables.data-00000-of-00001 (deflated 8%)\n",
      "  adding: content/savedmodels/modelESRetrain/variables/variables.index (deflated 65%)\n",
      "  adding: content/savedmodels/modelESRetrain/keras_metadata.pb (deflated 94%)\n",
      "  adding: content/savedmodels/modelESRetrain/saved_model.pb (deflated 90%)\n",
      "  adding: content/savedmodels/fullmodelES/ (stored 0%)\n",
      "  adding: content/savedmodels/fullmodelES/assets/ (stored 0%)\n",
      "  adding: content/savedmodels/fullmodelES/variables/ (stored 0%)\n",
      "  adding: content/savedmodels/fullmodelES/variables/variables.data-00000-of-00001 (deflated 8%)\n",
      "  adding: content/savedmodels/fullmodelES/variables/variables.index (deflated 68%)\n",
      "  adding: content/savedmodels/fullmodelES/keras_metadata.pb (deflated 94%)\n",
      "  adding: content/savedmodels/fullmodelES/saved_model.pb (deflated 90%)\n"
     ]
    }
   ]
  },
  {
   "cell_type": "code",
   "metadata": {
    "id": "WCukB6Xy4czb",
    "executionInfo": {
     "status": "ok",
     "timestamp": 1638880381577,
     "user_tz": 300,
     "elapsed": 187,
     "user": {
      "displayName": "Andrew Ning",
      "photoUrl": "https://lh3.googleusercontent.com/a-/AOh14GgyUiXynCeybWnGTpfHnOSTarAoJjvj-8rK8oxkzQ=s64",
      "userId": "04097743773373129918"
     }
    },
    "outputId": "fdd9f661-a9ef-4419-8fa0-6c6b810e8eb1",
    "colab": {
     "base_uri": "https://localhost:8080/",
     "height": 34
    }
   },
   "source": [
    "# from google.colab import files\n",
    "# files.download('/content/savedmodels.zip')"
   ],
   "execution_count": 133,
   "outputs": [
    {
     "output_type": "display_data",
     "data": {
      "application/javascript": [
       "\n",
       "    async function download(id, filename, size) {\n",
       "      if (!google.colab.kernel.accessAllowed) {\n",
       "        return;\n",
       "      }\n",
       "      const div = document.createElement('div');\n",
       "      const label = document.createElement('label');\n",
       "      label.textContent = `Downloading \"${filename}\": `;\n",
       "      div.appendChild(label);\n",
       "      const progress = document.createElement('progress');\n",
       "      progress.max = size;\n",
       "      div.appendChild(progress);\n",
       "      document.body.appendChild(div);\n",
       "\n",
       "      const buffers = [];\n",
       "      let downloaded = 0;\n",
       "\n",
       "      const channel = await google.colab.kernel.comms.open(id);\n",
       "      // Send a message to notify the kernel that we're ready.\n",
       "      channel.send({})\n",
       "\n",
       "      for await (const message of channel.messages) {\n",
       "        // Send a message to notify the kernel that we're ready.\n",
       "        channel.send({})\n",
       "        if (message.buffers) {\n",
       "          for (const buffer of message.buffers) {\n",
       "            buffers.push(buffer);\n",
       "            downloaded += buffer.byteLength;\n",
       "            progress.value = downloaded;\n",
       "          }\n",
       "        }\n",
       "      }\n",
       "      const blob = new Blob(buffers, {type: 'application/binary'});\n",
       "      const a = document.createElement('a');\n",
       "      a.href = window.URL.createObjectURL(blob);\n",
       "      a.download = filename;\n",
       "      div.appendChild(a);\n",
       "      a.click();\n",
       "      div.remove();\n",
       "    }\n",
       "  "
      ],
      "text/plain": [
       "<IPython.core.display.Javascript object>"
      ]
     },
     "metadata": {}
    },
    {
     "output_type": "display_data",
     "data": {
      "application/javascript": [
       "download(\"download_35de47fc-ff4a-45e8-ae5a-840e443442bd\", \"savedmodels.zip\", 19066552)"
      ],
      "text/plain": [
       "<IPython.core.display.Javascript object>"
      ]
     },
     "metadata": {}
    }
   ]
  }
 ]
}