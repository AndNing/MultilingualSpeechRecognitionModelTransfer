{
 "nbformat": 4,
 "nbformat_minor": 0,
 "metadata": {
  "kernelspec": {
   "display_name": "Python 3",
   "language": "python",
   "name": "python3"
  },
  "language_info": {
   "codemirror_mode": {
    "name": "ipython",
    "version": 2
   },
   "file_extension": ".py",
   "mimetype": "text/x-python",
   "name": "python",
   "nbconvert_exporter": "python",
   "pygments_lexer": "ipython2",
   "version": "2.7.6"
  },
  "colab": {
   "name": "model4.ipynb",
   "provenance": [],
   "collapsed_sections": [],
   "machine_shape": "hm"
  },
  "accelerator": "GPU"
 },
 "cells": [
  {
   "cell_type": "code",
   "metadata": {
    "id": "FBGMX2iE87o7",
    "executionInfo": {
     "status": "ok",
     "timestamp": 1638885388715,
     "user_tz": 300,
     "elapsed": 292,
     "user": {
      "displayName": "Andrew Ning",
      "photoUrl": "https://lh3.googleusercontent.com/a-/AOh14GgyUiXynCeybWnGTpfHnOSTarAoJjvj-8rK8oxkzQ=s64",
      "userId": "04097743773373129918"
     }
    }
   },
   "source": [
    "# from google.colab import drive\n",
    "# drive.mount('/content/drive', force_remount=True)"
   ],
   "execution_count": 67,
   "outputs": []
  },
  {
   "cell_type": "code",
   "metadata": {
    "id": "QjBzZQLO9A6b",
    "executionInfo": {
     "status": "ok",
     "timestamp": 1638885389389,
     "user_tz": 300,
     "elapsed": 345,
     "user": {
      "displayName": "Andrew Ning",
      "photoUrl": "https://lh3.googleusercontent.com/a-/AOh14GgyUiXynCeybWnGTpfHnOSTarAoJjvj-8rK8oxkzQ=s64",
      "userId": "04097743773373129918"
     }
    }
   },
   "source": [
    "# !cp '/content/drive/MyDrive/spectrograms.zip' ."
   ],
   "execution_count": 68,
   "outputs": []
  },
  {
   "cell_type": "code",
   "metadata": {
    "id": "1Gm_dvHm-c-t",
    "executionInfo": {
     "status": "ok",
     "timestamp": 1638885389390,
     "user_tz": 300,
     "elapsed": 9,
     "user": {
      "displayName": "Andrew Ning",
      "photoUrl": "https://lh3.googleusercontent.com/a-/AOh14GgyUiXynCeybWnGTpfHnOSTarAoJjvj-8rK8oxkzQ=s64",
      "userId": "04097743773373129918"
     }
    }
   },
   "source": [
    "# !unzip -q spectrograms.zip"
   ],
   "execution_count": 69,
   "outputs": []
  },
  {
   "cell_type": "code",
   "metadata": {
    "id": "uRg8Jcd4d0uU",
    "executionInfo": {
     "status": "ok",
     "timestamp": 1638885389390,
     "user_tz": 300,
     "elapsed": 9,
     "user": {
      "displayName": "Andrew Ning",
      "photoUrl": "https://lh3.googleusercontent.com/a-/AOh14GgyUiXynCeybWnGTpfHnOSTarAoJjvj-8rK8oxkzQ=s64",
      "userId": "04097743773373129918"
     }
    }
   },
   "source": [
    "# !pip list"
   ],
   "execution_count": 70,
   "outputs": []
  },
  {
   "cell_type": "code",
   "metadata": {
    "id": "tJaFtYtmK2QN",
    "executionInfo": {
     "status": "ok",
     "timestamp": 1638885389391,
     "user_tz": 300,
     "elapsed": 9,
     "user": {
      "displayName": "Andrew Ning",
      "photoUrl": "https://lh3.googleusercontent.com/a-/AOh14GgyUiXynCeybWnGTpfHnOSTarAoJjvj-8rK8oxkzQ=s64",
      "userId": "04097743773373129918"
     }
    }
   },
   "source": [
    "# !rm -r /content/logs"
   ],
   "execution_count": 71,
   "outputs": []
  },
  {
   "cell_type": "code",
   "metadata": {
    "pycharm": {
     "name": "#%%\n"
    },
    "id": "y6UkqZY085Tn",
    "executionInfo": {
     "status": "ok",
     "timestamp": 1638885389391,
     "user_tz": 300,
     "elapsed": 8,
     "user": {
      "displayName": "Andrew Ning",
      "photoUrl": "https://lh3.googleusercontent.com/a-/AOh14GgyUiXynCeybWnGTpfHnOSTarAoJjvj-8rK8oxkzQ=s64",
      "userId": "04097743773373129918"
     }
    }
   },
   "source": [
    "import keras.callbacks\n",
    "import tensorflow as tf\n",
    "import numpy as np\n",
    "from sklearn.preprocessing import StandardScaler\n",
    "import matplotlib.pyplot as plt\n",
    "from tensorflow.keras.utils import Sequence\n",
    "import math\n",
    "import pandas as pd\n",
    "import random\n",
    "from tensorflow.keras import models, layers, callbacks, activations\n",
    "\n",
    "import librosa\n",
    "import librosa.display\n",
    "\n",
    "import warnings\n",
    "\n",
    "import pickle\n",
    "\n",
    "AUTOTUNE = tf.data.AUTOTUNE\n",
    "\n",
    "# tf.config.run_functions_eagerly(True)"
   ],
   "execution_count": 72,
   "outputs": []
  },
  {
   "cell_type": "code",
   "metadata": {
    "collapsed": true,
    "id": "SmkFFn7Q85Tr",
    "executionInfo": {
     "status": "ok",
     "timestamp": 1638885389392,
     "user_tz": 300,
     "elapsed": 9,
     "user": {
      "displayName": "Andrew Ning",
      "photoUrl": "https://lh3.googleusercontent.com/a-/AOh14GgyUiXynCeybWnGTpfHnOSTarAoJjvj-8rK8oxkzQ=s64",
      "userId": "04097743773373129918"
     }
    }
   },
   "source": [
    "SAMPLE_RATE = 24000\n",
    "FREQ_SIZE = 188\n",
    "SECONDS = 4\n",
    "\n",
    "N_MFCC = 100\n",
    "\n",
    "BATCH_SIZE_TRAIN = 25\n",
    "BATCH_SIZE_TEST = 1\n",
    "BATCH_SIZE_VAL = 50\n",
    "EPOCHS = 75\n",
    "\n",
    "NUM_TRAIN = 1125\n",
    "NUM_VAL = 500\n",
    "NUM_TEST = 250\n",
    "\n",
    "STEPS_PER_EPOCH = NUM_TRAIN // BATCH_SIZE_TRAIN\n",
    "\n",
    "# LABELS_FR = ['zéro','un','deux','trois','quatre','cinq','six','sept','huit','neuf','dix','Hey','oui','non','Firefox']\n",
    "\n",
    "# NUM_LABELS_FR = len(LABELS_FR)\n",
    "NUM_LANGUAGES = 1\n",
    "LANGUAGES = ['EN','ES','FR','DE']\n",
    "\n",
    "LOG_DIR = \"/content/logs/model\" + str(NUM_LANGUAGES) + \"-\"\n",
    "\n",
    "SEED = 0\n",
    "tf.random.set_seed(SEED)\n",
    "np.random.seed(SEED)\n",
    "\n",
    "LEARNING_RATE = 0.0001"
   ],
   "execution_count": 73,
   "outputs": []
  },
  {
   "cell_type": "code",
   "metadata": {
    "id": "3i2so4138Y8K",
    "executionInfo": {
     "status": "ok",
     "timestamp": 1638885389392,
     "user_tz": 300,
     "elapsed": 8,
     "user": {
      "displayName": "Andrew Ning",
      "photoUrl": "https://lh3.googleusercontent.com/a-/AOh14GgyUiXynCeybWnGTpfHnOSTarAoJjvj-8rK8oxkzQ=s64",
      "userId": "04097743773373129918"
     }
    }
   },
   "source": [
    "BASE_DIR_EN = '/content/spectrograms/en/clips/'\n",
    "TRAIN_PATH_EN = '/content/spectrograms/en/train.tsv'\n",
    "TEST_PATH_EN = '/content/spectrograms/en/test.tsv'\n",
    "VAL_PATH_EN = '/content/spectrograms/en/val.tsv'\n",
    "\n",
    "NUM_TRAIN_EN = NUM_TRAIN\n",
    "NUM_VAL_EN = NUM_VAL\n",
    "NUM_TEST_EN = NUM_TEST\n",
    "\n",
    "LABELS_EN = ['zero','one','two','three','four','five','six','seven','eight','nine','ten','Hey','yes','no','Firefox']\n",
    "NUM_LABELS_EN = len(LABELS_EN)"
   ],
   "execution_count": 74,
   "outputs": []
  },
  {
   "cell_type": "code",
   "metadata": {
    "id": "Ff44tQaq90MK",
    "executionInfo": {
     "status": "ok",
     "timestamp": 1638885389393,
     "user_tz": 300,
     "elapsed": 9,
     "user": {
      "displayName": "Andrew Ning",
      "photoUrl": "https://lh3.googleusercontent.com/a-/AOh14GgyUiXynCeybWnGTpfHnOSTarAoJjvj-8rK8oxkzQ=s64",
      "userId": "04097743773373129918"
     }
    }
   },
   "source": [
    "BASE_DIR_ES = '/content/spectrograms/es/clips/'\n",
    "TRAIN_PATH_ES = '/content/spectrograms/es/train.tsv'\n",
    "TEST_PATH_ES = '/content/spectrograms/es/test.tsv'\n",
    "VAL_PATH_ES = '/content/spectrograms/es/val.tsv'\n",
    "\n",
    "NUM_TRAIN_ES = NUM_TRAIN\n",
    "NUM_VAL_ES = NUM_VAL\n",
    "NUM_TEST_ES = NUM_TEST\n",
    "\n",
    "LABELS_ES = ['cero','cinco','cuatro','dos','Firefox','Hey','no','neuve','ocho','seis','siete','tres','uno','sí']\n",
    "NUM_LABELS_ES = len(LABELS_ES)"
   ],
   "execution_count": 75,
   "outputs": []
  },
  {
   "cell_type": "code",
   "metadata": {
    "id": "i2habfC7v2d1",
    "executionInfo": {
     "status": "ok",
     "timestamp": 1638885389393,
     "user_tz": 300,
     "elapsed": 9,
     "user": {
      "displayName": "Andrew Ning",
      "photoUrl": "https://lh3.googleusercontent.com/a-/AOh14GgyUiXynCeybWnGTpfHnOSTarAoJjvj-8rK8oxkzQ=s64",
      "userId": "04097743773373129918"
     }
    }
   },
   "source": [
    "BASE_DIR_FR = '/content/spectrograms/fr/clips/'\n",
    "TRAIN_PATH_FR = '/content/spectrograms/fr/train.tsv'\n",
    "TEST_PATH_FR = '/content/spectrograms/fr/test.tsv'\n",
    "VAL_PATH_FR = '/content/spectrograms/fr/val.tsv'\n",
    "\n",
    "NUM_TRAIN_FR = NUM_TRAIN\n",
    "NUM_VAL_FR = NUM_VAL\n",
    "NUM_TEST_FR = NUM_TEST\n",
    "\n",
    "LABELS_FR = ['zéro','un','deux','trois','quatre','cinq','six','sept','huit','neuf','dix','Hey','oui','non','Firefox']\n",
    "NUM_LABELS_FR = len(LABELS_FR)"
   ],
   "execution_count": 76,
   "outputs": []
  },
  {
   "cell_type": "code",
   "metadata": {
    "id": "3J-nqAq-Ha9g",
    "executionInfo": {
     "status": "ok",
     "timestamp": 1638885389393,
     "user_tz": 300,
     "elapsed": 9,
     "user": {
      "displayName": "Andrew Ning",
      "photoUrl": "https://lh3.googleusercontent.com/a-/AOh14GgyUiXynCeybWnGTpfHnOSTarAoJjvj-8rK8oxkzQ=s64",
      "userId": "04097743773373129918"
     }
    }
   },
   "source": [
    "BASE_DIR_DE = '/content/spectrograms/de/clips/'\n",
    "TRAIN_PATH_DE = '/content/spectrograms/de/train.tsv'\n",
    "TEST_PATH_DE = '/content/spectrograms/de/test.tsv'\n",
    "VAL_PATH_DE = '/content/spectrograms/de/val.tsv'\n",
    "\n",
    "NUM_TRAIN_DE = NUM_TRAIN\n",
    "NUM_VAL_DE = NUM_VAL\n",
    "NUM_TEST_DE = NUM_TEST\n",
    "\n",
    "LABELS_DE = ['zwei','vier','sieben','sechs','neun','nein','nan','ja','fünf','eins','drei','acht','Hey','Hei','Firefox']\n",
    "NUM_LABELS_DE = len(LABELS_DE)"
   ],
   "execution_count": 77,
   "outputs": []
  },
  {
   "cell_type": "code",
   "metadata": {
    "pycharm": {
     "name": "#%%\n"
    },
    "id": "UAgyKnOC85Ts",
    "executionInfo": {
     "status": "ok",
     "timestamp": 1638885389394,
     "user_tz": 300,
     "elapsed": 9,
     "user": {
      "displayName": "Andrew Ning",
      "photoUrl": "https://lh3.googleusercontent.com/a-/AOh14GgyUiXynCeybWnGTpfHnOSTarAoJjvj-8rK8oxkzQ=s64",
      "userId": "04097743773373129918"
     }
    }
   },
   "source": [
    "def padaudio(waveform):\n",
    "    if (len(waveform) >= SAMPLE_RATE * SECONDS):\n",
    "        return waveform\n",
    "    else:\n",
    "        return np.pad(waveform,(0,SAMPLE_RATE * SECONDS - len(waveform)),mode='constant', constant_values=(0,0))\n",
    "\n",
    "# def processdata(file):\n",
    "#     waveform,sample_rate = librosa.load(file, SAMPLE_RATE)\n",
    "#     waveform = padaudio(waveform)\n",
    "#     mfccs = librosa.feature.mfcc(waveform,sr=sample_rate,n_mfcc=N_MFCC)\n",
    "#     mfccs = np.moveaxis(mfccs,1,0)\n",
    "#     scaler = StandardScaler()\n",
    "#     mfccs_scaled = scaler.fit_transform(mfccs)\n",
    "#     return mfccs_scaled.reshape(mfccs_scaled.shape[0], mfccs_scaled.shape[1],1)\n",
    "\n",
    "def processdata(file):\n",
    "  filename = file.split(\".\")[0] + '.pkl'\n",
    "  with open(filename,'rb') as f:\n",
    "    spectrogram = pickle.load(f)\n",
    "\n",
    "  return spectrogram"
   ],
   "execution_count": 78,
   "outputs": []
  },
  {
   "cell_type": "code",
   "metadata": {
    "pycharm": {
     "name": "#%%\n"
    },
    "id": "Wd1vyGP585Tt",
    "executionInfo": {
     "status": "ok",
     "timestamp": 1638885389779,
     "user_tz": 300,
     "elapsed": 27,
     "user": {
      "displayName": "Andrew Ning",
      "photoUrl": "https://lh3.googleusercontent.com/a-/AOh14GgyUiXynCeybWnGTpfHnOSTarAoJjvj-8rK8oxkzQ=s64",
      "userId": "04097743773373129918"
     }
    }
   },
   "source": [
    "def getlabel(onehot,labels):\n",
    "    index = np.argmax(onehot)\n",
    "    label = labels[index]\n",
    "    return label\n",
    "\n",
    "def getonehot(label,labels):\n",
    "    onehot = np.array([1 if x == label else 0 for x in labels])\n",
    "    return onehot"
   ],
   "execution_count": 79,
   "outputs": []
  },
  {
   "cell_type": "code",
   "metadata": {
    "pycharm": {
     "name": "#%%\n"
    },
    "id": "CvKOaLpA85Tt",
    "executionInfo": {
     "status": "ok",
     "timestamp": 1638885389780,
     "user_tz": 300,
     "elapsed": 27,
     "user": {
      "displayName": "Andrew Ning",
      "photoUrl": "https://lh3.googleusercontent.com/a-/AOh14GgyUiXynCeybWnGTpfHnOSTarAoJjvj-8rK8oxkzQ=s64",
      "userId": "04097743773373129918"
     }
    }
   },
   "source": [
    "def getdata(df,base_dir):\n",
    "    df['fullpath'] = base_dir + df['path']\n",
    "    inputs = df['fullpath'].tolist()\n",
    "    labels = df['sentence'].tolist()\n",
    "    x = np.array(inputs)\n",
    "    y = np.array(labels)\n",
    "    return x,y"
   ],
   "execution_count": 80,
   "outputs": []
  },
  {
   "cell_type": "code",
   "metadata": {
    "pycharm": {
     "name": "#%%\n"
    },
    "id": "vdTuxSsg85Tu",
    "colab": {
     "base_uri": "https://localhost:8080/"
    },
    "executionInfo": {
     "status": "ok",
     "timestamp": 1638885389780,
     "user_tz": 300,
     "elapsed": 27,
     "user": {
      "displayName": "Andrew Ning",
      "photoUrl": "https://lh3.googleusercontent.com/a-/AOh14GgyUiXynCeybWnGTpfHnOSTarAoJjvj-8rK8oxkzQ=s64",
      "userId": "04097743773373129918"
     }
    },
    "outputId": "85f5f036-16c3-4191-d358-9e0a4a0f4ea4"
   },
   "source": [
    "dftrainEN = pd.read_csv(TRAIN_PATH_EN, sep='\\t', header=0)\n",
    "dftrainEN.sort_values(by='length',ascending=False,inplace=True)\n",
    "trainxEN,trainyEN, = getdata(dftrainEN.head(NUM_TRAIN_EN), BASE_DIR_EN)\n",
    "\n",
    "dfvalEN = pd.read_csv(VAL_PATH_EN, sep='\\t', header=0)\n",
    "dfvalEN.sort_values(by='length',ascending=False,inplace=True)\n",
    "valxEN,valyEN, = getdata(dfvalEN.head(NUM_VAL_EN), BASE_DIR_EN)\n",
    "\n",
    "dftestEN = pd.read_csv(TEST_PATH_EN, sep='\\t', header=0)\n",
    "dftestEN.sort_values(by='length',ascending=False,inplace=True)\n",
    "testxEN,testyEN, = getdata(dftestEN.head(NUM_TEST_EN), BASE_DIR_EN)"
   ],
   "execution_count": 81,
   "outputs": [
    {
     "output_type": "stream",
     "name": "stderr",
     "text": [
      "/usr/local/lib/python3.7/dist-packages/ipykernel_launcher.py:2: SettingWithCopyWarning: \n",
      "A value is trying to be set on a copy of a slice from a DataFrame.\n",
      "Try using .loc[row_indexer,col_indexer] = value instead\n",
      "\n",
      "See the caveats in the documentation: https://pandas.pydata.org/pandas-docs/stable/user_guide/indexing.html#returning-a-view-versus-a-copy\n",
      "  \n"
     ]
    }
   ]
  },
  {
   "cell_type": "code",
   "metadata": {
    "colab": {
     "base_uri": "https://localhost:8080/"
    },
    "id": "PegcKx9pA_Ps",
    "executionInfo": {
     "status": "ok",
     "timestamp": 1638885389781,
     "user_tz": 300,
     "elapsed": 23,
     "user": {
      "displayName": "Andrew Ning",
      "photoUrl": "https://lh3.googleusercontent.com/a-/AOh14GgyUiXynCeybWnGTpfHnOSTarAoJjvj-8rK8oxkzQ=s64",
      "userId": "04097743773373129918"
     }
    },
    "outputId": "668dc440-bb92-40f0-b817-8b3506f8dc22"
   },
   "source": [
    "dftrainES = pd.read_csv(TRAIN_PATH_ES, sep='\\t', header=0)\n",
    "dftrainES.sort_values(by='length',ascending=False,inplace=True)\n",
    "trainxES,trainyES, = getdata(dftrainES.head(NUM_TRAIN_ES), BASE_DIR_ES)\n",
    "\n",
    "dfvalES = pd.read_csv(VAL_PATH_ES, sep='\\t', header=0)\n",
    "dfvalES.sort_values(by='length',ascending=False,inplace=True)\n",
    "valxES,valyES, = getdata(dfvalES.head(NUM_VAL_ES), BASE_DIR_ES)\n",
    "\n",
    "dftestES = pd.read_csv(TEST_PATH_ES, sep='\\t', header=0)\n",
    "dftestES.sort_values(by='length',ascending=False,inplace=True)\n",
    "testxES,testyES, = getdata(dftestES.head(NUM_TEST_ES), BASE_DIR_ES)"
   ],
   "execution_count": 82,
   "outputs": [
    {
     "output_type": "stream",
     "name": "stderr",
     "text": [
      "/usr/local/lib/python3.7/dist-packages/ipykernel_launcher.py:2: SettingWithCopyWarning: \n",
      "A value is trying to be set on a copy of a slice from a DataFrame.\n",
      "Try using .loc[row_indexer,col_indexer] = value instead\n",
      "\n",
      "See the caveats in the documentation: https://pandas.pydata.org/pandas-docs/stable/user_guide/indexing.html#returning-a-view-versus-a-copy\n",
      "  \n"
     ]
    }
   ]
  },
  {
   "cell_type": "code",
   "metadata": {
    "colab": {
     "base_uri": "https://localhost:8080/"
    },
    "id": "Admk-a7W9hUr",
    "executionInfo": {
     "status": "ok",
     "timestamp": 1638885389781,
     "user_tz": 300,
     "elapsed": 19,
     "user": {
      "displayName": "Andrew Ning",
      "photoUrl": "https://lh3.googleusercontent.com/a-/AOh14GgyUiXynCeybWnGTpfHnOSTarAoJjvj-8rK8oxkzQ=s64",
      "userId": "04097743773373129918"
     }
    },
    "outputId": "21e99655-d29c-4882-f711-6eeabdd8026e"
   },
   "source": [
    "dftrainFR = pd.read_csv(TRAIN_PATH_FR, sep='\\t', header=0)\n",
    "dftrainFR.sort_values(by='length',ascending=False,inplace=True)\n",
    "trainxFR,trainyFR, = getdata(dftrainFR.head(NUM_TRAIN_FR), BASE_DIR_FR)\n",
    "\n",
    "dfvalFR = pd.read_csv(VAL_PATH_FR, sep='\\t', header=0)\n",
    "dfvalFR.sort_values(by='length',ascending=False,inplace=True)\n",
    "valxFR,valyFR, = getdata(dfvalFR.head(NUM_VAL_FR), BASE_DIR_FR)\n",
    "\n",
    "dftestFR = pd.read_csv(TEST_PATH_FR, sep='\\t', header=0)\n",
    "dftestFR.sort_values(by='length',ascending=False,inplace=True)\n",
    "testxFR,testyFR, = getdata(dftestFR.head(NUM_TEST_FR), BASE_DIR_FR)"
   ],
   "execution_count": 83,
   "outputs": [
    {
     "output_type": "stream",
     "name": "stderr",
     "text": [
      "/usr/local/lib/python3.7/dist-packages/ipykernel_launcher.py:2: SettingWithCopyWarning: \n",
      "A value is trying to be set on a copy of a slice from a DataFrame.\n",
      "Try using .loc[row_indexer,col_indexer] = value instead\n",
      "\n",
      "See the caveats in the documentation: https://pandas.pydata.org/pandas-docs/stable/user_guide/indexing.html#returning-a-view-versus-a-copy\n",
      "  \n"
     ]
    }
   ]
  },
  {
   "cell_type": "code",
   "metadata": {
    "colab": {
     "base_uri": "https://localhost:8080/"
    },
    "id": "tMWCMC-SHo0m",
    "executionInfo": {
     "status": "ok",
     "timestamp": 1638885389782,
     "user_tz": 300,
     "elapsed": 15,
     "user": {
      "displayName": "Andrew Ning",
      "photoUrl": "https://lh3.googleusercontent.com/a-/AOh14GgyUiXynCeybWnGTpfHnOSTarAoJjvj-8rK8oxkzQ=s64",
      "userId": "04097743773373129918"
     }
    },
    "outputId": "5ba12ef9-7ab2-4912-f96b-c31a083a3cce"
   },
   "source": [
    "dftrainDE = pd.read_csv(TRAIN_PATH_DE, sep='\\t', header=0)\n",
    "dftrainDE.sort_values(by='length',ascending=False,inplace=True)\n",
    "trainxDE,trainyDE, = getdata(dftrainDE.head(NUM_TRAIN_DE), BASE_DIR_DE)\n",
    "\n",
    "dfvalDE = pd.read_csv(VAL_PATH_DE, sep='\\t', header=0)\n",
    "dfvalDE.sort_values(by='length',ascending=False,inplace=True)\n",
    "valxDE,valyDE, = getdata(dfvalDE.head(NUM_VAL_DE), BASE_DIR_DE)\n",
    "\n",
    "dftestDE = pd.read_csv(TEST_PATH_DE, sep='\\t', header=0)\n",
    "dftestDE.sort_values(by='length',ascending=False,inplace=True)\n",
    "testxDE,testyDE, = getdata(dftestDE.head(NUM_TEST_DE), BASE_DIR_DE)"
   ],
   "execution_count": 84,
   "outputs": [
    {
     "output_type": "stream",
     "name": "stderr",
     "text": [
      "/usr/local/lib/python3.7/dist-packages/ipykernel_launcher.py:2: SettingWithCopyWarning: \n",
      "A value is trying to be set on a copy of a slice from a DataFrame.\n",
      "Try using .loc[row_indexer,col_indexer] = value instead\n",
      "\n",
      "See the caveats in the documentation: https://pandas.pydata.org/pandas-docs/stable/user_guide/indexing.html#returning-a-view-versus-a-copy\n",
      "  \n"
     ]
    }
   ]
  },
  {
   "cell_type": "code",
   "metadata": {
    "pycharm": {
     "name": "#%%\n"
    },
    "id": "IXRZtWYf85Tv",
    "executionInfo": {
     "status": "ok",
     "timestamp": 1638885389782,
     "user_tz": 300,
     "elapsed": 11,
     "user": {
      "displayName": "Andrew Ning",
      "photoUrl": "https://lh3.googleusercontent.com/a-/AOh14GgyUiXynCeybWnGTpfHnOSTarAoJjvj-8rK8oxkzQ=s64",
      "userId": "04097743773373129918"
     }
    }
   },
   "source": [
    "def maketraingenerator(trainxs, trainys):\n",
    "    def traingenerator():\n",
    "        for i in range(len(trainxEN)):\n",
    "            xs = []\n",
    "            ys = []\n",
    "\n",
    "            for trainx,trainy in zip(trainxs,trainys):\n",
    "                with warnings.catch_warnings():\n",
    "                    warnings.simplefilter(\"ignore\")\n",
    "                    xs.append(processdata(trainx[i]))\n",
    "                ys.append(getonehot(trainy[0][i],trainy[1]))\n",
    "\n",
    "            xst = tuple(xs)\n",
    "            yst = tuple(ys)\n",
    "            yield xst,yst\n",
    "    return traingenerator\n",
    "\n",
    "\n",
    "xtypes = tuple([tf.float32]*NUM_LANGUAGES)\n",
    "ytypes = tuple([tf.int32]*NUM_LANGUAGES)\n",
    "traingentypes = (xtypes,ytypes)\n",
    "\n",
    "xshapes = tuple([[FREQ_SIZE,N_MFCC,1] for i in range(NUM_LANGUAGES)])\n",
    "yshapes = tuple([[15]])\n",
    "traingenshapes = (xshapes,yshapes)"
   ],
   "execution_count": 85,
   "outputs": []
  },
  {
   "cell_type": "code",
   "metadata": {
    "id": "40szilg8_TG6",
    "executionInfo": {
     "status": "ok",
     "timestamp": 1638885389783,
     "user_tz": 300,
     "elapsed": 12,
     "user": {
      "displayName": "Andrew Ning",
      "photoUrl": "https://lh3.googleusercontent.com/a-/AOh14GgyUiXynCeybWnGTpfHnOSTarAoJjvj-8rK8oxkzQ=s64",
      "userId": "04097743773373129918"
     }
    }
   },
   "source": [
    "def makevalgenerator(trainxs, trainys):\n",
    "    def traingenerator():\n",
    "        for i in range(len(valxEN)):\n",
    "            xs = []\n",
    "            ys = []\n",
    "\n",
    "            for trainx,trainy in zip(trainxs,trainys):\n",
    "                with warnings.catch_warnings():\n",
    "                    warnings.simplefilter(\"ignore\")\n",
    "                    xs.append(processdata(trainx[i]))\n",
    "                ys.append(getonehot(trainy[0][i],trainy[1]))\n",
    "\n",
    "            xst = tuple(xs)\n",
    "            yst = tuple(ys)\n",
    "            yield xst,yst\n",
    "    return traingenerator"
   ],
   "execution_count": 86,
   "outputs": []
  },
  {
   "cell_type": "code",
   "metadata": {
    "pycharm": {
     "name": "#%%\n"
    },
    "id": "gb0sxUFY85Tw",
    "executionInfo": {
     "status": "ok",
     "timestamp": 1638885389783,
     "user_tz": 300,
     "elapsed": 11,
     "user": {
      "displayName": "Andrew Ning",
      "photoUrl": "https://lh3.googleusercontent.com/a-/AOh14GgyUiXynCeybWnGTpfHnOSTarAoJjvj-8rK8oxkzQ=s64",
      "userId": "04097743773373129918"
     }
    }
   },
   "source": [
    "trainxsEN = [trainxEN]\n",
    "trainysEN = [[trainyEN,LABELS_EN]]\n",
    "\n",
    "trainxsES = [trainxES]\n",
    "trainysES = [[trainyES,LABELS_ES]]\n",
    "\n",
    "trainxsFR = [trainxFR]\n",
    "trainysFR = [[trainyFR,LABELS_FR]]\n",
    "\n",
    "trainxsDE = [trainxDE]\n",
    "trainysDE = [[trainyDE,LABELS_DE]]\n",
    "\n",
    "valxsEN = [valxEN]\n",
    "valysEN = [[valyEN,LABELS_EN]]\n",
    "\n",
    "valxsES = [valxES]\n",
    "valysES = [[valyES,LABELS_ES]]\n",
    "\n",
    "valxsFR = [valxFR]\n",
    "valysFR = [[valyFR,LABELS_FR]]\n",
    "\n",
    "valxsDE = [valxDE]\n",
    "valysDE = [[valyDE,LABELS_DE]]"
   ],
   "execution_count": 87,
   "outputs": []
  },
  {
   "cell_type": "code",
   "metadata": {
    "id": "SuvKKqKMs0kK",
    "executionInfo": {
     "status": "ok",
     "timestamp": 1638885389784,
     "user_tz": 300,
     "elapsed": 12,
     "user": {
      "displayName": "Andrew Ning",
      "photoUrl": "https://lh3.googleusercontent.com/a-/AOh14GgyUiXynCeybWnGTpfHnOSTarAoJjvj-8rK8oxkzQ=s64",
      "userId": "04097743773373129918"
     }
    }
   },
   "source": [
    "# print(trainxEN[100])"
   ],
   "execution_count": 88,
   "outputs": []
  },
  {
   "cell_type": "code",
   "metadata": {
    "pycharm": {
     "name": "#%%\n"
    },
    "id": "k0QV3oAw85Tx",
    "executionInfo": {
     "status": "ok",
     "timestamp": 1638885389784,
     "user_tz": 300,
     "elapsed": 12,
     "user": {
      "displayName": "Andrew Ning",
      "photoUrl": "https://lh3.googleusercontent.com/a-/AOh14GgyUiXynCeybWnGTpfHnOSTarAoJjvj-8rK8oxkzQ=s64",
      "userId": "04097743773373129918"
     }
    }
   },
   "source": [
    "def maketestgenerator(testx,testy,labels):\n",
    "    def testgenerator():\n",
    "        for i in range(len(testx)):\n",
    "            x = processdata(testx[i])\n",
    "            y = getonehot(testy[i],labels)\n",
    "            yield x,y\n",
    "    return testgenerator\n",
    "\n",
    "testgentypes = (tf.float32,tf.int32)\n",
    "testgenshapes = ([FREQ_SIZE,N_MFCC,1],[15])"
   ],
   "execution_count": 89,
   "outputs": []
  },
  {
   "cell_type": "code",
   "metadata": {
    "pycharm": {
     "name": "#%%\n"
    },
    "id": "5sgBUQOu85Tx",
    "executionInfo": {
     "status": "ok",
     "timestamp": 1638885389785,
     "user_tz": 300,
     "elapsed": 13,
     "user": {
      "displayName": "Andrew Ning",
      "photoUrl": "https://lh3.googleusercontent.com/a-/AOh14GgyUiXynCeybWnGTpfHnOSTarAoJjvj-8rK8oxkzQ=s64",
      "userId": "04097743773373129918"
     }
    }
   },
   "source": [
    "traindatasetEN = tf.data.Dataset.from_generator(maketraingenerator(trainxsEN,trainysEN),output_types=traingentypes,output_shapes=traingenshapes)\n",
    "traindatasetEN = traindatasetEN.shuffle(NUM_TRAIN_EN)\n",
    "traindatasetEN = traindatasetEN.batch(BATCH_SIZE_TRAIN)\n",
    "traindatasetEN = traindatasetEN.repeat(-1)\n",
    "traindatasetEN = traindatasetEN.cache().prefetch(AUTOTUNE)\n",
    "\n",
    "valdatasetEN = tf.data.Dataset.from_generator(makevalgenerator(valxsEN,valysEN),output_types=traingentypes,output_shapes=traingenshapes)\n",
    "valdatasetEN = valdatasetEN.batch(BATCH_SIZE_VAL)\n",
    "valdatasetEN = valdatasetEN.cache().prefetch(AUTOTUNE)\n",
    "\n",
    "testdatasetEN = tf.data.Dataset.from_generator(maketestgenerator(testxEN,testyEN,LABELS_EN),output_types=testgentypes,output_shapes=testgenshapes)\n",
    "testdatasetEN = testdatasetEN.batch(BATCH_SIZE_TEST)"
   ],
   "execution_count": 90,
   "outputs": []
  },
  {
   "cell_type": "code",
   "metadata": {
    "id": "ya1v-ubLzxE5",
    "executionInfo": {
     "status": "ok",
     "timestamp": 1638885389785,
     "user_tz": 300,
     "elapsed": 13,
     "user": {
      "displayName": "Andrew Ning",
      "photoUrl": "https://lh3.googleusercontent.com/a-/AOh14GgyUiXynCeybWnGTpfHnOSTarAoJjvj-8rK8oxkzQ=s64",
      "userId": "04097743773373129918"
     }
    }
   },
   "source": [
    "traindatasetES = tf.data.Dataset.from_generator(maketraingenerator(trainxsES,trainysES),output_types=traingentypes,output_shapes=(xshapes,tuple([[14]])))\n",
    "traindatasetES = traindatasetES.shuffle(NUM_TRAIN_ES)\n",
    "traindatasetES = traindatasetES.batch(BATCH_SIZE_TRAIN)\n",
    "traindatasetES = traindatasetES.repeat(-1)\n",
    "traindatasetES = traindatasetES.cache().prefetch(AUTOTUNE)\n",
    "\n",
    "valdatasetES = tf.data.Dataset.from_generator(makevalgenerator(valxsES,valysES),output_types=traingentypes,output_shapes=(xshapes,tuple([[14]])))\n",
    "valdatasetES = valdatasetES.batch(BATCH_SIZE_VAL)\n",
    "valdatasetES = valdatasetES.cache().prefetch(AUTOTUNE)\n",
    "\n",
    "testdatasetES = tf.data.Dataset.from_generator(maketestgenerator(testxES,testyES,LABELS_ES),output_types=testgentypes,output_shapes=([FREQ_SIZE,N_MFCC,1],[14]))\n",
    "testdatasetES = testdatasetES.batch(BATCH_SIZE_TEST)"
   ],
   "execution_count": 91,
   "outputs": []
  },
  {
   "cell_type": "code",
   "metadata": {
    "id": "STNOB6Gh91ML",
    "executionInfo": {
     "status": "ok",
     "timestamp": 1638885390079,
     "user_tz": 300,
     "elapsed": 306,
     "user": {
      "displayName": "Andrew Ning",
      "photoUrl": "https://lh3.googleusercontent.com/a-/AOh14GgyUiXynCeybWnGTpfHnOSTarAoJjvj-8rK8oxkzQ=s64",
      "userId": "04097743773373129918"
     }
    }
   },
   "source": [
    "traindatasetFR = tf.data.Dataset.from_generator(maketraingenerator(trainxsFR,trainysFR),output_types=traingentypes,output_shapes=(xshapes,tuple([[15]])))\n",
    "traindatasetFR = traindatasetFR.shuffle(NUM_TRAIN_FR)\n",
    "traindatasetFR = traindatasetFR.batch(BATCH_SIZE_TRAIN)\n",
    "traindatasetFR = traindatasetFR.repeat(-1)\n",
    "traindatasetFR = traindatasetFR.cache().prefetch(AUTOTUNE)\n",
    "\n",
    "valdatasetFR = tf.data.Dataset.from_generator(makevalgenerator(valxsFR,valysFR),output_types=traingentypes,output_shapes=(xshapes,tuple([[15]])))\n",
    "valdatasetFR = valdatasetFR.batch(BATCH_SIZE_VAL)\n",
    "valdatasetFR = valdatasetFR.cache().prefetch(AUTOTUNE)\n",
    "\n",
    "testdatasetFR = tf.data.Dataset.from_generator(maketestgenerator(testxFR,testyFR,LABELS_FR),output_types=testgentypes,output_shapes=([FREQ_SIZE,N_MFCC,1],[15]))\n",
    "testdatasetFR = testdatasetFR.batch(BATCH_SIZE_TEST)"
   ],
   "execution_count": 92,
   "outputs": []
  },
  {
   "cell_type": "code",
   "metadata": {
    "id": "gTi90gqJIHKj",
    "executionInfo": {
     "status": "ok",
     "timestamp": 1638885390079,
     "user_tz": 300,
     "elapsed": 5,
     "user": {
      "displayName": "Andrew Ning",
      "photoUrl": "https://lh3.googleusercontent.com/a-/AOh14GgyUiXynCeybWnGTpfHnOSTarAoJjvj-8rK8oxkzQ=s64",
      "userId": "04097743773373129918"
     }
    }
   },
   "source": [
    "traindatasetDE = tf.data.Dataset.from_generator(maketraingenerator(trainxsDE,trainysDE),output_types=traingentypes,output_shapes=(xshapes,tuple([[15]])))\n",
    "traindatasetDE = traindatasetDE.shuffle(NUM_TRAIN_DE)\n",
    "traindatasetDE = traindatasetDE.batch(BATCH_SIZE_TRAIN)\n",
    "traindatasetDE = traindatasetDE.repeat(-1)\n",
    "traindatasetDE = traindatasetDE.cache().prefetch(AUTOTUNE)\n",
    "\n",
    "valdatasetDE = tf.data.Dataset.from_generator(makevalgenerator(valxsDE,valysDE),output_types=traingentypes,output_shapes=(xshapes,tuple([[15]])))\n",
    "valdatasetDE = valdatasetDE.batch(BATCH_SIZE_VAL)\n",
    "valdatasetDE = valdatasetDE.cache().prefetch(AUTOTUNE)\n",
    "\n",
    "testdatasetDE = tf.data.Dataset.from_generator(maketestgenerator(testxDE,testyDE,LABELS_DE),output_types=testgentypes,output_shapes=([FREQ_SIZE,N_MFCC,1],[15]))\n",
    "testdatasetDE = testdatasetDE.batch(BATCH_SIZE_TEST)"
   ],
   "execution_count": 93,
   "outputs": []
  },
  {
   "cell_type": "code",
   "metadata": {
    "id": "zXLxNEpWJeqc",
    "executionInfo": {
     "status": "ok",
     "timestamp": 1638885390080,
     "user_tz": 300,
     "elapsed": 6,
     "user": {
      "displayName": "Andrew Ning",
      "photoUrl": "https://lh3.googleusercontent.com/a-/AOh14GgyUiXynCeybWnGTpfHnOSTarAoJjvj-8rK8oxkzQ=s64",
      "userId": "04097743773373129918"
     }
    }
   },
   "source": [
    "# print(trainxs)"
   ],
   "execution_count": 94,
   "outputs": []
  },
  {
   "cell_type": "code",
   "metadata": {
    "pycharm": {
     "name": "#%%\n"
    },
    "id": "2BeWG7Df85Ty",
    "executionInfo": {
     "status": "ok",
     "timestamp": 1638885390081,
     "user_tz": 300,
     "elapsed": 6,
     "user": {
      "displayName": "Andrew Ning",
      "photoUrl": "https://lh3.googleusercontent.com/a-/AOh14GgyUiXynCeybWnGTpfHnOSTarAoJjvj-8rK8oxkzQ=s64",
      "userId": "04097743773373129918"
     }
    }
   },
   "source": [
    "# traingen = maketraingenerator(trainxs,trainys)\n",
    "# print(next(traingen()))\n",
    "\n",
    "# print(traingentypes)\n",
    "# print(traingenshapes)"
   ],
   "execution_count": 95,
   "outputs": []
  },
  {
   "cell_type": "code",
   "metadata": {
    "pycharm": {
     "name": "#%%\n"
    },
    "id": "9KmIBbT285Ty",
    "executionInfo": {
     "status": "ok",
     "timestamp": 1638885390082,
     "user_tz": 300,
     "elapsed": 7,
     "user": {
      "displayName": "Andrew Ning",
      "photoUrl": "https://lh3.googleusercontent.com/a-/AOh14GgyUiXynCeybWnGTpfHnOSTarAoJjvj-8rK8oxkzQ=s64",
      "userId": "04097743773373129918"
     }
    }
   },
   "source": [
    "def languagelayers(num_labels,language):\n",
    "        lang = keras.Sequential([\n",
    "        layers.Conv2D(filters=128, kernel_size=(3,3), strides=(1,1), padding='same', activation=activations.relu, name=language+'_Conv2D1'),\n",
    "        layers.MaxPooling2D(pool_size=(2,2), strides=(2,2), name=language+'_MaxPool2D1'),\n",
    "        # layers.Conv2D(filters=512, kernel_size=(3,3), padding='same', activation=activations.relu, name=language+'_Conv2D2'),\n",
    "        # layers.MaxPooling2D(pool_size=(3,3), strides=(2,2), name=language+'_MaxPool2D2'),\n",
    "        layers.Flatten(),\n",
    "        layers.Dropout(0.5),\n",
    "        layers.Dense(128, activation=activations.relu, name=language+'_DenseLayer1'),\n",
    "        layers.Dropout(0.5),\n",
    "        layers.Dense(128, activation=activations.relu, name=language+'_DenseLayer2'),\n",
    "        layers.Dropout(0.5),\n",
    "        layers.Dense(num_labels, activation=activations.softmax, name=language+'_Output')\n",
    "        ],\n",
    "        name=language)\n",
    "\n",
    "        return lang"
   ],
   "execution_count": 96,
   "outputs": []
  },
  {
   "cell_type": "code",
   "metadata": {
    "pycharm": {
     "name": "#%%\n"
    },
    "id": "kSoyQRYb85Ty",
    "colab": {
     "base_uri": "https://localhost:8080/",
     "height": 1000
    },
    "executionInfo": {
     "status": "ok",
     "timestamp": 1638885390973,
     "user_tz": 300,
     "elapsed": 898,
     "user": {
      "displayName": "Andrew Ning",
      "photoUrl": "https://lh3.googleusercontent.com/a-/AOh14GgyUiXynCeybWnGTpfHnOSTarAoJjvj-8rK8oxkzQ=s64",
      "userId": "04097743773373129918"
     }
    },
    "outputId": "c80fa19a-2e56-4e40-f583-9792437e46e4"
   },
   "source": [
    "inputEN = tf.keras.Input(shape=(FREQ_SIZE,N_MFCC,1),name='EN_Input')\n",
    "inputES = tf.keras.Input(shape=(FREQ_SIZE,N_MFCC,1),name='ES_Input')\n",
    "inputFR = tf.keras.Input(shape=(FREQ_SIZE,N_MFCC,1),name='FR_Input')\n",
    "inputDE = tf.keras.Input(shape=(FREQ_SIZE,N_MFCC,1),name='DE_Input')\n",
    "\n",
    "shared = keras.Sequential([\n",
    "    layers.Conv2D(filters=32, kernel_size=(9,9), strides=(2,2), padding='same', activation=activations.relu, name='Shared_Conv2D1'),\n",
    "    layers.MaxPooling2D(pool_size=(3,3), strides=(2,2), name='Shared_MaxPool2D1'),\n",
    "    layers.Conv2D(filters=64, kernel_size=(5,5), strides=(1,1), padding='same', activation=activations.relu, name='Shared_Conv2D2'),\n",
    "    layers.MaxPooling2D(pool_size=(3,3), strides=(2,2), name='Shared_MaxPool2D2'),\n",
    "    layers.Conv2D(filters=128, kernel_size=(3,3), strides=(1,1), padding='same', activation=activations.relu, name='Shared_Conv2D3'),\n",
    "    layers.MaxPooling2D(pool_size=(3,3), strides=(2,2), name='Shared_MaxPool2D3')\n",
    "    ],\n",
    "    name='Shared_Layers'\n",
    ")\n",
    "\n",
    "sharedLayersEN = shared(inputEN)\n",
    "sharedLayersES = shared(inputES)\n",
    "sharedLayersFR = shared(inputFR)\n",
    "sharedLayersDE = shared(inputDE)\n",
    "\n",
    "layersEN = languagelayers(NUM_LABELS_EN,'EN')(sharedLayersEN)\n",
    "layersES = languagelayers(NUM_LABELS_ES,'ES')(sharedLayersES)\n",
    "layersFR = languagelayers(NUM_LABELS_FR,'FR')(sharedLayersFR)\n",
    "layersDE = languagelayers(NUM_LABELS_DE,'DE')(sharedLayersDE)\n",
    "\n",
    "\n",
    "modelFullEN = tf.keras.Model(\n",
    "    inputs=[inputEN],\n",
    "    outputs=[layersEN],\n",
    "    name='Full_Model_EN'\n",
    ")\n",
    "\n",
    "\n",
    "modelFullEN.summary(expand_nested=True)\n",
    "tf.keras.utils.plot_model(modelFullEN, expand_nested=True)"
   ],
   "execution_count": 97,
   "outputs": [
    {
     "output_type": "stream",
     "name": "stdout",
     "text": [
      "Model: \"Full_Model_EN\"\n",
      "_________________________________________________________________\n",
      " Layer (type)                Output Shape              Param #   \n",
      "=================================================================\n",
      " EN_Input (InputLayer)       [(None, 188, 100, 1)]     0         \n",
      "                                                                 \n",
      " Shared_Layers (Sequential)  (None, 10, 5, 128)        127744    \n",
      "|¯¯¯¯¯¯¯¯¯¯¯¯¯¯¯¯¯¯¯¯¯¯¯¯¯¯¯¯¯¯¯¯¯¯¯¯¯¯¯¯¯¯¯¯¯¯¯¯¯¯¯¯¯¯¯¯¯¯¯¯¯¯¯|\n",
      "| Shared_Conv2D1 (Conv2D)   (None, 94, 50, 32)        2624      |\n",
      "|                                                               |\n",
      "| Shared_MaxPool2D1 (MaxPooli  (None, 46, 24, 32)     0         |\n",
      "| ng2D)                                                         |\n",
      "|                                                               |\n",
      "| Shared_Conv2D2 (Conv2D)   (None, 46, 24, 64)        51264     |\n",
      "|                                                               |\n",
      "| Shared_MaxPool2D2 (MaxPooli  (None, 22, 11, 64)     0         |\n",
      "| ng2D)                                                         |\n",
      "|                                                               |\n",
      "| Shared_Conv2D3 (Conv2D)   (None, 22, 11, 128)       73856     |\n",
      "|                                                               |\n",
      "| Shared_MaxPool2D3 (MaxPooli  (None, 10, 5, 128)     0         |\n",
      "| ng2D)                                                         |\n",
      "¯¯¯¯¯¯¯¯¯¯¯¯¯¯¯¯¯¯¯¯¯¯¯¯¯¯¯¯¯¯¯¯¯¯¯¯¯¯¯¯¯¯¯¯¯¯¯¯¯¯¯¯¯¯¯¯¯¯¯¯¯¯¯¯¯\n",
      " EN (Sequential)             (None, 15)                329999    \n",
      "|¯¯¯¯¯¯¯¯¯¯¯¯¯¯¯¯¯¯¯¯¯¯¯¯¯¯¯¯¯¯¯¯¯¯¯¯¯¯¯¯¯¯¯¯¯¯¯¯¯¯¯¯¯¯¯¯¯¯¯¯¯¯¯|\n",
      "| EN_Conv2D1 (Conv2D)       (None, 10, 5, 128)        147584    |\n",
      "|                                                               |\n",
      "| EN_MaxPool2D1 (MaxPooling2D  (None, 5, 2, 128)      0         |\n",
      "| )                                                             |\n",
      "|                                                               |\n",
      "| flatten_8 (Flatten)       (None, 1280)              0         |\n",
      "|                                                               |\n",
      "| dropout_24 (Dropout)      (None, 1280)              0         |\n",
      "|                                                               |\n",
      "| EN_DenseLayer1 (Dense)    (None, 128)               163968    |\n",
      "|                                                               |\n",
      "| dropout_25 (Dropout)      (None, 128)               0         |\n",
      "|                                                               |\n",
      "| EN_DenseLayer2 (Dense)    (None, 128)               16512     |\n",
      "|                                                               |\n",
      "| dropout_26 (Dropout)      (None, 128)               0         |\n",
      "|                                                               |\n",
      "| EN_Output (Dense)         (None, 15)                1935      |\n",
      "¯¯¯¯¯¯¯¯¯¯¯¯¯¯¯¯¯¯¯¯¯¯¯¯¯¯¯¯¯¯¯¯¯¯¯¯¯¯¯¯¯¯¯¯¯¯¯¯¯¯¯¯¯¯¯¯¯¯¯¯¯¯¯¯¯\n",
      "=================================================================\n",
      "Total params: 457,743\n",
      "Trainable params: 457,743\n",
      "Non-trainable params: 0\n",
      "_________________________________________________________________\n"
     ]
    },
    {
     "output_type": "execute_result",
     "data": {
      "image/png": "[encoded data removed]",
      "text/plain": [
       "<IPython.core.display.Image object>"
      ]
     },
     "metadata": {},
     "execution_count": 97
    }
   ]
  },
  {
   "cell_type": "code",
   "metadata": {
    "pycharm": {
     "name": "#%%\n"
    },
    "id": "uvjPm55685Tz",
    "executionInfo": {
     "status": "ok",
     "timestamp": 1638885390974,
     "user_tz": 300,
     "elapsed": 7,
     "user": {
      "displayName": "Andrew Ning",
      "photoUrl": "https://lh3.googleusercontent.com/a-/AOh14GgyUiXynCeybWnGTpfHnOSTarAoJjvj-8rK8oxkzQ=s64",
      "userId": "04097743773373129918"
     }
    }
   },
   "source": [
    "modelFullEN.compile(\n",
    "    optimizer = tf.keras.optimizers.Adam(learning_rate=LEARNING_RATE),\n",
    "    loss=[tf.keras.losses.CategoricalCrossentropy()],\n",
    "    metrics=[tf.keras.metrics.CategoricalAccuracy(name='Categorical_Accuracy'), tf.keras.metrics.AUC(name='AUC')]\n",
    ")"
   ],
   "execution_count": 98,
   "outputs": []
  },
  {
   "cell_type": "code",
   "metadata": {
    "pycharm": {
     "name": "#%%\n"
    },
    "id": "5YAH8cIR85Tz",
    "executionInfo": {
     "status": "ok",
     "timestamp": 1638885390975,
     "user_tz": 300,
     "elapsed": 7,
     "user": {
      "displayName": "Andrew Ning",
      "photoUrl": "https://lh3.googleusercontent.com/a-/AOh14GgyUiXynCeybWnGTpfHnOSTarAoJjvj-8rK8oxkzQ=s64",
      "userId": "04097743773373129918"
     }
    }
   },
   "source": [
    "RUN = '1'\n",
    "\n",
    "ext = '-FULL-EN'\n",
    "\n",
    "training_callbackFULLEN = callbacks.TensorBoard(log_dir=LOG_DIR + RUN + ext)\n",
    "reduce_lr_callback = callbacks.ReduceLROnPlateau(monitor='val_loss', factor=0.2, patience=3,min_lr=1e-5,verbose=1)\n",
    "earlystopping_callback = tf.keras.callbacks.EarlyStopping(monitor='val_loss', patience=5)"
   ],
   "execution_count": 99,
   "outputs": []
  },
  {
   "cell_type": "code",
   "metadata": {
    "id": "qm15HqLnLXFH",
    "executionInfo": {
     "status": "ok",
     "timestamp": 1638885390976,
     "user_tz": 300,
     "elapsed": 7,
     "user": {
      "displayName": "Andrew Ning",
      "photoUrl": "https://lh3.googleusercontent.com/a-/AOh14GgyUiXynCeybWnGTpfHnOSTarAoJjvj-8rK8oxkzQ=s64",
      "userId": "04097743773373129918"
     }
    }
   },
   "source": [
    "# model.predict(testdatasetEN)"
   ],
   "execution_count": 100,
   "outputs": []
  },
  {
   "cell_type": "code",
   "metadata": {
    "pycharm": {
     "name": "#%%\n",
     "is_executing": true
    },
    "id": "Zjfl1oxd85Tz",
    "colab": {
     "base_uri": "https://localhost:8080/"
    },
    "executionInfo": {
     "status": "ok",
     "timestamp": 1638885438088,
     "user_tz": 300,
     "elapsed": 47119,
     "user": {
      "displayName": "Andrew Ning",
      "photoUrl": "https://lh3.googleusercontent.com/a-/AOh14GgyUiXynCeybWnGTpfHnOSTarAoJjvj-8rK8oxkzQ=s64",
      "userId": "04097743773373129918"
     }
    },
    "outputId": "c3854fe9-f56b-4f76-8656-610097facd6d"
   },
   "source": [
    "historyEN = modelFullEN.fit(\n",
    "    x = traindatasetEN,\n",
    "    validation_data = valdatasetEN,\n",
    "    epochs=EPOCHS,\n",
    "    steps_per_epoch=STEPS_PER_EPOCH,\n",
    "    callbacks=[training_callbackFULLEN,earlystopping_callback,reduce_lr_callback],\n",
    "    verbose=1\n",
    ")\n"
   ],
   "execution_count": 101,
   "outputs": [
    {
     "output_type": "stream",
     "name": "stdout",
     "text": [
      "Epoch 1/75\n",
      "39/45 [=========================>....] - ETA: 0s - loss: 2.7253 - Categorical_Accuracy: 0.0964 - AUC: 0.5353WARNING:tensorflow:6 out of the last 39 calls to <function Model.make_test_function.<locals>.test_function at 0x7f5feee353b0> triggered tf.function retracing. Tracing is expensive and the excessive number of tracings could be due to (1) creating @tf.function repeatedly in a loop, (2) passing tensors with different shapes, (3) passing Python objects instead of tensors. For (1), please define your @tf.function outside of the loop. For (2), @tf.function has experimental_relax_shapes=True option that relaxes argument shapes that can avoid unnecessary retracing. For (3), please refer to https://www.tensorflow.org/guide/function#controlling_retracing and https://www.tensorflow.org/api_docs/python/tf/function for  more details.\n"
     ]
    },
    {
     "output_type": "stream",
     "name": "stderr",
     "text": [
      "WARNING:tensorflow:6 out of the last 39 calls to <function Model.make_test_function.<locals>.test_function at 0x7f5feee353b0> triggered tf.function retracing. Tracing is expensive and the excessive number of tracings could be due to (1) creating @tf.function repeatedly in a loop, (2) passing tensors with different shapes, (3) passing Python objects instead of tensors. For (1), please define your @tf.function outside of the loop. For (2), @tf.function has experimental_relax_shapes=True option that relaxes argument shapes that can avoid unnecessary retracing. For (3), please refer to https://www.tensorflow.org/guide/function#controlling_retracing and https://www.tensorflow.org/api_docs/python/tf/function for  more details.\n"
     ]
    },
    {
     "output_type": "stream",
     "name": "stdout",
     "text": [
      "45/45 [==============================] - 2s 25ms/step - loss: 2.7239 - Categorical_Accuracy: 0.0951 - AUC: 0.5347 - val_loss: 2.6912 - val_Categorical_Accuracy: 0.0460 - val_AUC: 0.5540 - lr: 1.0000e-04\n",
      "Epoch 2/75\n",
      "45/45 [==============================] - 0s 9ms/step - loss: 2.6954 - Categorical_Accuracy: 0.0942 - AUC: 0.5559 - val_loss: 2.6922 - val_Categorical_Accuracy: 0.0500 - val_AUC: 0.5456 - lr: 1.0000e-04\n",
      "Epoch 3/75\n",
      "45/45 [==============================] - 1s 9ms/step - loss: 2.6796 - Categorical_Accuracy: 0.1022 - AUC: 0.5683 - val_loss: 2.6790 - val_Categorical_Accuracy: 0.0760 - val_AUC: 0.5629 - lr: 1.0000e-04\n",
      "Epoch 4/75\n",
      "45/45 [==============================] - 1s 9ms/step - loss: 2.6816 - Categorical_Accuracy: 0.0951 - AUC: 0.5611 - val_loss: 2.6797 - val_Categorical_Accuracy: 0.1100 - val_AUC: 0.5595 - lr: 1.0000e-04\n",
      "Epoch 5/75\n",
      "45/45 [==============================] - 1s 9ms/step - loss: 2.6743 - Categorical_Accuracy: 0.1004 - AUC: 0.5687 - val_loss: 2.6784 - val_Categorical_Accuracy: 0.1060 - val_AUC: 0.5497 - lr: 1.0000e-04\n",
      "Epoch 6/75\n",
      "45/45 [==============================] - 1s 9ms/step - loss: 2.6745 - Categorical_Accuracy: 0.1022 - AUC: 0.5673 - val_loss: 2.6724 - val_Categorical_Accuracy: 0.1100 - val_AUC: 0.5625 - lr: 1.0000e-04\n",
      "Epoch 7/75\n",
      "45/45 [==============================] - 1s 10ms/step - loss: 2.6832 - Categorical_Accuracy: 0.0987 - AUC: 0.5572 - val_loss: 2.6739 - val_Categorical_Accuracy: 0.1060 - val_AUC: 0.5548 - lr: 1.0000e-04\n",
      "Epoch 8/75\n",
      "45/45 [==============================] - 1s 10ms/step - loss: 2.6711 - Categorical_Accuracy: 0.1067 - AUC: 0.5671 - val_loss: 2.6763 - val_Categorical_Accuracy: 0.1080 - val_AUC: 0.5540 - lr: 1.0000e-04\n",
      "Epoch 9/75\n",
      "45/45 [==============================] - 1s 10ms/step - loss: 2.6624 - Categorical_Accuracy: 0.1138 - AUC: 0.5767 - val_loss: 2.6673 - val_Categorical_Accuracy: 0.1060 - val_AUC: 0.5612 - lr: 1.0000e-04\n",
      "Epoch 10/75\n",
      "45/45 [==============================] - 1s 10ms/step - loss: 2.6654 - Categorical_Accuracy: 0.1209 - AUC: 0.5724 - val_loss: 2.6680 - val_Categorical_Accuracy: 0.1060 - val_AUC: 0.5629 - lr: 1.0000e-04\n",
      "Epoch 11/75\n",
      "45/45 [==============================] - 1s 10ms/step - loss: 2.6606 - Categorical_Accuracy: 0.1200 - AUC: 0.5792 - val_loss: 2.6696 - val_Categorical_Accuracy: 0.1060 - val_AUC: 0.5609 - lr: 1.0000e-04\n",
      "Epoch 12/75\n",
      "45/45 [==============================] - 1s 10ms/step - loss: 2.6519 - Categorical_Accuracy: 0.1147 - AUC: 0.5899 - val_loss: 2.6603 - val_Categorical_Accuracy: 0.1060 - val_AUC: 0.5713 - lr: 1.0000e-04\n",
      "Epoch 13/75\n",
      "45/45 [==============================] - 1s 10ms/step - loss: 2.6600 - Categorical_Accuracy: 0.1111 - AUC: 0.5745 - val_loss: 2.6659 - val_Categorical_Accuracy: 0.1060 - val_AUC: 0.5551 - lr: 1.0000e-04\n",
      "Epoch 14/75\n",
      "45/45 [==============================] - 1s 10ms/step - loss: 2.6477 - Categorical_Accuracy: 0.1262 - AUC: 0.5895 - val_loss: 2.6606 - val_Categorical_Accuracy: 0.1060 - val_AUC: 0.5665 - lr: 1.0000e-04\n",
      "Epoch 15/75\n",
      "42/45 [===========================>..] - ETA: 0s - loss: 2.6560 - Categorical_Accuracy: 0.1276 - AUC: 0.5768\n",
      "Epoch 00015: ReduceLROnPlateau reducing learning rate to 1.9999999494757503e-05.\n",
      "45/45 [==============================] - 1s 10ms/step - loss: 2.6616 - Categorical_Accuracy: 0.1218 - AUC: 0.5712 - val_loss: 2.6615 - val_Categorical_Accuracy: 0.1060 - val_AUC: 0.5626 - lr: 1.0000e-04\n",
      "Epoch 16/75\n",
      "45/45 [==============================] - 1s 10ms/step - loss: 2.6450 - Categorical_Accuracy: 0.1324 - AUC: 0.5889 - val_loss: 2.6601 - val_Categorical_Accuracy: 0.1060 - val_AUC: 0.5655 - lr: 2.0000e-05\n",
      "Epoch 17/75\n",
      "45/45 [==============================] - 1s 10ms/step - loss: 2.6460 - Categorical_Accuracy: 0.1209 - AUC: 0.5884 - val_loss: 2.6606 - val_Categorical_Accuracy: 0.1060 - val_AUC: 0.5652 - lr: 2.0000e-05\n",
      "Epoch 18/75\n",
      "45/45 [==============================] - 1s 10ms/step - loss: 2.6489 - Categorical_Accuracy: 0.1236 - AUC: 0.5794 - val_loss: 2.6576 - val_Categorical_Accuracy: 0.1060 - val_AUC: 0.5673 - lr: 2.0000e-05\n",
      "Epoch 19/75\n",
      "45/45 [==============================] - 1s 10ms/step - loss: 2.6520 - Categorical_Accuracy: 0.1244 - AUC: 0.5784 - val_loss: 2.6580 - val_Categorical_Accuracy: 0.1060 - val_AUC: 0.5695 - lr: 2.0000e-05\n",
      "Epoch 20/75\n",
      "45/45 [==============================] - 1s 10ms/step - loss: 2.6542 - Categorical_Accuracy: 0.1173 - AUC: 0.5762 - val_loss: 2.6573 - val_Categorical_Accuracy: 0.1060 - val_AUC: 0.5703 - lr: 2.0000e-05\n",
      "Epoch 21/75\n",
      "45/45 [==============================] - 1s 10ms/step - loss: 2.6459 - Categorical_Accuracy: 0.1129 - AUC: 0.5845 - val_loss: 2.6570 - val_Categorical_Accuracy: 0.1060 - val_AUC: 0.5674 - lr: 2.0000e-05\n",
      "Epoch 22/75\n",
      "45/45 [==============================] - 1s 10ms/step - loss: 2.6480 - Categorical_Accuracy: 0.1200 - AUC: 0.5791 - val_loss: 2.6561 - val_Categorical_Accuracy: 0.1060 - val_AUC: 0.5667 - lr: 2.0000e-05\n",
      "Epoch 23/75\n",
      "45/45 [==============================] - 1s 10ms/step - loss: 2.6413 - Categorical_Accuracy: 0.1307 - AUC: 0.5864 - val_loss: 2.6552 - val_Categorical_Accuracy: 0.1060 - val_AUC: 0.5679 - lr: 2.0000e-05\n",
      "Epoch 24/75\n",
      "45/45 [==============================] - 1s 10ms/step - loss: 2.6491 - Categorical_Accuracy: 0.1191 - AUC: 0.5794 - val_loss: 2.6552 - val_Categorical_Accuracy: 0.1060 - val_AUC: 0.5657 - lr: 2.0000e-05\n",
      "Epoch 25/75\n",
      "45/45 [==============================] - 1s 10ms/step - loss: 2.6442 - Categorical_Accuracy: 0.1262 - AUC: 0.5802 - val_loss: 2.6554 - val_Categorical_Accuracy: 0.1060 - val_AUC: 0.5704 - lr: 2.0000e-05\n",
      "Epoch 26/75\n",
      "45/45 [==============================] - 1s 10ms/step - loss: 2.6363 - Categorical_Accuracy: 0.1236 - AUC: 0.5894 - val_loss: 2.6519 - val_Categorical_Accuracy: 0.1060 - val_AUC: 0.5721 - lr: 2.0000e-05\n",
      "Epoch 27/75\n",
      "45/45 [==============================] - 1s 10ms/step - loss: 2.6309 - Categorical_Accuracy: 0.1253 - AUC: 0.5954 - val_loss: 2.6501 - val_Categorical_Accuracy: 0.1060 - val_AUC: 0.5771 - lr: 2.0000e-05\n",
      "Epoch 28/75\n",
      "45/45 [==============================] - 1s 10ms/step - loss: 2.6368 - Categorical_Accuracy: 0.1307 - AUC: 0.5882 - val_loss: 2.6503 - val_Categorical_Accuracy: 0.1060 - val_AUC: 0.5721 - lr: 2.0000e-05\n",
      "Epoch 29/75\n",
      "45/45 [==============================] - 1s 10ms/step - loss: 2.6339 - Categorical_Accuracy: 0.1307 - AUC: 0.5945 - val_loss: 2.6500 - val_Categorical_Accuracy: 0.1060 - val_AUC: 0.5777 - lr: 2.0000e-05\n",
      "Epoch 30/75\n",
      "45/45 [==============================] - 1s 10ms/step - loss: 2.6380 - Categorical_Accuracy: 0.1289 - AUC: 0.5915 - val_loss: 2.6494 - val_Categorical_Accuracy: 0.1060 - val_AUC: 0.5823 - lr: 2.0000e-05\n",
      "Epoch 31/75\n",
      "45/45 [==============================] - 1s 10ms/step - loss: 2.6432 - Categorical_Accuracy: 0.1236 - AUC: 0.5840 - val_loss: 2.6490 - val_Categorical_Accuracy: 0.1060 - val_AUC: 0.5784 - lr: 2.0000e-05\n",
      "Epoch 32/75\n",
      "45/45 [==============================] - 1s 10ms/step - loss: 2.6330 - Categorical_Accuracy: 0.1244 - AUC: 0.5943 - val_loss: 2.6481 - val_Categorical_Accuracy: 0.1060 - val_AUC: 0.5804 - lr: 2.0000e-05\n",
      "Epoch 33/75\n",
      "45/45 [==============================] - 1s 10ms/step - loss: 2.6248 - Categorical_Accuracy: 0.1253 - AUC: 0.5989 - val_loss: 2.6448 - val_Categorical_Accuracy: 0.1060 - val_AUC: 0.5881 - lr: 2.0000e-05\n",
      "Epoch 34/75\n",
      "45/45 [==============================] - 1s 10ms/step - loss: 2.6265 - Categorical_Accuracy: 0.1236 - AUC: 0.6009 - val_loss: 2.6441 - val_Categorical_Accuracy: 0.1060 - val_AUC: 0.5862 - lr: 2.0000e-05\n",
      "Epoch 35/75\n",
      "45/45 [==============================] - 1s 10ms/step - loss: 2.6325 - Categorical_Accuracy: 0.1244 - AUC: 0.5937 - val_loss: 2.6434 - val_Categorical_Accuracy: 0.1060 - val_AUC: 0.5854 - lr: 2.0000e-05\n",
      "Epoch 36/75\n",
      "45/45 [==============================] - 1s 10ms/step - loss: 2.6377 - Categorical_Accuracy: 0.1298 - AUC: 0.5874 - val_loss: 2.6428 - val_Categorical_Accuracy: 0.1080 - val_AUC: 0.5859 - lr: 2.0000e-05\n",
      "Epoch 37/75\n",
      "45/45 [==============================] - 1s 10ms/step - loss: 2.6262 - Categorical_Accuracy: 0.1307 - AUC: 0.5938 - val_loss: 2.6411 - val_Categorical_Accuracy: 0.1080 - val_AUC: 0.5899 - lr: 2.0000e-05\n",
      "Epoch 38/75\n",
      "45/45 [==============================] - 1s 10ms/step - loss: 2.6327 - Categorical_Accuracy: 0.1307 - AUC: 0.5936 - val_loss: 2.6420 - val_Categorical_Accuracy: 0.1080 - val_AUC: 0.5889 - lr: 2.0000e-05\n",
      "Epoch 39/75\n",
      "45/45 [==============================] - 1s 10ms/step - loss: 2.6290 - Categorical_Accuracy: 0.1298 - AUC: 0.5973 - val_loss: 2.6388 - val_Categorical_Accuracy: 0.1080 - val_AUC: 0.5912 - lr: 2.0000e-05\n",
      "Epoch 40/75\n",
      "45/45 [==============================] - 1s 10ms/step - loss: 2.6243 - Categorical_Accuracy: 0.1333 - AUC: 0.6032 - val_loss: 2.6368 - val_Categorical_Accuracy: 0.1080 - val_AUC: 0.5939 - lr: 2.0000e-05\n",
      "Epoch 41/75\n",
      "45/45 [==============================] - 1s 10ms/step - loss: 2.6180 - Categorical_Accuracy: 0.1253 - AUC: 0.6104 - val_loss: 2.6343 - val_Categorical_Accuracy: 0.1080 - val_AUC: 0.5955 - lr: 2.0000e-05\n",
      "Epoch 42/75\n",
      "45/45 [==============================] - 1s 10ms/step - loss: 2.6214 - Categorical_Accuracy: 0.1316 - AUC: 0.6010 - val_loss: 2.6345 - val_Categorical_Accuracy: 0.1080 - val_AUC: 0.5985 - lr: 2.0000e-05\n",
      "Epoch 43/75\n",
      "45/45 [==============================] - 1s 10ms/step - loss: 2.6139 - Categorical_Accuracy: 0.1253 - AUC: 0.6100 - val_loss: 2.6310 - val_Categorical_Accuracy: 0.1080 - val_AUC: 0.6035 - lr: 2.0000e-05\n",
      "Epoch 44/75\n",
      "45/45 [==============================] - 1s 10ms/step - loss: 2.6171 - Categorical_Accuracy: 0.1289 - AUC: 0.6000 - val_loss: 2.6275 - val_Categorical_Accuracy: 0.1080 - val_AUC: 0.6070 - lr: 2.0000e-05\n",
      "Epoch 45/75\n",
      "45/45 [==============================] - 1s 10ms/step - loss: 2.6194 - Categorical_Accuracy: 0.1209 - AUC: 0.6028 - val_loss: 2.6259 - val_Categorical_Accuracy: 0.1080 - val_AUC: 0.6089 - lr: 2.0000e-05\n",
      "Epoch 46/75\n",
      "45/45 [==============================] - 1s 10ms/step - loss: 2.6046 - Categorical_Accuracy: 0.1351 - AUC: 0.6158 - val_loss: 2.6230 - val_Categorical_Accuracy: 0.1100 - val_AUC: 0.6162 - lr: 2.0000e-05\n",
      "Epoch 47/75\n",
      "45/45 [==============================] - 1s 10ms/step - loss: 2.6173 - Categorical_Accuracy: 0.1289 - AUC: 0.6099 - val_loss: 2.6233 - val_Categorical_Accuracy: 0.1060 - val_AUC: 0.6165 - lr: 2.0000e-05\n",
      "Epoch 48/75\n",
      "45/45 [==============================] - 1s 10ms/step - loss: 2.6045 - Categorical_Accuracy: 0.1333 - AUC: 0.6157 - val_loss: 2.6193 - val_Categorical_Accuracy: 0.1060 - val_AUC: 0.6181 - lr: 2.0000e-05\n",
      "Epoch 49/75\n",
      "45/45 [==============================] - 1s 10ms/step - loss: 2.6035 - Categorical_Accuracy: 0.1342 - AUC: 0.6138 - val_loss: 2.6212 - val_Categorical_Accuracy: 0.1140 - val_AUC: 0.6179 - lr: 2.0000e-05\n",
      "Epoch 50/75\n",
      "45/45 [==============================] - 1s 10ms/step - loss: 2.5955 - Categorical_Accuracy: 0.1351 - AUC: 0.6210 - val_loss: 2.6148 - val_Categorical_Accuracy: 0.1100 - val_AUC: 0.6172 - lr: 2.0000e-05\n",
      "Epoch 51/75\n",
      "45/45 [==============================] - 1s 10ms/step - loss: 2.6053 - Categorical_Accuracy: 0.1387 - AUC: 0.6120 - val_loss: 2.6132 - val_Categorical_Accuracy: 0.1100 - val_AUC: 0.6180 - lr: 2.0000e-05\n",
      "Epoch 52/75\n",
      "45/45 [==============================] - 1s 10ms/step - loss: 2.6066 - Categorical_Accuracy: 0.1289 - AUC: 0.6138 - val_loss: 2.6116 - val_Categorical_Accuracy: 0.1120 - val_AUC: 0.6230 - lr: 2.0000e-05\n",
      "Epoch 53/75\n",
      "45/45 [==============================] - 1s 10ms/step - loss: 2.5991 - Categorical_Accuracy: 0.1476 - AUC: 0.6143 - val_loss: 2.6092 - val_Categorical_Accuracy: 0.1120 - val_AUC: 0.6242 - lr: 2.0000e-05\n",
      "Epoch 54/75\n",
      "45/45 [==============================] - 1s 10ms/step - loss: 2.6053 - Categorical_Accuracy: 0.1298 - AUC: 0.6113 - val_loss: 2.6099 - val_Categorical_Accuracy: 0.1100 - val_AUC: 0.6307 - lr: 2.0000e-05\n",
      "Epoch 55/75\n",
      "45/45 [==============================] - 1s 10ms/step - loss: 2.5956 - Categorical_Accuracy: 0.1440 - AUC: 0.6146 - val_loss: 2.6050 - val_Categorical_Accuracy: 0.1120 - val_AUC: 0.6275 - lr: 2.0000e-05\n",
      "Epoch 56/75\n",
      "45/45 [==============================] - 1s 10ms/step - loss: 2.5858 - Categorical_Accuracy: 0.1449 - AUC: 0.6289 - val_loss: 2.6029 - val_Categorical_Accuracy: 0.1200 - val_AUC: 0.6269 - lr: 2.0000e-05\n",
      "Epoch 57/75\n",
      "45/45 [==============================] - 1s 10ms/step - loss: 2.5878 - Categorical_Accuracy: 0.1369 - AUC: 0.6207 - val_loss: 2.5990 - val_Categorical_Accuracy: 0.1160 - val_AUC: 0.6303 - lr: 2.0000e-05\n",
      "Epoch 58/75\n",
      "45/45 [==============================] - 1s 10ms/step - loss: 2.5802 - Categorical_Accuracy: 0.1502 - AUC: 0.6217 - val_loss: 2.5997 - val_Categorical_Accuracy: 0.1320 - val_AUC: 0.6317 - lr: 2.0000e-05\n",
      "Epoch 59/75\n",
      "45/45 [==============================] - 1s 10ms/step - loss: 2.5855 - Categorical_Accuracy: 0.1529 - AUC: 0.6271 - val_loss: 2.5955 - val_Categorical_Accuracy: 0.1280 - val_AUC: 0.6388 - lr: 2.0000e-05\n",
      "Epoch 60/75\n",
      "45/45 [==============================] - 1s 10ms/step - loss: 2.5783 - Categorical_Accuracy: 0.1422 - AUC: 0.6283 - val_loss: 2.5917 - val_Categorical_Accuracy: 0.1280 - val_AUC: 0.6424 - lr: 2.0000e-05\n",
      "Epoch 61/75\n",
      "45/45 [==============================] - 1s 10ms/step - loss: 2.5649 - Categorical_Accuracy: 0.1520 - AUC: 0.6409 - val_loss: 2.5893 - val_Categorical_Accuracy: 0.1140 - val_AUC: 0.6396 - lr: 2.0000e-05\n",
      "Epoch 62/75\n",
      "45/45 [==============================] - 1s 10ms/step - loss: 2.5610 - Categorical_Accuracy: 0.1564 - AUC: 0.6352 - val_loss: 2.5812 - val_Categorical_Accuracy: 0.1280 - val_AUC: 0.6441 - lr: 2.0000e-05\n",
      "Epoch 63/75\n",
      "45/45 [==============================] - 1s 9ms/step - loss: 2.5464 - Categorical_Accuracy: 0.1600 - AUC: 0.6442 - val_loss: 2.5794 - val_Categorical_Accuracy: 0.1360 - val_AUC: 0.6467 - lr: 2.0000e-05\n",
      "Epoch 64/75\n",
      "45/45 [==============================] - 1s 10ms/step - loss: 2.5537 - Categorical_Accuracy: 0.1511 - AUC: 0.6350 - val_loss: 2.5743 - val_Categorical_Accuracy: 0.1400 - val_AUC: 0.6576 - lr: 2.0000e-05\n",
      "Epoch 65/75\n",
      "45/45 [==============================] - 1s 10ms/step - loss: 2.5587 - Categorical_Accuracy: 0.1644 - AUC: 0.6350 - val_loss: 2.5707 - val_Categorical_Accuracy: 0.1380 - val_AUC: 0.6572 - lr: 2.0000e-05\n",
      "Epoch 66/75\n",
      "45/45 [==============================] - 1s 10ms/step - loss: 2.5367 - Categorical_Accuracy: 0.1653 - AUC: 0.6478 - val_loss: 2.5641 - val_Categorical_Accuracy: 0.1300 - val_AUC: 0.6524 - lr: 2.0000e-05\n",
      "Epoch 67/75\n",
      "45/45 [==============================] - 1s 10ms/step - loss: 2.5312 - Categorical_Accuracy: 0.1653 - AUC: 0.6529 - val_loss: 2.5592 - val_Categorical_Accuracy: 0.1440 - val_AUC: 0.6625 - lr: 2.0000e-05\n",
      "Epoch 68/75\n",
      "45/45 [==============================] - 1s 10ms/step - loss: 2.5459 - Categorical_Accuracy: 0.1582 - AUC: 0.6456 - val_loss: 2.5571 - val_Categorical_Accuracy: 0.1360 - val_AUC: 0.6601 - lr: 2.0000e-05\n",
      "Epoch 69/75\n",
      "45/45 [==============================] - 1s 10ms/step - loss: 2.5360 - Categorical_Accuracy: 0.1653 - AUC: 0.6457 - val_loss: 2.5508 - val_Categorical_Accuracy: 0.1440 - val_AUC: 0.6684 - lr: 2.0000e-05\n",
      "Epoch 70/75\n",
      "45/45 [==============================] - 1s 10ms/step - loss: 2.5280 - Categorical_Accuracy: 0.1573 - AUC: 0.6534 - val_loss: 2.5481 - val_Categorical_Accuracy: 0.1360 - val_AUC: 0.6679 - lr: 2.0000e-05\n",
      "Epoch 71/75\n",
      "45/45 [==============================] - 1s 10ms/step - loss: 2.5368 - Categorical_Accuracy: 0.1644 - AUC: 0.6464 - val_loss: 2.5432 - val_Categorical_Accuracy: 0.1420 - val_AUC: 0.6720 - lr: 2.0000e-05\n",
      "Epoch 72/75\n",
      "45/45 [==============================] - 1s 10ms/step - loss: 2.5143 - Categorical_Accuracy: 0.1707 - AUC: 0.6620 - val_loss: 2.5362 - val_Categorical_Accuracy: 0.1460 - val_AUC: 0.6700 - lr: 2.0000e-05\n",
      "Epoch 73/75\n",
      "45/45 [==============================] - 1s 10ms/step - loss: 2.4971 - Categorical_Accuracy: 0.1769 - AUC: 0.6691 - val_loss: 2.5268 - val_Categorical_Accuracy: 0.1540 - val_AUC: 0.6781 - lr: 2.0000e-05\n",
      "Epoch 74/75\n",
      "45/45 [==============================] - 1s 10ms/step - loss: 2.5287 - Categorical_Accuracy: 0.1662 - AUC: 0.6490 - val_loss: 2.5295 - val_Categorical_Accuracy: 0.1720 - val_AUC: 0.6916 - lr: 2.0000e-05\n",
      "Epoch 75/75\n",
      "45/45 [==============================] - 1s 10ms/step - loss: 2.5011 - Categorical_Accuracy: 0.1769 - AUC: 0.6633 - val_loss: 2.5196 - val_Categorical_Accuracy: 0.1480 - val_AUC: 0.6833 - lr: 2.0000e-05\n"
     ]
    }
   ]
  },
  {
   "cell_type": "code",
   "metadata": {
    "id": "lZ-Sded68uYj",
    "executionInfo": {
     "status": "ok",
     "timestamp": 1638885438089,
     "user_tz": 300,
     "elapsed": 15,
     "user": {
      "displayName": "Andrew Ning",
      "photoUrl": "https://lh3.googleusercontent.com/a-/AOh14GgyUiXynCeybWnGTpfHnOSTarAoJjvj-8rK8oxkzQ=s64",
      "userId": "04097743773373129918"
     }
    }
   },
   "source": [
    "# print(modelFullEN.layers[-2].weights)"
   ],
   "execution_count": 102,
   "outputs": []
  },
  {
   "cell_type": "code",
   "metadata": {
    "colab": {
     "base_uri": "https://localhost:8080/",
     "height": 1000
    },
    "id": "2HmPZNeX2kra",
    "executionInfo": {
     "status": "ok",
     "timestamp": 1638885439439,
     "user_tz": 300,
     "elapsed": 1363,
     "user": {
      "displayName": "Andrew Ning",
      "photoUrl": "https://lh3.googleusercontent.com/a-/AOh14GgyUiXynCeybWnGTpfHnOSTarAoJjvj-8rK8oxkzQ=s64",
      "userId": "04097743773373129918"
     }
    },
    "outputId": "59c1d622-3d64-4664-c387-a70f3f1c7104"
   },
   "source": [
    "modelFullES = tf.keras.Model(\n",
    "    inputs=[inputES],\n",
    "    outputs=[layersES],\n",
    "    name='Full_Model_ES'\n",
    ")\n",
    "\n",
    "modelFullES.summary(expand_nested=True)\n",
    "tf.keras.utils.plot_model(modelFullES, expand_nested=True)"
   ],
   "execution_count": 103,
   "outputs": [
    {
     "output_type": "stream",
     "name": "stdout",
     "text": [
      "Model: \"Full_Model_ES\"\n",
      "_________________________________________________________________\n",
      " Layer (type)                Output Shape              Param #   \n",
      "=================================================================\n",
      " ES_Input (InputLayer)       [(None, 188, 100, 1)]     0         \n",
      "                                                                 \n",
      " Shared_Layers (Sequential)  (None, 10, 5, 128)        127744    \n",
      "|¯¯¯¯¯¯¯¯¯¯¯¯¯¯¯¯¯¯¯¯¯¯¯¯¯¯¯¯¯¯¯¯¯¯¯¯¯¯¯¯¯¯¯¯¯¯¯¯¯¯¯¯¯¯¯¯¯¯¯¯¯¯¯|\n",
      "| Shared_Conv2D1 (Conv2D)   (None, 94, 50, 32)        2624      |\n",
      "|                                                               |\n",
      "| Shared_MaxPool2D1 (MaxPooli  (None, 46, 24, 32)     0         |\n",
      "| ng2D)                                                         |\n",
      "|                                                               |\n",
      "| Shared_Conv2D2 (Conv2D)   (None, 46, 24, 64)        51264     |\n",
      "|                                                               |\n",
      "| Shared_MaxPool2D2 (MaxPooli  (None, 22, 11, 64)     0         |\n",
      "| ng2D)                                                         |\n",
      "|                                                               |\n",
      "| Shared_Conv2D3 (Conv2D)   (None, 22, 11, 128)       73856     |\n",
      "|                                                               |\n",
      "| Shared_MaxPool2D3 (MaxPooli  (None, 10, 5, 128)     0         |\n",
      "| ng2D)                                                         |\n",
      "¯¯¯¯¯¯¯¯¯¯¯¯¯¯¯¯¯¯¯¯¯¯¯¯¯¯¯¯¯¯¯¯¯¯¯¯¯¯¯¯¯¯¯¯¯¯¯¯¯¯¯¯¯¯¯¯¯¯¯¯¯¯¯¯¯\n",
      " ES (Sequential)             (None, 14)                329870    \n",
      "|¯¯¯¯¯¯¯¯¯¯¯¯¯¯¯¯¯¯¯¯¯¯¯¯¯¯¯¯¯¯¯¯¯¯¯¯¯¯¯¯¯¯¯¯¯¯¯¯¯¯¯¯¯¯¯¯¯¯¯¯¯¯¯|\n",
      "| ES_Conv2D1 (Conv2D)       (None, 10, 5, 128)        147584    |\n",
      "|                                                               |\n",
      "| ES_MaxPool2D1 (MaxPooling2D  (None, 5, 2, 128)      0         |\n",
      "| )                                                             |\n",
      "|                                                               |\n",
      "| flatten_9 (Flatten)       (None, 1280)              0         |\n",
      "|                                                               |\n",
      "| dropout_27 (Dropout)      (None, 1280)              0         |\n",
      "|                                                               |\n",
      "| ES_DenseLayer1 (Dense)    (None, 128)               163968    |\n",
      "|                                                               |\n",
      "| dropout_28 (Dropout)      (None, 128)               0         |\n",
      "|                                                               |\n",
      "| ES_DenseLayer2 (Dense)    (None, 128)               16512     |\n",
      "|                                                               |\n",
      "| dropout_29 (Dropout)      (None, 128)               0         |\n",
      "|                                                               |\n",
      "| ES_Output (Dense)         (None, 14)                1806      |\n",
      "¯¯¯¯¯¯¯¯¯¯¯¯¯¯¯¯¯¯¯¯¯¯¯¯¯¯¯¯¯¯¯¯¯¯¯¯¯¯¯¯¯¯¯¯¯¯¯¯¯¯¯¯¯¯¯¯¯¯¯¯¯¯¯¯¯\n",
      "=================================================================\n",
      "Total params: 457,614\n",
      "Trainable params: 457,614\n",
      "Non-trainable params: 0\n",
      "_________________________________________________________________\n"
     ]
    },
    {
     "output_type": "execute_result",
     "data": {
      "image/png": "[encoded data removed]",
      "text/plain": [
       "<IPython.core.display.Image object>"
      ]
     },
     "metadata": {},
     "execution_count": 103
    }
   ]
  },
  {
   "cell_type": "code",
   "metadata": {
    "id": "--RScZwz72Tj",
    "executionInfo": {
     "status": "ok",
     "timestamp": 1638885439440,
     "user_tz": 300,
     "elapsed": 9,
     "user": {
      "displayName": "Andrew Ning",
      "photoUrl": "https://lh3.googleusercontent.com/a-/AOh14GgyUiXynCeybWnGTpfHnOSTarAoJjvj-8rK8oxkzQ=s64",
      "userId": "04097743773373129918"
     }
    }
   },
   "source": [
    "modelFullES.compile(\n",
    "    optimizer = tf.keras.optimizers.Adam(learning_rate=LEARNING_RATE),\n",
    "    loss=[tf.keras.losses.CategoricalCrossentropy()],\n",
    "    metrics=[tf.keras.metrics.CategoricalAccuracy(name='Categorical_Accuracy'), tf.keras.metrics.AUC(name='AUC')]\n",
    ")"
   ],
   "execution_count": 104,
   "outputs": []
  },
  {
   "cell_type": "code",
   "metadata": {
    "id": "x21vkwAx-FW0",
    "executionInfo": {
     "status": "ok",
     "timestamp": 1638885439440,
     "user_tz": 300,
     "elapsed": 8,
     "user": {
      "displayName": "Andrew Ning",
      "photoUrl": "https://lh3.googleusercontent.com/a-/AOh14GgyUiXynCeybWnGTpfHnOSTarAoJjvj-8rK8oxkzQ=s64",
      "userId": "04097743773373129918"
     }
    }
   },
   "source": [
    "# print(modelFullES.layers[-2].weights)"
   ],
   "execution_count": 105,
   "outputs": []
  },
  {
   "cell_type": "code",
   "metadata": {
    "colab": {
     "base_uri": "https://localhost:8080/"
    },
    "id": "0JiecvKm17GJ",
    "executionInfo": {
     "status": "ok",
     "timestamp": 1638885485867,
     "user_tz": 300,
     "elapsed": 46435,
     "user": {
      "displayName": "Andrew Ning",
      "photoUrl": "https://lh3.googleusercontent.com/a-/AOh14GgyUiXynCeybWnGTpfHnOSTarAoJjvj-8rK8oxkzQ=s64",
      "userId": "04097743773373129918"
     }
    },
    "outputId": "6f331bc2-c9e6-4921-ed03-d1328afb92f9"
   },
   "source": [
    "ext = '-FULL-ES'\n",
    "training_callbackFULLES = callbacks.TensorBoard(log_dir=LOG_DIR + RUN + ext)\n",
    "\n",
    "historyES = modelFullES.fit(\n",
    "    x = traindatasetES,\n",
    "    validation_data = valdatasetES,\n",
    "    epochs=EPOCHS,\n",
    "    steps_per_epoch=STEPS_PER_EPOCH,\n",
    "    callbacks=[training_callbackFULLES,earlystopping_callback,reduce_lr_callback],\n",
    "    verbose=1\n",
    ")"
   ],
   "execution_count": 106,
   "outputs": [
    {
     "output_type": "stream",
     "name": "stdout",
     "text": [
      "Epoch 1/75\n",
      "45/45 [==============================] - 2s 24ms/step - loss: 2.4603 - Categorical_Accuracy: 0.0711 - AUC: 0.4998 - val_loss: 2.4463 - val_Categorical_Accuracy: 0.0580 - val_AUC: 0.5359 - lr: 1.0000e-04\n",
      "Epoch 2/75\n",
      "45/45 [==============================] - 0s 9ms/step - loss: 2.4311 - Categorical_Accuracy: 0.0853 - AUC: 0.5186 - val_loss: 2.4405 - val_Categorical_Accuracy: 0.0680 - val_AUC: 0.5420 - lr: 1.0000e-04\n",
      "Epoch 3/75\n",
      "45/45 [==============================] - 1s 9ms/step - loss: 2.4270 - Categorical_Accuracy: 0.0764 - AUC: 0.5312 - val_loss: 2.4343 - val_Categorical_Accuracy: 0.0640 - val_AUC: 0.5722 - lr: 1.0000e-04\n",
      "Epoch 4/75\n",
      "45/45 [==============================] - 1s 9ms/step - loss: 2.4224 - Categorical_Accuracy: 0.0800 - AUC: 0.5369 - val_loss: 2.4256 - val_Categorical_Accuracy: 0.1180 - val_AUC: 0.5821 - lr: 1.0000e-04\n",
      "Epoch 5/75\n",
      "45/45 [==============================] - 1s 9ms/step - loss: 2.4240 - Categorical_Accuracy: 0.0809 - AUC: 0.5340 - val_loss: 2.4255 - val_Categorical_Accuracy: 0.1180 - val_AUC: 0.5708 - lr: 1.0000e-04\n",
      "Epoch 6/75\n",
      "45/45 [==============================] - 1s 9ms/step - loss: 2.4034 - Categorical_Accuracy: 0.0853 - AUC: 0.5644 - val_loss: 2.4118 - val_Categorical_Accuracy: 0.1060 - val_AUC: 0.5848 - lr: 1.0000e-04\n",
      "Epoch 7/75\n",
      "45/45 [==============================] - 1s 10ms/step - loss: 2.4052 - Categorical_Accuracy: 0.0844 - AUC: 0.5583 - val_loss: 2.4125 - val_Categorical_Accuracy: 0.0940 - val_AUC: 0.5793 - lr: 1.0000e-04\n",
      "Epoch 8/75\n",
      "45/45 [==============================] - 1s 10ms/step - loss: 2.3970 - Categorical_Accuracy: 0.0898 - AUC: 0.5702 - val_loss: 2.4026 - val_Categorical_Accuracy: 0.1140 - val_AUC: 0.5928 - lr: 1.0000e-04\n",
      "Epoch 9/75\n",
      "45/45 [==============================] - 1s 10ms/step - loss: 2.4005 - Categorical_Accuracy: 0.0764 - AUC: 0.5606 - val_loss: 2.4052 - val_Categorical_Accuracy: 0.1120 - val_AUC: 0.5827 - lr: 1.0000e-04\n",
      "Epoch 10/75\n",
      "45/45 [==============================] - 1s 10ms/step - loss: 2.3863 - Categorical_Accuracy: 0.0924 - AUC: 0.5755 - val_loss: 2.3991 - val_Categorical_Accuracy: 0.0920 - val_AUC: 0.5861 - lr: 1.0000e-04\n",
      "Epoch 11/75\n",
      "45/45 [==============================] - 1s 10ms/step - loss: 2.3881 - Categorical_Accuracy: 0.0889 - AUC: 0.5741 - val_loss: 2.3972 - val_Categorical_Accuracy: 0.1400 - val_AUC: 0.6107 - lr: 1.0000e-04\n",
      "Epoch 12/75\n",
      "45/45 [==============================] - 1s 10ms/step - loss: 2.3880 - Categorical_Accuracy: 0.0916 - AUC: 0.5713 - val_loss: 2.3883 - val_Categorical_Accuracy: 0.1240 - val_AUC: 0.6222 - lr: 1.0000e-04\n",
      "Epoch 13/75\n",
      "45/45 [==============================] - 1s 10ms/step - loss: 2.3752 - Categorical_Accuracy: 0.1058 - AUC: 0.5882 - val_loss: 2.3718 - val_Categorical_Accuracy: 0.1460 - val_AUC: 0.6377 - lr: 1.0000e-04\n",
      "Epoch 14/75\n",
      "45/45 [==============================] - 1s 10ms/step - loss: 2.3672 - Categorical_Accuracy: 0.0987 - AUC: 0.5939 - val_loss: 2.3610 - val_Categorical_Accuracy: 0.1300 - val_AUC: 0.6534 - lr: 1.0000e-04\n",
      "Epoch 15/75\n",
      "45/45 [==============================] - 1s 10ms/step - loss: 2.3541 - Categorical_Accuracy: 0.1076 - AUC: 0.6103 - val_loss: 2.3324 - val_Categorical_Accuracy: 0.1740 - val_AUC: 0.6808 - lr: 1.0000e-04\n",
      "Epoch 16/75\n",
      "45/45 [==============================] - 1s 10ms/step - loss: 2.3257 - Categorical_Accuracy: 0.1378 - AUC: 0.6263 - val_loss: 2.3124 - val_Categorical_Accuracy: 0.1680 - val_AUC: 0.6769 - lr: 1.0000e-04\n",
      "Epoch 17/75\n",
      "45/45 [==============================] - 1s 10ms/step - loss: 2.3195 - Categorical_Accuracy: 0.1244 - AUC: 0.6338 - val_loss: 2.2878 - val_Categorical_Accuracy: 0.1680 - val_AUC: 0.6989 - lr: 1.0000e-04\n",
      "Epoch 18/75\n",
      "45/45 [==============================] - 1s 10ms/step - loss: 2.2756 - Categorical_Accuracy: 0.1387 - AUC: 0.6689 - val_loss: 2.2446 - val_Categorical_Accuracy: 0.1920 - val_AUC: 0.7261 - lr: 1.0000e-04\n",
      "Epoch 19/75\n",
      "45/45 [==============================] - 1s 10ms/step - loss: 2.2629 - Categorical_Accuracy: 0.1271 - AUC: 0.6740 - val_loss: 2.2126 - val_Categorical_Accuracy: 0.1920 - val_AUC: 0.7271 - lr: 1.0000e-04\n",
      "Epoch 20/75\n",
      "45/45 [==============================] - 1s 10ms/step - loss: 2.2247 - Categorical_Accuracy: 0.1484 - AUC: 0.6944 - val_loss: 2.1917 - val_Categorical_Accuracy: 0.2080 - val_AUC: 0.7521 - lr: 1.0000e-04\n",
      "Epoch 21/75\n",
      "45/45 [==============================] - 1s 10ms/step - loss: 2.1881 - Categorical_Accuracy: 0.1636 - AUC: 0.7126 - val_loss: 2.1455 - val_Categorical_Accuracy: 0.2040 - val_AUC: 0.7713 - lr: 1.0000e-04\n",
      "Epoch 22/75\n",
      "45/45 [==============================] - 1s 10ms/step - loss: 2.1457 - Categorical_Accuracy: 0.1707 - AUC: 0.7301 - val_loss: 2.1307 - val_Categorical_Accuracy: 0.2160 - val_AUC: 0.7630 - lr: 1.0000e-04\n",
      "Epoch 23/75\n",
      "45/45 [==============================] - 1s 10ms/step - loss: 2.1221 - Categorical_Accuracy: 0.1760 - AUC: 0.7448 - val_loss: 2.0695 - val_Categorical_Accuracy: 0.2240 - val_AUC: 0.7927 - lr: 1.0000e-04\n",
      "Epoch 24/75\n",
      "45/45 [==============================] - 1s 10ms/step - loss: 2.0974 - Categorical_Accuracy: 0.1653 - AUC: 0.7553 - val_loss: 2.0325 - val_Categorical_Accuracy: 0.2140 - val_AUC: 0.8009 - lr: 1.0000e-04\n",
      "Epoch 25/75\n",
      "45/45 [==============================] - 1s 10ms/step - loss: 2.0377 - Categorical_Accuracy: 0.2018 - AUC: 0.7736 - val_loss: 1.9915 - val_Categorical_Accuracy: 0.2540 - val_AUC: 0.8153 - lr: 1.0000e-04\n",
      "Epoch 26/75\n",
      "45/45 [==============================] - 1s 10ms/step - loss: 2.0023 - Categorical_Accuracy: 0.2240 - AUC: 0.7807 - val_loss: 1.9787 - val_Categorical_Accuracy: 0.2480 - val_AUC: 0.8189 - lr: 1.0000e-04\n",
      "Epoch 27/75\n",
      "45/45 [==============================] - 1s 10ms/step - loss: 1.9794 - Categorical_Accuracy: 0.2133 - AUC: 0.7938 - val_loss: 1.9168 - val_Categorical_Accuracy: 0.2640 - val_AUC: 0.8316 - lr: 1.0000e-04\n",
      "Epoch 28/75\n",
      "45/45 [==============================] - 1s 10ms/step - loss: 1.9658 - Categorical_Accuracy: 0.2107 - AUC: 0.7956 - val_loss: 1.8766 - val_Categorical_Accuracy: 0.2760 - val_AUC: 0.8459 - lr: 1.0000e-04\n",
      "Epoch 29/75\n",
      "45/45 [==============================] - 1s 9ms/step - loss: 1.9064 - Categorical_Accuracy: 0.2311 - AUC: 0.8116 - val_loss: 1.8310 - val_Categorical_Accuracy: 0.3120 - val_AUC: 0.8555 - lr: 1.0000e-04\n",
      "Epoch 30/75\n",
      "45/45 [==============================] - 1s 10ms/step - loss: 1.8628 - Categorical_Accuracy: 0.2640 - AUC: 0.8234 - val_loss: 1.8241 - val_Categorical_Accuracy: 0.2920 - val_AUC: 0.8485 - lr: 1.0000e-04\n",
      "Epoch 31/75\n",
      "45/45 [==============================] - 1s 10ms/step - loss: 1.8034 - Categorical_Accuracy: 0.2658 - AUC: 0.8359 - val_loss: 1.7316 - val_Categorical_Accuracy: 0.3140 - val_AUC: 0.8677 - lr: 1.0000e-04\n",
      "Epoch 32/75\n",
      "45/45 [==============================] - 1s 10ms/step - loss: 1.7830 - Categorical_Accuracy: 0.2649 - AUC: 0.8424 - val_loss: 1.6965 - val_Categorical_Accuracy: 0.3260 - val_AUC: 0.8752 - lr: 1.0000e-04\n",
      "Epoch 33/75\n",
      "45/45 [==============================] - 1s 10ms/step - loss: 1.7036 - Categorical_Accuracy: 0.2907 - AUC: 0.8602 - val_loss: 1.6279 - val_Categorical_Accuracy: 0.3520 - val_AUC: 0.8882 - lr: 1.0000e-04\n",
      "Epoch 34/75\n",
      "45/45 [==============================] - 1s 10ms/step - loss: 1.6911 - Categorical_Accuracy: 0.2889 - AUC: 0.8628 - val_loss: 1.6022 - val_Categorical_Accuracy: 0.3640 - val_AUC: 0.8898 - lr: 1.0000e-04\n",
      "Epoch 35/75\n",
      "45/45 [==============================] - 1s 10ms/step - loss: 1.6507 - Categorical_Accuracy: 0.3164 - AUC: 0.8679 - val_loss: 1.5912 - val_Categorical_Accuracy: 0.3160 - val_AUC: 0.8915 - lr: 1.0000e-04\n",
      "Epoch 36/75\n",
      "45/45 [==============================] - 1s 10ms/step - loss: 1.6283 - Categorical_Accuracy: 0.2987 - AUC: 0.8730 - val_loss: 1.5196 - val_Categorical_Accuracy: 0.3740 - val_AUC: 0.9043 - lr: 1.0000e-04\n",
      "Epoch 37/75\n",
      "45/45 [==============================] - 1s 10ms/step - loss: 1.5677 - Categorical_Accuracy: 0.3298 - AUC: 0.8848 - val_loss: 1.4751 - val_Categorical_Accuracy: 0.4100 - val_AUC: 0.9090 - lr: 1.0000e-04\n",
      "Epoch 38/75\n",
      "45/45 [==============================] - 1s 10ms/step - loss: 1.5155 - Categorical_Accuracy: 0.3413 - AUC: 0.8914 - val_loss: 1.4328 - val_Categorical_Accuracy: 0.4060 - val_AUC: 0.9146 - lr: 1.0000e-04\n",
      "Epoch 39/75\n",
      "45/45 [==============================] - 1s 10ms/step - loss: 1.4814 - Categorical_Accuracy: 0.3698 - AUC: 0.8960 - val_loss: 1.4039 - val_Categorical_Accuracy: 0.4380 - val_AUC: 0.9179 - lr: 1.0000e-04\n",
      "Epoch 40/75\n",
      "45/45 [==============================] - 1s 10ms/step - loss: 1.4596 - Categorical_Accuracy: 0.3778 - AUC: 0.9002 - val_loss: 1.3634 - val_Categorical_Accuracy: 0.4400 - val_AUC: 0.9242 - lr: 1.0000e-04\n",
      "Epoch 41/75\n",
      "45/45 [==============================] - 1s 10ms/step - loss: 1.4136 - Categorical_Accuracy: 0.3813 - AUC: 0.9058 - val_loss: 1.3637 - val_Categorical_Accuracy: 0.4280 - val_AUC: 0.9209 - lr: 1.0000e-04\n",
      "Epoch 42/75\n",
      "45/45 [==============================] - 1s 10ms/step - loss: 1.4076 - Categorical_Accuracy: 0.3876 - AUC: 0.9067 - val_loss: 1.3128 - val_Categorical_Accuracy: 0.4360 - val_AUC: 0.9300 - lr: 1.0000e-04\n",
      "Epoch 43/75\n",
      "45/45 [==============================] - 1s 10ms/step - loss: 1.4309 - Categorical_Accuracy: 0.3822 - AUC: 0.9041 - val_loss: 1.2841 - val_Categorical_Accuracy: 0.4620 - val_AUC: 0.9337 - lr: 1.0000e-04\n",
      "Epoch 44/75\n",
      "45/45 [==============================] - 1s 10ms/step - loss: 1.3445 - Categorical_Accuracy: 0.4062 - AUC: 0.9156 - val_loss: 1.2501 - val_Categorical_Accuracy: 0.4460 - val_AUC: 0.9353 - lr: 1.0000e-04\n",
      "Epoch 45/75\n",
      "45/45 [==============================] - 1s 10ms/step - loss: 1.2955 - Categorical_Accuracy: 0.4133 - AUC: 0.9227 - val_loss: 1.2214 - val_Categorical_Accuracy: 0.4740 - val_AUC: 0.9396 - lr: 1.0000e-04\n",
      "Epoch 46/75\n",
      "45/45 [==============================] - 1s 10ms/step - loss: 1.2338 - Categorical_Accuracy: 0.4631 - AUC: 0.9287 - val_loss: 1.2169 - val_Categorical_Accuracy: 0.4840 - val_AUC: 0.9371 - lr: 1.0000e-04\n",
      "Epoch 47/75\n",
      "45/45 [==============================] - 1s 10ms/step - loss: 1.2389 - Categorical_Accuracy: 0.4596 - AUC: 0.9282 - val_loss: 1.2496 - val_Categorical_Accuracy: 0.4460 - val_AUC: 0.9294 - lr: 1.0000e-04\n",
      "Epoch 48/75\n",
      "45/45 [==============================] - 1s 10ms/step - loss: 1.2421 - Categorical_Accuracy: 0.4453 - AUC: 0.9278 - val_loss: 1.1632 - val_Categorical_Accuracy: 0.5080 - val_AUC: 0.9445 - lr: 1.0000e-04\n",
      "Epoch 49/75\n",
      "45/45 [==============================] - 1s 10ms/step - loss: 1.1578 - Categorical_Accuracy: 0.4844 - AUC: 0.9385 - val_loss: 1.1114 - val_Categorical_Accuracy: 0.5100 - val_AUC: 0.9469 - lr: 1.0000e-04\n",
      "Epoch 50/75\n",
      "45/45 [==============================] - 1s 10ms/step - loss: 1.1594 - Categorical_Accuracy: 0.4720 - AUC: 0.9371 - val_loss: 1.1321 - val_Categorical_Accuracy: 0.4960 - val_AUC: 0.9448 - lr: 1.0000e-04\n",
      "Epoch 51/75\n",
      "45/45 [==============================] - 1s 10ms/step - loss: 1.1280 - Categorical_Accuracy: 0.4818 - AUC: 0.9404 - val_loss: 1.0589 - val_Categorical_Accuracy: 0.5320 - val_AUC: 0.9532 - lr: 1.0000e-04\n",
      "Epoch 52/75\n",
      "45/45 [==============================] - 1s 10ms/step - loss: 1.1430 - Categorical_Accuracy: 0.4933 - AUC: 0.9385 - val_loss: 1.0803 - val_Categorical_Accuracy: 0.5020 - val_AUC: 0.9513 - lr: 1.0000e-04\n",
      "Epoch 53/75\n",
      "45/45 [==============================] - 1s 10ms/step - loss: 1.0609 - Categorical_Accuracy: 0.5244 - AUC: 0.9470 - val_loss: 1.0177 - val_Categorical_Accuracy: 0.5280 - val_AUC: 0.9551 - lr: 1.0000e-04\n",
      "Epoch 54/75\n",
      "45/45 [==============================] - 1s 10ms/step - loss: 1.1028 - Categorical_Accuracy: 0.4933 - AUC: 0.9428 - val_loss: 1.0636 - val_Categorical_Accuracy: 0.5340 - val_AUC: 0.9497 - lr: 1.0000e-04\n",
      "Epoch 55/75\n",
      "45/45 [==============================] - 1s 10ms/step - loss: 1.0481 - Categorical_Accuracy: 0.5040 - AUC: 0.9492 - val_loss: 0.9772 - val_Categorical_Accuracy: 0.5460 - val_AUC: 0.9586 - lr: 1.0000e-04\n",
      "Epoch 56/75\n",
      "45/45 [==============================] - 1s 10ms/step - loss: 1.0619 - Categorical_Accuracy: 0.5120 - AUC: 0.9466 - val_loss: 0.9844 - val_Categorical_Accuracy: 0.5620 - val_AUC: 0.9583 - lr: 1.0000e-04\n",
      "Epoch 57/75\n",
      "45/45 [==============================] - 1s 10ms/step - loss: 1.0173 - Categorical_Accuracy: 0.5404 - AUC: 0.9513 - val_loss: 1.0041 - val_Categorical_Accuracy: 0.5320 - val_AUC: 0.9546 - lr: 1.0000e-04\n",
      "Epoch 58/75\n",
      "45/45 [==============================] - 1s 10ms/step - loss: 0.9713 - Categorical_Accuracy: 0.5440 - AUC: 0.9554 - val_loss: 0.9177 - val_Categorical_Accuracy: 0.5680 - val_AUC: 0.9630 - lr: 1.0000e-04\n",
      "Epoch 59/75\n",
      "45/45 [==============================] - 1s 10ms/step - loss: 0.9512 - Categorical_Accuracy: 0.5413 - AUC: 0.9570 - val_loss: 0.9170 - val_Categorical_Accuracy: 0.5720 - val_AUC: 0.9634 - lr: 1.0000e-04\n",
      "Epoch 60/75\n",
      "45/45 [==============================] - 1s 12ms/step - loss: 0.8989 - Categorical_Accuracy: 0.5778 - AUC: 0.9610 - val_loss: 0.8867 - val_Categorical_Accuracy: 0.5800 - val_AUC: 0.9643 - lr: 1.0000e-04\n",
      "Epoch 61/75\n",
      "45/45 [==============================] - 0s 10ms/step - loss: 0.9067 - Categorical_Accuracy: 0.5671 - AUC: 0.9597 - val_loss: 0.9129 - val_Categorical_Accuracy: 0.5700 - val_AUC: 0.9612 - lr: 1.0000e-04\n",
      "Epoch 62/75\n",
      "45/45 [==============================] - 1s 10ms/step - loss: 0.8798 - Categorical_Accuracy: 0.5778 - AUC: 0.9624 - val_loss: 0.8545 - val_Categorical_Accuracy: 0.6160 - val_AUC: 0.9668 - lr: 1.0000e-04\n",
      "Epoch 63/75\n",
      "45/45 [==============================] - 1s 10ms/step - loss: 0.8542 - Categorical_Accuracy: 0.5938 - AUC: 0.9641 - val_loss: 0.8862 - val_Categorical_Accuracy: 0.5760 - val_AUC: 0.9631 - lr: 1.0000e-04\n",
      "Epoch 64/75\n",
      "45/45 [==============================] - 1s 9ms/step - loss: 0.9135 - Categorical_Accuracy: 0.5760 - AUC: 0.9582 - val_loss: 0.8367 - val_Categorical_Accuracy: 0.5920 - val_AUC: 0.9671 - lr: 1.0000e-04\n",
      "Epoch 65/75\n",
      "45/45 [==============================] - 1s 10ms/step - loss: 0.8611 - Categorical_Accuracy: 0.5813 - AUC: 0.9627 - val_loss: 0.9287 - val_Categorical_Accuracy: 0.5640 - val_AUC: 0.9587 - lr: 1.0000e-04\n",
      "Epoch 66/75\n",
      "45/45 [==============================] - 1s 10ms/step - loss: 0.8706 - Categorical_Accuracy: 0.5893 - AUC: 0.9610 - val_loss: 0.8810 - val_Categorical_Accuracy: 0.5860 - val_AUC: 0.9625 - lr: 1.0000e-04\n",
      "Epoch 67/75\n",
      "45/45 [==============================] - 1s 10ms/step - loss: 0.8823 - Categorical_Accuracy: 0.5991 - AUC: 0.9607 - val_loss: 0.8288 - val_Categorical_Accuracy: 0.6080 - val_AUC: 0.9662 - lr: 1.0000e-04\n",
      "Epoch 68/75\n",
      "45/45 [==============================] - 1s 10ms/step - loss: 0.8908 - Categorical_Accuracy: 0.5956 - AUC: 0.9595 - val_loss: 0.8862 - val_Categorical_Accuracy: 0.5660 - val_AUC: 0.9619 - lr: 1.0000e-04\n",
      "Epoch 69/75\n",
      "45/45 [==============================] - 1s 10ms/step - loss: 0.9269 - Categorical_Accuracy: 0.5751 - AUC: 0.9555 - val_loss: 0.8749 - val_Categorical_Accuracy: 0.5940 - val_AUC: 0.9622 - lr: 1.0000e-04\n",
      "Epoch 70/75\n",
      "45/45 [==============================] - 1s 10ms/step - loss: 0.8680 - Categorical_Accuracy: 0.6196 - AUC: 0.9618 - val_loss: 0.8151 - val_Categorical_Accuracy: 0.5980 - val_AUC: 0.9661 - lr: 1.0000e-04\n",
      "Epoch 71/75\n",
      "45/45 [==============================] - 1s 10ms/step - loss: 0.9277 - Categorical_Accuracy: 0.5920 - AUC: 0.9561 - val_loss: 0.8097 - val_Categorical_Accuracy: 0.6020 - val_AUC: 0.9673 - lr: 1.0000e-04\n",
      "Epoch 72/75\n",
      "45/45 [==============================] - 1s 10ms/step - loss: 1.0911 - Categorical_Accuracy: 0.5724 - AUC: 0.9418 - val_loss: 0.7979 - val_Categorical_Accuracy: 0.6140 - val_AUC: 0.9687 - lr: 1.0000e-04\n",
      "Epoch 73/75\n",
      "45/45 [==============================] - 1s 10ms/step - loss: 1.0205 - Categorical_Accuracy: 0.6009 - AUC: 0.9482 - val_loss: 0.9953 - val_Categorical_Accuracy: 0.5960 - val_AUC: 0.9512 - lr: 1.0000e-04\n",
      "Epoch 74/75\n",
      "45/45 [==============================] - 1s 10ms/step - loss: 1.3152 - Categorical_Accuracy: 0.5422 - AUC: 0.9293 - val_loss: 1.0218 - val_Categorical_Accuracy: 0.5500 - val_AUC: 0.9509 - lr: 1.0000e-04\n",
      "Epoch 75/75\n",
      "42/45 [===========================>..] - ETA: 0s - loss: 1.3865 - Categorical_Accuracy: 0.5676 - AUC: 0.9240\n",
      "Epoch 00075: ReduceLROnPlateau reducing learning rate to 1.9999999494757503e-05.\n",
      "45/45 [==============================] - 1s 10ms/step - loss: 1.3708 - Categorical_Accuracy: 0.5680 - AUC: 0.9237 - val_loss: 1.2203 - val_Categorical_Accuracy: 0.5520 - val_AUC: 0.9361 - lr: 1.0000e-04\n"
     ]
    }
   ]
  },
  {
   "cell_type": "code",
   "metadata": {
    "colab": {
     "base_uri": "https://localhost:8080/",
     "height": 1000
    },
    "id": "PA2TwszW-exb",
    "executionInfo": {
     "status": "ok",
     "timestamp": 1638885486908,
     "user_tz": 300,
     "elapsed": 1052,
     "user": {
      "displayName": "Andrew Ning",
      "photoUrl": "https://lh3.googleusercontent.com/a-/AOh14GgyUiXynCeybWnGTpfHnOSTarAoJjvj-8rK8oxkzQ=s64",
      "userId": "04097743773373129918"
     }
    },
    "outputId": "b83fddc7-9025-4eec-bb84-a418ecc7cdd2"
   },
   "source": [
    "modelFullFR = tf.keras.Model(\n",
    "    inputs=[inputFR],\n",
    "    outputs=[layersFR],\n",
    "    name='Full_Model_FR'\n",
    ")\n",
    "\n",
    "modelFullFR.summary(expand_nested=True)\n",
    "tf.keras.utils.plot_model(modelFullFR, expand_nested=True)"
   ],
   "execution_count": 107,
   "outputs": [
    {
     "output_type": "stream",
     "name": "stdout",
     "text": [
      "Model: \"Full_Model_FR\"\n",
      "_________________________________________________________________\n",
      " Layer (type)                Output Shape              Param #   \n",
      "=================================================================\n",
      " FR_Input (InputLayer)       [(None, 188, 100, 1)]     0         \n",
      "                                                                 \n",
      " Shared_Layers (Sequential)  (None, 10, 5, 128)        127744    \n",
      "|¯¯¯¯¯¯¯¯¯¯¯¯¯¯¯¯¯¯¯¯¯¯¯¯¯¯¯¯¯¯¯¯¯¯¯¯¯¯¯¯¯¯¯¯¯¯¯¯¯¯¯¯¯¯¯¯¯¯¯¯¯¯¯|\n",
      "| Shared_Conv2D1 (Conv2D)   (None, 94, 50, 32)        2624      |\n",
      "|                                                               |\n",
      "| Shared_MaxPool2D1 (MaxPooli  (None, 46, 24, 32)     0         |\n",
      "| ng2D)                                                         |\n",
      "|                                                               |\n",
      "| Shared_Conv2D2 (Conv2D)   (None, 46, 24, 64)        51264     |\n",
      "|                                                               |\n",
      "| Shared_MaxPool2D2 (MaxPooli  (None, 22, 11, 64)     0         |\n",
      "| ng2D)                                                         |\n",
      "|                                                               |\n",
      "| Shared_Conv2D3 (Conv2D)   (None, 22, 11, 128)       73856     |\n",
      "|                                                               |\n",
      "| Shared_MaxPool2D3 (MaxPooli  (None, 10, 5, 128)     0         |\n",
      "| ng2D)                                                         |\n",
      "¯¯¯¯¯¯¯¯¯¯¯¯¯¯¯¯¯¯¯¯¯¯¯¯¯¯¯¯¯¯¯¯¯¯¯¯¯¯¯¯¯¯¯¯¯¯¯¯¯¯¯¯¯¯¯¯¯¯¯¯¯¯¯¯¯\n",
      " FR (Sequential)             (None, 15)                329999    \n",
      "|¯¯¯¯¯¯¯¯¯¯¯¯¯¯¯¯¯¯¯¯¯¯¯¯¯¯¯¯¯¯¯¯¯¯¯¯¯¯¯¯¯¯¯¯¯¯¯¯¯¯¯¯¯¯¯¯¯¯¯¯¯¯¯|\n",
      "| FR_Conv2D1 (Conv2D)       (None, 10, 5, 128)        147584    |\n",
      "|                                                               |\n",
      "| FR_MaxPool2D1 (MaxPooling2D  (None, 5, 2, 128)      0         |\n",
      "| )                                                             |\n",
      "|                                                               |\n",
      "| flatten_10 (Flatten)      (None, 1280)              0         |\n",
      "|                                                               |\n",
      "| dropout_30 (Dropout)      (None, 1280)              0         |\n",
      "|                                                               |\n",
      "| FR_DenseLayer1 (Dense)    (None, 128)               163968    |\n",
      "|                                                               |\n",
      "| dropout_31 (Dropout)      (None, 128)               0         |\n",
      "|                                                               |\n",
      "| FR_DenseLayer2 (Dense)    (None, 128)               16512     |\n",
      "|                                                               |\n",
      "| dropout_32 (Dropout)      (None, 128)               0         |\n",
      "|                                                               |\n",
      "| FR_Output (Dense)         (None, 15)                1935      |\n",
      "¯¯¯¯¯¯¯¯¯¯¯¯¯¯¯¯¯¯¯¯¯¯¯¯¯¯¯¯¯¯¯¯¯¯¯¯¯¯¯¯¯¯¯¯¯¯¯¯¯¯¯¯¯¯¯¯¯¯¯¯¯¯¯¯¯\n",
      "=================================================================\n",
      "Total params: 457,743\n",
      "Trainable params: 457,743\n",
      "Non-trainable params: 0\n",
      "_________________________________________________________________\n"
     ]
    },
    {
     "output_type": "execute_result",
     "data": {
      "image/png": "[encoded data removed]",
      "text/plain": [
       "<IPython.core.display.Image object>"
      ]
     },
     "metadata": {},
     "execution_count": 107
    }
   ]
  },
  {
   "cell_type": "code",
   "metadata": {
    "id": "fKLqVeH5_FrM",
    "executionInfo": {
     "status": "ok",
     "timestamp": 1638885486909,
     "user_tz": 300,
     "elapsed": 13,
     "user": {
      "displayName": "Andrew Ning",
      "photoUrl": "https://lh3.googleusercontent.com/a-/AOh14GgyUiXynCeybWnGTpfHnOSTarAoJjvj-8rK8oxkzQ=s64",
      "userId": "04097743773373129918"
     }
    }
   },
   "source": [
    "modelFullFR.compile(\n",
    "    optimizer = tf.keras.optimizers.Adam(learning_rate=LEARNING_RATE),\n",
    "    loss=[tf.keras.losses.CategoricalCrossentropy()],\n",
    "    metrics=[tf.keras.metrics.CategoricalAccuracy(name='Categorical_Accuracy'), tf.keras.metrics.AUC(name='AUC')]\n",
    ")"
   ],
   "execution_count": 108,
   "outputs": []
  },
  {
   "cell_type": "code",
   "metadata": {
    "colab": {
     "base_uri": "https://localhost:8080/"
    },
    "id": "hOoKTX0a_INU",
    "executionInfo": {
     "status": "ok",
     "timestamp": 1638885533328,
     "user_tz": 300,
     "elapsed": 46431,
     "user": {
      "displayName": "Andrew Ning",
      "photoUrl": "https://lh3.googleusercontent.com/a-/AOh14GgyUiXynCeybWnGTpfHnOSTarAoJjvj-8rK8oxkzQ=s64",
      "userId": "04097743773373129918"
     }
    },
    "outputId": "34923474-61c4-482c-c598-3f2659265d12"
   },
   "source": [
    "ext = '-FULL-FR'\n",
    "training_callbackFULLFR = callbacks.TensorBoard(log_dir=LOG_DIR + RUN + ext)\n",
    "\n",
    "historyFR = modelFullFR.fit(\n",
    "    x = traindatasetFR,\n",
    "    validation_data = valdatasetFR,\n",
    "    epochs=EPOCHS,\n",
    "    steps_per_epoch=STEPS_PER_EPOCH,\n",
    "    callbacks=[training_callbackFULLFR,earlystopping_callback,reduce_lr_callback],\n",
    "    verbose=1\n",
    ")"
   ],
   "execution_count": 109,
   "outputs": [
    {
     "output_type": "stream",
     "name": "stdout",
     "text": [
      "Epoch 1/75\n",
      "45/45 [==============================] - 2s 24ms/step - loss: 2.8405 - Categorical_Accuracy: 0.0720 - AUC: 0.5113 - val_loss: 2.6734 - val_Categorical_Accuracy: 0.1380 - val_AUC: 0.6111 - lr: 1.0000e-04\n",
      "Epoch 2/75\n",
      "45/45 [==============================] - 0s 9ms/step - loss: 2.6856 - Categorical_Accuracy: 0.0916 - AUC: 0.5638 - val_loss: 2.6495 - val_Categorical_Accuracy: 0.1500 - val_AUC: 0.6738 - lr: 1.0000e-04\n",
      "Epoch 3/75\n",
      "45/45 [==============================] - 1s 9ms/step - loss: 2.6429 - Categorical_Accuracy: 0.1173 - AUC: 0.6013 - val_loss: 2.6015 - val_Categorical_Accuracy: 0.1900 - val_AUC: 0.7105 - lr: 1.0000e-04\n",
      "Epoch 4/75\n",
      "45/45 [==============================] - 1s 9ms/step - loss: 2.6208 - Categorical_Accuracy: 0.1271 - AUC: 0.6161 - val_loss: 2.5692 - val_Categorical_Accuracy: 0.2120 - val_AUC: 0.7490 - lr: 1.0000e-04\n",
      "Epoch 5/75\n",
      "45/45 [==============================] - 1s 9ms/step - loss: 2.5738 - Categorical_Accuracy: 0.1413 - AUC: 0.6444 - val_loss: 2.4988 - val_Categorical_Accuracy: 0.2420 - val_AUC: 0.7721 - lr: 1.0000e-04\n",
      "Epoch 6/75\n",
      "45/45 [==============================] - 1s 9ms/step - loss: 2.5362 - Categorical_Accuracy: 0.1449 - AUC: 0.6620 - val_loss: 2.4413 - val_Categorical_Accuracy: 0.2320 - val_AUC: 0.7887 - lr: 1.0000e-04\n",
      "Epoch 7/75\n",
      "45/45 [==============================] - 1s 9ms/step - loss: 2.4457 - Categorical_Accuracy: 0.1769 - AUC: 0.7069 - val_loss: 2.3834 - val_Categorical_Accuracy: 0.2440 - val_AUC: 0.7970 - lr: 1.0000e-04\n",
      "Epoch 8/75\n",
      "45/45 [==============================] - 1s 10ms/step - loss: 2.4013 - Categorical_Accuracy: 0.1911 - AUC: 0.7252 - val_loss: 2.3157 - val_Categorical_Accuracy: 0.3020 - val_AUC: 0.8293 - lr: 1.0000e-04\n",
      "Epoch 9/75\n",
      "45/45 [==============================] - 1s 9ms/step - loss: 2.3747 - Categorical_Accuracy: 0.2009 - AUC: 0.7412 - val_loss: 2.2515 - val_Categorical_Accuracy: 0.3060 - val_AUC: 0.8414 - lr: 1.0000e-04\n",
      "Epoch 10/75\n",
      "45/45 [==============================] - 1s 10ms/step - loss: 2.3059 - Categorical_Accuracy: 0.2187 - AUC: 0.7597 - val_loss: 2.1803 - val_Categorical_Accuracy: 0.2800 - val_AUC: 0.8494 - lr: 1.0000e-04\n",
      "Epoch 11/75\n",
      "45/45 [==============================] - 1s 10ms/step - loss: 2.2187 - Categorical_Accuracy: 0.2373 - AUC: 0.7933 - val_loss: 2.1021 - val_Categorical_Accuracy: 0.3360 - val_AUC: 0.8643 - lr: 1.0000e-04\n",
      "Epoch 12/75\n",
      "45/45 [==============================] - 1s 10ms/step - loss: 2.1882 - Categorical_Accuracy: 0.2507 - AUC: 0.7941 - val_loss: 2.0156 - val_Categorical_Accuracy: 0.3660 - val_AUC: 0.8771 - lr: 1.0000e-04\n",
      "Epoch 13/75\n",
      "45/45 [==============================] - 1s 10ms/step - loss: 2.1261 - Categorical_Accuracy: 0.2702 - AUC: 0.8099 - val_loss: 1.9593 - val_Categorical_Accuracy: 0.3860 - val_AUC: 0.8835 - lr: 1.0000e-04\n",
      "Epoch 14/75\n",
      "45/45 [==============================] - 1s 10ms/step - loss: 2.0725 - Categorical_Accuracy: 0.2782 - AUC: 0.8228 - val_loss: 1.9073 - val_Categorical_Accuracy: 0.4180 - val_AUC: 0.8906 - lr: 1.0000e-04\n",
      "Epoch 15/75\n",
      "45/45 [==============================] - 1s 10ms/step - loss: 2.0198 - Categorical_Accuracy: 0.2809 - AUC: 0.8360 - val_loss: 1.8582 - val_Categorical_Accuracy: 0.4160 - val_AUC: 0.8978 - lr: 1.0000e-04\n",
      "Epoch 16/75\n",
      "45/45 [==============================] - 1s 10ms/step - loss: 2.0092 - Categorical_Accuracy: 0.3076 - AUC: 0.8376 - val_loss: 1.8271 - val_Categorical_Accuracy: 0.4360 - val_AUC: 0.9005 - lr: 1.0000e-04\n",
      "Epoch 17/75\n",
      "45/45 [==============================] - 1s 10ms/step - loss: 1.9194 - Categorical_Accuracy: 0.3378 - AUC: 0.8575 - val_loss: 1.7376 - val_Categorical_Accuracy: 0.4620 - val_AUC: 0.9082 - lr: 1.0000e-04\n",
      "Epoch 18/75\n",
      "45/45 [==============================] - 1s 10ms/step - loss: 1.8455 - Categorical_Accuracy: 0.3476 - AUC: 0.8698 - val_loss: 1.6949 - val_Categorical_Accuracy: 0.4540 - val_AUC: 0.9107 - lr: 1.0000e-04\n",
      "Epoch 19/75\n",
      "45/45 [==============================] - 1s 10ms/step - loss: 1.8493 - Categorical_Accuracy: 0.3440 - AUC: 0.8691 - val_loss: 1.6718 - val_Categorical_Accuracy: 0.4520 - val_AUC: 0.9145 - lr: 1.0000e-04\n",
      "Epoch 20/75\n",
      "45/45 [==============================] - 1s 10ms/step - loss: 1.7728 - Categorical_Accuracy: 0.3760 - AUC: 0.8813 - val_loss: 1.5966 - val_Categorical_Accuracy: 0.5200 - val_AUC: 0.9223 - lr: 1.0000e-04\n",
      "Epoch 21/75\n",
      "45/45 [==============================] - 1s 10ms/step - loss: 1.7296 - Categorical_Accuracy: 0.3858 - AUC: 0.8913 - val_loss: 1.5934 - val_Categorical_Accuracy: 0.4900 - val_AUC: 0.9235 - lr: 1.0000e-04\n",
      "Epoch 22/75\n",
      "45/45 [==============================] - 1s 10ms/step - loss: 1.6843 - Categorical_Accuracy: 0.4018 - AUC: 0.8975 - val_loss: 1.5108 - val_Categorical_Accuracy: 0.5640 - val_AUC: 0.9312 - lr: 1.0000e-04\n",
      "Epoch 23/75\n",
      "45/45 [==============================] - 1s 10ms/step - loss: 1.6392 - Categorical_Accuracy: 0.4213 - AUC: 0.9019 - val_loss: 1.4482 - val_Categorical_Accuracy: 0.5740 - val_AUC: 0.9364 - lr: 1.0000e-04\n",
      "Epoch 24/75\n",
      "45/45 [==============================] - 1s 10ms/step - loss: 1.5152 - Categorical_Accuracy: 0.4631 - AUC: 0.9185 - val_loss: 1.4196 - val_Categorical_Accuracy: 0.5580 - val_AUC: 0.9368 - lr: 1.0000e-04\n",
      "Epoch 25/75\n",
      "45/45 [==============================] - 1s 10ms/step - loss: 1.5185 - Categorical_Accuracy: 0.4684 - AUC: 0.9170 - val_loss: 1.3660 - val_Categorical_Accuracy: 0.6040 - val_AUC: 0.9411 - lr: 1.0000e-04\n",
      "Epoch 26/75\n",
      "45/45 [==============================] - 1s 10ms/step - loss: 1.4294 - Categorical_Accuracy: 0.4809 - AUC: 0.9284 - val_loss: 1.3322 - val_Categorical_Accuracy: 0.6080 - val_AUC: 0.9422 - lr: 1.0000e-04\n",
      "Epoch 27/75\n",
      "45/45 [==============================] - 1s 10ms/step - loss: 1.4639 - Categorical_Accuracy: 0.4729 - AUC: 0.9235 - val_loss: 1.3523 - val_Categorical_Accuracy: 0.5860 - val_AUC: 0.9430 - lr: 1.0000e-04\n",
      "Epoch 28/75\n",
      "45/45 [==============================] - 1s 10ms/step - loss: 1.3695 - Categorical_Accuracy: 0.4987 - AUC: 0.9346 - val_loss: 1.2774 - val_Categorical_Accuracy: 0.6000 - val_AUC: 0.9489 - lr: 1.0000e-04\n",
      "Epoch 29/75\n",
      "45/45 [==============================] - 1s 10ms/step - loss: 1.3765 - Categorical_Accuracy: 0.5004 - AUC: 0.9332 - val_loss: 1.2320 - val_Categorical_Accuracy: 0.6280 - val_AUC: 0.9515 - lr: 1.0000e-04\n",
      "Epoch 30/75\n",
      "45/45 [==============================] - 1s 10ms/step - loss: 1.2789 - Categorical_Accuracy: 0.5511 - AUC: 0.9422 - val_loss: 1.2437 - val_Categorical_Accuracy: 0.5900 - val_AUC: 0.9476 - lr: 1.0000e-04\n",
      "Epoch 31/75\n",
      "45/45 [==============================] - 1s 10ms/step - loss: 1.2990 - Categorical_Accuracy: 0.5253 - AUC: 0.9402 - val_loss: 1.2362 - val_Categorical_Accuracy: 0.6000 - val_AUC: 0.9473 - lr: 1.0000e-04\n",
      "Epoch 32/75\n",
      "45/45 [==============================] - 1s 10ms/step - loss: 1.2194 - Categorical_Accuracy: 0.5600 - AUC: 0.9480 - val_loss: 1.1686 - val_Categorical_Accuracy: 0.6360 - val_AUC: 0.9540 - lr: 1.0000e-04\n",
      "Epoch 33/75\n",
      "45/45 [==============================] - 1s 10ms/step - loss: 1.2358 - Categorical_Accuracy: 0.5520 - AUC: 0.9455 - val_loss: 1.1494 - val_Categorical_Accuracy: 0.6600 - val_AUC: 0.9561 - lr: 1.0000e-04\n",
      "Epoch 34/75\n",
      "45/45 [==============================] - 1s 10ms/step - loss: 1.1469 - Categorical_Accuracy: 0.5636 - AUC: 0.9550 - val_loss: 1.1030 - val_Categorical_Accuracy: 0.6540 - val_AUC: 0.9588 - lr: 1.0000e-04\n",
      "Epoch 35/75\n",
      "45/45 [==============================] - 1s 10ms/step - loss: 1.1540 - Categorical_Accuracy: 0.5796 - AUC: 0.9534 - val_loss: 1.0893 - val_Categorical_Accuracy: 0.6640 - val_AUC: 0.9601 - lr: 1.0000e-04\n",
      "Epoch 36/75\n",
      "45/45 [==============================] - 1s 10ms/step - loss: 1.1007 - Categorical_Accuracy: 0.5796 - AUC: 0.9585 - val_loss: 1.0723 - val_Categorical_Accuracy: 0.6640 - val_AUC: 0.9610 - lr: 1.0000e-04\n",
      "Epoch 37/75\n",
      "45/45 [==============================] - 1s 10ms/step - loss: 1.0672 - Categorical_Accuracy: 0.6258 - AUC: 0.9594 - val_loss: 1.1087 - val_Categorical_Accuracy: 0.6300 - val_AUC: 0.9570 - lr: 1.0000e-04\n",
      "Epoch 38/75\n",
      "45/45 [==============================] - 1s 10ms/step - loss: 1.0577 - Categorical_Accuracy: 0.6124 - AUC: 0.9609 - val_loss: 1.0523 - val_Categorical_Accuracy: 0.6700 - val_AUC: 0.9623 - lr: 1.0000e-04\n",
      "Epoch 39/75\n",
      "45/45 [==============================] - 1s 10ms/step - loss: 1.0196 - Categorical_Accuracy: 0.6293 - AUC: 0.9647 - val_loss: 1.0228 - val_Categorical_Accuracy: 0.6740 - val_AUC: 0.9634 - lr: 1.0000e-04\n",
      "Epoch 40/75\n",
      "45/45 [==============================] - 1s 10ms/step - loss: 0.9883 - Categorical_Accuracy: 0.6391 - AUC: 0.9661 - val_loss: 1.0148 - val_Categorical_Accuracy: 0.6780 - val_AUC: 0.9635 - lr: 1.0000e-04\n",
      "Epoch 41/75\n",
      "45/45 [==============================] - 1s 10ms/step - loss: 0.9483 - Categorical_Accuracy: 0.6533 - AUC: 0.9684 - val_loss: 0.9757 - val_Categorical_Accuracy: 0.6960 - val_AUC: 0.9661 - lr: 1.0000e-04\n",
      "Epoch 42/75\n",
      "45/45 [==============================] - 1s 10ms/step - loss: 0.9833 - Categorical_Accuracy: 0.6338 - AUC: 0.9656 - val_loss: 0.9620 - val_Categorical_Accuracy: 0.6940 - val_AUC: 0.9668 - lr: 1.0000e-04\n",
      "Epoch 43/75\n",
      "45/45 [==============================] - 1s 10ms/step - loss: 0.8980 - Categorical_Accuracy: 0.6720 - AUC: 0.9721 - val_loss: 0.9598 - val_Categorical_Accuracy: 0.7000 - val_AUC: 0.9672 - lr: 1.0000e-04\n",
      "Epoch 44/75\n",
      "45/45 [==============================] - 1s 10ms/step - loss: 0.9086 - Categorical_Accuracy: 0.6640 - AUC: 0.9708 - val_loss: 0.9355 - val_Categorical_Accuracy: 0.7100 - val_AUC: 0.9694 - lr: 1.0000e-04\n",
      "Epoch 45/75\n",
      "45/45 [==============================] - 1s 10ms/step - loss: 0.8420 - Categorical_Accuracy: 0.6827 - AUC: 0.9758 - val_loss: 0.9436 - val_Categorical_Accuracy: 0.6920 - val_AUC: 0.9660 - lr: 1.0000e-04\n",
      "Epoch 46/75\n",
      "45/45 [==============================] - 1s 10ms/step - loss: 0.8608 - Categorical_Accuracy: 0.6862 - AUC: 0.9725 - val_loss: 0.9469 - val_Categorical_Accuracy: 0.7100 - val_AUC: 0.9666 - lr: 1.0000e-04\n",
      "Epoch 47/75\n",
      "45/45 [==============================] - 1s 10ms/step - loss: 0.8026 - Categorical_Accuracy: 0.6996 - AUC: 0.9778 - val_loss: 0.9120 - val_Categorical_Accuracy: 0.6940 - val_AUC: 0.9692 - lr: 1.0000e-04\n",
      "Epoch 48/75\n",
      "45/45 [==============================] - 1s 10ms/step - loss: 0.8594 - Categorical_Accuracy: 0.6711 - AUC: 0.9741 - val_loss: 0.9052 - val_Categorical_Accuracy: 0.7060 - val_AUC: 0.9705 - lr: 1.0000e-04\n",
      "Epoch 49/75\n",
      "45/45 [==============================] - 1s 10ms/step - loss: 0.7479 - Categorical_Accuracy: 0.7307 - AUC: 0.9806 - val_loss: 0.8823 - val_Categorical_Accuracy: 0.7160 - val_AUC: 0.9714 - lr: 1.0000e-04\n",
      "Epoch 50/75\n",
      "45/45 [==============================] - 1s 10ms/step - loss: 0.7900 - Categorical_Accuracy: 0.7004 - AUC: 0.9786 - val_loss: 0.8710 - val_Categorical_Accuracy: 0.7300 - val_AUC: 0.9708 - lr: 1.0000e-04\n",
      "Epoch 51/75\n",
      "45/45 [==============================] - 1s 10ms/step - loss: 0.7682 - Categorical_Accuracy: 0.7102 - AUC: 0.9792 - val_loss: 0.8813 - val_Categorical_Accuracy: 0.7100 - val_AUC: 0.9706 - lr: 1.0000e-04\n",
      "Epoch 52/75\n",
      "45/45 [==============================] - 1s 10ms/step - loss: 0.7589 - Categorical_Accuracy: 0.7164 - AUC: 0.9796 - val_loss: 0.8626 - val_Categorical_Accuracy: 0.7220 - val_AUC: 0.9699 - lr: 1.0000e-04\n",
      "Epoch 53/75\n",
      "45/45 [==============================] - 1s 10ms/step - loss: 0.7463 - Categorical_Accuracy: 0.7289 - AUC: 0.9804 - val_loss: 0.8440 - val_Categorical_Accuracy: 0.7360 - val_AUC: 0.9737 - lr: 1.0000e-04\n",
      "Epoch 54/75\n",
      "45/45 [==============================] - 1s 10ms/step - loss: 0.6660 - Categorical_Accuracy: 0.7769 - AUC: 0.9838 - val_loss: 0.8667 - val_Categorical_Accuracy: 0.7220 - val_AUC: 0.9693 - lr: 1.0000e-04\n",
      "Epoch 55/75\n",
      "45/45 [==============================] - 1s 10ms/step - loss: 0.6473 - Categorical_Accuracy: 0.7600 - AUC: 0.9848 - val_loss: 0.8261 - val_Categorical_Accuracy: 0.7400 - val_AUC: 0.9733 - lr: 1.0000e-04\n",
      "Epoch 56/75\n",
      "45/45 [==============================] - 1s 10ms/step - loss: 0.6867 - Categorical_Accuracy: 0.7298 - AUC: 0.9831 - val_loss: 0.8862 - val_Categorical_Accuracy: 0.7280 - val_AUC: 0.9691 - lr: 1.0000e-04\n",
      "Epoch 57/75\n",
      "45/45 [==============================] - 1s 10ms/step - loss: 0.6603 - Categorical_Accuracy: 0.7716 - AUC: 0.9838 - val_loss: 0.8030 - val_Categorical_Accuracy: 0.7460 - val_AUC: 0.9739 - lr: 1.0000e-04\n",
      "Epoch 58/75\n",
      "45/45 [==============================] - 1s 10ms/step - loss: 0.6906 - Categorical_Accuracy: 0.7476 - AUC: 0.9823 - val_loss: 0.8088 - val_Categorical_Accuracy: 0.7520 - val_AUC: 0.9732 - lr: 1.0000e-04\n",
      "Epoch 59/75\n",
      "45/45 [==============================] - 1s 10ms/step - loss: 0.5868 - Categorical_Accuracy: 0.7742 - AUC: 0.9884 - val_loss: 0.8185 - val_Categorical_Accuracy: 0.7420 - val_AUC: 0.9716 - lr: 1.0000e-04\n",
      "Epoch 60/75\n",
      "45/45 [==============================] - 1s 10ms/step - loss: 0.5686 - Categorical_Accuracy: 0.7840 - AUC: 0.9882 - val_loss: 0.8022 - val_Categorical_Accuracy: 0.7360 - val_AUC: 0.9729 - lr: 1.0000e-04\n",
      "Epoch 61/75\n",
      "45/45 [==============================] - 1s 10ms/step - loss: 0.5618 - Categorical_Accuracy: 0.7973 - AUC: 0.9887 - val_loss: 0.8170 - val_Categorical_Accuracy: 0.7440 - val_AUC: 0.9725 - lr: 1.0000e-04\n",
      "Epoch 62/75\n",
      "45/45 [==============================] - 1s 9ms/step - loss: 0.5655 - Categorical_Accuracy: 0.8027 - AUC: 0.9880 - val_loss: 0.8200 - val_Categorical_Accuracy: 0.7400 - val_AUC: 0.9718 - lr: 1.0000e-04\n",
      "Epoch 63/75\n",
      "41/45 [==========================>...] - ETA: 0s - loss: 0.5973 - Categorical_Accuracy: 0.7717 - AUC: 0.9867\n",
      "Epoch 00063: ReduceLROnPlateau reducing learning rate to 1.9999999494757503e-05.\n",
      "45/45 [==============================] - 1s 10ms/step - loss: 0.6060 - Categorical_Accuracy: 0.7698 - AUC: 0.9864 - val_loss: 0.8023 - val_Categorical_Accuracy: 0.7420 - val_AUC: 0.9744 - lr: 1.0000e-04\n",
      "Epoch 64/75\n",
      "45/45 [==============================] - 1s 10ms/step - loss: 0.5411 - Categorical_Accuracy: 0.7982 - AUC: 0.9896 - val_loss: 0.7753 - val_Categorical_Accuracy: 0.7660 - val_AUC: 0.9742 - lr: 2.0000e-05\n",
      "Epoch 65/75\n",
      "45/45 [==============================] - 1s 10ms/step - loss: 0.4759 - Categorical_Accuracy: 0.8373 - AUC: 0.9917 - val_loss: 0.7878 - val_Categorical_Accuracy: 0.7460 - val_AUC: 0.9738 - lr: 2.0000e-05\n",
      "Epoch 66/75\n",
      "45/45 [==============================] - 1s 10ms/step - loss: 0.5490 - Categorical_Accuracy: 0.7964 - AUC: 0.9890 - val_loss: 0.7711 - val_Categorical_Accuracy: 0.7440 - val_AUC: 0.9751 - lr: 2.0000e-05\n",
      "Epoch 67/75\n",
      "45/45 [==============================] - 1s 10ms/step - loss: 0.4851 - Categorical_Accuracy: 0.8329 - AUC: 0.9908 - val_loss: 0.7673 - val_Categorical_Accuracy: 0.7440 - val_AUC: 0.9753 - lr: 2.0000e-05\n",
      "Epoch 68/75\n",
      "45/45 [==============================] - 1s 10ms/step - loss: 0.4794 - Categorical_Accuracy: 0.8169 - AUC: 0.9923 - val_loss: 0.7658 - val_Categorical_Accuracy: 0.7540 - val_AUC: 0.9740 - lr: 2.0000e-05\n",
      "Epoch 69/75\n",
      "45/45 [==============================] - 1s 10ms/step - loss: 0.4892 - Categorical_Accuracy: 0.8160 - AUC: 0.9919 - val_loss: 0.7717 - val_Categorical_Accuracy: 0.7460 - val_AUC: 0.9732 - lr: 2.0000e-05\n",
      "Epoch 70/75\n",
      "45/45 [==============================] - 1s 10ms/step - loss: 0.5026 - Categorical_Accuracy: 0.8107 - AUC: 0.9905 - val_loss: 0.7674 - val_Categorical_Accuracy: 0.7560 - val_AUC: 0.9739 - lr: 2.0000e-05\n",
      "Epoch 71/75\n",
      "45/45 [==============================] - 1s 10ms/step - loss: 0.4451 - Categorical_Accuracy: 0.8391 - AUC: 0.9929 - val_loss: 0.7653 - val_Categorical_Accuracy: 0.7560 - val_AUC: 0.9741 - lr: 2.0000e-05\n",
      "Epoch 72/75\n",
      "45/45 [==============================] - 1s 10ms/step - loss: 0.4755 - Categorical_Accuracy: 0.8276 - AUC: 0.9922 - val_loss: 0.7678 - val_Categorical_Accuracy: 0.7620 - val_AUC: 0.9741 - lr: 2.0000e-05\n",
      "Epoch 73/75\n",
      "45/45 [==============================] - 1s 10ms/step - loss: 0.4529 - Categorical_Accuracy: 0.8409 - AUC: 0.9929 - val_loss: 0.7696 - val_Categorical_Accuracy: 0.7560 - val_AUC: 0.9741 - lr: 2.0000e-05\n",
      "Epoch 74/75\n",
      "45/45 [==============================] - 1s 10ms/step - loss: 0.4791 - Categorical_Accuracy: 0.8222 - AUC: 0.9917 - val_loss: 0.7629 - val_Categorical_Accuracy: 0.7560 - val_AUC: 0.9744 - lr: 2.0000e-05\n",
      "Epoch 75/75\n",
      "45/45 [==============================] - 1s 10ms/step - loss: 0.4680 - Categorical_Accuracy: 0.8418 - AUC: 0.9921 - val_loss: 0.7605 - val_Categorical_Accuracy: 0.7660 - val_AUC: 0.9743 - lr: 2.0000e-05\n"
     ]
    }
   ]
  },
  {
   "cell_type": "code",
   "metadata": {
    "colab": {
     "base_uri": "https://localhost:8080/",
     "height": 1000
    },
    "id": "TS9hjxe3IoSA",
    "executionInfo": {
     "status": "ok",
     "timestamp": 1638885533981,
     "user_tz": 300,
     "elapsed": 663,
     "user": {
      "displayName": "Andrew Ning",
      "photoUrl": "https://lh3.googleusercontent.com/a-/AOh14GgyUiXynCeybWnGTpfHnOSTarAoJjvj-8rK8oxkzQ=s64",
      "userId": "04097743773373129918"
     }
    },
    "outputId": "f24d5cca-b35f-4da3-fc08-177c18180f64"
   },
   "source": [
    "modelFullDE = tf.keras.Model(\n",
    "    inputs=[inputDE],\n",
    "    outputs=[layersDE],\n",
    "    name='Full_Model_DE'\n",
    ")\n",
    "\n",
    "modelFullDE.summary(expand_nested=True)\n",
    "tf.keras.utils.plot_model(modelFullDE, expand_nested=True)"
   ],
   "execution_count": 110,
   "outputs": [
    {
     "output_type": "stream",
     "name": "stdout",
     "text": [
      "Model: \"Full_Model_DE\"\n",
      "_________________________________________________________________\n",
      " Layer (type)                Output Shape              Param #   \n",
      "=================================================================\n",
      " DE_Input (InputLayer)       [(None, 188, 100, 1)]     0         \n",
      "                                                                 \n",
      " Shared_Layers (Sequential)  (None, 10, 5, 128)        127744    \n",
      "|¯¯¯¯¯¯¯¯¯¯¯¯¯¯¯¯¯¯¯¯¯¯¯¯¯¯¯¯¯¯¯¯¯¯¯¯¯¯¯¯¯¯¯¯¯¯¯¯¯¯¯¯¯¯¯¯¯¯¯¯¯¯¯|\n",
      "| Shared_Conv2D1 (Conv2D)   (None, 94, 50, 32)        2624      |\n",
      "|                                                               |\n",
      "| Shared_MaxPool2D1 (MaxPooli  (None, 46, 24, 32)     0         |\n",
      "| ng2D)                                                         |\n",
      "|                                                               |\n",
      "| Shared_Conv2D2 (Conv2D)   (None, 46, 24, 64)        51264     |\n",
      "|                                                               |\n",
      "| Shared_MaxPool2D2 (MaxPooli  (None, 22, 11, 64)     0         |\n",
      "| ng2D)                                                         |\n",
      "|                                                               |\n",
      "| Shared_Conv2D3 (Conv2D)   (None, 22, 11, 128)       73856     |\n",
      "|                                                               |\n",
      "| Shared_MaxPool2D3 (MaxPooli  (None, 10, 5, 128)     0         |\n",
      "| ng2D)                                                         |\n",
      "¯¯¯¯¯¯¯¯¯¯¯¯¯¯¯¯¯¯¯¯¯¯¯¯¯¯¯¯¯¯¯¯¯¯¯¯¯¯¯¯¯¯¯¯¯¯¯¯¯¯¯¯¯¯¯¯¯¯¯¯¯¯¯¯¯\n",
      " DE (Sequential)             (None, 15)                329999    \n",
      "|¯¯¯¯¯¯¯¯¯¯¯¯¯¯¯¯¯¯¯¯¯¯¯¯¯¯¯¯¯¯¯¯¯¯¯¯¯¯¯¯¯¯¯¯¯¯¯¯¯¯¯¯¯¯¯¯¯¯¯¯¯¯¯|\n",
      "| DE_Conv2D1 (Conv2D)       (None, 10, 5, 128)        147584    |\n",
      "|                                                               |\n",
      "| DE_MaxPool2D1 (MaxPooling2D  (None, 5, 2, 128)      0         |\n",
      "| )                                                             |\n",
      "|                                                               |\n",
      "| flatten_11 (Flatten)      (None, 1280)              0         |\n",
      "|                                                               |\n",
      "| dropout_33 (Dropout)      (None, 1280)              0         |\n",
      "|                                                               |\n",
      "| DE_DenseLayer1 (Dense)    (None, 128)               163968    |\n",
      "|                                                               |\n",
      "| dropout_34 (Dropout)      (None, 128)               0         |\n",
      "|                                                               |\n",
      "| DE_DenseLayer2 (Dense)    (None, 128)               16512     |\n",
      "|                                                               |\n",
      "| dropout_35 (Dropout)      (None, 128)               0         |\n",
      "|                                                               |\n",
      "| DE_Output (Dense)         (None, 15)                1935      |\n",
      "¯¯¯¯¯¯¯¯¯¯¯¯¯¯¯¯¯¯¯¯¯¯¯¯¯¯¯¯¯¯¯¯¯¯¯¯¯¯¯¯¯¯¯¯¯¯¯¯¯¯¯¯¯¯¯¯¯¯¯¯¯¯¯¯¯\n",
      "=================================================================\n",
      "Total params: 457,743\n",
      "Trainable params: 457,743\n",
      "Non-trainable params: 0\n",
      "_________________________________________________________________\n"
     ]
    },
    {
     "output_type": "execute_result",
     "data": {
      "image/png": "[encoded data removed]",
      "text/plain": [
       "<IPython.core.display.Image object>"
      ]
     },
     "metadata": {},
     "execution_count": 110
    }
   ]
  },
  {
   "cell_type": "code",
   "metadata": {
    "id": "owv0RA_ZIwqO",
    "executionInfo": {
     "status": "ok",
     "timestamp": 1638885533982,
     "user_tz": 300,
     "elapsed": 6,
     "user": {
      "displayName": "Andrew Ning",
      "photoUrl": "https://lh3.googleusercontent.com/a-/AOh14GgyUiXynCeybWnGTpfHnOSTarAoJjvj-8rK8oxkzQ=s64",
      "userId": "04097743773373129918"
     }
    }
   },
   "source": [
    "modelFullDE.compile(\n",
    "    optimizer = tf.keras.optimizers.Adam(learning_rate=LEARNING_RATE),\n",
    "    loss=[tf.keras.losses.CategoricalCrossentropy()],\n",
    "    metrics=[tf.keras.metrics.CategoricalAccuracy(name='Categorical_Accuracy'), tf.keras.metrics.AUC(name='AUC')]\n",
    ")"
   ],
   "execution_count": 111,
   "outputs": []
  },
  {
   "cell_type": "code",
   "metadata": {
    "colab": {
     "base_uri": "https://localhost:8080/"
    },
    "id": "jg8MWgbeI1VQ",
    "executionInfo": {
     "status": "ok",
     "timestamp": 1638885575149,
     "user_tz": 300,
     "elapsed": 41172,
     "user": {
      "displayName": "Andrew Ning",
      "photoUrl": "https://lh3.googleusercontent.com/a-/AOh14GgyUiXynCeybWnGTpfHnOSTarAoJjvj-8rK8oxkzQ=s64",
      "userId": "04097743773373129918"
     }
    },
    "outputId": "b5c2db30-aa5a-4e22-ae70-cd60a3a77aff"
   },
   "source": [
    "ext = '-FULL-DE'\n",
    "training_callbackFULLDE = callbacks.TensorBoard(log_dir=LOG_DIR + RUN + ext)\n",
    "\n",
    "historyDE = modelFullDE.fit(\n",
    "    x = traindatasetDE,\n",
    "    validation_data = valdatasetDE,\n",
    "    epochs=EPOCHS,\n",
    "    steps_per_epoch=STEPS_PER_EPOCH,\n",
    "    callbacks=[training_callbackFULLDE,earlystopping_callback,reduce_lr_callback],\n",
    "    verbose=1\n",
    ")"
   ],
   "execution_count": 112,
   "outputs": [
    {
     "output_type": "stream",
     "name": "stdout",
     "text": [
      "Epoch 1/75\n",
      "45/45 [==============================] - 2s 24ms/step - loss: 2.9217 - Categorical_Accuracy: 0.0684 - AUC: 0.5163 - val_loss: 2.6836 - val_Categorical_Accuracy: 0.1280 - val_AUC: 0.5867 - lr: 1.0000e-04\n",
      "Epoch 2/75\n",
      "45/45 [==============================] - 0s 9ms/step - loss: 2.7167 - Categorical_Accuracy: 0.0907 - AUC: 0.5464 - val_loss: 2.6602 - val_Categorical_Accuracy: 0.1580 - val_AUC: 0.6549 - lr: 1.0000e-04\n",
      "Epoch 3/75\n",
      "45/45 [==============================] - 1s 9ms/step - loss: 2.6743 - Categorical_Accuracy: 0.0907 - AUC: 0.5836 - val_loss: 2.6080 - val_Categorical_Accuracy: 0.2320 - val_AUC: 0.7203 - lr: 1.0000e-04\n",
      "Epoch 4/75\n",
      "45/45 [==============================] - 1s 9ms/step - loss: 2.6507 - Categorical_Accuracy: 0.1111 - AUC: 0.6025 - val_loss: 2.5878 - val_Categorical_Accuracy: 0.2140 - val_AUC: 0.7348 - lr: 1.0000e-04\n",
      "Epoch 5/75\n",
      "45/45 [==============================] - 1s 9ms/step - loss: 2.5916 - Categorical_Accuracy: 0.1262 - AUC: 0.6465 - val_loss: 2.5052 - val_Categorical_Accuracy: 0.2920 - val_AUC: 0.7721 - lr: 1.0000e-04\n",
      "Epoch 6/75\n",
      "45/45 [==============================] - 1s 10ms/step - loss: 2.5356 - Categorical_Accuracy: 0.1591 - AUC: 0.6820 - val_loss: 2.4260 - val_Categorical_Accuracy: 0.3560 - val_AUC: 0.8112 - lr: 1.0000e-04\n",
      "Epoch 7/75\n",
      "45/45 [==============================] - 1s 10ms/step - loss: 2.4708 - Categorical_Accuracy: 0.1698 - AUC: 0.6985 - val_loss: 2.3491 - val_Categorical_Accuracy: 0.3540 - val_AUC: 0.8307 - lr: 1.0000e-04\n",
      "Epoch 8/75\n",
      "45/45 [==============================] - 1s 10ms/step - loss: 2.3790 - Categorical_Accuracy: 0.1956 - AUC: 0.7391 - val_loss: 2.2133 - val_Categorical_Accuracy: 0.3720 - val_AUC: 0.8407 - lr: 1.0000e-04\n",
      "Epoch 9/75\n",
      "45/45 [==============================] - 1s 10ms/step - loss: 2.3099 - Categorical_Accuracy: 0.2462 - AUC: 0.7546 - val_loss: 2.1680 - val_Categorical_Accuracy: 0.3260 - val_AUC: 0.8575 - lr: 1.0000e-04\n",
      "Epoch 10/75\n",
      "45/45 [==============================] - 1s 10ms/step - loss: 2.1981 - Categorical_Accuracy: 0.2711 - AUC: 0.7883 - val_loss: 2.0200 - val_Categorical_Accuracy: 0.3780 - val_AUC: 0.8729 - lr: 1.0000e-04\n",
      "Epoch 11/75\n",
      "45/45 [==============================] - 1s 10ms/step - loss: 2.1329 - Categorical_Accuracy: 0.2711 - AUC: 0.8074 - val_loss: 1.9511 - val_Categorical_Accuracy: 0.4080 - val_AUC: 0.8878 - lr: 1.0000e-04\n",
      "Epoch 12/75\n",
      "45/45 [==============================] - 1s 10ms/step - loss: 2.0925 - Categorical_Accuracy: 0.2773 - AUC: 0.8197 - val_loss: 1.8867 - val_Categorical_Accuracy: 0.4160 - val_AUC: 0.8975 - lr: 1.0000e-04\n",
      "Epoch 13/75\n",
      "45/45 [==============================] - 1s 9ms/step - loss: 2.0074 - Categorical_Accuracy: 0.3271 - AUC: 0.8381 - val_loss: 1.8054 - val_Categorical_Accuracy: 0.4160 - val_AUC: 0.9034 - lr: 1.0000e-04\n",
      "Epoch 14/75\n",
      "45/45 [==============================] - 1s 10ms/step - loss: 1.9408 - Categorical_Accuracy: 0.3360 - AUC: 0.8509 - val_loss: 1.7537 - val_Categorical_Accuracy: 0.4340 - val_AUC: 0.9126 - lr: 1.0000e-04\n",
      "Epoch 15/75\n",
      "45/45 [==============================] - 1s 10ms/step - loss: 1.8459 - Categorical_Accuracy: 0.3680 - AUC: 0.8680 - val_loss: 1.6867 - val_Categorical_Accuracy: 0.4580 - val_AUC: 0.9115 - lr: 1.0000e-04\n",
      "Epoch 16/75\n",
      "45/45 [==============================] - 1s 10ms/step - loss: 1.7113 - Categorical_Accuracy: 0.4347 - AUC: 0.8883 - val_loss: 1.6144 - val_Categorical_Accuracy: 0.4780 - val_AUC: 0.9202 - lr: 1.0000e-04\n",
      "Epoch 17/75\n",
      "45/45 [==============================] - 1s 9ms/step - loss: 1.7492 - Categorical_Accuracy: 0.4098 - AUC: 0.8819 - val_loss: 1.5682 - val_Categorical_Accuracy: 0.4740 - val_AUC: 0.9287 - lr: 1.0000e-04\n",
      "Epoch 18/75\n",
      "45/45 [==============================] - 1s 10ms/step - loss: 1.6239 - Categorical_Accuracy: 0.4533 - AUC: 0.9027 - val_loss: 1.4792 - val_Categorical_Accuracy: 0.5240 - val_AUC: 0.9361 - lr: 1.0000e-04\n",
      "Epoch 19/75\n",
      "45/45 [==============================] - 1s 10ms/step - loss: 1.5833 - Categorical_Accuracy: 0.4480 - AUC: 0.9076 - val_loss: 1.4516 - val_Categorical_Accuracy: 0.5180 - val_AUC: 0.9398 - lr: 1.0000e-04\n",
      "Epoch 20/75\n",
      "45/45 [==============================] - 1s 10ms/step - loss: 1.4767 - Categorical_Accuracy: 0.4756 - AUC: 0.9203 - val_loss: 1.4172 - val_Categorical_Accuracy: 0.5120 - val_AUC: 0.9379 - lr: 1.0000e-04\n",
      "Epoch 21/75\n",
      "45/45 [==============================] - 1s 10ms/step - loss: 1.4625 - Categorical_Accuracy: 0.4827 - AUC: 0.9226 - val_loss: 1.3626 - val_Categorical_Accuracy: 0.5320 - val_AUC: 0.9422 - lr: 1.0000e-04\n",
      "Epoch 22/75\n",
      "45/45 [==============================] - 1s 10ms/step - loss: 1.4135 - Categorical_Accuracy: 0.4907 - AUC: 0.9294 - val_loss: 1.3486 - val_Categorical_Accuracy: 0.5260 - val_AUC: 0.9416 - lr: 1.0000e-04\n",
      "Epoch 23/75\n",
      "45/45 [==============================] - 1s 10ms/step - loss: 1.3462 - Categorical_Accuracy: 0.5458 - AUC: 0.9348 - val_loss: 1.3164 - val_Categorical_Accuracy: 0.5480 - val_AUC: 0.9451 - lr: 1.0000e-04\n",
      "Epoch 24/75\n",
      "45/45 [==============================] - 1s 9ms/step - loss: 1.2554 - Categorical_Accuracy: 0.5564 - AUC: 0.9446 - val_loss: 1.2889 - val_Categorical_Accuracy: 0.5620 - val_AUC: 0.9452 - lr: 1.0000e-04\n",
      "Epoch 25/75\n",
      "45/45 [==============================] - 1s 10ms/step - loss: 1.2516 - Categorical_Accuracy: 0.5636 - AUC: 0.9429 - val_loss: 1.2162 - val_Categorical_Accuracy: 0.5780 - val_AUC: 0.9534 - lr: 1.0000e-04\n",
      "Epoch 26/75\n",
      "45/45 [==============================] - 1s 10ms/step - loss: 1.2175 - Categorical_Accuracy: 0.5591 - AUC: 0.9482 - val_loss: 1.2036 - val_Categorical_Accuracy: 0.5680 - val_AUC: 0.9542 - lr: 1.0000e-04\n",
      "Epoch 27/75\n",
      "45/45 [==============================] - 1s 10ms/step - loss: 1.1477 - Categorical_Accuracy: 0.5973 - AUC: 0.9529 - val_loss: 1.1667 - val_Categorical_Accuracy: 0.5800 - val_AUC: 0.9567 - lr: 1.0000e-04\n",
      "Epoch 28/75\n",
      "45/45 [==============================] - 1s 10ms/step - loss: 1.1295 - Categorical_Accuracy: 0.6116 - AUC: 0.9546 - val_loss: 1.1204 - val_Categorical_Accuracy: 0.6100 - val_AUC: 0.9607 - lr: 1.0000e-04\n",
      "Epoch 29/75\n",
      "45/45 [==============================] - 1s 10ms/step - loss: 1.1162 - Categorical_Accuracy: 0.6044 - AUC: 0.9558 - val_loss: 1.1028 - val_Categorical_Accuracy: 0.6120 - val_AUC: 0.9605 - lr: 1.0000e-04\n",
      "Epoch 30/75\n",
      "45/45 [==============================] - 1s 10ms/step - loss: 1.0921 - Categorical_Accuracy: 0.6204 - AUC: 0.9573 - val_loss: 1.0840 - val_Categorical_Accuracy: 0.6040 - val_AUC: 0.9633 - lr: 1.0000e-04\n",
      "Epoch 31/75\n",
      "45/45 [==============================] - 1s 9ms/step - loss: 1.0801 - Categorical_Accuracy: 0.6240 - AUC: 0.9581 - val_loss: 1.0266 - val_Categorical_Accuracy: 0.6320 - val_AUC: 0.9673 - lr: 1.0000e-04\n",
      "Epoch 32/75\n",
      "45/45 [==============================] - 1s 10ms/step - loss: 0.9932 - Categorical_Accuracy: 0.6418 - AUC: 0.9655 - val_loss: 1.0576 - val_Categorical_Accuracy: 0.6060 - val_AUC: 0.9633 - lr: 1.0000e-04\n",
      "Epoch 33/75\n",
      "45/45 [==============================] - 1s 10ms/step - loss: 0.9731 - Categorical_Accuracy: 0.6693 - AUC: 0.9655 - val_loss: 1.0132 - val_Categorical_Accuracy: 0.6340 - val_AUC: 0.9674 - lr: 1.0000e-04\n",
      "Epoch 34/75\n",
      "45/45 [==============================] - 1s 10ms/step - loss: 0.9638 - Categorical_Accuracy: 0.6507 - AUC: 0.9669 - val_loss: 1.0063 - val_Categorical_Accuracy: 0.6360 - val_AUC: 0.9666 - lr: 1.0000e-04\n",
      "Epoch 35/75\n",
      "45/45 [==============================] - 1s 10ms/step - loss: 0.9306 - Categorical_Accuracy: 0.6773 - AUC: 0.9689 - val_loss: 0.9866 - val_Categorical_Accuracy: 0.6360 - val_AUC: 0.9683 - lr: 1.0000e-04\n",
      "Epoch 36/75\n",
      "45/45 [==============================] - 1s 10ms/step - loss: 0.8832 - Categorical_Accuracy: 0.6791 - AUC: 0.9726 - val_loss: 0.9772 - val_Categorical_Accuracy: 0.6600 - val_AUC: 0.9674 - lr: 1.0000e-04\n",
      "Epoch 37/75\n",
      "45/45 [==============================] - 1s 9ms/step - loss: 0.9139 - Categorical_Accuracy: 0.6729 - AUC: 0.9697 - val_loss: 0.9493 - val_Categorical_Accuracy: 0.6780 - val_AUC: 0.9704 - lr: 1.0000e-04\n",
      "Epoch 38/75\n",
      "45/45 [==============================] - 1s 9ms/step - loss: 0.8521 - Categorical_Accuracy: 0.6933 - AUC: 0.9739 - val_loss: 0.9703 - val_Categorical_Accuracy: 0.6600 - val_AUC: 0.9678 - lr: 1.0000e-04\n",
      "Epoch 39/75\n",
      "45/45 [==============================] - 1s 10ms/step - loss: 0.8661 - Categorical_Accuracy: 0.6889 - AUC: 0.9729 - val_loss: 0.9314 - val_Categorical_Accuracy: 0.6700 - val_AUC: 0.9716 - lr: 1.0000e-04\n",
      "Epoch 40/75\n",
      "45/45 [==============================] - 1s 9ms/step - loss: 0.7947 - Categorical_Accuracy: 0.7244 - AUC: 0.9775 - val_loss: 0.8957 - val_Categorical_Accuracy: 0.6740 - val_AUC: 0.9728 - lr: 1.0000e-04\n",
      "Epoch 41/75\n",
      "45/45 [==============================] - 1s 10ms/step - loss: 0.7887 - Categorical_Accuracy: 0.7200 - AUC: 0.9767 - val_loss: 0.9423 - val_Categorical_Accuracy: 0.6480 - val_AUC: 0.9686 - lr: 1.0000e-04\n",
      "Epoch 42/75\n",
      "45/45 [==============================] - 1s 10ms/step - loss: 0.7403 - Categorical_Accuracy: 0.7404 - AUC: 0.9800 - val_loss: 0.8786 - val_Categorical_Accuracy: 0.6860 - val_AUC: 0.9738 - lr: 1.0000e-04\n",
      "Epoch 43/75\n",
      "45/45 [==============================] - 1s 10ms/step - loss: 0.7320 - Categorical_Accuracy: 0.7360 - AUC: 0.9809 - val_loss: 0.8676 - val_Categorical_Accuracy: 0.6880 - val_AUC: 0.9740 - lr: 1.0000e-04\n",
      "Epoch 44/75\n",
      "45/45 [==============================] - 1s 9ms/step - loss: 0.6571 - Categorical_Accuracy: 0.7698 - AUC: 0.9846 - val_loss: 0.8424 - val_Categorical_Accuracy: 0.6740 - val_AUC: 0.9755 - lr: 1.0000e-04\n",
      "Epoch 45/75\n",
      "45/45 [==============================] - 1s 9ms/step - loss: 0.7138 - Categorical_Accuracy: 0.7422 - AUC: 0.9805 - val_loss: 0.8434 - val_Categorical_Accuracy: 0.7000 - val_AUC: 0.9751 - lr: 1.0000e-04\n",
      "Epoch 46/75\n",
      "45/45 [==============================] - 1s 10ms/step - loss: 0.7101 - Categorical_Accuracy: 0.7556 - AUC: 0.9815 - val_loss: 0.8324 - val_Categorical_Accuracy: 0.6960 - val_AUC: 0.9756 - lr: 1.0000e-04\n",
      "Epoch 47/75\n",
      "45/45 [==============================] - 1s 10ms/step - loss: 0.6729 - Categorical_Accuracy: 0.7564 - AUC: 0.9843 - val_loss: 0.8491 - val_Categorical_Accuracy: 0.6760 - val_AUC: 0.9731 - lr: 1.0000e-04\n",
      "Epoch 48/75\n",
      "45/45 [==============================] - 1s 9ms/step - loss: 0.6328 - Categorical_Accuracy: 0.7733 - AUC: 0.9856 - val_loss: 0.8283 - val_Categorical_Accuracy: 0.6980 - val_AUC: 0.9757 - lr: 1.0000e-04\n",
      "Epoch 49/75\n",
      "45/45 [==============================] - 1s 10ms/step - loss: 0.6532 - Categorical_Accuracy: 0.7689 - AUC: 0.9837 - val_loss: 0.8269 - val_Categorical_Accuracy: 0.7140 - val_AUC: 0.9741 - lr: 1.0000e-04\n",
      "Epoch 50/75\n",
      "45/45 [==============================] - 1s 10ms/step - loss: 0.6057 - Categorical_Accuracy: 0.7849 - AUC: 0.9859 - val_loss: 0.8001 - val_Categorical_Accuracy: 0.7140 - val_AUC: 0.9752 - lr: 1.0000e-04\n",
      "Epoch 51/75\n",
      "45/45 [==============================] - 1s 10ms/step - loss: 0.5937 - Categorical_Accuracy: 0.8009 - AUC: 0.9865 - val_loss: 0.8537 - val_Categorical_Accuracy: 0.6860 - val_AUC: 0.9724 - lr: 1.0000e-04\n",
      "Epoch 52/75\n",
      "45/45 [==============================] - 1s 10ms/step - loss: 0.5417 - Categorical_Accuracy: 0.8160 - AUC: 0.9889 - val_loss: 0.7885 - val_Categorical_Accuracy: 0.7240 - val_AUC: 0.9773 - lr: 1.0000e-04\n",
      "Epoch 53/75\n",
      "45/45 [==============================] - 1s 10ms/step - loss: 0.5408 - Categorical_Accuracy: 0.8000 - AUC: 0.9884 - val_loss: 0.7801 - val_Categorical_Accuracy: 0.7260 - val_AUC: 0.9762 - lr: 1.0000e-04\n",
      "Epoch 54/75\n",
      "45/45 [==============================] - 1s 10ms/step - loss: 0.5154 - Categorical_Accuracy: 0.8036 - AUC: 0.9897 - val_loss: 0.7642 - val_Categorical_Accuracy: 0.7400 - val_AUC: 0.9767 - lr: 1.0000e-04\n",
      "Epoch 55/75\n",
      "45/45 [==============================] - 1s 10ms/step - loss: 0.5290 - Categorical_Accuracy: 0.8124 - AUC: 0.9889 - val_loss: 0.7561 - val_Categorical_Accuracy: 0.7340 - val_AUC: 0.9770 - lr: 1.0000e-04\n",
      "Epoch 56/75\n",
      "45/45 [==============================] - 1s 10ms/step - loss: 0.5024 - Categorical_Accuracy: 0.8107 - AUC: 0.9906 - val_loss: 0.7880 - val_Categorical_Accuracy: 0.7260 - val_AUC: 0.9765 - lr: 1.0000e-04\n",
      "Epoch 57/75\n",
      "45/45 [==============================] - 1s 10ms/step - loss: 0.4965 - Categorical_Accuracy: 0.8249 - AUC: 0.9908 - val_loss: 0.7614 - val_Categorical_Accuracy: 0.7260 - val_AUC: 0.9785 - lr: 1.0000e-04\n",
      "Epoch 58/75\n",
      "45/45 [==============================] - 1s 10ms/step - loss: 0.5095 - Categorical_Accuracy: 0.8071 - AUC: 0.9902 - val_loss: 0.7500 - val_Categorical_Accuracy: 0.7240 - val_AUC: 0.9775 - lr: 1.0000e-04\n",
      "Epoch 59/75\n",
      "45/45 [==============================] - 1s 10ms/step - loss: 0.4605 - Categorical_Accuracy: 0.8320 - AUC: 0.9921 - val_loss: 0.7208 - val_Categorical_Accuracy: 0.7440 - val_AUC: 0.9793 - lr: 1.0000e-04\n",
      "Epoch 60/75\n",
      "45/45 [==============================] - 1s 10ms/step - loss: 0.4324 - Categorical_Accuracy: 0.8444 - AUC: 0.9928 - val_loss: 0.7281 - val_Categorical_Accuracy: 0.7500 - val_AUC: 0.9784 - lr: 1.0000e-04\n",
      "Epoch 61/75\n",
      "45/45 [==============================] - 1s 10ms/step - loss: 0.4418 - Categorical_Accuracy: 0.8489 - AUC: 0.9925 - val_loss: 0.7380 - val_Categorical_Accuracy: 0.7420 - val_AUC: 0.9790 - lr: 1.0000e-04\n",
      "Epoch 62/75\n",
      "40/45 [=========================>....] - ETA: 0s - loss: 0.4295 - Categorical_Accuracy: 0.8330 - AUC: 0.9933\n",
      "Epoch 00062: ReduceLROnPlateau reducing learning rate to 1.9999999494757503e-05.\n",
      "45/45 [==============================] - 1s 10ms/step - loss: 0.4233 - Categorical_Accuracy: 0.8364 - AUC: 0.9936 - val_loss: 0.7290 - val_Categorical_Accuracy: 0.7480 - val_AUC: 0.9795 - lr: 1.0000e-04\n",
      "Epoch 63/75\n",
      "45/45 [==============================] - 1s 10ms/step - loss: 0.3898 - Categorical_Accuracy: 0.8622 - AUC: 0.9945 - val_loss: 0.7120 - val_Categorical_Accuracy: 0.7520 - val_AUC: 0.9794 - lr: 2.0000e-05\n",
      "Epoch 64/75\n",
      "45/45 [==============================] - 1s 9ms/step - loss: 0.3868 - Categorical_Accuracy: 0.8631 - AUC: 0.9943 - val_loss: 0.7192 - val_Categorical_Accuracy: 0.7440 - val_AUC: 0.9793 - lr: 2.0000e-05\n",
      "Epoch 65/75\n",
      "45/45 [==============================] - 1s 10ms/step - loss: 0.4100 - Categorical_Accuracy: 0.8569 - AUC: 0.9933 - val_loss: 0.7161 - val_Categorical_Accuracy: 0.7400 - val_AUC: 0.9793 - lr: 2.0000e-05\n",
      "Epoch 66/75\n",
      "45/45 [==============================] - 1s 10ms/step - loss: 0.3705 - Categorical_Accuracy: 0.8551 - AUC: 0.9954 - val_loss: 0.7092 - val_Categorical_Accuracy: 0.7480 - val_AUC: 0.9798 - lr: 2.0000e-05\n",
      "Epoch 67/75\n",
      "45/45 [==============================] - 1s 10ms/step - loss: 0.3683 - Categorical_Accuracy: 0.8684 - AUC: 0.9942 - val_loss: 0.7136 - val_Categorical_Accuracy: 0.7460 - val_AUC: 0.9794 - lr: 2.0000e-05\n",
      "Epoch 68/75\n",
      "45/45 [==============================] - 1s 10ms/step - loss: 0.3562 - Categorical_Accuracy: 0.8756 - AUC: 0.9947 - val_loss: 0.7047 - val_Categorical_Accuracy: 0.7440 - val_AUC: 0.9798 - lr: 2.0000e-05\n",
      "Epoch 69/75\n",
      "45/45 [==============================] - 1s 10ms/step - loss: 0.3668 - Categorical_Accuracy: 0.8640 - AUC: 0.9954 - val_loss: 0.7157 - val_Categorical_Accuracy: 0.7540 - val_AUC: 0.9794 - lr: 2.0000e-05\n",
      "Epoch 70/75\n",
      "45/45 [==============================] - 1s 10ms/step - loss: 0.3674 - Categorical_Accuracy: 0.8649 - AUC: 0.9955 - val_loss: 0.7087 - val_Categorical_Accuracy: 0.7520 - val_AUC: 0.9800 - lr: 2.0000e-05\n",
      "Epoch 71/75\n",
      "43/45 [===========================>..] - ETA: 0s - loss: 0.3616 - Categorical_Accuracy: 0.8726 - AUC: 0.9955\n",
      "Epoch 00071: ReduceLROnPlateau reducing learning rate to 1e-05.\n",
      "45/45 [==============================] - 1s 10ms/step - loss: 0.3611 - Categorical_Accuracy: 0.8720 - AUC: 0.9955 - val_loss: 0.7185 - val_Categorical_Accuracy: 0.7480 - val_AUC: 0.9793 - lr: 2.0000e-05\n",
      "Epoch 72/75\n",
      "45/45 [==============================] - 1s 10ms/step - loss: 0.3817 - Categorical_Accuracy: 0.8613 - AUC: 0.9941 - val_loss: 0.7189 - val_Categorical_Accuracy: 0.7400 - val_AUC: 0.9770 - lr: 1.0000e-05\n",
      "Epoch 73/75\n",
      "45/45 [==============================] - 1s 10ms/step - loss: 0.3896 - Categorical_Accuracy: 0.8524 - AUC: 0.9939 - val_loss: 0.7049 - val_Categorical_Accuracy: 0.7560 - val_AUC: 0.9791 - lr: 1.0000e-05\n"
     ]
    }
   ]
  },
  {
   "cell_type": "code",
   "metadata": {
    "id": "c_86FakJETb-",
    "executionInfo": {
     "status": "ok",
     "timestamp": 1638885575490,
     "user_tz": 300,
     "elapsed": 356,
     "user": {
      "displayName": "Andrew Ning",
      "photoUrl": "https://lh3.googleusercontent.com/a-/AOh14GgyUiXynCeybWnGTpfHnOSTarAoJjvj-8rK8oxkzQ=s64",
      "userId": "04097743773373129918"
     }
    }
   },
   "source": [
    "shared.trainable = False"
   ],
   "execution_count": 113,
   "outputs": []
  },
  {
   "cell_type": "code",
   "metadata": {
    "id": "6gzF-Z_KID5v",
    "executionInfo": {
     "status": "ok",
     "timestamp": 1638885579216,
     "user_tz": 300,
     "elapsed": 3729,
     "user": {
      "displayName": "Andrew Ning",
      "photoUrl": "https://lh3.googleusercontent.com/a-/AOh14GgyUiXynCeybWnGTpfHnOSTarAoJjvj-8rK8oxkzQ=s64",
      "userId": "04097743773373129918"
     }
    }
   },
   "source": [
    "newSharedLayers = shared(inputEN)\n",
    "newLayersEN = languagelayers(NUM_LABELS_EN,'EN')(newSharedLayers)\n",
    "\n",
    "modelENRetrain = tf.keras.Model(\n",
    "    inputs=inputEN,\n",
    "    outputs=newLayersEN,\n",
    "    name='ENModelRetrained'\n",
    ")"
   ],
   "execution_count": 114,
   "outputs": []
  },
  {
   "cell_type": "code",
   "metadata": {
    "pycharm": {
     "name": "#%%\n",
     "is_executing": true
    },
    "id": "B7swrdTI85T0",
    "executionInfo": {
     "status": "ok",
     "timestamp": 1638885579217,
     "user_tz": 300,
     "elapsed": 12,
     "user": {
      "displayName": "Andrew Ning",
      "photoUrl": "https://lh3.googleusercontent.com/a-/AOh14GgyUiXynCeybWnGTpfHnOSTarAoJjvj-8rK8oxkzQ=s64",
      "userId": "04097743773373129918"
     }
    }
   },
   "source": [
    "modelENRetrain.compile(optimizer = tf.keras.optimizers.Adam(learning_rate=LEARNING_RATE),\n",
    "    loss=tf.keras.losses.CategoricalCrossentropy(),\n",
    "    metrics=[tf.keras.metrics.CategoricalAccuracy(name='Categorical Accuracy'),tf.keras.metrics.AUC(name='AUC')])\n",
    "\n",
    "# modelEN.evaluate(testdatasetEN)"
   ],
   "execution_count": 115,
   "outputs": []
  },
  {
   "cell_type": "code",
   "metadata": {
    "colab": {
     "base_uri": "https://localhost:8080/"
    },
    "id": "S--1Rd73I3Ms",
    "executionInfo": {
     "status": "ok",
     "timestamp": 1638885617616,
     "user_tz": 300,
     "elapsed": 38410,
     "user": {
      "displayName": "Andrew Ning",
      "photoUrl": "https://lh3.googleusercontent.com/a-/AOh14GgyUiXynCeybWnGTpfHnOSTarAoJjvj-8rK8oxkzQ=s64",
      "userId": "04097743773373129918"
     }
    },
    "outputId": "ec661e66-0304-4983-f66f-d42ad057c40f"
   },
   "source": [
    "ext = '-RETRAIN-EN'\n",
    "training_callbackRETRAINEN = callbacks.TensorBoard(log_dir=LOG_DIR + RUN + ext)\n",
    "\n",
    "historyENRetrain = modelENRetrain.fit(\n",
    "    x = traindatasetEN,\n",
    "    validation_data = valdatasetEN,\n",
    "    epochs=EPOCHS,\n",
    "    steps_per_epoch=STEPS_PER_EPOCH,\n",
    "    callbacks=[training_callbackRETRAINEN,earlystopping_callback,reduce_lr_callback],\n",
    "    verbose=1\n",
    ")"
   ],
   "execution_count": 116,
   "outputs": [
    {
     "output_type": "stream",
     "name": "stdout",
     "text": [
      "Epoch 1/75\n",
      "45/45 [==============================] - 2s 16ms/step - loss: 3.1543 - Categorical Accuracy: 0.0791 - AUC: 0.5226 - val_loss: 2.6099 - val_Categorical Accuracy: 0.1840 - val_AUC: 0.6779 - lr: 1.0000e-04\n",
      "Epoch 2/75\n",
      "45/45 [==============================] - 0s 7ms/step - loss: 2.7540 - Categorical Accuracy: 0.1013 - AUC: 0.5781 - val_loss: 2.5756 - val_Categorical Accuracy: 0.2620 - val_AUC: 0.7330 - lr: 1.0000e-04\n",
      "Epoch 3/75\n",
      "45/45 [==============================] - 1s 7ms/step - loss: 2.6639 - Categorical Accuracy: 0.1342 - AUC: 0.6046 - val_loss: 2.5333 - val_Categorical Accuracy: 0.2900 - val_AUC: 0.7752 - lr: 1.0000e-04\n",
      "Epoch 4/75\n",
      "45/45 [==============================] - 1s 7ms/step - loss: 2.5846 - Categorical Accuracy: 0.1449 - AUC: 0.6401 - val_loss: 2.4659 - val_Categorical Accuracy: 0.3200 - val_AUC: 0.8154 - lr: 1.0000e-04\n",
      "Epoch 5/75\n",
      "45/45 [==============================] - 1s 7ms/step - loss: 2.4930 - Categorical Accuracy: 0.1680 - AUC: 0.6828 - val_loss: 2.3806 - val_Categorical Accuracy: 0.3560 - val_AUC: 0.8389 - lr: 1.0000e-04\n",
      "Epoch 6/75\n",
      "45/45 [==============================] - 1s 8ms/step - loss: 2.4066 - Categorical Accuracy: 0.2053 - AUC: 0.7163 - val_loss: 2.2740 - val_Categorical Accuracy: 0.3400 - val_AUC: 0.8649 - lr: 1.0000e-04\n",
      "Epoch 7/75\n",
      "45/45 [==============================] - 1s 8ms/step - loss: 2.3698 - Categorical Accuracy: 0.2098 - AUC: 0.7245 - val_loss: 2.1891 - val_Categorical Accuracy: 0.3600 - val_AUC: 0.8797 - lr: 1.0000e-04\n",
      "Epoch 8/75\n",
      "45/45 [==============================] - 1s 8ms/step - loss: 2.2634 - Categorical Accuracy: 0.2684 - AUC: 0.7586 - val_loss: 2.1054 - val_Categorical Accuracy: 0.4020 - val_AUC: 0.8947 - lr: 1.0000e-04\n",
      "Epoch 9/75\n",
      "45/45 [==============================] - 0s 8ms/step - loss: 2.1598 - Categorical Accuracy: 0.2853 - AUC: 0.7923 - val_loss: 2.0131 - val_Categorical Accuracy: 0.4360 - val_AUC: 0.9058 - lr: 1.0000e-04\n",
      "Epoch 10/75\n",
      "45/45 [==============================] - 1s 8ms/step - loss: 2.1191 - Categorical Accuracy: 0.3076 - AUC: 0.7966 - val_loss: 1.9381 - val_Categorical Accuracy: 0.4700 - val_AUC: 0.9158 - lr: 1.0000e-04\n",
      "Epoch 11/75\n",
      "45/45 [==============================] - 0s 8ms/step - loss: 2.0445 - Categorical Accuracy: 0.3289 - AUC: 0.8195 - val_loss: 1.8505 - val_Categorical Accuracy: 0.5240 - val_AUC: 0.9279 - lr: 1.0000e-04\n",
      "Epoch 12/75\n",
      "45/45 [==============================] - 1s 8ms/step - loss: 2.0097 - Categorical Accuracy: 0.3298 - AUC: 0.8269 - val_loss: 1.7870 - val_Categorical Accuracy: 0.5320 - val_AUC: 0.9307 - lr: 1.0000e-04\n",
      "Epoch 13/75\n",
      "45/45 [==============================] - 0s 8ms/step - loss: 1.9008 - Categorical Accuracy: 0.3716 - AUC: 0.8503 - val_loss: 1.6896 - val_Categorical Accuracy: 0.5420 - val_AUC: 0.9364 - lr: 1.0000e-04\n",
      "Epoch 14/75\n",
      "45/45 [==============================] - 1s 8ms/step - loss: 1.8545 - Categorical Accuracy: 0.3760 - AUC: 0.8586 - val_loss: 1.6246 - val_Categorical Accuracy: 0.5480 - val_AUC: 0.9406 - lr: 1.0000e-04\n",
      "Epoch 15/75\n",
      "45/45 [==============================] - 0s 8ms/step - loss: 1.8068 - Categorical Accuracy: 0.3991 - AUC: 0.8668 - val_loss: 1.5863 - val_Categorical Accuracy: 0.5420 - val_AUC: 0.9426 - lr: 1.0000e-04\n",
      "Epoch 16/75\n",
      "45/45 [==============================] - 0s 8ms/step - loss: 1.7694 - Categorical Accuracy: 0.4036 - AUC: 0.8770 - val_loss: 1.5238 - val_Categorical Accuracy: 0.5640 - val_AUC: 0.9481 - lr: 1.0000e-04\n",
      "Epoch 17/75\n",
      "45/45 [==============================] - 0s 8ms/step - loss: 1.7047 - Categorical Accuracy: 0.4293 - AUC: 0.8860 - val_loss: 1.4670 - val_Categorical Accuracy: 0.5880 - val_AUC: 0.9517 - lr: 1.0000e-04\n",
      "Epoch 18/75\n",
      "45/45 [==============================] - 1s 8ms/step - loss: 1.7275 - Categorical Accuracy: 0.4133 - AUC: 0.8843 - val_loss: 1.4315 - val_Categorical Accuracy: 0.5960 - val_AUC: 0.9538 - lr: 1.0000e-04\n",
      "Epoch 19/75\n",
      "45/45 [==============================] - 0s 8ms/step - loss: 1.6457 - Categorical Accuracy: 0.4347 - AUC: 0.8953 - val_loss: 1.3865 - val_Categorical Accuracy: 0.5940 - val_AUC: 0.9549 - lr: 1.0000e-04\n",
      "Epoch 20/75\n",
      "45/45 [==============================] - 1s 8ms/step - loss: 1.5576 - Categorical Accuracy: 0.4649 - AUC: 0.9101 - val_loss: 1.3291 - val_Categorical Accuracy: 0.6100 - val_AUC: 0.9570 - lr: 1.0000e-04\n",
      "Epoch 21/75\n",
      "45/45 [==============================] - 0s 8ms/step - loss: 1.5501 - Categorical Accuracy: 0.4898 - AUC: 0.9075 - val_loss: 1.2977 - val_Categorical Accuracy: 0.6140 - val_AUC: 0.9579 - lr: 1.0000e-04\n",
      "Epoch 22/75\n",
      "45/45 [==============================] - 1s 8ms/step - loss: 1.5266 - Categorical Accuracy: 0.4747 - AUC: 0.9125 - val_loss: 1.2697 - val_Categorical Accuracy: 0.6200 - val_AUC: 0.9595 - lr: 1.0000e-04\n",
      "Epoch 23/75\n",
      "45/45 [==============================] - 0s 8ms/step - loss: 1.5217 - Categorical Accuracy: 0.4978 - AUC: 0.9136 - val_loss: 1.2451 - val_Categorical Accuracy: 0.6260 - val_AUC: 0.9603 - lr: 1.0000e-04\n",
      "Epoch 24/75\n",
      "45/45 [==============================] - 1s 8ms/step - loss: 1.4327 - Categorical Accuracy: 0.4978 - AUC: 0.9238 - val_loss: 1.2023 - val_Categorical Accuracy: 0.6340 - val_AUC: 0.9619 - lr: 1.0000e-04\n",
      "Epoch 25/75\n",
      "45/45 [==============================] - 0s 8ms/step - loss: 1.4413 - Categorical Accuracy: 0.5164 - AUC: 0.9207 - val_loss: 1.1790 - val_Categorical Accuracy: 0.6400 - val_AUC: 0.9629 - lr: 1.0000e-04\n",
      "Epoch 26/75\n",
      "45/45 [==============================] - 0s 8ms/step - loss: 1.3822 - Categorical Accuracy: 0.5244 - AUC: 0.9286 - val_loss: 1.1589 - val_Categorical Accuracy: 0.6500 - val_AUC: 0.9638 - lr: 1.0000e-04\n",
      "Epoch 27/75\n",
      "45/45 [==============================] - 0s 8ms/step - loss: 1.3683 - Categorical Accuracy: 0.5307 - AUC: 0.9321 - val_loss: 1.1356 - val_Categorical Accuracy: 0.6440 - val_AUC: 0.9648 - lr: 1.0000e-04\n",
      "Epoch 28/75\n",
      "45/45 [==============================] - 1s 8ms/step - loss: 1.2980 - Categorical Accuracy: 0.5627 - AUC: 0.9392 - val_loss: 1.1080 - val_Categorical Accuracy: 0.6560 - val_AUC: 0.9656 - lr: 1.0000e-04\n",
      "Epoch 29/75\n",
      "45/45 [==============================] - 0s 8ms/step - loss: 1.2786 - Categorical Accuracy: 0.5564 - AUC: 0.9413 - val_loss: 1.0828 - val_Categorical Accuracy: 0.6540 - val_AUC: 0.9665 - lr: 1.0000e-04\n",
      "Epoch 30/75\n",
      "45/45 [==============================] - 1s 8ms/step - loss: 1.2952 - Categorical Accuracy: 0.5636 - AUC: 0.9388 - val_loss: 1.0556 - val_Categorical Accuracy: 0.6520 - val_AUC: 0.9686 - lr: 1.0000e-04\n",
      "Epoch 31/75\n",
      "45/45 [==============================] - 0s 8ms/step - loss: 1.2636 - Categorical Accuracy: 0.5938 - AUC: 0.9411 - val_loss: 1.0442 - val_Categorical Accuracy: 0.6520 - val_AUC: 0.9688 - lr: 1.0000e-04\n",
      "Epoch 32/75\n",
      "45/45 [==============================] - 0s 8ms/step - loss: 1.2085 - Categorical Accuracy: 0.5929 - AUC: 0.9465 - val_loss: 1.0238 - val_Categorical Accuracy: 0.6720 - val_AUC: 0.9693 - lr: 1.0000e-04\n",
      "Epoch 33/75\n",
      "45/45 [==============================] - 0s 8ms/step - loss: 1.2003 - Categorical Accuracy: 0.5867 - AUC: 0.9478 - val_loss: 1.0080 - val_Categorical Accuracy: 0.6800 - val_AUC: 0.9700 - lr: 1.0000e-04\n",
      "Epoch 34/75\n",
      "45/45 [==============================] - 1s 8ms/step - loss: 1.2336 - Categorical Accuracy: 0.5653 - AUC: 0.9452 - val_loss: 0.9987 - val_Categorical Accuracy: 0.6700 - val_AUC: 0.9706 - lr: 1.0000e-04\n",
      "Epoch 35/75\n",
      "45/45 [==============================] - 1s 8ms/step - loss: 1.1398 - Categorical Accuracy: 0.6089 - AUC: 0.9531 - val_loss: 0.9809 - val_Categorical Accuracy: 0.6780 - val_AUC: 0.9712 - lr: 1.0000e-04\n",
      "Epoch 36/75\n",
      "45/45 [==============================] - 1s 8ms/step - loss: 1.1236 - Categorical Accuracy: 0.6116 - AUC: 0.9547 - val_loss: 0.9654 - val_Categorical Accuracy: 0.6740 - val_AUC: 0.9720 - lr: 1.0000e-04\n",
      "Epoch 37/75\n",
      "45/45 [==============================] - 0s 8ms/step - loss: 1.1146 - Categorical Accuracy: 0.6036 - AUC: 0.9563 - val_loss: 0.9476 - val_Categorical Accuracy: 0.6740 - val_AUC: 0.9724 - lr: 1.0000e-04\n",
      "Epoch 38/75\n",
      "45/45 [==============================] - 0s 8ms/step - loss: 1.0920 - Categorical Accuracy: 0.6151 - AUC: 0.9578 - val_loss: 0.9551 - val_Categorical Accuracy: 0.6860 - val_AUC: 0.9714 - lr: 1.0000e-04\n",
      "Epoch 39/75\n",
      "45/45 [==============================] - 0s 8ms/step - loss: 1.0796 - Categorical Accuracy: 0.6089 - AUC: 0.9586 - val_loss: 0.9407 - val_Categorical Accuracy: 0.6840 - val_AUC: 0.9715 - lr: 1.0000e-04\n",
      "Epoch 40/75\n",
      "45/45 [==============================] - 1s 8ms/step - loss: 1.0406 - Categorical Accuracy: 0.6338 - AUC: 0.9621 - val_loss: 0.9294 - val_Categorical Accuracy: 0.6880 - val_AUC: 0.9721 - lr: 1.0000e-04\n",
      "Epoch 41/75\n",
      "45/45 [==============================] - 0s 8ms/step - loss: 1.0699 - Categorical Accuracy: 0.6284 - AUC: 0.9587 - val_loss: 0.9306 - val_Categorical Accuracy: 0.6980 - val_AUC: 0.9727 - lr: 1.0000e-04\n",
      "Epoch 42/75\n",
      "45/45 [==============================] - 1s 8ms/step - loss: 1.0028 - Categorical Accuracy: 0.6480 - AUC: 0.9643 - val_loss: 0.9066 - val_Categorical Accuracy: 0.6960 - val_AUC: 0.9729 - lr: 1.0000e-04\n",
      "Epoch 43/75\n",
      "45/45 [==============================] - 0s 8ms/step - loss: 1.0146 - Categorical Accuracy: 0.6373 - AUC: 0.9634 - val_loss: 0.8937 - val_Categorical Accuracy: 0.7040 - val_AUC: 0.9745 - lr: 1.0000e-04\n",
      "Epoch 44/75\n",
      "45/45 [==============================] - 0s 8ms/step - loss: 0.9524 - Categorical Accuracy: 0.6738 - AUC: 0.9672 - val_loss: 0.8836 - val_Categorical Accuracy: 0.7040 - val_AUC: 0.9746 - lr: 1.0000e-04\n",
      "Epoch 45/75\n",
      "45/45 [==============================] - 0s 8ms/step - loss: 0.9466 - Categorical Accuracy: 0.6729 - AUC: 0.9684 - val_loss: 0.8814 - val_Categorical Accuracy: 0.7020 - val_AUC: 0.9737 - lr: 1.0000e-04\n",
      "Epoch 46/75\n",
      "45/45 [==============================] - 1s 8ms/step - loss: 0.9646 - Categorical Accuracy: 0.6569 - AUC: 0.9670 - val_loss: 0.8634 - val_Categorical Accuracy: 0.7000 - val_AUC: 0.9753 - lr: 1.0000e-04\n",
      "Epoch 47/75\n",
      "45/45 [==============================] - 1s 8ms/step - loss: 0.9130 - Categorical Accuracy: 0.6818 - AUC: 0.9707 - val_loss: 0.8724 - val_Categorical Accuracy: 0.7120 - val_AUC: 0.9739 - lr: 1.0000e-04\n",
      "Epoch 48/75\n",
      "45/45 [==============================] - 0s 8ms/step - loss: 0.9125 - Categorical Accuracy: 0.6924 - AUC: 0.9705 - val_loss: 0.8625 - val_Categorical Accuracy: 0.7140 - val_AUC: 0.9748 - lr: 1.0000e-04\n",
      "Epoch 49/75\n",
      "45/45 [==============================] - 1s 8ms/step - loss: 0.9285 - Categorical Accuracy: 0.6898 - AUC: 0.9682 - val_loss: 0.8599 - val_Categorical Accuracy: 0.7160 - val_AUC: 0.9746 - lr: 1.0000e-04\n",
      "Epoch 50/75\n",
      "45/45 [==============================] - 1s 8ms/step - loss: 0.9007 - Categorical Accuracy: 0.6880 - AUC: 0.9703 - val_loss: 0.8564 - val_Categorical Accuracy: 0.7100 - val_AUC: 0.9746 - lr: 1.0000e-04\n",
      "Epoch 51/75\n",
      "45/45 [==============================] - 0s 8ms/step - loss: 0.8596 - Categorical Accuracy: 0.7111 - AUC: 0.9733 - val_loss: 0.8456 - val_Categorical Accuracy: 0.7120 - val_AUC: 0.9749 - lr: 1.0000e-04\n",
      "Epoch 52/75\n",
      "45/45 [==============================] - 1s 8ms/step - loss: 0.8466 - Categorical Accuracy: 0.7173 - AUC: 0.9746 - val_loss: 0.8402 - val_Categorical Accuracy: 0.7100 - val_AUC: 0.9748 - lr: 1.0000e-04\n",
      "Epoch 53/75\n",
      "45/45 [==============================] - 0s 8ms/step - loss: 0.8755 - Categorical Accuracy: 0.7004 - AUC: 0.9724 - val_loss: 0.8371 - val_Categorical Accuracy: 0.7140 - val_AUC: 0.9754 - lr: 1.0000e-04\n",
      "Epoch 54/75\n",
      "45/45 [==============================] - 0s 8ms/step - loss: 0.8298 - Categorical Accuracy: 0.7129 - AUC: 0.9757 - val_loss: 0.8334 - val_Categorical Accuracy: 0.7260 - val_AUC: 0.9757 - lr: 1.0000e-04\n",
      "Epoch 55/75\n",
      "45/45 [==============================] - 0s 8ms/step - loss: 0.7945 - Categorical Accuracy: 0.7236 - AUC: 0.9775 - val_loss: 0.8216 - val_Categorical Accuracy: 0.7240 - val_AUC: 0.9761 - lr: 1.0000e-04\n",
      "Epoch 56/75\n",
      "45/45 [==============================] - 1s 8ms/step - loss: 0.7865 - Categorical Accuracy: 0.7218 - AUC: 0.9781 - val_loss: 0.8087 - val_Categorical Accuracy: 0.7180 - val_AUC: 0.9768 - lr: 1.0000e-04\n",
      "Epoch 57/75\n",
      "45/45 [==============================] - 1s 8ms/step - loss: 0.7748 - Categorical Accuracy: 0.7280 - AUC: 0.9780 - val_loss: 0.8100 - val_Categorical Accuracy: 0.7220 - val_AUC: 0.9766 - lr: 1.0000e-04\n",
      "Epoch 58/75\n",
      "45/45 [==============================] - 1s 8ms/step - loss: 0.8068 - Categorical Accuracy: 0.7102 - AUC: 0.9764 - val_loss: 0.8127 - val_Categorical Accuracy: 0.7160 - val_AUC: 0.9762 - lr: 1.0000e-04\n",
      "Epoch 59/75\n",
      "45/45 [==============================] - 1s 8ms/step - loss: 0.7794 - Categorical Accuracy: 0.7093 - AUC: 0.9785 - val_loss: 0.8050 - val_Categorical Accuracy: 0.7140 - val_AUC: 0.9766 - lr: 1.0000e-04\n",
      "Epoch 60/75\n",
      "45/45 [==============================] - 0s 8ms/step - loss: 0.7637 - Categorical Accuracy: 0.7271 - AUC: 0.9788 - val_loss: 0.8073 - val_Categorical Accuracy: 0.7260 - val_AUC: 0.9764 - lr: 1.0000e-04\n",
      "Epoch 61/75\n",
      "45/45 [==============================] - 1s 8ms/step - loss: 0.7329 - Categorical Accuracy: 0.7529 - AUC: 0.9805 - val_loss: 0.7971 - val_Categorical Accuracy: 0.7220 - val_AUC: 0.9771 - lr: 1.0000e-04\n",
      "Epoch 62/75\n",
      "45/45 [==============================] - 1s 8ms/step - loss: 0.7462 - Categorical Accuracy: 0.7360 - AUC: 0.9799 - val_loss: 0.7953 - val_Categorical Accuracy: 0.7180 - val_AUC: 0.9770 - lr: 1.0000e-04\n",
      "Epoch 63/75\n",
      "45/45 [==============================] - 0s 8ms/step - loss: 0.7227 - Categorical Accuracy: 0.7431 - AUC: 0.9811 - val_loss: 0.7840 - val_Categorical Accuracy: 0.7300 - val_AUC: 0.9770 - lr: 1.0000e-04\n",
      "Epoch 64/75\n",
      "45/45 [==============================] - 1s 8ms/step - loss: 0.7062 - Categorical Accuracy: 0.7431 - AUC: 0.9824 - val_loss: 0.7877 - val_Categorical Accuracy: 0.7240 - val_AUC: 0.9773 - lr: 1.0000e-04\n",
      "Epoch 65/75\n",
      "45/45 [==============================] - 1s 8ms/step - loss: 0.6430 - Categorical Accuracy: 0.7804 - AUC: 0.9852 - val_loss: 0.7831 - val_Categorical Accuracy: 0.7200 - val_AUC: 0.9776 - lr: 1.0000e-04\n",
      "Epoch 66/75\n",
      "45/45 [==============================] - 0s 8ms/step - loss: 0.6629 - Categorical Accuracy: 0.7742 - AUC: 0.9848 - val_loss: 0.7952 - val_Categorical Accuracy: 0.7120 - val_AUC: 0.9770 - lr: 1.0000e-04\n",
      "Epoch 67/75\n",
      "45/45 [==============================] - 1s 8ms/step - loss: 0.6465 - Categorical Accuracy: 0.7689 - AUC: 0.9859 - val_loss: 0.7825 - val_Categorical Accuracy: 0.7320 - val_AUC: 0.9773 - lr: 1.0000e-04\n",
      "Epoch 68/75\n",
      "45/45 [==============================] - 0s 8ms/step - loss: 0.6317 - Categorical Accuracy: 0.7796 - AUC: 0.9863 - val_loss: 0.7664 - val_Categorical Accuracy: 0.7300 - val_AUC: 0.9774 - lr: 1.0000e-04\n",
      "Epoch 69/75\n",
      "45/45 [==============================] - 0s 8ms/step - loss: 0.6293 - Categorical Accuracy: 0.7867 - AUC: 0.9854 - val_loss: 0.7711 - val_Categorical Accuracy: 0.7260 - val_AUC: 0.9765 - lr: 1.0000e-04\n",
      "Epoch 70/75\n",
      "45/45 [==============================] - 1s 8ms/step - loss: 0.6742 - Categorical Accuracy: 0.7636 - AUC: 0.9827 - val_loss: 0.7691 - val_Categorical Accuracy: 0.7300 - val_AUC: 0.9776 - lr: 1.0000e-04\n",
      "Epoch 71/75\n",
      "44/45 [============================>.] - ETA: 0s - loss: 0.6392 - Categorical Accuracy: 0.7773 - AUC: 0.9850\n",
      "Epoch 00071: ReduceLROnPlateau reducing learning rate to 1.9999999494757503e-05.\n",
      "45/45 [==============================] - 0s 8ms/step - loss: 0.6363 - Categorical Accuracy: 0.7778 - AUC: 0.9852 - val_loss: 0.7744 - val_Categorical Accuracy: 0.7240 - val_AUC: 0.9771 - lr: 1.0000e-04\n",
      "Epoch 72/75\n",
      "45/45 [==============================] - 1s 8ms/step - loss: 0.6088 - Categorical Accuracy: 0.7929 - AUC: 0.9873 - val_loss: 0.7736 - val_Categorical Accuracy: 0.7260 - val_AUC: 0.9772 - lr: 2.0000e-05\n",
      "Epoch 73/75\n",
      "45/45 [==============================] - 0s 8ms/step - loss: 0.5852 - Categorical Accuracy: 0.7911 - AUC: 0.9870 - val_loss: 0.7746 - val_Categorical Accuracy: 0.7240 - val_AUC: 0.9771 - lr: 2.0000e-05\n"
     ]
    }
   ]
  },
  {
   "cell_type": "code",
   "metadata": {
    "id": "FBH9yzYpJq9C",
    "executionInfo": {
     "status": "ok",
     "timestamp": 1638885617617,
     "user_tz": 300,
     "elapsed": 10,
     "user": {
      "displayName": "Andrew Ning",
      "photoUrl": "https://lh3.googleusercontent.com/a-/AOh14GgyUiXynCeybWnGTpfHnOSTarAoJjvj-8rK8oxkzQ=s64",
      "userId": "04097743773373129918"
     }
    }
   },
   "source": [
    "# print(modelENRetrain.layers[-2].weights)"
   ],
   "execution_count": 117,
   "outputs": []
  },
  {
   "cell_type": "code",
   "metadata": {
    "colab": {
     "base_uri": "https://localhost:8080/"
    },
    "id": "UYC_GK_fNnKT",
    "executionInfo": {
     "status": "ok",
     "timestamp": 1638885648911,
     "user_tz": 300,
     "elapsed": 31304,
     "user": {
      "displayName": "Andrew Ning",
      "photoUrl": "https://lh3.googleusercontent.com/a-/AOh14GgyUiXynCeybWnGTpfHnOSTarAoJjvj-8rK8oxkzQ=s64",
      "userId": "04097743773373129918"
     }
    },
    "outputId": "229b4487-3801-411f-857d-59863b46dcfb"
   },
   "source": [
    "newSharedLayers = shared(inputES)\n",
    "newLayersES = languagelayers(NUM_LABELS_ES,'ES')(newSharedLayers)\n",
    "\n",
    "modelESRetrain = tf.keras.Model(\n",
    "    inputs=inputES,\n",
    "    outputs=newLayersES,\n",
    "    name='ESModelRetrained'\n",
    ")\n",
    "\n",
    "modelESRetrain.compile(optimizer = tf.keras.optimizers.Adam(learning_rate=LEARNING_RATE),\n",
    "    loss=tf.keras.losses.CategoricalCrossentropy(),\n",
    "    metrics=[tf.keras.metrics.CategoricalAccuracy(name='Categorical Accuracy'),tf.keras.metrics.AUC(name='AUC')])\n",
    "\n",
    "ext = '-RETRAIN-ES'\n",
    "training_callbackRETRAINES = callbacks.TensorBoard(log_dir=LOG_DIR + RUN + ext)\n",
    "\n",
    "historyESRetrain = modelESRetrain.fit(\n",
    "    x = traindatasetES,\n",
    "    validation_data = valdatasetES,\n",
    "    epochs=EPOCHS,\n",
    "    steps_per_epoch=STEPS_PER_EPOCH,\n",
    "    callbacks=[training_callbackRETRAINES,earlystopping_callback,reduce_lr_callback],\n",
    "    verbose=1\n",
    ")"
   ],
   "execution_count": 118,
   "outputs": [
    {
     "output_type": "stream",
     "name": "stdout",
     "text": [
      "Epoch 1/75\n",
      "45/45 [==============================] - 2s 15ms/step - loss: 2.8656 - Categorical Accuracy: 0.1102 - AUC: 0.5410 - val_loss: 2.3294 - val_Categorical Accuracy: 0.2100 - val_AUC: 0.6924 - lr: 1.0000e-04\n",
      "Epoch 2/75\n",
      "45/45 [==============================] - 0s 7ms/step - loss: 2.4365 - Categorical Accuracy: 0.1191 - AUC: 0.6004 - val_loss: 2.3038 - val_Categorical Accuracy: 0.2580 - val_AUC: 0.7555 - lr: 1.0000e-04\n",
      "Epoch 3/75\n",
      "45/45 [==============================] - 1s 7ms/step - loss: 2.3709 - Categorical Accuracy: 0.1209 - AUC: 0.6175 - val_loss: 2.2648 - val_Categorical Accuracy: 0.2780 - val_AUC: 0.8073 - lr: 1.0000e-04\n",
      "Epoch 4/75\n",
      "45/45 [==============================] - 1s 7ms/step - loss: 2.3358 - Categorical Accuracy: 0.1333 - AUC: 0.6298 - val_loss: 2.2188 - val_Categorical Accuracy: 0.2880 - val_AUC: 0.8247 - lr: 1.0000e-04\n",
      "Epoch 5/75\n",
      "45/45 [==============================] - 1s 7ms/step - loss: 2.2397 - Categorical Accuracy: 0.1662 - AUC: 0.6768 - val_loss: 2.1429 - val_Categorical Accuracy: 0.3220 - val_AUC: 0.8609 - lr: 1.0000e-04\n",
      "Epoch 6/75\n",
      "45/45 [==============================] - 1s 8ms/step - loss: 2.2005 - Categorical Accuracy: 0.1689 - AUC: 0.6944 - val_loss: 2.0502 - val_Categorical Accuracy: 0.3700 - val_AUC: 0.8916 - lr: 1.0000e-04\n",
      "Epoch 7/75\n",
      "45/45 [==============================] - 1s 8ms/step - loss: 2.1057 - Categorical Accuracy: 0.2089 - AUC: 0.7394 - val_loss: 1.9385 - val_Categorical Accuracy: 0.3720 - val_AUC: 0.9033 - lr: 1.0000e-04\n",
      "Epoch 8/75\n",
      "45/45 [==============================] - 0s 8ms/step - loss: 2.0141 - Categorical Accuracy: 0.2498 - AUC: 0.7692 - val_loss: 1.8358 - val_Categorical Accuracy: 0.4140 - val_AUC: 0.9155 - lr: 1.0000e-04\n",
      "Epoch 9/75\n",
      "45/45 [==============================] - 0s 8ms/step - loss: 1.9100 - Categorical Accuracy: 0.2756 - AUC: 0.8021 - val_loss: 1.7376 - val_Categorical Accuracy: 0.4320 - val_AUC: 0.9223 - lr: 1.0000e-04\n",
      "Epoch 10/75\n",
      "45/45 [==============================] - 0s 8ms/step - loss: 1.8424 - Categorical Accuracy: 0.3138 - AUC: 0.8197 - val_loss: 1.6465 - val_Categorical Accuracy: 0.4460 - val_AUC: 0.9319 - lr: 1.0000e-04\n",
      "Epoch 11/75\n",
      "45/45 [==============================] - 0s 8ms/step - loss: 1.8290 - Categorical Accuracy: 0.3084 - AUC: 0.8242 - val_loss: 1.5734 - val_Categorical Accuracy: 0.4760 - val_AUC: 0.9381 - lr: 1.0000e-04\n",
      "Epoch 12/75\n",
      "45/45 [==============================] - 0s 8ms/step - loss: 1.7630 - Categorical Accuracy: 0.3147 - AUC: 0.8398 - val_loss: 1.5046 - val_Categorical Accuracy: 0.4580 - val_AUC: 0.9415 - lr: 1.0000e-04\n",
      "Epoch 13/75\n",
      "45/45 [==============================] - 0s 8ms/step - loss: 1.6981 - Categorical Accuracy: 0.3378 - AUC: 0.8540 - val_loss: 1.4427 - val_Categorical Accuracy: 0.4900 - val_AUC: 0.9444 - lr: 1.0000e-04\n",
      "Epoch 14/75\n",
      "45/45 [==============================] - 0s 8ms/step - loss: 1.7210 - Categorical Accuracy: 0.3236 - AUC: 0.8512 - val_loss: 1.4070 - val_Categorical Accuracy: 0.5120 - val_AUC: 0.9486 - lr: 1.0000e-04\n",
      "Epoch 15/75\n",
      "45/45 [==============================] - 1s 8ms/step - loss: 1.6167 - Categorical Accuracy: 0.3502 - AUC: 0.8743 - val_loss: 1.3413 - val_Categorical Accuracy: 0.5340 - val_AUC: 0.9527 - lr: 1.0000e-04\n",
      "Epoch 16/75\n",
      "45/45 [==============================] - 1s 8ms/step - loss: 1.5508 - Categorical Accuracy: 0.3751 - AUC: 0.8844 - val_loss: 1.2882 - val_Categorical Accuracy: 0.5340 - val_AUC: 0.9547 - lr: 1.0000e-04\n",
      "Epoch 17/75\n",
      "45/45 [==============================] - 1s 8ms/step - loss: 1.4837 - Categorical Accuracy: 0.3858 - AUC: 0.8943 - val_loss: 1.2358 - val_Categorical Accuracy: 0.5500 - val_AUC: 0.9594 - lr: 1.0000e-04\n",
      "Epoch 18/75\n",
      "45/45 [==============================] - 1s 8ms/step - loss: 1.4740 - Categorical Accuracy: 0.3956 - AUC: 0.8959 - val_loss: 1.1884 - val_Categorical Accuracy: 0.5820 - val_AUC: 0.9626 - lr: 1.0000e-04\n",
      "Epoch 19/75\n",
      "45/45 [==============================] - 0s 8ms/step - loss: 1.4221 - Categorical Accuracy: 0.4142 - AUC: 0.9051 - val_loss: 1.1470 - val_Categorical Accuracy: 0.5740 - val_AUC: 0.9642 - lr: 1.0000e-04\n",
      "Epoch 20/75\n",
      "45/45 [==============================] - 1s 8ms/step - loss: 1.3974 - Categorical Accuracy: 0.4116 - AUC: 0.9106 - val_loss: 1.1085 - val_Categorical Accuracy: 0.5940 - val_AUC: 0.9663 - lr: 1.0000e-04\n",
      "Epoch 21/75\n",
      "45/45 [==============================] - 0s 8ms/step - loss: 1.3567 - Categorical Accuracy: 0.4347 - AUC: 0.9109 - val_loss: 1.0875 - val_Categorical Accuracy: 0.5740 - val_AUC: 0.9658 - lr: 1.0000e-04\n",
      "Epoch 22/75\n",
      "45/45 [==============================] - 1s 8ms/step - loss: 1.3352 - Categorical Accuracy: 0.4356 - AUC: 0.9162 - val_loss: 1.0538 - val_Categorical Accuracy: 0.5960 - val_AUC: 0.9674 - lr: 1.0000e-04\n",
      "Epoch 23/75\n",
      "45/45 [==============================] - 0s 8ms/step - loss: 1.2891 - Categorical Accuracy: 0.4613 - AUC: 0.9229 - val_loss: 1.0242 - val_Categorical Accuracy: 0.5800 - val_AUC: 0.9687 - lr: 1.0000e-04\n",
      "Epoch 24/75\n",
      "45/45 [==============================] - 1s 8ms/step - loss: 1.2607 - Categorical Accuracy: 0.4569 - AUC: 0.9270 - val_loss: 0.9865 - val_Categorical Accuracy: 0.6020 - val_AUC: 0.9707 - lr: 1.0000e-04\n",
      "Epoch 25/75\n",
      "45/45 [==============================] - 0s 8ms/step - loss: 1.2544 - Categorical Accuracy: 0.4693 - AUC: 0.9260 - val_loss: 0.9774 - val_Categorical Accuracy: 0.6080 - val_AUC: 0.9721 - lr: 1.0000e-04\n",
      "Epoch 26/75\n",
      "45/45 [==============================] - 1s 8ms/step - loss: 1.2012 - Categorical Accuracy: 0.4747 - AUC: 0.9342 - val_loss: 0.9551 - val_Categorical Accuracy: 0.6180 - val_AUC: 0.9724 - lr: 1.0000e-04\n",
      "Epoch 27/75\n",
      "45/45 [==============================] - 0s 8ms/step - loss: 1.1761 - Categorical Accuracy: 0.4836 - AUC: 0.9359 - val_loss: 0.9277 - val_Categorical Accuracy: 0.6040 - val_AUC: 0.9735 - lr: 1.0000e-04\n",
      "Epoch 28/75\n",
      "45/45 [==============================] - 1s 8ms/step - loss: 1.1582 - Categorical Accuracy: 0.5013 - AUC: 0.9367 - val_loss: 0.8988 - val_Categorical Accuracy: 0.6280 - val_AUC: 0.9748 - lr: 1.0000e-04\n",
      "Epoch 29/75\n",
      "45/45 [==============================] - 1s 8ms/step - loss: 1.1069 - Categorical Accuracy: 0.5244 - AUC: 0.9428 - val_loss: 0.8800 - val_Categorical Accuracy: 0.6200 - val_AUC: 0.9749 - lr: 1.0000e-04\n",
      "Epoch 30/75\n",
      "45/45 [==============================] - 1s 8ms/step - loss: 1.0832 - Categorical Accuracy: 0.5307 - AUC: 0.9451 - val_loss: 0.8653 - val_Categorical Accuracy: 0.6180 - val_AUC: 0.9752 - lr: 1.0000e-04\n",
      "Epoch 31/75\n",
      "45/45 [==============================] - 0s 8ms/step - loss: 1.0684 - Categorical Accuracy: 0.5351 - AUC: 0.9462 - val_loss: 0.8495 - val_Categorical Accuracy: 0.6360 - val_AUC: 0.9761 - lr: 1.0000e-04\n",
      "Epoch 32/75\n",
      "45/45 [==============================] - 0s 8ms/step - loss: 1.0652 - Categorical Accuracy: 0.5316 - AUC: 0.9458 - val_loss: 0.8234 - val_Categorical Accuracy: 0.6480 - val_AUC: 0.9764 - lr: 1.0000e-04\n",
      "Epoch 33/75\n",
      "45/45 [==============================] - 1s 8ms/step - loss: 1.0831 - Categorical Accuracy: 0.5324 - AUC: 0.9441 - val_loss: 0.8107 - val_Categorical Accuracy: 0.6420 - val_AUC: 0.9775 - lr: 1.0000e-04\n",
      "Epoch 34/75\n",
      "45/45 [==============================] - 0s 8ms/step - loss: 1.0049 - Categorical Accuracy: 0.5716 - AUC: 0.9522 - val_loss: 0.7831 - val_Categorical Accuracy: 0.6600 - val_AUC: 0.9785 - lr: 1.0000e-04\n",
      "Epoch 35/75\n",
      "45/45 [==============================] - 1s 8ms/step - loss: 1.0033 - Categorical Accuracy: 0.5600 - AUC: 0.9523 - val_loss: 0.7724 - val_Categorical Accuracy: 0.6440 - val_AUC: 0.9784 - lr: 1.0000e-04\n",
      "Epoch 36/75\n",
      "45/45 [==============================] - 0s 8ms/step - loss: 1.0106 - Categorical Accuracy: 0.5484 - AUC: 0.9513 - val_loss: 0.7543 - val_Categorical Accuracy: 0.6700 - val_AUC: 0.9790 - lr: 1.0000e-04\n",
      "Epoch 37/75\n",
      "45/45 [==============================] - 1s 8ms/step - loss: 0.9675 - Categorical Accuracy: 0.5707 - AUC: 0.9546 - val_loss: 0.7533 - val_Categorical Accuracy: 0.6620 - val_AUC: 0.9790 - lr: 1.0000e-04\n",
      "Epoch 38/75\n",
      "45/45 [==============================] - 0s 8ms/step - loss: 0.9436 - Categorical Accuracy: 0.5724 - AUC: 0.9573 - val_loss: 0.7350 - val_Categorical Accuracy: 0.6660 - val_AUC: 0.9792 - lr: 1.0000e-04\n",
      "Epoch 39/75\n",
      "45/45 [==============================] - 1s 8ms/step - loss: 0.9881 - Categorical Accuracy: 0.5520 - AUC: 0.9508 - val_loss: 0.7287 - val_Categorical Accuracy: 0.6860 - val_AUC: 0.9801 - lr: 1.0000e-04\n",
      "Epoch 40/75\n",
      "45/45 [==============================] - 1s 8ms/step - loss: 0.9202 - Categorical Accuracy: 0.5760 - AUC: 0.9591 - val_loss: 0.7261 - val_Categorical Accuracy: 0.6980 - val_AUC: 0.9793 - lr: 1.0000e-04\n",
      "Epoch 41/75\n",
      "45/45 [==============================] - 1s 8ms/step - loss: 0.9412 - Categorical Accuracy: 0.5858 - AUC: 0.9556 - val_loss: 0.6981 - val_Categorical Accuracy: 0.6900 - val_AUC: 0.9803 - lr: 1.0000e-04\n",
      "Epoch 42/75\n",
      "45/45 [==============================] - 0s 8ms/step - loss: 0.9871 - Categorical Accuracy: 0.5502 - AUC: 0.9525 - val_loss: 0.7027 - val_Categorical Accuracy: 0.6800 - val_AUC: 0.9800 - lr: 1.0000e-04\n",
      "Epoch 43/75\n",
      "45/45 [==============================] - 0s 8ms/step - loss: 0.9052 - Categorical Accuracy: 0.5867 - AUC: 0.9589 - val_loss: 0.6883 - val_Categorical Accuracy: 0.6840 - val_AUC: 0.9797 - lr: 1.0000e-04\n",
      "Epoch 44/75\n",
      "45/45 [==============================] - 1s 8ms/step - loss: 0.9215 - Categorical Accuracy: 0.5867 - AUC: 0.9571 - val_loss: 0.6884 - val_Categorical Accuracy: 0.6880 - val_AUC: 0.9795 - lr: 1.0000e-04\n",
      "Epoch 45/75\n",
      "45/45 [==============================] - 1s 8ms/step - loss: 0.8890 - Categorical Accuracy: 0.5929 - AUC: 0.9599 - val_loss: 0.6742 - val_Categorical Accuracy: 0.6900 - val_AUC: 0.9796 - lr: 1.0000e-04\n",
      "Epoch 46/75\n",
      "45/45 [==============================] - 0s 8ms/step - loss: 0.9269 - Categorical Accuracy: 0.5760 - AUC: 0.9558 - val_loss: 0.6546 - val_Categorical Accuracy: 0.6920 - val_AUC: 0.9804 - lr: 1.0000e-04\n",
      "Epoch 47/75\n",
      "45/45 [==============================] - 0s 8ms/step - loss: 0.9639 - Categorical Accuracy: 0.5867 - AUC: 0.9541 - val_loss: 0.6783 - val_Categorical Accuracy: 0.6980 - val_AUC: 0.9783 - lr: 1.0000e-04\n",
      "Epoch 48/75\n",
      "45/45 [==============================] - 0s 8ms/step - loss: 0.9365 - Categorical Accuracy: 0.5938 - AUC: 0.9554 - val_loss: 0.6547 - val_Categorical Accuracy: 0.6980 - val_AUC: 0.9796 - lr: 1.0000e-04\n",
      "Epoch 49/75\n",
      "44/45 [============================>.] - ETA: 0s - loss: 1.0558 - Categorical Accuracy: 0.5791 - AUC: 0.9435\n",
      "Epoch 00049: ReduceLROnPlateau reducing learning rate to 1.9999999494757503e-05.\n",
      "45/45 [==============================] - 1s 8ms/step - loss: 1.0524 - Categorical Accuracy: 0.5778 - AUC: 0.9439 - val_loss: 0.6665 - val_Categorical Accuracy: 0.7040 - val_AUC: 0.9784 - lr: 1.0000e-04\n",
      "Epoch 50/75\n",
      "45/45 [==============================] - 0s 8ms/step - loss: 0.9976 - Categorical Accuracy: 0.6036 - AUC: 0.9498 - val_loss: 0.6616 - val_Categorical Accuracy: 0.7000 - val_AUC: 0.9787 - lr: 2.0000e-05\n",
      "Epoch 51/75\n",
      "45/45 [==============================] - 1s 8ms/step - loss: 0.9938 - Categorical Accuracy: 0.5947 - AUC: 0.9511 - val_loss: 0.6673 - val_Categorical Accuracy: 0.6980 - val_AUC: 0.9774 - lr: 2.0000e-05\n"
     ]
    }
   ]
  },
  {
   "cell_type": "code",
   "metadata": {
    "id": "NbFf4HAaOCgj",
    "colab": {
     "base_uri": "https://localhost:8080/"
    },
    "executionInfo": {
     "status": "ok",
     "timestamp": 1638885694140,
     "user_tz": 300,
     "elapsed": 45237,
     "user": {
      "displayName": "Andrew Ning",
      "photoUrl": "https://lh3.googleusercontent.com/a-/AOh14GgyUiXynCeybWnGTpfHnOSTarAoJjvj-8rK8oxkzQ=s64",
      "userId": "04097743773373129918"
     }
    },
    "outputId": "b68f4f89-fbef-42cd-9b1e-674ed428e8e5"
   },
   "source": [
    "newSharedLayers = shared(inputFR)\n",
    "newLayersFR = languagelayers(NUM_LABELS_FR,'FR')(newSharedLayers)\n",
    "\n",
    "modelFRRetrain = tf.keras.Model(\n",
    "    inputs=inputFR,\n",
    "    outputs=newLayersFR,\n",
    "    name='FRModelRetrained'\n",
    ")\n",
    "\n",
    "modelFRRetrain.compile(optimizer = tf.keras.optimizers.Adam(learning_rate=LEARNING_RATE),\n",
    "    loss=tf.keras.losses.CategoricalCrossentropy(),\n",
    "    metrics=[tf.keras.metrics.CategoricalAccuracy(name='Categorical Accuracy'),tf.keras.metrics.AUC(name='AUC')])\n",
    "\n",
    "ext = '-RETRAIN-FR'\n",
    "training_callbackRETRAINFR = callbacks.TensorBoard(log_dir=LOG_DIR + RUN + ext)\n",
    "\n",
    "historyFRRetrain = modelFRRetrain.fit(\n",
    "    x = traindatasetFR,\n",
    "    validation_data = valdatasetFR,\n",
    "    epochs=EPOCHS,\n",
    "    steps_per_epoch=STEPS_PER_EPOCH,\n",
    "    callbacks=[training_callbackRETRAINFR,earlystopping_callback,reduce_lr_callback],\n",
    "    verbose=1\n",
    ")"
   ],
   "execution_count": 119,
   "outputs": [
    {
     "output_type": "stream",
     "name": "stdout",
     "text": [
      "Epoch 1/75\n",
      "45/45 [==============================] - 2s 15ms/step - loss: 2.9494 - Categorical Accuracy: 0.1049 - AUC: 0.5658 - val_loss: 2.6283 - val_Categorical Accuracy: 0.1480 - val_AUC: 0.6555 - lr: 1.0000e-04\n",
      "Epoch 2/75\n",
      "45/45 [==============================] - 0s 7ms/step - loss: 2.7338 - Categorical Accuracy: 0.0889 - AUC: 0.5886 - val_loss: 2.5956 - val_Categorical Accuracy: 0.2420 - val_AUC: 0.7197 - lr: 1.0000e-04\n",
      "Epoch 3/75\n",
      "45/45 [==============================] - 1s 7ms/step - loss: 2.6270 - Categorical Accuracy: 0.1182 - AUC: 0.6247 - val_loss: 2.5408 - val_Categorical Accuracy: 0.3260 - val_AUC: 0.7699 - lr: 1.0000e-04\n",
      "Epoch 4/75\n",
      "45/45 [==============================] - 1s 7ms/step - loss: 2.5818 - Categorical Accuracy: 0.1449 - AUC: 0.6431 - val_loss: 2.4954 - val_Categorical Accuracy: 0.3320 - val_AUC: 0.7820 - lr: 1.0000e-04\n",
      "Epoch 5/75\n",
      "45/45 [==============================] - 1s 7ms/step - loss: 2.4949 - Categorical Accuracy: 0.1698 - AUC: 0.6862 - val_loss: 2.4207 - val_Categorical Accuracy: 0.3620 - val_AUC: 0.8123 - lr: 1.0000e-04\n",
      "Epoch 6/75\n",
      "45/45 [==============================] - 1s 8ms/step - loss: 2.4325 - Categorical Accuracy: 0.1902 - AUC: 0.7115 - val_loss: 2.3320 - val_Categorical Accuracy: 0.4180 - val_AUC: 0.8531 - lr: 1.0000e-04\n",
      "Epoch 7/75\n",
      "45/45 [==============================] - 1s 8ms/step - loss: 2.3333 - Categorical Accuracy: 0.2391 - AUC: 0.7446 - val_loss: 2.2221 - val_Categorical Accuracy: 0.4420 - val_AUC: 0.8718 - lr: 1.0000e-04\n",
      "Epoch 8/75\n",
      "45/45 [==============================] - 1s 8ms/step - loss: 2.2694 - Categorical Accuracy: 0.2382 - AUC: 0.7666 - val_loss: 2.1117 - val_Categorical Accuracy: 0.4580 - val_AUC: 0.8908 - lr: 1.0000e-04\n",
      "Epoch 9/75\n",
      "45/45 [==============================] - 0s 8ms/step - loss: 2.1985 - Categorical Accuracy: 0.2782 - AUC: 0.7911 - val_loss: 2.0226 - val_Categorical Accuracy: 0.5020 - val_AUC: 0.9003 - lr: 1.0000e-04\n",
      "Epoch 10/75\n",
      "45/45 [==============================] - 0s 8ms/step - loss: 2.0943 - Categorical Accuracy: 0.3013 - AUC: 0.8152 - val_loss: 1.9029 - val_Categorical Accuracy: 0.5060 - val_AUC: 0.9085 - lr: 1.0000e-04\n",
      "Epoch 11/75\n",
      "45/45 [==============================] - 1s 8ms/step - loss: 1.9936 - Categorical Accuracy: 0.3502 - AUC: 0.8333 - val_loss: 1.8003 - val_Categorical Accuracy: 0.5460 - val_AUC: 0.9219 - lr: 1.0000e-04\n",
      "Epoch 12/75\n",
      "45/45 [==============================] - 0s 8ms/step - loss: 1.9275 - Categorical Accuracy: 0.3689 - AUC: 0.8496 - val_loss: 1.7030 - val_Categorical Accuracy: 0.5920 - val_AUC: 0.9315 - lr: 1.0000e-04\n",
      "Epoch 13/75\n",
      "45/45 [==============================] - 0s 8ms/step - loss: 1.8398 - Categorical Accuracy: 0.3733 - AUC: 0.8684 - val_loss: 1.6226 - val_Categorical Accuracy: 0.6200 - val_AUC: 0.9367 - lr: 1.0000e-04\n",
      "Epoch 14/75\n",
      "45/45 [==============================] - 1s 8ms/step - loss: 1.7582 - Categorical Accuracy: 0.3947 - AUC: 0.8812 - val_loss: 1.5423 - val_Categorical Accuracy: 0.6300 - val_AUC: 0.9424 - lr: 1.0000e-04\n",
      "Epoch 15/75\n",
      "45/45 [==============================] - 1s 8ms/step - loss: 1.7315 - Categorical Accuracy: 0.4116 - AUC: 0.8838 - val_loss: 1.4858 - val_Categorical Accuracy: 0.6440 - val_AUC: 0.9476 - lr: 1.0000e-04\n",
      "Epoch 16/75\n",
      "45/45 [==============================] - 1s 8ms/step - loss: 1.6396 - Categorical Accuracy: 0.4373 - AUC: 0.8995 - val_loss: 1.4260 - val_Categorical Accuracy: 0.6500 - val_AUC: 0.9478 - lr: 1.0000e-04\n",
      "Epoch 17/75\n",
      "45/45 [==============================] - 1s 8ms/step - loss: 1.6064 - Categorical Accuracy: 0.4347 - AUC: 0.9039 - val_loss: 1.3823 - val_Categorical Accuracy: 0.6660 - val_AUC: 0.9515 - lr: 1.0000e-04\n",
      "Epoch 18/75\n",
      "45/45 [==============================] - 1s 8ms/step - loss: 1.5275 - Categorical Accuracy: 0.4880 - AUC: 0.9146 - val_loss: 1.3228 - val_Categorical Accuracy: 0.6740 - val_AUC: 0.9550 - lr: 1.0000e-04\n",
      "Epoch 19/75\n",
      "45/45 [==============================] - 1s 9ms/step - loss: 1.4894 - Categorical Accuracy: 0.4978 - AUC: 0.9184 - val_loss: 1.2783 - val_Categorical Accuracy: 0.6760 - val_AUC: 0.9572 - lr: 1.0000e-04\n",
      "Epoch 20/75\n",
      "45/45 [==============================] - 1s 9ms/step - loss: 1.4494 - Categorical Accuracy: 0.5262 - AUC: 0.9218 - val_loss: 1.2322 - val_Categorical Accuracy: 0.6780 - val_AUC: 0.9596 - lr: 1.0000e-04\n",
      "Epoch 21/75\n",
      "45/45 [==============================] - 1s 8ms/step - loss: 1.4061 - Categorical Accuracy: 0.5111 - AUC: 0.9279 - val_loss: 1.2136 - val_Categorical Accuracy: 0.6880 - val_AUC: 0.9600 - lr: 1.0000e-04\n",
      "Epoch 22/75\n",
      "45/45 [==============================] - 1s 8ms/step - loss: 1.3038 - Categorical Accuracy: 0.5582 - AUC: 0.9402 - val_loss: 1.1457 - val_Categorical Accuracy: 0.6920 - val_AUC: 0.9634 - lr: 1.0000e-04\n",
      "Epoch 23/75\n",
      "45/45 [==============================] - 1s 8ms/step - loss: 1.3112 - Categorical Accuracy: 0.5520 - AUC: 0.9372 - val_loss: 1.1221 - val_Categorical Accuracy: 0.7060 - val_AUC: 0.9640 - lr: 1.0000e-04\n",
      "Epoch 24/75\n",
      "45/45 [==============================] - 1s 8ms/step - loss: 1.2780 - Categorical Accuracy: 0.5591 - AUC: 0.9412 - val_loss: 1.0989 - val_Categorical Accuracy: 0.7100 - val_AUC: 0.9659 - lr: 1.0000e-04\n",
      "Epoch 25/75\n",
      "45/45 [==============================] - 0s 8ms/step - loss: 1.1841 - Categorical Accuracy: 0.6000 - AUC: 0.9502 - val_loss: 1.0638 - val_Categorical Accuracy: 0.7060 - val_AUC: 0.9670 - lr: 1.0000e-04\n",
      "Epoch 26/75\n",
      "45/45 [==============================] - 1s 8ms/step - loss: 1.1604 - Categorical Accuracy: 0.5956 - AUC: 0.9515 - val_loss: 1.0337 - val_Categorical Accuracy: 0.7000 - val_AUC: 0.9684 - lr: 1.0000e-04\n",
      "Epoch 27/75\n",
      "45/45 [==============================] - 1s 8ms/step - loss: 1.1441 - Categorical Accuracy: 0.6142 - AUC: 0.9533 - val_loss: 1.0253 - val_Categorical Accuracy: 0.7060 - val_AUC: 0.9683 - lr: 1.0000e-04\n",
      "Epoch 28/75\n",
      "45/45 [==============================] - 1s 8ms/step - loss: 1.1215 - Categorical Accuracy: 0.6222 - AUC: 0.9555 - val_loss: 1.0025 - val_Categorical Accuracy: 0.7000 - val_AUC: 0.9684 - lr: 1.0000e-04\n",
      "Epoch 29/75\n",
      "45/45 [==============================] - 1s 8ms/step - loss: 1.1267 - Categorical Accuracy: 0.5991 - AUC: 0.9551 - val_loss: 0.9765 - val_Categorical Accuracy: 0.7180 - val_AUC: 0.9706 - lr: 1.0000e-04\n",
      "Epoch 30/75\n",
      "45/45 [==============================] - 1s 8ms/step - loss: 1.0649 - Categorical Accuracy: 0.6373 - AUC: 0.9587 - val_loss: 0.9585 - val_Categorical Accuracy: 0.7180 - val_AUC: 0.9709 - lr: 1.0000e-04\n",
      "Epoch 31/75\n",
      "45/45 [==============================] - 1s 8ms/step - loss: 1.0613 - Categorical Accuracy: 0.6302 - AUC: 0.9599 - val_loss: 0.9488 - val_Categorical Accuracy: 0.7160 - val_AUC: 0.9711 - lr: 1.0000e-04\n",
      "Epoch 32/75\n",
      "45/45 [==============================] - 1s 8ms/step - loss: 0.9467 - Categorical Accuracy: 0.6667 - AUC: 0.9686 - val_loss: 0.9462 - val_Categorical Accuracy: 0.7220 - val_AUC: 0.9709 - lr: 1.0000e-04\n",
      "Epoch 33/75\n",
      "45/45 [==============================] - 1s 8ms/step - loss: 0.9804 - Categorical Accuracy: 0.6676 - AUC: 0.9653 - val_loss: 0.9231 - val_Categorical Accuracy: 0.7160 - val_AUC: 0.9710 - lr: 1.0000e-04\n",
      "Epoch 34/75\n",
      "45/45 [==============================] - 1s 8ms/step - loss: 0.9784 - Categorical Accuracy: 0.6649 - AUC: 0.9656 - val_loss: 0.9137 - val_Categorical Accuracy: 0.7400 - val_AUC: 0.9719 - lr: 1.0000e-04\n",
      "Epoch 35/75\n",
      "45/45 [==============================] - 1s 8ms/step - loss: 0.9475 - Categorical Accuracy: 0.6622 - AUC: 0.9687 - val_loss: 0.9140 - val_Categorical Accuracy: 0.7400 - val_AUC: 0.9719 - lr: 1.0000e-04\n",
      "Epoch 36/75\n",
      "45/45 [==============================] - 1s 8ms/step - loss: 0.9070 - Categorical Accuracy: 0.6791 - AUC: 0.9705 - val_loss: 0.8928 - val_Categorical Accuracy: 0.7280 - val_AUC: 0.9731 - lr: 1.0000e-04\n",
      "Epoch 37/75\n",
      "45/45 [==============================] - 1s 8ms/step - loss: 0.8963 - Categorical Accuracy: 0.7022 - AUC: 0.9708 - val_loss: 0.8813 - val_Categorical Accuracy: 0.7380 - val_AUC: 0.9727 - lr: 1.0000e-04\n",
      "Epoch 38/75\n",
      "45/45 [==============================] - 1s 8ms/step - loss: 0.8918 - Categorical Accuracy: 0.7031 - AUC: 0.9714 - val_loss: 0.8671 - val_Categorical Accuracy: 0.7500 - val_AUC: 0.9729 - lr: 1.0000e-04\n",
      "Epoch 39/75\n",
      "45/45 [==============================] - 1s 8ms/step - loss: 0.8155 - Categorical Accuracy: 0.7147 - AUC: 0.9767 - val_loss: 0.8579 - val_Categorical Accuracy: 0.7340 - val_AUC: 0.9733 - lr: 1.0000e-04\n",
      "Epoch 40/75\n",
      "45/45 [==============================] - 1s 8ms/step - loss: 0.8369 - Categorical Accuracy: 0.7218 - AUC: 0.9745 - val_loss: 0.8523 - val_Categorical Accuracy: 0.7560 - val_AUC: 0.9729 - lr: 1.0000e-04\n",
      "Epoch 41/75\n",
      "45/45 [==============================] - 1s 8ms/step - loss: 0.7935 - Categorical Accuracy: 0.7271 - AUC: 0.9782 - val_loss: 0.8352 - val_Categorical Accuracy: 0.7560 - val_AUC: 0.9728 - lr: 1.0000e-04\n",
      "Epoch 42/75\n",
      "45/45 [==============================] - 1s 8ms/step - loss: 0.7850 - Categorical Accuracy: 0.7324 - AUC: 0.9781 - val_loss: 0.8295 - val_Categorical Accuracy: 0.7560 - val_AUC: 0.9743 - lr: 1.0000e-04\n",
      "Epoch 43/75\n",
      "45/45 [==============================] - 0s 8ms/step - loss: 0.8100 - Categorical Accuracy: 0.7209 - AUC: 0.9762 - val_loss: 0.8256 - val_Categorical Accuracy: 0.7520 - val_AUC: 0.9748 - lr: 1.0000e-04\n",
      "Epoch 44/75\n",
      "45/45 [==============================] - 1s 8ms/step - loss: 0.7410 - Categorical Accuracy: 0.7547 - AUC: 0.9805 - val_loss: 0.8068 - val_Categorical Accuracy: 0.7660 - val_AUC: 0.9750 - lr: 1.0000e-04\n",
      "Epoch 45/75\n",
      "45/45 [==============================] - 1s 8ms/step - loss: 0.7211 - Categorical Accuracy: 0.7547 - AUC: 0.9806 - val_loss: 0.8062 - val_Categorical Accuracy: 0.7760 - val_AUC: 0.9744 - lr: 1.0000e-04\n",
      "Epoch 46/75\n",
      "45/45 [==============================] - 1s 8ms/step - loss: 0.7053 - Categorical Accuracy: 0.7716 - AUC: 0.9816 - val_loss: 0.7954 - val_Categorical Accuracy: 0.7760 - val_AUC: 0.9748 - lr: 1.0000e-04\n",
      "Epoch 47/75\n",
      "45/45 [==============================] - 1s 8ms/step - loss: 0.7163 - Categorical Accuracy: 0.7396 - AUC: 0.9823 - val_loss: 0.7935 - val_Categorical Accuracy: 0.7720 - val_AUC: 0.9754 - lr: 1.0000e-04\n",
      "Epoch 48/75\n",
      "45/45 [==============================] - 1s 8ms/step - loss: 0.6727 - Categorical Accuracy: 0.7689 - AUC: 0.9841 - val_loss: 0.7896 - val_Categorical Accuracy: 0.7660 - val_AUC: 0.9747 - lr: 1.0000e-04\n",
      "Epoch 49/75\n",
      "45/45 [==============================] - 0s 8ms/step - loss: 0.6418 - Categorical Accuracy: 0.7724 - AUC: 0.9861 - val_loss: 0.7865 - val_Categorical Accuracy: 0.7620 - val_AUC: 0.9748 - lr: 1.0000e-04\n",
      "Epoch 50/75\n",
      "45/45 [==============================] - 0s 8ms/step - loss: 0.6180 - Categorical Accuracy: 0.7893 - AUC: 0.9867 - val_loss: 0.7672 - val_Categorical Accuracy: 0.7800 - val_AUC: 0.9752 - lr: 1.0000e-04\n",
      "Epoch 51/75\n",
      "45/45 [==============================] - 0s 8ms/step - loss: 0.6418 - Categorical Accuracy: 0.7733 - AUC: 0.9849 - val_loss: 0.7749 - val_Categorical Accuracy: 0.7840 - val_AUC: 0.9749 - lr: 1.0000e-04\n",
      "Epoch 52/75\n",
      "45/45 [==============================] - 1s 8ms/step - loss: 0.6312 - Categorical Accuracy: 0.7769 - AUC: 0.9855 - val_loss: 0.7678 - val_Categorical Accuracy: 0.7820 - val_AUC: 0.9737 - lr: 1.0000e-04\n",
      "Epoch 53/75\n",
      "45/45 [==============================] - 0s 8ms/step - loss: 0.6207 - Categorical Accuracy: 0.7884 - AUC: 0.9860 - val_loss: 0.7550 - val_Categorical Accuracy: 0.7760 - val_AUC: 0.9757 - lr: 1.0000e-04\n",
      "Epoch 54/75\n",
      "45/45 [==============================] - 1s 8ms/step - loss: 0.6180 - Categorical Accuracy: 0.7893 - AUC: 0.9864 - val_loss: 0.7701 - val_Categorical Accuracy: 0.7820 - val_AUC: 0.9739 - lr: 1.0000e-04\n",
      "Epoch 55/75\n",
      "45/45 [==============================] - 1s 8ms/step - loss: 0.5914 - Categorical Accuracy: 0.8044 - AUC: 0.9874 - val_loss: 0.7534 - val_Categorical Accuracy: 0.7900 - val_AUC: 0.9749 - lr: 1.0000e-04\n",
      "Epoch 56/75\n",
      "45/45 [==============================] - 1s 8ms/step - loss: 0.5703 - Categorical Accuracy: 0.8151 - AUC: 0.9868 - val_loss: 0.7464 - val_Categorical Accuracy: 0.7860 - val_AUC: 0.9746 - lr: 1.0000e-04\n",
      "Epoch 57/75\n",
      "45/45 [==============================] - 0s 8ms/step - loss: 0.5835 - Categorical Accuracy: 0.7982 - AUC: 0.9882 - val_loss: 0.7467 - val_Categorical Accuracy: 0.7880 - val_AUC: 0.9759 - lr: 1.0000e-04\n",
      "Epoch 58/75\n",
      "45/45 [==============================] - 0s 8ms/step - loss: 0.5731 - Categorical Accuracy: 0.8107 - AUC: 0.9876 - val_loss: 0.7467 - val_Categorical Accuracy: 0.7820 - val_AUC: 0.9754 - lr: 1.0000e-04\n",
      "Epoch 59/75\n",
      "44/45 [============================>.] - ETA: 0s - loss: 0.5344 - Categorical Accuracy: 0.8164 - AUC: 0.9895\n",
      "Epoch 00059: ReduceLROnPlateau reducing learning rate to 1.9999999494757503e-05.\n",
      "45/45 [==============================] - 1s 8ms/step - loss: 0.5312 - Categorical Accuracy: 0.8196 - AUC: 0.9896 - val_loss: 0.7517 - val_Categorical Accuracy: 0.7720 - val_AUC: 0.9750 - lr: 1.0000e-04\n",
      "Epoch 60/75\n",
      "45/45 [==============================] - 0s 8ms/step - loss: 0.5594 - Categorical Accuracy: 0.7973 - AUC: 0.9874 - val_loss: 0.7428 - val_Categorical Accuracy: 0.7800 - val_AUC: 0.9747 - lr: 2.0000e-05\n",
      "Epoch 61/75\n",
      "45/45 [==============================] - 1s 8ms/step - loss: 0.5321 - Categorical Accuracy: 0.8284 - AUC: 0.9893 - val_loss: 0.7416 - val_Categorical Accuracy: 0.7820 - val_AUC: 0.9749 - lr: 2.0000e-05\n",
      "Epoch 62/75\n",
      "45/45 [==============================] - 0s 8ms/step - loss: 0.5209 - Categorical Accuracy: 0.8240 - AUC: 0.9900 - val_loss: 0.7406 - val_Categorical Accuracy: 0.7880 - val_AUC: 0.9749 - lr: 2.0000e-05\n",
      "Epoch 63/75\n",
      "45/45 [==============================] - 1s 8ms/step - loss: 0.5228 - Categorical Accuracy: 0.8142 - AUC: 0.9904 - val_loss: 0.7398 - val_Categorical Accuracy: 0.7860 - val_AUC: 0.9757 - lr: 2.0000e-05\n",
      "Epoch 64/75\n",
      "45/45 [==============================] - 0s 8ms/step - loss: 0.4780 - Categorical Accuracy: 0.8400 - AUC: 0.9921 - val_loss: 0.7374 - val_Categorical Accuracy: 0.7900 - val_AUC: 0.9758 - lr: 2.0000e-05\n",
      "Epoch 65/75\n",
      "45/45 [==============================] - 1s 8ms/step - loss: 0.5085 - Categorical Accuracy: 0.8276 - AUC: 0.9903 - val_loss: 0.7354 - val_Categorical Accuracy: 0.7920 - val_AUC: 0.9753 - lr: 2.0000e-05\n",
      "Epoch 66/75\n",
      "45/45 [==============================] - 0s 8ms/step - loss: 0.5032 - Categorical Accuracy: 0.8267 - AUC: 0.9903 - val_loss: 0.7327 - val_Categorical Accuracy: 0.7920 - val_AUC: 0.9745 - lr: 2.0000e-05\n",
      "Epoch 67/75\n",
      "45/45 [==============================] - 1s 8ms/step - loss: 0.5409 - Categorical Accuracy: 0.8204 - AUC: 0.9896 - val_loss: 0.7300 - val_Categorical Accuracy: 0.7880 - val_AUC: 0.9753 - lr: 2.0000e-05\n",
      "Epoch 68/75\n",
      "45/45 [==============================] - 1s 8ms/step - loss: 0.5160 - Categorical Accuracy: 0.8267 - AUC: 0.9905 - val_loss: 0.7308 - val_Categorical Accuracy: 0.7880 - val_AUC: 0.9754 - lr: 2.0000e-05\n",
      "Epoch 69/75\n",
      "45/45 [==============================] - 1s 8ms/step - loss: 0.4703 - Categorical Accuracy: 0.8453 - AUC: 0.9924 - val_loss: 0.7273 - val_Categorical Accuracy: 0.7900 - val_AUC: 0.9763 - lr: 2.0000e-05\n",
      "Epoch 70/75\n",
      "45/45 [==============================] - 0s 8ms/step - loss: 0.4853 - Categorical Accuracy: 0.8320 - AUC: 0.9921 - val_loss: 0.7259 - val_Categorical Accuracy: 0.7920 - val_AUC: 0.9756 - lr: 2.0000e-05\n",
      "Epoch 71/75\n",
      "45/45 [==============================] - 1s 8ms/step - loss: 0.4720 - Categorical Accuracy: 0.8462 - AUC: 0.9923 - val_loss: 0.7247 - val_Categorical Accuracy: 0.7900 - val_AUC: 0.9750 - lr: 2.0000e-05\n",
      "Epoch 72/75\n",
      "45/45 [==============================] - 0s 8ms/step - loss: 0.4708 - Categorical Accuracy: 0.8444 - AUC: 0.9921 - val_loss: 0.7237 - val_Categorical Accuracy: 0.7900 - val_AUC: 0.9758 - lr: 2.0000e-05\n",
      "Epoch 73/75\n",
      "45/45 [==============================] - 1s 8ms/step - loss: 0.5100 - Categorical Accuracy: 0.8276 - AUC: 0.9910 - val_loss: 0.7266 - val_Categorical Accuracy: 0.7860 - val_AUC: 0.9757 - lr: 2.0000e-05\n",
      "Epoch 74/75\n",
      "45/45 [==============================] - 0s 8ms/step - loss: 0.4869 - Categorical Accuracy: 0.8347 - AUC: 0.9911 - val_loss: 0.7257 - val_Categorical Accuracy: 0.7900 - val_AUC: 0.9756 - lr: 2.0000e-05\n",
      "Epoch 75/75\n",
      "45/45 [==============================] - 1s 8ms/step - loss: 0.4801 - Categorical Accuracy: 0.8453 - AUC: 0.9923 - val_loss: 0.7228 - val_Categorical Accuracy: 0.7900 - val_AUC: 0.9750 - lr: 2.0000e-05\n"
     ]
    }
   ]
  },
  {
   "cell_type": "code",
   "metadata": {
    "colab": {
     "base_uri": "https://localhost:8080/"
    },
    "id": "2Uu4mWC5JBhp",
    "executionInfo": {
     "status": "ok",
     "timestamp": 1638885731173,
     "user_tz": 300,
     "elapsed": 37044,
     "user": {
      "displayName": "Andrew Ning",
      "photoUrl": "https://lh3.googleusercontent.com/a-/AOh14GgyUiXynCeybWnGTpfHnOSTarAoJjvj-8rK8oxkzQ=s64",
      "userId": "04097743773373129918"
     }
    },
    "outputId": "4d56df97-7384-4b35-8a11-3d751abe0a78"
   },
   "source": [
    "newSharedLayers = shared(inputDE)\n",
    "newLayersDE = languagelayers(NUM_LABELS_DE,'DE')(newSharedLayers)\n",
    "\n",
    "modelDERetrain = tf.keras.Model(\n",
    "    inputs=inputDE,\n",
    "    outputs=newLayersDE,\n",
    "    name='DEModelRetrained'\n",
    ")\n",
    "\n",
    "modelDERetrain.compile(optimizer = tf.keras.optimizers.Adam(learning_rate=LEARNING_RATE),\n",
    "    loss=tf.keras.losses.CategoricalCrossentropy(),\n",
    "    metrics=[tf.keras.metrics.CategoricalAccuracy(name='Categorical Accuracy'),tf.keras.metrics.AUC(name='AUC')])\n",
    "\n",
    "ext = '-RETRAIN-DE'\n",
    "training_callbackRETRAINDE = callbacks.TensorBoard(log_dir=LOG_DIR + RUN + ext)\n",
    "\n",
    "historyDERetrain = modelDERetrain.fit(\n",
    "    x = traindatasetDE,\n",
    "    validation_data = valdatasetDE,\n",
    "    epochs=EPOCHS,\n",
    "    steps_per_epoch=STEPS_PER_EPOCH,\n",
    "    callbacks=[training_callbackRETRAINDE,earlystopping_callback,reduce_lr_callback],\n",
    "    verbose=1\n",
    ")"
   ],
   "execution_count": 120,
   "outputs": [
    {
     "output_type": "stream",
     "name": "stdout",
     "text": [
      "Epoch 1/75\n",
      "45/45 [==============================] - 2s 15ms/step - loss: 3.3299 - Categorical Accuracy: 0.0684 - AUC: 0.5024 - val_loss: 2.6911 - val_Categorical Accuracy: 0.0820 - val_AUC: 0.5613 - lr: 1.0000e-04\n",
      "Epoch 2/75\n",
      "45/45 [==============================] - 0s 7ms/step - loss: 2.8080 - Categorical Accuracy: 0.0809 - AUC: 0.5574 - val_loss: 2.6271 - val_Categorical Accuracy: 0.1560 - val_AUC: 0.6869 - lr: 1.0000e-04\n",
      "Epoch 3/75\n",
      "45/45 [==============================] - 1s 7ms/step - loss: 2.6909 - Categorical Accuracy: 0.0996 - AUC: 0.5928 - val_loss: 2.5895 - val_Categorical Accuracy: 0.2680 - val_AUC: 0.7551 - lr: 1.0000e-04\n",
      "Epoch 4/75\n",
      "45/45 [==============================] - 1s 7ms/step - loss: 2.5877 - Categorical Accuracy: 0.1440 - AUC: 0.6450 - val_loss: 2.5198 - val_Categorical Accuracy: 0.3500 - val_AUC: 0.8154 - lr: 1.0000e-04\n",
      "Epoch 5/75\n",
      "45/45 [==============================] - 1s 7ms/step - loss: 2.4989 - Categorical Accuracy: 0.1680 - AUC: 0.6865 - val_loss: 2.4432 - val_Categorical Accuracy: 0.3980 - val_AUC: 0.8488 - lr: 1.0000e-04\n",
      "Epoch 6/75\n",
      "45/45 [==============================] - 1s 8ms/step - loss: 2.4358 - Categorical Accuracy: 0.1964 - AUC: 0.7122 - val_loss: 2.3461 - val_Categorical Accuracy: 0.4520 - val_AUC: 0.8631 - lr: 1.0000e-04\n",
      "Epoch 7/75\n",
      "45/45 [==============================] - 1s 8ms/step - loss: 2.3325 - Categorical Accuracy: 0.2418 - AUC: 0.7453 - val_loss: 2.2253 - val_Categorical Accuracy: 0.4700 - val_AUC: 0.8874 - lr: 1.0000e-04\n",
      "Epoch 8/75\n",
      "45/45 [==============================] - 0s 8ms/step - loss: 2.1994 - Categorical Accuracy: 0.2836 - AUC: 0.7847 - val_loss: 2.0933 - val_Categorical Accuracy: 0.5020 - val_AUC: 0.9071 - lr: 1.0000e-04\n",
      "Epoch 9/75\n",
      "45/45 [==============================] - 0s 8ms/step - loss: 2.1352 - Categorical Accuracy: 0.2978 - AUC: 0.8018 - val_loss: 1.9732 - val_Categorical Accuracy: 0.5020 - val_AUC: 0.9147 - lr: 1.0000e-04\n",
      "Epoch 10/75\n",
      "45/45 [==============================] - 1s 8ms/step - loss: 1.9576 - Categorical Accuracy: 0.3724 - AUC: 0.8437 - val_loss: 1.8522 - val_Categorical Accuracy: 0.5040 - val_AUC: 0.9234 - lr: 1.0000e-04\n",
      "Epoch 11/75\n",
      "45/45 [==============================] - 1s 8ms/step - loss: 1.8729 - Categorical Accuracy: 0.3849 - AUC: 0.8578 - val_loss: 1.7432 - val_Categorical Accuracy: 0.5240 - val_AUC: 0.9311 - lr: 1.0000e-04\n",
      "Epoch 12/75\n",
      "45/45 [==============================] - 0s 8ms/step - loss: 1.7842 - Categorical Accuracy: 0.4151 - AUC: 0.8768 - val_loss: 1.6530 - val_Categorical Accuracy: 0.5220 - val_AUC: 0.9380 - lr: 1.0000e-04\n",
      "Epoch 13/75\n",
      "45/45 [==============================] - 0s 8ms/step - loss: 1.6897 - Categorical Accuracy: 0.4480 - AUC: 0.8873 - val_loss: 1.5836 - val_Categorical Accuracy: 0.5400 - val_AUC: 0.9431 - lr: 1.0000e-04\n",
      "Epoch 14/75\n",
      "45/45 [==============================] - 0s 8ms/step - loss: 1.5856 - Categorical Accuracy: 0.4791 - AUC: 0.9058 - val_loss: 1.4986 - val_Categorical Accuracy: 0.5780 - val_AUC: 0.9471 - lr: 1.0000e-04\n",
      "Epoch 15/75\n",
      "45/45 [==============================] - 1s 8ms/step - loss: 1.5727 - Categorical Accuracy: 0.4898 - AUC: 0.9076 - val_loss: 1.4464 - val_Categorical Accuracy: 0.5980 - val_AUC: 0.9510 - lr: 1.0000e-04\n",
      "Epoch 16/75\n",
      "45/45 [==============================] - 1s 9ms/step - loss: 1.4553 - Categorical Accuracy: 0.5120 - AUC: 0.9211 - val_loss: 1.3742 - val_Categorical Accuracy: 0.6080 - val_AUC: 0.9556 - lr: 1.0000e-04\n",
      "Epoch 17/75\n",
      "45/45 [==============================] - 0s 8ms/step - loss: 1.3539 - Categorical Accuracy: 0.5511 - AUC: 0.9331 - val_loss: 1.3024 - val_Categorical Accuracy: 0.6240 - val_AUC: 0.9576 - lr: 1.0000e-04\n",
      "Epoch 18/75\n",
      "45/45 [==============================] - 0s 8ms/step - loss: 1.3146 - Categorical Accuracy: 0.5733 - AUC: 0.9357 - val_loss: 1.2700 - val_Categorical Accuracy: 0.6320 - val_AUC: 0.9601 - lr: 1.0000e-04\n",
      "Epoch 19/75\n",
      "45/45 [==============================] - 1s 8ms/step - loss: 1.1780 - Categorical Accuracy: 0.6089 - AUC: 0.9520 - val_loss: 1.1991 - val_Categorical Accuracy: 0.6340 - val_AUC: 0.9632 - lr: 1.0000e-04\n",
      "Epoch 20/75\n",
      "45/45 [==============================] - 1s 8ms/step - loss: 1.1797 - Categorical Accuracy: 0.5938 - AUC: 0.9508 - val_loss: 1.1397 - val_Categorical Accuracy: 0.6580 - val_AUC: 0.9662 - lr: 1.0000e-04\n",
      "Epoch 21/75\n",
      "45/45 [==============================] - 0s 8ms/step - loss: 1.1376 - Categorical Accuracy: 0.6320 - AUC: 0.9535 - val_loss: 1.1140 - val_Categorical Accuracy: 0.6380 - val_AUC: 0.9675 - lr: 1.0000e-04\n",
      "Epoch 22/75\n",
      "45/45 [==============================] - 0s 8ms/step - loss: 1.0716 - Categorical Accuracy: 0.6453 - AUC: 0.9584 - val_loss: 1.0870 - val_Categorical Accuracy: 0.6540 - val_AUC: 0.9689 - lr: 1.0000e-04\n",
      "Epoch 23/75\n",
      "45/45 [==============================] - 1s 8ms/step - loss: 1.0652 - Categorical Accuracy: 0.6400 - AUC: 0.9599 - val_loss: 1.0745 - val_Categorical Accuracy: 0.6340 - val_AUC: 0.9693 - lr: 1.0000e-04\n",
      "Epoch 24/75\n",
      "45/45 [==============================] - 0s 8ms/step - loss: 0.9950 - Categorical Accuracy: 0.6827 - AUC: 0.9644 - val_loss: 1.0474 - val_Categorical Accuracy: 0.6480 - val_AUC: 0.9710 - lr: 1.0000e-04\n",
      "Epoch 25/75\n",
      "45/45 [==============================] - 1s 8ms/step - loss: 0.9721 - Categorical Accuracy: 0.6640 - AUC: 0.9672 - val_loss: 1.0055 - val_Categorical Accuracy: 0.6640 - val_AUC: 0.9729 - lr: 1.0000e-04\n",
      "Epoch 26/75\n",
      "45/45 [==============================] - 1s 8ms/step - loss: 0.9688 - Categorical Accuracy: 0.6791 - AUC: 0.9657 - val_loss: 0.9913 - val_Categorical Accuracy: 0.6820 - val_AUC: 0.9735 - lr: 1.0000e-04\n",
      "Epoch 27/75\n",
      "45/45 [==============================] - 1s 8ms/step - loss: 0.8861 - Categorical Accuracy: 0.7013 - AUC: 0.9731 - val_loss: 0.9600 - val_Categorical Accuracy: 0.7020 - val_AUC: 0.9744 - lr: 1.0000e-04\n",
      "Epoch 28/75\n",
      "45/45 [==============================] - 0s 8ms/step - loss: 0.8895 - Categorical Accuracy: 0.6951 - AUC: 0.9718 - val_loss: 0.9343 - val_Categorical Accuracy: 0.6940 - val_AUC: 0.9758 - lr: 1.0000e-04\n",
      "Epoch 29/75\n",
      "45/45 [==============================] - 1s 8ms/step - loss: 0.8819 - Categorical Accuracy: 0.6907 - AUC: 0.9720 - val_loss: 0.9131 - val_Categorical Accuracy: 0.7040 - val_AUC: 0.9767 - lr: 1.0000e-04\n",
      "Epoch 30/75\n",
      "45/45 [==============================] - 0s 8ms/step - loss: 0.7847 - Categorical Accuracy: 0.7298 - AUC: 0.9794 - val_loss: 0.8939 - val_Categorical Accuracy: 0.6980 - val_AUC: 0.9773 - lr: 1.0000e-04\n",
      "Epoch 31/75\n",
      "45/45 [==============================] - 1s 8ms/step - loss: 0.7666 - Categorical Accuracy: 0.7440 - AUC: 0.9792 - val_loss: 0.8777 - val_Categorical Accuracy: 0.7020 - val_AUC: 0.9770 - lr: 1.0000e-04\n",
      "Epoch 32/75\n",
      "45/45 [==============================] - 1s 8ms/step - loss: 0.7377 - Categorical Accuracy: 0.7404 - AUC: 0.9816 - val_loss: 0.8694 - val_Categorical Accuracy: 0.6920 - val_AUC: 0.9773 - lr: 1.0000e-04\n",
      "Epoch 33/75\n",
      "45/45 [==============================] - 1s 8ms/step - loss: 0.7437 - Categorical Accuracy: 0.7449 - AUC: 0.9789 - val_loss: 0.8384 - val_Categorical Accuracy: 0.6980 - val_AUC: 0.9789 - lr: 1.0000e-04\n",
      "Epoch 34/75\n",
      "45/45 [==============================] - 1s 8ms/step - loss: 0.7746 - Categorical Accuracy: 0.7316 - AUC: 0.9787 - val_loss: 0.8305 - val_Categorical Accuracy: 0.7180 - val_AUC: 0.9799 - lr: 1.0000e-04\n",
      "Epoch 35/75\n",
      "45/45 [==============================] - 0s 8ms/step - loss: 0.7018 - Categorical Accuracy: 0.7431 - AUC: 0.9831 - val_loss: 0.8131 - val_Categorical Accuracy: 0.7140 - val_AUC: 0.9803 - lr: 1.0000e-04\n",
      "Epoch 36/75\n",
      "45/45 [==============================] - 1s 8ms/step - loss: 0.6855 - Categorical Accuracy: 0.7671 - AUC: 0.9838 - val_loss: 0.7969 - val_Categorical Accuracy: 0.7160 - val_AUC: 0.9805 - lr: 1.0000e-04\n",
      "Epoch 37/75\n",
      "45/45 [==============================] - 1s 8ms/step - loss: 0.6564 - Categorical Accuracy: 0.7724 - AUC: 0.9845 - val_loss: 0.7912 - val_Categorical Accuracy: 0.7160 - val_AUC: 0.9805 - lr: 1.0000e-04\n",
      "Epoch 38/75\n",
      "45/45 [==============================] - 0s 8ms/step - loss: 0.6260 - Categorical Accuracy: 0.7813 - AUC: 0.9861 - val_loss: 0.7693 - val_Categorical Accuracy: 0.7400 - val_AUC: 0.9811 - lr: 1.0000e-04\n",
      "Epoch 39/75\n",
      "45/45 [==============================] - 0s 8ms/step - loss: 0.6240 - Categorical Accuracy: 0.7858 - AUC: 0.9860 - val_loss: 0.7793 - val_Categorical Accuracy: 0.7300 - val_AUC: 0.9808 - lr: 1.0000e-04\n",
      "Epoch 40/75\n",
      "45/45 [==============================] - 0s 8ms/step - loss: 0.6072 - Categorical Accuracy: 0.7876 - AUC: 0.9869 - val_loss: 0.7563 - val_Categorical Accuracy: 0.7420 - val_AUC: 0.9807 - lr: 1.0000e-04\n",
      "Epoch 41/75\n",
      "45/45 [==============================] - 1s 8ms/step - loss: 0.5680 - Categorical Accuracy: 0.7920 - AUC: 0.9888 - val_loss: 0.7502 - val_Categorical Accuracy: 0.7440 - val_AUC: 0.9811 - lr: 1.0000e-04\n",
      "Epoch 42/75\n",
      "45/45 [==============================] - 0s 8ms/step - loss: 0.5650 - Categorical Accuracy: 0.8062 - AUC: 0.9884 - val_loss: 0.7522 - val_Categorical Accuracy: 0.7340 - val_AUC: 0.9811 - lr: 1.0000e-04\n",
      "Epoch 43/75\n",
      "45/45 [==============================] - 0s 8ms/step - loss: 0.5487 - Categorical Accuracy: 0.8098 - AUC: 0.9892 - val_loss: 0.7473 - val_Categorical Accuracy: 0.7380 - val_AUC: 0.9804 - lr: 1.0000e-04\n",
      "Epoch 44/75\n",
      "45/45 [==============================] - 1s 8ms/step - loss: 0.5367 - Categorical Accuracy: 0.8151 - AUC: 0.9900 - val_loss: 0.7449 - val_Categorical Accuracy: 0.7280 - val_AUC: 0.9805 - lr: 1.0000e-04\n",
      "Epoch 45/75\n",
      "45/45 [==============================] - 0s 8ms/step - loss: 0.5418 - Categorical Accuracy: 0.8080 - AUC: 0.9894 - val_loss: 0.7328 - val_Categorical Accuracy: 0.7500 - val_AUC: 0.9819 - lr: 1.0000e-04\n",
      "Epoch 46/75\n",
      "45/45 [==============================] - 1s 8ms/step - loss: 0.5393 - Categorical Accuracy: 0.8089 - AUC: 0.9895 - val_loss: 0.7306 - val_Categorical Accuracy: 0.7400 - val_AUC: 0.9815 - lr: 1.0000e-04\n",
      "Epoch 47/75\n",
      "45/45 [==============================] - 0s 8ms/step - loss: 0.5353 - Categorical Accuracy: 0.7964 - AUC: 0.9897 - val_loss: 0.7260 - val_Categorical Accuracy: 0.7360 - val_AUC: 0.9812 - lr: 1.0000e-04\n",
      "Epoch 48/75\n",
      "45/45 [==============================] - 1s 10ms/step - loss: 0.5090 - Categorical Accuracy: 0.8116 - AUC: 0.9908 - val_loss: 0.7185 - val_Categorical Accuracy: 0.7360 - val_AUC: 0.9816 - lr: 1.0000e-04\n",
      "Epoch 49/75\n",
      "45/45 [==============================] - 0s 8ms/step - loss: 0.4938 - Categorical Accuracy: 0.8276 - AUC: 0.9902 - val_loss: 0.7096 - val_Categorical Accuracy: 0.7480 - val_AUC: 0.9815 - lr: 1.0000e-04\n",
      "Epoch 50/75\n",
      "45/45 [==============================] - 1s 8ms/step - loss: 0.4995 - Categorical Accuracy: 0.8249 - AUC: 0.9902 - val_loss: 0.7001 - val_Categorical Accuracy: 0.7600 - val_AUC: 0.9821 - lr: 1.0000e-04\n",
      "Epoch 51/75\n",
      "45/45 [==============================] - 1s 8ms/step - loss: 0.4885 - Categorical Accuracy: 0.8400 - AUC: 0.9899 - val_loss: 0.7137 - val_Categorical Accuracy: 0.7500 - val_AUC: 0.9815 - lr: 1.0000e-04\n",
      "Epoch 52/75\n",
      "45/45 [==============================] - 0s 8ms/step - loss: 0.4858 - Categorical Accuracy: 0.8418 - AUC: 0.9911 - val_loss: 0.7121 - val_Categorical Accuracy: 0.7400 - val_AUC: 0.9816 - lr: 1.0000e-04\n",
      "Epoch 53/75\n",
      "45/45 [==============================] - 0s 8ms/step - loss: 0.4378 - Categorical Accuracy: 0.8471 - AUC: 0.9936 - val_loss: 0.6994 - val_Categorical Accuracy: 0.7500 - val_AUC: 0.9819 - lr: 1.0000e-04\n",
      "Epoch 54/75\n",
      "45/45 [==============================] - 1s 8ms/step - loss: 0.4380 - Categorical Accuracy: 0.8444 - AUC: 0.9927 - val_loss: 0.6937 - val_Categorical Accuracy: 0.7460 - val_AUC: 0.9820 - lr: 1.0000e-04\n",
      "Epoch 55/75\n",
      "45/45 [==============================] - 1s 8ms/step - loss: 0.4016 - Categorical Accuracy: 0.8702 - AUC: 0.9938 - val_loss: 0.6940 - val_Categorical Accuracy: 0.7540 - val_AUC: 0.9818 - lr: 1.0000e-04\n",
      "Epoch 56/75\n",
      "45/45 [==============================] - 1s 8ms/step - loss: 0.4401 - Categorical Accuracy: 0.8329 - AUC: 0.9927 - val_loss: 0.6869 - val_Categorical Accuracy: 0.7480 - val_AUC: 0.9824 - lr: 1.0000e-04\n",
      "Epoch 57/75\n",
      "45/45 [==============================] - 0s 8ms/step - loss: 0.4365 - Categorical Accuracy: 0.8338 - AUC: 0.9928 - val_loss: 0.7045 - val_Categorical Accuracy: 0.7420 - val_AUC: 0.9813 - lr: 1.0000e-04\n",
      "Epoch 58/75\n",
      "45/45 [==============================] - 1s 8ms/step - loss: 0.3958 - Categorical Accuracy: 0.8631 - AUC: 0.9947 - val_loss: 0.6882 - val_Categorical Accuracy: 0.7460 - val_AUC: 0.9820 - lr: 1.0000e-04\n",
      "Epoch 59/75\n",
      "37/45 [=======================>......] - ETA: 0s - loss: 0.3946 - Categorical Accuracy: 0.8562 - AUC: 0.9929\n",
      "Epoch 00059: ReduceLROnPlateau reducing learning rate to 1.9999999494757503e-05.\n",
      "45/45 [==============================] - 0s 8ms/step - loss: 0.3950 - Categorical Accuracy: 0.8569 - AUC: 0.9932 - val_loss: 0.6897 - val_Categorical Accuracy: 0.7520 - val_AUC: 0.9823 - lr: 1.0000e-04\n",
      "Epoch 60/75\n",
      "45/45 [==============================] - 1s 8ms/step - loss: 0.4016 - Categorical Accuracy: 0.8533 - AUC: 0.9925 - val_loss: 0.6877 - val_Categorical Accuracy: 0.7500 - val_AUC: 0.9822 - lr: 2.0000e-05\n",
      "Epoch 61/75\n",
      "45/45 [==============================] - 1s 8ms/step - loss: 0.3584 - Categorical Accuracy: 0.8782 - AUC: 0.9943 - val_loss: 0.6851 - val_Categorical Accuracy: 0.7540 - val_AUC: 0.9824 - lr: 2.0000e-05\n",
      "Epoch 62/75\n",
      "45/45 [==============================] - 0s 8ms/step - loss: 0.3402 - Categorical Accuracy: 0.8791 - AUC: 0.9957 - val_loss: 0.6849 - val_Categorical Accuracy: 0.7540 - val_AUC: 0.9822 - lr: 2.0000e-05\n",
      "Epoch 63/75\n",
      "45/45 [==============================] - 1s 8ms/step - loss: 0.3612 - Categorical Accuracy: 0.8711 - AUC: 0.9958 - val_loss: 0.6850 - val_Categorical Accuracy: 0.7540 - val_AUC: 0.9824 - lr: 2.0000e-05\n",
      "Epoch 64/75\n",
      "45/45 [==============================] - 0s 8ms/step - loss: 0.3732 - Categorical Accuracy: 0.8533 - AUC: 0.9955 - val_loss: 0.6824 - val_Categorical Accuracy: 0.7520 - val_AUC: 0.9825 - lr: 2.0000e-05\n",
      "Epoch 65/75\n",
      "45/45 [==============================] - 0s 8ms/step - loss: 0.3948 - Categorical Accuracy: 0.8578 - AUC: 0.9939 - val_loss: 0.6794 - val_Categorical Accuracy: 0.7580 - val_AUC: 0.9825 - lr: 2.0000e-05\n",
      "Epoch 66/75\n",
      "45/45 [==============================] - 0s 8ms/step - loss: 0.3474 - Categorical Accuracy: 0.8809 - AUC: 0.9955 - val_loss: 0.6834 - val_Categorical Accuracy: 0.7540 - val_AUC: 0.9824 - lr: 2.0000e-05\n",
      "Epoch 67/75\n",
      "45/45 [==============================] - 1s 8ms/step - loss: 0.3798 - Categorical Accuracy: 0.8676 - AUC: 0.9940 - val_loss: 0.6826 - val_Categorical Accuracy: 0.7500 - val_AUC: 0.9825 - lr: 2.0000e-05\n",
      "Epoch 68/75\n",
      "44/45 [============================>.] - ETA: 0s - loss: 0.3866 - Categorical Accuracy: 0.8682 - AUC: 0.9945\n",
      "Epoch 00068: ReduceLROnPlateau reducing learning rate to 1e-05.\n",
      "45/45 [==============================] - 1s 8ms/step - loss: 0.3848 - Categorical Accuracy: 0.8684 - AUC: 0.9946 - val_loss: 0.6831 - val_Categorical Accuracy: 0.7480 - val_AUC: 0.9823 - lr: 2.0000e-05\n",
      "Epoch 69/75\n",
      "45/45 [==============================] - 0s 8ms/step - loss: 0.3788 - Categorical Accuracy: 0.8676 - AUC: 0.9948 - val_loss: 0.6831 - val_Categorical Accuracy: 0.7480 - val_AUC: 0.9823 - lr: 1.0000e-05\n",
      "Epoch 70/75\n",
      "45/45 [==============================] - 0s 8ms/step - loss: 0.3732 - Categorical Accuracy: 0.8578 - AUC: 0.9949 - val_loss: 0.6818 - val_Categorical Accuracy: 0.7480 - val_AUC: 0.9824 - lr: 1.0000e-05\n"
     ]
    }
   ]
  },
  {
   "cell_type": "code",
   "metadata": {
    "colab": {
     "base_uri": "https://localhost:8080/"
    },
    "id": "GA8hOPr5Mn58",
    "executionInfo": {
     "status": "ok",
     "timestamp": 1638885735294,
     "user_tz": 300,
     "elapsed": 4132,
     "user": {
      "displayName": "Andrew Ning",
      "photoUrl": "https://lh3.googleusercontent.com/a-/AOh14GgyUiXynCeybWnGTpfHnOSTarAoJjvj-8rK8oxkzQ=s64",
      "userId": "04097743773373129918"
     }
    },
    "outputId": "c6e880b6-92d5-42b1-fd22-e5120beffcb8"
   },
   "source": [
    "modelENRetrain.evaluate(testdatasetEN)"
   ],
   "execution_count": 121,
   "outputs": [
    {
     "output_type": "stream",
     "name": "stdout",
     "text": [
      "250/250 [==============================] - 4s 4ms/step - loss: 0.8145 - Categorical Accuracy: 0.7480 - AUC: 0.9724\n"
     ]
    },
    {
     "output_type": "execute_result",
     "data": {
      "text/plain": [
       "[0.8145021200180054, 0.7480000257492065, 0.9724000692367554]"
      ]
     },
     "metadata": {},
     "execution_count": 121
    }
   ]
  },
  {
   "cell_type": "code",
   "metadata": {
    "colab": {
     "base_uri": "https://localhost:8080/"
    },
    "id": "ajdhGJRROSTS",
    "executionInfo": {
     "status": "ok",
     "timestamp": 1638885736479,
     "user_tz": 300,
     "elapsed": 1202,
     "user": {
      "displayName": "Andrew Ning",
      "photoUrl": "https://lh3.googleusercontent.com/a-/AOh14GgyUiXynCeybWnGTpfHnOSTarAoJjvj-8rK8oxkzQ=s64",
      "userId": "04097743773373129918"
     }
    },
    "outputId": "13ee325d-878b-40f9-9bb9-940fd9b13a45"
   },
   "source": [
    "modelESRetrain.evaluate(testdatasetES)"
   ],
   "execution_count": 122,
   "outputs": [
    {
     "output_type": "stream",
     "name": "stdout",
     "text": [
      "250/250 [==============================] - 1s 4ms/step - loss: 0.8052 - Categorical Accuracy: 0.6680 - AUC: 0.9686\n"
     ]
    },
    {
     "output_type": "execute_result",
     "data": {
      "text/plain": [
       "[0.805233895778656, 0.6679999828338623, 0.9686190485954285]"
      ]
     },
     "metadata": {},
     "execution_count": 122
    }
   ]
  },
  {
   "cell_type": "code",
   "metadata": {
    "colab": {
     "base_uri": "https://localhost:8080/"
    },
    "id": "PeWe03Q5_6dk",
    "executionInfo": {
     "status": "ok",
     "timestamp": 1638885737865,
     "user_tz": 300,
     "elapsed": 1390,
     "user": {
      "displayName": "Andrew Ning",
      "photoUrl": "https://lh3.googleusercontent.com/a-/AOh14GgyUiXynCeybWnGTpfHnOSTarAoJjvj-8rK8oxkzQ=s64",
      "userId": "04097743773373129918"
     }
    },
    "outputId": "3f5c4499-2370-40af-be48-3d1925a5d30f"
   },
   "source": [
    "modelFRRetrain.evaluate(testdatasetFR)"
   ],
   "execution_count": 123,
   "outputs": [
    {
     "output_type": "stream",
     "name": "stdout",
     "text": [
      "250/250 [==============================] - 1s 4ms/step - loss: 0.8162 - Categorical Accuracy: 0.7480 - AUC: 0.9731\n"
     ]
    },
    {
     "output_type": "execute_result",
     "data": {
      "text/plain": [
       "[0.8162165284156799, 0.7480000257492065, 0.9731148481369019]"
      ]
     },
     "metadata": {},
     "execution_count": 123
    }
   ]
  },
  {
   "cell_type": "code",
   "metadata": {
    "colab": {
     "base_uri": "https://localhost:8080/"
    },
    "id": "gCg1FRIiJPbB",
    "executionInfo": {
     "status": "ok",
     "timestamp": 1638885738762,
     "user_tz": 300,
     "elapsed": 902,
     "user": {
      "displayName": "Andrew Ning",
      "photoUrl": "https://lh3.googleusercontent.com/a-/AOh14GgyUiXynCeybWnGTpfHnOSTarAoJjvj-8rK8oxkzQ=s64",
      "userId": "04097743773373129918"
     }
    },
    "outputId": "0c4f0aa4-07fe-46b3-e4bc-c1b1870ef40f"
   },
   "source": [
    "modelDERetrain.evaluate(testdatasetDE)"
   ],
   "execution_count": 124,
   "outputs": [
    {
     "output_type": "stream",
     "name": "stdout",
     "text": [
      "250/250 [==============================] - 1s 4ms/step - loss: 0.9161 - Categorical Accuracy: 0.6960 - AUC: 0.9679\n"
     ]
    },
    {
     "output_type": "execute_result",
     "data": {
      "text/plain": [
       "[0.9160652756690979, 0.6959999799728394, 0.9678525924682617]"
      ]
     },
     "metadata": {},
     "execution_count": 124
    }
   ]
  },
  {
   "cell_type": "code",
   "metadata": {
    "id": "-9H-HtFBC_ke",
    "executionInfo": {
     "status": "ok",
     "timestamp": 1638886145946,
     "user_tz": 300,
     "elapsed": 634,
     "user": {
      "displayName": "Andrew Ning",
      "photoUrl": "https://lh3.googleusercontent.com/a-/AOh14GgyUiXynCeybWnGTpfHnOSTarAoJjvj-8rK8oxkzQ=s64",
      "userId": "04097743773373129918"
     }
    }
   },
   "source": [
    "# !rm /content/savedmodels.zip\n",
    "# !mkdir savedmodels"
   ],
   "execution_count": 133,
   "outputs": []
  },
  {
   "cell_type": "code",
   "metadata": {
    "colab": {
     "base_uri": "https://localhost:8080/"
    },
    "id": "DKbEBdfgDAgZ",
    "executionInfo": {
     "status": "ok",
     "timestamp": 1638886216487,
     "user_tz": 300,
     "elapsed": 16241,
     "user": {
      "displayName": "Andrew Ning",
      "photoUrl": "https://lh3.googleusercontent.com/a-/AOh14GgyUiXynCeybWnGTpfHnOSTarAoJjvj-8rK8oxkzQ=s64",
      "userId": "04097743773373129918"
     }
    },
    "outputId": "5a2b8b9c-6d9b-401c-be39-457e4219bf20"
   },
   "source": [
    "shared.save('savedmodels/sharedmodel')\n",
    "modelFullEN.save('savedmodels/fullmodelEN')\n",
    "modelFullES.save('savedmodels/fullmodelES')\n",
    "modelFullFR.save('savedmodels/fullmodelFR')\n",
    "modelFullDE.save('savedmodels/fullmodelDE')\n",
    "modelENRetrain.save('savedmodels/modelENRetrain')\n",
    "modelESRetrain.save('savedmodels/modelESRetrain')\n",
    "modelFRRetrain.save('savedmodels/modelFRRetrain')\n",
    "modelDERetrain.save('savedmodels/modelDERetrain')"
   ],
   "execution_count": 134,
   "outputs": [
    {
     "output_type": "stream",
     "name": "stdout",
     "text": [
      "WARNING:tensorflow:Compiled the loaded model, but the compiled metrics have yet to be built. `model.compile_metrics` will be empty until you train or evaluate the model.\n"
     ]
    },
    {
     "output_type": "stream",
     "name": "stderr",
     "text": [
      "WARNING:tensorflow:Compiled the loaded model, but the compiled metrics have yet to be built. `model.compile_metrics` will be empty until you train or evaluate the model.\n",
      "WARNING:absl:Function `_wrapped_model` contains input name(s) Shared_Conv2D1_input with unsupported characters which will be renamed to shared_conv2d1_input in the SavedModel.\n"
     ]
    },
    {
     "output_type": "stream",
     "name": "stdout",
     "text": [
      "INFO:tensorflow:Assets written to: savedmodels/sharedmodel/assets\n"
     ]
    },
    {
     "output_type": "stream",
     "name": "stderr",
     "text": [
      "INFO:tensorflow:Assets written to: savedmodels/sharedmodel/assets\n",
      "WARNING:absl:Function `_wrapped_model` contains input name(s) EN_Input with unsupported characters which will be renamed to en_input in the SavedModel.\n"
     ]
    },
    {
     "output_type": "stream",
     "name": "stdout",
     "text": [
      "INFO:tensorflow:Assets written to: savedmodels/fullmodelEN/assets\n"
     ]
    },
    {
     "output_type": "stream",
     "name": "stderr",
     "text": [
      "INFO:tensorflow:Assets written to: savedmodels/fullmodelEN/assets\n",
      "WARNING:absl:Function `_wrapped_model` contains input name(s) ES_Input with unsupported characters which will be renamed to es_input in the SavedModel.\n"
     ]
    },
    {
     "output_type": "stream",
     "name": "stdout",
     "text": [
      "INFO:tensorflow:Assets written to: savedmodels/fullmodelES/assets\n"
     ]
    },
    {
     "output_type": "stream",
     "name": "stderr",
     "text": [
      "INFO:tensorflow:Assets written to: savedmodels/fullmodelES/assets\n",
      "WARNING:absl:Function `_wrapped_model` contains input name(s) FR_Input with unsupported characters which will be renamed to fr_input in the SavedModel.\n"
     ]
    },
    {
     "output_type": "stream",
     "name": "stdout",
     "text": [
      "INFO:tensorflow:Assets written to: savedmodels/fullmodelFR/assets\n"
     ]
    },
    {
     "output_type": "stream",
     "name": "stderr",
     "text": [
      "INFO:tensorflow:Assets written to: savedmodels/fullmodelFR/assets\n",
      "WARNING:absl:Function `_wrapped_model` contains input name(s) DE_Input with unsupported characters which will be renamed to de_input in the SavedModel.\n"
     ]
    },
    {
     "output_type": "stream",
     "name": "stdout",
     "text": [
      "INFO:tensorflow:Assets written to: savedmodels/fullmodelDE/assets\n"
     ]
    },
    {
     "output_type": "stream",
     "name": "stderr",
     "text": [
      "INFO:tensorflow:Assets written to: savedmodels/fullmodelDE/assets\n",
      "WARNING:absl:Function `_wrapped_model` contains input name(s) EN_Input with unsupported characters which will be renamed to en_input in the SavedModel.\n"
     ]
    },
    {
     "output_type": "stream",
     "name": "stdout",
     "text": [
      "INFO:tensorflow:Assets written to: savedmodels/modelENRetrain/assets\n"
     ]
    },
    {
     "output_type": "stream",
     "name": "stderr",
     "text": [
      "INFO:tensorflow:Assets written to: savedmodels/modelENRetrain/assets\n",
      "WARNING:absl:Function `_wrapped_model` contains input name(s) ES_Input with unsupported characters which will be renamed to es_input in the SavedModel.\n"
     ]
    },
    {
     "output_type": "stream",
     "name": "stdout",
     "text": [
      "INFO:tensorflow:Assets written to: savedmodels/modelESRetrain/assets\n"
     ]
    },
    {
     "output_type": "stream",
     "name": "stderr",
     "text": [
      "INFO:tensorflow:Assets written to: savedmodels/modelESRetrain/assets\n",
      "WARNING:absl:Function `_wrapped_model` contains input name(s) FR_Input with unsupported characters which will be renamed to fr_input in the SavedModel.\n"
     ]
    },
    {
     "output_type": "stream",
     "name": "stdout",
     "text": [
      "INFO:tensorflow:Assets written to: savedmodels/modelFRRetrain/assets\n"
     ]
    },
    {
     "output_type": "stream",
     "name": "stderr",
     "text": [
      "INFO:tensorflow:Assets written to: savedmodels/modelFRRetrain/assets\n",
      "WARNING:absl:Function `_wrapped_model` contains input name(s) DE_Input with unsupported characters which will be renamed to de_input in the SavedModel.\n"
     ]
    },
    {
     "output_type": "stream",
     "name": "stdout",
     "text": [
      "INFO:tensorflow:Assets written to: savedmodels/modelDERetrain/assets\n"
     ]
    },
    {
     "output_type": "stream",
     "name": "stderr",
     "text": [
      "INFO:tensorflow:Assets written to: savedmodels/modelDERetrain/assets\n"
     ]
    }
   ]
  },
  {
   "cell_type": "code",
   "metadata": {
    "colab": {
     "base_uri": "https://localhost:8080/"
    },
    "id": "nIZqPoItDTRe",
    "executionInfo": {
     "status": "ok",
     "timestamp": 1638886259571,
     "user_tz": 300,
     "elapsed": 2263,
     "user": {
      "displayName": "Andrew Ning",
      "photoUrl": "https://lh3.googleusercontent.com/a-/AOh14GgyUiXynCeybWnGTpfHnOSTarAoJjvj-8rK8oxkzQ=s64",
      "userId": "04097743773373129918"
     }
    },
    "outputId": "750d5ca5-bbc1-4f71-a144-7b3e7d274334"
   },
   "source": [
    "# !zip -r /content/savedmodels.zip /content/savedmodels\n",
    "#"
   ],
   "execution_count": 135,
   "outputs": [
    {
     "output_type": "stream",
     "name": "stdout",
     "text": [
      "  adding: content/savedmodels/ (stored 0%)\n",
      "  adding: content/savedmodels/fullmodelEN/ (stored 0%)\n",
      "  adding: content/savedmodels/fullmodelEN/keras_metadata.pb (deflated 94%)\n",
      "  adding: content/savedmodels/fullmodelEN/variables/ (stored 0%)\n",
      "  adding: content/savedmodels/fullmodelEN/variables/variables.index (deflated 68%)\n",
      "  adding: content/savedmodels/fullmodelEN/variables/variables.data-00000-of-00001 (deflated 8%)\n",
      "  adding: content/savedmodels/fullmodelEN/saved_model.pb (deflated 89%)\n",
      "  adding: content/savedmodels/fullmodelEN/assets/ (stored 0%)\n",
      "  adding: content/savedmodels/sharedmodel/ (stored 0%)\n",
      "  adding: content/savedmodels/sharedmodel/keras_metadata.pb (deflated 92%)\n",
      "  adding: content/savedmodels/sharedmodel/variables/ (stored 0%)\n",
      "  adding: content/savedmodels/sharedmodel/variables/variables.index (deflated 46%)\n",
      "  adding: content/savedmodels/sharedmodel/variables/variables.data-00000-of-00001 (deflated 8%)\n",
      "  adding: content/savedmodels/sharedmodel/saved_model.pb (deflated 90%)\n",
      "  adding: content/savedmodels/sharedmodel/assets/ (stored 0%)\n",
      "  adding: content/savedmodels/modelESRetrain/ (stored 0%)\n",
      "  adding: content/savedmodels/modelESRetrain/keras_metadata.pb (deflated 94%)\n",
      "  adding: content/savedmodels/modelESRetrain/variables/ (stored 0%)\n",
      "  adding: content/savedmodels/modelESRetrain/variables/variables.index (deflated 65%)\n",
      "  adding: content/savedmodels/modelESRetrain/variables/variables.data-00000-of-00001 (deflated 8%)\n",
      "  adding: content/savedmodels/modelESRetrain/saved_model.pb (deflated 89%)\n",
      "  adding: content/savedmodels/modelESRetrain/assets/ (stored 0%)\n",
      "  adding: content/savedmodels/modelENRetrain/ (stored 0%)\n",
      "  adding: content/savedmodels/modelENRetrain/keras_metadata.pb (deflated 94%)\n",
      "  adding: content/savedmodels/modelENRetrain/variables/ (stored 0%)\n",
      "  adding: content/savedmodels/modelENRetrain/variables/variables.index (deflated 65%)\n",
      "  adding: content/savedmodels/modelENRetrain/variables/variables.data-00000-of-00001 (deflated 8%)\n",
      "  adding: content/savedmodels/modelENRetrain/saved_model.pb (deflated 90%)\n",
      "  adding: content/savedmodels/modelENRetrain/assets/ (stored 0%)\n",
      "  adding: content/savedmodels/fullmodelFR/ (stored 0%)\n",
      "  adding: content/savedmodels/fullmodelFR/keras_metadata.pb (deflated 94%)\n",
      "  adding: content/savedmodels/fullmodelFR/variables/ (stored 0%)\n",
      "  adding: content/savedmodels/fullmodelFR/variables/variables.index (deflated 68%)\n",
      "  adding: content/savedmodels/fullmodelFR/variables/variables.data-00000-of-00001 (deflated 8%)\n",
      "  adding: content/savedmodels/fullmodelFR/saved_model.pb (deflated 90%)\n",
      "  adding: content/savedmodels/fullmodelFR/assets/ (stored 0%)\n",
      "  adding: content/savedmodels/modelFRRetrain/ (stored 0%)\n",
      "  adding: content/savedmodels/modelFRRetrain/keras_metadata.pb (deflated 94%)\n",
      "  adding: content/savedmodels/modelFRRetrain/variables/ (stored 0%)\n",
      "  adding: content/savedmodels/modelFRRetrain/variables/variables.index (deflated 65%)\n",
      "  adding: content/savedmodels/modelFRRetrain/variables/variables.data-00000-of-00001 (deflated 8%)\n",
      "  adding: content/savedmodels/modelFRRetrain/saved_model.pb (deflated 89%)\n",
      "  adding: content/savedmodels/modelFRRetrain/assets/ (stored 0%)\n",
      "  adding: content/savedmodels/fullmodelES/ (stored 0%)\n",
      "  adding: content/savedmodels/fullmodelES/keras_metadata.pb (deflated 94%)\n",
      "  adding: content/savedmodels/fullmodelES/variables/ (stored 0%)\n",
      "  adding: content/savedmodels/fullmodelES/variables/variables.index (deflated 68%)\n",
      "  adding: content/savedmodels/fullmodelES/variables/variables.data-00000-of-00001 (deflated 8%)\n",
      "  adding: content/savedmodels/fullmodelES/saved_model.pb (deflated 90%)\n",
      "  adding: content/savedmodels/fullmodelES/assets/ (stored 0%)\n",
      "  adding: content/savedmodels/fullmodelDE/ (stored 0%)\n",
      "  adding: content/savedmodels/fullmodelDE/keras_metadata.pb (deflated 94%)\n",
      "  adding: content/savedmodels/fullmodelDE/variables/ (stored 0%)\n",
      "  adding: content/savedmodels/fullmodelDE/variables/variables.index (deflated 68%)\n",
      "  adding: content/savedmodels/fullmodelDE/variables/variables.data-00000-of-00001 (deflated 8%)\n",
      "  adding: content/savedmodels/fullmodelDE/saved_model.pb (deflated 90%)\n",
      "  adding: content/savedmodels/fullmodelDE/assets/ (stored 0%)\n",
      "  adding: content/savedmodels/modelDERetrain/ (stored 0%)\n",
      "  adding: content/savedmodels/modelDERetrain/keras_metadata.pb (deflated 94%)\n",
      "  adding: content/savedmodels/modelDERetrain/variables/ (stored 0%)\n",
      "  adding: content/savedmodels/modelDERetrain/variables/variables.index (deflated 65%)\n",
      "  adding: content/savedmodels/modelDERetrain/variables/variables.data-00000-of-00001 (deflated 8%)\n",
      "  adding: content/savedmodels/modelDERetrain/saved_model.pb (deflated 90%)\n",
      "  adding: content/savedmodels/modelDERetrain/assets/ (stored 0%)\n"
     ]
    }
   ]
  },
  {
   "cell_type": "code",
   "metadata": {
    "colab": {
     "base_uri": "https://localhost:8080/",
     "height": 34
    },
    "id": "Iv4_chBiESg9",
    "executionInfo": {
     "status": "ok",
     "timestamp": 1638886280515,
     "user_tz": 300,
     "elapsed": 295,
     "user": {
      "displayName": "Andrew Ning",
      "photoUrl": "https://lh3.googleusercontent.com/a-/AOh14GgyUiXynCeybWnGTpfHnOSTarAoJjvj-8rK8oxkzQ=s64",
      "userId": "04097743773373129918"
     }
    },
    "outputId": "567f1853-ff23-4cdc-fd98-bb2e494f5959"
   },
   "source": [
    "# from google.colab import files\n",
    "# files.download('/content/savedmodels.zip')\n",
    "#"
   ],
   "execution_count": 136,
   "outputs": [
    {
     "output_type": "display_data",
     "data": {
      "application/javascript": [
       "\n",
       "    async function download(id, filename, size) {\n",
       "      if (!google.colab.kernel.accessAllowed) {\n",
       "        return;\n",
       "      }\n",
       "      const div = document.createElement('div');\n",
       "      const label = document.createElement('label');\n",
       "      label.textContent = `Downloading \"${filename}\": `;\n",
       "      div.appendChild(label);\n",
       "      const progress = document.createElement('progress');\n",
       "      progress.max = size;\n",
       "      div.appendChild(progress);\n",
       "      document.body.appendChild(div);\n",
       "\n",
       "      const buffers = [];\n",
       "      let downloaded = 0;\n",
       "\n",
       "      const channel = await google.colab.kernel.comms.open(id);\n",
       "      // Send a message to notify the kernel that we're ready.\n",
       "      channel.send({})\n",
       "\n",
       "      for await (const message of channel.messages) {\n",
       "        // Send a message to notify the kernel that we're ready.\n",
       "        channel.send({})\n",
       "        if (message.buffers) {\n",
       "          for (const buffer of message.buffers) {\n",
       "            buffers.push(buffer);\n",
       "            downloaded += buffer.byteLength;\n",
       "            progress.value = downloaded;\n",
       "          }\n",
       "        }\n",
       "      }\n",
       "      const blob = new Blob(buffers, {type: 'application/binary'});\n",
       "      const a = document.createElement('a');\n",
       "      a.href = window.URL.createObjectURL(blob);\n",
       "      a.download = filename;\n",
       "      div.appendChild(a);\n",
       "      a.click();\n",
       "      div.remove();\n",
       "    }\n",
       "  "
      ],
      "text/plain": [
       "<IPython.core.display.Javascript object>"
      ]
     },
     "metadata": {}
    },
    {
     "output_type": "display_data",
     "data": {
      "application/javascript": [
       "download(\"download_32fd770b-1c57-409e-8512-05f77e90989f\", \"savedmodels.zip\", 37642941)"
      ],
      "text/plain": [
       "<IPython.core.display.Javascript object>"
      ]
     },
     "metadata": {}
    }
   ]
  },
  {
   "cell_type": "code",
   "metadata": {
    "id": "-ENZECOqmito",
    "executionInfo": {
     "status": "ok",
     "timestamp": 1638885739114,
     "user_tz": 300,
     "elapsed": 356,
     "user": {
      "displayName": "Andrew Ning",
      "photoUrl": "https://lh3.googleusercontent.com/a-/AOh14GgyUiXynCeybWnGTpfHnOSTarAoJjvj-8rK8oxkzQ=s64",
      "userId": "04097743773373129918"
     }
    }
   },
   "source": [
    "# # %reload_ext tensorboard\n",
    "# # %tensorboard --logdir logs\n",
    "#"
   ],
   "execution_count": 129,
   "outputs": []
  },
  {
   "cell_type": "code",
   "metadata": {
    "colab": {
     "base_uri": "https://localhost:8080/"
    },
    "id": "idbVWjbyrtNm",
    "executionInfo": {
     "status": "ok",
     "timestamp": 1638886287796,
     "user_tz": 300,
     "elapsed": 14,
     "user": {
      "displayName": "Andrew Ning",
      "photoUrl": "https://lh3.googleusercontent.com/a-/AOh14GgyUiXynCeybWnGTpfHnOSTarAoJjvj-8rK8oxkzQ=s64",
      "userId": "04097743773373129918"
     }
    },
    "outputId": "8b9a5d27-13f9-440d-a720-cc2fbcfe81a3"
   },
   "source": [
    "# !rm logs.zip\n",
    "# !zip -r /content/logs.zip /content/logs\n",
    "#"
   ],
   "execution_count": 137,
   "outputs": [
    {
     "output_type": "stream",
     "name": "stdout",
     "text": [
      "  adding: content/logs/ (stored 0%)\n",
      "  adding: content/logs/model1-1-RETRAIN-EN/ (stored 0%)\n",
      "  adding: content/logs/model1-1-RETRAIN-EN/train/ (stored 0%)\n",
      "  adding: content/logs/model1-1-RETRAIN-EN/train/events.out.tfevents.1638885579.1c7311aafe56.85.24.v2 (deflated 86%)\n",
      "  adding: content/logs/model1-1-RETRAIN-EN/validation/ (stored 0%)\n",
      "  adding: content/logs/model1-1-RETRAIN-EN/validation/events.out.tfevents.1638885581.1c7311aafe56.85.25.v2 (deflated 80%)\n",
      "  adding: content/logs/model1-1-RETRAIN-ES/ (stored 0%)\n",
      "  adding: content/logs/model1-1-RETRAIN-ES/train/ (stored 0%)\n",
      "  adding: content/logs/model1-1-RETRAIN-ES/train/events.out.tfevents.1638885622.1c7311aafe56.85.26.v2 (deflated 86%)\n",
      "  adding: content/logs/model1-1-RETRAIN-ES/validation/ (stored 0%)\n",
      "  adding: content/logs/model1-1-RETRAIN-ES/validation/events.out.tfevents.1638885623.1c7311aafe56.85.27.v2 (deflated 80%)\n",
      "  adding: content/logs/model1-1-RETRAIN-FR/ (stored 0%)\n",
      "  adding: content/logs/model1-1-RETRAIN-FR/train/ (stored 0%)\n",
      "  adding: content/logs/model1-1-RETRAIN-FR/train/events.out.tfevents.1638885650.1c7311aafe56.85.28.v2 (deflated 86%)\n",
      "  adding: content/logs/model1-1-RETRAIN-FR/validation/ (stored 0%)\n",
      "  adding: content/logs/model1-1-RETRAIN-FR/validation/events.out.tfevents.1638885651.1c7311aafe56.85.29.v2 (deflated 80%)\n",
      "  adding: content/logs/model1-1-RETRAIN-DE/ (stored 0%)\n",
      "  adding: content/logs/model1-1-RETRAIN-DE/train/ (stored 0%)\n",
      "  adding: content/logs/model1-1-RETRAIN-DE/train/events.out.tfevents.1638885694.1c7311aafe56.85.30.v2 (deflated 86%)\n",
      "  adding: content/logs/model1-1-RETRAIN-DE/validation/ (stored 0%)\n",
      "  adding: content/logs/model1-1-RETRAIN-DE/validation/events.out.tfevents.1638885696.1c7311aafe56.85.31.v2 (deflated 80%)\n",
      "  adding: content/logs/model1-1-FULL-EN/ (stored 0%)\n",
      "  adding: content/logs/model1-1-FULL-EN/train/ (stored 0%)\n",
      "  adding: content/logs/model1-1-FULL-EN/train/events.out.tfevents.1638885391.1c7311aafe56.85.16.v2 (deflated 87%)\n",
      "  adding: content/logs/model1-1-FULL-EN/validation/ (stored 0%)\n",
      "  adding: content/logs/model1-1-FULL-EN/validation/events.out.tfevents.1638885392.1c7311aafe56.85.17.v2 (deflated 81%)\n",
      "  adding: content/logs/model1-1-FULL-FR/ (stored 0%)\n",
      "  adding: content/logs/model1-1-FULL-FR/train/ (stored 0%)\n",
      "  adding: content/logs/model1-1-FULL-FR/train/events.out.tfevents.1638885487.1c7311aafe56.85.20.v2 (deflated 86%)\n",
      "  adding: content/logs/model1-1-FULL-FR/validation/ (stored 0%)\n",
      "  adding: content/logs/model1-1-FULL-FR/validation/events.out.tfevents.1638885488.1c7311aafe56.85.21.v2 (deflated 80%)\n",
      "  adding: content/logs/model1-1-FULL-ES/ (stored 0%)\n",
      "  adding: content/logs/model1-1-FULL-ES/train/ (stored 0%)\n",
      "  adding: content/logs/model1-1-FULL-ES/train/events.out.tfevents.1638885439.1c7311aafe56.85.18.v2 (deflated 86%)\n",
      "  adding: content/logs/model1-1-FULL-ES/validation/ (stored 0%)\n",
      "  adding: content/logs/model1-1-FULL-ES/validation/events.out.tfevents.1638885441.1c7311aafe56.85.19.v2 (deflated 80%)\n",
      "  adding: content/logs/model1-1-FULL-DE/ (stored 0%)\n",
      "  adding: content/logs/model1-1-FULL-DE/train/ (stored 0%)\n",
      "  adding: content/logs/model1-1-FULL-DE/train/events.out.tfevents.1638885534.1c7311aafe56.85.22.v2 (deflated 86%)\n",
      "  adding: content/logs/model1-1-FULL-DE/validation/ (stored 0%)\n",
      "  adding: content/logs/model1-1-FULL-DE/validation/events.out.tfevents.1638885535.1c7311aafe56.85.23.v2 (deflated 80%)\n"
     ]
    }
   ]
  },
  {
   "cell_type": "code",
   "metadata": {
    "colab": {
     "base_uri": "https://localhost:8080/",
     "height": 17
    },
    "id": "5CRsc2gVriJf",
    "executionInfo": {
     "status": "ok",
     "timestamp": 1638886298982,
     "user_tz": 300,
     "elapsed": 4,
     "user": {
      "displayName": "Andrew Ning",
      "photoUrl": "https://lh3.googleusercontent.com/a-/AOh14GgyUiXynCeybWnGTpfHnOSTarAoJjvj-8rK8oxkzQ=s64",
      "userId": "04097743773373129918"
     }
    },
    "outputId": "085b3e42-461e-4c78-c32e-d20b2a4e7bb4"
   },
   "source": [
    "# from google.colab import files\n",
    "# files.download('/content/logs.zip')"
   ],
   "execution_count": 138,
   "outputs": [
    {
     "output_type": "display_data",
     "data": {
      "application/javascript": [
       "\n",
       "    async function download(id, filename, size) {\n",
       "      if (!google.colab.kernel.accessAllowed) {\n",
       "        return;\n",
       "      }\n",
       "      const div = document.createElement('div');\n",
       "      const label = document.createElement('label');\n",
       "      label.textContent = `Downloading \"${filename}\": `;\n",
       "      div.appendChild(label);\n",
       "      const progress = document.createElement('progress');\n",
       "      progress.max = size;\n",
       "      div.appendChild(progress);\n",
       "      document.body.appendChild(div);\n",
       "\n",
       "      const buffers = [];\n",
       "      let downloaded = 0;\n",
       "\n",
       "      const channel = await google.colab.kernel.comms.open(id);\n",
       "      // Send a message to notify the kernel that we're ready.\n",
       "      channel.send({})\n",
       "\n",
       "      for await (const message of channel.messages) {\n",
       "        // Send a message to notify the kernel that we're ready.\n",
       "        channel.send({})\n",
       "        if (message.buffers) {\n",
       "          for (const buffer of message.buffers) {\n",
       "            buffers.push(buffer);\n",
       "            downloaded += buffer.byteLength;\n",
       "            progress.value = downloaded;\n",
       "          }\n",
       "        }\n",
       "      }\n",
       "      const blob = new Blob(buffers, {type: 'application/binary'});\n",
       "      const a = document.createElement('a');\n",
       "      a.href = window.URL.createObjectURL(blob);\n",
       "      a.download = filename;\n",
       "      div.appendChild(a);\n",
       "      a.click();\n",
       "      div.remove();\n",
       "    }\n",
       "  "
      ],
      "text/plain": [
       "<IPython.core.display.Javascript object>"
      ]
     },
     "metadata": {}
    },
    {
     "output_type": "display_data",
     "data": {
      "application/javascript": [
       "download(\"download_b1d60110-9ecf-41c6-985b-f14ea85c5552\", \"logs.zip\", 194801)"
      ],
      "text/plain": [
       "<IPython.core.display.Javascript object>"
      ]
     },
     "metadata": {}
    }
   ]
  }
 ]
}