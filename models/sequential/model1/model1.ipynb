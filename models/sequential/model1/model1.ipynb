{
 "nbformat": 4,
 "nbformat_minor": 0,
 "metadata": {
  "kernelspec": {
   "display_name": "Python 3",
   "language": "python",
   "name": "python3"
  },
  "language_info": {
   "codemirror_mode": {
    "name": "ipython",
    "version": 2
   },
   "file_extension": ".py",
   "mimetype": "text/x-python",
   "name": "python",
   "nbconvert_exporter": "python",
   "pygments_lexer": "ipython2",
   "version": "2.7.6"
  },
  "colab": {
   "name": "model1.ipynb",
   "provenance": [],
   "collapsed_sections": []
  }
 },
 "cells": [
  {
   "cell_type": "code",
   "metadata": {
    "id": "FBGMX2iE87o7"
   },
   "source": [
    "# from google.colab import drive\n",
    "# drive.mount('/content/drive', force_remount=True)\n",
    "#"
   ],
   "execution_count": null,
   "outputs": []
  },
  {
   "cell_type": "code",
   "metadata": {
    "id": "QjBzZQLO9A6b"
   },
   "source": [
    "# !cp '/content/drive/MyDrive/spectrograms.zip' ."
   ],
   "execution_count": null,
   "outputs": []
  },
  {
   "cell_type": "code",
   "metadata": {
    "id": "1Gm_dvHm-c-t"
   },
   "source": [
    "# !unzip -q spectrograms.zip\n",
    "#"
   ],
   "execution_count": null,
   "outputs": []
  },
  {
   "cell_type": "code",
   "metadata": {
    "id": "uRg8Jcd4d0uU"
   },
   "source": [
    "# # !pip list\n",
    "#"
   ],
   "execution_count": null,
   "outputs": []
  },
  {
   "cell_type": "code",
   "metadata": {
    "id": "tJaFtYtmK2QN"
   },
   "source": [
    "# !rm -r /content/logs"
   ],
   "execution_count": null,
   "outputs": []
  },
  {
   "cell_type": "code",
   "metadata": {
    "pycharm": {
     "name": "#%%\n"
    },
    "id": "y6UkqZY085Tn"
   },
   "source": [
    "import keras.callbacks\n",
    "import tensorflow as tf\n",
    "import numpy as np\n",
    "from sklearn.preprocessing import StandardScaler\n",
    "import matplotlib.pyplot as plt\n",
    "from tensorflow.keras.utils import Sequence\n",
    "import math\n",
    "import pandas as pd\n",
    "import random\n",
    "from tensorflow.keras import models, layers, callbacks, activations\n",
    "\n",
    "import librosa\n",
    "import librosa.display\n",
    "\n",
    "import warnings\n",
    "\n",
    "import pickle\n",
    "\n",
    "AUTOTUNE = tf.data.AUTOTUNE\n",
    "\n",
    "# tf.config.run_functions_eagerly(True)"
   ],
   "execution_count": null,
   "outputs": []
  },
  {
   "cell_type": "code",
   "metadata": {
    "collapsed": true,
    "id": "SmkFFn7Q85Tr"
   },
   "source": [
    "SAMPLE_RATE = 24000\n",
    "FREQ_SIZE = 188\n",
    "SECONDS = 4\n",
    "\n",
    "N_MFCC = 100\n",
    "\n",
    "BATCH_SIZE_TRAIN = 1\n",
    "BATCH_SIZE_TEST = 1\n",
    "BATCH_SIZE_VAL = 1\n",
    "EPOCHS = 25\n",
    "\n",
    "NUM_TRAIN = 10\n",
    "\n",
    "STEPS_PER_EPOCH = NUM_TRAIN // BATCH_SIZE_TRAIN\n",
    "\n",
    "NUM_LANGUAGES = 1\n",
    "LANGUAGES = ['EN']\n",
    "\n",
    "LOG_DIR = \"/content/logs/model\" + str(NUM_LANGUAGES) + \"-\"\n",
    "\n",
    "SEED = 0\n",
    "tf.random.set_seed(SEED)\n",
    "np.random.seed(SEED)\n",
    "\n",
    "LEARNING_RATE = 0.001"
   ],
   "execution_count": null,
   "outputs": []
  },
  {
   "cell_type": "code",
   "metadata": {
    "id": "3i2so4138Y8K"
   },
   "source": [
    "BASE_DIR_EN = '/content/spectrograms/en/clips/'\n",
    "TRAIN_PATH_EN = '/content/spectrograms/en/trainleft3.tsv'\n",
    "TEST_PATH_EN = '/content/spectrograms/en/testleft3.tsv'\n",
    "VAL_PATH_EN = '/content/spectrograms/en/valleft3.tsv'\n",
    "\n",
    "NUM_TRAIN_EN = NUM_TRAIN\n",
    "NUM_VAL_EN = 1\n",
    "NUM_TEST_EN = 250\n",
    "\n",
    "LABELS_EN = ['zero','one','two','three','four','five','six','seven','eight','nine','ten','Hey','yes','no','Firefox']\n",
    "NUM_LABELS_EN = len(LABELS_EN)"
   ],
   "execution_count": null,
   "outputs": []
  },
  {
   "cell_type": "code",
   "metadata": {
    "pycharm": {
     "name": "#%%\n"
    },
    "id": "UAgyKnOC85Ts"
   },
   "source": [
    "def padaudio(waveform):\n",
    "    if (len(waveform) >= SAMPLE_RATE * SECONDS):\n",
    "        return waveform\n",
    "    else:\n",
    "        return np.pad(waveform,(0,SAMPLE_RATE * SECONDS - len(waveform)),mode='constant', constant_values=(0,0))\n",
    "\n",
    "# def processdata(file):\n",
    "#     waveform,sample_rate = librosa.load(file, SAMPLE_RATE)\n",
    "#     waveform = padaudio(waveform)\n",
    "#     mfccs = librosa.feature.mfcc(waveform,sr=sample_rate,n_mfcc=N_MFCC)\n",
    "#     mfccs = np.moveaxis(mfccs,1,0)\n",
    "#     scaler = StandardScaler()\n",
    "#     mfccs_scaled = scaler.fit_transform(mfccs)\n",
    "#     return mfccs_scaled.reshape(mfccs_scaled.shape[0], mfccs_scaled.shape[1],1)\n",
    "\n",
    "def processdata(file):\n",
    "  filename = file.split(\".\")[0] + '.pkl'\n",
    "  with open(filename,'rb') as f:\n",
    "    spectrogram = pickle.load(f)\n",
    "\n",
    "  return spectrogram"
   ],
   "execution_count": null,
   "outputs": []
  },
  {
   "cell_type": "code",
   "metadata": {
    "pycharm": {
     "name": "#%%\n"
    },
    "id": "Wd1vyGP585Tt"
   },
   "source": [
    "def getlabel(onehot,labels):\n",
    "    index = np.argmax(onehot)\n",
    "    label = labels[index]\n",
    "    return label\n",
    "\n",
    "def getonehot(label,labels):\n",
    "    onehot = np.array([1 if x == label else 0 for x in labels])\n",
    "    return onehot"
   ],
   "execution_count": null,
   "outputs": []
  },
  {
   "cell_type": "code",
   "metadata": {
    "pycharm": {
     "name": "#%%\n"
    },
    "id": "CvKOaLpA85Tt"
   },
   "source": [
    "def getdata(df,base_dir):\n",
    "    df['fullpath'] = base_dir + df['path']\n",
    "    inputs = df['fullpath'].tolist()\n",
    "    labels = df['sentence'].tolist()\n",
    "    x = np.array(inputs)\n",
    "    y = np.array(labels)\n",
    "    return x,y"
   ],
   "execution_count": null,
   "outputs": []
  },
  {
   "cell_type": "code",
   "metadata": {
    "pycharm": {
     "name": "#%%\n"
    },
    "id": "vdTuxSsg85Tu",
    "colab": {
     "base_uri": "https://localhost:8080/"
    },
    "executionInfo": {
     "status": "ok",
     "timestamp": 1638826968002,
     "user_tz": 300,
     "elapsed": 10,
     "user": {
      "displayName": "Andrew Ning",
      "photoUrl": "https://lh3.googleusercontent.com/a-/AOh14GgyUiXynCeybWnGTpfHnOSTarAoJjvj-8rK8oxkzQ=s64",
      "userId": "04097743773373129918"
     }
    },
    "outputId": "63968f1e-ea50-4f62-c9e5-fa0bc80ac2a4"
   },
   "source": [
    "dftrainEN = pd.read_csv(TRAIN_PATH_EN, sep='\\t', header=0)\n",
    "dftrainEN.sort_values(by='length',ascending=False,inplace=True)\n",
    "trainxEN,trainyEN, = getdata(dftrainEN.head(NUM_TRAIN_EN), BASE_DIR_EN)\n",
    "\n",
    "dfvalEN = pd.read_csv(VAL_PATH_EN, sep='\\t', header=0)\n",
    "dfvalEN.sort_values(by='length',ascending=False,inplace=True)\n",
    "valxEN,valyEN, = getdata(dfvalEN.head(NUM_VAL_EN), BASE_DIR_EN)\n",
    "\n",
    "dftestEN = pd.read_csv(TEST_PATH_EN, sep='\\t', header=0)\n",
    "dftestEN.sort_values(by='length',ascending=False,inplace=True)\n",
    "testxEN,testyEN, = getdata(dftestEN.head(NUM_TEST_EN), BASE_DIR_EN)"
   ],
   "execution_count": null,
   "outputs": [
    {
     "output_type": "stream",
     "name": "stderr",
     "text": [
      "/usr/local/lib/python3.7/dist-packages/ipykernel_launcher.py:2: SettingWithCopyWarning: \n",
      "A value is trying to be set on a copy of a slice from a DataFrame.\n",
      "Try using .loc[row_indexer,col_indexer] = value instead\n",
      "\n",
      "See the caveats in the documentation: https://pandas.pydata.org/pandas-docs/stable/user_guide/indexing.html#returning-a-view-versus-a-copy\n",
      "  \n"
     ]
    }
   ]
  },
  {
   "cell_type": "code",
   "metadata": {
    "pycharm": {
     "name": "#%%\n"
    },
    "id": "IXRZtWYf85Tv"
   },
   "source": [
    "def maketraingenerator(trainxs, trainys):\n",
    "    def traingenerator():\n",
    "        for i in range(len(trainxEN)):\n",
    "            xs = []\n",
    "            ys = []\n",
    "\n",
    "            for trainx,trainy in zip(trainxs,trainys):\n",
    "                with warnings.catch_warnings():\n",
    "                    warnings.simplefilter(\"ignore\")\n",
    "                    xs.append(processdata(trainx[i]))\n",
    "                ys.append(getonehot(trainy[0][i],trainy[1]))\n",
    "\n",
    "            xst = tuple(xs)\n",
    "            yst = tuple(ys)\n",
    "            yield xst,yst\n",
    "    return traingenerator\n",
    "\n",
    "xtypes = tuple([tf.float32]*NUM_LANGUAGES)\n",
    "ytypes = tuple([tf.int32]*NUM_LANGUAGES)\n",
    "traingentypes = (xtypes,ytypes)\n",
    "\n",
    "xshapes = tuple([[FREQ_SIZE,N_MFCC,1] for i in range(NUM_LANGUAGES)])\n",
    "yshapes = tuple([[15] for i in range(NUM_LANGUAGES)])\n",
    "traingenshapes = (xshapes,yshapes)"
   ],
   "execution_count": null,
   "outputs": []
  },
  {
   "cell_type": "code",
   "metadata": {
    "id": "40szilg8_TG6"
   },
   "source": [
    "def makevalgenerator(trainxs, trainys):\n",
    "    def traingenerator():\n",
    "        for i in range(len(valxEN)):\n",
    "            xs = []\n",
    "            ys = []\n",
    "\n",
    "            for trainx,trainy in zip(trainxs,trainys):\n",
    "                with warnings.catch_warnings():\n",
    "                    warnings.simplefilter(\"ignore\")\n",
    "                    xs.append(processdata(trainx[i]))\n",
    "                ys.append(getonehot(trainy[0][i],trainy[1]))\n",
    "\n",
    "            xst = tuple(xs)\n",
    "            yst = tuple(ys)\n",
    "            yield xst,yst\n",
    "    return traingenerator"
   ],
   "execution_count": null,
   "outputs": []
  },
  {
   "cell_type": "code",
   "metadata": {
    "pycharm": {
     "name": "#%%\n"
    },
    "id": "gb0sxUFY85Tw"
   },
   "source": [
    "trainxs = [trainxEN,trainxFR]\n",
    "trainys = [[trainyEN,LABELS_EN],[trainyFR,LABELS_FR]]\n",
    "\n",
    "valxs = [valxEN,valxFR]\n",
    "valys = [[valyEN,LABELS_EN],[valyFR,LABELS_FR]]"
   ],
   "execution_count": null,
   "outputs": []
  },
  {
   "cell_type": "code",
   "metadata": {
    "id": "SuvKKqKMs0kK"
   },
   "source": [
    "# print(trainxEN[100])"
   ],
   "execution_count": null,
   "outputs": []
  },
  {
   "cell_type": "code",
   "metadata": {
    "pycharm": {
     "name": "#%%\n"
    },
    "id": "k0QV3oAw85Tx"
   },
   "source": [
    "def maketestgenerator(testx,testy,labels):\n",
    "    def testgenerator():\n",
    "        for i in range(len(testx)):\n",
    "            x = processdata(testx[i])\n",
    "            y = getonehot(testy[i],labels)\n",
    "            yield x,y\n",
    "    return testgenerator\n",
    "\n",
    "testgentypes = (tf.float32,tf.int32)\n",
    "testgenshapes = ([FREQ_SIZE,N_MFCC,1],[15])"
   ],
   "execution_count": null,
   "outputs": []
  },
  {
   "cell_type": "code",
   "metadata": {
    "pycharm": {
     "name": "#%%\n"
    },
    "id": "5sgBUQOu85Tx"
   },
   "source": [
    "traindataset = tf.data.Dataset.from_generator(maketraingenerator(trainxs,trainys),output_types=traingentypes,output_shapes=traingenshapes)\n",
    "traindataset = traindataset.shuffle(NUM_TRAIN_EN)\n",
    "traindataset = traindataset.batch(BATCH_SIZE_TRAIN)\n",
    "traindataset = traindataset.repeat(-1)\n",
    "traindataset = traindataset.cache().prefetch(AUTOTUNE)\n",
    "\n",
    "valdataset = tf.data.Dataset.from_generator(makevalgenerator(valxs,valys),output_types=traingentypes,output_shapes=traingenshapes)\n",
    "valdataset = valdataset.batch(BATCH_SIZE_VAL)\n",
    "valdataset = valdataset.cache().prefetch(AUTOTUNE)\n",
    "\n",
    "testdatasetEN = tf.data.Dataset.from_generator(maketestgenerator(testxEN,testyEN,LABELS_EN),output_types=testgentypes,output_shapes=testgenshapes)\n",
    "testdatasetEN = testdatasetEN.batch(BATCH_SIZE_TEST)"
   ],
   "execution_count": null,
   "outputs": []
  },
  {
   "cell_type": "code",
   "metadata": {
    "id": "zXLxNEpWJeqc"
   },
   "source": [
    "# print(trainxs)"
   ],
   "execution_count": null,
   "outputs": []
  },
  {
   "cell_type": "code",
   "metadata": {
    "pycharm": {
     "name": "#%%\n"
    },
    "id": "2BeWG7Df85Ty"
   },
   "source": [
    "# traingen = maketraingenerator(trainxs,trainys)\n",
    "# print(next(traingen()))\n",
    "\n",
    "# print(traingentypes)\n",
    "# print(traingenshapes)"
   ],
   "execution_count": null,
   "outputs": []
  },
  {
   "cell_type": "code",
   "metadata": {
    "pycharm": {
     "name": "#%%\n"
    },
    "id": "9KmIBbT285Ty"
   },
   "source": [
    "def languagelayers(num_labels,language):\n",
    "        lang = models.Sequential([\n",
    "        layers.Conv2D(filters=128, kernel_size=(3,3), strides=(2,2), padding='same', activation=activations.relu, name=language+'_Conv2D1'),\n",
    "        layers.MaxPooling2D(pool_size=(2,2), strides=(2,2), name=language+'_MaxPool2D1'),\n",
    "        # layers.Conv2D(filters=512, kernel_size=(3,3), padding='same', activation=activations.relu, name=language+'_Conv2D2'),\n",
    "        # layers.MaxPooling2D(pool_size=(3,3), strides=(2,2), name=language+'_MaxPool2D2'),\n",
    "        layers.Flatten(),\n",
    "        layers.Dropout(0.5),\n",
    "        layers.Dense(256, activation=activations.relu, name=language+'_DenseLayer1'),\n",
    "        layers.Dropout(0.5),\n",
    "        layers.Dense(num_labels, activation=activations.softmax, name=language+'_Output')\n",
    "        ],\n",
    "        name=language)\n",
    "\n",
    "        return lang"
   ],
   "execution_count": null,
   "outputs": []
  },
  {
   "cell_type": "code",
   "metadata": {
    "pycharm": {
     "name": "#%%\n"
    },
    "id": "kSoyQRYb85Ty",
    "colab": {
     "base_uri": "https://localhost:8080/",
     "height": 1000
    },
    "executionInfo": {
     "status": "ok",
     "timestamp": 1638826969300,
     "user_tz": 300,
     "elapsed": 915,
     "user": {
      "displayName": "Andrew Ning",
      "photoUrl": "https://lh3.googleusercontent.com/a-/AOh14GgyUiXynCeybWnGTpfHnOSTarAoJjvj-8rK8oxkzQ=s64",
      "userId": "04097743773373129918"
     }
    },
    "outputId": "71f55fa0-7735-4f9e-c1ce-b0f0044d0efc"
   },
   "source": [
    "inputEN = tf.keras.Input(shape=(FREQ_SIZE,N_MFCC,1),name='English_Input')\n",
    "inputFR = tf.keras.Input(shape=(FREQ_SIZE,N_MFCC,1),name='French_Input')\n",
    "\n",
    "shared = models.Sequential([\n",
    "    layers.Conv2D(filters=32, kernel_size=(9,9), strides=(3,3), padding='same', activation=activations.relu, name='Shared_Conv2D1'),\n",
    "    layers.MaxPooling2D(pool_size=(3,3), strides=(1,1), name='Shared_MaxPool2D1'),\n",
    "    layers.Conv2D(filters=64, kernel_size=(5,5), strides=(2,2), padding='same', activation=activations.relu, name='Shared_Conv2D2'),\n",
    "    layers.MaxPooling2D(pool_size=(2,2), strides=(1,1), name='Shared_MaxPool2D2'),\n",
    "    layers.Conv2D(filters=128, kernel_size=(5,5), strides=(2,2), padding='same', activation=activations.relu, name='Shared_Conv2D3'),\n",
    "    layers.MaxPooling2D(pool_size=(2,2), strides=(1,1), name='Shared_MaxPool2D3')\n",
    "    ],\n",
    "    name='Shared_Layers'\n",
    ")\n",
    "\n",
    "sharedLayersEN = shared(inputEN)\n",
    "sharedLayersFR = shared(inputFR)\n",
    "\n",
    "layersEN = languagelayers(NUM_LABELS_EN,'English')(sharedLayersEN)\n",
    "layersFR = languagelayers(NUM_LABELS_FR,'French')(sharedLayersFR)\n",
    "\n",
    "\n",
    "model = tf.keras.Model(\n",
    "    inputs=[inputEN,inputFR],\n",
    "    outputs=[layersEN,layersFR],\n",
    "    name='Full_Model'\n",
    ")\n",
    "\n",
    "\n",
    "model.summary(expand_nested=True)\n",
    "tf.keras.utils.plot_model(model, expand_nested=True)"
   ],
   "execution_count": null,
   "outputs": [
    {
     "output_type": "stream",
     "name": "stdout",
     "text": [
      "Model: \"Full_Model\"\n",
      "__________________________________________________________________________________________________\n",
      " Layer (type)                   Output Shape         Param #     Connected to                     \n",
      "==================================================================================================\n",
      " English_Input (InputLayer)     [(None, 188, 100, 1  0           []                               \n",
      "                                )]                                                                \n",
      "                                                                                                  \n",
      " French_Input (InputLayer)      [(None, 188, 100, 1  0           []                               \n",
      "                                )]                                                                \n",
      "                                                                                                  \n",
      " Shared_Layers (Sequential)     (None, 14, 7, 128)   258816      ['English_Input[0][0]',          \n",
      "                                                                  'French_Input[0][0]']           \n",
      "|¯¯¯¯¯¯¯¯¯¯¯¯¯¯¯¯¯¯¯¯¯¯¯¯¯¯¯¯¯¯¯¯¯¯¯¯¯¯¯¯¯¯¯¯¯¯¯¯¯¯¯¯¯¯¯¯¯¯¯¯¯¯¯¯¯¯¯¯¯¯¯¯¯¯¯¯¯¯¯¯¯¯¯¯¯¯¯¯¯¯¯¯¯¯¯¯|\n",
      "| Shared_Conv2D1 (Conv2D)      (None, 63, 34, 32)   2624        []                               |\n",
      "|                                                                                                |\n",
      "| Shared_MaxPool2D1 (MaxPooling2  (None, 61, 32, 32)  0         []                               |\n",
      "| D)                                                                                             |\n",
      "|                                                                                                |\n",
      "| Shared_Conv2D2 (Conv2D)      (None, 31, 16, 64)   51264       []                               |\n",
      "|                                                                                                |\n",
      "| Shared_MaxPool2D2 (MaxPooling2  (None, 30, 15, 64)  0         []                               |\n",
      "| D)                                                                                             |\n",
      "|                                                                                                |\n",
      "| Shared_Conv2D3 (Conv2D)      (None, 15, 8, 128)   204928      []                               |\n",
      "|                                                                                                |\n",
      "| Shared_MaxPool2D3 (MaxPooling2  (None, 14, 7, 128)  0         []                               |\n",
      "| D)                                                                                             |\n",
      "¯¯¯¯¯¯¯¯¯¯¯¯¯¯¯¯¯¯¯¯¯¯¯¯¯¯¯¯¯¯¯¯¯¯¯¯¯¯¯¯¯¯¯¯¯¯¯¯¯¯¯¯¯¯¯¯¯¯¯¯¯¯¯¯¯¯¯¯¯¯¯¯¯¯¯¯¯¯¯¯¯¯¯¯¯¯¯¯¯¯¯¯¯¯¯¯¯¯\n",
      " English (Sequential)           (None, 15)           348303      ['Shared_Layers[0][0]']          \n",
      "|¯¯¯¯¯¯¯¯¯¯¯¯¯¯¯¯¯¯¯¯¯¯¯¯¯¯¯¯¯¯¯¯¯¯¯¯¯¯¯¯¯¯¯¯¯¯¯¯¯¯¯¯¯¯¯¯¯¯¯¯¯¯¯¯¯¯¯¯¯¯¯¯¯¯¯¯¯¯¯¯¯¯¯¯¯¯¯¯¯¯¯¯¯¯¯¯|\n",
      "| English_Conv2D1 (Conv2D)     (None, 7, 4, 128)    147584      []                               |\n",
      "|                                                                                                |\n",
      "| English_MaxPool2D1 (MaxPooling  (None, 3, 2, 128)  0          []                               |\n",
      "| 2D)                                                                                            |\n",
      "|                                                                                                |\n",
      "| flatten_2 (Flatten)          (None, 768)          0           []                               |\n",
      "|                                                                                                |\n",
      "| dropout_4 (Dropout)          (None, 768)          0           []                               |\n",
      "|                                                                                                |\n",
      "| English_DenseLayer1 (Dense)  (None, 256)          196864      []                               |\n",
      "|                                                                                                |\n",
      "| dropout_5 (Dropout)          (None, 256)          0           []                               |\n",
      "|                                                                                                |\n",
      "| English_Output (Dense)       (None, 15)           3855        []                               |\n",
      "¯¯¯¯¯¯¯¯¯¯¯¯¯¯¯¯¯¯¯¯¯¯¯¯¯¯¯¯¯¯¯¯¯¯¯¯¯¯¯¯¯¯¯¯¯¯¯¯¯¯¯¯¯¯¯¯¯¯¯¯¯¯¯¯¯¯¯¯¯¯¯¯¯¯¯¯¯¯¯¯¯¯¯¯¯¯¯¯¯¯¯¯¯¯¯¯¯¯\n",
      " French (Sequential)            (None, 15)           348303      ['Shared_Layers[1][0]']          \n",
      "|¯¯¯¯¯¯¯¯¯¯¯¯¯¯¯¯¯¯¯¯¯¯¯¯¯¯¯¯¯¯¯¯¯¯¯¯¯¯¯¯¯¯¯¯¯¯¯¯¯¯¯¯¯¯¯¯¯¯¯¯¯¯¯¯¯¯¯¯¯¯¯¯¯¯¯¯¯¯¯¯¯¯¯¯¯¯¯¯¯¯¯¯¯¯¯¯|\n",
      "| French_Conv2D1 (Conv2D)      (None, 7, 4, 128)    147584      []                               |\n",
      "|                                                                                                |\n",
      "| French_MaxPool2D1 (MaxPooling2  (None, 3, 2, 128)  0          []                               |\n",
      "| D)                                                                                             |\n",
      "|                                                                                                |\n",
      "| flatten_3 (Flatten)          (None, 768)          0           []                               |\n",
      "|                                                                                                |\n",
      "| dropout_6 (Dropout)          (None, 768)          0           []                               |\n",
      "|                                                                                                |\n",
      "| French_DenseLayer1 (Dense)   (None, 256)          196864      []                               |\n",
      "|                                                                                                |\n",
      "| dropout_7 (Dropout)          (None, 256)          0           []                               |\n",
      "|                                                                                                |\n",
      "| French_Output (Dense)        (None, 15)           3855        []                               |\n",
      "¯¯¯¯¯¯¯¯¯¯¯¯¯¯¯¯¯¯¯¯¯¯¯¯¯¯¯¯¯¯¯¯¯¯¯¯¯¯¯¯¯¯¯¯¯¯¯¯¯¯¯¯¯¯¯¯¯¯¯¯¯¯¯¯¯¯¯¯¯¯¯¯¯¯¯¯¯¯¯¯¯¯¯¯¯¯¯¯¯¯¯¯¯¯¯¯¯¯\n",
      "==================================================================================================\n",
      "Total params: 955,422\n",
      "Trainable params: 955,422\n",
      "Non-trainable params: 0\n",
      "__________________________________________________________________________________________________\n"
     ]
    },
    {
     "output_type": "execute_result",
     "data": {
      "image/png": "[encoded data removed]",
      "text/plain": [
       "<IPython.core.display.Image object>"
      ]
     },
     "metadata": {},
     "execution_count": 49
    }
   ]
  },
  {
   "cell_type": "code",
   "metadata": {
    "pycharm": {
     "name": "#%%\n"
    },
    "id": "uvjPm55685Tz"
   },
   "source": [
    "model.compile(\n",
    "    optimizer = tf.keras.optimizers.Adam(learning_rate=LEARNING_RATE),\n",
    "    loss=[tf.keras.losses.CategoricalCrossentropy(),tf.keras.losses.CategoricalCrossentropy()],\n",
    "    metrics=[tf.keras.metrics.CategoricalAccuracy(name='Categorical_Accuracy'), tf.keras.metrics.AUC(name='AUC')]\n",
    ")"
   ],
   "execution_count": null,
   "outputs": []
  },
  {
   "cell_type": "code",
   "metadata": {
    "pycharm": {
     "name": "#%%\n"
    },
    "id": "5YAH8cIR85Tz"
   },
   "source": [
    "RUN = '1'\n",
    "\n",
    "training_callback = callbacks.TensorBoard(log_dir=LOG_DIR + RUN)\n",
    "reduce_lr_callback = callbacks.ReduceLROnPlateau(monitor='val_loss', factor=0.2, patience=3,min_lr=1e-5,verbose=1)\n",
    "earlystopping_callback = tf.keras.callbacks.EarlyStopping(monitor='val_loss', patience=5)"
   ],
   "execution_count": null,
   "outputs": []
  },
  {
   "cell_type": "code",
   "metadata": {
    "id": "qm15HqLnLXFH"
   },
   "source": [
    "# model.predict(testdatasetEN)"
   ],
   "execution_count": null,
   "outputs": []
  },
  {
   "cell_type": "code",
   "metadata": {
    "pycharm": {
     "name": "#%%\n",
     "is_executing": true
    },
    "id": "Zjfl1oxd85Tz",
    "colab": {
     "base_uri": "https://localhost:8080/"
    },
    "executionInfo": {
     "status": "ok",
     "timestamp": 1638828012966,
     "user_tz": 300,
     "elapsed": 1043684,
     "user": {
      "displayName": "Andrew Ning",
      "photoUrl": "https://lh3.googleusercontent.com/a-/AOh14GgyUiXynCeybWnGTpfHnOSTarAoJjvj-8rK8oxkzQ=s64",
      "userId": "04097743773373129918"
     }
    },
    "outputId": "f91df29d-6234-473d-f07f-527a7148cb01"
   },
   "source": [
    "history = model.fit(\n",
    "    x = traindataset,\n",
    "    validation_data = valdataset,\n",
    "    epochs=EPOCHS,\n",
    "    steps_per_epoch=STEPS_PER_EPOCH,\n",
    "    callbacks=[training_callback,earlystopping_callback,reduce_lr_callback],\n",
    "    verbose=1\n",
    ")\n"
   ],
   "execution_count": null,
   "outputs": [
    {
     "output_type": "stream",
     "name": "stdout",
     "text": [
      "Epoch 1/25\n",
      "15/15 [==============================] - 43s 3s/step - loss: 5.4017 - English_loss: 2.6985 - French_loss: 2.7032 - English_Categorical_Accuracy: 0.1053 - English_AUC: 0.5491 - French_Categorical_Accuracy: 0.0733 - French_AUC: 0.5312 - val_loss: 5.3884 - val_English_loss: 2.6961 - val_French_loss: 2.6923 - val_English_Categorical_Accuracy: 0.0600 - val_English_AUC: 0.5196 - val_French_Categorical_Accuracy: 0.0400 - val_French_AUC: 0.4658 - lr: 0.0010\n",
      "Epoch 2/25\n",
      "15/15 [==============================] - 39s 3s/step - loss: 5.3483 - English_loss: 2.6745 - French_loss: 2.6738 - English_Categorical_Accuracy: 0.1133 - English_AUC: 0.5575 - French_Categorical_Accuracy: 0.0787 - French_AUC: 0.5470 - val_loss: 5.3631 - val_English_loss: 2.6856 - val_French_loss: 2.6775 - val_English_Categorical_Accuracy: 0.0600 - val_English_AUC: 0.5121 - val_French_Categorical_Accuracy: 0.0400 - val_French_AUC: 0.4972 - lr: 0.0010\n",
      "Epoch 3/25\n",
      "15/15 [==============================] - 39s 3s/step - loss: 5.3224 - English_loss: 2.6526 - French_loss: 2.6698 - English_Categorical_Accuracy: 0.1187 - English_AUC: 0.5694 - French_Categorical_Accuracy: 0.0673 - French_AUC: 0.5378 - val_loss: 5.3204 - val_English_loss: 2.6606 - val_French_loss: 2.6598 - val_English_Categorical_Accuracy: 0.0600 - val_English_AUC: 0.5811 - val_French_Categorical_Accuracy: 0.0800 - val_French_AUC: 0.5343 - lr: 0.0010\n",
      "Epoch 4/25\n",
      "15/15 [==============================] - 40s 3s/step - loss: 5.3113 - English_loss: 2.6464 - French_loss: 2.6649 - English_Categorical_Accuracy: 0.1180 - English_AUC: 0.5739 - French_Categorical_Accuracy: 0.0713 - French_AUC: 0.5395 - val_loss: 5.3114 - val_English_loss: 2.6549 - val_French_loss: 2.6565 - val_English_Categorical_Accuracy: 0.0600 - val_English_AUC: 0.5568 - val_French_Categorical_Accuracy: 0.0600 - val_French_AUC: 0.5270 - lr: 0.0010\n",
      "Epoch 5/25\n",
      "15/15 [==============================] - 39s 3s/step - loss: 5.2994 - English_loss: 2.6368 - French_loss: 2.6626 - English_Categorical_Accuracy: 0.1180 - English_AUC: 0.5852 - French_Categorical_Accuracy: 0.0640 - French_AUC: 0.5412 - val_loss: 5.3111 - val_English_loss: 2.6584 - val_French_loss: 2.6527 - val_English_Categorical_Accuracy: 0.0600 - val_English_AUC: 0.5743 - val_French_Categorical_Accuracy: 0.0400 - val_French_AUC: 0.5484 - lr: 0.0010\n",
      "Epoch 6/25\n",
      "15/15 [==============================] - 40s 3s/step - loss: 5.2726 - English_loss: 2.6318 - French_loss: 2.6408 - English_Categorical_Accuracy: 0.1167 - English_AUC: 0.5871 - French_Categorical_Accuracy: 0.0853 - French_AUC: 0.5727 - val_loss: 5.3203 - val_English_loss: 2.6774 - val_French_loss: 2.6428 - val_English_Categorical_Accuracy: 0.0600 - val_English_AUC: 0.5467 - val_French_Categorical_Accuracy: 0.1000 - val_French_AUC: 0.5774 - lr: 0.0010\n",
      "Epoch 7/25\n",
      "15/15 [==============================] - 40s 3s/step - loss: 5.2566 - English_loss: 2.6270 - French_loss: 2.6296 - English_Categorical_Accuracy: 0.1240 - English_AUC: 0.5851 - French_Categorical_Accuracy: 0.0953 - French_AUC: 0.5807 - val_loss: 5.3177 - val_English_loss: 2.6646 - val_French_loss: 2.6531 - val_English_Categorical_Accuracy: 0.0600 - val_English_AUC: 0.5348 - val_French_Categorical_Accuracy: 0.0800 - val_French_AUC: 0.5761 - lr: 0.0010\n",
      "Epoch 8/25\n",
      "15/15 [==============================] - 39s 3s/step - loss: 5.2111 - English_loss: 2.6176 - French_loss: 2.5935 - English_Categorical_Accuracy: 0.1380 - English_AUC: 0.5909 - French_Categorical_Accuracy: 0.1027 - French_AUC: 0.6186 - val_loss: 5.2906 - val_English_loss: 2.6393 - val_French_loss: 2.6512 - val_English_Categorical_Accuracy: 0.0800 - val_English_AUC: 0.5545 - val_French_Categorical_Accuracy: 0.1000 - val_French_AUC: 0.6127 - lr: 0.0010\n",
      "Epoch 9/25\n",
      "15/15 [==============================] - 40s 3s/step - loss: 5.1316 - English_loss: 2.5769 - French_loss: 2.5547 - English_Categorical_Accuracy: 0.1400 - English_AUC: 0.6321 - French_Categorical_Accuracy: 0.1153 - French_AUC: 0.6535 - val_loss: 5.1623 - val_English_loss: 2.5521 - val_French_loss: 2.6101 - val_English_Categorical_Accuracy: 0.1800 - val_English_AUC: 0.6797 - val_French_Categorical_Accuracy: 0.1000 - val_French_AUC: 0.6552 - lr: 0.0010\n",
      "Epoch 10/25\n",
      "15/15 [==============================] - 40s 3s/step - loss: 4.9260 - English_loss: 2.4672 - French_loss: 2.4588 - English_Categorical_Accuracy: 0.1807 - English_AUC: 0.6977 - French_Categorical_Accuracy: 0.1427 - French_AUC: 0.7066 - val_loss: 4.9162 - val_English_loss: 2.4168 - val_French_loss: 2.4993 - val_English_Categorical_Accuracy: 0.2000 - val_English_AUC: 0.7509 - val_French_Categorical_Accuracy: 0.1800 - val_French_AUC: 0.7108 - lr: 0.0010\n",
      "Epoch 11/25\n",
      "15/15 [==============================] - 40s 3s/step - loss: 4.6781 - English_loss: 2.3294 - French_loss: 2.3487 - English_Categorical_Accuracy: 0.2167 - English_AUC: 0.7537 - French_Categorical_Accuracy: 0.1727 - French_AUC: 0.7498 - val_loss: 4.6544 - val_English_loss: 2.2689 - val_French_loss: 2.3855 - val_English_Categorical_Accuracy: 0.2400 - val_English_AUC: 0.7798 - val_French_Categorical_Accuracy: 0.3000 - val_French_AUC: 0.7522 - lr: 0.0010\n",
      "Epoch 12/25\n",
      "15/15 [==============================] - 39s 3s/step - loss: 4.4392 - English_loss: 2.2064 - French_loss: 2.2328 - English_Categorical_Accuracy: 0.2380 - English_AUC: 0.7868 - French_Categorical_Accuracy: 0.2020 - French_AUC: 0.7847 - val_loss: 4.4029 - val_English_loss: 2.1525 - val_French_loss: 2.2505 - val_English_Categorical_Accuracy: 0.3000 - val_English_AUC: 0.8046 - val_French_Categorical_Accuracy: 0.2800 - val_French_AUC: 0.7823 - lr: 0.0010\n",
      "Epoch 13/25\n",
      "15/15 [==============================] - 39s 3s/step - loss: 4.1334 - English_loss: 2.0518 - French_loss: 2.0816 - English_Categorical_Accuracy: 0.2680 - English_AUC: 0.8253 - French_Categorical_Accuracy: 0.2520 - French_AUC: 0.8232 - val_loss: 4.2385 - val_English_loss: 2.0770 - val_French_loss: 2.1615 - val_English_Categorical_Accuracy: 0.3200 - val_English_AUC: 0.8093 - val_French_Categorical_Accuracy: 0.2800 - val_French_AUC: 0.7967 - lr: 0.0010\n",
      "Epoch 14/25\n",
      "15/15 [==============================] - 39s 3s/step - loss: 3.8239 - English_loss: 1.8712 - French_loss: 1.9527 - English_Categorical_Accuracy: 0.3367 - English_AUC: 0.8604 - French_Categorical_Accuracy: 0.2713 - French_AUC: 0.8507 - val_loss: 4.0373 - val_English_loss: 1.9433 - val_French_loss: 2.0940 - val_English_Categorical_Accuracy: 0.3200 - val_English_AUC: 0.8413 - val_French_Categorical_Accuracy: 0.3000 - val_French_AUC: 0.8119 - lr: 0.0010\n",
      "Epoch 15/25\n",
      "15/15 [==============================] - 40s 3s/step - loss: 3.6063 - English_loss: 1.7368 - French_loss: 1.8694 - English_Categorical_Accuracy: 0.3833 - English_AUC: 0.8836 - French_Categorical_Accuracy: 0.3027 - French_AUC: 0.8652 - val_loss: 3.9337 - val_English_loss: 1.8757 - val_French_loss: 2.0580 - val_English_Categorical_Accuracy: 0.4200 - val_English_AUC: 0.8567 - val_French_Categorical_Accuracy: 0.3200 - val_French_AUC: 0.8255 - lr: 0.0010\n",
      "Epoch 16/25\n",
      "15/15 [==============================] - 39s 3s/step - loss: 3.4048 - English_loss: 1.6700 - French_loss: 1.7348 - English_Categorical_Accuracy: 0.4080 - English_AUC: 0.8930 - French_Categorical_Accuracy: 0.3447 - French_AUC: 0.8873 - val_loss: 3.9203 - val_English_loss: 1.8729 - val_French_loss: 2.0474 - val_English_Categorical_Accuracy: 0.4200 - val_English_AUC: 0.8573 - val_French_Categorical_Accuracy: 0.3400 - val_French_AUC: 0.8278 - lr: 0.0010\n",
      "Epoch 17/25\n",
      "15/15 [==============================] - 39s 3s/step - loss: 3.2083 - English_loss: 1.5751 - French_loss: 1.6332 - English_Categorical_Accuracy: 0.4220 - English_AUC: 0.9051 - French_Categorical_Accuracy: 0.3933 - French_AUC: 0.9012 - val_loss: 3.8880 - val_English_loss: 1.8814 - val_French_loss: 2.0066 - val_English_Categorical_Accuracy: 0.3400 - val_English_AUC: 0.8560 - val_French_Categorical_Accuracy: 0.3200 - val_French_AUC: 0.8369 - lr: 0.0010\n",
      "Epoch 18/25\n",
      "15/15 [==============================] - 39s 3s/step - loss: 3.0196 - English_loss: 1.4526 - French_loss: 1.5669 - English_Categorical_Accuracy: 0.5000 - English_AUC: 0.9208 - French_Categorical_Accuracy: 0.3880 - French_AUC: 0.9097 - val_loss: 3.7950 - val_English_loss: 1.7774 - val_French_loss: 2.0176 - val_English_Categorical_Accuracy: 0.4600 - val_English_AUC: 0.8658 - val_French_Categorical_Accuracy: 0.3600 - val_French_AUC: 0.8320 - lr: 0.0010\n",
      "Epoch 19/25\n",
      "15/15 [==============================] - 40s 3s/step - loss: 2.8832 - English_loss: 1.3869 - French_loss: 1.4962 - English_Categorical_Accuracy: 0.5127 - English_AUC: 0.9276 - French_Categorical_Accuracy: 0.4140 - French_AUC: 0.9189 - val_loss: 3.6647 - val_English_loss: 1.7335 - val_French_loss: 1.9313 - val_English_Categorical_Accuracy: 0.5600 - val_English_AUC: 0.8856 - val_French_Categorical_Accuracy: 0.3600 - val_French_AUC: 0.8494 - lr: 0.0010\n",
      "Epoch 20/25\n",
      "15/15 [==============================] - 40s 3s/step - loss: 2.7155 - English_loss: 1.3028 - French_loss: 1.4126 - English_Categorical_Accuracy: 0.5467 - English_AUC: 0.9372 - French_Categorical_Accuracy: 0.4580 - French_AUC: 0.9282 - val_loss: 3.5882 - val_English_loss: 1.7010 - val_French_loss: 1.8872 - val_English_Categorical_Accuracy: 0.5400 - val_English_AUC: 0.8875 - val_French_Categorical_Accuracy: 0.3600 - val_French_AUC: 0.8599 - lr: 0.0010\n",
      "Epoch 21/25\n",
      "15/15 [==============================] - 42s 3s/step - loss: 2.5249 - English_loss: 1.1984 - French_loss: 1.3265 - English_Categorical_Accuracy: 0.5527 - English_AUC: 0.9475 - French_Categorical_Accuracy: 0.4873 - French_AUC: 0.9368 - val_loss: 3.6309 - val_English_loss: 1.6368 - val_French_loss: 1.9941 - val_English_Categorical_Accuracy: 0.5000 - val_English_AUC: 0.9001 - val_French_Categorical_Accuracy: 0.3800 - val_French_AUC: 0.8391 - lr: 0.0010\n",
      "Epoch 22/25\n",
      "15/15 [==============================] - 40s 3s/step - loss: 2.4000 - English_loss: 1.1569 - French_loss: 1.2431 - English_Categorical_Accuracy: 0.5880 - English_AUC: 0.9509 - French_Categorical_Accuracy: 0.4987 - French_AUC: 0.9447 - val_loss: 3.3720 - val_English_loss: 1.5566 - val_French_loss: 1.8154 - val_English_Categorical_Accuracy: 0.4000 - val_English_AUC: 0.9017 - val_French_Categorical_Accuracy: 0.4000 - val_French_AUC: 0.8743 - lr: 0.0010\n",
      "Epoch 23/25\n",
      "15/15 [==============================] - 40s 3s/step - loss: 2.2829 - English_loss: 1.0845 - French_loss: 1.1984 - English_Categorical_Accuracy: 0.6147 - English_AUC: 0.9570 - French_Categorical_Accuracy: 0.5260 - French_AUC: 0.9488 - val_loss: 3.3182 - val_English_loss: 1.5223 - val_French_loss: 1.7960 - val_English_Categorical_Accuracy: 0.4800 - val_English_AUC: 0.9142 - val_French_Categorical_Accuracy: 0.4000 - val_French_AUC: 0.8759 - lr: 0.0010\n",
      "Epoch 24/25\n",
      "15/15 [==============================] - 40s 3s/step - loss: 2.1318 - English_loss: 1.0255 - French_loss: 1.1063 - English_Categorical_Accuracy: 0.6367 - English_AUC: 0.9615 - French_Categorical_Accuracy: 0.5773 - French_AUC: 0.9554 - val_loss: 3.5235 - val_English_loss: 1.6285 - val_French_loss: 1.8950 - val_English_Categorical_Accuracy: 0.5200 - val_English_AUC: 0.8997 - val_French_Categorical_Accuracy: 0.4000 - val_French_AUC: 0.8691 - lr: 0.0010\n",
      "Epoch 25/25\n",
      "15/15 [==============================] - 41s 3s/step - loss: 1.9763 - English_loss: 0.9309 - French_loss: 1.0454 - English_Categorical_Accuracy: 0.6627 - English_AUC: 0.9678 - French_Categorical_Accuracy: 0.6000 - French_AUC: 0.9605 - val_loss: 3.3280 - val_English_loss: 1.5006 - val_French_loss: 1.8274 - val_English_Categorical_Accuracy: 0.5200 - val_English_AUC: 0.9148 - val_French_Categorical_Accuracy: 0.4000 - val_French_AUC: 0.8763 - lr: 0.0010\n"
     ]
    }
   ]
  },
  {
   "cell_type": "code",
   "metadata": {
    "id": "jJQx86OxYNCK"
   },
   "source": [
    "history2 = model.fit(\n",
    "    x = traindataset,\n",
    "    validation_data = valdataset,\n",
    "    epochs=EPOCHS,\n",
    "    steps_per_epoch=STEPS_PER_EPOCH,\n",
    "    callbacks=[training_callback,earlystopping_callback,reduce_lr_callback],\n",
    "    verbose=1\n",
    ")"
   ],
   "execution_count": null,
   "outputs": []
  },
  {
   "cell_type": "code",
   "metadata": {
    "pycharm": {
     "name": "#%%\n",
     "is_executing": true
    },
    "id": "B7swrdTI85T0",
    "colab": {
     "base_uri": "https://localhost:8080/"
    },
    "executionInfo": {
     "status": "ok",
     "timestamp": 1638828341183,
     "user_tz": 300,
     "elapsed": 849,
     "user": {
      "displayName": "Andrew Ning",
      "photoUrl": "https://lh3.googleusercontent.com/a-/AOh14GgyUiXynCeybWnGTpfHnOSTarAoJjvj-8rK8oxkzQ=s64",
      "userId": "04097743773373129918"
     }
    },
    "outputId": "0aaa2a3d-d0ac-4984-a6ec-3de010dcd4bf"
   },
   "source": [
    "# modelEN = tf.keras.Model(\n",
    "#     inputs=inputEN,\n",
    "#     outputs=layersEN,\n",
    "#     name='ENModel'\n",
    "# )\n",
    "\n",
    "# modelEN.compile(optimizer = tf.keras.optimizers.Adam(),\n",
    "#     loss=tf.keras.losses.CategoricalCrossentropy(),\n",
    "#     metrics=tf.keras.metrics.CategoricalAccuracy(name='Categorical Accuracy'))\n",
    "\n",
    "# modelEN.evaluate(testdatasetEN)"
   ],
   "execution_count": null,
   "outputs": [
    {
     "output_type": "stream",
     "name": "stdout",
     "text": [
      "10/10 [==============================] - 0s 14ms/step - loss: 1.4433 - Categorical Accuracy: 0.6000\n"
     ]
    },
    {
     "output_type": "execute_result",
     "data": {
      "text/plain": [
       "[1.4432828426361084, 0.6000000238418579]"
      ]
     },
     "metadata": {},
     "execution_count": 57
    }
   ]
  },
  {
   "cell_type": "code",
   "metadata": {
    "id": "MD6i-jjLIhLV"
   },
   "source": [
    "# def generator(N=10):\n",
    "#     \"\"\"\n",
    "#     Returns tuple of (inputs,outputs) where\n",
    "#     inputs  = (inp1,inp2,inp2)\n",
    "#     outputs = (out1,out2)\n",
    "#     \"\"\"\n",
    "#     dt=np.float32\n",
    "#     for i in range(N):\n",
    "#         inputs  = (np.random.rand(N,3,3,1).astype(dt),\n",
    "#                    np.random.rand(N,3,3,1).astype(dt),\n",
    "#                    np.random.rand(N,3,3,1).astype(dt))\n",
    "#         outputs = (np.random.rand(N,3,3,1).astype(dt),\n",
    "#                    np.random.rand(N,3,3,1).astype(dt))\n",
    "#         yield inputs,outputs\n",
    "\n",
    "# # Create dataset from generator\n",
    "# types = ( (tf.float32,tf.float32,tf.float32),\n",
    "#           (tf.float32,tf.float32) )\n",
    "# shapes = (([None,3,3,1],[None,3,3,1],[None,3,3,1]),\n",
    "#           ([None,3,3,1],[None,3,3,1]))\n",
    "# data = tf.data.Dataset.from_generator(generator,\n",
    "#                                       output_types=types,\n",
    "#                                       output_shapes=shapes\n",
    "#                                      )\n",
    "# # Define a model\n",
    "# inp1 = tf.keras.Input(shape=(3,3,1),name='inp1')\n",
    "# inp2 = tf.keras.Input(shape=(3,3,1),name='inp2')\n",
    "# inp3 = tf.keras.Input(shape=(3,3,1),name='inp3')\n",
    "# out1 = tf.keras.layers.Conv2D(1,kernel_size=3,padding='same')(inp1)\n",
    "# out2 = tf.keras.layers.Conv2D(1,kernel_size=3,padding='same')(inp2)\n",
    "# model2 = tf.keras.Model(inputs=[inp1,inp2,inp3],outputs=[out1,out2])\n",
    "# model2.compile(loss=['mse','mse'])\n",
    "# # model2.summary()\n",
    "# tf.keras.utils.plot_model(model2, expand_nested=True)\n",
    "# # Train\n",
    "# model2.fit(data)"
   ],
   "execution_count": null,
   "outputs": []
  },
  {
   "cell_type": "code",
   "metadata": {
    "id": "-ENZECOqmito",
    "colab": {
     "base_uri": "https://localhost:8080/",
     "height": 839
    },
    "executionInfo": {
     "status": "ok",
     "timestamp": 1638828012975,
     "user_tz": 300,
     "elapsed": 25,
     "user": {
      "displayName": "Andrew Ning",
      "photoUrl": "https://lh3.googleusercontent.com/a-/AOh14GgyUiXynCeybWnGTpfHnOSTarAoJjvj-8rK8oxkzQ=s64",
      "userId": "04097743773373129918"
     }
    },
    "outputId": "ab51b4bb-34e2-44bd-fce8-bbd820eaecc0"
   },
   "source": [
    "%reload_ext tensorboard\n",
    "%tensorboard --logdir logs"
   ],
   "execution_count": null,
   "outputs": []
  }
 ]
}